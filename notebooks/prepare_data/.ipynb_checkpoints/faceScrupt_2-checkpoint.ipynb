{
 "cells": [
  {
   "cell_type": "code",
   "execution_count": 1,
   "metadata": {
    "collapsed": false
   },
   "outputs": [],
   "source": [
    "%load_ext autoreload\n",
    "%autoreload 2\n",
    "\n",
    "import os\n",
    "os.chdir(\"../../\")\n",
    "\n",
    "%matplotlib notebook\n",
    "import matplotlib.pylab as plt\n",
    "# pylab.rcParams['figure.figsize'] = (10, 5)"
   ]
  },
  {
   "cell_type": "code",
   "execution_count": 2,
   "metadata": {
    "collapsed": true
   },
   "outputs": [],
   "source": [
    "import ld_gan\n",
    "import numpy as np\n",
    "import scipy.misc\n",
    "import ld_gan.utils.utils as ld\n",
    "from tqdm import tqdm"
   ]
  },
  {
   "cell_type": "markdown",
   "metadata": {},
   "source": [
    "# split test train"
   ]
  },
  {
   "cell_type": "code",
   "execution_count": 3,
   "metadata": {
    "collapsed": true
   },
   "outputs": [],
   "source": [
    "fnames = ld.listdir(\"data/faceScrub/imgs_top_aligned/\", \".jpg\", True)"
   ]
  },
  {
   "cell_type": "code",
   "execution_count": 4,
   "metadata": {
    "collapsed": false
   },
   "outputs": [
    {
     "data": {
      "text/plain": [
       "69303"
      ]
     },
     "execution_count": 4,
     "metadata": {},
     "output_type": "execute_result"
    }
   ],
   "source": [
    "len(fnames)"
   ]
  },
  {
   "cell_type": "code",
   "execution_count": 7,
   "metadata": {
    "collapsed": false
   },
   "outputs": [],
   "source": [
    "fname = fnames[0]"
   ]
  },
  {
   "cell_type": "code",
   "execution_count": 11,
   "metadata": {
    "collapsed": false
   },
   "outputs": [
    {
     "data": {
      "text/plain": [
       "'data/faceScrub/imgs_top_aligned/Zooey_Deschanel/Zooey_Deschanel_20874.'"
      ]
     },
     "execution_count": 11,
     "metadata": {},
     "output_type": "execute_result"
    }
   ],
   "source": [
    "fname[:-3]"
   ]
  },
  {
   "cell_type": "code",
   "execution_count": null,
   "metadata": {
    "collapsed": true
   },
   "outputs": [],
   "source": []
  },
  {
   "cell_type": "code",
   "execution_count": 13,
   "metadata": {
    "collapsed": false,
    "scrolled": true
   },
   "outputs": [
    {
     "name": "stderr",
     "output_type": "stream",
     "text": [
      "\n",
      "  0%|          | 0/69303 [00:00<?, ?it/s]\u001b[A\n",
      "  0%|          | 49/69303 [00:00<02:22, 486.58it/s]\u001b[A\n",
      "  0%|          | 138/69303 [00:00<02:06, 548.28it/s]\u001b[A\n",
      "  0%|          | 187/69303 [00:00<02:14, 513.60it/s]\u001b[A\n",
      "  0%|          | 282/69303 [00:00<02:04, 555.14it/s]\u001b[A\n",
      "  0%|          | 329/69303 [00:00<02:46, 415.28it/s]\u001b[A\n",
      "  1%|          | 370/69303 [00:00<03:37, 316.78it/s]\u001b[A\n",
      "  1%|          | 412/69303 [00:00<03:24, 336.15it/s]\u001b[A\n",
      "  1%|          | 456/69303 [00:01<03:16, 350.67it/s]\u001b[A\n",
      "  1%|          | 511/69303 [00:01<02:56, 390.51it/s]\u001b[A\n",
      "  1%|          | 557/69303 [00:01<02:51, 400.41it/s]\u001b[A\n",
      "  1%|          | 623/69303 [00:01<02:36, 439.54it/s]\u001b[A\n",
      "  1%|          | 682/69303 [00:01<02:26, 468.20it/s]\u001b[A\n",
      "  1%|          | 736/69303 [00:01<02:24, 474.76it/s]\u001b[A\n",
      "  1%|          | 790/69303 [00:01<02:26, 467.98it/s]\u001b[A\n",
      "  1%|          | 838/69303 [00:01<02:33, 447.31it/s]\u001b[A\n",
      "  1%|▏         | 902/69303 [00:01<02:25, 470.96it/s]\u001b[A\n",
      "  1%|▏         | 961/69303 [00:02<02:16, 499.55it/s]\u001b[A\n",
      "  1%|▏         | 1013/69303 [00:02<02:16, 501.08it/s]\u001b[A\n",
      "  2%|▏         | 1064/69303 [00:02<02:34, 442.16it/s]\u001b[A\n",
      "  2%|▏         | 1111/69303 [00:02<02:34, 442.60it/s]\u001b[A\n",
      "  2%|▏         | 1157/69303 [00:02<02:44, 413.52it/s]\u001b[A\n",
      "  2%|▏         | 1206/69303 [00:02<02:40, 424.34it/s]\u001b[A\n",
      "  2%|▏         | 1250/69303 [00:02<02:43, 416.55it/s]\u001b[A\n",
      "  2%|▏         | 1293/69303 [00:02<02:57, 382.68it/s]\u001b[A\n",
      "  2%|▏         | 1365/69303 [00:03<02:36, 434.19it/s]\u001b[A\n",
      "  2%|▏         | 1413/69303 [00:03<02:38, 428.28it/s]\u001b[A\n",
      "  2%|▏         | 1469/69303 [00:03<02:33, 441.84it/s]\u001b[A\n",
      "  2%|▏         | 1526/69303 [00:03<02:29, 452.90it/s]\u001b[A\n",
      "  2%|▏         | 1573/69303 [00:03<02:46, 406.66it/s]\u001b[A\n",
      "  2%|▏         | 1617/69303 [00:03<02:51, 393.72it/s]\u001b[A\n",
      "  3%|▎         | 1759/69303 [00:03<02:16, 494.31it/s]\u001b[A\n",
      "  3%|▎         | 1955/69303 [00:03<01:45, 636.87it/s]\u001b[A\n",
      "  3%|▎         | 2158/69303 [00:03<01:24, 798.04it/s]\u001b[A\n",
      "  3%|▎         | 2290/69303 [00:04<01:14, 904.53it/s]\u001b[A\n",
      "  4%|▎         | 2436/69303 [00:04<01:06, 1011.52it/s]\u001b[A\n",
      "  4%|▍         | 2620/69303 [00:04<00:57, 1157.44it/s]\u001b[A\n",
      "  4%|▍         | 2767/69303 [00:04<01:08, 976.65it/s] \u001b[A\n",
      "  4%|▍         | 2891/69303 [00:04<01:37, 682.94it/s]\u001b[A\n",
      "\n",
      "  4%|▍         | 2990/69303 [00:05<01:59, 556.53it/s]\u001b[A\n",
      "  4%|▍         | 3071/69303 [00:05<02:17, 483.12it/s]\u001b[A\n",
      "  5%|▍         | 3139/69303 [00:05<02:28, 445.88it/s]\u001b[A\n",
      "  5%|▍         | 3198/69303 [00:05<03:19, 331.79it/s]\u001b[A\n",
      "  5%|▍         | 3251/69303 [00:05<03:02, 362.35it/s]\u001b[A\n",
      "  5%|▍         | 3298/69303 [00:06<03:20, 329.54it/s]\u001b[A\n",
      "  5%|▍         | 3340/69303 [00:06<03:08, 349.86it/s]\u001b[A\n",
      "  5%|▍         | 3381/69303 [00:06<03:20, 328.24it/s]\u001b[A\n",
      "  5%|▍         | 3434/69303 [00:06<03:13, 340.20it/s]\u001b[A\n",
      "  5%|▌         | 3486/69303 [00:06<03:02, 360.43it/s]\u001b[A\n",
      "  5%|▌         | 3533/69303 [00:06<03:17, 332.67it/s]\u001b[A\n",
      "  5%|▌         | 3574/69303 [00:06<03:09, 346.61it/s]\u001b[A\n",
      "  5%|▌         | 3611/69303 [00:06<03:21, 325.80it/s]\u001b[A\n",
      "  5%|▌         | 3653/69303 [00:07<03:23, 322.36it/s]\u001b[A\n",
      "  5%|▌         | 3705/69303 [00:07<03:01, 361.96it/s]\u001b[A\n",
      "  5%|▌         | 3744/69303 [00:07<02:58, 367.04it/s]\u001b[A\n",
      "  5%|▌         | 3783/69303 [00:07<03:05, 353.71it/s]\u001b[A\n",
      "  6%|▌         | 3840/69303 [00:07<02:51, 382.18it/s]\u001b[A\n",
      "  6%|▌         | 3880/69303 [00:07<02:59, 364.04it/s]\u001b[A\n",
      "  6%|▌         | 3922/69303 [00:07<03:02, 358.98it/s]\u001b[A\n",
      "  6%|▌         | 3963/69303 [00:07<02:55, 372.30it/s]\u001b[A\n",
      "  6%|▌         | 4004/69303 [00:07<02:52, 378.72it/s]\u001b[A\n",
      "  6%|▌         | 4061/69303 [00:08<02:41, 403.06it/s]\u001b[A\n",
      "  6%|▌         | 4108/69303 [00:08<02:43, 398.40it/s]\u001b[A\n",
      "  6%|▌         | 4170/69303 [00:08<02:32, 426.32it/s]\u001b[A\n",
      "  6%|▌         | 4222/69303 [00:08<02:32, 427.69it/s]\u001b[A\n",
      "  6%|▌         | 4284/69303 [00:08<02:24, 450.12it/s]\u001b[A\n",
      "  6%|▋         | 4338/69303 [00:08<02:25, 447.57it/s]\u001b[A\n",
      "  6%|▋         | 4384/69303 [00:08<02:32, 426.15it/s]\u001b[A\n",
      "  6%|▋         | 4428/69303 [00:08<02:39, 406.56it/s]\u001b[A\n",
      "  6%|▋         | 4470/69303 [00:09<02:58, 362.87it/s]\u001b[A\n",
      "  7%|▋         | 4529/69303 [00:09<02:45, 391.99it/s]\u001b[A\n",
      "  7%|▋         | 4578/69303 [00:09<02:43, 394.82it/s]\u001b[A\n",
      "  7%|▋         | 4637/69303 [00:09<02:32, 423.01it/s]\u001b[A\n",
      "  8%|▊         | 5477/69303 [00:09<01:47, 591.41it/s]\u001b[A\n",
      "  9%|▉         | 6476/69303 [00:09<01:16, 823.97it/s]\u001b[A\n",
      " 10%|█         | 6972/69303 [00:09<00:58, 1070.67it/s]\u001b[A\n",
      " 11%|█         | 7426/69303 [00:09<00:48, 1284.31it/s]\u001b[A\n",
      " 12%|█▏        | 8409/69303 [00:10<00:35, 1736.92it/s]\u001b[A\n",
      " 13%|█▎        | 8976/69303 [00:10<00:27, 2183.59it/s]\u001b[A\n",
      " 14%|█▍        | 10025/69303 [00:10<00:21, 2811.32it/s]\u001b[A\n",
      " 15%|█▌        | 10674/69303 [00:10<00:24, 2347.57it/s]\u001b[A\n",
      " 16%|█▌        | 11179/69303 [00:10<00:22, 2626.94it/s]\u001b[A\n",
      " 18%|█▊        | 12493/69303 [00:10<00:16, 3455.88it/s]\u001b[A\n",
      " 19%|█▉        | 13210/69303 [00:10<00:13, 4062.59it/s]\u001b[A\n",
      " 21%|██        | 14326/69303 [00:11<00:10, 5015.14it/s]\u001b[A\n",
      " 22%|██▏       | 15558/69303 [00:11<00:08, 6095.75it/s]\u001b[A\n",
      " 24%|██▍       | 16812/69303 [00:11<00:07, 7197.03it/s]\u001b[A\n",
      " 26%|██▌       | 17849/69303 [00:11<00:06, 7698.41it/s]\u001b[A\n",
      " 27%|██▋       | 18851/69303 [00:11<00:07, 7049.55it/s]\u001b[A\n",
      " 28%|██▊       | 19729/69303 [00:11<00:09, 5093.81it/s]\u001b[A\n",
      " 29%|██▉       | 20437/69303 [00:11<00:09, 5268.05it/s]\u001b[A\n",
      " 31%|███       | 21507/69303 [00:12<00:07, 6205.89it/s]\u001b[A\n",
      " 32%|███▏      | 22293/69303 [00:12<00:07, 6449.68it/s]\u001b[A\n",
      " 33%|███▎      | 23065/69303 [00:12<00:06, 6778.20it/s]\u001b[A\n",
      " 35%|███▌      | 24396/69303 [00:12<00:05, 7938.93it/s]\u001b[A\n",
      " 37%|███▋      | 25429/69303 [00:12<00:05, 8529.64it/s]\u001b[A\n",
      " 38%|███▊      | 26439/69303 [00:12<00:04, 8930.73it/s]\u001b[A\n",
      " 40%|███▉      | 27470/69303 [00:12<00:04, 9304.07it/s]\u001b[A\n",
      " 41%|████      | 28462/69303 [00:12<00:04, 9478.27it/s]\u001b[A\n",
      " 43%|████▎     | 29653/69303 [00:12<00:03, 10093.59it/s]\u001b[A\n",
      " 45%|████▍     | 30955/69303 [00:13<00:03, 10822.78it/s]\u001b[A\n",
      " 47%|████▋     | 32284/69303 [00:13<00:03, 11451.37it/s]\u001b[A\n",
      " 49%|████▊     | 33685/69303 [00:13<00:02, 12110.11it/s]\u001b[A\n",
      " 50%|█████     | 34935/69303 [00:13<00:02, 11912.16it/s]\u001b[A\n",
      " 52%|█████▏    | 36341/69303 [00:13<00:02, 12199.62it/s]\u001b[A\n",
      " 54%|█████▍    | 37583/69303 [00:13<00:02, 12219.12it/s]\u001b[A\n",
      " 57%|█████▋    | 39246/69303 [00:13<00:02, 13259.58it/s]\u001b[A\n",
      " 59%|█████▊    | 40609/69303 [00:13<00:02, 12146.50it/s]\u001b[A\n",
      " 61%|██████    | 42235/69303 [00:13<00:02, 13143.30it/s]\u001b[A\n",
      " 63%|██████▎   | 43811/69303 [00:13<00:01, 13819.00it/s]\u001b[A\n",
      " 65%|██████▌   | 45240/69303 [00:14<00:02, 11926.37it/s]\u001b[A\n",
      " 68%|██████▊   | 46984/69303 [00:14<00:01, 13173.39it/s]\u001b[A\n",
      " 70%|██████▉   | 48450/69303 [00:14<00:01, 13576.38it/s]\u001b[A\n",
      " 72%|███████▏  | 50021/69303 [00:14<00:01, 14151.43it/s]\u001b[A\n",
      " 74%|███████▍  | 51577/69303 [00:14<00:01, 14527.37it/s]\u001b[A\n",
      " 77%|███████▋  | 53071/69303 [00:14<00:01, 13085.09it/s]\u001b[A\n",
      " 79%|███████▊  | 54450/69303 [00:14<00:01, 13267.36it/s]\u001b[A\n",
      " 81%|████████  | 55817/69303 [00:15<00:01, 8632.34it/s] \u001b[A\n",
      " 82%|████████▏ | 56917/69303 [00:15<00:03, 3891.19it/s]\u001b[A\n",
      " 83%|████████▎ | 57738/69303 [00:15<00:02, 4327.04it/s]\u001b[A\n",
      " 84%|████████▍ | 58489/69303 [00:16<00:02, 4297.17it/s]\u001b[A\n",
      " 85%|████████▌ | 59141/69303 [00:16<00:02, 4073.26it/s]\u001b[A\n",
      " 87%|████████▋ | 60432/69303 [00:16<00:01, 5055.92it/s]\u001b[A\n",
      " 88%|████████▊ | 61175/69303 [00:16<00:01, 4900.12it/s]\u001b[A\n",
      " 89%|████████▉ | 61833/69303 [00:16<00:01, 4652.45it/s]\u001b[A\n",
      " 90%|█████████ | 62418/69303 [00:16<00:01, 4919.34it/s]\u001b[A\n",
      " 91%|█████████▏| 63335/69303 [00:16<00:01, 5713.80it/s]\u001b[A\n",
      " 92%|█████████▏| 64016/69303 [00:16<00:01, 5179.33it/s]\u001b[A\n",
      " 93%|█████████▎| 64621/69303 [00:17<00:01, 4648.98it/s]\u001b[A\n",
      " 95%|█████████▍| 65581/69303 [00:17<00:00, 5493.05it/s]\u001b[A\n",
      " 97%|█████████▋| 67053/69303 [00:17<00:00, 6762.00it/s]\u001b[A\n",
      " 98%|█████████▊| 67956/69303 [00:17<00:00, 7135.96it/s]\u001b[A\n",
      "100%|█████████▉| 69047/69303 [00:17<00:00, 7951.22it/s]\u001b[A\n",
      "100%|██████████| 69303/69303 [00:17<00:00, 3942.54it/s]\u001b[A"
     ]
    }
   ],
   "source": [
    "for fname in tqdm(fnames):\n",
    "    try:\n",
    "        face_id = int(fname.split(\"_\")[-1].split(\".\")[0])\n",
    "    except:\n",
    "        pass\n",
    "    if face_id % 10 == 0:\n",
    "        fname_old = fname\n",
    "        fname_new = fname[:-4] + \"_test.jpg\"\n",
    "        os.rename(fname_old, fname_new)"
   ]
  },
  {
   "cell_type": "code",
   "execution_count": 14,
   "metadata": {
    "collapsed": false
   },
   "outputs": [
    {
     "name": "stderr",
     "output_type": "stream",
     "text": [
      "  1%|▏         | 7/523 [00:07<11:55,  1.39s/it]"
     ]
    },
    {
     "name": "stdout",
     "output_type": "stream",
     "text": [
      "load data from 'data/faceScrub/imgs_top_aligned/'\n"
     ]
    },
    {
     "ename": "KeyboardInterrupt",
     "evalue": "",
     "output_type": "error",
     "traceback": [
      "\u001b[1;31m---------------------------------------------------------------------------\u001b[0m",
      "\u001b[1;31mKeyboardInterrupt\u001b[0m                         Traceback (most recent call last)",
      "\u001b[1;32m<ipython-input-14-825041bdfa7e>\u001b[0m in \u001b[0;36m<module>\u001b[1;34m()\u001b[0m\n\u001b[0;32m      1\u001b[0m \u001b[0mpath\u001b[0m \u001b[1;33m=\u001b[0m \u001b[1;34m\"data/faceScrub/imgs_top_aligned/\"\u001b[0m\u001b[1;33m\u001b[0m\u001b[0m\n\u001b[1;32m----> 2\u001b[1;33m \u001b[0mX\u001b[0m\u001b[1;33m,\u001b[0m \u001b[0mY\u001b[0m \u001b[1;33m=\u001b[0m \u001b[0mld_gan\u001b[0m\u001b[1;33m.\u001b[0m\u001b[0mdata_proc\u001b[0m\u001b[1;33m.\u001b[0m\u001b[0mdata_loader\u001b[0m\u001b[1;33m.\u001b[0m\u001b[0mload_data\u001b[0m\u001b[1;33m(\u001b[0m\u001b[0mpath\u001b[0m\u001b[1;33m,\u001b[0m \u001b[0mtest_train\u001b[0m\u001b[1;33m=\u001b[0m\u001b[1;34m\"train\"\u001b[0m\u001b[1;33m)\u001b[0m\u001b[1;33m\u001b[0m\u001b[0m\n\u001b[0m\u001b[0;32m      3\u001b[0m \u001b[0mXt\u001b[0m\u001b[1;33m,\u001b[0m \u001b[0mYt\u001b[0m \u001b[1;33m=\u001b[0m \u001b[0mld_gan\u001b[0m\u001b[1;33m.\u001b[0m\u001b[0mdata_proc\u001b[0m\u001b[1;33m.\u001b[0m\u001b[0mdata_loader\u001b[0m\u001b[1;33m.\u001b[0m\u001b[0mload_data\u001b[0m\u001b[1;33m(\u001b[0m\u001b[0mpath\u001b[0m\u001b[1;33m,\u001b[0m \u001b[0mtest_train\u001b[0m\u001b[1;33m=\u001b[0m\u001b[1;34m\"test\"\u001b[0m\u001b[1;33m)\u001b[0m\u001b[1;33m\u001b[0m\u001b[0m\n\u001b[0;32m      4\u001b[0m \u001b[0mx\u001b[0m\u001b[1;33m,\u001b[0m \u001b[0mx\u001b[0m \u001b[1;33m=\u001b[0m \u001b[0mld_gan\u001b[0m\u001b[1;33m.\u001b[0m\u001b[0mdata_proc\u001b[0m\u001b[1;33m.\u001b[0m\u001b[0mdata_loader\u001b[0m\u001b[1;33m.\u001b[0m\u001b[0mload_data\u001b[0m\u001b[1;33m(\u001b[0m\u001b[0mpath\u001b[0m\u001b[1;33m)\u001b[0m\u001b[1;33m\u001b[0m\u001b[0m\n",
      "\u001b[1;32m/net/hciserver03/storage/oblum/projects/ld_gan/ld_gan/data_proc/data_loader.pyc\u001b[0m in \u001b[0;36mload_data\u001b[1;34m(path, random_state, verbose, n_jobs, resize, all_img_in_one_dir, test_train)\u001b[0m\n\u001b[0;32m     86\u001b[0m             \u001b[0mX_c\u001b[0m \u001b[1;33m=\u001b[0m \u001b[0m_imap_unordered_bar\u001b[0m\u001b[1;33m(\u001b[0m\u001b[0mscipy\u001b[0m\u001b[1;33m.\u001b[0m\u001b[0mmisc\u001b[0m\u001b[1;33m.\u001b[0m\u001b[0mimread\u001b[0m\u001b[1;33m,\u001b[0m \u001b[0mfnames\u001b[0m\u001b[1;33m,\u001b[0m \u001b[0mn_jobs\u001b[0m\u001b[1;33m)\u001b[0m\u001b[1;33m\u001b[0m\u001b[0m\n\u001b[0;32m     87\u001b[0m         \u001b[1;32melse\u001b[0m\u001b[1;33m:\u001b[0m\u001b[1;33m\u001b[0m\u001b[0m\n\u001b[1;32m---> 88\u001b[1;33m             \u001b[0mX_c\u001b[0m \u001b[1;33m=\u001b[0m \u001b[1;33m[\u001b[0m\u001b[0mscipy\u001b[0m\u001b[1;33m.\u001b[0m\u001b[0mmisc\u001b[0m\u001b[1;33m.\u001b[0m\u001b[0mimread\u001b[0m\u001b[1;33m(\u001b[0m\u001b[0mf\u001b[0m\u001b[1;33m)\u001b[0m \u001b[1;32mfor\u001b[0m \u001b[0mf\u001b[0m \u001b[1;32min\u001b[0m \u001b[0miterator_2\u001b[0m\u001b[1;33m]\u001b[0m\u001b[1;33m\u001b[0m\u001b[0m\n\u001b[0m\u001b[0;32m     89\u001b[0m         \u001b[0my_c\u001b[0m \u001b[1;33m=\u001b[0m \u001b[1;33m[\u001b[0m\u001b[0midx\u001b[0m\u001b[1;33m]\u001b[0m \u001b[1;33m*\u001b[0m \u001b[0mlen\u001b[0m\u001b[1;33m(\u001b[0m\u001b[0mX_c\u001b[0m\u001b[1;33m)\u001b[0m\u001b[1;33m\u001b[0m\u001b[0m\n\u001b[0;32m     90\u001b[0m \u001b[1;33m\u001b[0m\u001b[0m\n",
      "\u001b[1;32m/net/hciserver03/storage/oblum/venvs/compvisgpu02/lib/python2.7/site-packages/scipy/misc/pilutil.pyc\u001b[0m in \u001b[0;36mimread\u001b[1;34m(name, flatten, mode)\u001b[0m\n\u001b[0;32m    154\u001b[0m     \"\"\"\n\u001b[0;32m    155\u001b[0m \u001b[1;33m\u001b[0m\u001b[0m\n\u001b[1;32m--> 156\u001b[1;33m     \u001b[0mim\u001b[0m \u001b[1;33m=\u001b[0m \u001b[0mImage\u001b[0m\u001b[1;33m.\u001b[0m\u001b[0mopen\u001b[0m\u001b[1;33m(\u001b[0m\u001b[0mname\u001b[0m\u001b[1;33m)\u001b[0m\u001b[1;33m\u001b[0m\u001b[0m\n\u001b[0m\u001b[0;32m    157\u001b[0m     \u001b[1;32mreturn\u001b[0m \u001b[0mfromimage\u001b[0m\u001b[1;33m(\u001b[0m\u001b[0mim\u001b[0m\u001b[1;33m,\u001b[0m \u001b[0mflatten\u001b[0m\u001b[1;33m=\u001b[0m\u001b[0mflatten\u001b[0m\u001b[1;33m,\u001b[0m \u001b[0mmode\u001b[0m\u001b[1;33m=\u001b[0m\u001b[0mmode\u001b[0m\u001b[1;33m)\u001b[0m\u001b[1;33m\u001b[0m\u001b[0m\n\u001b[0;32m    158\u001b[0m \u001b[1;33m\u001b[0m\u001b[0m\n",
      "\u001b[1;32m/net/hciserver03/storage/oblum/venvs/compvisgpu02/lib/python2.7/site-packages/PIL/Image.pyc\u001b[0m in \u001b[0;36mopen\u001b[1;34m(fp, mode)\u001b[0m\n\u001b[0;32m   2484\u001b[0m         \u001b[0mexclusive_fp\u001b[0m \u001b[1;33m=\u001b[0m \u001b[0mTrue\u001b[0m\u001b[1;33m\u001b[0m\u001b[0m\n\u001b[0;32m   2485\u001b[0m \u001b[1;33m\u001b[0m\u001b[0m\n\u001b[1;32m-> 2486\u001b[1;33m     \u001b[0mprefix\u001b[0m \u001b[1;33m=\u001b[0m \u001b[0mfp\u001b[0m\u001b[1;33m.\u001b[0m\u001b[0mread\u001b[0m\u001b[1;33m(\u001b[0m\u001b[1;36m16\u001b[0m\u001b[1;33m)\u001b[0m\u001b[1;33m\u001b[0m\u001b[0m\n\u001b[0m\u001b[0;32m   2487\u001b[0m \u001b[1;33m\u001b[0m\u001b[0m\n\u001b[0;32m   2488\u001b[0m     \u001b[0mpreinit\u001b[0m\u001b[1;33m(\u001b[0m\u001b[1;33m)\u001b[0m\u001b[1;33m\u001b[0m\u001b[0m\n",
      "\u001b[1;31mKeyboardInterrupt\u001b[0m: "
     ]
    }
   ],
   "source": [
    "path = \"data/faceScrub/imgs_top_aligned/\"\n",
    "X, Y = ld_gan.data_proc.data_loader.load_data(path, test_train=\"train\")\n",
    "print len(X)\n",
    "Xt, Yt = ld_gan.data_proc.data_loader.load_data(path, test_train=\"test\")\n",
    "print len(Xt)\n",
    "x, x = ld_gan.data_proc.data_loader.load_data(path)\n",
    "print len(x)"
   ]
  },
  {
   "cell_type": "code",
   "execution_count": null,
   "metadata": {
    "collapsed": true
   },
   "outputs": [],
   "source": []
  },
  {
   "cell_type": "code",
   "execution_count": null,
   "metadata": {
    "collapsed": true
   },
   "outputs": [],
   "source": []
  },
  {
   "cell_type": "code",
   "execution_count": null,
   "metadata": {
    "collapsed": true
   },
   "outputs": [],
   "source": []
  },
  {
   "cell_type": "code",
   "execution_count": null,
   "metadata": {
    "collapsed": true
   },
   "outputs": [],
   "source": []
  },
  {
   "cell_type": "code",
   "execution_count": null,
   "metadata": {
    "collapsed": true
   },
   "outputs": [],
   "source": []
  },
  {
   "cell_type": "code",
   "execution_count": null,
   "metadata": {
    "collapsed": true
   },
   "outputs": [],
   "source": []
  },
  {
   "cell_type": "code",
   "execution_count": 26,
   "metadata": {
    "collapsed": true
   },
   "outputs": [],
   "source": [
    "fnames = ld.listdir(\"data/faceScrub/imgs_top_aligned/\", \".jpg\", True)"
   ]
  },
  {
   "cell_type": "code",
   "execution_count": 27,
   "metadata": {
    "collapsed": false
   },
   "outputs": [
    {
     "data": {
      "text/plain": [
       "69285"
      ]
     },
     "execution_count": 27,
     "metadata": {},
     "output_type": "execute_result"
    }
   ],
   "source": [
    "len(fnames)"
   ]
  },
  {
   "cell_type": "code",
   "execution_count": 28,
   "metadata": {
    "collapsed": true
   },
   "outputs": [],
   "source": [
    "n_test = 0\n",
    "for fname in fnames:\n",
    "    if \"test\" in fname:\n",
    "        n_test += 1"
   ]
  },
  {
   "cell_type": "code",
   "execution_count": 29,
   "metadata": {
    "collapsed": false
   },
   "outputs": [
    {
     "data": {
      "text/plain": [
       "6828"
      ]
     },
     "execution_count": 29,
     "metadata": {},
     "output_type": "execute_result"
    }
   ],
   "source": [
    "n_test"
   ]
  },
  {
   "cell_type": "code",
   "execution_count": 30,
   "metadata": {
    "collapsed": false
   },
   "outputs": [
    {
     "data": {
      "text/plain": [
       "10.147188049209138"
      ]
     },
     "execution_count": 30,
     "metadata": {},
     "output_type": "execute_result"
    }
   ],
   "source": [
    "69285 / 6828."
   ]
  },
  {
   "cell_type": "code",
   "execution_count": null,
   "metadata": {
    "collapsed": true
   },
   "outputs": [],
   "source": []
  },
  {
   "cell_type": "code",
   "execution_count": 33,
   "metadata": {
    "collapsed": false
   },
   "outputs": [
    {
     "name": "stderr",
     "output_type": "stream",
     "text": [
      " 39%|███▊      | 203/525 [01:01<01:01,  5.22it/s]"
     ]
    },
    {
     "name": "stdout",
     "output_type": "stream",
     "text": [
      "load data from 'data/faceScrub/imgs_top_aligned/'\n"
     ]
    },
    {
     "ename": "OSError",
     "evalue": "[Errno 20] Not a directory: 'data/faceScrub/imgs_top_aligned/J_test.K'",
     "output_type": "error",
     "traceback": [
      "\u001b[1;31m---------------------------------------------------------------------------\u001b[0m",
      "\u001b[1;31mOSError\u001b[0m                                   Traceback (most recent call last)",
      "\u001b[1;32m<ipython-input-33-22ee2476898d>\u001b[0m in \u001b[0;36m<module>\u001b[1;34m()\u001b[0m\n\u001b[0;32m      1\u001b[0m \u001b[0mpath\u001b[0m \u001b[1;33m=\u001b[0m \u001b[1;34m\"data/faceScrub/imgs_top_aligned/\"\u001b[0m\u001b[1;33m\u001b[0m\u001b[0m\n\u001b[1;32m----> 2\u001b[1;33m \u001b[0mX\u001b[0m\u001b[1;33m,\u001b[0m \u001b[0mY\u001b[0m \u001b[1;33m=\u001b[0m \u001b[0mld_gan\u001b[0m\u001b[1;33m.\u001b[0m\u001b[0mdata_proc\u001b[0m\u001b[1;33m.\u001b[0m\u001b[0mdata_loader\u001b[0m\u001b[1;33m.\u001b[0m\u001b[0mload_data\u001b[0m\u001b[1;33m(\u001b[0m\u001b[0mpath\u001b[0m\u001b[1;33m,\u001b[0m \u001b[0mtest_train\u001b[0m \u001b[1;33m=\u001b[0m \u001b[1;34m\"test\"\u001b[0m\u001b[1;33m)\u001b[0m\u001b[1;33m\u001b[0m\u001b[0m\n\u001b[0m",
      "\u001b[1;32m/net/hciserver03/storage/oblum/projects/ld_gan/ld_gan/data_proc/data_loader.py\u001b[0m in \u001b[0;36mload_data\u001b[1;34m(path, random_state, verbose, n_jobs, resize, all_img_in_one_dir, test_train)\u001b[0m\n\u001b[0;32m     72\u001b[0m             \u001b[0mfnames\u001b[0m \u001b[1;33m=\u001b[0m \u001b[1;33m[\u001b[0m\u001b[0mos\u001b[0m\u001b[1;33m.\u001b[0m\u001b[0mpath\u001b[0m\u001b[1;33m.\u001b[0m\u001b[0mjoin\u001b[0m\u001b[1;33m(\u001b[0m\u001b[0mc\u001b[0m\u001b[1;33m,\u001b[0m \u001b[0mf\u001b[0m\u001b[1;33m)\u001b[0m \u001b[1;32mfor\u001b[0m \u001b[0mf\u001b[0m \u001b[1;32min\u001b[0m \u001b[0msorted\u001b[0m\u001b[1;33m(\u001b[0m\u001b[0mos\u001b[0m\u001b[1;33m.\u001b[0m\u001b[0mlistdir\u001b[0m\u001b[1;33m(\u001b[0m\u001b[0mc\u001b[0m\u001b[1;33m)\u001b[0m\u001b[1;33m)\u001b[0m\u001b[1;33m]\u001b[0m\u001b[1;33m\u001b[0m\u001b[0m\n\u001b[0;32m     73\u001b[0m         \u001b[1;32melif\u001b[0m \u001b[0mtest_train\u001b[0m \u001b[1;33m==\u001b[0m \u001b[1;34m\"test\"\u001b[0m\u001b[1;33m:\u001b[0m\u001b[1;33m\u001b[0m\u001b[0m\n\u001b[1;32m---> 74\u001b[1;33m             \u001b[0mfnames\u001b[0m \u001b[1;33m=\u001b[0m \u001b[1;33m[\u001b[0m\u001b[0mos\u001b[0m\u001b[1;33m.\u001b[0m\u001b[0mpath\u001b[0m\u001b[1;33m.\u001b[0m\u001b[0mjoin\u001b[0m\u001b[1;33m(\u001b[0m\u001b[0mc\u001b[0m\u001b[1;33m,\u001b[0m \u001b[0mf\u001b[0m\u001b[1;33m)\u001b[0m \u001b[1;32mfor\u001b[0m \u001b[0mf\u001b[0m \u001b[1;32min\u001b[0m \u001b[0msorted\u001b[0m\u001b[1;33m(\u001b[0m\u001b[0mos\u001b[0m\u001b[1;33m.\u001b[0m\u001b[0mlistdir\u001b[0m\u001b[1;33m(\u001b[0m\u001b[0mc\u001b[0m\u001b[1;33m)\u001b[0m\u001b[1;33m)\u001b[0m \u001b[1;32mif\u001b[0m \u001b[1;34m\"test\"\u001b[0m \u001b[1;32min\u001b[0m \u001b[0mf\u001b[0m\u001b[1;33m]\u001b[0m\u001b[1;33m\u001b[0m\u001b[0m\n\u001b[0m\u001b[0;32m     75\u001b[0m         \u001b[1;32melif\u001b[0m \u001b[0mtest_train\u001b[0m \u001b[1;33m==\u001b[0m \u001b[1;34m\"train\"\u001b[0m\u001b[1;33m:\u001b[0m\u001b[1;33m\u001b[0m\u001b[0m\n\u001b[0;32m     76\u001b[0m             \u001b[0mfnames\u001b[0m \u001b[1;33m=\u001b[0m \u001b[1;33m[\u001b[0m\u001b[0mos\u001b[0m\u001b[1;33m.\u001b[0m\u001b[0mpath\u001b[0m\u001b[1;33m.\u001b[0m\u001b[0mjoin\u001b[0m\u001b[1;33m(\u001b[0m\u001b[0mc\u001b[0m\u001b[1;33m,\u001b[0m \u001b[0mf\u001b[0m\u001b[1;33m)\u001b[0m \u001b[1;32mfor\u001b[0m \u001b[0mf\u001b[0m \u001b[1;32min\u001b[0m \u001b[0msorted\u001b[0m\u001b[1;33m(\u001b[0m\u001b[0mos\u001b[0m\u001b[1;33m.\u001b[0m\u001b[0mlistdir\u001b[0m\u001b[1;33m(\u001b[0m\u001b[0mc\u001b[0m\u001b[1;33m)\u001b[0m\u001b[1;33m)\u001b[0m \u001b[1;32mif\u001b[0m \u001b[1;34m\"test\"\u001b[0m \u001b[1;32mnot\u001b[0m \u001b[1;32min\u001b[0m \u001b[0mf\u001b[0m\u001b[1;33m]\u001b[0m\u001b[1;33m\u001b[0m\u001b[0m\n",
      "\u001b[1;31mOSError\u001b[0m: [Errno 20] Not a directory: 'data/faceScrub/imgs_top_aligned/J_test.K'"
     ]
    }
   ],
   "source": [
    "path = \"data/faceScrub/imgs_top_aligned/\"\n",
    "X, Y = ld_gan.data_proc.data_loader.load_data(path, test_train = \"test\")"
   ]
  },
  {
   "cell_type": "code",
   "execution_count": null,
   "metadata": {
    "collapsed": true
   },
   "outputs": [],
   "source": [
    "len(X)"
   ]
  },
  {
   "cell_type": "code",
   "execution_count": null,
   "metadata": {
    "collapsed": true
   },
   "outputs": [],
   "source": [
    "path = \"data/faceScrub/imgs_top_aligned/\"\n",
    "X, Y = ld_gan.data_proc.data_loader.load_data(path, test_train = \"train\")"
   ]
  },
  {
   "cell_type": "code",
   "execution_count": null,
   "metadata": {
    "collapsed": true
   },
   "outputs": [],
   "source": [
    "len(X)"
   ]
  },
  {
   "cell_type": "code",
   "execution_count": null,
   "metadata": {
    "collapsed": true
   },
   "outputs": [],
   "source": []
  }
 ],
 "metadata": {
  "kernelspec": {
   "display_name": "Python 2",
   "language": "python",
   "name": "python2"
  },
  "language_info": {
   "codemirror_mode": {
    "name": "ipython",
    "version": 2
   },
   "file_extension": ".py",
   "mimetype": "text/x-python",
   "name": "python",
   "nbconvert_exporter": "python",
   "pygments_lexer": "ipython2",
   "version": "2.7.6"
  }
 },
 "nbformat": 4,
 "nbformat_minor": 0
}
