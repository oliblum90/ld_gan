{
 "cells": [
  {
   "cell_type": "code",
   "execution_count": 1,
   "metadata": {
    "collapsed": false
   },
   "outputs": [
    {
     "name": "stdout",
     "output_type": "stream",
     "text": [
      "Populating the interactive namespace from numpy and matplotlib\n"
     ]
    }
   ],
   "source": [
    "%load_ext autoreload\n",
    "%autoreload 2\n",
    "\n",
    "import os\n",
    "os.chdir(\"../../\")\n",
    "\n",
    "%pylab inline\n",
    "pylab.rcParams['figure.figsize'] = (10, 3)"
   ]
  },
  {
   "cell_type": "code",
   "execution_count": 2,
   "metadata": {
    "collapsed": false
   },
   "outputs": [
    {
     "name": "stdout",
     "output_type": "stream",
     "text": [
      "Couldn't import dot_parser, loading of dot files will not be possible.\n"
     ]
    },
    {
     "name": "stderr",
     "output_type": "stream",
     "text": [
      "Using TensorFlow backend.\n"
     ]
    }
   ],
   "source": [
    "import numpy as np\n",
    "from keras.backend.tensorflow_backend import set_session\n",
    "import tensorflow as tf\n",
    "import ld_gan.visualize\n",
    "from tqdm import tqdm\n",
    "import scipy.misc\n",
    "from scipy.io.matlab import loadmat\n",
    "import cv2"
   ]
  },
  {
   "cell_type": "code",
   "execution_count": 3,
   "metadata": {
    "collapsed": true
   },
   "outputs": [],
   "source": [
    "def mkdir_if_not_exist(path):\n",
    "    dirs = path.split('/')[:-1]\n",
    "    d = \"\"\n",
    "    for current_dir in dirs:\n",
    "        d = os.path.join(d, current_dir)\n",
    "        try:\n",
    "            os.mkdir(d)\n",
    "        except:\n",
    "            pass"
   ]
  },
  {
   "cell_type": "code",
   "execution_count": 4,
   "metadata": {
    "collapsed": true
   },
   "outputs": [],
   "source": [
    "def ldir(path):\n",
    "    return [os.path.join(path, f) for f in os.listdir(path)]"
   ]
  },
  {
   "cell_type": "code",
   "execution_count": 5,
   "metadata": {
    "collapsed": true
   },
   "outputs": [],
   "source": [
    "IMG_BASE_PATH = \"data/flowers_102/jpg\"\n",
    "IMG_CLF_BASE_PATH = \"data/flowers_102/classes\"\n",
    "IMG_CLASSES_FNAME = \"data/flowers_102/imagelabels.mat\"\n",
    "SEG_BASE_PATH = \"data/flowers_102/segmim\"\n",
    "CROPPED_PATH = \"data/flowers_102/cropped\""
   ]
  },
  {
   "cell_type": "code",
   "execution_count": 6,
   "metadata": {
    "collapsed": true
   },
   "outputs": [],
   "source": [
    "ys = loadmat(IMG_CLASSES_FNAME)['labels'][0]"
   ]
  },
  {
   "cell_type": "code",
   "execution_count": 7,
   "metadata": {
    "collapsed": false
   },
   "outputs": [
    {
     "name": "stderr",
     "output_type": "stream",
     "text": [
      "100%|██████████| 8189/8189 [04:36<00:00, 29.66it/s]\n"
     ]
    }
   ],
   "source": [
    "for fname, y in tqdm(zip(sorted(ldir(IMG_BASE_PATH)), ys)):\n",
    "    \n",
    "    img = scipy.misc.imread(fname)\n",
    "    splits = fname.split(\"/\")\n",
    "    splits = splits[:-2] + [\"jpg_256\", str(y), splits[-1]]\n",
    "    fname = os.path.join(*splits)\n",
    "    mkdir_if_not_exist(fname)\n",
    "    \n",
    "    img = scipy.misc.imresize(img, (256, 256))\n",
    "    \n",
    "    scipy.misc.imsave(fname, img)"
   ]
  },
  {
   "cell_type": "markdown",
   "metadata": {
    "collapsed": true
   },
   "source": [
    "# split test train"
   ]
  },
  {
   "cell_type": "code",
   "execution_count": 1,
   "metadata": {
    "collapsed": false
   },
   "outputs": [
    {
     "name": "stdout",
     "output_type": "stream",
     "text": [
      "Populating the interactive namespace from numpy and matplotlib\n"
     ]
    }
   ],
   "source": [
    "%load_ext autoreload\n",
    "%autoreload 2\n",
    "\n",
    "import os\n",
    "os.chdir(\"../../\")\n",
    "\n",
    "%pylab inline\n",
    "pylab.rcParams['figure.figsize'] = (10, 3)"
   ]
  },
  {
   "cell_type": "code",
   "execution_count": 16,
   "metadata": {
    "collapsed": false
   },
   "outputs": [],
   "source": [
    "import numpy as np\n",
    "import scipy.io\n",
    "import ld_gan"
   ]
  },
  {
   "cell_type": "code",
   "execution_count": 4,
   "metadata": {
    "collapsed": true
   },
   "outputs": [],
   "source": [
    "mat = scipy.io.loadmat(\"data/flowers_102/setid.mat\")"
   ]
  },
  {
   "cell_type": "code",
   "execution_count": 8,
   "metadata": {
    "collapsed": false
   },
   "outputs": [
    {
     "name": "stdout",
     "output_type": "stream",
     "text": [
      "(1, 1020)\n",
      "(1, 6149)\n",
      "(1, 1020)\n"
     ]
    }
   ],
   "source": [
    "print mat['trnid'].shape\n",
    "print mat['tstid'].shape\n",
    "print mat['valid'].shape"
   ]
  },
  {
   "cell_type": "code",
   "execution_count": 10,
   "metadata": {
    "collapsed": false
   },
   "outputs": [
    {
     "data": {
      "text/plain": [
       "0.12455733300769324"
      ]
     },
     "execution_count": 10,
     "metadata": {},
     "output_type": "execute_result"
    }
   ],
   "source": [
    "1020. / (1020+1020+6149)"
   ]
  },
  {
   "cell_type": "code",
   "execution_count": 12,
   "metadata": {
    "collapsed": false
   },
   "outputs": [
    {
     "data": {
      "text/plain": [
       "8177"
      ]
     },
     "execution_count": 12,
     "metadata": {},
     "output_type": "execute_result"
    }
   ],
   "source": [
    "mat['trnid'].max()"
   ]
  },
  {
   "cell_type": "code",
   "execution_count": null,
   "metadata": {
    "collapsed": true
   },
   "outputs": [],
   "source": []
  },
  {
   "cell_type": "code",
   "execution_count": null,
   "metadata": {
    "collapsed": true
   },
   "outputs": [],
   "source": []
  },
  {
   "cell_type": "code",
   "execution_count": 21,
   "metadata": {
    "collapsed": false
   },
   "outputs": [],
   "source": [
    "path = ld_gan.data_proc.data_loader.PATH_FLOWER"
   ]
  },
  {
   "cell_type": "code",
   "execution_count": 22,
   "metadata": {
    "collapsed": false
   },
   "outputs": [],
   "source": [
    "class_dirs = [os.path.join(path, c) for c in os.listdir(path)]"
   ]
  },
  {
   "cell_type": "code",
   "execution_count": 24,
   "metadata": {
    "collapsed": true
   },
   "outputs": [],
   "source": [
    "idx = 0"
   ]
  },
  {
   "cell_type": "code",
   "execution_count": 25,
   "metadata": {
    "collapsed": true
   },
   "outputs": [],
   "source": [
    "c = sorted(class_dirs)[idx]"
   ]
  },
  {
   "cell_type": "code",
   "execution_count": 26,
   "metadata": {
    "collapsed": false
   },
   "outputs": [],
   "source": [
    "fnames = [os.path.join(c, f) for f in sorted(os.listdir(c)) \\\n",
    "                             if name2idx(f) in index_list]"
   ]
  },
  {
   "cell_type": "code",
   "execution_count": 36,
   "metadata": {
    "collapsed": false
   },
   "outputs": [],
   "source": [
    "def name2idx(fname):\n",
    "    return int(fname[-9:-4])"
   ]
  },
  {
   "cell_type": "code",
   "execution_count": 34,
   "metadata": {
    "collapsed": false
   },
   "outputs": [
    {
     "data": {
      "text/plain": [
       "[6734,\n",
       " 6735,\n",
       " 6736,\n",
       " 6737,\n",
       " 6738,\n",
       " 6739,\n",
       " 6740,\n",
       " 6741,\n",
       " 6742,\n",
       " 6743,\n",
       " 6744,\n",
       " 6745,\n",
       " 6746,\n",
       " 6747,\n",
       " 6748,\n",
       " 6749,\n",
       " 6750,\n",
       " 6751,\n",
       " 6752,\n",
       " 6753,\n",
       " 6754,\n",
       " 6755,\n",
       " 6756,\n",
       " 6757,\n",
       " 6758,\n",
       " 6759,\n",
       " 6760,\n",
       " 6761,\n",
       " 6762,\n",
       " 6763,\n",
       " 6764,\n",
       " 6765,\n",
       " 6766,\n",
       " 6767,\n",
       " 6768,\n",
       " 6769,\n",
       " 6770,\n",
       " 6771,\n",
       " 6772,\n",
       " 6773]"
      ]
     },
     "execution_count": 34,
     "metadata": {},
     "output_type": "execute_result"
    }
   ],
   "source": [
    "img_idxs"
   ]
  },
  {
   "cell_type": "code",
   "execution_count": null,
   "metadata": {
    "collapsed": true
   },
   "outputs": [],
   "source": []
  }
 ],
 "metadata": {
  "kernelspec": {
   "display_name": "Python 2",
   "language": "python",
   "name": "python2"
  },
  "language_info": {
   "codemirror_mode": {
    "name": "ipython",
    "version": 2
   },
   "file_extension": ".py",
   "mimetype": "text/x-python",
   "name": "python",
   "nbconvert_exporter": "python",
   "pygments_lexer": "ipython2",
   "version": "2.7.6"
  }
 },
 "nbformat": 4,
 "nbformat_minor": 0
}
