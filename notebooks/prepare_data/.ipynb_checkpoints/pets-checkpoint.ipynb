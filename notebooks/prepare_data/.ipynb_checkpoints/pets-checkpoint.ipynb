{
 "cells": [
  {
   "cell_type": "code",
   "execution_count": 1,
   "metadata": {
    "collapsed": true
   },
   "outputs": [],
   "source": [
    "%load_ext autoreload\n",
    "%autoreload 2\n",
    "\n",
    "import os\n",
    "os.chdir(\"../../\")\n",
    "\n",
    "%matplotlib notebook\n",
    "import matplotlib.pylab as plt\n",
    "# pylab.rcParams['figure.figsize'] = (10, 5)"
   ]
  },
  {
   "cell_type": "code",
   "execution_count": 2,
   "metadata": {
    "collapsed": false
   },
   "outputs": [],
   "source": [
    "import ld_gan as ld\n",
    "import scipy.misc\n",
    "import numpy as np\n",
    "from tqdm import tqdm"
   ]
  },
  {
   "cell_type": "code",
   "execution_count": 3,
   "metadata": {
    "collapsed": false,
    "scrolled": true
   },
   "outputs": [
    {
     "name": "stderr",
     "output_type": "stream",
     "text": [
      " 39%|███▊      | 2851/7390 [01:32<01:22, 55.26it/s]"
     ]
    },
    {
     "name": "stdout",
     "output_type": "stream",
     "text": [
      "ERROR WITH data/pets/images/Egyptian_Mau_177.jpg\n",
      "ERROR WITH"
     ]
    },
    {
     "name": "stderr",
     "output_type": "stream",
     "text": [
      " 61%|██████    | 4518/7390 [02:53<02:35, 18.44it/s]"
     ]
    },
    {
     "name": "stdout",
     "output_type": "stream",
     "text": [
      " data/pets/images/Egyptian_Mau_14.jpg\n",
      "ERROR WITH"
     ]
    },
    {
     "name": "stderr",
     "output_type": "stream",
     "text": [
      " 77%|███████▋  | 5668/7390 [03:51<01:15, 22.89it/s]"
     ]
    },
    {
     "name": "stdout",
     "output_type": "stream",
     "text": [
      " data/pets/images/Abyssinian_5.jpg\n",
      "ERROR WITH"
     ]
    },
    {
     "name": "stderr",
     "output_type": "stream",
     "text": [
      "100%|██████████| 7390/7390 [05:11<00:00, 23.75it/s]"
     ]
    },
    {
     "name": "stdout",
     "output_type": "stream",
     "text": [
      " data/pets/images/Egyptian_Mau_186.jpg\n"
     ]
    },
    {
     "name": "stderr",
     "output_type": "stream",
     "text": [
      "\n"
     ]
    }
   ],
   "source": [
    "for fname in tqdm(ld.listdir(\"data/pets/images\", \".jpg\")):\n",
    "    try:\n",
    "        dir_name = fname.split(\"/\")[-1].split(\"_\")[0]\n",
    "        if not os.path.isdir(dir_name):\n",
    "            ld.mkdir(\"data/pets/imgs/\" + dir_name)\n",
    "        img = scipy.misc.imread(fname)\n",
    "        fname_new = os.path.join(\"data/pets/imgs/\", dir_name, fname.split(\"/\")[-1])\n",
    "        scipy.misc.imsave(fname_new, img)\n",
    "    except:\n",
    "        print \"ERROR WITH\", fname"
   ]
  },
  {
   "cell_type": "markdown",
   "metadata": {},
   "source": [
    "# delete trouble makers"
   ]
  },
  {
   "cell_type": "code",
   "execution_count": 1,
   "metadata": {
    "collapsed": true
   },
   "outputs": [],
   "source": [
    "%load_ext autoreload\n",
    "%autoreload 2\n",
    "\n",
    "import os\n",
    "os.chdir(\"../../\")\n",
    "\n",
    "%matplotlib notebook\n",
    "import matplotlib.pylab as plt\n",
    "# pylab.rcParams['figure.figsize'] = (10, 5)"
   ]
  },
  {
   "cell_type": "code",
   "execution_count": 2,
   "metadata": {
    "collapsed": true
   },
   "outputs": [],
   "source": [
    "import ld_gan\n",
    "import ld_gan.utils.utils as ld\n",
    "import scipy.misc\n",
    "import numpy as np\n",
    "from tqdm import tqdm"
   ]
  },
  {
   "cell_type": "code",
   "execution_count": 3,
   "metadata": {
    "collapsed": false
   },
   "outputs": [
    {
     "name": "stderr",
     "output_type": "stream",
     "text": [
      " 14%|█▍        | 5/35 [00:04<00:31,  1.05s/it]"
     ]
    },
    {
     "name": "stdout",
     "output_type": "stream",
     "text": [
      "remove data/pets/imgs/Egyptian/Egyptian_Mau_177.jpg\n",
      "remove data/pets/imgs/Egyptian/Egyptian_Mau_14.jpg\n",
      "remove"
     ]
    },
    {
     "name": "stderr",
     "output_type": "stream",
     "text": [
      " 34%|███▍      | 12/35 [00:31<01:25,  3.73s/it]"
     ]
    },
    {
     "name": "stdout",
     "output_type": "stream",
     "text": [
      " data/pets/imgs/Egyptian/Egyptian_Mau_186.jpg\n",
      "remove"
     ]
    },
    {
     "name": "stderr",
     "output_type": "stream",
     "text": [
      "100%|██████████| 35/35 [01:36<00:00,  2.40s/it]"
     ]
    },
    {
     "name": "stdout",
     "output_type": "stream",
     "text": [
      " data/pets/imgs/Abyssinian/Abyssinian_5.jpg\n"
     ]
    },
    {
     "name": "stderr",
     "output_type": "stream",
     "text": [
      "\n"
     ]
    }
   ],
   "source": [
    "for p1 in tqdm(ld.listdir('data/pets/imgs/')):\n",
    "    for p2 in ld.listdir(p1):\n",
    "        try:\n",
    "            scipy.misc.imread(p2)\n",
    "        except:\n",
    "            print \"remove\", p2\n",
    "            os.remove(p2)"
   ]
  },
  {
   "cell_type": "markdown",
   "metadata": {
    "collapsed": true
   },
   "source": [
    "# set bounding boxes"
   ]
  },
  {
   "cell_type": "code",
   "execution_count": 1,
   "metadata": {
    "collapsed": true
   },
   "outputs": [],
   "source": [
    "%load_ext autoreload\n",
    "%autoreload 2\n",
    "\n",
    "import os\n",
    "os.chdir(\"../../\")\n",
    "\n",
    "%matplotlib notebook\n",
    "import matplotlib.pylab as plt\n",
    "# pylab.rcParams['figure.figsize'] = (10, 5)"
   ]
  },
  {
   "cell_type": "code",
   "execution_count": 2,
   "metadata": {
    "collapsed": true
   },
   "outputs": [],
   "source": [
    "import ld_gan\n",
    "import ld_gan.utils.utils as ld\n",
    "import scipy.misc\n",
    "import numpy as np\n",
    "from tqdm import tqdm"
   ]
  },
  {
   "cell_type": "code",
   "execution_count": 3,
   "metadata": {
    "collapsed": true
   },
   "outputs": [],
   "source": [
    "def get_bb_for_fname(fname_img):\n",
    "    fname_xml = \"data/pets/annotations/xmls/\" + fname_img.split(\"/\")[-1][:-4] + \".xml\"\n",
    "    \n",
    "    with open(fname_xml, \"r\") as f:\n",
    "        content = f.read()\n",
    "        \n",
    "    xmin = int(content.split(\"<xmin>\")[1].split(\"</xmin>\")[0])\n",
    "    xmax = int(content.split(\"<xmax>\")[1].split(\"</xmax>\")[0])\n",
    "    ymin = int(content.split(\"<ymin>\")[1].split(\"</ymin>\")[0])\n",
    "    ymax = int(content.split(\"<ymax>\")[1].split(\"</ymax>\")[0])\n",
    "    \n",
    "    return xmin, xmax, ymin, ymax"
   ]
  },
  {
   "cell_type": "code",
   "execution_count": 4,
   "metadata": {
    "collapsed": true
   },
   "outputs": [],
   "source": [
    "def get_cropped_img_for_fname(fname_img):\n",
    "    xmin, xmax, ymin, ymax = get_bb_for_fname(fname_img)\n",
    "    img = scipy.misc.imread(fname_img)\n",
    "    img = img[xmin:xmax, ymin:ymax]\n",
    "    return img"
   ]
  },
  {
   "cell_type": "code",
   "execution_count": 5,
   "metadata": {
    "collapsed": false
   },
   "outputs": [],
   "source": [
    "fnames = ld.listdir(\"data/pets/imgs/\", file_type=\".jpg\", recrusive=True)"
   ]
  },
  {
   "cell_type": "code",
   "execution_count": null,
   "metadata": {
    "collapsed": false,
    "scrolled": false
   },
   "outputs": [
    {
     "name": "stderr",
     "output_type": "stream",
     "text": [
      "  0%|          | 8/7386 [00:00<01:35, 77.57it/s]"
     ]
    },
    {
     "name": "stdout",
     "output_type": "stream",
     "text": [
      "ERROR: data/pets/imgs/pomeranian/pomeranian_37.jpg\n",
      "ERROR: data/pets/imgs/pomeranian/pomeranian_191.jpg\n",
      "ERROR: data/pets/imgs/pomeranian/pomeranian_87.jpg\n",
      "ERROR: data/pets/imgs/pomeranian/pomeranian_7.jpg\n",
      "ERROR: data/pets/imgs/pomeranian/pomeranian_71.jpg\n",
      "ERROR: data/pets/imgs/pomeranian/pomeranian_65.jpg\n",
      "ERROR: data/pets/imgs/pomeranian/pomeranian_195.jpg\n",
      "ERROR: data/pets/imgs/pomeranian/pomeranian_53.jpg\n",
      "ERROR:"
     ]
    },
    {
     "name": "stderr",
     "output_type": "stream",
     "text": [
      "\r",
      "  0%|          | 21/7386 [00:00<01:27, 84.51it/s]"
     ]
    },
    {
     "name": "stdout",
     "output_type": "stream",
     "text": [
      " data/pets/imgs/pomeranian/pomeranian_89.jpg\n",
      "ERROR: data/pets/imgs/pomeranian/pomeranian_66.jpg\n",
      "ERROR: data/pets/imgs/pomeranian/pomeranian_93.jpg\n",
      "ERROR: data/pets/imgs/pomeranian/pomeranian_9.jpg\n",
      "ERROR: data/pets/imgs/pomeranian/pomeranian_49.jpg\n",
      "ERROR: data/pets/imgs/pomeranian/pomeranian_69.jpg\n",
      "ERROR: data/pets/imgs/pomeranian/pomeranian_47.jpg\n",
      "ERROR: data/pets/imgs/pomeranian/pomeranian_56.jpg\n",
      "ERROR: data/pets/imgs/pomeranian/pomeranian_85.jpg\n",
      "ERROR: data/pets/imgs/pomeranian/pomeranian_26.jpg\n",
      "ERROR: data/pets/imgs/pomeranian/pomeranian_72.jpg\n",
      "ERROR: data/pets/imgs/pomeranian/pomeranian_25.jpg\n",
      "ERROR: data/pets/imgs/pomeranian/pomeranian_192.jpg\n",
      "ERROR:"
     ]
    },
    {
     "name": "stderr",
     "output_type": "stream",
     "text": [
      "\r",
      "  1%|          | 39/7386 [00:00<01:14, 98.09it/s]"
     ]
    },
    {
     "name": "stdout",
     "output_type": "stream",
     "text": [
      " data/pets/imgs/pomeranian/pomeranian_51.jpg\n",
      "ERROR: data/pets/imgs/pomeranian/pomeranian_28.jpg\n",
      "ERROR: data/pets/imgs/pomeranian/pomeranian_78.jpg\n",
      "ERROR: data/pets/imgs/pomeranian/pomeranian_52.jpg\n",
      "ERROR: data/pets/imgs/pomeranian/pomeranian_3.jpg\n",
      "ERROR:"
     ]
    },
    {
     "name": "stderr",
     "output_type": "stream",
     "text": [
      "\r",
      "  1%|          | 50/7386 [00:00<01:24, 86.98it/s]"
     ]
    },
    {
     "name": "stdout",
     "output_type": "stream",
     "text": [
      " data/pets/imgs/pomeranian/pomeranian_198.jpg\n",
      "ERROR: data/pets/imgs/pomeranian/pomeranian_21.jpg\n",
      "ERROR: data/pets/imgs/pomeranian/pomeranian_54.jpg\n",
      "ERROR: data/pets/imgs/pomeranian/pomeranian_81.jpg\n",
      "ERROR: data/pets/imgs/pomeranian/pomeranian_99.jpg\n",
      "ERROR: data/pets/imgs/pomeranian/pomeranian_70.jpg\n",
      "ERROR: data/pets/imgs/pomeranian/pomeranian_5.jpg\n",
      "ERROR: data/pets/imgs/pomeranian/pomeranian_24.jpg\n",
      "ERROR: data/pets/imgs/pomeranian/pomeranian_80.jpg\n",
      "ERROR: data/pets/imgs/pomeranian/pomeranian_75.jpg\n",
      "ERROR:"
     ]
    },
    {
     "name": "stderr",
     "output_type": "stream",
     "text": [
      "\r",
      "  1%|          | 72/7386 [00:00<01:09, 105.32it/s]"
     ]
    },
    {
     "name": "stdout",
     "output_type": "stream",
     "text": [
      " data/pets/imgs/pomeranian/pomeranian_8.jpg\n",
      "ERROR: data/pets/imgs/pomeranian/pomeranian_36.jpg\n",
      "ERROR: data/pets/imgs/pomeranian/pomeranian_90.jpg\n",
      "ERROR: data/pets/imgs/pomeranian/pomeranian_1.jpg\n",
      "ERROR: data/pets/imgs/pomeranian/pomeranian_67.jpg\n",
      "ERROR: data/pets/imgs/pomeranian/pomeranian_38.jpg\n",
      "ERROR: data/pets/imgs/pomeranian/pomeranian_41.jpg\n",
      "ERROR: data/pets/imgs/pomeranian/pomeranian_43.jpg\n",
      "ERROR: data/pets/imgs/pomeranian/pomeranian_64.jpg\n",
      "ERROR:"
     ]
    },
    {
     "name": "stderr",
     "output_type": "stream",
     "text": [
      "\r",
      "  1%|          | 89/7386 [00:00<01:02, 117.56it/s]"
     ]
    },
    {
     "name": "stdout",
     "output_type": "stream",
     "text": [
      " data/pets/imgs/pomeranian/pomeranian_19.jpg\n",
      "ERROR: data/pets/imgs/pomeranian/pomeranian_45.jpg\n",
      "ERROR: data/pets/imgs/pomeranian/pomeranian_33.jpg\n",
      "ERROR: data/pets/imgs/pomeranian/pomeranian_32.jpg\n",
      "ERROR: data/pets/imgs/pomeranian/pomeranian_35.jpg\n",
      "ERROR: data/pets/imgs/pomeranian/pomeranian_77.jpg\n",
      "ERROR: data/pets/imgs/pomeranian/pomeranian_79.jpg\n",
      "ERROR: data/pets/imgs/pomeranian/pomeranian_62.jpg\n",
      "ERROR:"
     ]
    },
    {
     "name": "stderr",
     "output_type": "stream",
     "text": [
      "\r",
      "  1%|▏         | 104/7386 [00:00<00:58, 125.35it/s]"
     ]
    },
    {
     "name": "stdout",
     "output_type": "stream",
     "text": [
      " data/pets/imgs/pomeranian/pomeranian_58.jpg\n",
      "ERROR: data/pets/imgs/pomeranian/pomeranian_86.jpg\n",
      "ERROR: data/pets/imgs/pomeranian/pomeranian_55.jpg\n",
      "ERROR: data/pets/imgs/pomeranian/pomeranian_95.jpg\n",
      "ERROR: data/pets/imgs/pomeranian/pomeranian_4.jpg\n",
      "ERROR: data/pets/imgs/pomeranian/pomeranian_196.jpg\n",
      "ERROR: data/pets/imgs/pomeranian/pomeranian_88.jpg\n",
      "ERROR: data/pets/imgs/pomeranian/pomeranian_73.jpg\n",
      "ERROR: data/pets/imgs/pomeranian/pomeranian_20.jpg\n",
      "ERROR: data/pets/imgs/pomeranian/pomeranian_97.jpg\n",
      "ERROR: data/pets/imgs/pomeranian/pomeranian_98.jpg\n",
      "ERROR: data/pets/imgs/pomeranian/pomeranian_31.jpg\n",
      "ERROR:"
     ]
    },
    {
     "name": "stderr",
     "output_type": "stream",
     "text": [
      "\r",
      "  2%|▏         | 133/7386 [00:00<00:48, 149.80it/s]"
     ]
    },
    {
     "name": "stdout",
     "output_type": "stream",
     "text": [
      " data/pets/imgs/pomeranian/pomeranian_50.jpg\n",
      "ERROR: data/pets/imgs/pomeranian/pomeranian_74.jpg\n",
      "ERROR: data/pets/imgs/pomeranian/pomeranian_6.jpg\n",
      "ERROR: data/pets/imgs/pomeranian/pomeranian_40.jpg\n",
      "ERROR: data/pets/imgs/pomeranian/pomeranian_39.jpg\n",
      "ERROR: data/pets/imgs/pomeranian/pomeranian_42.jpg\n",
      "ERROR: data/pets/imgs/pomeranian/pomeranian_83.jpg\n",
      "ERROR: data/pets/imgs/pomeranian/pomeranian_199.jpg\n",
      "ERROR: data/pets/imgs/pomeranian/pomeranian_197.jpg\n",
      "ERROR: data/pets/imgs/pomeranian/pomeranian_27.jpg\n",
      "ERROR: data/pets/imgs/pomeranian/pomeranian_91.jpg\n",
      "ERROR: data/pets/imgs/pomeranian/pomeranian_60.jpg\n",
      "ERROR:"
     ]
    },
    {
     "name": "stderr",
     "output_type": "stream",
     "text": [
      "\r",
      "  2%|▏         | 151/7386 [00:01<00:53, 134.94it/s]"
     ]
    },
    {
     "name": "stdout",
     "output_type": "stream",
     "text": [
      " data/pets/imgs/pomeranian/pomeranian_76.jpg\n",
      "ERROR: data/pets/imgs/pomeranian/pomeranian_46.jpg\n",
      "ERROR: data/pets/imgs/pomeranian/pomeranian_34.jpg\n",
      "ERROR: data/pets/imgs/pomeranian/pomeranian_44.jpg\n",
      "ERROR: data/pets/imgs/pomeranian/pomeranian_57.jpg\n",
      "ERROR: data/pets/imgs/pomeranian/pomeranian_61.jpg\n",
      "ERROR:"
     ]
    },
    {
     "name": "stderr",
     "output_type": "stream",
     "text": [
      "\r",
      "  2%|▏         | 167/7386 [00:01<01:36, 74.65it/s] "
     ]
    },
    {
     "name": "stdout",
     "output_type": "stream",
     "text": [
      " data/pets/imgs/pomeranian/pomeranian_194.jpg\n",
      "ERROR: data/pets/imgs/pomeranian/pomeranian_96.jpg\n",
      "ERROR: data/pets/imgs/pomeranian/pomeranian_94.jpg\n",
      "ERROR:"
     ]
    },
    {
     "name": "stderr",
     "output_type": "stream",
     "text": [
      "\r",
      "  2%|▏         | 180/7386 [00:02<03:12, 37.37it/s]"
     ]
    },
    {
     "name": "stdout",
     "output_type": "stream",
     "text": [
      " data/pets/imgs/pomeranian/pomeranian_63.jpg\n",
      "ERROR: data/pets/imgs/pomeranian/pomeranian_92.jpg\n",
      "ERROR: data/pets/imgs/pomeranian/pomeranian_193.jpg\n",
      "ERROR: data/pets/imgs/pomeranian/pomeranian_200.jpg\n",
      "ERROR: data/pets/imgs/pomeranian/pomeranian_2.jpg\n",
      "ERROR: data/pets/imgs/pomeranian/pomeranian_22.jpg\n",
      "ERROR:"
     ]
    },
    {
     "name": "stderr",
     "output_type": "stream",
     "text": [
      "\r",
      "  3%|▎         | 189/7386 [00:02<02:47, 43.02it/s]"
     ]
    },
    {
     "name": "stdout",
     "output_type": "stream",
     "text": [
      " data/pets/imgs/pomeranian/pomeranian_29.jpg\n",
      "ERROR: data/pets/imgs/pomeranian/pomeranian_82.jpg\n",
      "ERROR: data/pets/imgs/pomeranian/pomeranian_59.jpg\n",
      "ERROR:"
     ]
    },
    {
     "name": "stderr",
     "output_type": "stream",
     "text": [
      "\r",
      "  3%|▎         | 198/7386 [00:02<02:45, 43.33it/s]"
     ]
    },
    {
     "name": "stdout",
     "output_type": "stream",
     "text": [
      " data/pets/imgs/pomeranian/pomeranian_84.jpg\n",
      "ERROR: data/pets/imgs/pomeranian/pomeranian_48.jpg\n",
      "ERROR: data/pets/imgs/pomeranian/pomeranian_68.jpg\n",
      "ERROR: data/pets/imgs/pomeranian/pomeranian_30.jpg\n",
      "ERROR: data/pets/imgs/pomeranian/pomeranian_23.jpg\n",
      "ERROR:"
     ]
    },
    {
     "name": "stderr",
     "output_type": "stream",
     "text": [
      "  3%|▎         | 214/7386 [00:03<03:03, 39.10it/s]"
     ]
    },
    {
     "name": "stdout",
     "output_type": "stream",
     "text": [
      " data/pets/imgs/yorkshire/yorkshire_terrier_3.jpg\n",
      "ERROR: data/pets/imgs/yorkshire/yorkshire_terrier_55.jpg\n",
      "ERROR: data/pets/imgs/yorkshire/yorkshire_terrier_60.jpg\n",
      "ERROR: data/pets/imgs/yorkshire/yorkshire_terrier_88.jpg\n",
      "ERROR: data/pets/imgs/yorkshire/yorkshire_terrier_20.jpg\n",
      "ERROR: data/pets/imgs/yorkshire/yorkshire_terrier_192.jpg\n",
      "ERROR: data/pets/imgs/yorkshire/yorkshire_terrier_97.jpg\n",
      "ERROR: data/pets/imgs/yorkshire/yorkshire_terrier_40.jpg\n",
      "ERROR: data/pets/imgs/yorkshire/yorkshire_terrier_99.jpg\n",
      "ERROR: data/pets/imgs/yorkshire/yorkshire_terrier_32.jpg\n",
      "ERROR: data/pets/imgs/yorkshire/yorkshire_terrier_53.jpg\n",
      "ERROR: data/pets/imgs/yorkshire/yorkshire_terrier_5.jpg\n",
      "ERROR: data/pets/imgs/yorkshire/yorkshire_terrier_78.jpg\n",
      "ERROR: data/pets/imgs/yorkshire/yorkshire_terrier_59.jpg\n",
      "ERROR:"
     ]
    },
    {
     "name": "stderr",
     "output_type": "stream",
     "text": [
      "\r",
      "  3%|▎         | 231/7386 [00:03<02:31, 47.35it/s]"
     ]
    },
    {
     "name": "stdout",
     "output_type": "stream",
     "text": [
      " data/pets/imgs/yorkshire/yorkshire_terrier_27.jpg\n",
      "ERROR: data/pets/imgs/yorkshire/yorkshire_terrier_89.jpg\n",
      "ERROR: data/pets/imgs/yorkshire/yorkshire_terrier_196.jpg\n",
      "ERROR: data/pets/imgs/yorkshire/yorkshire_terrier_36.jpg\n",
      "ERROR: data/pets/imgs/yorkshire/yorkshire_terrier_29.jpg\n",
      "ERROR:"
     ]
    },
    {
     "name": "stderr",
     "output_type": "stream",
     "text": [
      "\r",
      "  3%|▎         | 239/7386 [00:03<02:13, 53.37it/s]"
     ]
    },
    {
     "name": "stdout",
     "output_type": "stream",
     "text": [
      " data/pets/imgs/yorkshire/yorkshire_terrier_31.jpg\n",
      "ERROR: data/pets/imgs/yorkshire/yorkshire_terrier_73.jpg\n",
      "ERROR: data/pets/imgs/yorkshire/yorkshire_terrier_61.jpg\n",
      "ERROR: data/pets/imgs/yorkshire/yorkshire_terrier_34.jpg\n",
      "ERROR: data/pets/imgs/yorkshire/yorkshire_terrier_70.jpg\n",
      "ERROR: data/pets/imgs/yorkshire/yorkshire_terrier_67.jpg\n",
      "ERROR: data/pets/imgs/yorkshire/yorkshire_terrier_96.jpg\n",
      "ERROR: data/pets/imgs/yorkshire/yorkshire_terrier_7.jpg\n",
      "ERROR: data/pets/imgs/yorkshire/yorkshire_terrier_84.jpg\n",
      "ERROR:"
     ]
    },
    {
     "name": "stderr",
     "output_type": "stream",
     "text": [
      "\r",
      "  3%|▎         | 257/7386 [00:03<01:46, 67.14it/s]"
     ]
    },
    {
     "name": "stdout",
     "output_type": "stream",
     "text": [
      " data/pets/imgs/yorkshire/yorkshire_terrier_64.jpg\n",
      "ERROR: data/pets/imgs/yorkshire/yorkshire_terrier_74.jpg\n",
      "ERROR: data/pets/imgs/yorkshire/yorkshire_terrier_2.jpg\n",
      "ERROR: data/pets/imgs/yorkshire/yorkshire_terrier_58.jpg\n",
      "ERROR: data/pets/imgs/yorkshire/yorkshire_terrier_92.jpg\n",
      "ERROR: data/pets/imgs/yorkshire/yorkshire_terrier_39.jpg\n",
      "ERROR: data/pets/imgs/yorkshire/yorkshire_terrier_44.jpg\n",
      "ERROR:"
     ]
    },
    {
     "name": "stderr",
     "output_type": "stream",
     "text": [
      "\r",
      "  4%|▎         | 274/7386 [00:03<01:28, 80.70it/s]"
     ]
    },
    {
     "name": "stdout",
     "output_type": "stream",
     "text": [
      " data/pets/imgs/yorkshire/yorkshire_terrier_71.jpg\n",
      "ERROR: data/pets/imgs/yorkshire/yorkshire_terrier_194.jpg\n",
      "ERROR: data/pets/imgs/yorkshire/yorkshire_terrier_63.jpg\n",
      "ERROR: data/pets/imgs/yorkshire/yorkshire_terrier_19.jpg\n",
      "ERROR: data/pets/imgs/yorkshire/yorkshire_terrier_52.jpg\n",
      "ERROR: data/pets/imgs/yorkshire/yorkshire_terrier_72.jpg\n",
      "ERROR: data/pets/imgs/yorkshire/yorkshire_terrier_33.jpg\n",
      "ERROR: data/pets/imgs/yorkshire/yorkshire_terrier_98.jpg\n",
      "ERROR: data/pets/imgs/yorkshire/yorkshire_terrier_95.jpg\n",
      "ERROR: data/pets/imgs/yorkshire/yorkshire_terrier_76.jpg\n",
      "ERROR: data/pets/imgs/yorkshire/yorkshire_terrier_75.jpg\n",
      "ERROR: data/pets/imgs/yorkshire/yorkshire_terrier_30.jpg\n",
      "ERROR: data/pets/imgs/yorkshire/yorkshire_terrier_94.jpg\n",
      "ERROR: data/pets/imgs/yorkshire/yorkshire_terrier_65.jpg\n",
      "ERROR: data/pets/imgs/yorkshire/yorkshire_terrier_57.jpg\n",
      "ERROR: data/pets/imgs/yorkshire/yorkshire_terrier_21.jpg\n",
      "ERROR:"
     ]
    },
    {
     "name": "stderr",
     "output_type": "stream",
     "text": [
      "\r",
      "  4%|▍         | 299/7386 [00:03<01:10, 101.12it/s]"
     ]
    },
    {
     "name": "stdout",
     "output_type": "stream",
     "text": [
      " data/pets/imgs/yorkshire/yorkshire_terrier_200.jpg\n",
      "ERROR: data/pets/imgs/yorkshire/yorkshire_terrier_43.jpg\n",
      "ERROR: data/pets/imgs/yorkshire/yorkshire_terrier_87.jpg\n",
      "ERROR: data/pets/imgs/yorkshire/yorkshire_terrier_47.jpg\n",
      "ERROR: data/pets/imgs/yorkshire/yorkshire_terrier_9.jpg\n",
      "ERROR:"
     ]
    },
    {
     "name": "stderr",
     "output_type": "stream",
     "text": [
      "\r",
      "  4%|▍         | 315/7386 [00:03<01:05, 108.49it/s]"
     ]
    },
    {
     "name": "stdout",
     "output_type": "stream",
     "text": [
      " data/pets/imgs/yorkshire/yorkshire_terrier_8.jpg\n",
      "ERROR: data/pets/imgs/yorkshire/yorkshire_terrier_24.jpg\n",
      "ERROR: data/pets/imgs/yorkshire/yorkshire_terrier_41.jpg\n",
      "ERROR: data/pets/imgs/yorkshire/yorkshire_terrier_48.jpg\n",
      "ERROR: data/pets/imgs/yorkshire/yorkshire_terrier_82.jpg\n",
      "ERROR: data/pets/imgs/yorkshire/yorkshire_terrier_198.jpg\n",
      "ERROR: data/pets/imgs/yorkshire/yorkshire_terrier_199.jpg\n",
      "ERROR: data/pets/imgs/yorkshire/yorkshire_terrier_54.jpg\n",
      "ERROR: data/pets/imgs/yorkshire/yorkshire_terrier_197.jpg\n",
      "ERROR: data/pets/imgs/yorkshire/yorkshire_terrier_45.jpg\n",
      "ERROR:"
     ]
    },
    {
     "name": "stderr",
     "output_type": "stream",
     "text": [
      "\r",
      "  4%|▍         | 330/7386 [00:03<01:00, 117.34it/s]"
     ]
    },
    {
     "name": "stdout",
     "output_type": "stream",
     "text": [
      " data/pets/imgs/yorkshire/yorkshire_terrier_49.jpg\n",
      "ERROR: data/pets/imgs/yorkshire/yorkshire_terrier_81.jpg\n",
      "ERROR: data/pets/imgs/yorkshire/yorkshire_terrier_91.jpg\n",
      "ERROR: data/pets/imgs/yorkshire/yorkshire_terrier_85.jpg\n",
      "ERROR: data/pets/imgs/yorkshire/yorkshire_terrier_22.jpg\n",
      "ERROR: data/pets/imgs/yorkshire/yorkshire_terrier_51.jpg\n",
      "ERROR: data/pets/imgs/yorkshire/yorkshire_terrier_26.jpg\n",
      "ERROR: data/pets/imgs/yorkshire/yorkshire_terrier_195.jpg\n",
      "ERROR: data/pets/imgs/yorkshire/yorkshire_terrier_86.jpg\n",
      "ERROR:"
     ]
    },
    {
     "name": "stderr",
     "output_type": "stream",
     "text": [
      "\r",
      "  5%|▍         | 349/7386 [00:04<00:53, 132.30it/s]"
     ]
    },
    {
     "name": "stdout",
     "output_type": "stream",
     "text": [
      " data/pets/imgs/yorkshire/yorkshire_terrier_68.jpg\n",
      "ERROR: data/pets/imgs/yorkshire/yorkshire_terrier_93.jpg\n",
      "ERROR: data/pets/imgs/yorkshire/yorkshire_terrier_56.jpg\n",
      "ERROR: data/pets/imgs/yorkshire/yorkshire_terrier_69.jpg\n",
      "ERROR: data/pets/imgs/yorkshire/yorkshire_terrier_28.jpg\n",
      "ERROR: data/pets/imgs/yorkshire/yorkshire_terrier_6.jpg\n",
      "ERROR: data/pets/imgs/yorkshire/yorkshire_terrier_37.jpg\n",
      "ERROR: data/pets/imgs/yorkshire/yorkshire_terrier_62.jpg\n",
      "ERROR: data/pets/imgs/yorkshire/yorkshire_terrier_50.jpg\n",
      "ERROR: data/pets/imgs/yorkshire/yorkshire_terrier_38.jpg\n",
      "ERROR:"
     ]
    },
    {
     "name": "stderr",
     "output_type": "stream",
     "text": [
      "\r",
      "  5%|▍         | 365/7386 [00:04<00:57, 121.22it/s]"
     ]
    },
    {
     "name": "stdout",
     "output_type": "stream",
     "text": [
      " data/pets/imgs/yorkshire/yorkshire_terrier_35.jpg\n",
      "ERROR: data/pets/imgs/yorkshire/yorkshire_terrier_77.jpg\n",
      "ERROR:"
     ]
    },
    {
     "name": "stderr",
     "output_type": "stream",
     "text": [
      "\r",
      "  5%|▌         | 380/7386 [00:04<01:07, 104.31it/s]"
     ]
    },
    {
     "name": "stdout",
     "output_type": "stream",
     "text": [
      " data/pets/imgs/yorkshire/yorkshire_terrier_83.jpg\n",
      "ERROR: data/pets/imgs/yorkshire/yorkshire_terrier_46.jpg\n",
      "ERROR: data/pets/imgs/yorkshire/yorkshire_terrier_191.jpg\n",
      "ERROR: data/pets/imgs/yorkshire/yorkshire_terrier_4.jpg\n",
      "ERROR: data/pets/imgs/yorkshire/yorkshire_terrier_79.jpg\n",
      "ERROR: data/pets/imgs/yorkshire/yorkshire_terrier_23.jpg\n",
      "ERROR: data/pets/imgs/yorkshire/yorkshire_terrier_25.jpg\n",
      "ERROR: data/pets/imgs/yorkshire/yorkshire_terrier_1.jpg\n",
      "ERROR: data/pets/imgs/yorkshire/yorkshire_terrier_90.jpg\n",
      "ERROR: data/pets/imgs/yorkshire/yorkshire_terrier_66.jpg\n",
      "ERROR: data/pets/imgs/yorkshire/yorkshire_terrier_80.jpg\n",
      "ERROR: data/pets/imgs/yorkshire/yorkshire_terrier_42.jpg\n",
      "ERROR:"
     ]
    },
    {
     "name": "stderr",
     "output_type": "stream",
     "text": [
      "\r",
      "  5%|▌         | 397/7386 [00:04<01:00, 116.41it/s]"
     ]
    },
    {
     "name": "stdout",
     "output_type": "stream",
     "text": [
      " data/pets/imgs/yorkshire/yorkshire_terrier_193.jpg\n",
      "ERROR: data/pets/imgs/basset/basset_hound_76.jpg\n",
      "ERROR:"
     ]
    },
    {
     "name": "stderr",
     "output_type": "stream",
     "text": [
      "\r",
      "  6%|▌         | 411/7386 [00:04<01:25, 81.80it/s] "
     ]
    },
    {
     "name": "stdout",
     "output_type": "stream",
     "text": [
      " data/pets/imgs/basset/basset_hound_198.jpg\n",
      "ERROR: data/pets/imgs/basset/basset_hound_63.jpg\n",
      "ERROR: data/pets/imgs/basset/basset_hound_47.jpg\n",
      "ERROR: data/pets/imgs/basset/basset_hound_34.jpg\n",
      "ERROR: data/pets/imgs/basset/basset_hound_37.jpg\n",
      "ERROR: data/pets/imgs/basset/basset_hound_67.jpg\n",
      "ERROR: data/pets/imgs/basset/basset_hound_94.jpg\n",
      "ERROR:"
     ]
    },
    {
     "name": "stderr",
     "output_type": "stream",
     "text": [
      "\r",
      "  6%|▌         | 422/7386 [00:04<01:24, 82.37it/s]"
     ]
    },
    {
     "name": "stdout",
     "output_type": "stream",
     "text": [
      " data/pets/imgs/basset/basset_hound_4.jpg\n",
      "ERROR: data/pets/imgs/basset/basset_hound_30.jpg\n",
      "ERROR:"
     ]
    },
    {
     "name": "stderr",
     "output_type": "stream",
     "text": [
      "\r",
      "  6%|▌         | 433/7386 [00:05<01:42, 67.66it/s]"
     ]
    },
    {
     "name": "stdout",
     "output_type": "stream",
     "text": [
      " data/pets/imgs/basset/basset_hound_200.jpg\n",
      "ERROR: data/pets/imgs/basset/basset_hound_8.jpg\n",
      "ERROR: data/pets/imgs/basset/basset_hound_44.jpg\n",
      "ERROR:"
     ]
    },
    {
     "name": "stderr",
     "output_type": "stream",
     "text": [
      "\r",
      "  6%|▌         | 448/7386 [00:05<01:25, 80.97it/s]"
     ]
    },
    {
     "name": "stdout",
     "output_type": "stream",
     "text": [
      " data/pets/imgs/basset/basset_hound_82.jpg\n",
      "ERROR: data/pets/imgs/basset/basset_hound_21.jpg\n",
      "ERROR: data/pets/imgs/basset/basset_hound_24.jpg\n",
      "ERROR: data/pets/imgs/basset/basset_hound_52.jpg\n",
      "ERROR: data/pets/imgs/basset/basset_hound_50.jpg\n",
      "ERROR: data/pets/imgs/basset/basset_hound_69.jpg\n",
      "ERROR: data/pets/imgs/basset/basset_hound_57.jpg\n",
      "ERROR: data/pets/imgs/basset/basset_hound_32.jpg\n",
      "ERROR: data/pets/imgs/basset/basset_hound_194.jpg\n",
      "ERROR: data/pets/imgs/basset/basset_hound_40.jpg\n",
      "ERROR: data/pets/imgs/basset/basset_hound_46.jpg\n",
      "ERROR:"
     ]
    },
    {
     "name": "stderr",
     "output_type": "stream",
     "text": [
      "\r",
      "  6%|▌         | 459/7386 [00:05<01:34, 73.02it/s]"
     ]
    },
    {
     "name": "stdout",
     "output_type": "stream",
     "text": [
      " data/pets/imgs/basset/basset_hound_68.jpg\n",
      "ERROR: data/pets/imgs/basset/basset_hound_93.jpg\n",
      "ERROR: data/pets/imgs/basset/basset_hound_38.jpg\n",
      "ERROR:"
     ]
    },
    {
     "name": "stderr",
     "output_type": "stream",
     "text": [
      "\r",
      "  6%|▋         | 469/7386 [00:05<01:40, 69.04it/s]"
     ]
    },
    {
     "name": "stdout",
     "output_type": "stream",
     "text": [
      " data/pets/imgs/basset/basset_hound_85.jpg\n",
      "ERROR: data/pets/imgs/basset/basset_hound_192.jpg\n",
      "ERROR: data/pets/imgs/basset/basset_hound_61.jpg\n",
      "ERROR: data/pets/imgs/basset/basset_hound_88.jpg\n",
      "ERROR: data/pets/imgs/basset/basset_hound_19.jpg\n",
      "ERROR: data/pets/imgs/basset/basset_hound_191.jpg\n",
      "ERROR:"
     ]
    },
    {
     "name": "stderr",
     "output_type": "stream",
     "text": [
      "\r",
      "  6%|▋         | 478/7386 [00:05<01:34, 72.73it/s]"
     ]
    },
    {
     "name": "stdout",
     "output_type": "stream",
     "text": [
      " data/pets/imgs/basset/basset_hound_43.jpg\n",
      "ERROR: data/pets/imgs/basset/basset_hound_53.jpg\n",
      "ERROR: data/pets/imgs/basset/basset_hound_89.jpg\n",
      "ERROR: data/pets/imgs/basset/basset_hound_78.jpg\n",
      "ERROR: data/pets/imgs/basset/basset_hound_20.jpg\n",
      "ERROR: data/pets/imgs/basset/basset_hound_197.jpg\n",
      "ERROR: data/pets/imgs/basset/basset_hound_99.jpg\n",
      "ERROR: data/pets/imgs/basset/basset_hound_96.jpg\n",
      "ERROR: data/pets/imgs/basset/basset_hound_55.jpg\n",
      "ERROR: data/pets/imgs/basset/basset_hound_195.jpg\n",
      "ERROR:"
     ]
    },
    {
     "name": "stderr",
     "output_type": "stream",
     "text": [
      "\r",
      "  7%|▋         | 489/7386 [00:05<01:28, 77.66it/s]"
     ]
    },
    {
     "name": "stdout",
     "output_type": "stream",
     "text": [
      " data/pets/imgs/basset/basset_hound_72.jpg\n",
      "ERROR:"
     ]
    },
    {
     "name": "stderr",
     "output_type": "stream",
     "text": [
      "\r",
      "  7%|▋         | 499/7386 [00:06<01:46, 64.37it/s]"
     ]
    },
    {
     "name": "stdout",
     "output_type": "stream",
     "text": [
      " data/pets/imgs/basset/basset_hound_80.jpg\n",
      "ERROR: data/pets/imgs/basset/basset_hound_196.jpg\n",
      "ERROR: data/pets/imgs/basset/basset_hound_5.jpg\n",
      "ERROR: data/pets/imgs/basset/basset_hound_59.jpg\n",
      "ERROR: data/pets/imgs/basset/basset_hound_2.jpg\n",
      "ERROR: data/pets/imgs/basset/basset_hound_60.jpg\n",
      "ERROR: data/pets/imgs/basset/basset_hound_23.jpg\n",
      "ERROR: data/pets/imgs/basset/basset_hound_51.jpg\n",
      "ERROR:"
     ]
    },
    {
     "name": "stderr",
     "output_type": "stream",
     "text": [
      "\r",
      "  7%|▋         | 509/7386 [00:06<01:38, 69.52it/s]"
     ]
    },
    {
     "name": "stdout",
     "output_type": "stream",
     "text": [
      " data/pets/imgs/basset/basset_hound_97.jpg\n",
      "ERROR: data/pets/imgs/basset/basset_hound_48.jpg\n",
      "ERROR: data/pets/imgs/basset/basset_hound_64.jpg\n",
      "ERROR: data/pets/imgs/basset/basset_hound_49.jpg\n",
      "ERROR:"
     ]
    },
    {
     "name": "stderr",
     "output_type": "stream",
     "text": [
      "\r",
      "  7%|▋         | 517/7386 [00:07<07:47, 14.70it/s]"
     ]
    },
    {
     "name": "stdout",
     "output_type": "stream",
     "text": [
      " data/pets/imgs/basset/basset_hound_87.jpg\n",
      "ERROR: data/pets/imgs/basset/basset_hound_193.jpg\n",
      "ERROR:"
     ]
    },
    {
     "name": "stderr",
     "output_type": "stream",
     "text": [
      "\r",
      "  7%|▋         | 523/7386 [00:07<06:08, 18.61it/s]"
     ]
    },
    {
     "name": "stdout",
     "output_type": "stream",
     "text": [
      " data/pets/imgs/basset/basset_hound_36.jpg\n",
      "ERROR: data/pets/imgs/basset/basset_hound_42.jpg\n",
      "ERROR:"
     ]
    },
    {
     "name": "stderr",
     "output_type": "stream",
     "text": [
      "\r",
      "  7%|▋         | 530/7386 [00:07<05:02, 22.66it/s]"
     ]
    },
    {
     "name": "stdout",
     "output_type": "stream",
     "text": [
      " data/pets/imgs/basset/basset_hound_70.jpg\n",
      "ERROR: data/pets/imgs/basset/basset_hound_74.jpg\n",
      "ERROR: data/pets/imgs/basset/basset_hound_79.jpg\n",
      "ERROR: data/pets/imgs/basset/basset_hound_62.jpg\n",
      "ERROR: data/pets/imgs/basset/basset_hound_65.jpg\n",
      "ERROR: data/pets/imgs/basset/basset_hound_33.jpg\n",
      "ERROR: data/pets/imgs/basset/basset_hound_26.jpg\n",
      "ERROR:"
     ]
    },
    {
     "name": "stderr",
     "output_type": "stream",
     "text": [
      "\r",
      "  7%|▋         | 546/7386 [00:08<03:44, 30.41it/s]"
     ]
    },
    {
     "name": "stdout",
     "output_type": "stream",
     "text": [
      " data/pets/imgs/basset/basset_hound_91.jpg\n",
      "ERROR: data/pets/imgs/basset/basset_hound_95.jpg\n",
      "ERROR: data/pets/imgs/basset/basset_hound_3.jpg\n",
      "ERROR: data/pets/imgs/basset/basset_hound_31.jpg\n",
      "ERROR: data/pets/imgs/basset/basset_hound_58.jpg\n",
      "ERROR: data/pets/imgs/basset/basset_hound_27.jpg\n",
      "ERROR: data/pets/imgs/basset/basset_hound_98.jpg\n",
      "ERROR: data/pets/imgs/basset/basset_hound_41.jpg\n",
      "ERROR:"
     ]
    },
    {
     "name": "stderr",
     "output_type": "stream",
     "text": [
      "\r",
      "  8%|▊         | 560/7386 [00:08<02:52, 39.48it/s]"
     ]
    },
    {
     "name": "stdout",
     "output_type": "stream",
     "text": [
      " data/pets/imgs/basset/basset_hound_22.jpg\n",
      "ERROR: data/pets/imgs/basset/basset_hound_7.jpg\n",
      "ERROR: data/pets/cropped/basset/basset_hound_135.jpg\n",
      "ERROR: data/pets/imgs/basset/basset_hound_28.jpg\n",
      "ERROR: data/pets/cropped/basset/basset_hound_164.jpg\n",
      "ERROR: data/pets/imgs/basset/basset_hound_86.jpg\n",
      "ERROR: data/pets/imgs/basset/basset_hound_92.jpg\n",
      "ERROR: data/pets/imgs/basset/basset_hound_39.jpg\n",
      "ERROR: data/pets/imgs/basset/basset_hound_1.jpg\n",
      "ERROR: data/pets/imgs/basset/basset_hound_35.jpg\n",
      "ERROR: data/pets/imgs/basset/basset_hound_73.jpg\n",
      "ERROR:"
     ]
    },
    {
     "name": "stderr",
     "output_type": "stream",
     "text": [
      "\r",
      "  8%|▊         | 574/7386 [00:08<02:16, 49.97it/s]"
     ]
    },
    {
     "name": "stdout",
     "output_type": "stream",
     "text": [
      " data/pets/imgs/basset/basset_hound_56.jpg\n",
      "ERROR: data/pets/imgs/basset/basset_hound_81.jpg\n",
      "ERROR: data/pets/imgs/basset/basset_hound_71.jpg\n",
      "ERROR: data/pets/imgs/basset/basset_hound_54.jpg\n",
      "ERROR: data/pets/imgs/basset/basset_hound_83.jpg\n",
      "ERROR: data/pets/imgs/basset/basset_hound_77.jpg\n",
      "ERROR: data/pets/imgs/basset/basset_hound_45.jpg\n",
      "ERROR: data/pets/imgs/basset/basset_hound_90.jpg\n",
      "ERROR:"
     ]
    },
    {
     "name": "stderr",
     "output_type": "stream",
     "text": [
      "\r",
      "  8%|▊         | 585/7386 [00:08<02:00, 56.43it/s]"
     ]
    },
    {
     "name": "stdout",
     "output_type": "stream",
     "text": [
      " data/pets/imgs/basset/basset_hound_75.jpg\n",
      "ERROR: data/pets/imgs/basset/basset_hound_6.jpg\n",
      "ERROR: data/pets/imgs/basset/basset_hound_9.jpg\n",
      "ERROR:"
     ]
    },
    {
     "name": "stderr",
     "output_type": "stream",
     "text": [
      "\r",
      "  8%|▊         | 595/7386 [00:08<01:53, 60.01it/s]"
     ]
    },
    {
     "name": "stdout",
     "output_type": "stream",
     "text": [
      " data/pets/imgs/basset/basset_hound_66.jpg\n",
      "ERROR: data/pets/imgs/basset/basset_hound_84.jpg\n",
      "ERROR: data/pets/imgs/basset/basset_hound_29.jpg\n",
      "ERROR: data/pets/imgs/basset/basset_hound_25.jpg\n",
      "ERROR: data/pets/imgs/basset/basset_hound_199.jpg\n",
      "ERROR:"
     ]
    },
    {
     "name": "stderr",
     "output_type": "stream",
     "text": [
      "\r",
      "  8%|▊         | 605/7386 [00:08<01:49, 62.14it/s]"
     ]
    },
    {
     "name": "stdout",
     "output_type": "stream",
     "text": [
      " data/pets/imgs/havanese/havanese_29.jpg\n",
      "ERROR: data/pets/imgs/havanese/havanese_197.jpg\n",
      "ERROR: data/pets/imgs/havanese/havanese_41.jpg\n",
      "ERROR: data/pets/imgs/havanese/havanese_57.jpg\n",
      "ERROR: data/pets/imgs/havanese/havanese_61.jpg\n",
      "ERROR: data/pets/imgs/havanese/havanese_92.jpg\n",
      "ERROR: data/pets/imgs/havanese/havanese_71.jpg\n",
      "ERROR:"
     ]
    },
    {
     "name": "stderr",
     "output_type": "stream",
     "text": [
      "\r",
      "  8%|▊         | 620/7386 [00:08<01:29, 75.21it/s]"
     ]
    },
    {
     "name": "stdout",
     "output_type": "stream",
     "text": [
      " data/pets/imgs/havanese/havanese_65.jpg\n",
      "ERROR: data/pets/imgs/havanese/havanese_22.jpg\n",
      "ERROR: data/pets/imgs/havanese/havanese_84.jpg\n",
      "ERROR: data/pets/imgs/havanese/havanese_96.jpg\n",
      "ERROR:"
     ]
    },
    {
     "name": "stderr",
     "output_type": "stream",
     "text": [
      "\r",
      "  9%|▊         | 631/7386 [00:09<01:41, 66.54it/s]"
     ]
    },
    {
     "name": "stdout",
     "output_type": "stream",
     "text": [
      " data/pets/imgs/havanese/havanese_45.jpg\n",
      "ERROR: data/pets/imgs/havanese/havanese_62.jpg\n",
      "ERROR: data/pets/imgs/havanese/havanese_40.jpg\n",
      "ERROR: data/pets/imgs/havanese/havanese_51.jpg\n",
      "ERROR: data/pets/imgs/havanese/havanese_21.jpg\n",
      "ERROR: data/pets/imgs/havanese/havanese_99.jpg\n",
      "ERROR: data/pets/imgs/havanese/havanese_30.jpg\n",
      "ERROR: data/pets/imgs/havanese/havanese_73.jpg\n",
      "ERROR:"
     ]
    },
    {
     "name": "stderr",
     "output_type": "stream",
     "text": [
      "\r",
      "  9%|▉         | 647/7386 [00:09<01:23, 80.54it/s]"
     ]
    },
    {
     "name": "stdout",
     "output_type": "stream",
     "text": [
      " data/pets/imgs/havanese/havanese_35.jpg\n",
      "ERROR: data/pets/imgs/havanese/havanese_37.jpg\n",
      "ERROR: data/pets/imgs/havanese/havanese_86.jpg\n",
      "ERROR: data/pets/imgs/havanese/havanese_36.jpg\n",
      "ERROR: data/pets/imgs/havanese/havanese_85.jpg\n",
      "ERROR:"
     ]
    },
    {
     "name": "stderr",
     "output_type": "stream",
     "text": [
      "\r",
      "  9%|▉         | 661/7386 [00:09<01:15, 89.34it/s]"
     ]
    },
    {
     "name": "stdout",
     "output_type": "stream",
     "text": [
      " data/pets/imgs/havanese/havanese_68.jpg\n",
      "ERROR: data/pets/imgs/havanese/havanese_67.jpg\n",
      "ERROR: data/pets/imgs/havanese/havanese_50.jpg\n",
      "ERROR: data/pets/imgs/havanese/havanese_9.jpg\n",
      "ERROR: data/pets/imgs/havanese/havanese_78.jpg\n",
      "ERROR: data/pets/imgs/havanese/havanese_52.jpg\n",
      "ERROR: data/pets/imgs/havanese/havanese_66.jpg\n",
      "ERROR: data/pets/imgs/havanese/havanese_34.jpg\n",
      "ERROR:"
     ]
    },
    {
     "name": "stderr",
     "output_type": "stream",
     "text": [
      "\r",
      "  9%|▉         | 673/7386 [00:09<01:10, 94.98it/s]"
     ]
    },
    {
     "name": "stdout",
     "output_type": "stream",
     "text": [
      " data/pets/imgs/havanese/havanese_44.jpg\n",
      "ERROR: data/pets/imgs/havanese/havanese_7.jpg\n",
      "ERROR: data/pets/imgs/havanese/havanese_5.jpg\n",
      "ERROR: data/pets/imgs/havanese/havanese_97.jpg\n",
      "ERROR: data/pets/imgs/havanese/havanese_23.jpg\n",
      "ERROR:"
     ]
    },
    {
     "name": "stderr",
     "output_type": "stream",
     "text": [
      "\r",
      "  9%|▉         | 685/7386 [00:09<01:10, 95.46it/s]"
     ]
    },
    {
     "name": "stdout",
     "output_type": "stream",
     "text": [
      " data/pets/imgs/havanese/havanese_8.jpg\n",
      "ERROR: data/pets/imgs/havanese/havanese_38.jpg\n",
      "ERROR: data/pets/imgs/havanese/havanese_88.jpg\n",
      "ERROR: data/pets/imgs/havanese/havanese_46.jpg\n",
      "ERROR: data/pets/imgs/havanese/havanese_195.jpg\n",
      "ERROR: data/pets/imgs/havanese/havanese_198.jpg\n",
      "ERROR:"
     ]
    },
    {
     "name": "stderr",
     "output_type": "stream",
     "text": [
      "\r",
      "  9%|▉         | 696/7386 [00:09<01:07, 99.11it/s]"
     ]
    },
    {
     "name": "stdout",
     "output_type": "stream",
     "text": [
      " data/pets/imgs/havanese/havanese_82.jpg\n",
      "ERROR: data/pets/imgs/havanese/havanese_93.jpg\n",
      "ERROR: data/pets/imgs/havanese/havanese_49.jpg\n",
      "ERROR: data/pets/imgs/havanese/havanese_94.jpg\n",
      "ERROR: data/pets/imgs/havanese/havanese_26.jpg\n",
      "ERROR:"
     ]
    },
    {
     "name": "stderr",
     "output_type": "stream",
     "text": [
      "\r",
      " 10%|▉         | 710/7386 [00:09<01:03, 105.45it/s]"
     ]
    },
    {
     "name": "stdout",
     "output_type": "stream",
     "text": [
      " data/pets/imgs/havanese/havanese_83.jpg\n",
      "ERROR: data/pets/imgs/havanese/havanese_70.jpg\n",
      "ERROR: data/pets/imgs/havanese/havanese_60.jpg\n",
      "ERROR:"
     ]
    },
    {
     "name": "stderr",
     "output_type": "stream",
     "text": [
      "\r",
      " 10%|▉         | 722/7386 [00:09<01:10, 94.86it/s] "
     ]
    },
    {
     "name": "stdout",
     "output_type": "stream",
     "text": [
      " data/pets/imgs/havanese/havanese_42.jpg\n",
      "ERROR: data/pets/imgs/havanese/havanese_27.jpg\n",
      "ERROR: data/pets/imgs/havanese/havanese_39.jpg\n",
      "ERROR: data/pets/imgs/havanese/havanese_69.jpg\n",
      "ERROR: data/pets/imgs/havanese/havanese_24.jpg\n",
      "ERROR: data/pets/imgs/havanese/havanese_58.jpg\n",
      "ERROR:"
     ]
    },
    {
     "name": "stderr",
     "output_type": "stream",
     "text": [
      "\r",
      " 10%|▉         | 733/7386 [00:10<01:24, 78.69it/s]"
     ]
    },
    {
     "name": "stdout",
     "output_type": "stream",
     "text": [
      " data/pets/imgs/havanese/havanese_53.jpg\n",
      "ERROR: data/pets/imgs/havanese/havanese_54.jpg\n",
      "ERROR: data/pets/imgs/havanese/havanese_64.jpg\n",
      "ERROR: data/pets/imgs/havanese/havanese_199.jpg\n",
      "ERROR: data/pets/imgs/havanese/havanese_56.jpg\n",
      "ERROR: data/pets/imgs/havanese/havanese_28.jpg\n",
      "ERROR: data/pets/imgs/havanese/havanese_89.jpg\n",
      "ERROR: data/pets/imgs/havanese/havanese_20.jpg\n",
      "ERROR:"
     ]
    },
    {
     "name": "stderr",
     "output_type": "stream",
     "text": [
      " 10%|█         | 757/7386 [00:10<01:11, 92.42it/s]"
     ]
    },
    {
     "name": "stdout",
     "output_type": "stream",
     "text": [
      " data/pets/imgs/havanese/havanese_25.jpg\n",
      "ERROR: data/pets/imgs/havanese/havanese_33.jpg\n",
      "ERROR: data/pets/imgs/havanese/havanese_3.jpg\n",
      "ERROR: data/pets/imgs/havanese/havanese_72.jpg\n",
      "ERROR: data/pets/imgs/havanese/havanese_74.jpg\n",
      "ERROR: data/pets/imgs/havanese/havanese_95.jpg\n",
      "ERROR: data/pets/imgs/havanese/havanese_43.jpg\n",
      "ERROR: data/pets/imgs/havanese/havanese_2.jpg\n",
      "ERROR: data/pets/imgs/havanese/havanese_48.jpg\n",
      "ERROR:"
     ]
    },
    {
     "name": "stderr",
     "output_type": "stream",
     "text": [
      "\r",
      " 10%|█         | 768/7386 [00:10<01:08, 96.14it/s]"
     ]
    },
    {
     "name": "stdout",
     "output_type": "stream",
     "text": [
      " data/pets/imgs/havanese/havanese_81.jpg\n",
      "ERROR: data/pets/imgs/havanese/havanese_75.jpg\n",
      "ERROR: data/pets/imgs/havanese/havanese_77.jpg\n",
      "ERROR: data/pets/imgs/havanese/havanese_1.jpg\n",
      "ERROR: data/pets/imgs/havanese/havanese_80.jpg\n",
      "ERROR: data/pets/imgs/havanese/havanese_200.jpg\n",
      "ERROR: data/pets/imgs/havanese/havanese_194.jpg\n",
      "ERROR: data/pets/imgs/havanese/havanese_79.jpg\n",
      "ERROR: data/pets/imgs/havanese/havanese_59.jpg\n",
      "ERROR: data/pets/imgs/havanese/havanese_63.jpg\n",
      "ERROR: data/pets/imgs/havanese/havanese_193.jpg\n",
      "ERROR: data/pets/imgs/havanese/havanese_6.jpg\n",
      "ERROR: data/pets/imgs/havanese/havanese_192.jpg\n",
      "ERROR: data/pets/imgs/havanese/havanese_55.jpg\n",
      "ERROR: data/pets/imgs/havanese/havanese_32.jpg\n",
      "ERROR:"
     ]
    },
    {
     "name": "stderr",
     "output_type": "stream",
     "text": [
      "\r",
      " 11%|█         | 797/7386 [00:10<00:55, 118.33it/s]"
     ]
    },
    {
     "name": "stdout",
     "output_type": "stream",
     "text": [
      " data/pets/imgs/havanese/havanese_191.jpg\n",
      "ERROR: data/pets/imgs/havanese/havanese_4.jpg\n",
      "ERROR: data/pets/imgs/havanese/havanese_19.jpg\n",
      "ERROR: data/pets/imgs/havanese/havanese_47.jpg\n",
      "ERROR: data/pets/imgs/havanese/havanese_91.jpg\n",
      "ERROR: data/pets/imgs/havanese/havanese_98.jpg\n",
      "ERROR: data/pets/imgs/havanese/havanese_76.jpg\n",
      "ERROR: data/pets/imgs/havanese/havanese_87.jpg\n",
      "ERROR: data/pets/imgs/havanese/havanese_31.jpg\n",
      "ERROR: data/pets/imgs/havanese/havanese_90.jpg\n",
      "ERROR: data/pets/imgs/havanese/havanese_196.jpg\n",
      "ERROR: data/pets/imgs/Russian/Russian_Blue_24.jpg\n",
      "ERROR: data/pets/imgs/Russian/Russian_Blue_204.jpg\n",
      "ERROR: data/pets/imgs/Russian/Russian_Blue_81.jpg\n",
      "ERROR: data/pets/imgs/Russian/Russian_Blue_41.jpg\n",
      "ERROR: data/pets/imgs/Russian/Russian_Blue_77.jpg\n",
      "ERROR:"
     ]
    },
    {
     "name": "stderr",
     "output_type": "stream",
     "text": [
      "\r",
      " 11%|█         | 813/7386 [00:10<01:13, 89.03it/s] "
     ]
    },
    {
     "name": "stdout",
     "output_type": "stream",
     "text": [
      " data/pets/imgs/Russian/Russian_Blue_96.jpg\n",
      "ERROR:"
     ]
    },
    {
     "name": "stderr",
     "output_type": "stream",
     "text": [
      "\r",
      " 11%|█         | 826/7386 [00:10<01:11, 92.06it/s]"
     ]
    },
    {
     "name": "stdout",
     "output_type": "stream",
     "text": [
      " data/pets/imgs/Russian/Russian_Blue_258.jpg\n",
      "ERROR: data/pets/imgs/Russian/Russian_Blue_78.jpg\n",
      "ERROR: data/pets/imgs/Russian/Russian_Blue_45.jpg\n",
      "ERROR: data/pets/imgs/Russian/Russian_Blue_98.jpg\n",
      "ERROR: data/pets/imgs/Russian/Russian_Blue_67.jpg\n",
      "ERROR: data/pets/imgs/Russian/Russian_Blue_228.jpg\n",
      "ERROR: data/pets/imgs/Russian/Russian_Blue_62.jpg\n",
      "ERROR: data/pets/imgs/Russian/Russian_Blue_57.jpg\n",
      "ERROR: data/pets/imgs/Russian/Russian_Blue_97.jpg\n",
      "ERROR:"
     ]
    },
    {
     "name": "stderr",
     "output_type": "stream",
     "text": [
      "\r",
      " 11%|█▏        | 838/7386 [00:11<01:21, 80.60it/s]"
     ]
    },
    {
     "name": "stdout",
     "output_type": "stream",
     "text": [
      " data/pets/imgs/Russian/Russian_Blue_220.jpg\n",
      "ERROR: data/pets/imgs/Russian/Russian_Blue_21.jpg\n",
      "ERROR:"
     ]
    },
    {
     "name": "stderr",
     "output_type": "stream",
     "text": [
      "\r",
      " 11%|█▏        | 848/7386 [00:11<01:35, 68.75it/s]"
     ]
    },
    {
     "name": "stdout",
     "output_type": "stream",
     "text": [
      " data/pets/imgs/Russian/Russian_Blue_60.jpg\n",
      "ERROR: data/pets/imgs/Russian/Russian_Blue_59.jpg\n",
      "ERROR: data/pets/imgs/Russian/Russian_Blue_240.jpg\n",
      "ERROR: data/pets/imgs/Russian/Russian_Blue_239.jpg\n",
      "ERROR: data/pets/imgs/Russian/Russian_Blue_68.jpg\n",
      "ERROR: data/pets/imgs/Russian/Russian_Blue_47.jpg\n",
      "ERROR: data/pets/imgs/Russian/Russian_Blue_70.jpg\n",
      "ERROR: data/pets/imgs/Russian/Russian_Blue_242.jpg\n",
      "ERROR: data/pets/imgs/Russian/Russian_Blue_76.jpg\n",
      "ERROR:"
     ]
    },
    {
     "name": "stderr",
     "output_type": "stream",
     "text": [
      "\r",
      " 12%|█▏        | 857/7386 [00:12<04:18, 25.29it/s]"
     ]
    },
    {
     "name": "stdout",
     "output_type": "stream",
     "text": [
      " data/pets/imgs/Russian/Russian_Blue_206.jpg\n",
      "ERROR: data/pets/imgs/Russian/Russian_Blue_54.jpg\n",
      "ERROR: data/pets/imgs/Russian/Russian_Blue_72.jpg\n",
      "ERROR: data/pets/imgs/Russian/Russian_Blue_43.jpg\n",
      "ERROR: data/pets/imgs/Russian/Russian_Blue_61.jpg\n",
      "ERROR: data/pets/imgs/Russian/Russian_Blue_27.jpg\n",
      "ERROR:"
     ]
    },
    {
     "name": "stderr",
     "output_type": "stream",
     "text": [
      "\r",
      " 12%|█▏        | 864/7386 [00:12<03:33, 30.54it/s]"
     ]
    },
    {
     "name": "stdout",
     "output_type": "stream",
     "text": [
      " data/pets/imgs/Russian/Russian_Blue_83.jpg\n",
      "ERROR: data/pets/imgs/Russian/Russian_Blue_71.jpg\n",
      "ERROR:"
     ]
    },
    {
     "name": "stderr",
     "output_type": "stream",
     "text": [
      "\r",
      " 12%|█▏        | 871/7386 [00:12<03:03, 35.55it/s]"
     ]
    },
    {
     "name": "stdout",
     "output_type": "stream",
     "text": [
      " data/pets/imgs/Russian/Russian_Blue_226.jpg\n",
      "ERROR: data/pets/imgs/Russian/Russian_Blue_99.jpg\n",
      "ERROR: data/pets/imgs/Russian/Russian_Blue_237.jpg\n",
      "ERROR:"
     ]
    },
    {
     "name": "stderr",
     "output_type": "stream",
     "text": [
      "\r",
      " 12%|█▏        | 878/7386 [00:12<02:54, 37.38it/s]"
     ]
    },
    {
     "name": "stdout",
     "output_type": "stream",
     "text": [
      " data/pets/imgs/Russian/Russian_Blue_69.jpg\n",
      "ERROR: data/pets/imgs/Russian/Russian_Blue_51.jpg\n",
      "ERROR: data/pets/imgs/Russian/Russian_Blue_208.jpg\n",
      "ERROR:"
     ]
    },
    {
     "name": "stderr",
     "output_type": "stream",
     "text": [
      "\r",
      " 12%|█▏        | 886/7386 [00:12<02:27, 43.97it/s]"
     ]
    },
    {
     "name": "stdout",
     "output_type": "stream",
     "text": [
      " data/pets/imgs/Russian/Russian_Blue_94.jpg\n",
      "ERROR: data/pets/imgs/Russian/Russian_Blue_244.jpg\n",
      "ERROR: data/pets/imgs/Russian/Russian_Blue_66.jpg\n",
      "ERROR: data/pets/imgs/Russian/Russian_Blue_63.jpg\n",
      "ERROR: data/pets/imgs/Russian/Russian_Blue_90.jpg\n",
      "ERROR: data/pets/imgs/Russian/Russian_Blue_203.jpg\n",
      "ERROR:"
     ]
    },
    {
     "name": "stderr",
     "output_type": "stream",
     "text": [
      "\r",
      " 12%|█▏        | 893/7386 [00:12<02:21, 45.96it/s]"
     ]
    },
    {
     "name": "stdout",
     "output_type": "stream",
     "text": [
      " data/pets/cropped/Russian/Russian_Blue_184.jpg\n",
      "ERROR: data/pets/imgs/Russian/Russian_Blue_30.jpg\n",
      "ERROR: data/pets/imgs/Russian/Russian_Blue_263.jpg\n",
      "ERROR: data/pets/imgs/Russian/Russian_Blue_50.jpg\n",
      "ERROR:"
     ]
    },
    {
     "name": "stderr",
     "output_type": "stream",
     "text": [
      " 12%|█▏        | 905/7386 [00:13<03:15, 33.19it/s]"
     ]
    },
    {
     "name": "stdout",
     "output_type": "stream",
     "text": [
      " data/pets/imgs/Russian/Russian_Blue_91.jpg\n",
      "ERROR: data/pets/imgs/Russian/Russian_Blue_205.jpg\n",
      "ERROR: data/pets/imgs/Russian/Russian_Blue_253.jpg\n",
      "ERROR: data/pets/imgs/Russian/Russian_Blue_221.jpg\n",
      "ERROR: data/pets/imgs/Russian/Russian_Blue_82.jpg\n",
      "ERROR: data/pets/imgs/Russian/Russian_Blue_93.jpg\n",
      "ERROR: data/pets/imgs/Russian/Russian_Blue_9.jpg\n",
      "ERROR: data/pets/imgs/Russian/Russian_Blue_207.jpg\n",
      "ERROR: data/pets/imgs/Russian/Russian_Blue_55.jpg\n",
      "ERROR: data/pets/imgs/Russian/Russian_Blue_85.jpg\n",
      "ERROR:"
     ]
    },
    {
     "name": "stderr",
     "output_type": "stream",
     "text": [
      "\r",
      " 12%|█▏        | 917/7386 [00:13<02:54, 37.05it/s]"
     ]
    },
    {
     "name": "stdout",
     "output_type": "stream",
     "text": [
      " data/pets/imgs/Russian/Russian_Blue_35.jpg\n",
      "ERROR:"
     ]
    },
    {
     "name": "stderr",
     "output_type": "stream",
     "text": [
      "\r",
      " 12%|█▏        | 922/7386 [00:13<03:15, 33.09it/s]"
     ]
    },
    {
     "name": "stdout",
     "output_type": "stream",
     "text": [
      " data/pets/imgs/Russian/Russian_Blue_236.jpg\n",
      "ERROR: data/pets/imgs/Russian/Russian_Blue_40.jpg\n",
      "ERROR: data/pets/imgs/Russian/Russian_Blue_84.jpg\n",
      "ERROR: data/pets/imgs/Russian/Russian_Blue_88.jpg\n",
      "ERROR: data/pets/imgs/Russian/Russian_Blue_29.jpg\n",
      "ERROR:"
     ]
    },
    {
     "name": "stderr",
     "output_type": "stream",
     "text": [
      "\r",
      " 13%|█▎        | 932/7386 [00:13<02:42, 39.71it/s]"
     ]
    },
    {
     "name": "stdout",
     "output_type": "stream",
     "text": [
      " data/pets/imgs/Russian/Russian_Blue_262.jpg\n",
      "ERROR: data/pets/imgs/Russian/Russian_Blue_49.jpg\n",
      "ERROR: data/pets/imgs/Russian/Russian_Blue_34.jpg\n",
      "ERROR:"
     ]
    },
    {
     "name": "stderr",
     "output_type": "stream",
     "text": [
      "\r",
      " 13%|█▎        | 937/7386 [00:14<05:27, 19.69it/s]"
     ]
    },
    {
     "name": "stdout",
     "output_type": "stream",
     "text": [
      " data/pets/imgs/Russian/Russian_Blue_87.jpg\n",
      "ERROR: data/pets/imgs/Russian/Russian_Blue_201.jpg\n",
      "ERROR: data/pets/imgs/Russian/Russian_Blue_80.jpg\n",
      "ERROR: data/pets/imgs/Russian/Russian_Blue_28.jpg\n",
      "ERROR: data/pets/imgs/Russian/Russian_Blue_64.jpg\n",
      "ERROR:"
     ]
    },
    {
     "name": "stderr",
     "output_type": "stream",
     "text": [
      "\r",
      " 13%|█▎        | 949/7386 [00:14<04:05, 26.20it/s]"
     ]
    },
    {
     "name": "stdout",
     "output_type": "stream",
     "text": [
      " data/pets/imgs/Russian/Russian_Blue_53.jpg\n",
      "ERROR: data/pets/imgs/Russian/Russian_Blue_38.jpg\n",
      "ERROR: data/pets/imgs/Russian/Russian_Blue_216.jpg\n",
      "ERROR: data/pets/imgs/Russian/Russian_Blue_36.jpg\n",
      "ERROR: data/pets/imgs/Russian/Russian_Blue_75.jpg\n",
      "ERROR: data/pets/imgs/Russian/Russian_Blue_209.jpg\n",
      "ERROR:"
     ]
    },
    {
     "name": "stderr",
     "output_type": "stream",
     "text": [
      "\r",
      " 13%|█▎        | 957/7386 [00:14<03:19, 32.19it/s]"
     ]
    },
    {
     "name": "stdout",
     "output_type": "stream",
     "text": [
      " data/pets/imgs/Russian/Russian_Blue_86.jpg\n",
      "ERROR:"
     ]
    },
    {
     "name": "stderr",
     "output_type": "stream",
     "text": [
      "\r",
      " 13%|█▎        | 965/7386 [00:14<02:49, 37.96it/s]"
     ]
    },
    {
     "name": "stdout",
     "output_type": "stream",
     "text": [
      " data/pets/imgs/Russian/Russian_Blue_215.jpg\n",
      "ERROR: data/pets/imgs/Russian/Russian_Blue_92.jpg\n",
      "ERROR: data/pets/imgs/Russian/Russian_Blue_79.jpg\n",
      "ERROR: data/pets/imgs/Russian/Russian_Blue_20.jpg\n",
      "ERROR: data/pets/imgs/Russian/Russian_Blue_232.jpg\n",
      "ERROR: data/pets/imgs/Russian/Russian_Blue_32.jpg\n",
      "ERROR: data/pets/imgs/Russian/Russian_Blue_73.jpg\n",
      "ERROR: data/pets/imgs/Russian/Russian_Blue_48.jpg\n",
      "ERROR:"
     ]
    },
    {
     "name": "stderr",
     "output_type": "stream",
     "text": [
      "\r",
      " 13%|█▎        | 974/7386 [00:14<02:25, 44.22it/s]"
     ]
    },
    {
     "name": "stdout",
     "output_type": "stream",
     "text": [
      " data/pets/imgs/Russian/Russian_Blue_8.jpg\n",
      "ERROR: data/pets/imgs/Russian/Russian_Blue_264.jpg\n",
      "ERROR: data/pets/imgs/Russian/Russian_Blue_31.jpg\n",
      "ERROR:"
     ]
    },
    {
     "name": "stderr",
     "output_type": "stream",
     "text": [
      "\r",
      " 13%|█▎        | 981/7386 [00:15<02:44, 38.96it/s]"
     ]
    },
    {
     "name": "stdout",
     "output_type": "stream",
     "text": [
      " data/pets/imgs/Russian/Russian_Blue_89.jpg\n",
      "ERROR: data/pets/imgs/Russian/Russian_Blue_211.jpg\n",
      "ERROR: data/pets/imgs/Russian/Russian_Blue_33.jpg\n",
      "ERROR: data/pets/imgs/Russian/Russian_Blue_44.jpg\n",
      "ERROR:"
     ]
    },
    {
     "name": "stderr",
     "output_type": "stream",
     "text": [
      "\r",
      " 13%|█▎        | 987/7386 [00:15<02:56, 36.33it/s]"
     ]
    },
    {
     "name": "stdout",
     "output_type": "stream",
     "text": [
      " data/pets/imgs/Russian/Russian_Blue_222.jpg\n",
      "ERROR: data/pets/imgs/Russian/Russian_Blue_74.jpg\n",
      "ERROR:"
     ]
    },
    {
     "name": "stderr",
     "output_type": "stream",
     "text": [
      "\r",
      " 13%|█▎        | 997/7386 [00:15<02:29, 42.76it/s]"
     ]
    },
    {
     "name": "stdout",
     "output_type": "stream",
     "text": [
      " data/pets/imgs/Russian/Russian_Blue_202.jpg\n",
      "ERROR: data/pets/imgs/Russian/Russian_Blue_95.jpg\n",
      "ERROR:"
     ]
    },
    {
     "name": "stderr",
     "output_type": "stream",
     "text": [
      "\r",
      " 14%|█▎        | 1003/7386 [00:16<05:02, 21.10it/s]"
     ]
    },
    {
     "name": "stdout",
     "output_type": "stream",
     "text": [
      " data/pets/imgs/Russian/Russian_Blue_212.jpg\n",
      "ERROR: data/pets/imgs/great/great_pyrenees_41.jpg\n",
      "ERROR: data/pets/imgs/great/great_pyrenees_21.jpg\n",
      "ERROR:"
     ]
    },
    {
     "name": "stderr",
     "output_type": "stream",
     "text": [
      "\r",
      " 14%|█▎        | 1009/7386 [00:16<04:13, 25.16it/s]"
     ]
    },
    {
     "name": "stdout",
     "output_type": "stream",
     "text": [
      " data/pets/imgs/great/great_pyrenees_28.jpg\n",
      "ERROR: data/pets/imgs/great/great_pyrenees_30.jpg\n",
      "ERROR:"
     ]
    },
    {
     "name": "stderr",
     "output_type": "stream",
     "text": [
      "\r",
      " 14%|█▎        | 1014/7386 [00:16<03:58, 26.72it/s]"
     ]
    },
    {
     "name": "stdout",
     "output_type": "stream",
     "text": [
      " data/pets/imgs/great/great_pyrenees_48.jpg\n",
      "ERROR:"
     ]
    },
    {
     "name": "stderr",
     "output_type": "stream",
     "text": [
      "\r",
      " 14%|█▍        | 1019/7386 [00:16<04:02, 26.30it/s]"
     ]
    },
    {
     "name": "stdout",
     "output_type": "stream",
     "text": [
      " data/pets/imgs/great/great_pyrenees_52.jpg\n",
      "ERROR: data/pets/imgs/great/great_pyrenees_93.jpg\n",
      "ERROR: data/pets/imgs/great/great_pyrenees_79.jpg\n",
      "ERROR:"
     ]
    },
    {
     "name": "stderr",
     "output_type": "stream",
     "text": [
      " 14%|█▍        | 1027/7386 [00:17<09:14, 11.47it/s]"
     ]
    },
    {
     "name": "stdout",
     "output_type": "stream",
     "text": [
      " data/pets/imgs/great/great_pyrenees_60.jpg\n",
      "ERROR: data/pets/imgs/great/great_pyrenees_27.jpg\n",
      "ERROR: data/pets/imgs/great/great_pyrenees_24.jpg\n",
      "ERROR:"
     ]
    },
    {
     "name": "stderr",
     "output_type": "stream",
     "text": [
      "\r",
      " 14%|█▍        | 1032/7386 [00:17<07:24, 14.28it/s]"
     ]
    },
    {
     "name": "stdout",
     "output_type": "stream",
     "text": [
      " data/pets/imgs/great/great_pyrenees_73.jpg\n",
      "ERROR: data/pets/imgs/great/great_pyrenees_29.jpg\n",
      "ERROR:"
     ]
    },
    {
     "name": "stderr",
     "output_type": "stream",
     "text": [
      "\r",
      " 14%|█▍        | 1035/7386 [00:17<09:01, 11.73it/s]"
     ]
    },
    {
     "name": "stdout",
     "output_type": "stream",
     "text": [
      " data/pets/imgs/great/great_pyrenees_19.jpg\n",
      "ERROR:"
     ]
    },
    {
     "name": "stderr",
     "output_type": "stream",
     "text": [
      "\r",
      " 14%|█▍        | 1038/7386 [00:18<10:16, 10.30it/s]"
     ]
    },
    {
     "name": "stdout",
     "output_type": "stream",
     "text": [
      " data/pets/imgs/great/great_pyrenees_44.jpg\n",
      "ERROR: data/pets/imgs/great/great_pyrenees_5.jpg\n",
      "ERROR: data/pets/imgs/great/great_pyrenees_95.jpg\n",
      "ERROR: data/pets/imgs/great/great_pyrenees_99.jpg\n",
      "ERROR: data/pets/imgs/great/great_pyrenees_192.jpg\n",
      "ERROR: data/pets/imgs/great/great_pyrenees_77.jpg\n",
      "ERROR:"
     ]
    },
    {
     "name": "stderr",
     "output_type": "stream",
     "text": [
      "\r",
      " 14%|█▍        | 1045/7386 [00:18<08:21, 12.65it/s]"
     ]
    },
    {
     "name": "stdout",
     "output_type": "stream",
     "text": [
      " data/pets/imgs/great/great_pyrenees_194.jpg\n",
      "ERROR:"
     ]
    },
    {
     "name": "stderr",
     "output_type": "stream",
     "text": [
      "\r",
      " 14%|█▍        | 1047/7386 [00:18<07:29, 14.10it/s]"
     ]
    },
    {
     "name": "stdout",
     "output_type": "stream",
     "text": [
      " data/pets/imgs/great/great_pyrenees_88.jpg\n",
      "ERROR: data/pets/imgs/great/great_pyrenees_63.jpg\n",
      "ERROR: data/pets/imgs/great/great_pyrenees_92.jpg\n",
      "ERROR: data/pets/imgs/great/great_pyrenees_3.jpg\n",
      "ERROR:"
     ]
    },
    {
     "name": "stderr",
     "output_type": "stream",
     "text": [
      "\r",
      " 14%|█▍        | 1053/7386 [00:18<05:50, 18.07it/s]"
     ]
    },
    {
     "name": "stdout",
     "output_type": "stream",
     "text": [
      " data/pets/imgs/great/great_pyrenees_196.jpg\n",
      "ERROR: data/pets/imgs/great/great_pyrenees_58.jpg\n",
      "ERROR: data/pets/imgs/great/great_pyrenees_91.jpg\n",
      "ERROR:"
     ]
    },
    {
     "name": "stderr",
     "output_type": "stream",
     "text": [
      " 14%|█▍        | 1063/7386 [00:19<04:00, 26.28it/s]"
     ]
    },
    {
     "name": "stdout",
     "output_type": "stream",
     "text": [
      " data/pets/imgs/great/great_pyrenees_56.jpg\n",
      "ERROR: data/pets/imgs/great/great_pyrenees_67.jpg\n",
      "ERROR: data/pets/imgs/great/great_pyrenees_8.jpg\n",
      "ERROR: data/pets/imgs/great/great_pyrenees_39.jpg\n",
      "ERROR: data/pets/imgs/great/great_pyrenees_36.jpg\n",
      "ERROR:"
     ]
    },
    {
     "name": "stderr",
     "output_type": "stream",
     "text": [
      "\r",
      " 15%|█▍        | 1080/7386 [00:19<03:05, 33.93it/s]"
     ]
    },
    {
     "name": "stdout",
     "output_type": "stream",
     "text": [
      " data/pets/imgs/great/great_pyrenees_76.jpg\n",
      "ERROR: data/pets/imgs/great/great_pyrenees_47.jpg\n",
      "ERROR: data/pets/imgs/great/great_pyrenees_198.jpg\n",
      "ERROR: data/pets/imgs/great/great_pyrenees_40.jpg\n",
      "ERROR: data/pets/imgs/great/great_pyrenees_197.jpg\n",
      "ERROR: data/pets/imgs/great/great_pyrenees_25.jpg\n",
      "ERROR: data/pets/imgs/great/great_pyrenees_9.jpg\n",
      "ERROR: data/pets/imgs/great/great_pyrenees_23.jpg\n",
      "ERROR: data/pets/imgs/great/great_pyrenees_55.jpg\n",
      "ERROR: data/pets/imgs/great/great_pyrenees_32.jpg\n",
      "ERROR:"
     ]
    },
    {
     "name": "stderr",
     "output_type": "stream",
     "text": [
      "\r",
      " 15%|█▍        | 1086/7386 [00:19<04:04, 25.74it/s]"
     ]
    },
    {
     "name": "stdout",
     "output_type": "stream",
     "text": [
      " data/pets/imgs/great/great_pyrenees_43.jpg\n",
      "ERROR:"
     ]
    },
    {
     "name": "stderr",
     "output_type": "stream",
     "text": [
      "\r",
      " 15%|█▍        | 1091/7386 [00:19<03:33, 29.52it/s]"
     ]
    },
    {
     "name": "stdout",
     "output_type": "stream",
     "text": [
      " data/pets/imgs/great/great_pyrenees_72.jpg\n",
      "ERROR: data/pets/imgs/great/great_pyrenees_97.jpg\n",
      "ERROR:"
     ]
    },
    {
     "name": "stderr",
     "output_type": "stream",
     "text": [
      "\r",
      " 15%|█▍        | 1098/7386 [00:19<03:14, 32.39it/s]"
     ]
    },
    {
     "name": "stdout",
     "output_type": "stream",
     "text": [
      " data/pets/imgs/great/great_pyrenees_7.jpg\n",
      "ERROR: data/pets/imgs/great/great_pyrenees_74.jpg\n",
      "ERROR: data/pets/imgs/great/great_pyrenees_4.jpg\n",
      "ERROR: data/pets/cropped/great/great_pyrenees_144.jpg\n",
      "ERROR:"
     ]
    },
    {
     "name": "stderr",
     "output_type": "stream",
     "text": [
      "\r",
      " 15%|█▍        | 1107/7386 [00:19<02:40, 39.22it/s]"
     ]
    },
    {
     "name": "stdout",
     "output_type": "stream",
     "text": [
      " data/pets/imgs/great/great_pyrenees_51.jpg\n",
      "ERROR: data/pets/imgs/great/great_pyrenees_6.jpg\n",
      "ERROR: data/pets/imgs/great/great_pyrenees_195.jpg\n",
      "ERROR: data/pets/imgs/great/great_pyrenees_200.jpg\n",
      "ERROR: data/pets/imgs/great/great_pyrenees_49.jpg\n",
      "ERROR: data/pets/imgs/great/great_pyrenees_22.jpg\n",
      "ERROR: data/pets/imgs/great/great_pyrenees_98.jpg\n",
      "ERROR:"
     ]
    },
    {
     "name": "stderr",
     "output_type": "stream",
     "text": [
      "\r",
      " 15%|█▌        | 1113/7386 [00:20<03:58, 26.33it/s]"
     ]
    },
    {
     "name": "stdout",
     "output_type": "stream",
     "text": [
      " data/pets/imgs/great/great_pyrenees_61.jpg\n",
      "ERROR: data/pets/imgs/great/great_pyrenees_75.jpg\n",
      "ERROR:"
     ]
    },
    {
     "name": "stderr",
     "output_type": "stream",
     "text": [
      "\r",
      " 15%|█▌        | 1118/7386 [00:20<03:44, 27.96it/s]"
     ]
    },
    {
     "name": "stdout",
     "output_type": "stream",
     "text": [
      " data/pets/imgs/great/great_pyrenees_26.jpg\n",
      "ERROR: data/pets/imgs/great/great_pyrenees_82.jpg\n",
      "ERROR:"
     ]
    },
    {
     "name": "stderr",
     "output_type": "stream",
     "text": [
      "\r",
      " 15%|█▌        | 1125/7386 [00:20<03:10, 32.90it/s]"
     ]
    },
    {
     "name": "stdout",
     "output_type": "stream",
     "text": [
      " data/pets/imgs/great/great_pyrenees_199.jpg\n",
      "ERROR: data/pets/imgs/great/great_pyrenees_86.jpg\n",
      "ERROR:"
     ]
    },
    {
     "name": "stderr",
     "output_type": "stream",
     "text": [
      "\r",
      " 15%|█▌        | 1130/7386 [00:20<03:16, 31.77it/s]"
     ]
    },
    {
     "name": "stdout",
     "output_type": "stream",
     "text": [
      " data/pets/imgs/great/great_pyrenees_50.jpg\n",
      "ERROR:"
     ]
    },
    {
     "name": "stderr",
     "output_type": "stream",
     "text": [
      "\r",
      " 15%|█▌        | 1135/7386 [00:20<03:09, 33.02it/s]"
     ]
    },
    {
     "name": "stdout",
     "output_type": "stream",
     "text": [
      " data/pets/imgs/great/great_pyrenees_1.jpg\n",
      "ERROR: data/pets/imgs/great/great_pyrenees_66.jpg\n",
      "ERROR: data/pets/imgs/great/great_pyrenees_191.jpg\n",
      "ERROR: data/pets/imgs/great/great_pyrenees_96.jpg\n",
      "ERROR:"
     ]
    },
    {
     "name": "stderr",
     "output_type": "stream",
     "text": [
      "\r",
      " 15%|█▌        | 1140/7386 [00:21<02:53, 36.09it/s]"
     ]
    },
    {
     "name": "stdout",
     "output_type": "stream",
     "text": [
      " data/pets/imgs/great/great_pyrenees_20.jpg\n",
      "ERROR:"
     ]
    },
    {
     "name": "stderr",
     "output_type": "stream",
     "text": [
      "\r",
      " 16%|█▌        | 1145/7386 [00:21<02:46, 37.38it/s]"
     ]
    },
    {
     "name": "stdout",
     "output_type": "stream",
     "text": [
      " data/pets/imgs/great/great_pyrenees_38.jpg\n",
      "ERROR: data/pets/imgs/great/great_pyrenees_70.jpg\n",
      "ERROR: data/pets/imgs/great/great_pyrenees_31.jpg\n",
      "ERROR: data/pets/imgs/great/great_pyrenees_64.jpg\n",
      "ERROR: data/pets/imgs/great/great_pyrenees_65.jpg\n",
      "ERROR: data/pets/imgs/great/great_pyrenees_80.jpg\n",
      "ERROR: data/pets/imgs/great/great_pyrenees_84.jpg\n",
      "ERROR: data/pets/imgs/great/great_pyrenees_42.jpg\n",
      "ERROR: data/pets/imgs/great/great_pyrenees_90.jpg\n",
      "ERROR: data/pets/imgs/great/great_pyrenees_94.jpg\n",
      "ERROR:"
     ]
    },
    {
     "name": "stderr",
     "output_type": "stream",
     "text": [
      "\r",
      " 16%|█▌        | 1157/7386 [00:21<02:13, 46.81it/s]"
     ]
    },
    {
     "name": "stdout",
     "output_type": "stream",
     "text": [
      " data/pets/imgs/great/great_pyrenees_53.jpg\n",
      "ERROR: data/pets/imgs/great/great_pyrenees_59.jpg\n",
      "ERROR: data/pets/imgs/great/great_pyrenees_62.jpg\n",
      "ERROR:"
     ]
    },
    {
     "name": "stderr",
     "output_type": "stream",
     "text": [
      "\r",
      " 16%|█▌        | 1164/7386 [00:21<02:42, 38.33it/s]"
     ]
    },
    {
     "name": "stdout",
     "output_type": "stream",
     "text": [
      " data/pets/imgs/great/great_pyrenees_69.jpg\n",
      "ERROR: data/pets/imgs/great/great_pyrenees_68.jpg\n",
      "ERROR: data/pets/imgs/great/great_pyrenees_71.jpg\n",
      "ERROR: data/pets/imgs/great/great_pyrenees_89.jpg\n",
      "ERROR: data/pets/imgs/great/great_pyrenees_45.jpg\n",
      "ERROR:"
     ]
    },
    {
     "name": "stderr",
     "output_type": "stream",
     "text": [
      "\r",
      " 16%|█▌        | 1178/7386 [00:21<02:06, 48.98it/s]"
     ]
    },
    {
     "name": "stdout",
     "output_type": "stream",
     "text": [
      " data/pets/imgs/great/great_pyrenees_54.jpg\n",
      "ERROR: data/pets/imgs/great/great_pyrenees_193.jpg\n",
      "ERROR: data/pets/imgs/great/great_pyrenees_33.jpg\n",
      "ERROR: data/pets/imgs/great/great_pyrenees_85.jpg\n",
      "ERROR: data/pets/cropped/great/great_pyrenees_129.jpg\n",
      "ERROR: data/pets/imgs/great/great_pyrenees_81.jpg\n",
      "ERROR: data/pets/imgs/great/great_pyrenees_2.jpg\n",
      "ERROR: data/pets/imgs/great/great_pyrenees_37.jpg\n",
      "ERROR: data/pets/imgs/great/great_pyrenees_87.jpg\n",
      "ERROR: data/pets/imgs/great/great_pyrenees_34.jpg\n",
      "ERROR: data/pets/imgs/great/great_pyrenees_57.jpg\n",
      "ERROR: data/pets/imgs/great/great_pyrenees_46.jpg\n",
      "ERROR:"
     ]
    },
    {
     "name": "stderr",
     "output_type": "stream",
     "text": [
      "\r",
      " 16%|█▌        | 1193/7386 [00:21<01:42, 60.65it/s]"
     ]
    },
    {
     "name": "stdout",
     "output_type": "stream",
     "text": [
      " data/pets/imgs/great/great_pyrenees_78.jpg\n",
      "ERROR: data/pets/imgs/great/great_pyrenees_83.jpg\n",
      "ERROR: data/pets/imgs/great/great_pyrenees_35.jpg\n",
      "ERROR:"
     ]
    },
    {
     "name": "stderr",
     "output_type": "stream",
     "text": [
      "\r",
      " 16%|█▋        | 1204/7386 [00:21<01:40, 61.77it/s]"
     ]
    },
    {
     "name": "stdout",
     "output_type": "stream",
     "text": [
      " data/pets/imgs/japanese/japanese_chin_9.jpg\n",
      "ERROR: data/pets/imgs/japanese/japanese_chin_29.jpg\n",
      "ERROR: data/pets/imgs/japanese/japanese_chin_93.jpg\n",
      "ERROR: data/pets/imgs/japanese/japanese_chin_64.jpg\n",
      "ERROR: data/pets/imgs/japanese/japanese_chin_95.jpg\n",
      "ERROR: data/pets/imgs/japanese/japanese_chin_78.jpg\n",
      "ERROR: data/pets/imgs/japanese/japanese_chin_81.jpg\n",
      "ERROR: data/pets/imgs/japanese/japanese_chin_54.jpg\n",
      "ERROR:"
     ]
    },
    {
     "name": "stderr",
     "output_type": "stream",
     "text": [
      "\r",
      " 16%|█▋        | 1213/7386 [00:22<01:33, 66.01it/s]"
     ]
    },
    {
     "name": "stdout",
     "output_type": "stream",
     "text": [
      " data/pets/imgs/japanese/japanese_chin_77.jpg\n",
      "ERROR: data/pets/imgs/japanese/japanese_chin_22.jpg\n",
      "ERROR: data/pets/imgs/japanese/japanese_chin_32.jpg\n",
      "ERROR: data/pets/imgs/japanese/japanese_chin_66.jpg\n",
      "ERROR:"
     ]
    },
    {
     "name": "stderr",
     "output_type": "stream",
     "text": [
      "\r",
      " 17%|█▋        | 1224/7386 [00:22<01:24, 72.70it/s]"
     ]
    },
    {
     "name": "stdout",
     "output_type": "stream",
     "text": [
      " data/pets/imgs/japanese/japanese_chin_60.jpg\n",
      "ERROR: data/pets/imgs/japanese/japanese_chin_193.jpg\n",
      "ERROR: data/pets/imgs/japanese/japanese_chin_75.jpg\n",
      "ERROR: data/pets/imgs/japanese/japanese_chin_99.jpg\n",
      "ERROR: data/pets/imgs/japanese/japanese_chin_25.jpg\n",
      "ERROR:"
     ]
    },
    {
     "name": "stderr",
     "output_type": "stream",
     "text": [
      "\r",
      " 17%|█▋        | 1233/7386 [00:22<01:21, 75.40it/s]"
     ]
    },
    {
     "name": "stdout",
     "output_type": "stream",
     "text": [
      " data/pets/imgs/japanese/japanese_chin_61.jpg\n",
      "ERROR: data/pets/imgs/japanese/japanese_chin_63.jpg\n",
      "ERROR:"
     ]
    },
    {
     "name": "stderr",
     "output_type": "stream",
     "text": [
      "\r",
      " 17%|█▋        | 1242/7386 [00:22<01:38, 62.14it/s]"
     ]
    },
    {
     "name": "stdout",
     "output_type": "stream",
     "text": [
      " data/pets/imgs/japanese/japanese_chin_56.jpg\n",
      "ERROR:"
     ]
    },
    {
     "name": "stderr",
     "output_type": "stream",
     "text": [
      "\r",
      " 17%|█▋        | 1250/7386 [00:22<01:35, 64.35it/s]"
     ]
    },
    {
     "name": "stdout",
     "output_type": "stream",
     "text": [
      " data/pets/imgs/japanese/japanese_chin_40.jpg\n",
      "ERROR: data/pets/imgs/japanese/japanese_chin_3.jpg\n",
      "ERROR: data/pets/imgs/japanese/japanese_chin_50.jpg\n",
      "ERROR:"
     ]
    },
    {
     "name": "stderr",
     "output_type": "stream",
     "text": [
      "\r",
      " 17%|█▋        | 1258/7386 [00:22<01:43, 59.09it/s]"
     ]
    },
    {
     "name": "stdout",
     "output_type": "stream",
     "text": [
      " data/pets/imgs/japanese/japanese_chin_37.jpg\n",
      "ERROR: data/pets/imgs/japanese/japanese_chin_72.jpg\n",
      "ERROR: data/pets/imgs/japanese/japanese_chin_39.jpg\n",
      "ERROR: data/pets/imgs/japanese/japanese_chin_23.jpg\n",
      "ERROR: data/pets/imgs/japanese/japanese_chin_55.jpg\n",
      "ERROR: data/pets/imgs/japanese/japanese_chin_20.jpg\n",
      "ERROR: data/pets/imgs/japanese/japanese_chin_4.jpg\n",
      "ERROR: data/pets/imgs/japanese/japanese_chin_92.jpg\n",
      "ERROR: data/pets/imgs/japanese/japanese_chin_83.jpg\n",
      "ERROR: data/pets/imgs/japanese/japanese_chin_28.jpg\n",
      "ERROR:"
     ]
    },
    {
     "name": "stderr",
     "output_type": "stream",
     "text": [
      "\r",
      " 17%|█▋        | 1275/7386 [00:22<01:25, 71.72it/s]"
     ]
    },
    {
     "name": "stdout",
     "output_type": "stream",
     "text": [
      " data/pets/imgs/japanese/japanese_chin_38.jpg\n",
      "ERROR: data/pets/imgs/japanese/japanese_chin_194.jpg\n",
      "ERROR: data/pets/imgs/japanese/japanese_chin_191.jpg\n",
      "ERROR: data/pets/imgs/japanese/japanese_chin_88.jpg\n",
      "ERROR: data/pets/imgs/japanese/japanese_chin_76.jpg\n",
      "ERROR: data/pets/imgs/japanese/japanese_chin_27.jpg\n",
      "ERROR: data/pets/imgs/japanese/japanese_chin_45.jpg\n",
      "ERROR: data/pets/imgs/japanese/japanese_chin_30.jpg\n",
      "ERROR: data/pets/imgs/japanese/japanese_chin_79.jpg\n",
      "ERROR: data/pets/imgs/japanese/japanese_chin_42.jpg\n",
      "ERROR: data/pets/imgs/japanese/japanese_chin_48.jpg\n",
      "ERROR: data/pets/imgs/japanese/japanese_chin_31.jpg\n",
      "ERROR: data/pets/imgs/japanese/japanese_chin_33.jpg\n",
      "ERROR:"
     ]
    },
    {
     "name": "stderr",
     "output_type": "stream",
     "text": [
      "\r",
      " 17%|█▋        | 1291/7386 [00:23<01:19, 76.74it/s]"
     ]
    },
    {
     "name": "stdout",
     "output_type": "stream",
     "text": [
      " data/pets/imgs/japanese/japanese_chin_35.jpg\n",
      "ERROR: data/pets/imgs/japanese/japanese_chin_52.jpg\n",
      "ERROR: data/pets/imgs/japanese/japanese_chin_68.jpg\n",
      "ERROR: data/pets/imgs/japanese/japanese_chin_98.jpg\n",
      "ERROR: data/pets/imgs/japanese/japanese_chin_57.jpg\n",
      "ERROR:"
     ]
    },
    {
     "name": "stderr",
     "output_type": "stream",
     "text": [
      "\r",
      " 18%|█▊        | 1300/7386 [00:23<01:41, 60.03it/s]"
     ]
    },
    {
     "name": "stdout",
     "output_type": "stream",
     "text": [
      " data/pets/imgs/japanese/japanese_chin_67.jpg\n",
      "ERROR:"
     ]
    },
    {
     "name": "stderr",
     "output_type": "stream",
     "text": [
      "\r",
      " 18%|█▊        | 1309/7386 [00:23<01:31, 66.60it/s]"
     ]
    },
    {
     "name": "stdout",
     "output_type": "stream",
     "text": [
      " data/pets/imgs/japanese/japanese_chin_198.jpg\n",
      "ERROR: data/pets/imgs/japanese/japanese_chin_47.jpg\n",
      "ERROR: data/pets/imgs/japanese/japanese_chin_195.jpg\n",
      "ERROR: data/pets/imgs/japanese/japanese_chin_26.jpg\n",
      "ERROR: data/pets/imgs/japanese/japanese_chin_44.jpg\n",
      "ERROR: data/pets/imgs/japanese/japanese_chin_8.jpg\n",
      "ERROR: data/pets/imgs/japanese/japanese_chin_19.jpg\n",
      "ERROR: data/pets/imgs/japanese/japanese_chin_6.jpg\n",
      "ERROR:"
     ]
    },
    {
     "name": "stderr",
     "output_type": "stream",
     "text": [
      "\r",
      " 18%|█▊        | 1330/7386 [00:23<01:13, 82.38it/s]"
     ]
    },
    {
     "name": "stdout",
     "output_type": "stream",
     "text": [
      " data/pets/imgs/japanese/japanese_chin_74.jpg\n",
      "ERROR: data/pets/imgs/japanese/japanese_chin_192.jpg\n",
      "ERROR: data/pets/imgs/japanese/japanese_chin_5.jpg\n",
      "ERROR: data/pets/imgs/japanese/japanese_chin_36.jpg\n",
      "ERROR: data/pets/imgs/japanese/japanese_chin_196.jpg\n",
      "ERROR: data/pets/imgs/japanese/japanese_chin_91.jpg\n",
      "ERROR: data/pets/imgs/japanese/japanese_chin_73.jpg\n",
      "ERROR: data/pets/imgs/japanese/japanese_chin_86.jpg\n",
      "ERROR:"
     ]
    },
    {
     "name": "stderr",
     "output_type": "stream",
     "text": [
      "\r",
      " 18%|█▊        | 1342/7386 [00:23<01:13, 82.00it/s]"
     ]
    },
    {
     "name": "stdout",
     "output_type": "stream",
     "text": [
      " data/pets/imgs/japanese/japanese_chin_200.jpg\n",
      "ERROR: data/pets/imgs/japanese/japanese_chin_199.jpg\n",
      "ERROR: data/pets/imgs/japanese/japanese_chin_24.jpg\n",
      "ERROR: data/pets/imgs/japanese/japanese_chin_94.jpg\n",
      "ERROR: data/pets/imgs/japanese/japanese_chin_46.jpg\n",
      "ERROR: data/pets/imgs/japanese/japanese_chin_65.jpg\n",
      "ERROR: data/pets/imgs/japanese/japanese_chin_197.jpg\n",
      "ERROR: data/pets/imgs/japanese/japanese_chin_59.jpg\n",
      "ERROR:"
     ]
    },
    {
     "name": "stderr",
     "output_type": "stream",
     "text": [
      "\r",
      " 18%|█▊        | 1359/7386 [00:23<01:02, 96.57it/s]"
     ]
    },
    {
     "name": "stdout",
     "output_type": "stream",
     "text": [
      " data/pets/imgs/japanese/japanese_chin_53.jpg\n",
      "ERROR: data/pets/imgs/japanese/japanese_chin_51.jpg\n",
      "ERROR: data/pets/imgs/japanese/japanese_chin_80.jpg\n",
      "ERROR: data/pets/imgs/japanese/japanese_chin_58.jpg\n",
      "ERROR: data/pets/imgs/japanese/japanese_chin_1.jpg\n",
      "ERROR: data/pets/imgs/japanese/japanese_chin_85.jpg\n",
      "ERROR: data/pets/imgs/japanese/japanese_chin_84.jpg\n",
      "ERROR: data/pets/imgs/japanese/japanese_chin_2.jpg\n",
      "ERROR:"
     ]
    },
    {
     "name": "stderr",
     "output_type": "stream",
     "text": [
      "\r",
      " 19%|█▊        | 1372/7386 [00:23<01:08, 88.41it/s]"
     ]
    },
    {
     "name": "stdout",
     "output_type": "stream",
     "text": [
      " data/pets/imgs/japanese/japanese_chin_34.jpg\n",
      "ERROR: data/pets/imgs/japanese/japanese_chin_43.jpg\n",
      "ERROR: data/pets/imgs/japanese/japanese_chin_90.jpg\n",
      "ERROR: data/pets/imgs/japanese/japanese_chin_62.jpg\n",
      "ERROR:"
     ]
    },
    {
     "name": "stderr",
     "output_type": "stream",
     "text": [
      "\r",
      " 19%|█▊        | 1383/7386 [00:24<01:10, 84.83it/s]"
     ]
    },
    {
     "name": "stdout",
     "output_type": "stream",
     "text": [
      " data/pets/imgs/japanese/japanese_chin_82.jpg\n",
      "ERROR: data/pets/imgs/japanese/japanese_chin_69.jpg\n",
      "ERROR: data/pets/imgs/japanese/japanese_chin_87.jpg\n",
      "ERROR: data/pets/imgs/japanese/japanese_chin_70.jpg\n",
      "ERROR: data/pets/imgs/japanese/japanese_chin_41.jpg\n",
      "ERROR:"
     ]
    },
    {
     "name": "stderr",
     "output_type": "stream",
     "text": [
      "\r",
      " 19%|█▉        | 1393/7386 [00:24<01:12, 82.15it/s]"
     ]
    },
    {
     "name": "stdout",
     "output_type": "stream",
     "text": [
      " data/pets/imgs/japanese/japanese_chin_7.jpg\n",
      "ERROR: data/pets/imgs/japanese/japanese_chin_97.jpg\n",
      "ERROR: data/pets/imgs/japanese/japanese_chin_89.jpg\n",
      "ERROR: data/pets/imgs/japanese/japanese_chin_49.jpg\n",
      "ERROR: data/pets/imgs/japanese/japanese_chin_71.jpg\n",
      "ERROR: data/pets/imgs/japanese/japanese_chin_21.jpg\n",
      "ERROR: data/pets/imgs/japanese/japanese_chin_96.jpg\n",
      "ERROR: data/pets/imgs/keeshond/keeshond_79.jpg\n",
      "ERROR: data/pets/imgs/keeshond/keeshond_199.jpg\n",
      "ERROR: data/pets/imgs/keeshond/keeshond_90.jpg\n",
      "ERROR: data/pets/imgs/keeshond/keeshond_38.jpg\n",
      "ERROR:"
     ]
    },
    {
     "name": "stderr",
     "output_type": "stream",
     "text": [
      "\r",
      " 19%|█▉        | 1408/7386 [00:24<01:05, 91.16it/s]"
     ]
    },
    {
     "name": "stdout",
     "output_type": "stream",
     "text": [
      " data/pets/imgs/keeshond/keeshond_86.jpg\n",
      "ERROR: data/pets/imgs/keeshond/keeshond_81.jpg\n",
      "ERROR: data/pets/imgs/keeshond/keeshond_8.jpg\n",
      "ERROR: data/pets/imgs/keeshond/keeshond_88.jpg\n",
      "ERROR: data/pets/imgs/keeshond/keeshond_195.jpg\n",
      "ERROR:"
     ]
    },
    {
     "name": "stderr",
     "output_type": "stream",
     "text": [
      "\r",
      " 19%|█▉        | 1421/7386 [00:24<01:01, 97.41it/s]"
     ]
    },
    {
     "name": "stdout",
     "output_type": "stream",
     "text": [
      " data/pets/imgs/keeshond/keeshond_19.jpg\n",
      "ERROR: data/pets/imgs/keeshond/keeshond_193.jpg\n",
      "ERROR: data/pets/imgs/keeshond/keeshond_96.jpg\n",
      "ERROR: data/pets/imgs/keeshond/keeshond_3.jpg\n",
      "ERROR: data/pets/imgs/keeshond/keeshond_49.jpg\n",
      "ERROR:"
     ]
    },
    {
     "name": "stderr",
     "output_type": "stream",
     "text": [
      "\r",
      " 19%|█▉        | 1432/7386 [00:24<01:03, 93.62it/s]"
     ]
    },
    {
     "name": "stdout",
     "output_type": "stream",
     "text": [
      " data/pets/imgs/keeshond/keeshond_47.jpg\n",
      "ERROR: data/pets/imgs/keeshond/keeshond_52.jpg\n",
      "ERROR:"
     ]
    },
    {
     "name": "stderr",
     "output_type": "stream",
     "text": [
      "\r",
      " 20%|█▉        | 1442/7386 [00:24<01:04, 91.70it/s]"
     ]
    },
    {
     "name": "stdout",
     "output_type": "stream",
     "text": [
      " data/pets/imgs/keeshond/keeshond_196.jpg\n",
      "ERROR: data/pets/imgs/keeshond/keeshond_58.jpg\n",
      "ERROR: data/pets/imgs/keeshond/keeshond_77.jpg\n",
      "ERROR: data/pets/imgs/keeshond/keeshond_35.jpg\n",
      "ERROR:"
     ]
    },
    {
     "name": "stderr",
     "output_type": "stream",
     "text": [
      "\r",
      " 20%|█▉        | 1452/7386 [00:24<01:10, 84.53it/s]"
     ]
    },
    {
     "name": "stdout",
     "output_type": "stream",
     "text": [
      " data/pets/imgs/keeshond/keeshond_23.jpg\n",
      "ERROR: data/pets/imgs/keeshond/keeshond_1.jpg\n",
      "ERROR: data/pets/imgs/keeshond/keeshond_7.jpg\n",
      "ERROR: data/pets/imgs/keeshond/keeshond_27.jpg\n",
      "ERROR: data/pets/imgs/keeshond/keeshond_50.jpg\n",
      "ERROR: data/pets/imgs/keeshond/keeshond_37.jpg\n",
      "ERROR:"
     ]
    },
    {
     "name": "stderr",
     "output_type": "stream",
     "text": [
      "\r",
      " 20%|█▉        | 1463/7386 [00:24<01:06, 89.42it/s]"
     ]
    },
    {
     "name": "stdout",
     "output_type": "stream",
     "text": [
      " data/pets/imgs/keeshond/keeshond_93.jpg\n",
      "ERROR: data/pets/imgs/keeshond/keeshond_54.jpg\n",
      "ERROR:"
     ]
    },
    {
     "name": "stderr",
     "output_type": "stream",
     "text": [
      "\r",
      " 20%|█▉        | 1473/7386 [00:25<01:05, 89.98it/s]"
     ]
    },
    {
     "name": "stdout",
     "output_type": "stream",
     "text": [
      " data/pets/imgs/keeshond/keeshond_75.jpg\n",
      "ERROR: data/pets/imgs/keeshond/keeshond_98.jpg\n",
      "ERROR: data/pets/imgs/keeshond/keeshond_29.jpg\n",
      "ERROR: data/pets/imgs/keeshond/keeshond_28.jpg\n",
      "ERROR: data/pets/imgs/keeshond/keeshond_6.jpg\n",
      "ERROR: data/pets/imgs/keeshond/keeshond_20.jpg\n",
      "ERROR:"
     ]
    },
    {
     "name": "stderr",
     "output_type": "stream",
     "text": [
      "\r",
      " 20%|██        | 1485/7386 [00:25<01:05, 90.38it/s]"
     ]
    },
    {
     "name": "stdout",
     "output_type": "stream",
     "text": [
      " data/pets/imgs/keeshond/keeshond_72.jpg\n",
      "ERROR: data/pets/imgs/keeshond/keeshond_51.jpg\n",
      "ERROR: data/pets/imgs/keeshond/keeshond_70.jpg\n",
      "ERROR: data/pets/imgs/keeshond/keeshond_9.jpg\n",
      "ERROR: data/pets/imgs/keeshond/keeshond_99.jpg\n",
      "ERROR: data/pets/imgs/keeshond/keeshond_44.jpg\n",
      "ERROR: data/pets/imgs/keeshond/keeshond_67.jpg\n",
      "ERROR:"
     ]
    },
    {
     "name": "stderr",
     "output_type": "stream",
     "text": [
      "\r",
      " 20%|██        | 1495/7386 [00:25<01:05, 90.37it/s]"
     ]
    },
    {
     "name": "stdout",
     "output_type": "stream",
     "text": [
      " data/pets/imgs/keeshond/keeshond_73.jpg\n",
      "ERROR: data/pets/imgs/keeshond/keeshond_92.jpg\n",
      "ERROR: data/pets/imgs/keeshond/keeshond_200.jpg\n",
      "ERROR: data/pets/imgs/keeshond/keeshond_33.jpg\n",
      "ERROR: data/pets/imgs/keeshond/keeshond_57.jpg\n",
      "ERROR: data/pets/imgs/keeshond/keeshond_66.jpg\n",
      "ERROR: data/pets/imgs/keeshond/keeshond_91.jpg\n",
      "ERROR: data/pets/imgs/keeshond/keeshond_74.jpg\n",
      "ERROR: data/pets/imgs/keeshond/keeshond_63.jpg\n",
      "ERROR: data/pets/imgs/keeshond/keeshond_22.jpg\n",
      "ERROR: data/pets/imgs/keeshond/keeshond_45.jpg\n",
      "ERROR:"
     ]
    },
    {
     "name": "stderr",
     "output_type": "stream",
     "text": [
      "\r",
      " 20%|██        | 1513/7386 [00:25<00:55, 105.11it/s]"
     ]
    },
    {
     "name": "stdout",
     "output_type": "stream",
     "text": [
      " data/pets/imgs/keeshond/keeshond_43.jpg\n",
      "ERROR: data/pets/imgs/keeshond/keeshond_24.jpg\n",
      "ERROR: data/pets/imgs/keeshond/keeshond_25.jpg\n",
      "ERROR:"
     ]
    },
    {
     "name": "stderr",
     "output_type": "stream",
     "text": [
      "\r",
      " 21%|██        | 1528/7386 [00:25<00:55, 106.50it/s]"
     ]
    },
    {
     "name": "stdout",
     "output_type": "stream",
     "text": [
      " data/pets/imgs/keeshond/keeshond_31.jpg\n",
      "ERROR: data/pets/imgs/keeshond/keeshond_46.jpg\n",
      "ERROR: data/pets/imgs/keeshond/keeshond_42.jpg\n",
      "ERROR: data/pets/imgs/keeshond/keeshond_55.jpg\n",
      "ERROR: data/pets/imgs/keeshond/keeshond_64.jpg\n",
      "ERROR: data/pets/imgs/keeshond/keeshond_84.jpg\n",
      "ERROR: data/pets/imgs/keeshond/keeshond_87.jpg\n",
      "ERROR: data/pets/imgs/keeshond/keeshond_198.jpg\n",
      "ERROR: data/pets/imgs/keeshond/keeshond_56.jpg\n",
      "ERROR: data/pets/imgs/keeshond/keeshond_94.jpg\n",
      "ERROR: data/pets/imgs/keeshond/keeshond_34.jpg\n",
      "ERROR:"
     ]
    },
    {
     "name": "stderr",
     "output_type": "stream",
     "text": [
      "\r",
      " 21%|██        | 1540/7386 [00:25<00:58, 99.40it/s] "
     ]
    },
    {
     "name": "stdout",
     "output_type": "stream",
     "text": [
      " data/pets/imgs/keeshond/keeshond_30.jpg\n",
      "ERROR: data/pets/imgs/keeshond/keeshond_76.jpg\n",
      "ERROR: data/pets/imgs/keeshond/keeshond_48.jpg\n",
      "ERROR: data/pets/imgs/keeshond/keeshond_5.jpg\n",
      "ERROR: data/pets/imgs/keeshond/keeshond_4.jpg\n",
      "ERROR: data/pets/imgs/keeshond/keeshond_60.jpg\n",
      "ERROR: data/pets/imgs/keeshond/keeshond_39.jpg\n",
      "ERROR: data/pets/imgs/keeshond/keeshond_61.jpg\n",
      "ERROR:"
     ]
    },
    {
     "name": "stderr",
     "output_type": "stream",
     "text": [
      "\r",
      " 21%|██        | 1557/7386 [00:25<01:04, 89.94it/s]"
     ]
    },
    {
     "name": "stdout",
     "output_type": "stream",
     "text": [
      " data/pets/imgs/keeshond/keeshond_78.jpg\n",
      "ERROR: data/pets/imgs/keeshond/keeshond_2.jpg\n",
      "ERROR: data/pets/imgs/keeshond/keeshond_40.jpg\n",
      "ERROR: data/pets/imgs/keeshond/keeshond_26.jpg\n",
      "ERROR: data/pets/imgs/keeshond/keeshond_194.jpg\n",
      "ERROR: data/pets/imgs/keeshond/keeshond_69.jpg\n",
      "ERROR: data/pets/imgs/keeshond/keeshond_192.jpg\n",
      "ERROR: data/pets/imgs/keeshond/keeshond_82.jpg\n",
      "ERROR:"
     ]
    },
    {
     "name": "stderr",
     "output_type": "stream",
     "text": [
      " 21%|██▏       | 1581/7386 [00:26<01:00, 95.48it/s]"
     ]
    },
    {
     "name": "stdout",
     "output_type": "stream",
     "text": [
      " data/pets/imgs/keeshond/keeshond_80.jpg\n",
      "ERROR: data/pets/imgs/keeshond/keeshond_83.jpg\n",
      "ERROR: data/pets/imgs/keeshond/keeshond_36.jpg\n",
      "ERROR: data/pets/imgs/keeshond/keeshond_191.jpg\n",
      "ERROR: data/pets/imgs/keeshond/keeshond_62.jpg\n",
      "ERROR: data/pets/imgs/keeshond/keeshond_32.jpg\n",
      "ERROR: data/pets/imgs/keeshond/keeshond_97.jpg\n",
      "ERROR: data/pets/imgs/keeshond/keeshond_197.jpg\n",
      "ERROR: data/pets/imgs/keeshond/keeshond_53.jpg\n",
      "ERROR:"
     ]
    },
    {
     "name": "stderr",
     "output_type": "stream",
     "text": [
      "\r",
      " 22%|██▏       | 1603/7386 [00:26<00:55, 103.89it/s]"
     ]
    },
    {
     "name": "stdout",
     "output_type": "stream",
     "text": [
      " data/pets/imgs/keeshond/keeshond_41.jpg\n",
      "ERROR: data/pets/imgs/keeshond/keeshond_89.jpg\n",
      "ERROR: data/pets/imgs/keeshond/keeshond_68.jpg\n",
      "ERROR: data/pets/imgs/keeshond/keeshond_71.jpg\n",
      "ERROR: data/pets/imgs/keeshond/keeshond_95.jpg\n",
      "ERROR: data/pets/imgs/keeshond/keeshond_21.jpg\n",
      "ERROR: data/pets/imgs/keeshond/keeshond_59.jpg\n",
      "ERROR: data/pets/imgs/keeshond/keeshond_65.jpg\n",
      "ERROR: data/pets/imgs/keeshond/keeshond_85.jpg\n",
      "ERROR: data/pets/imgs/Bengal/Bengal_55.jpg\n",
      "ERROR: data/pets/imgs/Bengal/Bengal_175.jpg\n",
      "ERROR: data/pets/imgs/Bengal/Bengal_44.jpg\n",
      "ERROR: data/pets/imgs/Bengal/Bengal_1.jpg\n",
      "ERROR: data/pets/imgs/Bengal/Bengal_38.jpg\n",
      "ERROR: data/pets/imgs/Bengal/Bengal_93.jpg\n",
      "ERROR: data/pets/imgs/Bengal/Bengal_48.jpg\n",
      "ERROR:"
     ]
    },
    {
     "name": "stderr",
     "output_type": "stream",
     "text": [
      "\r",
      " 22%|██▏       | 1614/7386 [00:26<01:07, 85.52it/s] "
     ]
    },
    {
     "name": "stdout",
     "output_type": "stream",
     "text": [
      " data/pets/imgs/Bengal/Bengal_95.jpg\n",
      "ERROR:"
     ]
    },
    {
     "name": "stderr",
     "output_type": "stream",
     "text": [
      "\r",
      " 22%|██▏       | 1624/7386 [00:26<01:22, 69.96it/s]"
     ]
    },
    {
     "name": "stdout",
     "output_type": "stream",
     "text": [
      " data/pets/imgs/Bengal/Bengal_75.jpg\n",
      "ERROR: data/pets/imgs/Bengal/Bengal_34.jpg\n",
      "ERROR: data/pets/imgs/Bengal/Bengal_57.jpg\n",
      "ERROR: data/pets/imgs/Bengal/Bengal_66.jpg\n",
      "ERROR: data/pets/imgs/Bengal/Bengal_87.jpg\n",
      "ERROR: data/pets/imgs/Bengal/Bengal_59.jpg\n",
      "ERROR: data/pets/imgs/Bengal/Bengal_77.jpg\n",
      "ERROR: data/pets/imgs/Bengal/Bengal_8.jpg\n",
      "ERROR: data/pets/imgs/Bengal/Bengal_37.jpg\n",
      "ERROR:"
     ]
    },
    {
     "name": "stderr",
     "output_type": "stream",
     "text": [
      "\r",
      " 22%|██▏       | 1639/7386 [00:26<01:11, 80.85it/s]"
     ]
    },
    {
     "name": "stdout",
     "output_type": "stream",
     "text": [
      " data/pets/imgs/Bengal/Bengal_43.jpg\n",
      "ERROR: data/pets/imgs/Bengal/Bengal_23.jpg\n",
      "ERROR: data/pets/imgs/Bengal/Bengal_199.jpg\n",
      "ERROR: data/pets/imgs/Bengal/Bengal_73.jpg\n",
      "ERROR:"
     ]
    },
    {
     "name": "stderr",
     "output_type": "stream",
     "text": [
      "\r",
      " 22%|██▏       | 1650/7386 [00:26<01:06, 86.43it/s]"
     ]
    },
    {
     "name": "stdout",
     "output_type": "stream",
     "text": [
      " data/pets/imgs/Bengal/Bengal_32.jpg\n",
      "ERROR: data/pets/imgs/Bengal/Bengal_30.jpg\n",
      "ERROR: data/pets/imgs/Bengal/Bengal_70.jpg\n",
      "ERROR: data/pets/imgs/Bengal/Bengal_96.jpg\n",
      "ERROR: data/pets/imgs/Bengal/Bengal_24.jpg\n",
      "ERROR:"
     ]
    },
    {
     "name": "stderr",
     "output_type": "stream",
     "text": [
      "\r",
      " 22%|██▏       | 1660/7386 [00:27<01:18, 72.72it/s]"
     ]
    },
    {
     "name": "stdout",
     "output_type": "stream",
     "text": [
      " data/pets/imgs/Bengal/Bengal_200.jpg\n",
      "ERROR: data/pets/imgs/Bengal/Bengal_20.jpg\n",
      "ERROR: data/pets/imgs/Bengal/Bengal_67.jpg\n",
      "ERROR: data/pets/imgs/Bengal/Bengal_63.jpg\n",
      "ERROR: data/pets/imgs/Bengal/Bengal_7.jpg\n",
      "ERROR: data/pets/imgs/Bengal/Bengal_76.jpg\n",
      "ERROR: data/pets/imgs/Bengal/Bengal_192.jpg\n",
      "ERROR: data/pets/imgs/Bengal/Bengal_41.jpg\n",
      "ERROR:"
     ]
    },
    {
     "name": "stderr",
     "output_type": "stream",
     "text": [
      "\r",
      " 23%|██▎       | 1671/7386 [00:27<01:11, 79.40it/s]"
     ]
    },
    {
     "name": "stdout",
     "output_type": "stream",
     "text": [
      " data/pets/imgs/Bengal/Bengal_94.jpg\n",
      "ERROR:"
     ]
    },
    {
     "name": "stderr",
     "output_type": "stream",
     "text": [
      "\r",
      " 23%|██▎       | 1684/7386 [00:27<01:03, 89.19it/s]"
     ]
    },
    {
     "name": "stdout",
     "output_type": "stream",
     "text": [
      " data/pets/imgs/Bengal/Bengal_69.jpg\n",
      "ERROR: data/pets/imgs/Bengal/Bengal_49.jpg\n",
      "ERROR: data/pets/imgs/Bengal/Bengal_68.jpg\n",
      "ERROR: data/pets/imgs/Bengal/Bengal_90.jpg\n",
      "ERROR: data/pets/imgs/Bengal/Bengal_19.jpg\n",
      "ERROR: data/pets/imgs/Bengal/Bengal_22.jpg\n",
      "ERROR: data/pets/imgs/Bengal/Bengal_51.jpg\n",
      "ERROR: data/pets/imgs/Bengal/Bengal_4.jpg\n",
      "ERROR:"
     ]
    },
    {
     "name": "stderr",
     "output_type": "stream",
     "text": [
      "\r",
      " 23%|██▎       | 1700/7386 [00:27<00:55, 101.96it/s]"
     ]
    },
    {
     "name": "stdout",
     "output_type": "stream",
     "text": [
      " data/pets/imgs/Bengal/Bengal_27.jpg\n",
      "ERROR: data/pets/imgs/Bengal/Bengal_99.jpg\n",
      "ERROR: data/pets/imgs/Bengal/Bengal_89.jpg\n",
      "ERROR: data/pets/imgs/Bengal/Bengal_195.jpg\n",
      "ERROR: data/pets/imgs/Bengal/Bengal_31.jpg\n",
      "ERROR: data/pets/imgs/Bengal/Bengal_25.jpg\n",
      "ERROR: data/pets/imgs/Bengal/Bengal_84.jpg\n",
      "ERROR: data/pets/imgs/Bengal/Bengal_194.jpg\n",
      "ERROR: data/pets/imgs/Bengal/Bengal_196.jpg\n",
      "ERROR: data/pets/imgs/Bengal/Bengal_52.jpg\n",
      "ERROR: data/pets/imgs/Bengal/Bengal_21.jpg\n",
      "ERROR: data/pets/imgs/Bengal/Bengal_54.jpg\n",
      "ERROR:"
     ]
    },
    {
     "name": "stderr",
     "output_type": "stream",
     "text": [
      "\r",
      " 23%|██▎       | 1712/7386 [00:27<01:06, 85.50it/s] "
     ]
    },
    {
     "name": "stdout",
     "output_type": "stream",
     "text": [
      " data/pets/imgs/Bengal/Bengal_28.jpg\n",
      "ERROR: data/pets/imgs/Bengal/Bengal_91.jpg\n",
      "ERROR: data/pets/imgs/Bengal/Bengal_36.jpg\n",
      "ERROR:"
     ]
    },
    {
     "name": "stderr",
     "output_type": "stream",
     "text": [
      "\r",
      " 23%|██▎       | 1725/7386 [00:27<01:05, 86.18it/s]"
     ]
    },
    {
     "name": "stdout",
     "output_type": "stream",
     "text": [
      " data/pets/imgs/Bengal/Bengal_56.jpg\n",
      "ERROR: data/pets/imgs/Bengal/Bengal_72.jpg\n",
      "ERROR: data/pets/imgs/Bengal/Bengal_3.jpg\n",
      "ERROR:"
     ]
    },
    {
     "name": "stderr",
     "output_type": "stream",
     "text": [
      "\r",
      " 23%|██▎       | 1735/7386 [00:27<01:14, 75.83it/s]"
     ]
    },
    {
     "name": "stdout",
     "output_type": "stream",
     "text": [
      " data/pets/imgs/Bengal/Bengal_81.jpg\n",
      "ERROR: data/pets/imgs/Bengal/Bengal_98.jpg\n",
      "ERROR: data/pets/imgs/Bengal/Bengal_71.jpg\n",
      "ERROR: data/pets/imgs/Bengal/Bengal_198.jpg\n",
      "ERROR: data/pets/imgs/Bengal/Bengal_26.jpg\n",
      "ERROR: data/pets/imgs/Bengal/Bengal_5.jpg\n",
      "ERROR:"
     ]
    },
    {
     "name": "stderr",
     "output_type": "stream",
     "text": [
      "\r",
      " 24%|██▎       | 1745/7386 [00:28<01:14, 75.54it/s]"
     ]
    },
    {
     "name": "stdout",
     "output_type": "stream",
     "text": [
      " data/pets/imgs/Bengal/Bengal_97.jpg\n",
      "ERROR: data/pets/imgs/Bengal/Bengal_46.jpg\n",
      "ERROR: data/pets/imgs/Bengal/Bengal_61.jpg\n",
      "ERROR: data/pets/imgs/Bengal/Bengal_80.jpg\n",
      "ERROR: data/pets/imgs/Bengal/Bengal_78.jpg\n",
      "ERROR: data/pets/imgs/Bengal/Bengal_201.jpg\n",
      "ERROR: data/pets/imgs/Bengal/Bengal_40.jpg\n",
      "ERROR: data/pets/imgs/Bengal/Bengal_50.jpg\n",
      "ERROR:"
     ]
    },
    {
     "name": "stderr",
     "output_type": "stream",
     "text": [
      "\r",
      " 24%|██▎       | 1754/7386 [00:28<02:24, 38.85it/s]"
     ]
    },
    {
     "name": "stdout",
     "output_type": "stream",
     "text": [
      " data/pets/imgs/Bengal/Bengal_42.jpg\n",
      "ERROR: data/pets/imgs/Bengal/Bengal_53.jpg\n",
      "ERROR: data/pets/imgs/Bengal/Bengal_58.jpg\n",
      "ERROR: data/pets/imgs/Bengal/Bengal_92.jpg\n",
      "ERROR:"
     ]
    },
    {
     "name": "stderr",
     "output_type": "stream",
     "text": [
      "\r",
      " 24%|██▍       | 1761/7386 [00:28<02:24, 38.81it/s]"
     ]
    },
    {
     "name": "stdout",
     "output_type": "stream",
     "text": [
      " data/pets/imgs/Bengal/Bengal_35.jpg\n",
      "ERROR:"
     ]
    },
    {
     "name": "stderr",
     "output_type": "stream",
     "text": [
      "\r",
      " 24%|██▍       | 1768/7386 [00:28<02:10, 43.02it/s]"
     ]
    },
    {
     "name": "stdout",
     "output_type": "stream",
     "text": [
      " data/pets/imgs/Bengal/Bengal_6.jpg\n",
      "ERROR: data/pets/imgs/Bengal/Bengal_86.jpg\n",
      "ERROR: data/pets/imgs/Bengal/Bengal_2.jpg\n",
      "ERROR:"
     ]
    },
    {
     "name": "stderr",
     "output_type": "stream",
     "text": [
      "\r",
      " 24%|██▍       | 1774/7386 [00:28<02:00, 46.48it/s]"
     ]
    },
    {
     "name": "stdout",
     "output_type": "stream",
     "text": [
      " data/pets/imgs/Bengal/Bengal_62.jpg\n",
      "ERROR: data/pets/imgs/Bengal/Bengal_85.jpg\n",
      "ERROR: data/pets/imgs/Bengal/Bengal_45.jpg\n",
      "ERROR:"
     ]
    },
    {
     "name": "stderr",
     "output_type": "stream",
     "text": [
      "\r",
      " 24%|██▍       | 1780/7386 [00:29<01:54, 49.14it/s]"
     ]
    },
    {
     "name": "stdout",
     "output_type": "stream",
     "text": [
      " data/pets/imgs/Bengal/Bengal_88.jpg\n",
      "ERROR: data/pets/imgs/Bengal/Bengal_82.jpg\n",
      "ERROR: data/pets/imgs/Bengal/Bengal_193.jpg\n",
      "ERROR: data/pets/imgs/Bengal/Bengal_79.jpg\n",
      "ERROR: data/pets/imgs/Bengal/Bengal_60.jpg\n",
      "ERROR: data/pets/imgs/Bengal/Bengal_83.jpg\n",
      "ERROR: data/pets/imgs/Bengal/Bengal_9.jpg\n",
      "ERROR:"
     ]
    },
    {
     "name": "stderr",
     "output_type": "stream",
     "text": [
      "\r",
      " 24%|██▍       | 1793/7386 [00:29<01:36, 57.72it/s]"
     ]
    },
    {
     "name": "stdout",
     "output_type": "stream",
     "text": [
      " data/pets/imgs/Bengal/Bengal_64.jpg\n",
      "ERROR: data/pets/imgs/Bengal/Bengal_65.jpg\n",
      "ERROR: data/pets/imgs/Bengal/Bengal_39.jpg\n",
      "ERROR: data/pets/imgs/Bengal/Bengal_33.jpg\n",
      "ERROR:"
     ]
    },
    {
     "name": "stderr",
     "output_type": "stream",
     "text": [
      "\r",
      " 24%|██▍       | 1800/7386 [00:29<01:33, 59.87it/s]"
     ]
    },
    {
     "name": "stdout",
     "output_type": "stream",
     "text": [
      " data/pets/imgs/Bengal/Bengal_29.jpg\n",
      "ERROR: data/pets/imgs/Bengal/Bengal_111.jpg\n",
      "ERROR: data/pets/imgs/Bengal/Bengal_74.jpg\n",
      "ERROR: data/pets/imgs/Bengal/Bengal_47.jpg\n",
      "ERROR: data/pets/imgs/Bengal/Bengal_197.jpg\n",
      "ERROR: data/pets/imgs/staffordshire/staffordshire_bull_terrier_62.jpg\n",
      "ERROR:"
     ]
    },
    {
     "name": "stderr",
     "output_type": "stream",
     "text": [
      "\r",
      " 24%|██▍       | 1807/7386 [00:29<02:19, 39.86it/s]"
     ]
    },
    {
     "name": "stdout",
     "output_type": "stream",
     "text": [
      " data/pets/imgs/staffordshire/staffordshire_bull_terrier_89.jpg\n",
      "ERROR: data/pets/imgs/staffordshire/staffordshire_bull_terrier_64.jpg\n",
      "ERROR: data/pets/imgs/staffordshire/staffordshire_bull_terrier_50.jpg\n",
      "ERROR: data/pets/imgs/staffordshire/staffordshire_bull_terrier_201.jpg\n",
      "ERROR: data/pets/imgs/staffordshire/staffordshire_bull_terrier_45.jpg\n",
      "ERROR:"
     ]
    },
    {
     "name": "stderr",
     "output_type": "stream",
     "text": [
      "\r",
      " 25%|██▍       | 1813/7386 [00:29<02:08, 43.29it/s]"
     ]
    },
    {
     "name": "stdout",
     "output_type": "stream",
     "text": [
      " data/pets/imgs/staffordshire/staffordshire_bull_terrier_75.jpg\n",
      "ERROR:"
     ]
    },
    {
     "name": "stderr",
     "output_type": "stream",
     "text": [
      "\r",
      " 25%|██▍       | 1819/7386 [00:29<02:15, 41.05it/s]"
     ]
    },
    {
     "name": "stdout",
     "output_type": "stream",
     "text": [
      " data/pets/imgs/staffordshire/staffordshire_bull_terrier_90.jpg\n",
      "ERROR:"
     ]
    },
    {
     "name": "stderr",
     "output_type": "stream",
     "text": [
      "\r",
      " 25%|██▍       | 1824/7386 [00:30<03:34, 25.90it/s]"
     ]
    },
    {
     "name": "stdout",
     "output_type": "stream",
     "text": [
      " data/pets/imgs/staffordshire/staffordshire_bull_terrier_200.jpg\n",
      "ERROR:"
     ]
    },
    {
     "name": "stderr",
     "output_type": "stream",
     "text": [
      "\r",
      " 25%|██▍       | 1828/7386 [00:30<03:19, 27.86it/s]"
     ]
    },
    {
     "name": "stdout",
     "output_type": "stream",
     "text": [
      " data/pets/imgs/staffordshire/staffordshire_bull_terrier_31.jpg\n",
      "ERROR: data/pets/imgs/staffordshire/staffordshire_bull_terrier_71.jpg\n",
      "ERROR: data/pets/imgs/staffordshire/staffordshire_bull_terrier_20.jpg\n",
      "ERROR: data/pets/imgs/staffordshire/staffordshire_bull_terrier_39.jpg\n",
      "ERROR:"
     ]
    },
    {
     "name": "stderr",
     "output_type": "stream",
     "text": [
      "\r",
      " 25%|██▍       | 1839/7386 [00:30<02:40, 34.65it/s]"
     ]
    },
    {
     "name": "stdout",
     "output_type": "stream",
     "text": [
      " data/pets/imgs/staffordshire/staffordshire_bull_terrier_6.jpg\n",
      "ERROR: data/pets/imgs/staffordshire/staffordshire_bull_terrier_21.jpg\n",
      "ERROR: data/pets/imgs/staffordshire/staffordshire_bull_terrier_27.jpg\n",
      "ERROR: data/pets/imgs/staffordshire/staffordshire_bull_terrier_92.jpg\n",
      "ERROR: data/pets/imgs/staffordshire/staffordshire_bull_terrier_8.jpg\n",
      "ERROR: data/pets/imgs/staffordshire/staffordshire_bull_terrier_36.jpg\n",
      "ERROR:"
     ]
    },
    {
     "name": "stderr",
     "output_type": "stream",
     "text": [
      "\r",
      " 25%|██▍       | 1845/7386 [00:30<02:33, 36.17it/s]"
     ]
    },
    {
     "name": "stdout",
     "output_type": "stream",
     "text": [
      " data/pets/imgs/staffordshire/staffordshire_bull_terrier_82.jpg\n",
      "ERROR: data/pets/imgs/staffordshire/staffordshire_bull_terrier_33.jpg\n",
      "ERROR: data/pets/imgs/staffordshire/staffordshire_bull_terrier_87.jpg\n",
      "ERROR:"
     ]
    },
    {
     "name": "stderr",
     "output_type": "stream",
     "text": [
      "\r",
      " 25%|██▌       | 1850/7386 [00:30<03:05, 29.90it/s]"
     ]
    },
    {
     "name": "stdout",
     "output_type": "stream",
     "text": [
      " data/pets/imgs/staffordshire/staffordshire_bull_terrier_5.jpg\n",
      "ERROR: data/pets/imgs/staffordshire/staffordshire_bull_terrier_73.jpg\n",
      "ERROR:"
     ]
    },
    {
     "name": "stderr",
     "output_type": "stream",
     "text": [
      "\r",
      " 25%|██▌       | 1857/7386 [00:30<02:36, 35.39it/s]"
     ]
    },
    {
     "name": "stdout",
     "output_type": "stream",
     "text": [
      " data/pets/imgs/staffordshire/staffordshire_bull_terrier_24.jpg\n",
      "ERROR:"
     ]
    },
    {
     "name": "stderr",
     "output_type": "stream",
     "text": [
      "\r",
      " 25%|██▌       | 1862/7386 [00:31<02:38, 34.88it/s]"
     ]
    },
    {
     "name": "stdout",
     "output_type": "stream",
     "text": [
      " data/pets/imgs/staffordshire/staffordshire_bull_terrier_81.jpg\n",
      "ERROR: data/pets/imgs/staffordshire/staffordshire_bull_terrier_9.jpg\n",
      "ERROR:"
     ]
    },
    {
     "name": "stderr",
     "output_type": "stream",
     "text": [
      "\r",
      " 25%|██▌       | 1867/7386 [00:31<02:31, 36.41it/s]"
     ]
    },
    {
     "name": "stdout",
     "output_type": "stream",
     "text": [
      " data/pets/imgs/staffordshire/staffordshire_bull_terrier_93.jpg\n",
      "ERROR: data/pets/imgs/staffordshire/staffordshire_bull_terrier_30.jpg\n",
      "ERROR:"
     ]
    },
    {
     "name": "stderr",
     "output_type": "stream",
     "text": [
      "\r",
      " 25%|██▌       | 1872/7386 [00:31<03:17, 27.85it/s]"
     ]
    },
    {
     "name": "stdout",
     "output_type": "stream",
     "text": [
      " data/pets/imgs/staffordshire/staffordshire_bull_terrier_94.jpg\n",
      "ERROR: data/pets/imgs/staffordshire/staffordshire_bull_terrier_60.jpg\n",
      "ERROR: data/pets/imgs/staffordshire/staffordshire_bull_terrier_78.jpg\n",
      "ERROR: data/pets/imgs/staffordshire/staffordshire_bull_terrier_23.jpg\n",
      "ERROR: data/pets/imgs/staffordshire/staffordshire_bull_terrier_80.jpg\n",
      "ERROR:"
     ]
    },
    {
     "name": "stderr",
     "output_type": "stream",
     "text": [
      "\r",
      " 25%|██▌       | 1876/7386 [00:31<03:08, 29.16it/s]"
     ]
    },
    {
     "name": "stdout",
     "output_type": "stream",
     "text": [
      " data/pets/imgs/staffordshire/staffordshire_bull_terrier_68.jpg\n",
      "ERROR: data/pets/imgs/staffordshire/staffordshire_bull_terrier_34.jpg\n",
      "ERROR:"
     ]
    },
    {
     "name": "stderr",
     "output_type": "stream",
     "text": [
      "\r",
      " 25%|██▌       | 1882/7386 [00:31<02:45, 33.31it/s]"
     ]
    },
    {
     "name": "stdout",
     "output_type": "stream",
     "text": [
      " data/pets/imgs/staffordshire/staffordshire_bull_terrier_37.jpg\n",
      "ERROR: data/pets/imgs/staffordshire/staffordshire_bull_terrier_85.jpg\n",
      "ERROR:"
     ]
    },
    {
     "name": "stderr",
     "output_type": "stream",
     "text": [
      "\r",
      " 26%|██▌       | 1886/7386 [00:31<02:47, 32.75it/s]"
     ]
    },
    {
     "name": "stdout",
     "output_type": "stream",
     "text": [
      " data/pets/imgs/staffordshire/staffordshire_bull_terrier_66.jpg\n",
      "ERROR: data/pets/imgs/staffordshire/staffordshire_bull_terrier_72.jpg\n",
      "ERROR:"
     ]
    },
    {
     "name": "stderr",
     "output_type": "stream",
     "text": [
      "\r",
      " 26%|██▌       | 1895/7386 [00:32<02:23, 38.14it/s]"
     ]
    },
    {
     "name": "stdout",
     "output_type": "stream",
     "text": [
      " data/pets/imgs/staffordshire/staffordshire_bull_terrier_28.jpg\n",
      "ERROR: data/pets/imgs/staffordshire/staffordshire_bull_terrier_74.jpg\n",
      "ERROR: data/pets/imgs/staffordshire/staffordshire_bull_terrier_99.jpg\n",
      "ERROR: data/pets/imgs/staffordshire/staffordshire_bull_terrier_40.jpg\n",
      "ERROR:"
     ]
    },
    {
     "name": "stderr",
     "output_type": "stream",
     "text": [
      "\r",
      " 26%|██▌       | 1903/7386 [00:32<02:11, 41.72it/s]"
     ]
    },
    {
     "name": "stdout",
     "output_type": "stream",
     "text": [
      " data/pets/imgs/staffordshire/staffordshire_bull_terrier_46.jpg\n",
      "ERROR: data/pets/imgs/staffordshire/staffordshire_bull_terrier_96.jpg\n",
      "ERROR:"
     ]
    },
    {
     "name": "stderr",
     "output_type": "stream",
     "text": [
      "\r",
      " 26%|██▌       | 1908/7386 [00:32<02:34, 35.37it/s]"
     ]
    },
    {
     "name": "stdout",
     "output_type": "stream",
     "text": [
      " data/pets/imgs/staffordshire/staffordshire_bull_terrier_35.jpg\n",
      "ERROR:"
     ]
    }
   ],
   "source": [
    "for fname in tqdm(fnames):\n",
    "    img = get_cropped_img_for_fname(fname)\n",
    "    parts = fname.split(\"/\")\n",
    "    parts[2] = \"cropped\" # HERE\n",
    "    path = os.path.join(*parts[:-1])\n",
    "    try:\n",
    "        ld.mkdir(path)\n",
    "    except:\n",
    "        pass\n",
    "    fname = os.path.join(*parts)\n",
    "    scipy.misc.imsave(fname, img)"
   ]
  },
  {
   "cell_type": "code",
   "execution_count": null,
   "metadata": {
    "collapsed": true
   },
   "outputs": [],
   "source": []
  },
  {
   "cell_type": "code",
   "execution_count": null,
   "metadata": {
    "collapsed": true
   },
   "outputs": [],
   "source": []
  },
  {
   "cell_type": "code",
   "execution_count": null,
   "metadata": {
    "collapsed": true
   },
   "outputs": [],
   "source": []
  },
  {
   "cell_type": "code",
   "execution_count": 11,
   "metadata": {
    "collapsed": true
   },
   "outputs": [],
   "source": [
    "fname_img = fnames[0]"
   ]
  },
  {
   "cell_type": "code",
   "execution_count": 12,
   "metadata": {
    "collapsed": false
   },
   "outputs": [],
   "source": [
    "xmin, xmax, ymin, ymax = get_bb_for_fname(fname_img)"
   ]
  },
  {
   "cell_type": "code",
   "execution_count": 13,
   "metadata": {
    "collapsed": false
   },
   "outputs": [
    {
     "data": {
      "text/plain": [
       "(80, 220, 33, 182)"
      ]
     },
     "execution_count": 13,
     "metadata": {},
     "output_type": "execute_result"
    }
   ],
   "source": [
    "xmin, xmax, ymin, ymax"
   ]
  },
  {
   "cell_type": "code",
   "execution_count": 14,
   "metadata": {
    "collapsed": true
   },
   "outputs": [],
   "source": [
    "img = scipy.misc.imread(fname_img)"
   ]
  },
  {
   "cell_type": "code",
   "execution_count": 15,
   "metadata": {
    "collapsed": false
   },
   "outputs": [
    {
     "data": {
      "text/plain": [
       "(274, 300, 3)"
      ]
     },
     "execution_count": 15,
     "metadata": {},
     "output_type": "execute_result"
    }
   ],
   "source": [
    "img.shape"
   ]
  },
  {
   "cell_type": "code",
   "execution_count": 17,
   "metadata": {
    "collapsed": false
   },
   "outputs": [
    {
     "data": {
      "application/javascript": [
       "/* Put everything inside the global mpl namespace */\n",
       "window.mpl = {};\n",
       "\n",
       "\n",
       "mpl.get_websocket_type = function() {\n",
       "    if (typeof(WebSocket) !== 'undefined') {\n",
       "        return WebSocket;\n",
       "    } else if (typeof(MozWebSocket) !== 'undefined') {\n",
       "        return MozWebSocket;\n",
       "    } else {\n",
       "        alert('Your browser does not have WebSocket support.' +\n",
       "              'Please try Chrome, Safari or Firefox ≥ 6. ' +\n",
       "              'Firefox 4 and 5 are also supported but you ' +\n",
       "              'have to enable WebSockets in about:config.');\n",
       "    };\n",
       "}\n",
       "\n",
       "mpl.figure = function(figure_id, websocket, ondownload, parent_element) {\n",
       "    this.id = figure_id;\n",
       "\n",
       "    this.ws = websocket;\n",
       "\n",
       "    this.supports_binary = (this.ws.binaryType != undefined);\n",
       "\n",
       "    if (!this.supports_binary) {\n",
       "        var warnings = document.getElementById(\"mpl-warnings\");\n",
       "        if (warnings) {\n",
       "            warnings.style.display = 'block';\n",
       "            warnings.textContent = (\n",
       "                \"This browser does not support binary websocket messages. \" +\n",
       "                    \"Performance may be slow.\");\n",
       "        }\n",
       "    }\n",
       "\n",
       "    this.imageObj = new Image();\n",
       "\n",
       "    this.context = undefined;\n",
       "    this.message = undefined;\n",
       "    this.canvas = undefined;\n",
       "    this.rubberband_canvas = undefined;\n",
       "    this.rubberband_context = undefined;\n",
       "    this.format_dropdown = undefined;\n",
       "\n",
       "    this.image_mode = 'full';\n",
       "\n",
       "    this.root = $('<div/>');\n",
       "    this._root_extra_style(this.root)\n",
       "    this.root.attr('style', 'display: inline-block');\n",
       "\n",
       "    $(parent_element).append(this.root);\n",
       "\n",
       "    this._init_header(this);\n",
       "    this._init_canvas(this);\n",
       "    this._init_toolbar(this);\n",
       "\n",
       "    var fig = this;\n",
       "\n",
       "    this.waiting = false;\n",
       "\n",
       "    this.ws.onopen =  function () {\n",
       "            fig.send_message(\"supports_binary\", {value: fig.supports_binary});\n",
       "            fig.send_message(\"send_image_mode\", {});\n",
       "            if (mpl.ratio != 1) {\n",
       "                fig.send_message(\"set_dpi_ratio\", {'dpi_ratio': mpl.ratio});\n",
       "            }\n",
       "            fig.send_message(\"refresh\", {});\n",
       "        }\n",
       "\n",
       "    this.imageObj.onload = function() {\n",
       "            if (fig.image_mode == 'full') {\n",
       "                // Full images could contain transparency (where diff images\n",
       "                // almost always do), so we need to clear the canvas so that\n",
       "                // there is no ghosting.\n",
       "                fig.context.clearRect(0, 0, fig.canvas.width, fig.canvas.height);\n",
       "            }\n",
       "            fig.context.drawImage(fig.imageObj, 0, 0);\n",
       "        };\n",
       "\n",
       "    this.imageObj.onunload = function() {\n",
       "        this.ws.close();\n",
       "    }\n",
       "\n",
       "    this.ws.onmessage = this._make_on_message_function(this);\n",
       "\n",
       "    this.ondownload = ondownload;\n",
       "}\n",
       "\n",
       "mpl.figure.prototype._init_header = function() {\n",
       "    var titlebar = $(\n",
       "        '<div class=\"ui-dialog-titlebar ui-widget-header ui-corner-all ' +\n",
       "        'ui-helper-clearfix\"/>');\n",
       "    var titletext = $(\n",
       "        '<div class=\"ui-dialog-title\" style=\"width: 100%; ' +\n",
       "        'text-align: center; padding: 3px;\"/>');\n",
       "    titlebar.append(titletext)\n",
       "    this.root.append(titlebar);\n",
       "    this.header = titletext[0];\n",
       "}\n",
       "\n",
       "\n",
       "\n",
       "mpl.figure.prototype._canvas_extra_style = function(canvas_div) {\n",
       "\n",
       "}\n",
       "\n",
       "\n",
       "mpl.figure.prototype._root_extra_style = function(canvas_div) {\n",
       "\n",
       "}\n",
       "\n",
       "mpl.figure.prototype._init_canvas = function() {\n",
       "    var fig = this;\n",
       "\n",
       "    var canvas_div = $('<div/>');\n",
       "\n",
       "    canvas_div.attr('style', 'position: relative; clear: both; outline: 0');\n",
       "\n",
       "    function canvas_keyboard_event(event) {\n",
       "        return fig.key_event(event, event['data']);\n",
       "    }\n",
       "\n",
       "    canvas_div.keydown('key_press', canvas_keyboard_event);\n",
       "    canvas_div.keyup('key_release', canvas_keyboard_event);\n",
       "    this.canvas_div = canvas_div\n",
       "    this._canvas_extra_style(canvas_div)\n",
       "    this.root.append(canvas_div);\n",
       "\n",
       "    var canvas = $('<canvas/>');\n",
       "    canvas.addClass('mpl-canvas');\n",
       "    canvas.attr('style', \"left: 0; top: 0; z-index: 0; outline: 0\")\n",
       "\n",
       "    this.canvas = canvas[0];\n",
       "    this.context = canvas[0].getContext(\"2d\");\n",
       "\n",
       "    var backingStore = this.context.backingStorePixelRatio ||\n",
       "\tthis.context.webkitBackingStorePixelRatio ||\n",
       "\tthis.context.mozBackingStorePixelRatio ||\n",
       "\tthis.context.msBackingStorePixelRatio ||\n",
       "\tthis.context.oBackingStorePixelRatio ||\n",
       "\tthis.context.backingStorePixelRatio || 1;\n",
       "\n",
       "    mpl.ratio = (window.devicePixelRatio || 1) / backingStore;\n",
       "\n",
       "    var rubberband = $('<canvas/>');\n",
       "    rubberband.attr('style', \"position: absolute; left: 0; top: 0; z-index: 1;\")\n",
       "\n",
       "    var pass_mouse_events = true;\n",
       "\n",
       "    canvas_div.resizable({\n",
       "        start: function(event, ui) {\n",
       "            pass_mouse_events = false;\n",
       "        },\n",
       "        resize: function(event, ui) {\n",
       "            fig.request_resize(ui.size.width, ui.size.height);\n",
       "        },\n",
       "        stop: function(event, ui) {\n",
       "            pass_mouse_events = true;\n",
       "            fig.request_resize(ui.size.width, ui.size.height);\n",
       "        },\n",
       "    });\n",
       "\n",
       "    function mouse_event_fn(event) {\n",
       "        if (pass_mouse_events)\n",
       "            return fig.mouse_event(event, event['data']);\n",
       "    }\n",
       "\n",
       "    rubberband.mousedown('button_press', mouse_event_fn);\n",
       "    rubberband.mouseup('button_release', mouse_event_fn);\n",
       "    // Throttle sequential mouse events to 1 every 20ms.\n",
       "    rubberband.mousemove('motion_notify', mouse_event_fn);\n",
       "\n",
       "    rubberband.mouseenter('figure_enter', mouse_event_fn);\n",
       "    rubberband.mouseleave('figure_leave', mouse_event_fn);\n",
       "\n",
       "    canvas_div.on(\"wheel\", function (event) {\n",
       "        event = event.originalEvent;\n",
       "        event['data'] = 'scroll'\n",
       "        if (event.deltaY < 0) {\n",
       "            event.step = 1;\n",
       "        } else {\n",
       "            event.step = -1;\n",
       "        }\n",
       "        mouse_event_fn(event);\n",
       "    });\n",
       "\n",
       "    canvas_div.append(canvas);\n",
       "    canvas_div.append(rubberband);\n",
       "\n",
       "    this.rubberband = rubberband;\n",
       "    this.rubberband_canvas = rubberband[0];\n",
       "    this.rubberband_context = rubberband[0].getContext(\"2d\");\n",
       "    this.rubberband_context.strokeStyle = \"#000000\";\n",
       "\n",
       "    this._resize_canvas = function(width, height) {\n",
       "        // Keep the size of the canvas, canvas container, and rubber band\n",
       "        // canvas in synch.\n",
       "        canvas_div.css('width', width)\n",
       "        canvas_div.css('height', height)\n",
       "\n",
       "        canvas.attr('width', width * mpl.ratio);\n",
       "        canvas.attr('height', height * mpl.ratio);\n",
       "        canvas.attr('style', 'width: ' + width + 'px; height: ' + height + 'px;');\n",
       "\n",
       "        rubberband.attr('width', width);\n",
       "        rubberband.attr('height', height);\n",
       "    }\n",
       "\n",
       "    // Set the figure to an initial 600x600px, this will subsequently be updated\n",
       "    // upon first draw.\n",
       "    this._resize_canvas(600, 600);\n",
       "\n",
       "    // Disable right mouse context menu.\n",
       "    $(this.rubberband_canvas).bind(\"contextmenu\",function(e){\n",
       "        return false;\n",
       "    });\n",
       "\n",
       "    function set_focus () {\n",
       "        canvas.focus();\n",
       "        canvas_div.focus();\n",
       "    }\n",
       "\n",
       "    window.setTimeout(set_focus, 100);\n",
       "}\n",
       "\n",
       "mpl.figure.prototype._init_toolbar = function() {\n",
       "    var fig = this;\n",
       "\n",
       "    var nav_element = $('<div/>')\n",
       "    nav_element.attr('style', 'width: 100%');\n",
       "    this.root.append(nav_element);\n",
       "\n",
       "    // Define a callback function for later on.\n",
       "    function toolbar_event(event) {\n",
       "        return fig.toolbar_button_onclick(event['data']);\n",
       "    }\n",
       "    function toolbar_mouse_event(event) {\n",
       "        return fig.toolbar_button_onmouseover(event['data']);\n",
       "    }\n",
       "\n",
       "    for(var toolbar_ind in mpl.toolbar_items) {\n",
       "        var name = mpl.toolbar_items[toolbar_ind][0];\n",
       "        var tooltip = mpl.toolbar_items[toolbar_ind][1];\n",
       "        var image = mpl.toolbar_items[toolbar_ind][2];\n",
       "        var method_name = mpl.toolbar_items[toolbar_ind][3];\n",
       "\n",
       "        if (!name) {\n",
       "            // put a spacer in here.\n",
       "            continue;\n",
       "        }\n",
       "        var button = $('<button/>');\n",
       "        button.addClass('ui-button ui-widget ui-state-default ui-corner-all ' +\n",
       "                        'ui-button-icon-only');\n",
       "        button.attr('role', 'button');\n",
       "        button.attr('aria-disabled', 'false');\n",
       "        button.click(method_name, toolbar_event);\n",
       "        button.mouseover(tooltip, toolbar_mouse_event);\n",
       "\n",
       "        var icon_img = $('<span/>');\n",
       "        icon_img.addClass('ui-button-icon-primary ui-icon');\n",
       "        icon_img.addClass(image);\n",
       "        icon_img.addClass('ui-corner-all');\n",
       "\n",
       "        var tooltip_span = $('<span/>');\n",
       "        tooltip_span.addClass('ui-button-text');\n",
       "        tooltip_span.html(tooltip);\n",
       "\n",
       "        button.append(icon_img);\n",
       "        button.append(tooltip_span);\n",
       "\n",
       "        nav_element.append(button);\n",
       "    }\n",
       "\n",
       "    var fmt_picker_span = $('<span/>');\n",
       "\n",
       "    var fmt_picker = $('<select/>');\n",
       "    fmt_picker.addClass('mpl-toolbar-option ui-widget ui-widget-content');\n",
       "    fmt_picker_span.append(fmt_picker);\n",
       "    nav_element.append(fmt_picker_span);\n",
       "    this.format_dropdown = fmt_picker[0];\n",
       "\n",
       "    for (var ind in mpl.extensions) {\n",
       "        var fmt = mpl.extensions[ind];\n",
       "        var option = $(\n",
       "            '<option/>', {selected: fmt === mpl.default_extension}).html(fmt);\n",
       "        fmt_picker.append(option)\n",
       "    }\n",
       "\n",
       "    // Add hover states to the ui-buttons\n",
       "    $( \".ui-button\" ).hover(\n",
       "        function() { $(this).addClass(\"ui-state-hover\");},\n",
       "        function() { $(this).removeClass(\"ui-state-hover\");}\n",
       "    );\n",
       "\n",
       "    var status_bar = $('<span class=\"mpl-message\"/>');\n",
       "    nav_element.append(status_bar);\n",
       "    this.message = status_bar[0];\n",
       "}\n",
       "\n",
       "mpl.figure.prototype.request_resize = function(x_pixels, y_pixels) {\n",
       "    // Request matplotlib to resize the figure. Matplotlib will then trigger a resize in the client,\n",
       "    // which will in turn request a refresh of the image.\n",
       "    this.send_message('resize', {'width': x_pixels, 'height': y_pixels});\n",
       "}\n",
       "\n",
       "mpl.figure.prototype.send_message = function(type, properties) {\n",
       "    properties['type'] = type;\n",
       "    properties['figure_id'] = this.id;\n",
       "    this.ws.send(JSON.stringify(properties));\n",
       "}\n",
       "\n",
       "mpl.figure.prototype.send_draw_message = function() {\n",
       "    if (!this.waiting) {\n",
       "        this.waiting = true;\n",
       "        this.ws.send(JSON.stringify({type: \"draw\", figure_id: this.id}));\n",
       "    }\n",
       "}\n",
       "\n",
       "\n",
       "mpl.figure.prototype.handle_save = function(fig, msg) {\n",
       "    var format_dropdown = fig.format_dropdown;\n",
       "    var format = format_dropdown.options[format_dropdown.selectedIndex].value;\n",
       "    fig.ondownload(fig, format);\n",
       "}\n",
       "\n",
       "\n",
       "mpl.figure.prototype.handle_resize = function(fig, msg) {\n",
       "    var size = msg['size'];\n",
       "    if (size[0] != fig.canvas.width || size[1] != fig.canvas.height) {\n",
       "        fig._resize_canvas(size[0], size[1]);\n",
       "        fig.send_message(\"refresh\", {});\n",
       "    };\n",
       "}\n",
       "\n",
       "mpl.figure.prototype.handle_rubberband = function(fig, msg) {\n",
       "    var x0 = msg['x0'] / mpl.ratio;\n",
       "    var y0 = (fig.canvas.height - msg['y0']) / mpl.ratio;\n",
       "    var x1 = msg['x1'] / mpl.ratio;\n",
       "    var y1 = (fig.canvas.height - msg['y1']) / mpl.ratio;\n",
       "    x0 = Math.floor(x0) + 0.5;\n",
       "    y0 = Math.floor(y0) + 0.5;\n",
       "    x1 = Math.floor(x1) + 0.5;\n",
       "    y1 = Math.floor(y1) + 0.5;\n",
       "    var min_x = Math.min(x0, x1);\n",
       "    var min_y = Math.min(y0, y1);\n",
       "    var width = Math.abs(x1 - x0);\n",
       "    var height = Math.abs(y1 - y0);\n",
       "\n",
       "    fig.rubberband_context.clearRect(\n",
       "        0, 0, fig.canvas.width, fig.canvas.height);\n",
       "\n",
       "    fig.rubberband_context.strokeRect(min_x, min_y, width, height);\n",
       "}\n",
       "\n",
       "mpl.figure.prototype.handle_figure_label = function(fig, msg) {\n",
       "    // Updates the figure title.\n",
       "    fig.header.textContent = msg['label'];\n",
       "}\n",
       "\n",
       "mpl.figure.prototype.handle_cursor = function(fig, msg) {\n",
       "    var cursor = msg['cursor'];\n",
       "    switch(cursor)\n",
       "    {\n",
       "    case 0:\n",
       "        cursor = 'pointer';\n",
       "        break;\n",
       "    case 1:\n",
       "        cursor = 'default';\n",
       "        break;\n",
       "    case 2:\n",
       "        cursor = 'crosshair';\n",
       "        break;\n",
       "    case 3:\n",
       "        cursor = 'move';\n",
       "        break;\n",
       "    }\n",
       "    fig.rubberband_canvas.style.cursor = cursor;\n",
       "}\n",
       "\n",
       "mpl.figure.prototype.handle_message = function(fig, msg) {\n",
       "    fig.message.textContent = msg['message'];\n",
       "}\n",
       "\n",
       "mpl.figure.prototype.handle_draw = function(fig, msg) {\n",
       "    // Request the server to send over a new figure.\n",
       "    fig.send_draw_message();\n",
       "}\n",
       "\n",
       "mpl.figure.prototype.handle_image_mode = function(fig, msg) {\n",
       "    fig.image_mode = msg['mode'];\n",
       "}\n",
       "\n",
       "mpl.figure.prototype.updated_canvas_event = function() {\n",
       "    // Called whenever the canvas gets updated.\n",
       "    this.send_message(\"ack\", {});\n",
       "}\n",
       "\n",
       "// A function to construct a web socket function for onmessage handling.\n",
       "// Called in the figure constructor.\n",
       "mpl.figure.prototype._make_on_message_function = function(fig) {\n",
       "    return function socket_on_message(evt) {\n",
       "        if (evt.data instanceof Blob) {\n",
       "            /* FIXME: We get \"Resource interpreted as Image but\n",
       "             * transferred with MIME type text/plain:\" errors on\n",
       "             * Chrome.  But how to set the MIME type?  It doesn't seem\n",
       "             * to be part of the websocket stream */\n",
       "            evt.data.type = \"image/png\";\n",
       "\n",
       "            /* Free the memory for the previous frames */\n",
       "            if (fig.imageObj.src) {\n",
       "                (window.URL || window.webkitURL).revokeObjectURL(\n",
       "                    fig.imageObj.src);\n",
       "            }\n",
       "\n",
       "            fig.imageObj.src = (window.URL || window.webkitURL).createObjectURL(\n",
       "                evt.data);\n",
       "            fig.updated_canvas_event();\n",
       "            fig.waiting = false;\n",
       "            return;\n",
       "        }\n",
       "        else if (typeof evt.data === 'string' && evt.data.slice(0, 21) == \"data:image/png;base64\") {\n",
       "            fig.imageObj.src = evt.data;\n",
       "            fig.updated_canvas_event();\n",
       "            fig.waiting = false;\n",
       "            return;\n",
       "        }\n",
       "\n",
       "        var msg = JSON.parse(evt.data);\n",
       "        var msg_type = msg['type'];\n",
       "\n",
       "        // Call the  \"handle_{type}\" callback, which takes\n",
       "        // the figure and JSON message as its only arguments.\n",
       "        try {\n",
       "            var callback = fig[\"handle_\" + msg_type];\n",
       "        } catch (e) {\n",
       "            console.log(\"No handler for the '\" + msg_type + \"' message type: \", msg);\n",
       "            return;\n",
       "        }\n",
       "\n",
       "        if (callback) {\n",
       "            try {\n",
       "                // console.log(\"Handling '\" + msg_type + \"' message: \", msg);\n",
       "                callback(fig, msg);\n",
       "            } catch (e) {\n",
       "                console.log(\"Exception inside the 'handler_\" + msg_type + \"' callback:\", e, e.stack, msg);\n",
       "            }\n",
       "        }\n",
       "    };\n",
       "}\n",
       "\n",
       "// from http://stackoverflow.com/questions/1114465/getting-mouse-location-in-canvas\n",
       "mpl.findpos = function(e) {\n",
       "    //this section is from http://www.quirksmode.org/js/events_properties.html\n",
       "    var targ;\n",
       "    if (!e)\n",
       "        e = window.event;\n",
       "    if (e.target)\n",
       "        targ = e.target;\n",
       "    else if (e.srcElement)\n",
       "        targ = e.srcElement;\n",
       "    if (targ.nodeType == 3) // defeat Safari bug\n",
       "        targ = targ.parentNode;\n",
       "\n",
       "    // jQuery normalizes the pageX and pageY\n",
       "    // pageX,Y are the mouse positions relative to the document\n",
       "    // offset() returns the position of the element relative to the document\n",
       "    var x = e.pageX - $(targ).offset().left;\n",
       "    var y = e.pageY - $(targ).offset().top;\n",
       "\n",
       "    return {\"x\": x, \"y\": y};\n",
       "};\n",
       "\n",
       "/*\n",
       " * return a copy of an object with only non-object keys\n",
       " * we need this to avoid circular references\n",
       " * http://stackoverflow.com/a/24161582/3208463\n",
       " */\n",
       "function simpleKeys (original) {\n",
       "  return Object.keys(original).reduce(function (obj, key) {\n",
       "    if (typeof original[key] !== 'object')\n",
       "        obj[key] = original[key]\n",
       "    return obj;\n",
       "  }, {});\n",
       "}\n",
       "\n",
       "mpl.figure.prototype.mouse_event = function(event, name) {\n",
       "    var canvas_pos = mpl.findpos(event)\n",
       "\n",
       "    if (name === 'button_press')\n",
       "    {\n",
       "        this.canvas.focus();\n",
       "        this.canvas_div.focus();\n",
       "    }\n",
       "\n",
       "    var x = canvas_pos.x * mpl.ratio;\n",
       "    var y = canvas_pos.y * mpl.ratio;\n",
       "\n",
       "    this.send_message(name, {x: x, y: y, button: event.button,\n",
       "                             step: event.step,\n",
       "                             guiEvent: simpleKeys(event)});\n",
       "\n",
       "    /* This prevents the web browser from automatically changing to\n",
       "     * the text insertion cursor when the button is pressed.  We want\n",
       "     * to control all of the cursor setting manually through the\n",
       "     * 'cursor' event from matplotlib */\n",
       "    event.preventDefault();\n",
       "    return false;\n",
       "}\n",
       "\n",
       "mpl.figure.prototype._key_event_extra = function(event, name) {\n",
       "    // Handle any extra behaviour associated with a key event\n",
       "}\n",
       "\n",
       "mpl.figure.prototype.key_event = function(event, name) {\n",
       "\n",
       "    // Prevent repeat events\n",
       "    if (name == 'key_press')\n",
       "    {\n",
       "        if (event.which === this._key)\n",
       "            return;\n",
       "        else\n",
       "            this._key = event.which;\n",
       "    }\n",
       "    if (name == 'key_release')\n",
       "        this._key = null;\n",
       "\n",
       "    var value = '';\n",
       "    if (event.ctrlKey && event.which != 17)\n",
       "        value += \"ctrl+\";\n",
       "    if (event.altKey && event.which != 18)\n",
       "        value += \"alt+\";\n",
       "    if (event.shiftKey && event.which != 16)\n",
       "        value += \"shift+\";\n",
       "\n",
       "    value += 'k';\n",
       "    value += event.which.toString();\n",
       "\n",
       "    this._key_event_extra(event, name);\n",
       "\n",
       "    this.send_message(name, {key: value,\n",
       "                             guiEvent: simpleKeys(event)});\n",
       "    return false;\n",
       "}\n",
       "\n",
       "mpl.figure.prototype.toolbar_button_onclick = function(name) {\n",
       "    if (name == 'download') {\n",
       "        this.handle_save(this, null);\n",
       "    } else {\n",
       "        this.send_message(\"toolbar_button\", {name: name});\n",
       "    }\n",
       "};\n",
       "\n",
       "mpl.figure.prototype.toolbar_button_onmouseover = function(tooltip) {\n",
       "    this.message.textContent = tooltip;\n",
       "};\n",
       "mpl.toolbar_items = [[\"Home\", \"Reset original view\", \"fa fa-home icon-home\", \"home\"], [\"Back\", \"Back to  previous view\", \"fa fa-arrow-left icon-arrow-left\", \"back\"], [\"Forward\", \"Forward to next view\", \"fa fa-arrow-right icon-arrow-right\", \"forward\"], [\"\", \"\", \"\", \"\"], [\"Pan\", \"Pan axes with left mouse, zoom with right\", \"fa fa-arrows icon-move\", \"pan\"], [\"Zoom\", \"Zoom to rectangle\", \"fa fa-square-o icon-check-empty\", \"zoom\"], [\"\", \"\", \"\", \"\"], [\"Download\", \"Download plot\", \"fa fa-floppy-o icon-save\", \"download\"]];\n",
       "\n",
       "mpl.extensions = [\"eps\", \"jpeg\", \"pdf\", \"png\", \"ps\", \"raw\", \"svg\", \"tif\"];\n",
       "\n",
       "mpl.default_extension = \"png\";var comm_websocket_adapter = function(comm) {\n",
       "    // Create a \"websocket\"-like object which calls the given IPython comm\n",
       "    // object with the appropriate methods. Currently this is a non binary\n",
       "    // socket, so there is still some room for performance tuning.\n",
       "    var ws = {};\n",
       "\n",
       "    ws.close = function() {\n",
       "        comm.close()\n",
       "    };\n",
       "    ws.send = function(m) {\n",
       "        //console.log('sending', m);\n",
       "        comm.send(m);\n",
       "    };\n",
       "    // Register the callback with on_msg.\n",
       "    comm.on_msg(function(msg) {\n",
       "        //console.log('receiving', msg['content']['data'], msg);\n",
       "        // Pass the mpl event to the overriden (by mpl) onmessage function.\n",
       "        ws.onmessage(msg['content']['data'])\n",
       "    });\n",
       "    return ws;\n",
       "}\n",
       "\n",
       "mpl.mpl_figure_comm = function(comm, msg) {\n",
       "    // This is the function which gets called when the mpl process\n",
       "    // starts-up an IPython Comm through the \"matplotlib\" channel.\n",
       "\n",
       "    var id = msg.content.data.id;\n",
       "    // Get hold of the div created by the display call when the Comm\n",
       "    // socket was opened in Python.\n",
       "    var element = $(\"#\" + id);\n",
       "    var ws_proxy = comm_websocket_adapter(comm)\n",
       "\n",
       "    function ondownload(figure, format) {\n",
       "        window.open(figure.imageObj.src);\n",
       "    }\n",
       "\n",
       "    var fig = new mpl.figure(id, ws_proxy,\n",
       "                           ondownload,\n",
       "                           element.get(0));\n",
       "\n",
       "    // Call onopen now - mpl needs it, as it is assuming we've passed it a real\n",
       "    // web socket which is closed, not our websocket->open comm proxy.\n",
       "    ws_proxy.onopen();\n",
       "\n",
       "    fig.parent_element = element.get(0);\n",
       "    fig.cell_info = mpl.find_output_cell(\"<div id='\" + id + \"'></div>\");\n",
       "    if (!fig.cell_info) {\n",
       "        console.error(\"Failed to find cell for figure\", id, fig);\n",
       "        return;\n",
       "    }\n",
       "\n",
       "    var output_index = fig.cell_info[2]\n",
       "    var cell = fig.cell_info[0];\n",
       "\n",
       "};\n",
       "\n",
       "mpl.figure.prototype.handle_close = function(fig, msg) {\n",
       "    var width = fig.canvas.width/mpl.ratio\n",
       "    fig.root.unbind('remove')\n",
       "\n",
       "    // Update the output cell to use the data from the current canvas.\n",
       "    fig.push_to_output();\n",
       "    var dataURL = fig.canvas.toDataURL();\n",
       "    // Re-enable the keyboard manager in IPython - without this line, in FF,\n",
       "    // the notebook keyboard shortcuts fail.\n",
       "    IPython.keyboard_manager.enable()\n",
       "    $(fig.parent_element).html('<img src=\"' + dataURL + '\" width=\"' + width + '\">');\n",
       "    fig.close_ws(fig, msg);\n",
       "}\n",
       "\n",
       "mpl.figure.prototype.close_ws = function(fig, msg){\n",
       "    fig.send_message('closing', msg);\n",
       "    // fig.ws.close()\n",
       "}\n",
       "\n",
       "mpl.figure.prototype.push_to_output = function(remove_interactive) {\n",
       "    // Turn the data on the canvas into data in the output cell.\n",
       "    var width = this.canvas.width/mpl.ratio\n",
       "    var dataURL = this.canvas.toDataURL();\n",
       "    this.cell_info[1]['text/html'] = '<img src=\"' + dataURL + '\" width=\"' + width + '\">';\n",
       "}\n",
       "\n",
       "mpl.figure.prototype.updated_canvas_event = function() {\n",
       "    // Tell IPython that the notebook contents must change.\n",
       "    IPython.notebook.set_dirty(true);\n",
       "    this.send_message(\"ack\", {});\n",
       "    var fig = this;\n",
       "    // Wait a second, then push the new image to the DOM so\n",
       "    // that it is saved nicely (might be nice to debounce this).\n",
       "    setTimeout(function () { fig.push_to_output() }, 1000);\n",
       "}\n",
       "\n",
       "mpl.figure.prototype._init_toolbar = function() {\n",
       "    var fig = this;\n",
       "\n",
       "    var nav_element = $('<div/>')\n",
       "    nav_element.attr('style', 'width: 100%');\n",
       "    this.root.append(nav_element);\n",
       "\n",
       "    // Define a callback function for later on.\n",
       "    function toolbar_event(event) {\n",
       "        return fig.toolbar_button_onclick(event['data']);\n",
       "    }\n",
       "    function toolbar_mouse_event(event) {\n",
       "        return fig.toolbar_button_onmouseover(event['data']);\n",
       "    }\n",
       "\n",
       "    for(var toolbar_ind in mpl.toolbar_items){\n",
       "        var name = mpl.toolbar_items[toolbar_ind][0];\n",
       "        var tooltip = mpl.toolbar_items[toolbar_ind][1];\n",
       "        var image = mpl.toolbar_items[toolbar_ind][2];\n",
       "        var method_name = mpl.toolbar_items[toolbar_ind][3];\n",
       "\n",
       "        if (!name) { continue; };\n",
       "\n",
       "        var button = $('<button class=\"btn btn-default\" href=\"#\" title=\"' + name + '\"><i class=\"fa ' + image + ' fa-lg\"></i></button>');\n",
       "        button.click(method_name, toolbar_event);\n",
       "        button.mouseover(tooltip, toolbar_mouse_event);\n",
       "        nav_element.append(button);\n",
       "    }\n",
       "\n",
       "    // Add the status bar.\n",
       "    var status_bar = $('<span class=\"mpl-message\" style=\"text-align:right; float: right;\"/>');\n",
       "    nav_element.append(status_bar);\n",
       "    this.message = status_bar[0];\n",
       "\n",
       "    // Add the close button to the window.\n",
       "    var buttongrp = $('<div class=\"btn-group inline pull-right\"></div>');\n",
       "    var button = $('<button class=\"btn btn-mini btn-primary\" href=\"#\" title=\"Stop Interaction\"><i class=\"fa fa-power-off icon-remove icon-large\"></i></button>');\n",
       "    button.click(function (evt) { fig.handle_close(fig, {}); } );\n",
       "    button.mouseover('Stop Interaction', toolbar_mouse_event);\n",
       "    buttongrp.append(button);\n",
       "    var titlebar = this.root.find($('.ui-dialog-titlebar'));\n",
       "    titlebar.prepend(buttongrp);\n",
       "}\n",
       "\n",
       "mpl.figure.prototype._root_extra_style = function(el){\n",
       "    var fig = this\n",
       "    el.on(\"remove\", function(){\n",
       "\tfig.close_ws(fig, {});\n",
       "    });\n",
       "}\n",
       "\n",
       "mpl.figure.prototype._canvas_extra_style = function(el){\n",
       "    // this is important to make the div 'focusable\n",
       "    el.attr('tabindex', 0)\n",
       "    // reach out to IPython and tell the keyboard manager to turn it's self\n",
       "    // off when our div gets focus\n",
       "\n",
       "    // location in version 3\n",
       "    if (IPython.notebook.keyboard_manager) {\n",
       "        IPython.notebook.keyboard_manager.register_events(el);\n",
       "    }\n",
       "    else {\n",
       "        // location in version 2\n",
       "        IPython.keyboard_manager.register_events(el);\n",
       "    }\n",
       "\n",
       "}\n",
       "\n",
       "mpl.figure.prototype._key_event_extra = function(event, name) {\n",
       "    var manager = IPython.notebook.keyboard_manager;\n",
       "    if (!manager)\n",
       "        manager = IPython.keyboard_manager;\n",
       "\n",
       "    // Check for shift+enter\n",
       "    if (event.shiftKey && event.which == 13) {\n",
       "        this.canvas_div.blur();\n",
       "        // select the cell after this one\n",
       "        var index = IPython.notebook.find_cell_index(this.cell_info[0]);\n",
       "        IPython.notebook.select(index + 1);\n",
       "    }\n",
       "}\n",
       "\n",
       "mpl.figure.prototype.handle_save = function(fig, msg) {\n",
       "    fig.ondownload(fig, null);\n",
       "}\n",
       "\n",
       "\n",
       "mpl.find_output_cell = function(html_output) {\n",
       "    // Return the cell and output element which can be found *uniquely* in the notebook.\n",
       "    // Note - this is a bit hacky, but it is done because the \"notebook_saving.Notebook\"\n",
       "    // IPython event is triggered only after the cells have been serialised, which for\n",
       "    // our purposes (turning an active figure into a static one), is too late.\n",
       "    var cells = IPython.notebook.get_cells();\n",
       "    var ncells = cells.length;\n",
       "    for (var i=0; i<ncells; i++) {\n",
       "        var cell = cells[i];\n",
       "        if (cell.cell_type === 'code'){\n",
       "            for (var j=0; j<cell.output_area.outputs.length; j++) {\n",
       "                var data = cell.output_area.outputs[j];\n",
       "                if (data.data) {\n",
       "                    // IPython >= 3 moved mimebundle to data attribute of output\n",
       "                    data = data.data;\n",
       "                }\n",
       "                if (data['text/html'] == html_output) {\n",
       "                    return [cell, data, j];\n",
       "                }\n",
       "            }\n",
       "        }\n",
       "    }\n",
       "}\n",
       "\n",
       "// Register the function which deals with the matplotlib target/channel.\n",
       "// The kernel may be null if the page has been refreshed.\n",
       "if (IPython.notebook.kernel != null) {\n",
       "    IPython.notebook.kernel.comm_manager.register_target('matplotlib', mpl.mpl_figure_comm);\n",
       "}\n"
      ],
      "text/plain": [
       "<IPython.core.display.Javascript object>"
      ]
     },
     "metadata": {},
     "output_type": "display_data"
    },
    {
     "data": {
      "text/html": [
       "<img src=\"data:image/png;base64,iVBORw0KGgoAAAANSUhEUgAAAoAAAAHgCAYAAAA10dzkAAAgAElEQVR4Xuy92Y9j2Z0m9rs7dzIYjD0il8qtSiqpuqTSSF2tnlZP292t6R51AwYGBrzCgGHAD+N/wM9+8pMf/WjD7nXG7ul1xsAIM+rpRSq1qlSqPfc19ggGd/LyXuM7v3MubzLJzMjIzFJG8XeATDLIu53vHJ773e+3WSRNEBAEBAFBQBAQBAQBQWCmELBmqrfSWUFAEBAEBAFBQBAQBAQBEgIok0AQEAQEAUFAEBAEBIEZQ0AI4IwNuHRXEBAEBAFBQBAQBAQBIYAyBwQBQUAQEAQEAUFAEJgxBIQAztiAS3cFAUFAEBAEBAFBQBAQAihzQBAQBAQBQUAQEAQEgRlDQAjgjA24dFcQEAQEAUFAEBAEBAEhgDIHBAFBQBAQBAQBQUAQmDEEhADO2IBLdwUBQUAQEAQEAUFAEBACKHNAEBAEBAFBQBAQBASBGUNACOCMDbh0VxAQBAQBQUAQEAQEASGAMgcEAUFAEBAEBAFBQBCYMQSEAM7YgEt3BQFBQBAQBAQBQUAQEAIoc0AQEAQEAUFAEBAEBIEZQ0AI4IwNuHRXEBAEBAFBQBAQBAQBIYAyBwQBQUAQEAQEAUFAEJgxBIQAztiAS3cFAUFAEBAEBAFBQBAQAihzQBAQBAQBQUAQEAQEgRlDQAjgjA24dFcQEAQEAUFAEBAEBAEhgDIHBAFBQBAQBAQBQUAQmDEEhADO2IBLdwUBQUAQEAQEAUFAEBACKHNAEBAEBAFBQBAQBASBGUNACOCMDbh0VxAQBAQBQUAQEAQEASGAMgcEAUFAEBAEBAFBQBCYMQSEAM7YgEt3BQFBQBAQBAQBQUAQEAIoc0AQEAQEAUFAEBAEBIEZQ0AI4IwNuHRXEBAEBAFBQBAQBAQBIYAyBwQBQUAQEAQEAUFAEJgxBIQAztiAS3cFAUFAEBAEBAFBQBAQAihzQBAQBAQBQUAQEAQEgRlDQAjgjA24dFcQEAQEAUFAEBAEBAEhgDIHBAFBQBAQBAQBQUAQmDEEhADO2IBLdwUBQUAQEAQEAUFAEBACKHNAEBAEBAFBQBAQBASBGUNACOCMDbh0VxAQBAQBQUAQEAQEASGAMgcEAUFAEBAEBAFBQBCYMQSEAM7YgEt3BQFBQBAQBAQBQUAQEAIoc0AQEAQEAUFAEBAEBIEZQ0AI4IwNuHRXEBAEBAFBQBAQBAQBIYAyBwQBQUAQEAQEAUFAEJgxBIQAztiAS3cFAUFAEBAEBAFBQBAQAihzQBAQBAQBQUAQEAQEgRlDQAjgjA24dFcQEAQEAUFAEBAEBAEhgDIHBAFBQBAQBAQBQUAQmDEEhADO2IBLdwUBQUAQEAQEAUFAEBACKHNAEBAEBAFBQBAQBASBGUNACOCMDbh0VxAQBAQBQUAQEAQEASGAMgcEAUFAEBAEBAFBQBCYMQSEAM7YgEt3BQFBQBAQBAQBQUAQEAIoc0AQEAQEAUFAEBAEBIEZQ0AI4IwNuHRXEBAEBAFBQBAQBAQBIYAyBwQBQUAQEAQEAUFAEJgxBIQAztiAS3cFAUFAEBAEBAFBQBAQAihzQBAQBAQBQUAQEAQEgRlDQAjgjA24dFcQEAQEAUFAEBAEBAEhgDIHBAFBQBAQBAQBQUAQmDEEhADO2IBLdwUBQUAQEAQEAUFAEBACKHNAEBAEBAFBQBAQBASBGUNACOCMDbh0VxAQBAQBQUAQEAQEASGAMgcEAUFAEBAEBAFBQBCYMQSEAM7YgEt3BQFBQBAQBAQBQUAQEAIoc0AQEAQEAUFAEBAEBIEZQ0AI4IwNuHRXEBAEBAFBQBAQBAQBIYAyBwQBQUAQEAQEAUFAEJgxBIQAztiAS3cFAUFAEBAEBAFBQBAQAihzQBAQBAQBQUAQEAQEgRlDQAjgjA24dFcQEAQEAUFAEBAEBAEhgDIHBAFBQBAQBAQBQUAQmDEEhADO2IBLdwUBQUAQEAQEAUFAEBACKHNAEBAEBAFBQBAQBASBGUNACOCMDbh0VxAQBAQBQUAQEAQEASGAMgcEAUFAEBAEBAFBQBCYMQSEAM7YgEt3BQFBQBAQBAQBQUAQEAIoc0AQEAQEAUFAEBAEBIEZQ0AI4IwNuHRXEBAEBAFBQBAQBAQBIYAyBwQBQUAQEAQEAUFAEJgxBIQAztiAS3cFAUFAEBAEBAFBQBAQAihzQBAQBAQBQUAQEAQEgRlDQAjgjA24dFcQEAQEAUFAEBAEBAEhgDIHBAFBQBAQBAQBQUAQmDEEhADO2IBLdwUBQUAQEAQEAUFAEBACKHNAEBAEBAFBQBAQBASBGUNACOCMDbh0VxAQBAQBQUAQEAQEASGAMgcEAUFAEBAEBAFBQBCYMQSEAM7YgEt3BQFBQBAQBAQBQUAQEAIoc0AQEAQEAUFAEBAEBIEZQ0AI4IwNuHRXEBAEBAFBQBAQBAQBIYAyBwQBQUAQEAQEAUFAEJgxBIQAztiAS3cFAUFAEBAEBAFBQBAQAihzQBAQBAQBQUAQEAQEgRlDQAjgjA24dFcQEAQEAUFAEBAEBAEhgDIHBAFBQBAQBAQBQUAQmDEEhADO2IBLdwUBQUAQEAQEAUFAEBACKHNAEBAEBAFBQBAQBASBGUNACOCMDbh0VxAQBAQBQUAQEAQEASGAMgcEAUFAEBAEBAFBQBCYMQSEAM7YgEt3BQFBQBAQBAQBQUAQEAIoc0AQEAQEAUFAEBAEBIEZQ0AI4IwNuHRXEBAEBAFBQBAQBAQBIYAyBwQBQUAQEAQEAUFAEJgxBIQAztiAS3cFAUFAEBAEBAFBQBAQAihzQBAQBAQBQUAQEAQEgRlDQAjgjA24dFcQEAQEAUFAEBAEBAEhgDIHBAFBQBAQBAQBQUAQmDEEhADO2IBLdwUBQUAQEAQEAUFAEBACKHNAEBAEBAFBQBAQBASBGUNACOCMDbh0VxAQBAQBQUAQEAQEASGAMgcEAUFAEBAEBAFBQBCYMQSEAM7YgEt3BQFBQBAQBAQBQUAQEAIoc0AQEAQEAUFAEBAEBIEZQ0AI4IwNuHRXEBAEBAFBQBAQBAQBIYAyBwQBQUAQEAQEAUFAEJgxBIQAztiAS3cFAUFAEBAEBAFBQBAQAihzQBAQBAQBQUAQEAQEgRlDQAjgjA24dFcQEAQEAUFAEBAEBAEhgDIHBAFBQBAQBAQBQUAQmDEEhADO2IBLdwUBQUAQEAQEAUFAEBACKHNAEBAEBAFBQBAQBASBGUNACOCMDbh0VxAQBAQBQUAQEAQEASGAMgcEAUFAEBAEBAFBQBCYMQSEAM7YgEt3BQFBQBAQBAQBQUAQEAIoc0AQEAQEgZ8DAoFD8eTT2mMf2xQln6S/G9+OKKZHl3THfvplPopGZzwuNLb99Puc5DzHvZ5n2c51hmr3KIVnTAZvm9Lvk/NEPJy+bVE0HKj3dsSvOd8n1+FxCFxHvRbyWcr29vh9qUhBNqfex7avXjtDogfb++r9Xr1Fse3p7/mVbJ8Mfl4QqI/K5TLZ+pobjQZ1u129T4+vzffJtrkf/X6fwjDk7y2+Jnxnjuk4HoUR4zAcajyiiKL44flkWaO/HTuiOH54Wqf/Hv9OnXtse+7c41v6nE/a1nzvOE7SN+xvcOh2u0//AznuSV/y7Wa24y/5uMjlCQKCwBccASGAlNyQX7ahFgJIJATwZZuVz/96hAA+f0zliIKAICAIPBGBaQQwssaUvfhJqt+jSiCllCvHniI0PuYKT6LMaWHpif1Ob3CS8zzVCU64se08rGay4sc4KwHsoTFhtI3yRuGAfJdP7GlQnDikUi6rPiuXiuoVX807TfW+UCyTn8nz5z5v1x8S3dlihfDeg13qhjyOuVJFve7tH5HjsfK3sLCgj+lQu93m/fv9RF2LLFYCoYKZBvXPKHuWVgDRa6PI4XWop45RCtX2uu+Ww3i4rpuoaXHUT45vjoMxTh/zJIpfclD95iQKoOd5NBiwIotrwN9oogCOoyt/CwKCgCAgCLxQBDz3eCZgvgc/ahZ+6OLGCEn6O3t0zz92f05CzLSF89jnwIYnOc9TneCEG2s+9DDpM8dKYW0UFCuOyLF4pIb9ARWzTC5yvjbXhn2arzJxW5qvqtcw7NNSjk2whUKBgiwTQzfDpuCQHLpzf0e9v35nk5pdJlf50rx6vfdgk/yASeP8IhPAbqefmH0NwVE4x9oUHMeJWRekzuBvSFkYjcak1+uRbWsmq90IQLwM+TKvju2RIYPdTiNBfBrp+3kRQJBfQ3gVzi73TQjgCX8kspsgIAgIAoLAyRAQAigEUAjgyX47J1EAhQA+irWYgE82/2QvQUAQEASeCQHXm6AATlXyJpl5J32mLyl1HFEATzBMjla+puxq6bAcLfoRwnRc/VkcRlQtZdSehSwHdMAEvKLNtEsLNfVZf9Cl5RyrhvliITEBGyUwdjy6u8VBIDfuPKBmh82Xg5gl3b3DBvkZNhcHWjU8bDQpHLD52gt8goqHViqxEgmzsAkMGYRRogAaZQyvUAHNtggaUccP+Dy26yTm3PQ+BqZ2m03aL7qdhADimtLqpQSBpB1FXvSIyfEFAUFAEBAEEgScSQTwEVPvOGBTSN/jTMAncM47iWnWPYGccJLzfB5TaOgy8Ul3yY5HfoGGADr6M4uG5Gk2WAhcmiuyGbeQYR+9YjaglUU23c7PlbkLUUy1HEfX5nNFcjJMGo0vYOT4tL13pD67v7VPbc3MTGTwILKJdGRwL+TjHBw1qNdjojiMmPChbWww6URkcLPJJE2ZgHm3h8zCxkRru76KGkYLdJQx2U5yTEMucQ4zjoMBE060SSTtpMQtOehjjj2+zfjfuEbjA4lX089er3eCmfuks52O72e246djeOQqBQFB4IuKgBDAl9cELAQQap8QwC/q2pOQ9C96B6V/goAgIAi8jAhY/uPDc5/w7UNdMqbISf00DvpPg8FJlDn3ierlo1dwkvM8TT9Ouu3QZeVudKOEqZYVQKh+IwWQJTQnjinns56yPF+hUo7VvHzApuSlhTlaWWAFsKC/g7pWDdgEHGQzinChuToKGHn/dusc0btXb9DQ4u9v3d1SrwOyqdHk4I6DRku9NpptOmrxPlAA83kOLCmXed+DgwOq1+u8v46Ixfu0EmhUOgSmWA6bjo25FKphVwejdPus9qXHEIEtT2rjQSAnUQVPsg9M1kYBNP3Btfb7/ZkVwma240+apPK9ICAICAIvEgEhgC+zAigEUAjgi/z1vxzHFgL4coyDXIUgIAjMGAJPIoBpOB6nBj5O/cMxrCcENEyC/STK3BdJARy4OujBBHug9kfi7xepoA40V3/mxESlPN9Oz60tJcpfVicEPL+xmqR/CXRqmFwuQ+UM+3QGCObQKVfMeA0tlw4brObVWz1yPL6mBzsH6rXVC+n2vW31fnufVb3uYEAHdVYDkQbm7LlXeNsjTiezt7dPe4e8P9Q8o6Ql6WAiK0npgqoipg10QkD4/ZkgEpMbEAmjk5x6/c7ESiDj6WZw3MTX8AQ+qidVAI3yl05nMxgMZpYHzWzHZ+xeI90VBASBlwwBJ+uNMjTrclhp85i5yaXJn/k+TfrwmasT/Do6GR8+MzfoyHIfSsQLGNKlsMx5sM/TlOoa3zbj+qPEw6lSco+7WSMXmyEH00hn+vu06c4M5/jxx/82ps705+n3k0qXDT0O4qCYTbxIg2fSNiLZsav7l9Fp/koZm65cZLKVc2Ny9QDNlwvqs/Nn1mix9rAJGAQw0ONl2w7ZHpuLbYfVx6FlUw/ZoDXZ6/R5ujQ6bGbdPWjS5g5HCW/tMan7j3/3Dq2ur6v3Z89foHyxpN6//5MfqdfDw8OEwMEk2tZRwsY0Ojc3R8UCE7+D+mESRZyUgkO8s+572oRsCGBv8KgJ+Eml4Mw4vuhXzJ1J8zsMw5nlQTPb8Rc92eT4goAgIAg8DgEhgJyMVwggfOyEAL7o1UII4KMICwF80bNOji8ICAKCwAQE7IyrJJ30IpxWKIzyp8xV2hRpDoOyY5O2TVdfMCKc7QePpOTAMSepIUYZM+rh0wycY40UFhx7vGLEJNUNn00yD6b3Tfdp0vU8yRw4SVl8nAKIcyRBIBGrbq49MgHTsEcw+aIVOdaDygWfXr/CCmDWcyjQCuCcVgDPbqxQbY4rgeSyrPDlcjnydZoY23KTyhSWy7Iiys/1dU4/mHs7Wg1sdjnNy72tXdrd58obOwdsAv706k0qV1lprC4s0EDvc+2zj9VnCAJBKhg0jHE2y2blyjzvAyXQBImg5JtR9NLzoa/T0aTLqpmqGsNUqhxGZmTqHX9vvv+8XoUAPoq0EMDPa/bJeQQBQUAQSCFgB4ZGPAzLuL+fnbL3xgjtBCGx7CQyE+bJcRUN5M8cZ+g6j0Q/qjqvqOuaiuLEDdKYWE/iA4hI0jRxm2SanWRunUQAzXWkTb7TSog9j9Ji4xMztJiEuboEmmNHZEe6jmwYEsfUElWL7MNXLefo9SsX1PtCxlMkEK1S5lJta6vLVK2wOTajc+uBfLm6/Bv6meSo8/TRY5v6eoy6vQF1+zz2R62Oer1++x7Vm/x+T0cLN9q9pH6vZbt05/599f2D23fUK/L5bW5zFDFwe/XVV7mfuizag+3t5D3yBRoCORiyz2PatWAw4PkzjONRLeAJjEJMwHqyvIQvQgBfwkGRSxIEBIEvPgJCAJlQCAHkNCtCAF/sb14UwEfxFQL4YuecHF0QEAQEgYkIWB6bgB0LyzCrO8rcOwoN4c9S5t9ImwQdm8jX0aS+MwryCHUlBhCrpNTV0EqiNI3SA9JlqkQYJRDnTn//tMMGy+DjlLtJSh1IjyGA5joMDniddtOedG3TlMBJJuJJwTbpY4a6soqrgzSgADo6IIQGIWVZ4KPaHKt1y9UiXTh3Rr2vFDNUyrGZd06rfmsrS1QsckCIr0282VxAoc8BFzCfGwJoxoAsOwnk6Q5C6g90EEiTo3yhABpVcO+QK4aQE9DmLgeGHDVb9OknV9X7dovNvsDamH3na4vKDI3WavExEeFrGTXwwYNEJR6GfG6YeMdLwKXN/eFDDg18SaIAMg4vYxMC+IyjUiwWYxM9N/6anvxPMlM86fvxy3za7Z+xm7L7zxGBdMoCdRmWQ5VKhS5dukSvvfaaWpDho2NuIOOXOu4/hpvApEXZfJaOCp00h8d9smK9ijzy+Vhka3J8TXDGtx9Xgsz3kS6ZO+34uMZ/85d/derWMiGA7HMmBFAI4OexvIoC+CjKp27R/DwmytOco1AoqNuZuakaEmiO8SQH5vHtjntuIYDHRer0bzdOAOEcjqf4s2fP0je/+U1F5qDmHIcApufnNEJ1Wghg2k/t3/7Vvzl1a5mjFUCVkkUrJ5aVCp7QU9eKhqP0KtoHEAJU4LGfWibrJ6qhUfXwQGDUuKHtP1YBTKdJeZwP4CT/vfSvK0Ikq87plg4ymRTla7bLZDKJyoUHmcf5HqZVzadZN8fnc/qhRj1PKQV21PC38XmDMoeGgh5GAbSGEeW1m95KjVW95YUKrS1V1fvaXInmSuz7Nz8/p15XlhYpn+fPXJePCfWt47ACiHMmCqBO6YPPjNrW74XUD9kHsaODQDZ3dqnHrnm0s3+oXoexQ9dusb/fzu4+3bh1W703quPu7q56aFTXvLxMV6/dSM6PN7jGjz/+RH3WaLMqiGbGPhw+mioovaYgdc14EwXwEUhemg9O3aL50iCnLySbzSoCOOnGmv7hjL9/1n4IAXxWBE/P/uMEEM7duMHj5vnrv/7rND8/r24g0yI3oQCOP5iMz9n0/ByPEE0TxYnKoTXZzDPtYQgmzknHmaZMQgGctH3aZHgaCaDr6ihgEEBNnGDaTQIpdASqGT+Mka1V1SgcUiZgAoiKDZ7NNslujxMHD3qpfGx+YeRfpskFsDbELx3NaX4Vk4Ivxte48QeI0BkRQOw/yVSY+Lnp60BQgpm3uI5J/oBpEjIpD6D5flqev3ESMz4vJ0UrD7Up3QTgeLZNnsNBD4FFlM/wrXO1xgRusVamJU32lmtztFDjiF+T+29hYYEyGWaNBgM8xDU8jr7FA0BCADWHUhHSIZ8TxN4EXbTaHPjRaHeo2WFSuKcTQR82O3TTEMD9fTrSJeJMRPjq6moy7kdHR2ruqPmiI3uvX79Om5ub6rMhHjYwIVNNkXQt+afHIgko0vMwvY8QwIcgfKn+EAL4jMMRBLqY45ivw6RF5xlP9dDuQgCfJ5ov97HGCaDrBermijkABRBKYKlUok6HbwzjDTexNLkyN7xpJtfTogCmfwN/9Rd/eerWMiGAHJUqBFAI4OexAosJ+FGUT92i+XlMlKc5h+elsvlP2fE4ZuAn5bIaP7QQwKcZpdO97TgB9HxOPoYb5/nz5+ny5cu0traWZO0f7y0UpHECaPKvTZqbaQVw/Ol90vYQBCZ+nqoskT5OWgFMf56+xoc+TymA09SEv/zzvzh1a5lZO1TwhVZO8OJoc3DS13hIllYDOWCEaBiGFGgFcKE6T/kczwljAlbO/Hqf0M88kpMPxzaqjVEAMZ/MQ0H6ZmmuA9+lzbnjY96LR2lkzPxS16pTmeAzX6dAMZUjcDxDAPGaVnWx77R1Ma3aTVLwJqmB6X48NB81pmnzddgbmT9xHb5NlOFCHZTzkPePgzyWqpzaZWGuRCuL2ty7XKPlxQX1uVEAodJ7OjWMubYgl6Ujh7dD05ZhsnXqGfxOopCVXIxRogDqgI0wsmjngE2/Rw1++Lv7YJt297kqyP5hg4IMz4uBDiBZWVmhq1c5MGRvb49eeYVzF969w+lifvTjdxJVEGXfbO1mYK5RzRUdIGNpdRBYJmMoQSDJeJ6GN6du0XzZQHUcJ560SE1TUaZdvxDAl21kX57rGSeA8AGEuQifw4x04cIFunjxYhLdN37lRgE0BMvsa2624zfy06IApsnCaQwCEQLIvtNCAIUAfh6rrSiAj6IsBPAZZ54x44wfZhqhO0mC1We8RNn9lCJgiNk4AYQjNhYzqCh4hbqwtLRE3/jGN1QaB6hA8A/EEzycutOpQQBF+rjpv8eJ4LS/x+EMkQF4Qpu6v1amxr+fZpKeFmWc/i2dZgUwnQIkrQAm6WCiMBkzV/sKDvpdyme4isPqygpVdLoR0kEiGHuDT+iyWpUea7xPvg85kgDzxpAxvE8rZmb7dPLo8fFqhlHix5ZWAM12ePDAvESD6RcN6UfSBNBsa9ZPzO/0Wjo+d9O/jXQKmvQ+44Et476m6XPhmrB9ogBq9dKzY8ohEkQlenaokufrX5xnBbBWztH66pJ6v76ySEtLDyuAqLFr6jRH+q4LLA4srQBaURII5OiBt6Cg6/P3+91EAUx8fW2P7t1nfz1UCkG7dfsetbT/Z73RolqNj5/Ls6/i97///WQMNjY26KOPPlKfX7vKwSC26zxkSTAKoMFd+Wnqnzu2NfPCKM89Pf/UF7qJD2AajZfrvRDAZxwPIYDPCKDsPhWBaQQQCqAyG7quMpmB5OEG853vfEcdC4s0TG14xU1mqM1Iz6z06QCE8QsWAniySez7nN8myGSpo6s8kJuhUpkDA0Dm0Tr1AyrqqNMgYlNf1iJaYP99Or8+T2c2VtT7nDYFg1gdHrJ5sJCp0iDsqfdJ7r84JtfnG7ir8wm2+wNqtvmcd+9v0rmLl9T729o8mC/O0dWrd9VnpUqZDg+a6r2t89o14phaLT5PoZCjaGgSGjJxAnE4e/a8eo9gA264BfF2cYwAAyYyUcSviIq2dS4+zPl+zNdsiCi+CnQ/fFO1Iw4p0H3KZwNqHnGOPFOWbWurSTr9HXmem5DWvUO+9rNnlqh1yME0+wecPw98z9V3y1KW6PwGE6u5MpPwUi5Ly8tMAM+dO08Li6vqfZBnglgszpOf0wNm82DCl7fxUEqkUS5IBmRkcg/DPg0HjImv8/SBFB4d8vUhuhcNgR2R3i6OR+X+Prh1T32v/IR1pC4eEq7f5Cjhu/cfqNf+YJjkAex0++R4THRjvQ++N8ULbX0dIMwDTfw8Gj04pNeb9MPCcdyXPg/SaIh/GIYzy4NmtuNqVj+HNo0ATjv0cSb/c7gsOcQXAIHHKYAUx+RpfypDBt9++23CU73x4Uui9OJRGhG1mGsil/b1S3+O7yctwNPm7uMI4MSFPJp8/Kn5CadEGacVwL/4sz8/dWuZEEDMOiGAo9+eEECzbAsB/HxuYKdu0fx8YDn+WYQAHh8r2fLpEJhGAPGwHUcR2Y6jzMAgcjCvoa4n/iG/GMxEUAhVPjhtUvoiK4CnkQBmtQJoeR7FNistbqaglCGl1rRYhQp7bSq6ugbwgBXAsk+0vsBVHC6dW6XzG6w45QtsYkUOt3q9zp955cTca3LJDWlIrnbwNwrgIBoSas6ioZpEdZ5Vrp09Pk4mW6JrNzjHXEwOQSFS16dTiOz2usmDA/LWeR5fS7vFquL8/AIVi2yKvPoZK4COpyMrtAIYE9sXoQaiqbyIqbQoA+LtjQJoU0y+p3P16aAEz4oSBTCHyA19rGKO8/BtbW6Tp/fBb8TRCqaphnHmzBlqN1kNPNjfVq85301qAReyNp3bWFafV8us6pUKOVpd5s/Onj1H8zV+7+eKvH+xSp7PamFk6zrDjk91rZw97OahiSCCQPS1KzyM64Q2CwMDE/lf18EgqN/b72jluNNJzLlXN7k6CCwDPT1uV69fo6vXb2o8daWPiJIgEtcPyAt4DC2HrxnpYpIHvlTKF2OWdi2dmHBKVgx1kLE2KX2VEMBJSD3/z4QAPiOm0wigKH3PCKzs/pBS95BPk+MlflO4gRk/KUQCf+UrXyHkHIP5F9/hNZ3Kazz6cZwUAva0Anichfg4CuBDv4eUApj+fFoU8LQo47QC+Od/+menbi0rZNj2iQDNojb75orz1Ggz8WsdsXnPjYeUs5kQuZoALpYsemW9pj770hk0+zgAACAASURBVKXzdO6MJoB5JoXdbpuaTT5OHHLAEFqSmy8OydI+XF7AJknklwQJRDtsdCjUyePCIe/r+lm6fYdNhbv7R+T7TFSP6mwK3g8x15ig3b+/SYUCmz+bDb6O9bWz1NME89rNW+ozPMAkc1ARS+NPmiqNl6qNN3D4nCY6FnZlX0fXZnQYbeAQZTNMWHK+p8iZep9lMrO7vZX8fowvbRob5MobapP8/h6bVjOeTfGQiVUusOjsGpvc5w0BLOaV+o62tn6GylU247s+k85sfo5sTYiHERNWmM53NTl23FEeQPUlsBiGCflFlLhJIJ0Ebw0H1DZzpcFjgL8NKcT8ASFEq/d5DBH5u6+TRj/Y3qLrN5gA7utSchbKChJfX6ffJ5NxwHZ5joRRTKYsHI8QrxdmrjjEDxBo0yK1x6O2jVtCsuPnVD5OTMDGmJ9GXt4/FQJCAJ8KLtn4KRCYpgCiFJyJaMMiZky98AV8/fXXlQoI/x4QQCyu5gb5RVYAhQAKARQCKATwKZbXhKCKD+DToCbbPoQA0sAIJILAzwMBYzYyUbKVapXOnTun0sIUyyU2/9o22dpEZ67RKG3TItXHieKT/jbHfdJ246r4pO2N+ph+dV0/USXTuejSmP/pn/7JqVMAi9oEjKjQpVVWj4rlBbq/xWbHus7nBvUpE7O5NWuxaXKtmqVXzzPpu3JxndbX2OSItEBoCBro9dkcF3ZG0blGNe0P+0Q6aMLVvqSO50O2Uft0ekPa2WOzYUabMT0/Rzu7e+qzG7fuUbXKCuT2Nqtkw0wmCSK5du0GFQps/vR0FLLjZujwkM3JW3ofpEAe6iAQNS/HRhEmYNNgto4cVvHioVaaomGicMNMi5YPXMprBTDjWrSkc/LlMqwetptH1Olwnj+czlTgMA9S1WqVXG1q3j/gvgWuQ1HI5vfAsWhjjQM+qhVjAi7Q2fMc4LKyvEb5MpeFs/X1+tkSxQ6raDpGQwVWbNdZ5YUSaq7D1O7Gb0AHfVM2E6RyKHIgzKDXo6MjDvRp1DnQBZVgjKIGk7ZRAFsdBvbGjRu0tcN9Ojw4olt3OAhka4f3d32LsnketxZMxVrRJW3u7YdRUjUkUeBTkdqDfuuRnJNp8/Z4RgOcZ1JmjONYHtRFPkMTBVAUwGeYPryrEMBnhlAOcEIExglgoVRSiaGvXLlC+WIh8QO0VOTeqL2sBNAEpRjyN0pK7AoBFAJIQgCZQJqE0kIAT7hw6t2EAAoBfLYZJATwmfGTA5wcgXECGFsWIdM//AA3zp5JHMC92EqeytPK2uMUwGlRwNOezJ/H9kAirQqOjmlPJIDp6//X//r/PXUKYDlg6csPXFo7e1FNBD9boDvaz+5wn9W2rG+TH7Hyt4ToDyI6s1Ciy+dY9XvlzCotzHNwhakOAlURaUDQ7HCU6gR1ldHgGxrqAAMTBKIUQK0KIjbh3oMdtW2hxMd2nYAaLVbBrl67SQsLrIKZ2rH5xRW6fZsVpas3blAuy+rYxgYrYx9/cjXxNeN0IlAqh4mi1B+O0p6Y6yBUsdEji/kQaRWNdJoY+Mk5NvepkGW/v1ImUCogGjLELC+xP16lwP54nm1Ro8HKG1KtmHlmqpPgtaT9Fw/3eAwC36awz3137IhWV4wCaNK8FFTwB9ri8jplcvx5bOn6v36eYh380e1z3yOylK8lGtw1XB2YwhfGW+BztFw2oED7app8gmG/T80mK3eNBiur/V6Pej1dK7gx8gHc2uL+IrXQzg736cOPP6bbdzk9jKN9/BD0YaqKzC8uUReVP6Ca6sCRTq9PXa0sm/rCUI2NetnrP1xBZdQXfjdpzZn0mSiA48i9mL9P3aL5YmA4+VFFATw5drLnsyEwTgDhiF0sFpUP4Jtf/5ouHzWgrI7gS24rMLXF8dQyW8c15R7HpItzTgo0mfR52hT08LG/mARwMcdsrFqrUW2Jgwq6A6J79zjQoqlv6lnPoZyOrnxljcuNnVuqJARwfblG+QKbfl0d2IHoWpOfz4n85AZtcO0PBsm42DoSlxP78i0hthza3eOSYogGNZ+BsKFdv3GLSqWKem9y0M1tnKVr167x99dvUr7A37965TX1+u++/wPa3uVj5otMkGBq7urExZ1el2BiTDeTfw6fYX5HJvcc8XYggEjSjFbMMtkqF3JU8DX5jYe0VOPrqM2Z17LKl6daFKrfCZpJTo38erV5Jo1HOroWJthBn4NZQMxWltj8Xdb9gMvF6uqa+qy6sEJBhs2oYcyk1AnyNLSYzHUwyKo/lJjpQaAM2bN0f2CS9vV44trwoIDW7/PDgE2oosKuAQj64WO3qNXiwA/kgTSm4Vadtzs6atLuAZv279y+S7fucF7HnibkfjanAj3QagsrtK9Ny3s6pyQeAHrahm0SQkcWVyZCs5zR+B3nYVHto90O1AF0EwKYRuPFvRcC+IzYCgF8RgBl9xMjME4Ah0ju67qEKMZf+dXvKL8i3NwCaxQFqlQU/eh+HAVwfCE+LplDp4zaaN5PWuDTx0d04zip5H0mE8AkzyER/cmf/D+nbi0TAigE0PhpCgF8eBkUAnji28JT7XjqFs2n6t3nsLEQwM8BZDnFRATGCaAXBIrcgUj92n/6nxDymYEEhrq6gznIy+oDOJn8IXUJJ4425HXkG6gTxJ1SAnh2zlVSy5lz58kNOFXJ5vYe7e6wQmMqP2S8mCoB9/XCBitPF1bn6bULHDiyvFghH7lPUmqK43vk+xww4VA2iRQ3GIfDYaK8GAUQ88mk88B+RhXqdFhxQvS5MSs/2Nwkx2FFyphTc7Ul2t3na//ggw+TPIJnz15Qn/313/wdXb/BJuKFlXXet9miVocVsUazTd0+K1XDVDSIUQFVAJBO9ZKkEokG5OtpUMqxUjlXylPWpBcMe7Qwx2rj4rxWT8+s0pHOkWhFkQqcQMtneQyQP3FZl3IzSmE2G1DY5zQwSFazuMAKIRR3tEKxTBWd+mW+tkpuho81iPhCkA4m1IEl7S4H56h5rY+ocnnqiA9j4sXD3Mgs7Zg4DIq09Ka206ZwowC22o1EAUSAiMltOGzyme7evUv1I50yptuhW9oEvKOV2VyhRHO6fFy90aZtbS7e1ME/MAWjaB2acSfAA5qllWNbz0OF0oTKQdN+4xqG5EUI4DgiL+ZvIYDPiKsQQAZwmpr0jPCeePdpC83jrvNxi9O48mWSL6uFUJMuFXGr/6XTs4CQmdxdJ+5QasfxPph7JQggIgBxDb/wtTfpq1/9qhoXEwRi8gWa6zUE0hwvrdilF3DT9/R26e+n1vCdUjpu2vbTjo8b5aTrMYQQr6cxCvjKUkZ17MKl1wj1ndE+uXZDmenQdAU0ynsW1fLa92+ZyczljUX68hX2OVtenEtyxIUxm+CQv83XUa++W36EAAIzY7YDWWR84ZOnI4ejYRK9u3fIZlvc6I2Z8uDwKDGdmpJ1PQtpmZkcvPPOO7Sydka9L89xROxHH1+l997/QL1f3+BrPzhsUl37FR4eNamtyWBiSIxHUcIgn0OddMGovw4Nydcm01KezeDzxQz5pnzcoE3zuk7y8gITwMsXLlD9kIlqHIVJyb2SzqGIXHkry4vq+0aDTcUquToip3WZOuTaRDO5DkEAczrqubqwSo7O/xdGTMwdDyZgxrmlCTXP65HJ1Mx/gzGSNhsCyL9dniNZTXRhOR3oyGTjA9hqNajbYz+8Qa+TRARvXWO3AqxDxo/zzp17dFe7Gzi6RnO5Mk9DnXn77r1Nur/NfqBbOzwHBhGiurkfpB8AQATNtXfDUR5A3ujJTUzAT8boRW0hBPAZkRUCyAB+EQgg+nEcEmj6O97nRJUA6Url5zOpSyalOzjJ9DsOAXz9q1+hN954g2sG63tMmgCmzcCnnQACw9MYBCIEUAigEEDxATzJPeB57SME8BmRFAL4xSGA40RonAxOI3wgVlBTjLKGJ3dsi/2hqEzymzuuKWTS9JxGAJHPTVX+cBy6ePkSvfnmmyovXDoPoEkgnTYDj/fbXLs59/i1jvfnScrheB+m1fwdP585D1wWJ5mE0grgaSSAv/rGeSXpZHJ5OmqyefHB5hY1GjqSUvtqzhUCWp3nCFYEf6CdXa7QhTMcBbywUCZf58CzdEBHkM1RJsv72E4pUQDTY2HUJVN6DniagIj0e6PAokqIqTyB/HJG1TbH2a7XyUSGXr16lV65eEmdzlS+QJTxv//B36jPerrSRrZQpk8/u6E+6/QH1IfEpBQzVvP29g8SUzZ+S30dZGCCIyD0ofQbWl7bggtZnwraZI6cfWWtns5pc+0r59apoKuC7O3vJCXWMloFQyWNot4nXabMVOJQ/nq6RBqUQbRsrkTL66x4Il+ip4NALJf7EZNPPV1RxZjWgZVjjVI0jbRAXSnEthMFEEEgBmeYo9EsexQEYqJvEQHc08EqUAPNeLUfsOLpOJ6qBoJ24+YtanbZvF8osjqKgI59Xdnlx+++R5aOujbb7R80kkAdX+MFBbCjj2Pr8oLpefZ5mHPT53va98OhHpin3fELsL0QwGccRCGADOAXQQF8nBKW+NtpsyYWNZhq8Jr+Dn+bZLy4QcI8ZrYxZqtxwvS0U3AaAXTg76drAJ975Ty99dZbVCgUiPojEmquwaiS5trVTUr72U0zxZrrnEQAzf6TXsf7N80EPO34hlRMOq851mkMAhECSCQEUAjg065/z3t7IYDPG9EZOp4QwC8OATTTdpLSZz4zxAlkBEpfmjhBGUjXFgUZM0/g2N/4XBmidVIVcBoBtF1XqTIgpmsb6/SNb3yDKpWK8gEcN/ni3Nh2EgE0KmGazD2J4D2Nyjm15m+KXD98PlZTx6/HHAffnUYC+N1/9KrqFHKwwRcO7f7mVuK4b0JcqsWA1hY42ODCKgeBbCyW6PwZzkW3UKsk+f9Ipw3xcznydSCC5VQSBXA0d0bqklGWKLYTBRDbGfUrirVfYGo+I/+cUQvNvN49OkrOs7W5kwRFmOiFYqlC773/M3XN9x5wtZPq/BK9+9MP1ftGs0PpusMKjwdbZFnsR9eHQugwYcprFQxeh4HLOkY5z8pYIXApq9PAlLMBmQoh5SKrcWfX11RePXXOw8NkbhkFEA9t2ezDtZPVOOlUJ0ixo3ImKt9AznUY5Eu0rANbUPHE+ABauhLIMPaoH+ocjAynCqixHfaZS7vL2rr6huuMfADdYJTKJ5MxtZsR0a/zKeo6xVHUp4FODdNsIw+grvBR59yAWI/ubzL2qMYS68CTrO5HszugLV0B5sHmDm3v68otWjWEcmubtFIaD0Qym+ojxn+Qe2j6OarmctI1L3285/1eCODzRnSGjicEkAf7i6AAglAYQoTF3vQJ5hfzHjc9ECdsa1I3GCKCWrwwCcHEAhJlFECzXTrNybgZ9Gl+Mk9SAPF9pTqnCGCtVqO8x9HBZpwMwcMNfhoB5JvS9OCL9PfjC/0kspbu35OCRh49r85NN+F6DI6nkQD+Z9/5mgJ4EEa0tc0mOhDArjanmbzAtXKWzmrT74U1jj5dXSjS+XUOVKjOl5KAD1sHdPiZLHk6qtVyFx4pdwayNwo2YDKEZkifY9k01BGmxtSLnHPtNhNVmID7OuGw2ffgCGSBaWt30E+OFWgiWq0t0tYOBxX89P2P1Ovy6gb9/Q//Qb0/PGhSrHPlgUShIWo41LkB8dvrOcye5socDGNTSL5OXl2rMknO2kj2zFe1UC2p0m1qnyKbaxHgkdUPb4iaRQwrmskDCAw8zxCrkUKXlIxzvSTHIsz3aEj8XFtgk7ztBESmZJ1OBA0zuCG3w5gvLo4scjwT9YwP+HNXB1kEQZZ8T0dyw8VEB2eYZN8ICtEV2sjSwTHYNdLjhgCWowaXiiv1mWjef/CA7t/ngBCYorM6j6Glk1Tf39mhO/eZICIy+O4mj9euLuGH7SJ9UiSFRuv3BsiOzcfUpn1Gn5uYgNNovFzvxQT8jOPxshHAF03EXK0GqB+2XuzVoh/bOmM/3o+mlasX53GYpwZEpBKJpvd5XgEUrlYQkIU/Jlf3gRcv1Pvst+F/FVHJswkpIubmKlSy6uRnChRZLt3eqdNRJ1LJcTP5OWq229TpdehLl19T6TDwz3IHilj1ej3lLwPCpYiKXsCVjx1qoGoiaRETMdPSauOk6TltjHEeY5bG+VAW7vLly3ThtddU4tt4yKRVXY9O5jppARiaOqtTfhtPQ9DSN4An+RKabUe+f49GSGKbtPJnLvFf/as/PnVrmRBAIYBCAJ/xBvwcdhcF8DmAOKuHmDUC6KQIoHna55z0xmCln271U7XzlATQth+uBGDm1fMkgCB/TGAfJoAwrETDAdnRgEooveQ6VMhnaSHoE5zqY9un6w/2aa/eUmWdYjevyAjSr8yVK4r8wXzkZVDE3VZmkcGQ3xsCaEhflCrPZmtH8GnBFOO/rWkE0Kh5xs9vaWlJlYb7xi/9kjL9gACCIBoCqHwTJ/xwf94E0BDB9Jin+/xFIYD/xW98WymA9UaT7ty9r0Zia2dXjROaUbGW5nJ0Xit/51bYWX+1VqCNFU5FAgUw0EENtq7aAfXPzbDJk4LlRO0z5kXg6WnVx5iA8VmkK32o90m5NVaPUIEClSbQVLqRNpsVTXqUXr+fmK9hTq03ufyYqRiSL5RU9Qu0d999T72i2sTf/t2P1PvDozbZNps3I62GffThZzQwpccsm0KHVadalcvTqcc4rX4tllkBtKKQXP2bWl2sqTJuaHNFNtfOVypJ2TXkWjS/F+PSgW0ch4MjQlPuIraJK6UQAUNTZQXrAlqQLVKpzOluLNtPlMw45v6EET9wqu+1yonzhjbnIFQCve4zlD+0TLZA5j2+0xbkRM1FUIqLWndqW07NogJEdNWYev2ADnTVj1yHTbl3795PKrwEuRzldJm/hg5C+vT6dbpxh+firTsPqNlmHLrGfB1F1GzrqiJNvnZks8nq+dftPVx3HN+LAqhgeinbqXtqftlQnDUCCLVq1AzZwyd4r0mgXsjUp7w+PdKmETqT+2x8h+dFANmdyGaRUl8n3lrInzboUzHrUc73aL6Uo6X5qiq1dGExoxZ4JHe9cX+frt/ZpGa3T4etAflBnuYXF+jw4CiJ0htGHXXjgCkJhA83PVz/AOWW7FGKGMf2yHJs6nYaSQDGcQJEnqTyGtOeKiXl+/S7//yfc35CYj9EFbE8CNU1PS0BnLSYTwvSmLb4TzMtK2VUB6KkcTBBNGZOTDKf/8t/+Uenbi37b37rnygCuLm9pUqroe0fNsnTv5lAJz1emsvThQ0me4YALldztKZr3CoTcE6XgtORmWkCGAZro4TCmvSpX4H2rfNdHVUK/DX5RDkyKOBohuD1u50kxxxMwYYMDrTJGoRke5vNh3CH6OiSZfBDVceJhpTRCa9v6P76mTz9+B0mg81Wl6KI15CWJhk/fe+DxASM30uUZYJR1mQu47uU1Uw5b/LjDfsUaP+05cUqZXVy4jmdpw/k1NY59czvAcc0Jl4QYttl4pPO3znyfXPJ0gubp8lakClQNqcJqOVRRDyIhvRR7BBpcotIXHU+26OuxcQM5mBbHzPQOQRzuRJ5vo4ijixCrWQ1btpvD7/tjO5zocCm4lw+S7EmgAcHe6SinHH8HU7AjSTjKLmHls0XKdbXYh5APvjkKt3VPoKt7oA6um5xvcX7HNabdKTHRgdsEwwbSXDZ8NEFXwiggu6lbKdu0XzZUJw1AmieLnlVGVViSKuByRjhqfklI4Ameam5Rgsl2WPWMJ0wpGopQ0gjsV6bo6WFGvUHXbqwlCfcqEAC7+w26AaejDsD2jxoE3yt4OO0u39EXuArs28mEyslEL5dxmfQKB94ooeSYMghrsP4VR13bh9HATTBILhJfPd3fkf5Jro2+zWCIA77gxMRQDXsY754jyOAk7Z/EgE0+6R9BScpgGm8hAAKARQCKATwuGtoejsxAZ8ENdlHITBrBNA8XfLwTyKADxPDdL3W9JSZpujpgL5HZtfzUgCHrp+oXnYMBSwiR70OaS7jKEfxQiagy2dXaX6urHKEna3lCJnyQQI3D7t0f2uf2mFEtzcPiWyPeuGQNnf2CQ/oMPtWKoFykld5ywasBIL0ZHIw6QRKFoW5GNuyMthLfACfpO4BmMcRQKgYJsIXSgYI4K9997s0NzdHns7crwJUtFP4SRXA9FP9tEodRtFLk0C8nxYEYoJTxqOkTXCOmRRGAUzj8Md//Ien7mH2v/5tVgDv3L5HV69fV91rtgeU13XMMloKfEgB1MEgC3OZRAGszBcpo/PRufrVzxXJxVyDY76/niiARn2yIlai0VytCqpE4REH/vge5hGrbQNdAq3bbVG/y2a//qBDnQ6bg40p2LKHtLW1xfvrXJh4X62yAthstpPrQNk3dW7Xp/d1FDBMi21tcqwf8rHfe/cDGhipCabWCqtngc57WC2XqKTVQApZtbOjkMolNs3C7Gu2reg8gFD/jLIHNTBtAsc+SiHUCqCZq8h1B8UOLcZTrfbnTSuArg7YsCxvZALWlUAQyexoBRB9RkP0d3PICp1twazMKl4mowNLggI5Wp2NI4cGemwsve7ioa5QYrN2scQPAEHWp3DIOOzv79LeHh+/fYcrsLQ7veT3Z3s+1bXp96pWZK/dvJXkAawurdP97V21341brCBu7vRIi7SJ2RmfdxAIgn7EukqI+oubKIApMF6yt6du0XzJ8Js5Ajic4qOnqzGp4dHWFX6vScf4uE0lgA+RytFez4sADtysUvvgkQN/RvxzY5BAoq9eXqa8SiHh0rd+4XUKfI9yuQwtVvJEtqv6stfsU73VU4lqr97dodv3tlWqhAe7h+pGcvbcK3T7xieE8lmG+MG8A1NvuVxWPoFQCUEQcTPGPh1di9QQN7NoTiPP0wigMZUalQ+Y4Ub3m9/7Hi0vL5Pveqz6WRbBbKcinSf8oJ7WB/BxBDB9AxgP7hhXAtMEEPslN199zeZShQASCQFkfzohgEIAn5UTiAL4rAjO8P6uywXdv2htGvkwtTiRuMoQDpA/9V4jgaLmKFSOz+BCYhQdk1pl3L8r/aSYcX21/bjqA7MlPksTwXFSmE5pAtOrIUppJSpEZv54CFc8cqIeuVFEGY+olLHpzVfPk2vFNF8u0De/9lUq5DKKAGY9l2z8cwJqD2Jq9ULq9GPlDwjlb2vvgG7c3aSz5y9QvliiH3z//1MmYJCvXhgq9a1YKCtfLxUEQrYigWgggL0BO1Ufx//vcfNsPJLY4PHW22/TxYsXVbF74KLGKtL1O1MJyMyYTyOA03zxkM9sWhv31zPXaFLi4JimRJ1RZcaJYXp+pAllevxPowL4X/3TX1O/mOs3b9DVq6wAwk20otUrowAuVnJ08QynfFmdY2WrVgloZYmDDuADmNH+bb5OS+Ll8+TrahWd4FySs9KowMpsH/G4mXF34ROoawkrBS9iVccogK32EQ10lQn4xna7HATS1alhkBbGuDNgLM1xazW+TlTYMGNmcvshoAKBHmjNRofqR6wMNhr8+uEHn1K3y7+PTrtHCxsc/GHyzq2trtDCHKeEOdhntcqJh7S0yPkSM65FhSyrY8USK2sh8gn2+ZjFYjEJkDHTOJ8rku2YAAf2u1Nz3+S/U76TWj31WbWDLzAq8fDGLv/jq1H/R+SOfC51dQ0ogfWIr9nzfDK+f572k/TcLFk2q7hQAM3vzDxUF0pFlaUAraBT3DieTVBq0Xb3thMFsHWb/SyHWLf1uHfDIe3sc43fe9rvb++wSUkmFzegT6+zb+pn1+6o10YHVVq4Z7b2UYXlw1xbNEhbhTQcqTUmrQZqgH7uL0IAf+5DcHovYNYIYGiPAgfUzTtmkyRMqQgyMJ8lZMYd5dBLj3LauTr9OfKPmX0NMTDfp5WfdMCA+X7cTyz9uVl4hjCpRDG5dkx22FHKXzFDVC749I3XL1FgxTRXLtDXv/qaShYLMwtKaoGAWi7IGmkCOKRPbj2g3f0G7RzUaWu/QdWFBRr0h/TOD/9WmXihAK6sryulrV6vExKmmjxrKAiPa1L+ePqm+6II4JfffJNeffVVFakMAoh/geuxaUYTebWga+fyz5MA4rzjaW9mhQD+l99lEzDMv59du5n8DEyEqyGAC+VsEgRSyzOxAAFcXuSIYJhYs9oU6KPyCwhJtkCuTnYcFi5RJpVPThGBMKYY4ZvpBMcpE7DnjkzA/Q6ToXarToOQgwHiaEQATbLzfqdBnjZb82dMnpCL0jSzrYlu7fdD+vijT9XXIH31Q00qO0w+QYzbLSZr+A1tXOJce0hrhHb+7BmqaRPz/duMIUy8GytMmBHVXy0zaSxrjEBEzQNYqVQiV+dONAG/IIWGAKajgE2uO6RwMgmUPW2inUYA41TOPxP9iwTPBvcGcf5H389QNsNj5wVMVB07Q6RNqiqYBIEk+Fxfb6lSpmqVyXU+zw8GlhupCG20nd1N2t/n43fuMgGMof4P2bSPQJvdA84TeKjLD4axQ44ObPnJ+x/StVt31fdbO3zM2LFU1C9ao6XfWESFMhPhXkOigBmd09HEBPyM4zRrBHAAc6nyHWLCpxYdiigaRGp99H2PPNuhcMAEpx87SuUC0TGqGG740xRGBEuoiFV7RARxjnStXbP/+NNk+u80GUwrVyES4DoWOXZETr9HWYeoNufTcrVIX//KZSrlApqrlOjVyxeUyTSbCygO5pKkz+Ewou4Avn0xvffhp9TtR7R3eESbBy06arbo00+uUrNRV+Xg5muLCgP023Jdunv3rrrxgvBBgTDXFZq0NCkydpJpOU0BLNVqdOnSJbr4ygVVGg43wIzHSmuaAKqxTKX/GL+Gab54D/uCjvYySu74uDxOAU5v+6T3aQXwj/7oD07dWiYEEEqeEED8YoQAnmTFez77iAL4PcPG1wAAIABJREFUfHCcyaPMGgEEeVEEjEDi2BBiRUMahkNl7Ag8j7IZXxEc5QPnspO1IYBp06yZMGnFB1nm0yZBc5OHEmciZyflhxsng+MBCIYc4YkeKmPgErnhgFDzfaVWoOWFCr3x6jmaK+Vpfn6OLr5ynpDWAuftuhUmgEifEkXU74XUDwcqGrgXEu3sH9KnN+/Tzu6+cpY+OqzTa6+9pvzurl2/qVJifPzxJ9RotxTpCodsPjf/TPmkF6UAIjAA+QCvXLpMa2trDLtOCm0IoMHv8yKA6bEfV/xOogCeRgL4P/zWd5SE8u5Pfkr3N1mpQfaShUU2aeYCNqf5Vp9ePb+u3teKbH9bXijRgjatZnM5CkpsCixWWW0LCnNJio8ocz5lAtYmyZRQk84NODLR8u8bzZSC6/U6idm310cQiFbrdGBIEHYJ25gGFwp1LYHJ7TdSwFXaJShPh4e0ubmp3t+7c58yumqIMdFeu3ZdpS5B299v0uorXP6uolW9jY31REHe3uT8daiQUdE5AYfDfmIODnUwC8zXJj8pXFWMalnQATR4eBvWWfEyqWGwfrk6D6BJpq420HlOsSKa4A48GmuRjYyq6GId1DkazQMT1rNNrSDinLksp5GB6Zcb8pTq3IOWq3yG1RhXWNEslQrqH3eaB7TdbVCzxapeo3mYjFH9LqushUKJdrUqCNM6CLjqRmLedukn73HAyE/e/4haHf7+qMWKbBsPsCbFja52QpaTqIKDNiuz6pJ0kNH4w3hiLiZWEJUVRAOWnn9GKQXG5nOzncn9mJzsGG+mmZ+FAB4DPNlkMgKzRgCNCqSqTjgW+5IhqAL+eSHyfHk0VypTt9emAUoF+YUk9xzMLsYHzSiAaZUI7wda/TOJlPEZFlxDAE1alfFFZtKCkyZZxh8uCvvKROTZNhXcIeUzFq3WyrRYK9MbV15RdVUXa/O0sbGmzouFueXVmACiyMmQ1Tvk9Nvc3VfpYPb26/TuB5/Szv4+HTVatLy8qvoJMxVSxFy/fl3d5Mw9Vy1iOgeb8gnUuXJeFAGMXFf5Ol04/4pSApGXDUEgIOYxKpSklEcmzo+acYCvqR1ssB+Z5Cfn+jE+m5MUQHNTMONvjnlc8oft0w8Cf/iHv3/qFEAhgEIAhQAKAfx5cqtTt2j+PMGadO5ZI4CKkFkI8nDIAwHEQ1wUKrMwnMXzmSx96bUrSmFSpdBM6gQd2KFSo/SR7qGdBHuALBmy0BgMOTpVF6PHe6RlwH7mH67BqITGjIrtzZO5MRGnCUjy2aADJkOeHdNiOaBKPqDF+RLVyjn61te/QktLC4oAwnEdvtI494E9z0mU0Vl1/V1FAJHd/979TeUT+OFnN6jeaFGttqBqm2K/jY0N+rM//QuV9w9Y2CBcILmDgSKASk3s96mnE7y+KAIYaikHPoBXrlyhr33ta9TvdLlsXIoAjoja5Gosz4sAot/p8TMBIWlSiN/a+BP7ODk89QTwu7+iJJAf/fgd2ttnx31kbqlqx374paIVAovOr7OyV/BYNamWM1TVwQ+FYomyFfYFK8xxreBcuUZeVgc9+GdHiaB1gmQoUwZPoyylSTX/nvj2YBTAbrdNPZ1EGAogXBvQTDoYf9BRvw3T8toHMZPRtYYtfthQD2spBdAkj757+15ynab+7+3bd2h3lwMldrb3aOUcK9gIrFI4VOcSpckEo+ABxlT/QFDLygqrhgOtTiLtkilQhJ8G1jE0/Gb51SdPV7QwcxLzdaQGcjJ11fSB0B2D4zCGYsVfD3XefBXxrwNGLJ1CBtHz9Zz2+/M8ChLfv1EwiamN7HkBGX9DBH+oMc5n1LWixTo7QzjsUrvD6mW9vqd8kdHCOqusuI6DAw78sGhUXxg5S9EazQ798J131XtYODo9/rzZ4YfCziBOgkQGOh8M6hybFWOog4TU8VMKoFGZgZd5+DffG1FA9SMVMPJQEJ8OXDG/eecEsZeiAPKcTDchgI9i8lSfnAYCCN6ifkw6nYYiSmQpIuLmWX43ak4UgVxxMIchTQ8FXMQRBZksdfoRlebX1E2gUz+gmtuhrEW0UCD6lV98XUXPtlotCrs2DcKeIjqWh9JFHrX7A/r46k06d/ES3b5znx5stQgOzSgG33JcarV6VCjkKBo6yoRy9ux5un79hsqrj8UdixwXQrdoQHz9WMOLGVeldUH6lnjQU8EcW1tNKpdhPnFo77BHtVKR9g8alMeNNkd0fmOB5spZKuWy9K1vfYsWFlcpyJdofumsytzvegEdqfxbbPqOhiCifUIJKRDfo8OGukEd7u2rSDjg9s7HV1WeMJC+//A3f69yAcIHsD+0VD1g/I1SUlgIByjPFrO/JP4ZMpSehE9LDI3aaY5hk0MoFea4LmXyOfqtf/bbyiSoiBj0W9ytYBJWZn1cEzvdj7dpptppiaCnEbonmXyPqwKmF/Q/+IPfO3Vr2b/43q8qNvTXf/s3KsIVLYubesCmvlqFb/TVUkCo/KG+17WsUQCirPPazc1XE+KXqTABLFaXKKfNwn13I5UHUFeoMHXFdGkzc8NOk+pxAohKID1N8NgczGQPxBDN6beS6ForHnJZMlWejImV52Pd0QRQkwMQFEPwbt28qUgJmplTW1uIZN1Tnz24e49qGyvqPcocosGX1RDUQOOGB1FzTdlMQKtLHBDS6zPJDlXUva6qoX/X6vp0AEvg+VR22AwbatOkMnxq0pc2B5vI4Ui7daidCL8hno5D/XCHHIIm8MWYW7HW9spMZB1nZOIli8ffIpdcbWbFvsaEDJcStY9rq3VQncdiE20ch0k/UQqufsTm4Lwul4c1yZDCbCZPJhr7SOdlvHP3Ab3zDxwwsl9vUm/IfgBtTQTxirVf4akNBUhthdKWCkOf85Cimbk0TuommYbTZmLuB2eCMO8Z13QO1MkPqWa7Sa9CAB9F5dQtmo8b4J/Hd6eZAKoyZQ7XwlTJgTURNAEYwDOt1Cj1Dz6AULLsgDLFeeq02hT22jQXt6jsE60v5OjXf/ktyhcyyuctbPNCAJ85QwAH0ZBu3tui6vwC7ezV6d5mXfm6dLp92myxMgg/O6zT8/MLVCyW6cZNTkQKAhjFfbXw4UE6tDx13bixgAB6VsT5+wKLirk8bW1uUzbrk+N6ipDWqkt0sL9NOd+lUjCkcxvLVC0XqFTI0S9+81s0X1smJNEtz69RZHsEPxQQQF6gIoqjIZtIo5jCfl/52NQPDml/Z1e9xwJ7e79JvW6frl6/Rp98dkMliN7dP6BssaxSSeBp2xTUg6rpWpwoeryZiOFnJYBWbJOfCciGmprP0W9/758ptYOJM9cpPo0E8LQrgEIAEfkrBBC/eyGAD1MRIYCfD5sRAviMOJ8WAqjInH6CUuYMC0+PFiGxsyF/RvWDWmfqyRp4DEHxKVSm0aXVDWp0Y6rvH1DGs2mOGrRWzdKr51fp137lLeU7B6WsVe8nEbz9eKByZTmer54id/b2KZMr0uFRh27cukfVao0eHDWp2e7StWs3aK5SI8fN0OFhnba292lI/FSIh03z5DtwPIqHA+R7UAQQiZzzGY/Ori5SLhNQu3lE3U4rMQ8vVhdp/2CXAtchL+7SxtoSVSsggAX61i9+m/LlKtlOhrxCjSDyQbE7aHd10mSogDFBVVCF46EAHh1So35ER41DRTCR4PlnH96krZ1dVR/4h//wM3J9S9XdbOHJ2XaoH0YqJQy87JWpe9DmVDo6Oto8DaefgKc9vU6avpMUQJihQTGDXJa+97u/o3wCFfm09RP7MEpS+oQ6/9v4sacrd6x8js+V8b+fpPyNP+0/afvTTgD/5//8NxVo/+E//rV6QEKDr6tJwzOvAxlqlSyVdEBIGWHr6rfcp7LO/Ta/tEylea4VnCmyopSvLlJ5js3G/WBkAh7NLQRv8Zilg0DSmLvavJkOAjEKIMyo40EgbrfJ7g3abOzrah0mRQlMlr4OpDDXAVeQozrXw4WvbK9rlCy+tqODI9rXuepu3LhBi+usAJ49t6Fe8RAz0GbpUpnNqc2jOh0ccuDI4nyVqvMcIGO2i1AxxNIKknqg0+lwdF47+MbOORyIY+ogq4cxUznFG5mDYZVQ1xHFifoJPE3pR6NkguCZOsgmWERdU5mvTa3JOuefqQmMv011EUQJ+zqVj6lcElnRqE5zn4NvIgvuNCzNdXvNZIzKOhci1igTSAFVsdthtR9rMdqNW3fp40+uqfc9JK0PjQLI49JoD6jVZey6upNICwNbgjr/pJygBmu1xaOVjNLm9fTaZx6A09kHnpSqSp9i4osogI/CIgTwcTPmGN+dFgKo1LsUwQABVKXC8oEiAghYUH59nkeNRkuZb9LKk/nxZKyQ/MCltbMXaWu3QYf7e5T1bdooxnRmoUSXzy3TN998jWCOAVG0Bh4TQIqp0+8qEzAI4JAsuvdghwqlMnW6EV29dpMWFpaoEVl0+/ZtunrjBl25/BX6+JOrtH94RO1OXylnKIiOY2HJwfGH8DGMQoqHIZXzLpUygSKBZ1bnqVLIk2db1Diqq76gb/Nz83S4t6d8hOKwRasrIIAlKhYL9I1vfpsyuRLFlk92pkLdPpI2WyrQw9UF51VkcDZQkY0gns3mETUadWqACDYaigDeurVDOzt79OHHH9O9zR3yggwdNTqUn6tSu9unTq9P7S7fUICNMU2NL45pE+qzEEDHQhUTm6I4TgigqkoCFwBTrBky5ZDN3MPY6JMP/wAeRwCx5dOabp/X9jj37//+/33q1rL/5b/9LcUe/vbv/05FhqOhVKCJpC0X2QxZybmU075/eMhBs+M+FXXut4WVVaosskk0W2JfwEylRoWiJheVV5MHOjOnVPUWY57UEaBp5R8BXcYEDPMnmvJ91WQLBHDcBGx1GwkBBHEy+xcKbLJEHj7js2Zu5D3lV8jm7+vXb6pcf2ouaRM1TOMml90nn3xCy9oEfPnyZbUdHjI7OhG1MY1ub29S/YD9Bs+eWU9M0ZEm2SDYto6axTZw61CY6qhnPPwWiAmgIeMqo4HGAfFbo9/myEzZ1omxHVQNMkFemhDB9874GPo6GhjH6Omce9gHfn5oJgoY66Tr8GcgjcYEPUyZRg1B7WjfO1gnfP2woEzaJjt/yD8PYK0eXhV2UWJ+39phv8DNrW1llVHfxxa1tOm33mSCedjsUVOTRqTCUvjFtlrP0Y56g8THz1wvXs17BOCNr2VYh8z3Ca7K1YbHZSIB1D6kaoNjNiGAjwJ16hbNY47157bZaSaAWJDyRSgOQ7UQYFHG4gASYxarcZ+0ohdStVaj2tIKXbv5gHPeeQ69vl6kc0sVRQCvXNxQKRMczyXPzqsfN358vX6fK2pAjbJc2t07INcPVPWD6zduUalUoWE2T9euXVM3g69//Rfp333/B7S9e0C2n6duD+SpqxQ0KHNofZivQQmHIVXzHpULOSr4Fq3MF6k2V6HaXJmODvc5+XEQUKmYp6ODQ6XiDfpNWlmqUblYomK5RK+/8RYFmSKFSL6aATEdqCd53JxVImg7powPX55AkeCw31E3IPgb7e5tqZQWUAMf3Nmn3YN9unP7rsqk72dzFMK30s/THrZpdajThZLKSoLljJzj06T7eRNA3DiMDyAigbHAItehasOI4pBv9FESr/zwz2gaAYQeNYnMPUnBG//e+JrirOnFetwXyHyX9hv6vd/7v07dWiYEkEgIIJN8IYCsbAsB/NyoC+P9+Z7ui3e200IAcRP1EPyhH3Oh/OCJGU+4SA4M0wBMOukEzbjRmnq25se5XnXowqXXFCn60U/eV8EXec+ir12o0eWNRfrylXO0vjpPYRypqLdCYTFJ6qykfgRoxETdfk9FtaFmLp5uDw6PFEmr9/qETPvvvPMOvfr6L9BHH1+l997/gPLFGtVbHTqEiRhVAtRTZ0ywUKjj0pBqxQzNFzPkOxahYsLywhxdvnCBDve3lVpRyudUkftG40iZ2vqDNi0sLKjcWIVimdbPXyHHz1OIAu5+hVCtg+vcsjIGEgjM2C8yplw+oEHYUQrg3v6mijKE+fz+p3cVybtz5x492DugcmWekOvvhz95n/Ckjdr2KCIPJRPH7WplYvzX8bwIIKRSkG4QQJiAf+O7v5lUEIDD+/MggGnS9rTEb5zQje8/jQCmSeJpDAL5X/+77yoJ5b33f0p9HWyQzomWQ41CqILWkAoZXXosZlOcSyHl80weFpZWaX55Vb0v1vg1W66Sr/PK+QtfekQBVFG2ExRA+Laq5wH4h+roWAR0oEEB7A9YrYMC2O/ye6R8UuPf4d8wGqKEjZtGUSuAc3Pl5JqN8NzrsHsF2s2bN2l3i5U7kwcQvz88WKF98LOPaHmdAzqMAojfZkdXvjDH2XxwV7lmoF08f04Fi6EZBVAFdOji5eqBy/z+tKkSxwmGHIBj5lgUhUmwCebjSCVnvLCdUQBhabC1Aqi+RHNcCnweL+NeA5VwoIHAOWHmVZsaU68bpMzzUPMYJ2N6xwPpQLtr4EEUDapfUZcSLBbzSfBP/YjHCgqgUUqhtm4+2Faftzoc0FM/bCSm3YN6ixpt/nzvkMcYa7AJCAl1oAusMjCBK4yzrJymm8JYz7VhNEhM0AZb48ONfdJr3qQgEC5CQBSZMO5Hzjb9A1EAH8VGCOBTTKBJmz4tAZxWAWPaZaT9nI5zqZOOn44CNiofTMDKFyTqE8yBWLTgj4MFHIsvfPjQoAbiOxBBpD75xTfOUyaXp6Nmlz797LoK15srBPT2l9bo7HKFLpxZprW1ebI8l4JsjnKFlYRUqoTQHpuWOZceFoOY6k02neJ6DtptFQF49epVOvvKFWUu/vc/+Buy/SJ9+tkN6vQHNKSA9vYP1ILZjvvKrwhrfCUgKmR9KgQ2LZYCmisW6ZVz69RDWoQoVqqmaw8T0wLM1G6Aer85yuZKtPHKq+RlimS5WeoOA+oNEB1N5FgwBaPZSv3DP/QllwcufWXCPWrsqRJMwLC33VCRizdu3iLyckrpQ0TdP7z/ETW7PRWFTK7PZvEup4dBS6t/xxnr427jOXwuLNGxbdGlK5dVKhiogMAF/ek0W0ly6Cf5AI6fl0nyoybgaVHA0wjdtP5MqxEsBFAIoBBAJtxCAJ+8GgoBFAL45FnylFucFgLIj02RevoEeUFReHagbhLqYYIMQCXDP5AYU70DvoEqYbBOUfLtNy+ToxS7Jn127bpy/a0WA/rHb5ynjcUSnT+zROtrC0SuQz4qFORXk0hilcsKZCe2k5x+cDDHOeBLB0J40Gqp7bc2d6hSW6RiqULvvf8z6vQtevenH6o8VeTk6P6DLeVn0xx2CfnGEAW8WM5QIXApCxNwOU/woTq7vkbDXkddPwigZUHVY0UDkbEgmLlcQaV+Wdu4qBRAy8lQZ+ByEEhskWXzIgvnbqROcAP2x8nmPOVwjbQ0vT6CV0Bkj6j/YI/ub27T1vYuZQolanYHtLW3T+99eJW29vao14/I9jMqEARE+HlVApk2dUEAVb1hJHm2LVrbWKcvf/nLKk8h0sDA7I+8gKY6iBDAp1wETrj5//bf/7piztduXKcOikzrhwz4maKpvJO4uXcaVCmwOkQDVmICx6JMltXbUnWBltbPqfeLG+fVa3F+kWyPCaJVufRIUBce5owCaIIS1MOjVnLwwGfy45nE4Cjv2O+PFEDjuzdSABEEolXBTougmqEViuwDiAo7SO+k+qb97aBmGUUKaV7u3bunvu9pPHBN8ElGe//996lWY7/Gc+fPqFesZ32djsYEq2zdv5ekgTmjKoVodWrI14YchMbfj+LhKHBFXy/OGcR8npFvGltD0PqDbkK44JGMhuMZn0i1rmi/yuQBPoYFgcfL0oEweG+SwNuWSyb4w2yH1DHGlxDp9g2BMbjjoS7U6iXUQDSowiWdHzKXzyb97Pb5IRMP2ubhfm/vIFFXTYqaRrNNfZgoVEDIHaq3GLN6g30AO4OIIpv9UFV9YozVgLM8oIXZuRFOfVYlTQEA9X0YqoIB3Pg8xkVIHVMH5GB6JGM04eHS4KYPdKwXIYCPwiQK4LGmzvSNTgsB5MV9RABhAlYKXL+hSp6BEGAhBhn76KOP1I8S5lH4BnY6AxUA53k2ffcfv031RpPu3L1Pm5vbhNiIpbkc/epbF2m1VqCNlQVaWV8k2w/Iy+bILaOkGhY3l3zHVwRQ+XohmEMFbwyofrSv1LNuu0OtTlOZo0HWYpipCyXlh3f33jb97d/9iA6P2kRWhj768DMagEC5IdWqZSyPtFotkBUhrcqQzq8v0lyxQPOViqpUkiifTo9UgXfUBPYDlY8PSmWQLVJ5bln5JsaxT4MI14nrRrxlW22PRbJcWWACG8Nh3yPXdyiTRc1gh5B36+Bgn/Y/+0j5NwaI6LQD+vT6dbpx5z598MlN6oYw20R0f/tQlU9CjrSuTqj1IhXAwTAkS5vgYQ5eXFykX/qlX1L+jxgP1G8GCVS5Dp/gAzj+a4BKml5cxxfaSSbhSdtPW6BNjkpz3pFZbpQL7DSagP/3/5EJ4N3796nZ5hvsANV0dELiSJtTG4fbKn8lGoI/0LKeTZ4usZYvztHy2VfU52cufVm9VhbWiHSZsU5mWT3wpW+wMAEbcuLpZO2K7BgTcH9AjqtrfWuHe0V89E0duT0NETFBK1G7oXJ+ouEhMgzZfGgIIJKrwwdX9UMTQDww1aocuIJqOXduMwE0ZArX3WoxNiCAlTneH6UNFQ5+QDArKuw0+dzd2UoSViPIi+PfwXcZO1W5yARHRPwQpr5HNgGl81uUtTmq2kTcwhze1/sj8bVJiG2IF1IsAR80KOqjXH88R/EbSfLf6YhZzON0RLCJpDXbcXQ2jwHcYsbnPdbvrj6noxl1uVJUFh00x7MTcpsvMl5IAm2CULC2G5M96paj1esNlYUBDYF5DR3w0ewyRrHlkZ/laGukA1O4h0zy0D7ZGkWCm8+Ab5LAOZVg3JBrZVKfVArO5Tmr1iQd+GK2M/XT1QbHbEIAHwVKCOAxJ8+0zU4LAVRBDLqsmiJkZKkfrWch7x7Ra6+9qpKrYkH44Q9/SL1eSKurSyqytV5ns2yh4NFv/PIv0+b2lgraaDSaFLg2Lc3l6df+0WWVrHZtaZ6WN5bIzWQUAaTyRVYcbfaL8d2AF8J4qMrHIYrtqL5L7XaTOt2W8sdBZQCQUfirgawhfcK9B7v043feo2arS41mSD997wMVxWblbSoXC5TxXaqVs2QN+xQ4Did4LhTVzdRzOdhC+fZkR4uN7WfJsh3ljxdkCpTLVwnpkNWTrZVVT/F4Cu/ER+rpPPDzVK4sURxZKhoZx87kAioUMpQtIMP+Hu3t79DOh++qYBWkfrn9YIc++OQq3d3cpt2jLtVbXTqsN2mv2Vd5DEEwkfBaLa6pkmzPOC0f2t21PQIBxE3KywQKU9wk3n77bTqzvqEWVyTUbR012F9zLG2DOdh0gsZbjBO98f2O6xs43vdpJuO0e4QQQCGAQgCJhABOXzmFAAoBfJ73VXWs00IAlfKmnjhR1BxkUKcEsEHuYkJRdZgE4Q/3s5/9jO7d26LFxap6MoPZACajSqVE337rLfWUfvX6dTareg4TwLcu0cJcZkQAczmVUHlYvKAIIMiUDdUNRBAmFgdPtENVPu7ocIf6AxSXb1Gv26StrS1lloTJqNlkczSiZt//6YfUbPfpwf19eu/dD2gwiCioeBT4LlXLJSplPbKjkMqlHC3PV6hSLHLdXxBQrTzmCvw0CfOJ7WZUxQ5DAD2/yApg5JDrZDn1gutTOzpQ22Yyecrn59X3gyimfK5AhVKBiqUsOX5M+/u7tLe3Q7uf/gNX2fB8+vH7n9C1m7eUD2DXytCNW7dpc6dHfp6fnmH6sxF1/AIJINLAgPSlCSAI9uuvv05vvvELyiyTCzLUOKyrufG0CqCpgJImgZMI4ZNUv2n+rmlinD6GUQNwrtNIAP+Pf8EK4MER8kiymRMR7sbUaEqXRf2u8kNFy2hyjjlv0oZk8iVaPX9Jff/Kl95Qrwur58jRQQdHbjVRn1QFG6WWDZPPsno7rAlGEYJFMdYmUaOMDcN+YgIeDriuN5ox9fZb9UTJYYWQlTtLK8pILTVXZXUKAQpoOA4UM/Vb6HRoe3NLvYclAi0cRMn7nZ0dGiKzPBG9/iVWOhGAZVQ6rCVou7s7tDDP+RCbrUPK6uMbPKH+mb5hzUFFDTQTEIV5lbFZETO5DFW+Tl0hB0RzoLExnyFAxiiy6RyqQ53OBtlgHjK14/cOVVCrk67LbjZoSILPuEZkaeUWRgujVMIFRWE3HCaqpclrmMlmVYk404zJ3gm4Qkz6N4Y11pSXM2rdwcEhHdS5fFy3P1DJ8NW5dIUWpH5BIIjCeU+njtnbo6O6rh5U4rrpaB3tLoCxxFrNeDqJO4L5/arUU6biisnJiIdVrWArTIw5Wc850upg0tFjvBEC+ChIogAeY+I8bpPTQgAx+bHMwf8DCy6CQJT/WeeAYHGCe8vq6iK99tprKir4Rz/6UZJ/CfuCBGK/r7/+dUX+Prt2U5leQQAXyln65qsrVKsEtLw4R2vn1skvFNhUsPA6ZbyMWhTCXsRKHNLNQGmKh9TvtKle36I4QjqVDh3ubalINpiQYDJCw3vL8ujjjz6lRqNNWw+O6OrV69Ru9am0mFU3iPNnz1C/eagI38bKIlUKOZV3DDcVXDfyD2IRLVecxAQcOy7Ftq0WGj/Ik+vliGKYgG2imKuAqDx9fpuymQJ5QZ4cq8gKYezQ3GJNRdMi0W27V6ed3U2Vs6x976c0GA6p1e7T1dv3KIwdcoIs/fGf/Vva2mlQ7Fh02ER9PqJCOUO9Bt/cX6QCCAKIPIC4ecAfEEQfJPB3v/c7inCUC0WVHkdFR2sz3vi8n7aAggCa6z/OqznuuCJLk5LGAAAgAElEQVT4OAI46binnQD+n//Td9QdH35XCKpSN7rBKP+ZMYMO+x1ytHnS06bLADdvnc8tU6jQypmLav/zmgAurr9CfoZNdUcOm4/RRuSSKwChpQlgpAmimouGAOoIUxCfoSqjxhHBhkwmiaJTBBDm0CTxso5cBgE0yZpLxqdRmUyZ0Ax6/SQvHdYb9dkgTEqXqVRV2o/PRAEj2tf0w5wPD2FzFY5G7bSg3nPfQWDRlI+ljmxut1uk+V9CREFoXdIEMNB5F1WlJO3nNkSyZe0PmCKFhsgi/ZXx3Rv5ANrK3QQtnewYthi+Jqw7TADRZzVW0Yikgwgbwo21zDTjn6lL5Wofb75m/D4MsfNznBRc/WZMPWYdUZueF6jGlPgYwgStI4/bfV6jtrb36Pb9B+r9oY4shiUDgYHq+NkF6mpz8YHO6dhsIvk0X7HKTWgSjGuzrqXyJhoqotcSXY7UXDP6n1w/iKwQwGQOPMsbIYDPgp56ovEfreH1jMd8EbubxQWExgSCYMGCGRU59NyoT3nfouValf7pr75NH3/0AR0e7CkzLdIw4Maxvr5O1YWz9O5Pfkr3N/dpeaVEucAm3+rTt796npYXSrRQq1JleZWK1RoFhTka5i8rNQ8paEDA4Ndi8r2xz3lI9fq+ShsBshY39xPlYH6upL7HuesH+8pH6N6d++oY165dp92dfcpU8lQpl5WCubP1QPn2VMpFqs2XKOyzs7YPfynPoQJUyX6oSB0wwI1H3TxsC1VwlcqnAqOHRNkclAoOVqkXK5TLFlWC1pgC+v/Ze7Mey67sTGyd+dz5xpwTk0wmi2RNrLFVJbmqJaNast2llhsWGipbttSG7RcDdj/5xX6y/dAPBhpuwO0nPxn+AX6x0UA3DBhoSFa31FWlUqlUZJFVZCYzIzIi7nymeybjW2uvEyeDGWRO7GKIdwNknLz3nvmcvb/9rbW+DwnbYDSv37xOw2GfyCrpwekdWq5mfA7l7JBOJhPuCFkqwXLp+z/8Mf2Lf/kjWkQ5xUVNhdPjzhV5gHm8aJxABAQiS0kkYlQEFdXTmivjGl/P88/JRQANgxG+U4cQ5AJiGW4gf+97v8fHDDDIeYLI0bmgqvei7Wsy90WA7vznuH/n8/raLMD582I21Yzi2JZaFjJbCWeYuqbLqAO4AYBypzcAcAMANwDw4xj1P3qbGwD40dfoQ39xWQCgngReNLXeATDjsERVk1dn5LsV7Q769K1feYOoyGg6OaVoOWd1fgy6N2/eJN/fpX/1Z39Kp5OIrl4Z06gP2RWLvnhrh7ZHIW1vDWnvhZfYnL472iVr9DlTdewQwiFaHYdBG4nVbQAIxqNcnDC7gAYAiNAGfgsAiNzAu++9z7Pr9967w2yB2w1pa2uLtre3KEsiZhXh8nH1yh7r8oG1QNEdKhqRszewnMZyDQMPhysw28QE0/Y51xHGAGFnQBZL5dQUj7YoAPtn+1RTyKE3sIb7V/fY2aC2K1qsjmk+P2W2ol6dcrI1jO1R34HK5X/5pz+gv/zZ+7RKSkrymqLCprKChDVRuW5ZwbkSIsd9AkOr4Ilz8yoBhI776DnHkwJAsMHf/Z2/w6wwMxCmN/ikAUAFr3gmFADK8+NcagD4f/yDb/ONjOKUotjotOUlZYYBQlEUWpEmnNuK5hj2phP65BsXCb8/poMbJgfwtTf4d2AEO30Jt64cEXtHawoecmHj0cDQoyEvWBlAPAqYGKJpYUeRpZS3qoCrxqnBsGHpsrWftHmPtfgC4dRBT8K9na789X2POoHsH8+2hn5RCMb7TrOGAUR40qmkb0BfhDaH3p+xPtNzm0+Pm8KTLIkb/T49nyD0CCqifO2jiKuC+TqYqmqecFQSfdDwMrQEc3MP5Fqa4g7jmgPGXxlAXsfo++k7ib6g3fdh22Up2qxoei+wrCwth3jN/RYZLmEg9bcup9aY/GFzPPi9gimso9cE6S2yzzMZLJ1I4fOHUitM9wJbNzMXbMK+949O6YGxjVO7u9F4i0bbEmI+WliNcwuksNBY9cCwsNBD5OTnNhOKJ0+LlAwjimNLzfnivNH38XGaPmpTBMKX45nbBgA+4yW8LABQWbc2EwRQAVYLRRKwm7KqnDy7ZEePb/6NL5Pn2DSbHtHJg2Ou0r1+/Tp1vd3GuxRVsPArhVfpC2N0quJPeutzX2RPUviRdq587azyt6gbBhCdLLxGWQZmOWWgBiaqmD3gjg6fb20NOZ8FOn/4Dp6h8AuFf6V6hEZ5yr6g6DA6odv4gL7+6sscgmLfzzrnDg65PvvhDufysA+urxZFNQuZgg1FpwYQ2OsOm5ydcmubfTq5ECQYsf4gfDkd3+FtreEIUqeN96ZrqtpQNXzn7mHjr7nILIqznP00T1cFd66o/Gv8M01+l3bgmreIa4WOXMG7hqLOP7pPCgAB+l557VX65je/yduHfAWuS2DCPueZuydlAM+HtJvB0DoDbnoOH8YAtgcobEPDalxAc4kZwA0A3ADADQCUPnADAJ8RiDzl6hsA+JQXTle7LADwbPC1mlAgBlDIN/meR3ujkBwqyKGcru106POvf4auX9kj11rT8fERs22722Mad6+3vEsr1toDeDwYOI0/6We+9BX2JIUf6fCFb0rRCRJ913AXEIYL+UNgAKHKHy1nDADBAGazIwaAAFajUb/xD0WCN3JTYBE3O52ReoTO4wW7AiDUi/w/9QF9/bXbrPyvvp/w+8QsdOyisCWXWbYjOTZ1LSxjtobcDcKyFvV6A5ZL4ORvhH+Z9UO18KDx5Swwmy7XBB9Oz0exiXhvZtGaw94AlD/+yVuNv+Y8heh1wn6ak0XWeGiuclwXAaMA43qvNPwL5uIhAHiBD+aTAkAwFqPtLfrWt77F7CgAIK59qDpfhn04DwQ/+Mqc+aGeB2uP+jeu8ZOEgHUbCijbrOhlBoD/+3/5DeZa0rygOBOGD/7TWSpMj+YA5klMtcm9UwMEFO1Avgit09+hnWsv8vKNz3yB/1578TPUHwkrEzl+wwTpNpECp+xRYJLtwQBaRgYGebrqnIFUCjS8g1pUgOINZao0Dy1PIyo1N45/K+sVJm8PLLzvC/sDK0W08XBIYOTQ0C/o8bEwuWHoFnPJBwQ76BoGEBJV8tmMpaTQlOVcLWdN8Qby/jRfT/h2oi4zfbKMXEN1OgEbiSYpB8IANgwbi9eb61Ctm5QElZPBM4kKezTkDouEi8i3yLmJpJRsX3P98qZApS3g35Y8QVoGX8PiLDcUMk5oLGxvcuGKczIpeh66LVUaAJt7VrwDzYOHIQDclXSdNMtpZZjppWGj8azWpjAEMlpoyOHTHMT3j9YNAzg39xDnhhQWPiYLuqpybfQz1hE012RtNAKxb2UA2Y7UXEdeEc/iUyReXdQ/lqWxNNGNf4r+bgDgM97sywIAFUxoeFHzwbK0Is91aHsUEBLMPauka9s+XTvYJoCog+0+A7Sjo/vc4Yy8vca6CtuAXRWsqsYBEqfFnur1L32dLalgR9W/+Y0GABYZQN/DABCd7yqaN9ZSyeyQOyjkBA4HXVL7KAw+6IxhF3Xvzj0OzSI38XR2amyhKlqnMakN1Kuv3OIBDADTRhgZSNeqqEtjBlgYFADexNJJDMpZKsWwX9AFFODqUOX5zPrBoglSMJzgbTlsgQUrJoDP7Z0BVzaCtXtwvOCcOoTO337nvcZe6b37p2yphCq6RVyzlAyYR7VPwjFAbFf9lwH8lLnVwQ1WSBfZID0pABStRYtdQV5++WUKOiEDhefFAPIAeA5Eyut2xtzp6/dhDKDmQp5nFNufX8YcwP/tv/gSD2N5icmHAJJ4vaYsfThci1SG0oRewbOjAbzDvQatNwIAFCHoqy9/lv8yANySQobYtiiJpHpWbcQwYit4aANAoydMLvy7DfgA2OPjRE6t0XsDkGiKQAzoS5NlAwC5UtasVxqtOn4XbSOcLBiGrh4cNACQBecNANAQMN5xpFPwecQx+aXRFuxLgQsiEwpEMQFEQzGZbaqmBdwZvUgN9YY+2WY5ipdUm/C4hnuhK+gHB7ytJpxaokjNAFpMNg0IawM3v2NC6awfKiAHzzr/H5JSJsyplcF41/rGzk9zfs1K/IdF5k2YnYu4DMjT43R9k8PMhSOqhSh9Bh+7I6kkaKUpzMA+C9U7hBqDsYLU9xQWnfqMxGlGcSL3Hg5MciIeeaEIjBt3N1pEMS1N0U6ShY1uIybIaF4YspoCGixES8sAQFOdvYwyWpr9LFbmOc3WPEHm6wDVMHMd9RpsAGD7SXn65Q0AfPprx2teFgDYDv3iuHUwDYMB1VVJnlWQYxfkOzXdPBhQz7fp86/folsv7NLWIKTFfMbeucN62AjXOq5HEKuFUO3+IGjEaW9/4WssSAsx2qT/IovQYn/rdcF6gABy6JAgNIv8mzhacJ4RGL5k+oCX0dmHHYcrgSEeG8ciGItCkLfefJu3CYHYO3ffYVFYCMKm2YpUBBaVwMg9YtHXWuztwPz17H0jS2PRPJqyoCvEXCGRIn/h7gFGUApDcNzIk+QwBedPeo0oK44XQqwQYb354o1GeHVdhMwegjUdjrYacdXv/8WbBEFViKkGw61GQPUv7uI44LKwNlqNFl8jDoVDCgJCzZ4cF+fwXGDh/aQAEINXksQ03tmh3/3d36VOT3LFLLhEPAK8PWkIWF+tD4LAJwOAzBiXMgCef44vMwO4AYAbALgBgEQbAPiMIOQZVt8AwGe4eP8mAOBF0hgXeQpf9PuzKquHT9i2AnIdmwtAoKHn2gUNg4quHYzp9c+8SDf2e7Q7HnAl7f3336Wbw2uNblmcrrnQAjplPTtnPT6ESl/+wtdYjwxaZFH3uoR/Wd6iYskJTNTLNRJ7CwZlSbxkPTBWtl+eikVdkdE6g22RaId1Q1TtBjw7/dmbbzX6YIf332VNMOiBQdpBNcDKIuFjQ4gmjuac/4fZrlfvcHgIx5SkS9bzkjw+CDdLSI2LVTyZXYMo8IxEA/S5agvCzZJMD0snzsezKtreFd0xhMgsT5YRBsZvVVsrLkRPC1pab793jw6NfpazdcCaWQhx4bjAzLQBj4SGA95nhpn+BRIITwMA86rk/X3961+nL3/1K7wP98xg46GH5aJn66Iq4ItyCDnMjrCOEb5WVhpsR/s5VXDXrgBuA1M9HmznMjKA/+QPXmXKCpMLU/fBEwRMlPQ55O+LNb8vzKaYGDDs/bo9KfIY7hzQ7vXbvHzl1uv8d//6LeqNJYyZ2ESrhWi7KbNm1TY/n/ycOvIXIWANCYIBtAwD2ISCwZirEwhX2JvjNIzScjFpGECw4spaaggY71ll3DRUhuX69WtNOLgXIs9WWB+VgYH233Q658/AwPmlMES+kVQBC6/seGCcKTjHNxO2DgVTqrVXmTA63n+1ogNbqBp6cEdCYxa8JyHmtltFpiHt1nOqkUg8i72esJI1RxHkPFQiyXWChgUzRB5P+lQPkZ9lkwPc7NNUvPN2wGKaa6PfSxGUYT2b4py8uYYQsdfmmKIX5EXrfWMlBBN+VweYVRw1z8gqSvjZlHMSqIBQ7dpMEJGugJblmFzLcSSJ39wPiOyjcajYlmcsLQrKDH2XG4ZvsljRwoSaF0sJ98dgxE2xCFhHMKRoYMvR9N/NCT7GwiYE/MGLtAGAj/HgfNhPPm4G8OMGgI4dkmNb5CEfjsAEVjTwS9oaePTijT362udept3tPnUClyanR7TthI1uWZyIdzB0ysJqTapNdutzX2c9MmiRpT2xIEKnU+aPAIDFmtJ42eiKJSsBgNARy9IlA0Boh0E3DFW70ApDGFj1wSZH73MIGLlA0ChTDbAsWbDuFzS/wDBC64stmqptHnAw0GRriGAXtC7XHK7q9iW8yzlAjuT/YTl0fQkR5yjcqBh8AqxCjwv5TwhRwNJNdbecYIu1tjh/sChItbUqJyDoaUFL68//6hfcv0E/K7JGBM0s6GWxHyiKY/gY0IGLfy/nAOXCAF6kgfWkABADAAAg1nv99dfpb/7Gr/Og5J/Lt9Hn/+MAgNh2E6YC+9jSJvvrDgD/5//wJR7NLMd/CACyTy+PuqZ0EsLlBrwYdzbxpTYAcPvgBbpy81VeZf8F0QPcuvIidQcyEUlsSC0JiIrMAGuT8wEACG1QVys0KwTdzEzAVNkSJkstHcDCgFKAPbT54pQqo6+H49XPFQBK/plUNqsm397+dnMco36vWVYACMYf2po8+Oc5dQyARDhZP9NqZK0stipocArgRSGb4ogcYA+fuZhDCTipyrwBechJRkOfVrsSXtfKXpEcUsALAWazfwOSMTkcjcQ/mAu7mqiz7MfD5NPkwWnoFEB/MJJJp4IyLGtoHnivMKFqjQLoOeMvQrznq7tRxKYAkSewJgWjbx4c1mc04WIG/Oac9XcAv1o5vIxWTb6e0bOmOCsogm84a1aa59RxyTGT0kgeM26YLMtfhywNAVc2zZYC4icm3PtgMmtAYWwmP1BP0OK4ssaTaHyx9bo+BXLZAMCze6NLT3EZP7iRT/MnHzcAvHhQf/Stu3iQfvRdsi2fiydgPI+8GdeuKbQK6neg71fR3/71r9DOsEu90OGq3V6VNknr84UAQCSpW8Wa3SSQmH7j1a9yMjrykKztq9yh4HcYdJBvhI7HRXC2yFmrL1rNmQFk2QIAN/bnTClO5izfgsTx/b1tnq2iU5uenPIsFcnh8ewBexYDAGJbmgCer2MewJDwDb9R5AJJkve4MR+PUojEIrQrOYCwbsPAiqGPw74VQF9OvY7kvODaIkdGE7IBGNFZIwFbGTv8BjZ6Gr4Fo6KJ1SfTFSGZGonUTthvkqd/9JNDQsI0jsX2Q/4cCdLLrCQkRSMhOsKgZIDZRfkvTwoAwQABXPK9sW36w//070veo3bs5x6Z5wUAwY48KjeQw88bAMguHTJybgDgBgAK4tkAwA0A/Dhw1gYAPuNVvfQAEN63zFYJCNRCkKu7PXLrNX37q6/S7qhHXd+hYa9DTnbaJK1PFwmDO4Ra7XXeJKbf/OzXOBkdANDeOeAEdIRuYQOnANC3JckcwC9ZzjnkizBxHE0ZAHJVcDyXIg67ouvXJFkcuXCr+YILQJAcXiwn7FyCZHDM5jUBHHl/iN9Cpy+J5pzozZZ0nthiIUwEYIhkbg07hd2+Sd62yfM7HArG+UGKRoEJQryakN3p9XhdrlouyibpOlmsONEa3yFUpYnVJ9OFJFPDDs/vNMnTJ5OakDCNZGnkByJJ2g0CuneyICRFJ9maCoAmUzzxvAAgV+cFvuQfZhn9R//Jf0w7OztUmoTs86/G8wSADUvQ8j/+tAHAf/R7N4UBxCTCFCKuEjxLMtghIIsGGKgOHF5LQy3sSAh499pNuvaShH73jCPIaPcF8nvCYq2dsimk0FAw7AEb3ToTKgQDqNuvS+axzP5VGK6gEsVUxgkEbDyaMn3L1bRhAFF0dZ4BBPu0TqW6Vy3U+oNOw/qNB312okHTUPX9+/cbBhD9Q8eSogRlzKoCbJwwc2qBhgKP+UIKRyAhhf/QkkRYQZcnlcaVg6pm/8qGZUlCq1TW6fRl8ofjOqviPXPliA2rCGmqbaOFh7CvhiphG4kGBtCH0xDupbmc6FuGY9HnE1ZOrrcWeSBOrRXWIlwvlbSzhdBs7TQg3V8bKGo0A7/tezKpYD1BEx7Hsrq4aOgfE0JtHLkwjG9k+oQ4ySnSQiBDZUI1QSd0dt5pmD/YGqJVeJKN3WDt+HQyE5u/e4cn/Pf+8ZJKs9/SFOEhPKwMI6LBGkrX7BTVA2wO9jEWNgzgBy/SBgA+xoPzYT/5uAHgkx7ek+YAIhdI1oEuH6KPFflVTQfbAXvrfvbmLl3bG1M/cGh72KM6PWxyliaLmEEScpTsoiDNS3r5jV/jXCTkIdnb25x/hA498ELONwIDGDgu5xiBBcySlVQYFgXrDgIAYvBAGFfzhgAAEbpFnhAKRDQ3qIomArKymFzI2pj8H9eVsBnyffK15Pkgx8fyRo2AcBSvpMrWsHtdFs5Fp2tREAw4jANwhMpmrM+FGUXR5ONwjl9VM8ADeNGcmyqLRGcQnbbvkubVLKKMc2mQR7OIpHNF7sxqhQIUh3Nl0srmcAg6wF8cnhJyYjgfxgk4DIKO/qL8lydlAHHfg25HmM00pe/85t/iUPC/CQCogBrHrM/sBgASbQDgBgBuACBkXjYA8EnH/qf5/QYAPs1Va61zWQBgW2m+fcqY9Wv4EuFWDgfnBYUu0Rdfe4G6dUyv37pBvl3ToBuQVx01jMVsiSpbhxkKAEAM6mAl3vi132ImAiwEDXvMPgAEdsOeVAEj1wg5zQwla84hRMgXjMJ0dsQsAhiENFtyLiBYg7ArOUtgCQAalBnwCwFbYAKC0GV5B8z++2D+kiXP9gNf1sUM/3S65lm9Mg2YeWMWjxn81tYuAyzM2nvdMc/UMUvvsLl6xTPz2kZVsMzGFythFLAOtq8z7tDKeJbNRQ04FzO7nS1XhJk0ZtGzOGG9QWZfix5htoyZst0Z8QwZs+O7pyvCjBid4SpDrh5qms/U8M8/uk8KALM0paDXZScQPAPj7S36zd/8zUYH8Pz2nxcDiPPQwg8csxaEaMWz7vevew7gP/reZ6UIpJZiKFmG+4swWlqEAbFOSz4i8zMK/CF1h1KosH31Fl195XO8vH/rM/w32NkjMvp+6XzZOGyslsLAoeNXRkmlQDA500IIrnjXG6Eyaa2iBDiGaOK/PhdxNWVWHS3hyZVswCJ1CokpTSTJvyqMpl4aUzeUAoEbVw5o1BNP2empsEPH9+81EjacIuIZhxDDQuG6QcYKzVf5E/RHJnfONnm8fBymYALvnTaItXtGz05ZJpZKMTIyjb8vZHFMPl2zMgogzHEgwjEcCuOqRVx8HRKT82giEPo9X4Oqos74Gq/TduXQyRHy6iA/hYb+Wz9XaRZ8piwg0kxkm2dOIDgO7feLamYO26ZcizeydSPl0ugWQq3BMHdYV89Z8wYT7teE+YVcDhrLdpnrQLC6NGxhzTnMxJqwpSPA/v5kTu+8f8zLJ3NzbWyfskKetsSkPyR5xUWDsh/8NdI25h53MXYYKSGJ6BiGUwuXuHBGmjFLaSb7ev/0muVPYyvSfggu8fIGAD7jzbsIAF5UdXuxlMajD+Si7Vx02C6cL7j6zOgntQQzUQ/3cEOen7w48IfFm4KXPrAq8uyaXriyQ35yQrdvHNDB9pBC16JBp24GrLKKZZAqcqoSagalz3/7uzwQYRBKozUPPhh4wiDgSlwMNJBx4Ve+tKgEgDMDyqo45UEEA4htFazth0EjW014oMAgUaVJMzDE1pzyDAxcTj2YsGvnD2BV1QyytJNHBx/nCQ987c6N5WeShLa3IRJd8jKHR43XrD84aORYOt1+0xlna4hLw1QKOYTS8WO7RbXgTjbL1lSTkcApxM8WnSU60WwdNR1nfLIidJboKO/Oc+4g0TnGVcgdIjpD7AudIJ6HviPSMOj01iUYSdPJqeaXOR6917UJJTb6YOZ30AHEuSsYhnbhG2+8Qbc/+1m+BqjWxm+wHHpS3ccWYY8QiFZAx7fUVPhK53s2cOnnXGnsngnjMoCHxR3kgc7Jveg2tGJYGUP8BROM64l1/uk//b8vXV/2j3//C/x2srSP0bdrA0DbFF/gHVMAWBVymp7bp7AvQs9bV16ia58R/b8rt+Uv3j2E29Di6bwBgMuFADBsBfcWLTQACOkZeC/5+0cAwBrFKKa6AXp9Wuign0XlRKrxDQCEwLp0RiZsbN5lPmdTDLJOIgoNgLt2ZZ+2BhISXRrtv9PjowYAcoGCAYClKWRAYUZgRnjkKMv+8O5LvwYAqEUNGuZEn6DACX1DYHTttHKXUzpMv6gFGVoQJjs4C7+2izD0eupzjN8pMMIzrvvU9xDXzR8IiJd3SkCQ7pOtOk1lsxR0GE2/VmFIkydqjktBTXMPFSXZUniBhmIyOTZo7ck21aYOxwBbOz2mdtib12kV96hFIKIHCnSTk0VTOIJ8ZjQUvy2MtuXRLKLTuYD/pZEWTEuLEsGUXAWPhrQXBaKYWEOmS667+btOzvoh+KYbuNeExVsaiHq9RVT7TOJgAwAVVjePxmbhSa/AJw8AmtmZeSG4XwHT9IHhUTJ8AoYv6AFsHoA5bw3VqU5NL13fp6GVkrVe0UvX9unGwQ51PBlwMWABAGKQwgBVp1YzKH3+2/8eD0QYhKJFwoMPBp5OGPJgg4EGYds2ANQBZZmf8CACAFhXWQMAk8UJDxQYJNyiIB0YVvWUMBhgIAAA1M6/yHOWtEBn3+n0TCdvU1KkjTA1V9oajTkMEgBAWsmrbBT+ev1d7pzRMXdN3p+wcXWTqI+ryIMmV/HG3Mmig7VY/kA6VR1E0IlCgkY7znQSc/EHOsq3DhfcQaJznCYWd4joDPPS4k4Q27eyGBCPOz0boBfq+lbLq/QxASD7/9Y1AwE5dptu375NX/3mN6W6sKob6Z0PA4A62ChIU0CgVYj6ub5bqnGogFDBIwZefQb1nBTw4VqxDE6WsUQI1kVlK1eXlyW99dZPNwBwAwDlEdsAQL4MTX/EyGkDADcA8IPo5tJ1mk8K0D7u33/SAKCGjdosjWo5PepaAMABHHIIAN7AjkO+XdGo36E6i+jf+dZXKJme0Gp+Qle2h/SF2/ucdC0AMCWnLsiBrl9ckut0KOjt0hu/8dvMANqjMc1OVjxQL+dL6nW6zDZ1gy4DQQBARLvALOB47domsAgY4BfzKcWLE1pnMaXxgpbTQwaAVw52CV67s9MJu2Yk9YIBAELJoQuNvhIaE5Svxa4JIWpUJnfCLlmuR3EaNaEUZZ2UpWL2DjpVmWgSKjBJCmjz+RR0JHQMOZh1Id9LxbDLnzMorCrKKWF2BL+DfZxlQiEM3n24iBkAACAASURBVBz5TZrGtEqWzGJFJyuK4oyWaUGZO2D27/7JnO6eRlSCQeS8QYs1BXGdIKDN1wvnZ1izJoQE15NWYQWPh4ZZOM8A4hyV/QMrqtXAv/Xbv83i2girK1jzHdEmZKrTtCbxuyXUrAOPAjgN4/Icw7CBuL8syWN0zVhKqARjKmLg+DeuC8zkWRsyTfma6X8KHAFcdfn4+OjS9WX/yx982TCA8j6hlRUYfMNeNQxgRbapHKhLYYkcu0t+V2RewABef1VCwFduv8Z//e19Kk3BSDRZNDIwj2IAu4YBg0an6uvxs6X32oSA9T01B9owUvocgL1XBjBaLagwBSOVsYJDKkcWSYgYVfpoWZpwegna1b1d2hpLYUuylN+h4j81NmQcmjUMoBaBQEheizyMogn3AY9iAJvnH2kr5tnTvoExknHvgDRSZtxL9HeaqqDPfpsZ5HfMvI/6/OskqLHzM4xluw/md8OXsDGOrXFmMcUebas31Fso29joBGIKaO6RHif3SaaQQo+Ld2BLuBX7UScSaIrWxsMN/ZteA7WVQzhZj0nzAXjyb0LAyqxCckeLdsAAqsWbFnRE64qWmTBvy7SiubE6XKTy2eHpgtbmuU5NCDjLQTLIK41D1HvT3DfnrBCorR+q+ZO4BO3cYt6OUtbmJpwxgGpk1747n47lS9dpftJuyycNAKJ6r/3if1TIWZkuvGDQlUInCptOpy7JrXP61S+8TC9e26dodkLreEnf+Nw1tihC/kdNKbmo0q1qyhYZ+V6PuqM9euPXf4d2br5MdX9AswdLAYDLVQMAe2GvAYBWBbFlA1oqiwo7omi5oOnslOan9ynPZdCYn9yjXuDT1SsHVKQRA0Cst7Yj4opFm5i5RDgZnT+qWrmjrG0WdfYC+Gb63LGjE2mzU1jm0HcgXrjiGiJVw/jvdCESLQjJ+J2uMFFpzhXEUnXnU4cBoMlng/gsix1XZLshiziznp952xhAV5I3k6QRLY7mNF9ENFnGFFU+HU0junc8p6hyqawsyisUt0hHiO0iXQbHpSFlFXHVDpnzCltATVO4zgNAdJw4Z5yrAFvxSP7Gt7/NoWAAQGUtoQ93UQhYf6PPmgI9BZTnwSDrD5rrDKB3dHTE1wLLPMijUtF8zwyscUE5DwA5J9OA3en09NL1ZRsAuAGAGwC4AYC/TExz6TrNX+bFetS+P2kAsBEgfaQHK3Fe10Oz0FbuRAOE7JKSKKW9UUBbbklf+8rnaW/Uo/nkhD5/rcPSBDWESZwc/BSHgeNpTJ1wSIPtK/T6r/0Wbd14iazBFk0O5wwAIXLc7/ao3+lSGHapE4QEX1uWuqhQeFExw0V+xgBwMj2h08NfEHxE03hGi5N7FLguXdnfpirLaTaf8Hqlk/HMDjqnyMZDLiFXNJtwNma4ECRFhS2ElVFUorNtgAdNbgaYwIxbc8oAdgD4AJBO54ZldB0K/I7oGubIY/M5d1LyBUUsGscSDvsmf7Amy4HTCmbXFsvHMEisAaxk37ytWUxQ3X8wmdOb7x3TLE5plZQU1x5FWUHZuqbKQiFLQI7nUjDelZBvntNsOm2YAQA2Bf+a8I5/l8Z/9TwAVNYCgAvhbxw7zvvmK6/Qd77zHb6+2hBO5xn0I56rdn6esgztfbXDuNjGcrnkwiD8BRuI50Nn549iDC+axLRn/pcRAP6vf/+rH2AAJQdQJnFg1+UvNQxgbpgUZdvx/fa1F+nGq1/k32oRCNh3TBzQHmIA51K4hPujzJ+ywGDmtSCknQNoDkPYptb9B2Pfbsre4zMw+JmRfEGRF5qy+VjOMynmgAi85gCC3d8eCAOI9dGU6efnGDmvtqynbBg4+ACpHzgnc900CsDXzrYbD98mBw/JISYP1g87HB3g9Y27CDP05pj1d/i+zSC13Tj0eipbhuukDGU7B/A8W4dtxyYPTvokYeEQaUBDf6THrFEHPieTD8fv3aPyBo0os0Yk+NpXpvjHPhOpxjY1h1BFqjVaIed7xgAicqHXoJH3MU4wGsnA98U8IbB3aIhqoCGyUdgiYVPaflP8gSgH2v2TBRe78fck9xJRD1MDwsVxqkWu19D1HtYSbe6tVny0nhF9Vh5iAE2kBPvKiw0DyBd90578CnzSAGBpOv12CFhqR6VpJ6n/rowxN6yRGMjYFvsB9wKPsuWCxqEMQK/dvk6v3L5Fu+UxV1/hPUO/6WLbkHJZZNTtjKg33qfrX/xV2n7hFnX3r9DxHRnooyimYa/PnRoq24b9AYebIZ3CoAhhVXgFh7BuW9LpySEd3XmL6jJmcejZ8fvM/I0Gfdoeb3GnzkwdSXgQ51iVazaTx7lo54kkZyQTeyj8cH3yECY2KFkFqtGh4vfMnJlcOLBRaBxSgJWWyTvr9KQKGWAuy3LREDMJ2sos2v0BhQE6cZuoBrPqSKjFFo9fgD/Xc9iBBAPE4nBK9x8cU5qVdHg6p9kypbSoKcotcsMe+WGPOv0xkQlR/eDOfb6m0CvTjhEDM7TduPM0BTB6j0vbVJVqlaT5q0wcfodKYFxTtpdyXfrDP/xDrtZG43AgQDq2e0ERiILAdg4lQB70GhXo4d/NwG2As4BnyWPEd8oeKjhXhrr9ZrYHUg3TX8YQ8D/5w69IFbBh1GUZeaPyvoJd5+sPVw612ookx1fZdizDBu7aK5/nz8G88zPQH9DaUL/xaSsEbJxAHgUAwcw/CgCCpdfnqg0ANXyo90bZe/wbDD4E3tGKTN4lZfOxDPtHNEQVwOyjgd0fdAX8TCdSBaxMvz6HKcl6Gulg5t8UkejLoFEA/A4AUAsUGiWE+gw8YGKI6ABfbwPAOI2jlOvcDq0qGGxPUvR7bBuTKD5fw2Dz+RnrPH3u8ZmGKfEXrL9eW92WWvShQEUVBDTqwOdkAK/2V7JNuYYeCkcaACgRCb72JEhT3jUDthAtMiDe1vVNtAK/5dQavba8Nj4rmrBzaWYGGsng/UxTtrVEQ1QDDeeY18Zmr3Y4woGGKAdfo9KiXI/JYDFMXkqdbCD9RSvKze9S2Jaa89RoCLb1UNi3NYFt3wtzKmcVzqWprNIvPkV/NwzgM97sIAjOcWqywY8KvT7ubtsz0MdZB7kU0MNzWERUGCnYLsmMXvLGUP6h4TRUCqLzQu4PgAnsnqosYc0/iEJXacwAcG/Lp1svvUCvjSvC7AuSKp0ecd5djaKGWUK7O1fZ/3f88hfIHe2QPdyioOyyZh9yj0ajkUioeCENBnDdgDeI5OMIgLAoLyKaTSesB7g8uUNZPKM8nVMOiziIktZlE6pFLosXyrWGr3CdZ8LuOVIUge0CANp+QJ1OlwEgroWCDg2hYoBAB4uORKv12mHNLE8acMRh5CKnsqg4ZI7OWvNTAASxzWC8x4ASlXVVDcBnU7RKyAtgByX2cWmRmRzDmvL5mrcJKZpfvH9EJ7Mlz5794Q4NRzvkdfp0/8GUjh6c0Hy5oLdnURP6rAoBZrh2AtjgbGIkE9TJyzEaIo94gJQF1HvAeZGdDn3ve9+j8XDUVNoCvLO7iSlm0WINrI9rB3CHPCD8B/cGXFOAaK3w1f3g2LCsQE+vMw5NczAVTGroWKux9Z3SdZWxxOez2eTS9WUbALgBgBsAuAGAjzOuf1y/uXSd5sd1IZ52u580AGg7mM0qKEDIpmSxZQV+gk4lFIkJFjSG0QAdJP/PpkHogKxi94+eUxFVsHkLaGs8pH/rlV3yPAgXl5SXC5ZgCByi9XJN49Ee7V59gfZe+xrZgy2yBmPyiw4n80MGZjwek4+8Ojdg9w4BaS55cAUxMghJOqfFfEazyTGtTt6ldTKlcr1kAFhAOsKEJWCXBRYuCARAMgMIUAWbOc9mZo2Bgu1S0OtzFXBtO5TB39ISJk5n4lpJihlvU0xhZpMClPNGGsZ2vSZMLHmFImeCMLMygFZ/i8PcYisnLGeUxI3jAPvvUtFUvHq5TZbr0Hy2pB/86McsBG1BjiMYcA4g/IN/fveQpvMlJUlGEwsC1JI32eQ1s6C3PsUKqDE3sciG6OIF7Tww4+16Hn33u9+lqwdXeB9cLIKQPTOZMnnQKlyAvwcPHnAYFwwirjsYP6wDcNy+nsrWnQeAbbZaz6t9XMqM4BQU2GNZ7fYkrDy/dH3ZP/79L/HkUVMq5PzKFgMoc0uutDfxsGgpxSKaboFl6ABq6BepF7ydwRapY8wSOabGCxipGAy2LZtZXzSkZaDhmVUGkCdnja6esDeYHzb3SlM2WqyLHeacvoGGFI757JSXi1RYO03nwHJq9ALX6YpTO9CQ3jHo9Xl5PjEhYJPqwdcBMkqWhJOV6UHqB7zM+Toar15NA8Fnnql01/Xld1AHMC4nsF00MjjivS0NqSJ8zi22XJ9DPNOaOqK/R1+iOoDsjmSKPtrhR712ZwxfQEv11TV5x3ycqmsIbVEj4aRpJ/hemUo+PlPMcsZEYiJvrkdLZN1CJ83aj52GOUOIVxlADX9rugpfAzNu8DUzbBzSV7QxYWDew4bpXKSUm44IaS1oSG15MJVnANENpLigIc0FDeoHqT7fmUxWkfaiIWCoHyD9BU3ZT3ew1YTCNR0G32vkBjngbdYV33EOc1sWzZxTXq4vXd/R3IRnXPjUnvgzXrdm9ecFAC9i+p6UAeSQoy0MCwAd1vcsvFAJdyVwpkBnhbwZsFT94YgH6k7gs6XbajahwzvvczQF6x3suDQa9qnXCTh8vFUuaGd3m3Z2R2TZKVlVTk5VUc/rUOB3aefKTbr1tW9T5nYoRfFF2mEZmDTNWGePqz+NDZXkHHpGRBmsnUPz6TGtFnNaTB/Q9P6blMczsqqE8uiY6jJr2COAOeS/IFzMxRm+ywwg5wN6EuZF54iObTDe4k4ewqLwLVaQ8VAuTauKD+FeHWDQkXvumV8uWERZXzpfATUOOb53JmEy3uEwN84TlnLodBEunsxnJh+porArWoRgaotlwQAT+8K+J5MZzRdLOjxdsQ4gQsOnyzXBRQ6d4sKR80M/C4aTWTT8x8LSEvBHUJwbQjwqInfuoVf2TZk2ZYXtMKRXXnmFvvaVr9Lu7i7fPwyqYPkeHB3xv9HRAuhpJwsQrSEpDekqk8cDlQHduq/2oNIGffpbBXrKGOoAh20qqNR9Sse/unR92f/090QIGgOpiiY7Lqq8NQRsLOFYB1A+i1cSXkO6RX/rgJdH+zc55QJNAaC3tdMIQU/eO250AJGKgYbrqQCwZ6qA8cxqFTBrZZqDwnPM67SqTsUP21h9mQEfbl94H9GQwoFJHFqWCiisi4TWsRGKXokwMfIEbSMovD0e0dbIVAEbAeVoKZI/aFzx7Ukos0kDqKsGAMIKEg3PKtJA0LSQS8+Z10VhlREMRsWshk/xbmtTq7rz6Qb4vi18rP0z96EGUOuEEr/V76V61uR0mjw1XOPKgFe8/xqq1mMQ60o5pnZYWa8H8vU0DKrvh+r6NSdiFixTWYxjDEzIW4To5bXRe+w4UB2QldaZTFLlB/Is8sTM5APqPpETqADQLSyKTdX2ZGFA3zyiB6dyvxHdgNsNWmbCwnFasNg979PMVTmVyVgUoqoYlpVoCn7r4ai5nrhuqUnZQaSFt90GgK1K6YcBoJxoXqaXru84f3+f9t+f2hN/2gt2fr1PGgBk0Uz2oHU4FMwevzXAAkR8gRhK9vzlMKgNiZSQO64Xrh6Q76FqtqR8NafJySElqxWDxt3tAcszoEMqH/yCtrbHDAD7A4fsuqAabhlOQGHQ4xDw5771W5QHHVqhLOPUYlCTrOG0AWbMACNTxYoXWsKoACoOLabHNEcI+PSQJnf/itbxKTRmKKCY6ko0CJGJBmCnAJABretQWQgABADmzhh5ZWRx5S46UqRRFaajaIMeGcwKXgcdHMANzxaRiFwU5CORfL2WUDk7frBnHlcCa16fhnxxHuv+sAG6YQd5j6gcLujo5NiEmh3yQ2EbbNsiNxcBaQDwd9+9w2FUJFIjHJytK4rXBZ0uUmYGUeexqEUwGeMv8q3ZHQQbAzCsRftQOnEJB6uf6AcGBeOS0ITLDbsHAAjg9+U3vsT3DCH8aLFkpm+5WDTshgI9AEENy2Ifem2bULTRKdTBRIGnAr/zeYHt9RUA6uCDdTDYnM8NjKLlpevLNgBwAwA3AJBoAwCfFxp58u1cuk7zyU/x413jeQHAdpirfcRPygBqcrTvyuDP1m4mPAIGT/x+hQHwbDBbqGa16WBvi3bGY9rZHtP1/S1aTE5oOZ/S6YNDduBAzh6LOKdTCjsBdboeIXIUuBbZmKGvK+r3RgwAv/Rvf5fAQERg9N6NGFCBAUQOYNjr8mxTc8gYAIaBgAZyKJrPmD04ObrLADBPJkTrBY2RX13lMvtmeRWEOhz+NyRK2MgdYJSpuYplTcDQFdAo5DCox2Ha9WrVhGrVsgnbUBFizZvUEI4wqAIEGQCGHclddBxarmJZhgxMp9PM9ovhmKuFcW6d7kAKLPKC7esAXPwg4BA6J1njPhQiyFyXOUuiTCbQQoROYMFVwFGW0yIumdUDuJvlouUFFgMi0UUF72DcAgDESs4Z+d3m7QZzc1F7VA4gikAAdG/feplBP45nMZ3JjNswpQ3jYHyEBRhLfp8ygVi3DeYexeK1WUJ9JjRUrMes90QZSgBADSPrNi9jCPgf/t3XGLdrURUzHJ78x8tavMVWcEKNpKZsVAuu8Flv+wqNrwsDqEwgCrAcw/Qc/kyKhtCUAUTahTJW6mABBlCdQPAdirRkXiEHpMAdy1q0xcuGoQt7wsij4R2enBzxcp4YBtAUdOGzZHnGAKK4C40LvLa35eRNAr8We/E6SUJ+56walY/pbPpDygBqIRi+B8umfWibJVM2DhqpKBDj8zQMIH6PPGI+jHPacfhMi8d4HXON2hW7OnnE9+2wcWOXJmfI71Z/KCFvTJLxX/t6gvXyzDHheUfKi/5W1g+atBLWwWKG7uxd15QUvnamoAuFKlKgxkfX/F5DzU3BmmEdXV/u/dnk7YMMoBaz4Xd9K6R79+/zOihsQ0MEI0P4AsU9y5jDwPw5OipUfMcpOZ4cE4re0FD45gey7HAhnrDQ2t48nTfhXi2Iw3fN/WpXqD/EAJ5Vriu7u2EAH7q0m388yRX4pAHA0PXYFQNUtx+4NOh2GdSB+YPXLzxyAXzQwaGDGPS7/HKziHK+JuTkRNNjuvXiTQp8j6L5hMVY42TFHda2Z1MY+uT5yHuLCURWyPZxHo2G29Qb79HtX/l1zkla+yFN3lmYgoCEq+SQ+2e7wvjxf24rBEwOC8Ae3r9D9+68Q9HJ20TpnIp0Tna1YPAKy7fa8ijs97kDFAs52FIV1OsGUuVWi0UagBaq25bwqeQcPRe9d3N70dFrPg/+gnnDXxyjskwYCENH8v4YrIG59OQacoYdwr+OQ+go4f6B9deDPnXgexyEDIrBAKIybjFfsf4fwNJiCUAllmjJRMJyOG44oDBgTtZ0/3jKMjLwdM0qlzKca00UFa4IThcVnSwWxjapJK/Xo3gNq7k1rRKpjmbfUyMPc/65VqDGbLCpxGWGzQzqkAnBoAUWMFmJFiL8g5V9U4DXHmiwTQYPnscD2qPAnIrjKvOo4FEBcZud1ZBvO5ew/b2Cxvl8eukmsxsAKAzgBgBuAOAGAD4J6nh+v710nebzO/Xns6WLAOBFW9dZx/nvL2IAL2JvdDtthhDLAw/uEDazbRiIWeoDYIHt0qRwAIURWGYDc1TzdgJ64doedTsuhV5NHTenXmgTFWvqB3AEqCiJVjz4Z+uSCjAwZU77oz51oMfEuTc2jbd3aW//Kr302S/TePeA+oMxvX13KMUB64Q6rkdBKPmHg74wZjgehKHVdN1Nj+nu++/SO2//FR3f/yty3TVREVG+nko4G3lJNpKjZfYaBJIHI5ImwqrxTBLOHcZtAqFaBQoxX4uMinXOwtGQiYBzCBgBkUHxGKAid49nlHAY6XU5/23QHzEAQ7L3bLGiwWjE68AfuKgrrvTFfQQ7M97eIXiMB/0h/0Wu5QJSMjlcRjJKohmtFjPOzQoBHouK6jUcH2xaLSJm3LIkpRrahnVOWY6wtHjm1l6PAa3lhbR2ugSlfcymJ6s1LaOUVmnGIFDZtbh82Miei10wIVCq6dzD+EHbQPmBPqPt0C7P0I3m4vnv8Z0eg7J4bdDJoNdUa7cP4fw7wmH/CxxIdBuLxeLS9WX//d++xRSIVtXztXTBEAtLgUkZX8N8TXksE5diLc+3Vtxjub9zlavueVvmLyrwHcP0uLHFYXw0dQIBQFf9v8aBwgsbf+C2tAYq9fU6672X+3pWbMDHVsZcwY+GKn4t9EAVP5pW9PN7ZbyAyyyW6n4+UdHe1H3hL+tyGqaI2Xb/nNA9VAtMbh0mULquMngsa2RYvDYDqLIiyC+DQoBce9k3P6smn1DXaXtX63Hhr+btqZUkPlMxcyzr+virz7AeD/7t+3Jtl9Gq0StUtg0TXF1HlQfw26aP82XyLPt5mCEzHzb7D7ZgZym2oGeexZjYyjU7Yz9FsYDvETQWDTuqBXNIJ8Hkmr8311smecLmlUukZ8iucMxomMwuTEHIZLbgPEA01QmsbEzoxREFqgdoUD5YG8/i0+mcFRDQoIKABiUEbe0oQkPYGtkqPmXznHJf00RDztQSNgxgcyk3C096BX7ZAFAZFmVF+r482GwkbqrrkH+nhQ14WVDphWoqrNupCkI5RadjUS90aDgI6Pr+iDo+UeBYtIfYa1VSGkciJ2MHDACrYk0DH7ZxCF2W3HkBAO4fXKPXvvwN2tq7Qr3+gN4/3WNmjYs1WDbFpTAIyGcpGRFk5ePodrmzqRb36P69u/Tuez+j2enPyLNzoiomiyIO8yIsBVYMMiwl9KPypKnoRQhLk63ReXIiu+NQYgRJ0fGu4B2bSw4Zzg8hTTCfmrjNcipeQFvbeyIjQxaleUr5WtwyUEyCbUZJRsPxmAeAsNPjTjGOREev1x3TeHsLdb7k9wYcnu1Cl22dGvHnlAHgcgYHEHgZY/9nADBaxvxdjIpNqyKySiqNQDAyIG2vTzaqhN2AUiskmKlnJVFhh5SVNaXrgiazeVNYksBRhFlSqeBl67XnCAAbNpcHgodx2HkAiPfr/DOrz6501mcV7DpQ6t/zOYUKJrHeZQSA//DvShGIVtVjuUChE0mhByrs5S+RqwnzZnDWint8jyIQf2uPf4vqezSuwO8KsKFFzZX4aKjGR0P/oAAQlfl8HPDoNoBCWVm5XwIukGrRBoCiHXBWkJFmC67gR0MBSBZLJW9uCj+0op+Pjy3vIAOzkup+tLb1mHzCAEVDn9KvnWlT8nZY0spUppoqYFUC4GN23camrAlj4nxMlUiAymdTBIPCMjTuC7KHq4ClYEu+b0/WNZTcZqiVteZTMoik/ay2n+sOOloOzUcNmNTtc861qVpVgXo+Z7z75tzOF4EgzUVbm5mHMoE2RCTkPFxaGwDYFMIYxQLd/nliAgoGiMLw+iZMrhNAfAYAqAATygZoUDd4//4hLx+fnHIuc/s8HL9DpSk0guoBGpQPFkt5Lk7nc1ZAQIMKAhqUELQpsYF/n5+U8G9MOFiue1u8XJaLKrt0k8fm5J9x4VN74s943ZrVnxQAXrTfi3L9Pix/S8FTO8fFrc5CnDKYQmepoDQrOPcPAExno+i8RigIsYh6AIA9l3ZGA3rx+phdCMLAZQcQMIA8Iy4rsrwOAz6wfkWyZBFo6Av2u10Ku30ajXfotS99nXYPrlO3N6RFucc5ZJCh4O7A5JAhvAjmESANBRKYNQNM1YtDBkXT00Mqs1Py/YJsBCXr2ABAdPku5euKO69+T3J80BECACqTB0CFzxhkGgYD12OOcLBx5MAAyzlEJcAkXDkKBk8o8hht7xmRZ5dW8ZL29/d5Zjve2abTkykfd6fXo1UU8X45N7GQ8G6alLS1vcvJXFt7B5yzyCCR9QNF/BkSGZPJCTN9ON8c8gdlRU5hUxpnlMUJg2YUicD71wMTa/I6HX9ArhcSNBxXpU3wY6nsgE6XGWVlSUmW0zKKpWLPcukYQqwmzxHXB9e5XUF7/pn8MAbwPOPMHbkB8Y8Cf3LLH5bK1HCzrqvrtauBlTE8/5vzjKGuO5vNLl1ftgGAGwC4AYBEGwD4vNDIk2/n0nWaT36KH+8avywAqDOzDwyuRlIBM1yddWKQ1By2digCV8ZJ1lxg8fnP3abtcZ/6XY+GIWbWJdl1Tla+NiCpYODidQY8h0K4pcpissqcNcWwj06nR4PhiL7w9V+lmy/eoq2dA7o/95h9QKgT+84z8dmFEwjAEpg6wDCVQFkcvU0pBIVXE7LqBXleSa4FYIXjkdgCnHsAxoqyJt8T8CehHpm9C3g4Ax5gNhQ4LDOwf5I3iOIOFY3GMZQlEq1rrqQNwj75HXEtWUYL2tnZ4W0Px9vsbhF2O6xN1QaA+B6z3/kKBS9bZHk+7RxcZeDnBR0u2uAcwXVK08kpXxd2yzg94fC6VVrkVhat04zyLGNpA8mTxPHAfkUkX9xgyNZwCPsezlJm/XLyKMV/2ZoBIPIFEerH+tMIYWepoAbIUnHm81pm+qY8aQiYgWaL/XtUmkMbHCprcR4wKpuioE+P58LJUWuflxEA/nd/6wVGxv1+l8KOsDpgANdryQl1wf5C8gU2hSZcv0bluZGB2blyg5d3r9+iYHtf1g+kqKCC9mV3wMvWvObnDE0lOjCBUecKDe8hMqD3ps0AIi0C7SFGidM3Hh4+ouWUlgvZz2p2Smkk4eDUMIFFPGNnHzTfOFPg92UhbBtPgNTmzMijIPyrLJikjMj5N24amBSZfkGZKUQjEVbX36kGIvTk+Lq6fiMrgvQN3xTL5KbwBP0cwu5o7WdZj63NeMmBy+80HKze1fhcP8O715ybmRBxfzIQNg4RmiY3w65pMAAAIABJREFU1hR0iAC6bJ+VCgzTGfjiXMJjgGEyz5i6M5a2fb+csYSAOexsGE9MDlXKR3X2EBLX42CG0ORMIwrCt4jVEWRCp8+K452xo17pNPIsui4iI1qENF+uaGWkiBKELQyjmZjUhthIxMyjhOaR7DOK1xSnciFMhg9B9l3nlSyHZa5T80iiFvAcutHnmLfTenY3OoD6FG/+PvEVeFIAeNFgdtGOL2IAFci18x84vAsh2ZYQKLbLoQTNowKLx4yZWBfd2gqpP+jRSzevUOA7ZJUpV97KMtw1EhZvRvi2AItErhGNtsipMrLYggxh4Io7lrDbo9c/92W68dLLtLt/hebrHucfLRZL7jBQdYyO4cUbLxkwUtEaBQumCCM5fYfyDDmDEXlWRJ5TkW3nFAQVWZUAGEQtEOoAs4fBg4swTA4gzlf+7TeFHCJuKh1mZIpG6iKnuipZCocZNohE56jKdViOBtVoCNuiYm6VRBwuw/XF3yyHa4i4esRJwiAWg4YCwDir+NoipLSzd5VSVCqjms6WUCxyAMGKHp884L9H9+5TGicstWVDxmWdc5VllsRcoY3BzA0AEMSqzg1GXNkMAHi8zCktiDIIRlcO5QUEumvKCvEjxf4AABX06SCAc9EO+vyz9zgMYPs5bk802ttv5wS2w7znw0q6fxyj/u7873Ugbv9tg875/PIJQf/nXxAXIdXV5EHVg86hhLmgscnPM7QtTe4SXHTQVHMTy1dfepXCHdEEhP4mGjQ4tQrYnluNDiCq8dEA8FDsxNsyeV4ABO3woy7rwNnOg5P7YzTizA1UDU/8EzqeyUrCzulS/qqmJ+/fknOLVgCFckztMGkzwTV6n/qMaJXxWaga/ZHJPzOgDX2EAkAcsz7nKpoMCSnXhL1h7ahC0AqGkiwl1yCKR4Vw289v+3nU/WgIFMeslb34TgGTngsmYKOhVLqKUoIAHt0++i19F4UdlzWbd6+VP6v3AmHXs/vWWt6WFAFWIVAAaaE/ko2GJg9SNUvxGY55lQhg12NDZqCCb8eAbAmPC+CGpJX+VsGv5p/reULnFA1ap2jICSyMbSF0T3l/WUlRJiA8XUOYW85dxaEj123EvCW1Rb5vcgCN9BR/puMh+8LL71Qvlc+zyD+1RNin9sTlMXj29ssCgFqJ2c6Lwtmo/AsDQ8ilwLM3DKnjBxSGAReHMIjK1pRmMQXREYdir17Zo8CDbExBdpXQznhEYeCINXcNFg7FHhVLkgCIoBgDuUlQ30dBBTyEu50eF0xcvXaT9vav0M7+Po2vfIHu3btHp6dTcv0OxQkU2i3aHokoNLYzOTqmJI4lBJy8LQNBjW2m4Ab5P5ftzEx+mAWxa/GPHfQl7w/nhIEKnwFIaFgZ20JFrmr9WWa2j8IPsG5lnp8lWq8BnioGart71/hcfCTG9zzJcRyPGeiNxmPusHEtcczYL1hBdJg4J+Sv6KBy9doNSte5CEW7voTki4KvB4AxWMC7d+9SGsU8mYcGcJXjnIlzM1E04+E/D6Igcv4nk4T1AbnwIylpmeYUryta5XANyTlHCMyGsI05LbPiIQawnTPzqDfgSRlAlb1oh3KxXc3xVPZVB6ZGqsHsXAfR8wxJm31RQNjOH1TGEN9dxhzADQDcAMANANwAwGdHIU+/hQ0AfPprx2uGYfhIL+CLNvukDGBbuby9TR0czwNADs+y64IUVyA8CxAIuyfM0qCsv4oWDJgQ1hzkp9TrdagbYPZf0dZ4QJ9/7SXK4oiFoe0KOXgWBR7kZSparCIqipwLQQggzbI5PxBhS7Bje3t7dOOFWyIZs71Lw70vEgoXTk5OyXK7POOEJpTvdhiYhp7P2nyr5ZKm01MqVj/hfDyEoPsdOF4kVNcF7e4IWwEAhoRggCkwb64j3sAC/CoRmrZt3o+EjGouAsGx4/MKs3+AWf58RRUYM+TvQTm+sskPOtTpD2h77xp1eihM6VCULPjcFNBoviLOVXIORTga28A+S8tn4WjR+RpSrzug/nBA03nEmodgYVBE8rO3f85MzLu/+AVNT44piWIa9bocmi6heZil1OvLdarhy2yKOOZL0QeEen5qBRQlOa3yiqYRQr9ImhfBaFQmYx2YrSsAbjOBFz2jAJqPah8Wiv2w359/Ri96di/avgLDD3tVLyMA/INX5e1WYXUsIyfMcYUFgcg6z79QdGUokF5H3gMVXcfyjdufpeHVF/hzCLCjsQi7Saynk7JholAQhsbPpmEAlbFSNwj9vmGiTHXsBwohzjGAKuKO9SHkHs+NDpxhAFXUHd+7lhwHco0h8I72ULW3KWZQwXe+Duad1ePDXwjAq7+XVhPz5Ng4V+CYlS3UmCDYc11G1ELdNjTUzDaSGms0D12bkcZHOonRSQj+6vVCf6TPeGNNZoTksa4+55yD3RMGkN0szL05qwI+s3VT8Xn8tgkVI7fZhMp1HVVE4GsLRQMTTi6GUmULhqzN+GoYv9OV41DReiwvY9FwRVN2EwVL8DSX8zjrJ5CrzPcors8YQhNyh8C9huFns0VTlIO+Cu3e/UNam+IPTGzRIH6PPo7PNyuawhFVtFqSaKfqc6PMoDKAuJdqgKlHCXZU11HBfKyfl8WnFgd9ak/cvNfP/OeTAgC1Y9EHnKtljeMHxKARZkXYty2PAOHV6z10wBWNBiHt7W/T1mjIuTsv3rzBuoEldN+MhyIAVhQtqa5F7w62aigGAZuI7aJDAyh74403aGd7j8Ogw/0vsXMHaP/aDkXHLknpYPeayLdAHiFLWP8PIsir2Z+JzAyV1IU+a40cw4pcB/64MgjgZQdQg86eVhNi36gYlLxC2LJ5TUUpLI2UMV2XYpOHf2dpzGMHM6J5SQ5Y0u6Q+oMhDbcPyHGlA42zSPT/bJsZuTzNuGMEIyjAU6qIOY/PsmiWSB4iZHggoA2ZiW6/R8tVyrmA6OjTdUXvvvceA8wf/+gvWBcwW60o9GwO/6bxivMbsX4PTGQoYrXo1CYz5MSsufJ3WdgUrWvuMB/MYkpy0QcsTOeI44hSCQW3KxW5sz5XnKEvwwYAPnO38Fgb2ADADQDcAMANAHyszuJj+tEGAD7jhf24AaAq4p8/zHa+TJs50dms5sVAyETdQAC4uh2EXSU8B3/fq72KHNemXtenDocpiWYnRzQ5PaFO6NPV/QPqd3vMIMJD0rEknwy5LShU6HdF9JergcG8FQUNuh26ceMGHRwc0E9/nlGnN2C7Ay8cUG+0TS6Hah3aGg24evj03ru0nM8oTxI6OfoTSTSuaxqNQpGO8ZCrkrMkSo5kaLIYaGL2CwCoLh4AU5hJY30saw6cMhucGxSI/iB+wzIrhnkAAOz1x+R1OuSHfRrvHLAeIMKhyMvS4hJUUeOeMADOtJq2pPFo1MyS55mElbu4XkY+AsfjhT0Oz66LmpI1tL9izkX613/6r+n05JiqIqWT+3eY+Qt9l25cvyI2ea7D7GJmCjnI7nOYeQWx6FnCoA9SMMeLlMPNqI5G3iGi2Qx8W2AY56th1POh2OcNAHVSottt56a2n9nzDOH5Z/2inMH2NpbLy2cF91/9jTGTE+qsg2UX+ai+cBZw2eH7hfzdXNgQy0haqOsOPrt++zXavfkKf88ewMitsxxKzDrrezJhQdMcQDyXDQPYM7Ig1hmr0s73U/9VSEc1UirGuad9r9TFB5/ByWc1FSeQdWTkYIyrj5yHMICjvs8OP2jMxOcm2ctIsqjjD75H0RdSTvg6GYYQkQ5VPqnV39e4Aenzp44nmgMIWcHCMHx4H7EPNJVQ4cmS8SLWZ4+jKYbR0v5Dj1n/tpnqhmkylNSjqu45hcX4B4PVUzaxKTbhiazxYW7tHw5E2pp8P+MZjL74UUVWpfFYZu1Uo3GK+2rqXqiHPpoZaHEtQkNai+bxaV8BcX3PaBdi4oumAu78/FVe4+LS5EeWecNagglE3jMa3I74+Sig6CB8nbJ+SDXCJFm+rxtvcy3eWOQY2QwDaFyR+BkxFGHOVpnyvVGd4f4Q0Sh5lsQxibefmwTE5qp+ehY2APAZ7/UvCwDqYZ8fPBUACjsPoyMo2VXkm0KJKk8ZTKBwA7ZLN8Y29Xtd2toa8O8APu7eeYd6YUiB79Lezi4FrjhswCZq1EMFrohIA6SBBYOBPESNPVMosk5iOtjbpytXD+jBzOfCELB169plaRgAQnQ4HYg4OzWtTo4oTyD2nNLpvR9SVYvt2tYAtnGoMLUoSSIBbqj4cx3ZJtwm5ifccaIjRPiCNe5KMIGt3EBbQikcpjXyMLg+up5oB1Z07eYtChikBeR2etyBgD30u5LgDL0xSOCgMAPnHK8WnFyPoo6rV67wb3AcAIDYNsJTnMsHp5WgS+PdfULfmtcWrZKSK3XBjv7oh3/OVcG4Hm/+5Q84ND0admlvZ8zhGk5kZ91DyXWMYoeiNcRVU3rveEGrNKekIILgs4R/YROHhGn5vdootQuGPuyxf14M4EXP6JOGgP+6AsD/5tvXGh1A29EM/5wcV5Y7vnTPASrBzWBWmoESrjvjvWv8/c71l+jK7dd4eXz9Rf6buj7NTbVlfl8kltC0ChjvgwLATt9YbtmS5oH2kBC0qQL+KAAYL+b04Oh9Xv/w/V9QNHvAy2UmSf9luqAqlWWIu6NBxskmCQVyOoUJg6rWHfoNLULBc+01Sfwa2KvIacKgBjAj7GmAIgZ8BURa+IHirLUBmohI1I2+n6nERsGFuV7av7Yrf/GZXietpNdJKM4D17oBTC1haw2j6vOPyZ0CQC0iw/qO6i5Cx9UUV2hhG77X7VRcfX+mCcjrtkC6pozg82psLPbwXBm7Nc5TNgm/CgC5DzXFNHAuaqqYTToCp9uY8LqGogEEm/A3BZxmJM+aADxEkjQMj1QhRHrQ4C2OVkPWS8O5lfS1CAmjn+Rjrx2qTChbdfwKr0+1CRtzrrMB/9lawCsmEvosQYYLbRUn3Dfy9zwWyGRjuUo/tTjoU3vi0gs9e/u4AeBFOYCPYk24Y0KBBErgbRRSyIOPyuCAw60OrbOIsmxNvmvRzZs36cUdj3MBkUozmT7g8OvV/W22e2P4UtesSwfGr8gK2h3KwIEXOkQHNhgwwJk8OOJQMMCLVRQ03hrReDAkf3iDYWi3N6Cktsnzu9QbiksJgGIczalnoxq3pmgxpWR+h4EOchf7XZ/3j5AzFOixH/QJmNHBPQS5S+U6YuZAZs/SeagkjHa0bQYwRagX2ymrJmdP5WOu3rhFg9GYnKBLfmdIaZbTKknI9UoeEHF912nCA0on8NnVA7NZhMX3dnf5cxTanKwSBoWB60lhBzyBOx3av3qTJQ2q2qZFKgUnkG356U/eZGmYQTegn/74+zSbHjP43t/dagS9kS+jAPD+ccJOH1Ga093TFc2iNUUZUW47XE2XY5ZrSZibr4EZJBQAXhT61bfheQHAi1jqiz5/2hxD7txXq0vXl20A4AYAbgDgBgA+Owp5+i1cuk7z6U/141nz4waAAEKPaucBYBNeM8btAB4IA+NzAMBosUDJLgWeQ8N+l0Hfy7deomT6Lg26PdraHjKDB3of9aZvv/0W26QNe0Ou8o3jlMHE3/z6q3Tt2jUGNH/8x/8fV6/iEOGMC1CF/UIbEHz7cNinb/zGv0vvv3+fNfEqJ2AzcFTBHh4eMuMV+DZ1rZwt6FD8kC0mDOiwr0EHs3+bfMflSljkFCIXbhEnHP4FCC0y8ShmZiyCJIssI8Tc6AOWJhRqWRSlay5qUfYP2+x2+8wyADwjcR52d4PtA3KDgH83X54yEwffZLCAsJ5CfuVw0GPJlpOTBzSfzajTCfm6ThNoHeKcfHJqKT4BI3njxVfoZLIg2wtotbbYog+5kWARAdYnpw+o61YMiuGG0gncBnhC249DUzUKcSwOJSOkTJ0xLdOSVumafvLOXZqvElpCUiLLG0kVgMfzSewfBgKfJwDEs/usRSCPAwwvIwD8B9/YlRCw8dbGcg3Rc0tYDPhs81/HIc/0A7YRNVffbXzf27nSMIDw4EaDD/fpXGyzrNMzPTplAHH/lQHUv0h5wDOG1mYANUTaLgLh58kci/ZP6uONf8PLW4tA6lyOQ329sVjlwhK5TsUe32gsxm6y+TnFA+duPL/5e7zXhs3R44Smp2ccJzg9w+jTqS2cMkP4HOFLNHh5I5WEDwnnq9fWTJTYL6LlGa7n134Odf/KALZ1/vA+6/d6bXHtzodT0YdqDmCWrrnf4+Nr6QDqPtV/XI8Ff9WLHMvtIhAtDFFvcnyfGZYX21MGkHOozaS5zQDCtxwN7kd6zPAw52vo+1yghgb3EjT1NMdyPJW86nZjzVgTmoUlaJOOgDwYPCuHR2QZqS72PuebGFBlnq+8sjhagqaFOnEpOd5onMNtnhs99sjYYeL7tdl3ZzBstBTVMx3fH59cPhH5h6/w0/9rAwCf/trxmhcBwIsGrUavyWgTXfS7s8PSWqaHD1RZlHZeFT7TAgf2y4BtLki8PGXfW9inbfcs2t/dob2tIY2GA1oXCY2GQ6lwrUp+qWHQjqpf33WYiZIX36WdrS169bO3JeyJ/L8goOlkQnffu0PrxVIAYF1RP+hQr9tlz9y92zdZ4y70A0pmM5pBkLbIaTY9YVunTten/nZIloPzrCispIoR54JqPQ49ex47ayBMAtYfVbVYRigEWlQ4ZnSe6FA176PX7fNvJVwDLalMOjMnYDshiDJ3OwMuyugNhjToDynsjmmdFxSnGWVpyaFqbDMqMv4cIBFuJ3VR86DdgQ5OBYmakn72kx9SvJrT/v4u9Y0zyDpLqOvDocTnTn20s0e247F8C/QUF8uIjicTKuKakrKiyg/pj/7Vn9F41KfJ8T0aOxn1fJcCAHM7oLK2uaOLkwVX+8KDxR7skO31uLr5rfcOaRVltIwTOj2ZUMahaKLEl6rEi+RXHvcV+Ohn9fG2dNHk5XFCvQ8NLC2l1yiKLl1f9l9/5yqPYOqtjeUOfLK7ovUHn21+F+C6Y6qAVV5IfbfxPWwXR7uSggAPbjT4cMPSEO3Nn5+J+2IARkP6BiYoaChs4r8IH5q8w24YfkBPFPdNi5G0khTrKXDplDP28UaDl/fk+A4vlybcq77efM6FAEBUAGs1qfh8q6etnLt6fst9tynAO9cSIW5r66mvrYIvXp8VEcz5KQCEIL0RHhb5qIct3vCZkaZmJp+Pdy2OR7xvuPNoSNKEHjFRhJQV75Pz9Yx4tqmgdl2PpavaDROtpuI3DBqxbniOo6HfANOPpv7jWFYBb5t1VeVIIfuEBnAFAXs09SbHcmjCvoiGwKeczwlJP+Y8dH31Lef1o4hKDc2a64DrURbGxi+TZ0k9zbEcBIhAyauouorsca6ThbJmr3M0uCChwfNcG3p9NPifA9yj5SUm1MZ/2KQowJEKW+VmfNF52ZVzX9cojpOxE/2t/K0ohmgqey+LZzrancnlix40F+wZFy5dp/mM5/vcV/+kAUB0eJzkj9w/KMfXFXkWZs6QbCG6eXWbruzv0fawRxZYO3hIeB4tl7BqswRU2TV77g77PdoaD5kFO9jb4XCv5UroFK8eHAoA6E7uH7FUBULA1TqjwHYZAEInj4YBv+CdMKQqziharZgtBMj0PIvCjkedoU8W5z1V5K7FH5jPwxNnAgw2CCGzhIklOSw4TvwXJSsJR5sBCzNFdKrQJMRvAXwAhCDejOOOWX0ejJxP2zv7VFsQMYUwrE9eMOCkaIhVA0ixfmKnQwmuUoHcP596gxFZFVxPAvLdmrUTUan81l9+n6LlnFnPrt/hwQK2b6Hv8X8MZDs9HgTQIaFoYzZfcgg59IZUWB7N1zn9X//8n1ESLymaTem1ayPa3xpQL/DJtjyWqYG8Tafrsd4fQsCTrKYcvpiOR9MYln8lxdmaphNJ4MY1mtMZAGwzfx8VCj7/smwA4PPtPjYAcAMANwBwAwCfb6/yZFvbAMAnu14f+HWn03mkaNrjMoA8gTnvWfPQXi5mAPGzRjGfc+WkWhVgox96DPCQDF0XGTOA436HPvvKS1xhCs2s2XTCYIKrd9cZF3SEgU/dEEbxIQWez0ByMOjRoGeKLtIpMwcAjRBwXsznVEL/Li+5kjdZrsitIdDc5QrindvXudoWecOL0zmlXDwC+YdS8hQh4+VWVFuYD5fUd6TSkKsQPWHOmNWsMZN32MIJAFDz2YZjYQNRXcZevdtbvC6b3juwRXJ4lsw+vPDJTWsGf71en8WqucoQksss8dInC/mBtUWL5YqlYZhVHW5RkkiVXlHZ/BcV1C/euEbDvk+r2YR+8fMfs3YiNBE9tydhPQDRALmXokeICl1mAZCrV9t8zKezOa1WPr17+ID+5Ac/pLgiyrOYXr19k24f9GgQehySr0qo2NssgZOsIkqLgiuBD+cpg0loAi4BBuEkUlsMesF6gp2JKskH1JxAZQJ/WQDw/DPfhLmaRO+HX7OL36Wz7iuO40vXl/23//5nGgawMhWVmE+EnjBSvkm2R+GRVlwqqwIGcP9AikB2r1wntYUDG4jW6w+4+hvt7oNxE65TJw3ce9bQM+w+/oZccGTYMOuMndLrz1X0KExgxgmqACakqlpzs7ucuoD27ns/o/nkHi/XtSkGsHOiSpbLUlgg7A6VvGgsXWWOWfN5EbWAcDyvg2fYuIa0tfL0mLQgQoq6hOnBX1hUounxYl1lAPV3+L6t7aecVFtb0Bwmv89qy1GZgglsR6+TVPzKMSsL2+32KAhNtbW5XijPWyUmFA4nI8NKQnOU70sYNM4WOGZoh6KdhezdJkQLr3E05GorAwgLNr1OXbUFJIf7SL42YOVM+Ns3OoDIr4YDEpqk4ggjpywvcpXPM4DL2Zz9zOW+4h6bSlsTlj3PAEZLeQawHhqKRpp33NgfklVSZdhAHAPywHn7hoW1nbBhi21USrtGJssWVhsMIPpFNOM4R+T63H/LZ+iP5Rn5F9//8aXrO/jAn0P71J74c7h2vIlnBYAfzao8XggYx4IOTF0ZRr2QwRyqfdMFQJvFGn83DnZYviSJVmyFduMFGTAAALe2tqgTBpwnOOhJRS3Yrdc+8xlmkqBHN1udcHEDBpB7795h315o+Xl1TcvJjBk+LIM5O9jdo/HNfe6kXMuhbJWy5iCqibNEBgC82AWlAgDrirY6kD4w+Xt+0PiPQvgZHbgXBuTYsn9cu1W85N+wvEEQsHhzvi44FFJDJgb7ZQmVNXewFvm8DRwfwsrIzdPQDEKsAISOh+1bBEuoNXLvwgHFGaqLMQBBnLqiQa9DL1zbp27o0nJ2TPfe/Skh5ItQhecNuTIRAxOYVjCBuJY6wCAMjM4fgtYAgT+/k9G794/oL956mzrbO7RYTOjm9X366meuk2eXuDkcTknSNf+XJRCSTln+ZZYSrbKSl5c55A0ktMOSB6ZqeG2ulwLA8xIVj/sufPSz+rhbkt+dDwU/Swh4AwDFF3gDAOW53wBAog0A3ADAj+qRNwDwo67QR3zf7XafigF81AD46F19OAPYHpSVFQML1e+ENB50Oa9nHc2ZTRj0ezQI4AayYECHHMBr13clTy4v2JN00OvTaNDjgpDlCutZ9PLLL9NyuaBOEFJmcndQzj958IDZPOQL1lnWAEArzzmcjLyVwdURs1EoZikzCDo75GO2Bp9hMJZ1wfkeoAhxHANfGEzWszI6elzMYSppAd6y9My+Dbl8CNXi99CtwuQTywCDMHfHQIBzRe6chLclrNvvD2kwHvF2NYkYc138G1IIQafDDCDWmVYOy2dgGbmBGGAAAF975SUKEBJPVnT/vTdptZyx7I7X3ScwA0hO39/dZrYVzIsytDhPHA/AH/Ip//ynEb1z/z69/2BKg4MDKss19TsO/coXXqLQge0eXEZymsyRQ7mgNMposYo5lJzZIXtlQgh6khSESS2kDiojH8GBdQMA9fnQ5+wiHcCLHvnnBQAvqgJ+FgCYJMml68v+x++9IWJN8Gw2OVasp2lYFy1kgCe35kOpJl9/OKYdk++3c3CNdq8IGzjeucp/A2aRhO1YFtdpYdiWxVJYF5ZKUv9Ww+rB+afxebUeZsywDjPghlnDvTqvN1evTujk+D5v//D+u7RciBOIZQlzFbgl2Sa7riwlf8yxUZVv5G5QaW8YQGXQCn4HjR5cDnZdns52oYQye1o4guf6TPcwbTTu9Nxw3KXJC2uLo7cLOxIVUm9pCzLzh2PGH82NMwUTGnnB9+p3zsdpcgDhCNTviRuHSnXhPViaQgqeVA6EedPrCpcSlU+BK4fKnvQGku8HjUAtxIAwPt/r5ZL7QzRMWtUH3TMe0niHx0YrsrRscgxzFvRkm+uyYnaX7zdkr8x5KgOdoy81z2pqfIIX0wnN5qLtB7muBnwbRhM5005tfKPLmuKVkSQycjGrxbKRltFgmLFkN8+PSIGhGeUXCjvDhl31QBQYbcPSMIAo5kNaDZo64pzOIvZn53Mjm/Oo0f7Pf/b/Xrq+Q96CZ2+f2hN/9ksnW3haAHie/bj4eB6PAdTBne3OypxDrIOOT9vDPt3YH7MWE4pB5tMJVcxSeWzb1g1t7nj293Y5BIyKPACWolwzU3ftyj7du3uXE48BWMY7XVoD7C2X5FvIExxwTt97P3uHIAQLlwxUxgJkIqn7+ivXOXzguQFZtcMCzViGCKiGF1B5jCITzuWzF5L/B1bPFjNzMIKeHzKgDLodtnaT5G6HmT10OKy1F3ZY3wvLCPssIljMxXyuCKdwbiGFvB8uenEEKIL1wzb6o22pIiaL4jRlsWn8NuuMuAqacwjjlEMcqKTeGnYZAO6O+/TOmz+kn7/9JlcYD/dekirjuqIrB/tc7Yx2dHiXLfN48KpKvoYYqP7oh6f0k7ffpbi06M50TlevHtDk+JD+s9//O+TbFdUFKnsjttA4t6p+AAAgAElEQVTD+c5OFjSZLmkyXdDRpEDdKGFozWqP1tAuZFZVWMBHhXlVCLod/nqc9+F5AkDs73kygJcRAP4Pv/dFBoAI8aLQg5fzdRNiAxhEQz6pagFoeBDFSKOxJPOD9du/Jgzg7sF16ZcANsyguch3G/FdteSyqrNBVcFMG9RB5xJ5rmgKsADKzkKBZ9qCeC/Q/GzahAKnp4eUJlL96yH0y6FmDLtS1FDXsg4sH89CwGdFIGrpla8hEnymEzgeSahTn5229ZmGgFlP0BRHsOapAZUKrPjdP1fBLMd0VlW6VEFq5FGb784AoORYc2uqklHMIuAC+9TwIlu4caFNl7VL5TpImBIFLwqskK6xv7/PH+u543ddA/ZOT6bNfYAEFq9uO7QyABKRDDRMKFX4Gjp3uq80kfNAQ+SDm+s1YemuAZ/QzNNwMoeADUJAFEPPDWFgtCSWKM5kctIUdCRp1OgU5sbKDdfIUVtCiNbHcu8zqDkgbB0tuN+UczIg27XINgVJLPZtSsX1vtfkkWvO2fVCqk0VcWZuC1JiUGjH19OW53gWJZxHzftGOhD72hP9P3/y/U8tDvrUnnjzNjzjwkeFgNuDpiyb6rZW3p8WPTz6UOSJ1s5J/+ogfp4BBEsFW7aOgyo/m8b9Lt2+sc/5f9Cwi1ZLA5YEUA16HnW6IY2HI2YZWOjYtmg8GtB8PuWwMUALOjVUC6JwECAJeYAQjY7mC2YX3v/Fz6nnw7nDpQfv36U0Bsgk2ruxzWKl6BwH/bHk49Q2A0DJm6lpMOyZ8GjFAFAbArY4P3TcmLUi98XxPVouIskRtG0ab4vAKbaF/BcHbKHjcUeIF5zBJzMLAjC3tw74/LEuJCcA/jBj9oOQRls7/G+wA5CPQMiXq/uCIReAcB7OKmFrPPRNo55LndCm0LVp8uDn9It33qa7771LV1/6LF8HAGuE4bF/5FVOTo4pWokXJhhWAG0MVP/8j+/QW3fu0elqTZkdkOVaLAHye7/zHeqFDqXJkqIsolWMa1ax1MJssaTZfEX3TyJK1zXnuSxyCKjWBGfLEqyfKYL5MDeZRz1zzwvoXcToXfTKfdR+P2zStAGAGwC4AYAbALgBgE8GaDYA8Mmu1wd+/bgA8GxwexgAfjQT+DAA1AM4DxqVAWwDwMCqaNgL6Na1PdKcQISVADpQ/Qo9P/jtCsiCu4WAJNjCgQFAnt72eCxArS4ZKLmhqODXBbQF5xQtlgwCT+7d46IRJLGfHIooNJiD/atjpu0xke4PtmgwGDKbd//+EW8HICEIALpkhjnurhvJEjCAAHpSsbsnxSpU87Y4H9DzWKYAv8H5A+whv45D2pWowWMfYPIAhphJDPq8HoNCGyDSJYQQ8Bsv7PM+oKMHFXxIbnBo2ZKwMTx9MWuFrE1V5DTueWxl1Q0cmj54l3721l/Re+/+nPZvvMLXCtIyvX6XZ7fC+hUGhC/4LwAg7tcf/eCIfnbnkI7mK5rnRszarug/+O3foP3tIeVraCdmtEgiSpM1VWnBEjLLZUx3DudcDZysa1qsUV1csRB0YaF0pObroy4S5x/ei4pAPgqIPe4rswGAH36l/n/23jRWkjTLErpu7m6+r2+NF3vkVllrd1f1NpoW3c2grulpzcA0EgIBEg0SAolfjECoBzT/kBjE3xFCCGkQf+AHagkJkFoIWq3uaU1Vdu2VWRkZ69vf893d3MzN3Bydc79rzzMqozoiI2uk7PBPEXJ/7m7bZ2afne/ce879w3/1bVJOOOMW7gXrBwYfjX6aDDl6YvoYC41iItVoql1Id/eaHNy6w/e3bt/la2drT4olZZqenK+k1+vxPSZG1uz84F5FWy/phfKPxh5ZaJXMvEt4wb2GCRcamGy0VXDOnGC02bQvSWKVIDTZvljExMmVenOl4PxSnky5tdQxZqkzfKNJu3tP4QrUbGthUrJ5bjINhTyaijCuMnOMUVv/zMzh15e3/sDryFmTWOidfeMECDgfVlPdtg1O8UpclcvsqCBe47nEBNSFYU2kAdYOFidoGJPhIWr7j1evWMjCxkhvKVc1zAvmz/rgWQYQDK+xxOgHCwdPA+13CGlaLRWBwJvV2L5aU8PTEMvBGgsN6TXWLDwO9s+ul+lMzzuurQHsvXAcs+kV++pY2NzyyjYnh8m1s1+BlRgaJsS0AFoL7YP9KzgbJDLELk0g6+98TXJOsJRC6OdC+hgL0eCNCqEHj0Ncqb98MROEwIDfGMDv3n/y2uKg1/bAsyv7Fd88LwS8/vD7OMi7MnZe//x5D12qqp5RCuO36+GK9YENgzZyeeoFkOSJ1HxPbu22ta5ouqTQAz5QGCQQphj2jgly9uFfV69LDRU2SkXmuKEVCzlZzFVNhhvx4dP7DPNiwKJBM1YbJwSAMKtFTuB8NOZgCEAZLSYYscgANrs70obQBOHkCWxgAMTykiwiSVxeSTWvZs4YuFrdLSfwWNHYmGarflFazQ6BE7aBdVHptvL0M1jpLhI+6FbwLfPLakfjaf3gPJSOxZICyFJNEKLJeVA752UKYDWaskKHX6xQpIGB7b0Hjxh2hpXNl770Jdnf2aW4I5mPxM/jOFNZhQO5OD+Vy7NTqTTrrLcJAHnt+k2BSg0MKkQ3CHvD923YO5doHvDz3iQnh6cDeXTelx8/upAoWfKh+K/85q/IvTsHglybarMmq4LHcNjg6JD5ifMwlseHPekPApkEoUySnFrMpEtmWqmuemW+wj91pX/eAeD6/ofh56+c0wYAwpx5AwAJnDYAcAMAXxGLfJrFNwDw0/Ta2jI/CwB+MrsHMORmhc+EgT9pV2wG+knf4QGYlfvKTE/zUix40i6JlPI5qZfyctCpSkGWTDTf3t6W3f0DqTdbFBIUciHZrTZngCnz2zC7BfuH3QMYBOADUENO4OXgVO0Blqm0alXxIQBJlnL44IEUkMeRrmQ5D5nYjn0bjacCtwi/XJb29o5U6g0mQWN2CbBahCVNFPC3mORtN5TBA4AuliuZcAJ+MWQLqxWpVuocMPE7GN6iWd6PAUAyojnkFsLSpkrrFYZiAQbzYFQK4uVLsJpmLk4uV5DZHLV/Y1mu8nJ5OZCffPiRPHz4UP75Bx9qZZJGU37hq1+Ta3u7DI3vNH0FgPlUSrm5DPrnMuxdMqSO7WH2f+3mHalU1baGNUKtZuVsTGEIjmM+X8n5eC6PjvvyZ997SGCHues3f+tX5e23bssiCqQMJ/9CXlDkfHpxzPSwRbSUp8c9GY6QIxjL8XBKf0CwgHMPHo/IDcwJbBied/180uefFwbw8w4A//Pfu5cxgMaA5JCe7vLOYNaMBiW/5UgZEwOBgOWUtdrbcs3lAN64c4/LbO/uZ7lgpyNPLi5UkDEeK2uzznxBtICGCZTlxt26cXPNFkWvnwQ+n45OQxqECRDs1QvB/Gt+WLSAaMHlBuYdA5gH4/9xBrBULqhfqXMxcEQO7EvZYH1k+4RJZBIrw7he+eJKqHB1nX+sMoZLu8lq6CLy4HLS1ifq9h7Ljh1LZf29AjNrJsSoXutYODPOLnqwm9J+hJWUsXT0ueKHELUpI2s2K+VSReaxs8VJVhlzZ8eD/bD8S+T+Fp1x93r+Y+BqFhtLC6bQcgDXGUCMaXpe4sxIGhGWjAGsKwMYxrEUfMeY5dbZVbODUQN+NGOALy7PsxzT8XgocyfyQKQEDaxxwaqsoJqRMzVfuuoecKS4EvU4hrcIkZEjSyhW0nshO/YS9tfZA4lOfNECl3c4QzTEEZiR1QyGI4RLhYSva+wYwr/8yaPXFge9tgeud+Wrt1qt9okqYLugfxrsvVwI2IQS6wrO9QefDVDYjg3quF+6FU+a5QIBIN4nqO5RKsn+/j4rXOABgiTa/Z06a/oijAomDuuuVooEcGCqYAkD4IL9AAC86J9oqTX4RWGgQOgViuDjE1YXyCE8vEi4PAaKYDaXalVrAde6XSp7cT+iaLmKMVScgldYp2zVSllt37yvIgwKW1auKsiaDQy+W4l63Jnalx57UFUmK4ZQAP62tna4PZpFV8pkxqCogycUgB8GZwDB8QzSiaKMJ4H8yZ/8mfz4gw/l8PBYBjG8r9Q/8I179+TmwTXZ292RvXZZaiVPmjCzLkKccS6XvXPptGtkHJM0J+2tXam12lIpV+WiP6DdDo4Tvm9hoBVMAKJH85U8ORvJn33vEUEzmMHf+LVflK988S32Pdm/dEkGcDUf0NImDBM5OxvLaDKXWbiUh6c9mkAHeDizkspKw+/RJ16inygQWR9kX/Xu+HmHgNdVzFEUfe7Gsv/s79zlicF9AyslPixxRbtaWgaMUCbQjtWUrLiXcQ+jVarNLLF/70DVwFvbuxmgWJb2WXoRbTjUEHAekx6nAkZlHLRFpNVu0O7evpN52eH+RgPQm88UsCB8B8UnmpULK68uJV25ig3LheSg7ndKX30FwDQA6IQhBVg4KXCjjZV70GfqAwjBMrCGKaaCD2sfn6xcja32uV6DLvHfhRwxZpo6lmklrvzden613TLZNba8UkCDybe82vWwsfUDogom20Hol8dehEWVKm1RpQjNR0pJpP0JYYdtywAcQKR9hvNtoi0LzReKxazv7bzBWN5AI8ZfCwGbSnYehLTB0uZJuaLXEAgBnssozlTItMNyJIX1DcarnwKAFxcZAETEZOZSAqw/AOGL7hzABswAoKF8jTDp7WvH5qOiiBOBUBDorhETpYwnsSyd3yBwHEQfaJGJPBKRAKaGz/gAGlCMABgdiP/ehxsA+LGbavPHi/fA8wCgzUBfFQBCJGFM37qRr62XYMyBP6pdUasxWRD0bTUq0ix54kVj8QuedNotuffGm8zxgNjBL1elWrT8HGX4eE/AigJ5MIMBxQtBMOXAz1w7T7+DCi6Zo2RaKItgJrnFkg+FJIpoBI3bETO8ZRJQgQt7lSXNnbGOvNTayLejBwbLQVXhWeiJlB1WwTGBLcSxY8CBzQHAHGbR8AHEvoA9MxsDDOLIj8IAgc9RBxNsIULeOzt7WQ5grlZmfg5+u0zzskrz9M6Dv9+Dx+fynb/8vnznez+Sk+NLhnCxraRSoAUO+hqCF7ClW92mvH1rj2INAMDdti/z2Vgm46GUiwuyM/lSVUbBQlCDEmF3KKCpolwmDOtCmY0Bejo4k1lSkPnSl0FckZOzHh/Yb966Jvfu3uJMOFxGVPYifC3BBUU000koFxczCeYJZ8DHg6mMglDGUSSDKKSNA2oHpy6v8Nmr+vMeAt4AwA0A3ABAZ6fjgPsGADoguAGALwRiPnez5hc6qn+BP6rX6zqLf0FV7/PCv89jSwpuFs0KDy4hGhE9mKxT1FAsZoxBIe9JKzonONreahMwAfjJKpKdnW3Z7rZld6fNfUWeIMqWlSQgkU7vPQ9VMFKCOuT3IWcQvk+Y+QMEwjqiWe/IbK4hWzgpINdORSFIXldhSMUvEQRixhr0B0xuBtjAzBNF2MMooNXJbDbhst1OkzYY+E3Hcvpy8O2bk0mDRQwsapTJ9xBj0dw9yWuYOHXAL0rol4cakeivg+s3ZXt3T4Zj9dCCf9aNa125vOwDg4nkahJGCJX6spSC/Pl7P5Lv/egD+cH770uSL0pvMJJWpy396ZD5gwgBe8sVQxpQ/v76V9+Rbr0iXjqXd252Zdy/ZDm4fB0KaA33nJ+f02oBQPT6zRsUp6A/oehlgnuSSLwYZnUz836N5zZOVsxJ7HR3ydgSpMLWJSeyyPuSxDgvE3nwkw/U9HqVk95wLsPJQsazhUzmYCEgBMnLWDTsl+MsGT4/OqmA5UJK531XiQXvUT85/XjN0k97O70sA7jOcvNMM3f0xYaozyUD+LfvuOkOWL8rjzmLfK1cLVTUoV251AFjAFHqsFxTv7YqLWFUDY/qNmhbu1cMoN+8J8fHWpWj19NkfTBTxhoFjgFExQ2zSmnWmleVM9y+IaQXOO821L01hmfhkv2Lq6OMVQb7l3OCD/hYcpsSZwxgxg6S5dFu4ETXhfWymulMz3DXgJeXRtV5uznWzibAer3odYvfrxtBmwjEmCtsxwQZGEPXf2vX3crdv9m1D1eAteoiS2cT83GxiRMdJCnziNncPmFCWK8py2bnDfsQOaEM8pTNugZjHRr2zfwMW+129t5EHrgW7BzYuby8vMzOIY43q9ns/P6wPqsnzWsHqSUizKtGQ7Ui5Flz13NXLLFpahYJxlhlhDEJRUN6wbrIyIRGoWOLMbHHs4XnOFlK6vrO7mxY4aC4AJrVpS6iApLzp8TpR9TGrhG8jsbwdtXrKlqkV/V+HSsYRKlMnCAkcCkwad6XIPss5j2A9uRi+GKDTHYx/PV589oe+Gd1Cp8FgJ+c93e1tWe//3io4qf3CkIOKlwdAMS4AnWT3RxUvDnDzqKXk2u+Cyn4RZZz2+q05O6dG1IsFqTVqEin3RAvtyJwhM8XACBCkAyFLGJJoAKD8javIWFU9mAljWhOc2ffrzr7lpxESaQFw50tCpYLJmPmCoHyZ1h2PKG4BL8BAExSDf1sbXUkDAOgDdnudjMACNhEm5Y8wBFuUoQFCrSsAQDEgwFKX5iggp3L5VEuKeUAEQIAxks+CJrdbRZIh6lzvlShKMMr5JmvB29AlH5bLcsyD1MJ5ksZzyL5X//o/6ah6EV/JIcXPUnzOT0+P89jh89go1wlACzmVvJL79yRvXZD6qWcNPOhTAY9KeRXsiprHWHkL0GVR1FLpSbXr19n2A0iFQz26BMwgvNgwN96uTxNS+cRQHIsi9QT5Hc1210p+hUJnB2PV2+wOD1A+eGjj6TfH8pkMpP+KBQMfBB1jiNPkGKDaNW0sHAhK4RSVgJjVgynKGi/AYCf1Ujw8uv5w7/rSsElMdMt0CD6cpFZKWSK2Jhsun6vDz2AAPh4om1v72a5XAYQu91t2XbfL2Q/C61eXqoaGKCv1tCHvqlnkR/WaChIieZX4UNYPvHhC4W5M/+dTiCQ0nVNRxpWLuePtBSY8/crm2LXpcGlKVJJ9DgszN3pqvkxtxlFnBihQeTE3xVgo+RClqiuk9PlDdhg/DRvQgONuPds8kHzd8eO2ViLewARAt3OVW7feg5g7PrezoEuo8CHyzjwYdvGvptaGfthxsyIYqDBlxHejWioVqTHUJGzCwXmGCMN2D0bPcL3OA4De/Bk5TqrOhajcSx9Bvxin+yYy3U91xjPQnetqWG++geaYrxWbUi9aaXgljKF76krS6fbiZhbjWbg9P5HD7PQLYAgrg20waXmnSJ6hGgH97lckaKptt2zACVELVRdqyurvX4Ol6vlVe6pQ/NRrBEgHlOUZCHglQPc0Qql8/RanLpzjb8tHRrPCUSC0D46vnhtcdBre+A8859BazabWYLVi6h6n2UK7aZ9HlviuZsEKQvGAKLCBXPJUDINNxbq6qZL+r5ulWKCpXfevsdk34pflHrdl06zIUhY9nIJQ70AVWDdmhWEQVMOLmS2yiXZ39ujsed0PGKtX+wzQtEAQWAJMFgh1Hx2cSGLWG/C/f1d6bbaEown8uMffJ9sIe0C1gZYbBMDVq1WEZg/cybuF6Tb7TB3iEAyVlNnWgDgn+cSvjnmKCPkl6pq7gxbhYLmxqTpinmCMHeu1RqytXeNDw8M/qi6gccJ+hhqXnj6YfDt9ebSH8zk/kdP5Ps/ui+XY1itzCVGvd9CkewfysGdDno0gIba+c7BAZXPi9lEvvkbvyxffOOmjC6PJRmdSO/iROCKf/uL19n3aj2jJtMo3Uaz6mpFyqUq+4/ANU3JiGIwixYJk5QxMOFYRrOIOX/Im7x1+w3xYVrteRKkORWPBFOplFRhPBqO5eikJ73BlP/Pe4Es4hXzZGYFVY2DJQQgNCsRtVFQ9o8CIL4iP3LDAH4GQ8NfuYoNAIQp8QYA4kLZAEAFohsA+FcOG5/pDzYA8BW7EwDwZVS9CqZ+WgX8PACYBzByVR2YJO3ChgB9hETLSMuP5T2pVcvy5bduUKHW7tSlVW9IvVERuOdjxo1k81UacvYMqj0OQ6mXPIZ5OQhVqgSAAITwuwumE4aDAVwoRkEt3NTjYFXwfeapwccK33/x3XeliVrBg4F871vvMSQcQQ0M+xNXGxggA2WEkOQMAAhwVyr50mo3sjrGpRQKYBf+K6A8HEKVQIEKACFNLgEAFtSjL1csa43eFYrXqzs8EpprjTb/Zu4hQqpxIgnC25GuO5/35ehpn2Dpx+/fl29/54dSauzIWW8oze0tqXS25A/+g39fvvXee/K//dEfSTCdSbII5e61A6o0o+lQfusbX5G7N3ekd/RI0uCCamawsQdvXykwAfQQDgLABrBD32PmjtALQti4FhBOixbwBExY0s2qePRGEzI1APzbe/vSbLRZ6N0r1QR+XFGImbWnLOJ8LpPpQnr9kVxcDuXR00uZzkOKRcZIJkcIGYpgCHWk6NhUXIfPAkBhXuRn0TYh4J/di//o97+olUBWWsMbDUp9Y5esOggmUhZ2wz2OhkmFMWNgAq9d0xJwW11lBTEBgfCJ7ztfghkQ34MtRpvNI6m6kKQTQ3KSYuKIrc52FmXIBCrIKY11rJhPxnJ2dsb3lxfnfC0Xn2ZMJiRIvptHOLs21hXPc5KBiZEbA3FVusuN+b7If1jzgwOTVnQsFT7POWWx9Wwm/iL7pSuiuwBc6F0zBtDCtXj9pFJw6+Ny5PbD2DgKzRwDyHrrbtpveahgLI0JQIi1XFVVbb2hr/jbRDt5F+5knvVUz4d5k64fOybBtn0IcYxxs/sKE33bZ6sogu8s1I2x276PnBeeCvp0T9XbVBk3iyjB69TCwhSaOcWueQOSPXQsm6meHz95wgk12v379znuo40nemwRDPpdh6E8prHZYaA+kvBULVeUZbZyeKg7b6zkOmliOu8gWGX7FqA+ulP3Jm7smmPiu3DKYNTHxP5MQwndeUXtdBADaE/Oe68tDnptDzwbHV7xTavV+lgO4GcdAjagx/qujjHiAIRMt1UqJS+VShkMX1Nu3bwuu121TimXC9KoVRkGblTBNukyyAfEAFnxfTJPPj9b0SuvRtuVVE6Oj1npAz51+A6DEEI7VG+tiswRyec9uez3VMXqF+RXf+VXGLI6PzuRD3/4Y/4W8v4Fck7yyDdsUjUIIFmtoWKIJ3lflbn1RpX7TLNVF/oBMEGKhoE/Dui0h8EyCOcqu5fLK5PGQcxXZq3WQLiloWGkXI5hVLJwyEnJQ3kXyyJK5fAIFiqBfPTgUL73/Q/krS//orz3gx8h7iTBKpXf+ebvyne+/z354OFDKnaRQXe90xZJFpLMx/KF69vyxTdvSclL5OzB92URTBna3r7bVcEKcli8goZ6l4lAbUlrh0qVAy+uFRxfjIGK+ZcrmQSRBLEyf7liSW1dUNFkiaolBbKXtfY2H6Alv8CqLQj/ACAgdBzMFjIaz+TBwxPpDYZkLnvLIsGvsX9QKFpNzIz9yxhAFcR8Fm0DAH92L24AIPICNwBwAwA3APCzGG8/zTo2APDT9NraMu12++cKADPfrTXwJ0kkmEm1GjX56jv3pN2sS7VUpGVLq1sj8AAwAEsERXAJnkp5MGlaexP5GFCWYqbWqJSliZJl5TKreoThXBr1usynM872Ad7QsC4k8JYqTc5E6bu3AOiYk234pV/4moyGQzl8/ESC4ZAJ01hHNIMPYEma9bocPn3InMSd7Y5MJiNuE/kwlXqNJdwQMl1OVGACMFQoeeL7mgw8DSYEP/T1q7f4ngCjqIAX78leeOqdtcqpBUy93pTJNGC1AgDGTveeHJ+eSO9yKBMkEi/zLKl2dNqXxyc9yflFGc8XcgnwisoinifD+Vzyq5T93ABzEc0E4px/6evvyv5WQ8LxhfSPPpJFNJNWsyHt2zvS7XYp/ADToqFuX07PL1QMUywyn8/MrJH2RKsbWcl8kUpMD0N6Q0i5VpdGqyM3794laASr88d//KcSLyDs2ZJGsyLz2UxDyWHIHB3M8nvnAwlmWr/4w4HmVC3ihLPe0IWDzVKB4V/mbWko2OplvuKtkeVhveh6XjcRyD/+d7+RpY9kNXZRpccJPgxAozwj8nHRjBECu2PLgDW5efMmv79165YyKc57kszHYjdjxALHzoABabqKEMWS5qRFVO3rLnVa3YyVqRQsBzCWyNV/nY4HMji/5G9HYxWWpMmHTE3h+1VCI3iCG8cEctxB/gQ+c4mOcRJxkobGPDtn94E8XzTagjgBAa7xiq+/tWNfr2dtqQ1Yj/UTowSOGTSWlRPpq9K42eVpzBg9SV2d2SuGLcmYLdRJNxuYTGASw6he+w6iL0Qg0MxepVxvSKmsuXuYvKJh3Utni4OJsY315vmIYzdmjix/qLY7VkMXk2r7Pqurjlrmjk22nEEsM3ETa3o9uv7GNWK5d/YZjPPh2YqWJGA1zZdPGb4IVaEcAzh37OD5RS9bz49//EHmDzkeuuogYPpcXet0uVBigVZCqmDutK8ER1VX7QRjuNkU8bow/0n3CgZw4fIwwQAGCz2hc+f9N4+X4oqfZBVBphHqSusPkDdoNabPx7PXFge9tgee3fWv+KbT6TAEvJ5gvD4APbv6l1UBY4BTH6SVy3VLxfdWBIDNaokWJFU/Lzvdlhzs70mrW9ewImxGCp6Uy77kVgtp1KsEdGkSSc6D7xhMlKus3wsxgIoDlrJcQlSSUsiB3+ACUe8nzYFbJGpdAkHFyekpB9rdvR3ptjsyGvaZOxhNZhwsSfEnMVXAU1TmWIXSqteoYI2TOVnBeqNBPywPQBPGpMucxKlW/UCkBEwjgJGxZchbq5RRzq3EZaDwYngzTaluM9CHsBFVhamQQTNT1eMT53m2WEq/H8hsviRjNpks5Fs/+EDq3Q5DsE9hnOvlZIzayaUy8/46jYaEg3Mpy1J22nX5xRGQOEQAACAASURBVLcO5OZ+V4YofD86kfGoL816TW586Q0yqhjEMNiz/5JYZrN59kCDXQPOLfYLFbVQogms3MnFhYRxwuUuxlPJFQr0eNu/dYtJ/3t7e/LRh4dyfHLIc/LmW3dpoA0299GDBxrezuXk0cPHUkO1l/lCHo99hpLhEYgBfBanEALrOeeT1z0N+Yre/mxyAJ93a70sM/i89ayHhj6PKuD/5t/5Orvf6ljjfRgEGXipu4chQAx8NQkeXKCRoi33Ge6VdkMFBjduaE1gXCdlX8UT3/1gTCW5rkAndMgNtTBlraUK4gLyZZ16FaUgOy1dpg4jdexnOJdRX8O9SNyPnQmxCT8Gl+9loWykm8BEHq1UdqHZvCe+Q4MwlufxIpHfhYXhEIB0B7Sc80VkmBvJzRb29syQ2HkMrpklm98fgI+BPQAkCwEbWOR3zjdu/Vo0AIbvS06wYdcYWXxXMs/AJ/vRgS1MsDAp1eOtStGFVv2ynheogMsVfW8AEBMwv6THZl6meG9A1Kov6Q80QoJmgLtaKmciEAOAmLwb+LVQMPt5zQvR1o/lLVRux67jpII9mucbEHaK2QUmCA5Qz13cdQKLMBdyPz0+vVKcOxFImoQZ6JsMe5lZeNnlCOzubmfXhfkA4vlyFV6PWdZzvb+LxXZWqg7gbzrX1ISJe51GS8Ekh8e+1D4eB5HQ/8+pnQ0A9oPPn4eonqBXbxsA+Ip9+CoAcP0Btj4QrX9u9TkNABIYwbQEg6m3YggYQHBvu8MKFfPFlMBqq9Oh6AOh1tUKwgePuRbLOCQwRGj41u0bEgchAR8alL+YHOLBglkmDGjxnQFAgEKEUM2ceTQZEnBgexjYp6gLPBlJSOZvTiYKzBnsZhBCLawWUi7BXgaijQXzPWrNhvi1Jt3nc4WilBIdVJnTggcDKlqsUs50EXr2UcatUqWtC2bcixXC0/AAXEm73SUbqTU2tc4whR/wK4RKL06lUNwmIwDQOBwhXBrI2cVALntj+e4H92WerGQMSq5cIh/W7nZkMptKuVggLJqcP5VrUFbf2Jc7u3XZaZVlOu7JpHdEdhU1VLtv3GSf0GKCVIMzqM1rzWLsb68/1NJ2eVQQ8PjgQ33Kh0dHVK8BhM4WiSxzHnOgKs22sorbW7LT3pde70Lguo8kesyawa48fPAT5o+BLXry6DFFPVD99dItGryGcL9PUpnCjZ9WM1Zu4QoAYhls8+fZNgBQe3cDADcAcAMARTYA8Oc52v7sdW8A4Cv2fbfb/SkfwJdhAD/JFmb9M/O5MgCoti8Jy7whsbbiLRma3O60ZKtVl2LZY7m3/d1dQXgliUIB7R7MRoKycggHNxs16XRatF8BHY+QAcKLyAEE4wYhB/P9kPSNiiCs6hGy4odfaXPWCEAGVgszTwDCYD4T+IQtIB4Zj/geM2Z4miHcA1BSLaIEE/zo4Ae2pC8fyiJVWi3aJqDyR3GhCfEAgNTuOmUqTJ0BlgAAC8WKmzGnEgMOw5vP88h6gAEEwJtHiwxsQVyB77HfzfpNii3gYXV6OpTZPCEIHE0CuRjN5fD8XBbpSmrbW/LeX/4lQSfD0bKSciEn19o12W83ZLtVkzeut0SW6JeZjC4PWR4OzEb1+jVVATuwB2aSoSivQDCN/xe9S+YiouWLsN7IyWQ2l6dnF8z7QxJ6bxLwlUnOK1VfV2t1KeZgfYMQRii7u1ty7QAMbBMUjSyiuUxGYzl5+liC6ZTilaeTmqCUFADgYpmTGUJgUASDTVqBU9KkditBtgGArzgovODi//W/9QscO3CPW7gOjFgFtRMx+XB+cGDjcP+hZZ57uKccKzIHS+1SNfZ2dvm7/Wt7vF7QHhyqMTmaCSoQ5rfzDIsSNLCEsCNCw0Sm4hg8pI+ggfGLZmr5Es9nErt9svD06PL9rBII9qfiSp8Z0wP7KXhP8pp3IhCUE8tYtlWahYCNUcJ+ZyxVTiQYatjZ2Dzc1xbGtImWWSzxeJ8TArbyclh+neWzdS8t9GledJgYrVUMsUmMfZYkKauvoJWqtSzcC5sqNA9WW44hNPsRVF4pVn5aEIh8bTaXCoO3mMDjOkCz0nu51ZI+rDwfTqDSajYzOxlu1zGpsQupW/oO97OA+u7KxFrYmE4FLiWAucqueomLnNKOzBjAaaCsG1IHTGQEO6pHDz7i54O+2gThOgqmI74/fPKQ7gVoraYyy+1mg+Mm98ld+xra1msR3oPr4XvdZjGz8pkt4H3qhCeBRniGs0imzvPPwsKJ5MVFiinIM9ueDQOol9umfYoeAABcDwHzZkIOibuxnlX9Ps8G5nmbNnbLBCB4xcALEFEp5mW3U5cyfOZKRdnttmRvS0PAAAioywmBQBIFUvQ92el25N0vvCm1epWMFgaD7a0WQ8AM666Q6xfJ5cUFASDG6BJycDjgLggA54s82UPYmQRcP248VJtIqBhGPtoM7FaCHCD187s8O2e1jzdv7MoqiSReBGQCS2Xkm1SkUG9IsVKlYtcHJnKKsdVKc/CgAMbDDGMP8nxgUMpavoW8JF5ZbWPAEHrqZ4hBH75q8NXD5/aAYC6epwIN+Ag+eXIh/eFExhP45y1lslhKbzSWnWsHMl0u5Hs/+gF9/Mqw0imXxFslsteoyE67Js1KSTpVkeOjJ8xxwrMSuSzDYV9Ku9eddU5OGq0mGUmck/5wzD5HaGYwHGUPsfbWAUOy+P5iOKWp6SyK5fB8JKPZXIJ5LKtihQMWmMxSrkBRDwBgLrcUD/mdksjv/e6/LDudFtXIF8dPZD6ZEqD/5DiV0XQmI5j3xqlE+bykOc/VwvQEDxIDgHhN3EPjU9wOL7TIhgHUbvoHv3OTyMpslfAe16gBQFNE4vpeuHJs07EqKzG5sgfpYh5IyXn1tTvq49duIK/K1XQt7dEcHQ0lGdGgng/MD87XB3EN5cBcflilXBasFw2TRx0EFlLz9UFd8FYyc7l/SPtAK3qT7EGdz3liwC+r6crcU5dv6u7x9bGSJucu/9HyzFAiLctTw/0eGODRydN6DqABBny+ngNoEy0LffL41VbgY0bj6/nWC5fPZ+uBB+J6CNnGccsBxHeNpuX9daTRcmbODkwVikib0bEUKSloUyhyPQUssOYyoHuVdwi/QQ39YxwzQG37CZU4UknQYArP84uJvPMJ1LFPAejM1cOF44CBRZgvY+zX5oR0BT9TBsMTsObyRGcO7KWYMCLXGtGQmebwIdqC6AVavzeWi3MtO2iTlka1xCpJaE8efSTDgfoDQsSGZhNnvM/K3BUwxjmvxuVV+Ns+6w2iTDGOyf7Mgb2JQ3uoiDSc6T7NtItx0Urs+iFBqpFLp5hhVvyattf2wD+r8721tfWJDKDNLJ8HAJ8FgvjbkuDXX9OlGpXabAWPenwGcQdM9KslmDbDwqUib75xV3bq6junsntU9ZjLbNqXVqsp9+7cknt3wYCFZOW63baUSwiHoq5sSJsX5AACyMHcFcAHOSXYPpZhMfhclaXdcKOOpiMCEux7HM4lnM8VAI7GklumOqClS7k4OxFYQbx9a19WyVzixVzqtRJl/sgxydeazLPLeUWpuqLlQCTLZSQrT21hMKghKZjij3yRuX3LJBW/vpUxkgDF2BfMIlHf2ArKr8/WCymU0XWCxaOTvsyCSEKwjmlOToZTmUULaW1tyckANiqBBOFcclAnw2dxlcjN7ZZ0aiUpFz0JR2cy6F9IqZSXG9d3uO3LwaWUtzUPC38jFAwlMM7JcDQmoGRllQh2PM6GAUKWNMfEZABAvM6jVL7z/kcs87byfClWm2QMsVwh1gnGCrmgGItT5FSG8satfXkb4edqWfonh7StQdj/sF+S/mQio+lUJqgVjGvoEwEgrILSDQD8rAaHv2I9GwD48cnyBgAqYN8AQAW8GwD48x+INgDwFfsYAPCTRCDPAkD7zfMYQAOAzzJ+CPcyATnRhz5mxrROQLmjOJIybGBKPkUeb7/xhpTTGRkmKIKZ90dRx0LeeusN2d/dkka9TK8xALhGo85avQtW+oiyHMBgNhMU6EYServV4neYYYIBrLb22GPYp/FsnFUFQQUQAECIPxAqAiOI2SWEJ+NhXxr1itzcbcoqRs5hLLWqTwCI2rYAgJ5fElhN10RLPyESBRYTlSpwHGACqPQt6DJqarySUmtHy9gxf1HFOKy8Af89eOpBtZbTEldgJRYz2N7AO28pgwFKzQFQ+pJ6RTkbTcmUtbe3JC7k5fTyQg4PD6VTK0s4n0m97Mub13elkC7IZF6ePKa3GZSNb755R4bDIb2v/O6BoJA6WErz2UqWqX4/C8gCok9VsFKX2SJVZZ3ny3FvLL3hRGZRKv/svR8x5FKutCQtlGkUjX6vOw9EVGfpj84Y4pc0lms7dfmlr74rd24eyPDskEbfCAEf9QoynE5kMAtkHEYyRL8gpEUZ8BUDmCfrsQGArzgkvPDi/8lv7nLyuL+/rxMFJ4qwcHDRRRFow+RicOanhhQL+ECiwQ4KojA0lGFEA0tvlSW2b7wrw4kyMKiOw9dGi8wyGlIeSJCUSpK4MCdrfDuRRxRqyM7PLaXh/Noqfl7CubJOE6f2rBZxT+o60ay815XnXyZ6zipDQHFqrA8meKjQwH1yqlFW73FRCNQRL7rSmMbmYdJnHonGxlmKiu0HUj7YT47t4qsTgTyrPLdlEieRN78/jCNX29GcZF2nvrKso2MNofwt15WJtbJrUAD7Lgy/dNvGeQ4X2rfYJyuDZuId7FvsfBfB08FuC832CV6qVprPqrIgZ9tYS7B/dl1NXVQZDKB5BsLqi4UE1oQnyANH9SS0WqMlrfYW3/dGbj/zPtljtNFEVckQ447c9XX49JSVprQpg4fxPnEK5tlkmDGAs6lek902XB2c2tj1Kz6PXSgcofKsXJ/7LI7hr6rbYTjX9WlsfofxUkZOBjwNlQk8vRxI6IQhAapGOXY1MFrQ7fXr9LIBgK94tnd29q5GtbV1GRghaHPsHmY0lutgA9j6q97wyvjhQU8wWEgll+YkWSArJScwZS1DqeUXBJWWmjUAwkQkt2Q4N13OyIBh2Wa9Ibdv35QvvP02P0N4FyAIAw22cXJyIrnBGcUYEBhgYKACDuwZPAaLPj37wFqN+gPehNVmi/tIFmsMaxYACJFFMGNOEpVnsdb15TYuL6mI3e60WYZtEc5REFK22lDyohRRSYpugIfpQLnayWxg8J1ZIcAA2cBctaJKN3xX2r6RKYTNdgL9TZWk60PrUyyfBGqOiv0bDVHmLib7htrClbJ6B8IAdbVSE1aspyKqSsaDDHY00+lE5ou55LxEKtWSNJpNCeZj5nERbDYqPDbkrhRKqAjiMScRZd7gxgirFnxOL0Couf0GP5sGiTx8eikPHh/L08Mz6c1CPpxR5xXWfBCj3L17V97Zvya94UB+8pP7MhgOqQDOe2DvQtnba8lv/savSrW0lH7vTJZpLKPjgCaow9lcRrOFHPanqpAr+BLx2aiDr6YZJJn9woveGs8L6doM/tn1bELA2iMbACi0HNkAwA0A3ADAFx1tP9vfbQDgK/bn8wCgMYD2ajNNu9CfBYDG/GlZsysAmMvDEy9HdacneVp8lKC8bYArS6XbKjMHLV3F4hfBCk4IuG4cXKcpMYQRyCmazabKONUqZKDgiwcWYbuwZI4NvoOdA/arvAYW/VKBwAYegdjHXNFXD0BWCplqMne6ot+fzvZSSZzbPI5jMFVVMkvRSawWAKtEWnW1IMDgjxJnCPUCiOSLyM/T5GTsl9o45AUiEApiBDmI1SzXr9A5cMwgTJKzoqNZH1pfmiAjhc8axRkriUKtvoH/AH2VclOQzK2TzJwyrrm8lFfwC1RRyWQyFPqAwbXGA2BV65kwmma+frmqL6tcTqIwZm4jEiEBACfhknNiiG/bnS2GgHHctXyZpewwUf32d38iH9x/LCenPYlyBbJ+BeRJVtQX6w2wvEkiR0dHcnJyJsF8zlxA5ASijOatW/vya7/6i+Ln5jIYXtBTbng8yQDgOIjldDiX+VLrSwMA4vrSvFFca0v1IHyJtgGAL9FZaz/9J//xb3LyeHBwkDHFx8cn8vjxY/4qhHE5LVHI0/I9TJF4ny3TtZrBSIdwzJuzcYHyfmd7m7+99+VvyNHRia7L5QrW2x0ZT3T9A/eKCcs00LwulIE0EUjJ1fRFXXLUwEYrF1dZTVdMGtDi6Tjz58O9ApEBGmqNo0FgBoYJDeyVHpCX5awhtcQYQIiW9HvUH9ecMw9imJl6y63blxhjus4A2uQDrJ0xWsbakSFzjJHlVrNvXP4jrueJq4Fr/Y4xz4QI2PZVPV5lVGE1Y7l9yGvGZA8tcqoD9Hvd1V4G04qGdY4mKpRAMwEEojloFNqZryIjGdr3OPdoqKBEsR6qsVyqPQ9qtxtbVqmUacGFFrjjBbNrtj1gAK3uNG0BHBOJnGW0erMt7Y5eQ5d9Zes8RGxcXuNo4nIA0zSrMPP40VPpdJX9RDoJWr93zsgPWq3iZzmlJ8eH/Az6Dzs363mQ5gmJsdn6funWOZtZBAOalIIUncdivqw5rstcnuMtmjGAhyeXMnE+mKPpXCau7vRgOn/JEY+r/WvRXtsD/6zO3rMA0AYRYwDXH45Ukzqqez0h2RS+BlJwsRtwEQ9sVI4sWw6sFEKcuVRKhQLVtNd2W9Jq1pivV635spj3yejBDwxWMHg/mYylVqkKwBySx6EcQyIwVIZbPrCMAgBsH4MMACB8BGlBg/JhslRwA6EHy8GByYsIABlVQd3feaB5G8ulIByM5TAQYXiq16ssSwfFLBhAKoArRSnCsNqBQFjAcGD2lPUD+MN/9mMhL0hINksc5gOC5UN4qHN9DQCqzQoHdVjeOAZwvT+9OOLnCvLgpQYFJkLgsSSx1stVRhDsn4aViytlRtFn49mELC6Yv3qzykR7mN4iHxJ5lOinSrvNcBF895h0n/Mo7Eg9aIk98Yq+bO/saRWQ5UpyVCnDgy0n/8+f/HN5+OhI+qOpLLwSzUrjlUi1pWbdBzeuy0/ee09OTs+5T7DRQQuDibTbZXnz3g35xa99QZaLkcCsF+duejoVDNaD8UyGQSino1CQMw2F8Zy1gXHenRoQYfesqNWL3SUbAPhi/fTsr/73//YP+ETn/YgahQBWMD53StyBS/A/fPJUBvClxAPUlUUjAHQPwyLMzx2wg/cjGiZdMPrlOq9tccKm61fwASA26qmiFqp/NoBIh6KGo774DvhVqgrAytWiFJynHyamFuKz66Wa6rbROJZl19FVeM8e8KbybTQ0xQQN+fmmQLUwJr4zPztGUGAjtaaE1UpEun+2jKls8ZnWDNdjdvn/zwg/hIb2aAYkKbRypdwwNqChkg98Etl3flmsNBqqDqE16k2puNJ6GEPMcBiG72jw47R7zDwZEQGYwQjbNVvGfAs55rk+XCWo7qTHCb9VtP29HaZ+oBXyCnaOHkNlq2ANyltYrKDVHGgDKMtMx6N55iuJ606PzRnsUxVez8rXmTE3xjGAK/anmymOJzO5cNfqYhgynYf96UBl6pfl4dMjfgbv2HZLQXP/4piv+WQmDXdeay7MXUKlKAeiIeazsLlZVyXxLDOCxqQhdlEMceAV5TK9ol7/qVNPH51dCkK/aNNZJBN3T3zv0dlri4Ne2wPP7rpXfGMA8Fngt77a9e+eJ7A0QGhgxWamizjQmrG4UQDUUCItXTHPAgHFrXZNajCEblXlnTffkFpJveUw/NKKoVKhzB7gBEbPBC71OnPmwAKWnOkyZvF48CgTpGbQ2BeEnDEoYP/gRD8Poiy8SgAoAE0rqfpFhoWnkwnFKepvF7J2LRiyWqUs6QLh31hKxaI0aqUsZw8GyDB+xWBdb3Szupj0oc8VtHRdDeXilJVD5RDM4PG+untbWSvUt0yvDKMtdzJJwDpGBKOcGc+HmUF0MJvzeYdtYF0R6TA8rPS/iUjCecAHAMAxAHyh5BP4VapQ9mkpNoK/OJQ5XmEVDbYyl5NKo41qegRynl9hDhaWD6NEQhhzp6lsobYyahav8vL//um3Wc8XOYkPnp6xfi/CwN2dbYanIQL58Ic/JIOJ+sdvvPEW9+UQamQvkmv7W/LVr7wjO1tVieYTmm6H52Mq9obTQIbjQD467lFlvIDwBEbaYP7coE6m+iVHhQ0A/HSDyAYAovbrBgDa1bMBgCIbAPjpxpJPu9RLDvWfdjN/fZdbB4DrYhBj1OzILS8tK7vlwg343pbL2CtX9o1MW6xhGoAbBYArwTwQoSC/6Mm1HSh5C1It+3L71g2plmMCrnazlYUMwBBEi3lmJWC5bQBii8nYsY06k8whoTaBhYqygtjNgqtTy6TlMCQoxL7Rw8uhpFatSksChCBarQbXg98idFstl7Q8WxwQuFbLZWnUUAt3xVk5WDHS+MWidNowatZtQ6TAXL8ywqx1eoQBrME/0PPU4qXQvk6wy/CwAUBZ0QMRLAlD68ursHo8PiMAxCy41xsQSOU9bLtEoK3lpLBTZo8AwUjMbZP5q1Sk4Gv+YaGImSlCyAsJgikBHdiDeKVh7AKSrJ0pNYrcF0plqXFWXWWoDSE3sIzVQo6/w7b/2be+L6eYqS6W8vS0z5BYvFxKa2ubCfrIxzw5OnVeiam88+4X2FdHR09lNDiW7a2GfOPrX5UvvHldomgmabKQGQDfPJJxEDIU/OR8QKUx3POniyWT12ET8rLMn13bGwD46ca3/+kf/n0ygLhm7GoDEwM7JjRj5i5PzmQ8UquVBlIKnA1M6pgr/B4TOjRjAJEGQtYdjJGH8lsagoO9C1/9ksyGyhThnkVTflobJntFV7atXHHsUBl1wJ1vXUEFQxyaHEvlL5Qx5ziCVxdfNKEE7lcLc6L0IxrSICxkibGg5GsVCrumcG8ZA4j7NnBiAmP9wIobq2jrgS/dlRCiTDso7qd72tk4y36Ml/TIRDMmkl6d6dX9j+9YY9z1J1M33DqNrcO9DmYfLe+VrFKchE6AgEo8FqI2WxuMJfM1tj12pc2sokij3rpiLdOcVCrKrA0HGjbe3elKyZ0jTKzR+uen0rvUcD9M+ZEKoOfWhePB8LltwknCxm87L2SgTYiBSiCOcTZbHkYy3PWJCST3ZzTJ7GjySUHTXkAo5/S6GS1i+eAj9Qa8//CBzAMVD82ceKhdy8ueYwV3O3rN1kpgIl1FolUuK09p5fYadZ/iDzT4ppoNzAzhEpxLGN3n9HyIeSBGK4mcyCmMMJnW8/4XP3702uKg1/bA9cp49fZJANAGQaydwMQBGh3UzAfr4wag61Ylmoulocwkniu7tQQXtCJLV/RWtH4pejnZ3+0QTIFh27+2K7VSxEEWZcPIBCZLgj8IQgC4UFcU60W+HPJDwtFI2b35nAMx8kMApMACIndHmTPNDUwWqCSiZdUArFD5g6yY50mjUZP+ZY+D9fZWh2EtKInbWx3mIAI8gQHEMwGlpcBEYlmERdTqRSt9tOsdPXY+P4qsEAJwVqrUtC/zeamx3BE+L0quuUeQyj4mCYhSIi4EnMYEgTRWtbzKiYInDPbj0dTV71Tm00LABOs5UxV7EucUiGrOYoFsJEB2lCjgQ58NxyPmVuLhUShv87csA7dMCeKQu4LxHUAPDwCALgRtsF7YysAqJk5W8v6HjwkAwdSd9kdkDjHApcigXCYEgP3ekA9d1Dl+98tfkrOzMzk9OpTh8FRazYr8zV//urwDABjOyI4uLoYEnGPURA5CORvMJIpXZASRJ4NBEapgDemgcswnFEr9GbfKBgB+unHkn/yD3+XTivmuLvSFyRbuGz44hwr6psNhVoas6MLD81lwlXebgKnXB3zdecDtdLdo9o42ziVZeBNpF2gYR6YD9feDMpT7gaHJlWXDPe0iZ1J0oK/gFyRH4EfpMQK9fJvm9HrxF8rK2zEhdUPfKxCgWt/lA7L0o1PPWvQDv/edwtTWo6bwGrbD7yo1BbDr46V6kSKnTsdWuAuYAhrADW4Aup+665py4zzmoCJ2AHB9O+OZAioDmkilabc7/Ayl3qzusBXTgYjMwqS4x+2YI5ejhzKQyOe1vrF1r5xPH6B35ACJibIgkDHAw3SPsoJjU+4ilNqsa39EoYKqeD6VJ48f8H0wHbIaFPvGVTurw8PVTQII/ty9biFgPDsMALKSkwO1BgAhvM0Utw6ADYbjDAA2qjuycKHfgTPg++DBI1Y4Qrvs92TmcgfbDd03lDO91lWgut9V/8Say5PU84WnppWnVGBezK+ci4EwLWnqQvX9qYbUgyiWyFmKpc63EJXrzOAb6TZwZkD78x/cf21x0Gt74Dzzn0Hb27v2MR9AA3+mWF13mteLWQfLdZuY9d+sg0e8L+XdzHSVil/w6N/XgoUKK4EIq1CgZi8qQdy5dVtWMqQI5PaNm6pizYs0aggxKmsHAFdEWbNCQRk8MExxzDAmXlk/NgwErCEGSliNxItFpk6OZ0E2+FL16sKvyPMb9gdy/fp11qlFeHkbD6EWtl0gC5csAqlVYVRaoWEpkBtVs5WKeHkNw0Lowv4A3+lYQYC/WqNBgEImzi+TOcBglW9d03zAPHxqY3rfheFcKkXkAwL4rWhNQQNaMKrjY4JUPDRQGk77Xh9GZi2jYfiriyP1tQoJBs52p5Md/wzeh+FC+oMBwR9Bn+fJIq3LucuvGo2nsrOzx3DtdB5qDdZyWfYPbmRAGoBeK4Xk5f6jp3Jx2ZcgjOXh01PBA6Raa0l/PGWNzcFowhDt3v6BvPnmm/Lt73xXer2eWuYsUEc2kf/oP/wDqfpLLbuHGfrjJzKPQoaBLy4H8uOPHrPUHO0bwlTVyelKRrOQ6zYw8aK3x/PUvs9b/mVVwOv3xPPW+XmsBbwBgJpyuAGAGgXZAMANAHzRMfez+t0GAL5idhAcpAAAIABJREFUT+7u7tMHEG391QCg2cCswYlPBIDru7H+wENVB6y9USuTrkcVkFU8Z4k1VACpl1HerErG7/bNW7K7VyLAQHiByb7LlGwbmDCAQPjjkRlcpXJ5eSnLuebHwQYGTBZBIkOTGg5GaFPr6MYq6pgFCrhWWseTjBtDOWot02135MnTR/wNEtHbdSh2Vbm2DgCxjwyT+kXJOzUsWLdyoUgRBhpmn8VyiYnhxXKVM3gAQ4QYfFdebVXbybqOwg+UkEsWFMvAM405is5LESbXEpwTAMJbSkUlVzNLMq/EiUB/ygqSGSxqmAm5e1AUkqF0SuJpMFNfvzAmOwevv+61NwmuEcqZodrK9i6TufOFIsEm7W8qNVdjGeKaQBPVvZyc9YasEwy/wNOLoSB0BA+xRmtLCoUiS+b9n3/8f8l0NpdKpSZnlz2Czlq5JKPRmdy4viff/Fu/KcliSB/HIpil0ZiJ7lA7A0B+//37Mg0jmQG8zhy7mOa0dBLYWKc4fdFbYwMAX7SnPv67/+G/+D1OHqHGNGYMIq3JUJm58UhflwwRO7825wc4GQ1Z6YUTl2SZhYBNQXptd49jAlra9OkHiWbhZcyNbDvw7+T4xaiuY6noxakMn5sf6X3sORVyDhy0TmZtUtsolDIGkCzSMyFgXKfG7CHnl8eGFAzHBuL+epYBZE4qKCDXmm0NEVq4Fvdc4BS7xmyhfrexWAvkurqKJ7Y/uAdNVco6505BbZ9he067kTGASN2oO8FVpVyjIpl940KrKxyb55hOH4r9q0kl9xflHZ3YBWFn7beVFFy5P4x5c8f8ZmXuCj7vWTR8VnMh4L0dFXaUS7406xrmnDphSKGwlPsfvq99FMwyX8Y4cZVgypVMTAKfSZAHaL4rxYa/rb8xrmXHaeMkZtruvTFoOAc9d81WS3ty3lNR0eNTVSb/xXe+KxNXSSRf9iWOlHF++41bfO02fOlUte8aZdeHqC5lsWZUH3HMtzGusB1zBJ6EScKUGfaDqwgyjZYSugIfsUvnQW311LGCcEBQH1SRHz0+eW1x0Gt74G48eeUXhIA/CQBa6Dcb8JzK1kQgGAzXWcD1HVkf8IQWHylLL62WC4aBtxpl2eq26AW41YLFSkt2trZld3tHlt7YGSHDLFmFIMgFKhQR2lsJHhw20IVBICtYuoShHOztE8hMp2MpOPEIACGMRpnXFuN/LOIGW6yLyuCVGi0DAIJ5tHy0ZgP1HQFQFWARmMULqVIUAgZPK4GAycsVi8xBg81Js1yVJfJM0lRQixL5csVSSVIvr2KNoi+lWk2K7mGTOgCoIpAFgSaEMkkYkBUEk5mDESnAK0I9oR6/2e1o3p8+ZDDgWGjHzg9yAZfwIyxraAT7htwT7F8wCyXN5dhvg/6IYV583uzedDU6PfaRKQWRT0P2ix6FWtaN3op+nv3BEO9kJsPxhHk1F4MJ7RdQZinnlaXV6Uqn05H/78//VM7OzqlextNZ2Umf5ej+5t/4Fdneasqod0j1NfMv45gMII4bdYXvP3ws4yCSi8FYTgczgSUgwiOoooSHGADzy7QNAHyZ3rr67QYAbgDgBgBuAOCnGz0+m6U2APAV+/FZFTBWZ4KP9VfbjOa9aU7Zulcg3ps4wRTAeGDXCzpr7nbqFH2UfU9u7m9LpewzB7BcQNH1MkO3RZRS66qdCnL8mL+3iCWYK1NQLVek3W6SccA+9AeXcnl4RMZwmSYEMqghihAtWAEsD0AIhoH5iEkiJVPTuuNM0pjAaG9vh6wjQr8AIwCLeN+pFfkeYAcglnY11Spr5PL4C0VJ80Xmz5AZc7M1HEOj22V9YBYaL5QcSMxLudKgDQPyc8Ji0zF1K5ZsQ/ULVB/xUcAeTB7YvyRkKJhAdI68RfO9M/Njl8z+TOpbFpqq1ZifCOYAzCHm/ciJGY9hr4LKK2BMr4Dk8cWQoBoh3Vu3bl0BTFTsdRUFELZFv2Ab9XJFqvWaAm14LaIiwiIR2BZAmTyPlnJ0dMFwM2bd58NThq8v+gOpVesEmejTv/3N35YvvfOGvPftv5D93bq0m032RxJoriN+h20A+AFUXg4n8uCk78QgibB0JqxvXD3WF701NgDwRXvq47/7H//w7/KiRMUMu9aQV2u1dUOYnbGEqSclqzjhKm1M+sNMvAEqBGMBmlWe2dvekd3dXX62KF9ZnBQcnQe2L5xp7hwU/2gQkuBe5zLOt43fO6EXzDYy1g8MoMnk3WF1Ks7KyeX7WQ6gsezZpIrehspI4TsTIIDtNxbNegr9sh4RgRG7LqfL07bJMYSZuKJWzfL+MAbZJFy9RjE+XzGAvB9dDiD85tBwPec9za3DPlm/QojG80Xzav3ecuPwPnb9yFrljiFERSA7Tpt4YzLGPo5iWVbUqgQTTSj80ZaO2kJfGFuIfUKuN9rBvlZjgvl71U2wJ0O1CYIn7OOPPnDrn7O0J3+b130nC+v6AeO2sYolLOgm6pZT+Un3NcZpOzZjKhFVAAuIFkZ1OTlXkcrjkzO+/uDDj+D4zfdwcBiP1cbm1nW9Pr/wxk2pOma56LlB2Pmuan/AgUIFG/YKcnruaNrZPFRje7CeiZ7jebISsIB8774Lk1SMDcRljjQYtNNR8NrioNf2wHnmP4P2PAZwHdytD2AwTl4HgOtMIFW/Lt9OfediqTmj5UoZieKoAOLJjWtdUvZQSnUbrawAeMWvSFpWkQYeBKD4sU7kxLFUmrdiSSl8BkbvyZMnUvdy9APEfkSLkMIQ3lzzGXP/rMg4wsHYJ9+FgtF1AGBgCRHGBQDE97CC2d7uEvyNZ1PZqZcIhpBLiEHGAGB3e4thUeT1eX5ZS8JBATnX/afqrtUVD/mD8M7DseGGRQi1UncMYkmiYptiEqiW4YmF42OpO2S0p/D7iyVFvWJXPk8Y3naiD2fuuhZhyq4IM+bGw8Wr15jUzXAwfPMYovbk6EQHXQA9hKEA0LDc4+PTrILJnTt3CKxxrABtFupDqBg5lDjHnUbb2cmErDCCY0zSpTx6csoaxUnqyWg05zaQJ3R88USaMPIdTcWvVDn4Arh/83d+S3KrRL7z3l/IV7/0hlzb22YN53A85r7j2gJreHh8KmMIVtKcPDoZyCRMZBLFMpzFVDei7vHLtA0AfJneuvrtP/0v/7UstglfTTSkDiycKMMqakGtbwAQJQnR1gEgzpeZA6thlPoAbjsT4MhHGTMVNaASEBqAINIW+N6FK/1CKRNcQDtgwCpxaR4p85ddciwqz2SpL3oY9eLyY4a+z4pAdGLqypmtAUADrQBbdumZV916NITiDfcDA3u4nyy0mhlCQxXtgJcZyWP/YjcJXDd15jjr4ooWKsa2yyUNNdu+QXAFSys05h4XNPRq1z7WYSFLAE373kyoEcUw0GqgDtsbpM4QG8IF50uXhaxXyAvUc4T9NAB497aGTkEIlAoO+LhJviwjOTlSI/HpZJgZh1eaB/yMkQ8HeFE+EJN9tBpysrGdeCHBTEE2+s7Og4E9Tp7dZMT2E+MPRH9ovUlNjo419PvgRNXIR+cDyTvhSbXVkiWM9HG9VPTYv/KFe1Jxx1HGxJ3X6TIreRcuYuk7FfxwoNsprLzMtBziNqiT0VZO+buA96rzEg9cGH22gOBNf4ePrHTfxGLB/Ob1ahsA+Irn+3k5gM8DgFCRPgsANSfPhRWdktTsD6qwNIGyNI+avwWpVvNyfW9LysUcxR17W1tSKpbI6hGkNNSAGcyfOccni4V4Xk7tTGKtQYsBFGxDswB7ARVUMFxZrzL3DwARNYIB6KgedkrksgOmOAarHgKw1uo0ORBjHZ3tjgN9kbR8DZECACIcaQCws9WVBexZVjkp1RoUdsAPsIjKF7B38ZEn12BNXYBDMIDIA8EM1K+6zxGSrWy7B1Uqq3ghKyp+oQTW+rgMZyJ07cQqALcGulXBq8dmrKA91AwAkg2g7YyKReI4kRCVQ2AfsUC+pBpJP3zwlLlE2HfMuWFWTXC3vUWgR0BeVJYTM3v0idUERqk//Aasy2K5kAXzkpYymUUEgFG4lIvelPmAi0UsJ70ncuf2XYJQ+AoeH5/SeufXfvkX5PTkqRwfPZGvfOE2TWCD6YT9YiwsXs8vhwwzY2B8cj6W6QKWMIn0phFZ1g0AfMVB4QUX3wBAZQA3AFAvmA0AFNkAwBccPD6jn20A4Ct25LVrqgLOwoXmYUeBgZobr6t8AbTwN4CCgQ3LQWOOVhAQRNksteT8tnwvRyuVeqUke9tt6bYb0m7VZLsJdWwiOQCf1VImvf5aeEQTrK3WLwAbQpLYPhi6Dz74QFbLAdlBevuB3oqXYkwA9gf7wgRcd1xVX9dJ1elqQVPpKsu0JXJ52WeOGqIOYCCazbZMju8L1LI4nna7S6BZqqB8nSaMo8A7QBj6AjWBa61rTB6H9QvADWbSOXhTYUaO8BXKxPlaCg5Jfl6p4kqhQSUN25pYcrSsiRTUwTCFgg0VxIinn7PCCUG3JtHbe+qPWYquyLAxGUBflbEAg6NeX2YTNX4GA4fQLUNXhSKFFgBy/cWSYhD85tatu1LI++yPwWAi8wA5nSQnlSUdj3nO8RDEK2bTAOdYHsAa+wJ/xcFAazFj/QEYhpwnO7vb8rWvfY0VWhiqh2o7DAg+33rrLZ5PWtOkc+YZpnEowbAv/ZNDhvJQneCHD45kMA1lnnjSn6cyp6v+VTgb1/aLqHBf8Tb6mYu/yPY/jyrg/+Uf/escO3BeA1dKMQrmGUuHlA20Ejz+XF5m70xZZwg4rPwiBnFM+MhsOCEB6nmD2Sdb0oKYQOmQgquugD6NHbtkvnO4TsH6o+EaNHZr3RbIBCFIMTE2zznQiL+6Creui0DMEmWdATQbGIRwrawa6327cN2699/6OGlCjPXPjPmbOFEMJlAY89DQB5bXayFW/B65vGg6jjirFGc3w1QXXyt8GDil/6djL/NF2FppaNcRSuxfeAFyncUCxzf2t6uwAaCL8pDr9xOOYZDqenDvzlzpP0z07LqYuzA904GqykDu76q4BzYwvqsAgvxftNl4KP2eVtg4PT6mEA6ttX0nW6exeigXUK+pZx/yhdEgnmO5ThxbGmcVZOx8WFoTvjfmFWMYxjK082FVnhye8v0PP3rEV1QfihzzjDF9a1vtieKFstm/9vWvSF27S5wWhNWi7PqDuf7QndvJWNOZFjPUTlfxEtJwAiQw4z5wDHiyKgj+o4WOtEYVEGMAYR3jsh1kmphBkO7D69Q2APAVz/Y6ALRBCYMKLt5PAoAYRJ4FgBqmVbGHslJ68ROUwAgaoUyYM8tKioWctBswVy7KznZb3n3jHlXAMPzc6rYlCeYqAnFl1HB45mGH98Y0YhBAuGkyeqr+eQiHxonmACWiwM9VhWBJNBc2bdQUuGJ/ct6Sg3ephPrAMEMOCXQWkdYXrlcbEvSf8JiwLgBAgBoAQDxsECLSvtKBGDWBa92bWQ5ludoU1M0kO4jfewXxAKiLFYI/9nexpKKWXMoHJwZv9BP2x0JoAMbWn8V8sib6oAdFZvqM4BiPGaXg3HXBvwupJNFCYpgnoyZyHBPAUcns68N1NJ3QogbbOeyN2LeNRpOVOvBbPGQvLnpSdMq+87PLrI8B9nA+APL29/fZXw8ePGA4HgAOam28MgSdJDJZpVKv1uT6jQO5ffu2xCGYwZC/qVZKfOhdu3aNYUHs23jWZ9UYb5XIKprLbHhJUc75RU8+fHIuo2BBAHg5S7RCCQJH7vpDN7wIAHvF2+hnLv4i298AwA0A3ADADQDcAMCXG4k3APDl+uunfm0A0L5YnyE9CwDtO4IdV7+SeS0UW0z50MUDez3/rOLn6KGHvDa8erlU6pWiMoCNqux0WvQHhLK2027KbrtDAIgZsOW/GHAwIGjMHmbCfiFglYBhv08WAWzSIlDwh+Vo05JHqTYFrtVyTlW0ywWtR+qNKn0Fx+MhWTMwfClzajyCvNX8gr/HugwAQv3LGTJtIlT8gsoAWLaxDS9DTdSG4WoRCdelikSoCoKZN+pMej5ZSR5XToEgWcmVhb7B8Jl9BOi2q3ylYsHVCnbG0FzWsZsATAaQEQbXlpMojWjEm0SJMiT8ztlyiFYKmYZzqnjx/v1HT2hTA7a109kiAATLOZnMWJUAeT3HrpoH9tuYQITbYccDQAiRCK4RfGa5ggbK5nmPim8AQAphZgEZWEwirh/sy/b2NplZE74AAKJW8yqZUxEdjfqs5Xx+2ZOHx5cynEUUgFxMY4pPZq4+sDHTLwLAXvE2ei0B4P/8X2kOIFItjEFZLmKKutBg3o6GLFirFXziaqrORkMCfzTkv+L6RJtNNEcK17SxYM29ZpbLlTFTXjETG0CJj4bv1q1KnjUE53hQ1BxCpLLYGGbMWCHtZ5MFitocs2bGxhQguHxDYwAxZmDSiIaqQcbMrTNOtgx+86xpsyrgdf+tgQG0ZWCVZA05yWjTCe4XpYUw5kDhj7ae/lHI63LrdYYtygODdxOurAsiSm4/IFAzhpB5yzjHiOqY2MbVJua9W9Zjx7bNziarjZyq1RZbuuJEn30wVxuV/b3tLAdwu231dU9lOFDxxcOPfpLZB7X37ulqnJgP771VmjGcLbO4MSoRLPMINlSOcbNrDVEtZ+9jTCKuXUw+uc0TT07OlaWG3yhasMzJ+UjZvihN5No1FbH0L5Qp/Dd+//ekXnZ2NGYzlMwz1jpKMC7pBMfO/zJYyiTQdfYHE+m73MDRVJlA5P+5FMDM/HnlFWThrGFQXnPhRExTU45oT79WbQMAX/F0HxwcZInclke2zrgZCDPWz8LB+K2BP03OR13alA983FhmVVJkRpkW6sLQC3P9VqUob715V7qdhhzsbvM7urrDxX+hxdEBJMzV3UQhtn6sG/uF39y+2ZHT01P57rfeI7hBjhzAwWwy5SCGEGfeGUdDpFHJay4hyLfrN/a0PFG6lJOTI+YEgiXb3d3jwAXAU0qVkcS+oIQbfL5YEaAMmxrtAzwMEPJlWafmdacOLhD4IS8Qod9VvkiQiN+BDYQLGcAUbmRayrhkcByjnYf1sDwfPoUcHzD2PS5+POQUWKF6SMIwO5hD5Cwa4JrNA4bFqZIE+F0s1VIF4fo4EQxQqP2LkAST+NMl2TsdcEW2tnaoHr5//yNBRQDsC/YDAyfOO/9eKmv6gx/8gH0Hk2eIdHBtYH8BCDFRwHHe+/KXCRLOzk+5/Hany/NwcHAgO9vdDPzjOLDsLJxINBvLIphIHAaShlMqP8ejiXz49FQueiO5GM+kN4kF2H2SXjGA60n4r3irfOrFXwSAfh4ZwH/6D/8exw4y9lZxAWKdUENbs5GCufFwJKHz8etdaoJ9zS+L78q/we9tNFDvtTDQByAilCaUaGwjZcKJL1wMF/dgpaygIQNJK7UtQoOy/SrxX4c4hkEdAFQApSBqHQCun2QIn7QpaCSAdGFUA4BIE+FkBaDVL2bClCxk7SIm+B73yJbzNrTtYB+vKoE4xWsBpvIuJor+cwKFuQt5Y/wyQQYnt64fDezhtV7Tqh8ZYPU83htojO44la/1sc8yjw6wo9ya+94AbQyhjlObmcqXoX9fl9G+caXkHEhGODwDgxiz3dPaCXalWsI51L4twxiWnRRKv6fii0cPPpLDJwrCbr31Vb7i2O26wQTBgCzsxdA45pd1PzA+WTh4NnVlA5ET7oCTnUsIR+wcfPg0kceHuv0Pn2ooujddyMJ57jGS4w7EWf7Jr//yL8itazpe1soqDAnnE4mdWAS51VMHMK2Cyypasi49mtpmKVAdu+ojszlytV1ZOKdpCwH61gCgEwxDMfza4qDX9sD1bnn1ZgAwAxWOjcIgYsyU5pRpzoxZARjAU3+6mGDCQsHrDGCDMn+1M8lCwNWS1GtlhoDv3rzOahy8CeczubG/TyBmFhC2fuyLMX+4yRG63dvbk2opJQD8zre+zRAwfPMQFh2NBgSSZBKZgwcT5LKUCxqGzOc9mg4jhWYRR9K/OBfkHWEb1w9uSjibM5+tlIu5HAaacrVCAMi+KKH27YrDDkAdtoX/ngOAEH7gN0CazOHB4IiHF0rG4WHpIUzrSa6oy2Gd9CV0V7QNFOusqzKhyhyaHQJzGVF7eZUg840gESAPQA45MApQNR8Q+JpqSxcmZs5drOXZRrMpmQT0rYV0AeYPDm5IrdrgYAoAaBVMEAK2WTPUw8a4soTeYsGH7dOnT7lue2DhXJDVqZaZm/Po8UOexzfv3pOtrQ4ZR4SAqVLEQ8SxmDEZzFDC2UiC8VDC4WX2MHhweC6n50M56Q/ktD9lX0/E1z5xYWDbt1e/Wz7dGjYAcAMAceVsAKDePxsAKLIBgJ9uLH12qQ0AfMV+XAeAxu6ZjcmzABDggCAlhXJUhRFU5rpZLB605g1nD10wgEjkhRsMrF+Q+7fdbki3gyobFWnVK2TgKBCpVWQVxwSAmFWbkhjAk2rWfJ75Yfje2MFw3pfexaV88P6Pyf6VUJXA5dJhf1F7k2AJ7B+UrG4GXK74cnCwJ+kyknkYyKjfo50Eltnd2pXpZEY2s1xYZttDiAnb1dw/BLbQPGX+Sr6qf1u3sxzJYrmilgNO/AGrBczC/bImZAPfoCqIzUQJlDg6ehLC+gWWJshdzGtpObRVrpyFegD41NcMU3vkAiJUvWJ+3GSivlZYHqCNoJwiGccgYoY8DXiMSFDGxJIMiV+U6XBA1gH7s7d7jWByOp3JaDQhYAMIfvToEb9Hf5z3+lpppFAg4FPRCrz/jvg33gPQ45wC7N5/+oQAEMD7xo0bcufmLdrwIB8Q14idbwtpo0ABRDEAgLPhUPpnR2Q7kZR+cjEgADw+v5THp30ylhNP8yotHL7OpL7i7fKpFv/rCgD/j//u3+MtQKDtMtJ1IucYwLEm1oMJnLvwpbGCep9qd+JamDqWy0LBZNxdSLLWKWUTI7NZwf1XdYwVclUJLHwIP3SdqC9tYVJjy3RS6/w0EwuwXTGAdT/IWC4sawygsY+4LrOwsRNRgAG09ZtVkt13eDV23z6DTyaa3fMWReG97Rg2TNjsmtFjUHYsghuA+fxZKJriDD1mY/so0Ms7H0C3nxTzOQENfm/HxJQUN4k1N5FypZYd08QxV+th50K2TFH6TqiwroauVDTUy312QgecY1Q64rE7q5R62ZeWqwRSRc1QdkIkAxdaRUWQJ48f8uOd62/wFf2SMcP1ZhYC9vCA0fpH2b5bmU98nrHS03HGCmaMZrzImOPjniePnioDeP+phnjPRlMJXCWS+Kqoi+RduPcLb92RL76jIpXdrl6L8SLIqkwly6WMnf0RhGtoPsZ45/MynsxkMtEQ9GiqIfPxFJWOtL/mjgmED+DCMQThMqWrJdrMaEHtwdeqbQDgK55u5ACuh3cVMFyVRMKAhwEFNwsYHwwyeLhaFQhTdoJCt4Ewy79D+GMxZ0WL2zdvSLlUpM9bt16V3Z2unB4/kaePPqK1CsDf3Vs35QvvvJ2pRS3XEBU6sG2AD3sP4IJtxpGaeAL8ITSAUnMoFI/0Hfy+WIJ8QGvVIgS7jBZcR7fbFngTzsMZc1JOjp5It9ORrXaH+UjIZ8Hg26xqBQ2qf6sVgjKGUGAoCmBZLNDMGP2EbayaNzMBTavdZX8B+EUALM74FSyg5RPlSwglOysXhHKwfmhD/CqXY35hCf5mLjSchzLSgTh6mSGUzDUzzxK+hwgLN+o15tUBpNlDkV6ItICJ+cB+/NSFvZeJzOOE/cUHThzqfsexXJz3slAvzGNx3gH+UdcXVjI4jpPTU74iF8omBswPCuEtGHJwBYjEd1g+XylLp9WWZqshb7/9tty6foOWLzgvVtyd15AbbGdzhHwh7okljmZycXTIdWHds/lCJkEkl/2RfOdH78tkPJdpqZ6F/3B7GBto1+cr3jLPXfxFgN76wuu/D8PwczeW/dE//rc1BxBGtg70MdfUARXL8UPZK+TpokVOKYo8LIcD+B2q+vBcOSVrpVTKHu65wpJVatCQi8rmFaRW14dtp9PlK/92+V1HRycZiEIJSTSMC2DF0RRo6roMjJW9STaGcTJX0lCimSZ/DMw5AAbIYeFe1vl26tn1/MJ1YDZz/WQ5dsw1dA/1LF3B02gH9zPWqj88dgcQsW+ZPx8AnstVXN+OixZTmIbGSarL3cMYA+N360e8IuRsvnLID7Zw88SdL3guWs3xK2WwJ5eu6A7Ff06ZbMcO4+mKgUU/T9N/tMlYw/21UkEaFQ11V0p6jvKykNFAGf5HDz+Uo6dP9bdNPcc4DhAAfF+tZ+F3A4VIrbFJhEZK9DBtEMRExHwCDRQyb915C4bLhhydqhH0fRcKPr6cymDuwBjOh12DK/2s26rKr/yShqjv3NT8wAQVsFypQZAPmNCjzaxG31zHRbR5mMjMqaVHE508DYeBDKf6HhZXaMtcPlMEh8kyM+4eRfHnbuxwZ+WVX17bA3/lnnMruHHjBgEgc0nWwr9m88KwpqvyYRfsJwFAS6jFavF7+7/XqtPMGDcYmECYf968tkuvt/lsJPNxKlsdT+7euy2/+o2vSyHvZf5yuNHBSln41x7g2Jbm6E0kWYYcZMo+TFgV2CQh8tLUH7BQVvAK8Acj6SJKkrUb0um0JJ9LZTYdkp2YjPqC8m/tRl0WYSwRKmHkcrQXMEbUBl3U0eVDwdOcoGqlpmFcvyhxCWFltcmB477NtBF5Rdk1AhsHAMnuOcaPpwPVOCAO8QpSKNc40ODZUCiWBTk4YAFzxY6ug76AAKKucovAbX5KpgzrRf1kWMcgKR/7gvxIqrSnoUxGYwIyPBDALsbI5WG5No+M4G6rwWMHsH769CjLfcJ5x4Meyz548Ch76F8OBgR/CO9ayBcPOJwfPBgI1GYzbp992m5RBdzd6sg3vvENuXHtgBUVUEoiAAAgAElEQVRemIbg8rL4MHQhYFRPSJcJq4LAFHvYP6eAAPYy/aH6C46CQD744KEMJ2O5WJXX8r9yGwD4WQ0Wz6xnAwB5024AoLNU2QDADQD8OQ01z13tBgC+Yo/fvn37YwDQWDcyZi4kqhMonYFbDVo81OlCjzqtLhxss1YTjmCZWm4lRR/ChFSK+ZzUqiXpNmvy5PEDSaJQfE/kzq0DefeL78gX33lbjo8OM+8/7APWCXsRACwaRLvZMLYLexEwYLAeQVWRAKWnlgn9xbCsj9y/srJtnkvcbdVVZNBs1SUMRjIZ9yUMkBicMP8MYBLgL02UNTQAiARnzmzpheUxX07z8ApkBjUE6ssi31b1MqqCwH4Gs1CX0I2KIGwObBPQunw+KA6XqXoDIkcwX6rS9g81hPOocACNDPIg800yYwRIOVj15LResLeS6XjEGW/Rh9ikSNCNfsoXVmQ/gulcjg8PaTcDAMtC9PNIS7itUtrAIPT75sF1nlMIN9D3lgM5HI4J5vDd48eP+UpmOIrI3uE9wr4WrjfQZ8pwsqjwkfSLUqtUZf/anvz2b/+27HS3WH6Px8RqDXp86wzgkhUA1Ag8GA+o+D4/P5fT03OZBaHMo4V8+PAxj+ko1lJ+aCZW+heRB/i6MYD//X/6t0ihAYyvqz19Czu60RnKfNgQkdnoKbuDNA07v2QNnVrUxhmfgillh6azPutP6/lUFgn+mrWm+rG1Oyp4qNRqZAbRcB3Y8kgvsYYJEsexWF/1dtQdLUmQLcN8YecxZypjmwjjtxBN8dhjFVRxPYxkKCtpbJylzPCYMUY494RMGbxS6yc0O3awWBCxoBmDjvfmw4d71/z9OCY5BtAYPmwndf1FE/osFO3M6jguuf6ESSg9AdSjFG06i+gRyuNzZd1g/2R9j9JpaBgb7l9qWTSMGyZqqLiqGVDzI08bbX9nl+M+mjFwvpdqxSOwrK6SRjG3lMVcBRsX56dyeaZhWKvKgjzskq+qaYSia84vEaF4NC9fyIQnzPV2fWOKcBQVMBXyPNBjxN8mVhGpSs+xcIenylQ+Ou/LcU+PeTQJJXLpDlAho5X9nPzG3/hlvr93RyuWhHAtQNI12MtGQ1aOhV7Eeq2Mz44yxhTX0NyFe8dTvU8GQyiDlRWfuPr1yPKeOyUPKoeELh9iGC5eWxz02h44r4zPoN29e/cTQ8AG4mhP4pLpMdgwN+YTQsAEEagAsVhkbCIAQhMXPm6EdCmdVkNazZpMB5cy7E+ZDPz3/s5vyo0DeL7FAqXWwcE1ruP9998nAMGD++7du9mD3FhKy1fEQMhtzwOl/iHT39uVSklNleNVrCpdP8+ybFvtXdq+ADj2zo8I/iSXSKtapoiC4dhkyfqmYCBRqswEMGD0rKQa6vvygZ9HDqDm8eG/V9WSclgPlvcK+SzEQzAC8YezfsHpw4NElXyelgPy8uKXapLmkWtYVBVxvswSZxysVprTyIcJHmyuxB1BF/Jf8hrSwsPV8jOD4FIuTs/4MKkUfQJBsHgf/uQjmQYzVjTBwIkHGAUckidjhwEUgzj2W4UcWhUF5xU5gFgHt+GuQ/yN3xpwN8ZWrS40Jwn9gioqN6/fkDt3b8u7775LAIsB+lkG0IAuVHSsiIK8l3gh436PoX5s7/Kiz+vk/PxSPnrwkNfCw8VVrur6LfKyAO1lb6+XXf/nPQS8AYAbALgBgBsA+LLj5Gf5+w0AfMXevHfv3sqYvix06XIAn32gcWb5HABoYMNmUlSYRhEBIPJuwNDB7LmUz8nTx0eCHOybN0ryb/7+3+cMfDzsUwAATIWZJSxEwBYhtAhLEs1lU8NpzrrKZQoL4F4/HAwkDkMpFjwyC7dvHtDnb7GIJE4izb1D+LdYlG5njzwcwCHsBpb/P3tvGitJml2H3YjIfX1r7dXV+wx7ZprLDGeGhMQhDS+0JFiG/9p/LNuyZdMgbAiwYRgCZAH+YYCiAVEgKdmyYEmAAdmwKVukBds0DYoGKQxnRrNxeqmuvV69eu9lvtwzIzIijXPuvZFRb6rJqa6igdLLr1HI7HyZsXwR8X3nO/eec5M5k5Jb1TJ9paCQRdUM2FpQNFKrE0DSdsKSo5FEjRJqRQDIJGsAzfoegRPOv9np5IKG/DKFQZ6Mjc+g3gW7wTJtWSArALFyTYJKQ4JyjexhihU7bBnAFkRrQKqqYDXAxqsnzbuC1kvb9fp3ZTwY6vfiWI4fnxA0vfe9D+j9B1AKt/rlasX+bZeU0UQOIdXPNbW+UdsXXS0fHBwQDJKVdVNrOvK38uuE+wl/d1Do985P//RPyeuvviZXrl6mqAe5ib5C98on7C8LAaP4PNkiLCRgXzMcEOzjPsExgQk+ODiUmzdvstTcBzMkWCtD7XlVeN3kAD7nYHHm53/13/mSMoDIKTWmCPcJnnU0ZwKxoEIqAtrBfc3pKsFfzr0q7R7mJS+wYc4QQqRkqWxSsYUEzNjrJgKpm98gmHNn0ZAz6LloYMT1foLbgDJ/XDDZ7OH3xU7TzNk9jcXkqm7JUhRsIG0CDayb/x6RACjmfaGDV9yHPo7yOSrrQsibC+nw/84knmUA3erEF4E0o7cO4bNu+XzOeDKH2/rJcyIRjXARCE3oxfokt9cpSWIruThZSew1fFe68ETuZb9/yvfvf3CTr7du3ZJv3tZqGfAG9WfNRTmXLlxkdAYNi/LtrrKjKATAvgvSNQNoTCCsVeD3idbvPc4ZYxd58LztfFGGs95UC56tnT2+1hvN/Dh8TsLnSCHJm1WlcSYQjKTPKyswa3qryuOhHsfthz25eV+Z68PeKGfrXA9SLYn8zJ/8Ev/+9ls3+BovIALRbzTaLfU/I6OqDOD05GGemw1tDIoPoIF95bkPxnI60P2PpnpAveFEYAXD38eJQAjCzzcM4Prabt49Ww+8+eabBIAu/FCgow+oM3/FnD73+DsrAvHQsIf7fLIvY8BdpXL54j5r6QJwHR4cyuuvXpS3XntFPvXm6zIdwzpkTpHIyckxGSYcB3z+IExwoOHqUvcFBABMlimNaPF4MYRbrUm7XpHBsK85Z5EaJ6cCpXFZOu1dDrQIj46Gx6y3G8hS6qWQABCmtK1alWEG5BWGZP1UHeyhIEwuAIAsmh5p1ZKSqWDToJXbtODY87ARlLw0bNb8SBd+IBHdQztpWJZVUJYAA1ytJWWEOkpVJv8ilAOVXlrSnEj9ZyXPzAC6joojALBgIiUgi4e+65/eZgktgKbbH31EXzYM2L/9278tcwzcYSDjyYR+gKjnuVVt8X7AtjDZwKMP5w+7Hc0DVaDooSsMSjgn/MbV2yxXZaX40P9acq/B7f2ZP/On5NqVq7K9s6WTYwowbWbXTwkBo0Qdy9pJSrAYE3giWfyUoT7kAh4eHpE1xvneXGitYgfi3tcbAPhsY8Mf9e1f/PNfzlXADtZKUZD7tLFKjYWIke6BNjzRsBrKHQauTsL9a5OZA0BNzNdJGya6jYaGLF35W27UpFJTMQDtljBeBcJ61mgYw9YmyGZ6DhBgkz8WnR4e9PPcbVbz1AHeOxY+dH87z4fG933yh+2Qi0jgDQrzeP7dzt2fIR57oyET834rptR4usJaBBKtny0ubDV0qw4Buh33HsSYBCEamrPsOPe5HSHAJI8nQy6snikcWQNTBEugYXYAwuMTdQ6o1JoS0C9BZGjqVIhqbt5URe4fvPcBX+/ffygTC3Pyep0RgSDV5oL5Hl6/clkuWgk4COt4jSqBNE380TExCHz0stSEEMeP5fhEfSO32haqRjqNl77LAqYCoLW7GgJudiHu0/tiNFWhGFpqoX9c81wJbmkiiAL5NcA8gPEWbTDTvrt7OCAIRHt4PJSBlXPLPQ7jWL7yUwoAP/fOW3ylP6vlMwelEr1V0TwEHManuaApiVOZz/Ven001BDwczcUFIZO5/vbwuC9TCwEjZ3tqYPLxZHFuibBze+K8I15A++xnP5sDQAd67vtHtasJOpjrVZhUHQgSTC1VYJAVDDUFOWVYJQcwAha5vN2WMkUYK/nCZz8lVy5flNPeCUFFmblhNdairbOOLsK3SwIIDLqoz+teeT6o43iwz61OJ1fgukIVDz0GSPwegyG+i+MlAOy0VMGcLCTMlpIu5/AYkXYtkgSrtmQuW+2a1CtlqVZKUqq7030oJQg/WDkDSjD4WWGSqUmNVi4VDv6jeM4BmqbSSUKGDZMN1dSsSqLhVKzMPbTsYDnDajsqMRxbKtclBssYlaTV2dZ8wCzDao/nhHrCWQSAWJEwAjiEUbSCVVRgOD0+op/fMp5LtT5h2HcVL+XBh7fl/t0H0j8+kf/3d/+J3H94ICWA3FaduXSYQCurUm7BA5ANYIfrgYkO/QrWzfM/8TqCMTMYT6v1if5vWi1W//zzn/88LV9wLa9dushr4YwF76E0VYsdqzfKygPI+8M9GOjg6EAOilEMmrPplPck2MjT47588MEHzEG8f6pgAEassGBIIgzF6tnolho0jFjlEsEX8CT90SXn/Nz8NZ/wlSl66cayDQDEPbkBgAQ2GwC4AYAvZBR9to28dIPms53eH/+3AQCV5VHWz0NlnjRfnKQx2brPn4dkMXFDfct6ubb6JrCJtBpDtpqz9E64nNP5fX+nKz/yzpsyn4zJUOEf9o2QDlaQrap63zlbhP3jPcJ8WOEiJOxAgKGQsnpmObvjrBO+6+DVV3da97esOYPxXCKwTatESpJJp16SOStNTKTbqkqtXGJIOqwqowfmLqCYQ2v/riTiyrxSaQhKKIEJxHmDDWMCea1m5ZO0rBNBG3MPA1bp8DrCbrHDc0LRLAo6wPjVVfgBMFipc+UIQDRixY0GbWLSMqwdmgwVY1XfbHYkCmE5MJVxfyC1itrXjMb36M0WT2Zy972bcvDgofSP+/LVr31DDg4fc3WalEJBCSpWKGFUWhlLiDtwDfS4F2Rk3ezZFwEwuCEDWFHBDT6vlcsM/2D/KPH37rvvMp8Qv+806vn2cc85G+LMpk8oDgBlpUbTfn+irBiqDEzGCjwBdA8fPJKvfvWrBKd3j1OZLecE38ixTBFWAjvEFb+Dvg0AfN7R5a/9+39iXUXI2A6GdY3NAzPPazmZ8XlDC4zBANMHUQ8/A4PspQmN1YDIJy+nJjFN2NHgUUcYj2fJqo84MwadPK45GlTlzswVvf/cFqSK6kDGJHnotRmt7VfwmW/Xmf+iPZafOBaDeTi2omkaPCdbyHgutfd1nCgN5/ezL3T1N27NYotECyHjXkdDiFnPbYtlKdEwNroti4/heB0uPdTtvocrMYJOZIWykzZ1rpTpw+ITinq0JMnkpKdCjNu3NGT/4Ud35eFDFWT0jMWFVVbjklbAAFuLvkDzyADOsW0h2leuXeGin8dsIXmQfu2G7n+rqaxgu1GS0OxVYAfT62nodaejfYOc6rCkjC/GRqTN6Oe6HTCAnS0VBUFIk9sT2b2GKI9XDSmmA6BIAX9fyiQ1dnRk2orjccYqQ2jHw3nOlJ72lM0enh7LT37p83z/Q59WBhAFY9y6CA4OsG1B87BwNRtJYkKf2WwhMwvzjlHTkkKZWEZmPTO38HBvMJWJncdoHsvIbGQeDibnFged2xPnXfIC2rvvvrui6WqzmbNuVJtauTVX32IwLuZVEfhZtQUAQE7iyCezXCs8ZPhOC3k1cPSIJ3Jpf0duXLssFVmyzA/CrQgTNJpNghoIIcrZgsfhwCMHGcsl2SeEhT00TVPiUikfcNyLz9kp96IjIKnVOHCCgaOybjEjAET+HwakbqMs42FfZuOBdJoVAkBaipUbBjAjhmDJHAUQldQNAKLWr5aqYs5bqOF07JtMY6Y2LAwHQxDCPLtpDgBzNSC2i3wclGuDJq9U4/44yKWi9XSXmaTcdo2hj6DalnKtSYCIUE6jpUpcsHsIu3dbbYK3wfAO/Q8BCh/cuivHB4dyfNyT999/X04GQxlMxzLPlsw/xLWPR4s8JcBzmLidwYBAFiDLTbqp9N5WNSby9wDyaI1Trcobb7zB67u3u00hD215YI8Taek4v38c+BUZMc/fwXeWiRr0+t+zRIVIsLah/xiU4scn8n//5m8pADxJZDgayRw2OKhPHaYMG/G+eQIAcurIS4I97+P0R4lA/lljAP/6z/0UZ00uFty+J83yfD+o6TkRTydUbaOVrf8J4g0gAjAi79avBl4VUHit4DSvd+shP4RnoZDnbywEisVTipxa1CHehkGzXVEL+yLtw3PJGtWKp8fl40fLSqrxXkZpM8tldHUt7j8Hpe7rBvWp+9Lx+wYAi558HoaEaKm7pYDJmz8Huk83e1/X0MVz7yFgB4Bg0btdBTkYZ84aQWP8ic31YGk5Y1q2UqfLbAXvQd2X4RLJ0lBSM3W+c/ehfOPr3+Lfv/HN7/L18PBEMvO/cyNoLDbHgQIWjN9eA9oXdCgb6f56iNTsmknyq9dUKVsJU/Fyah4ChjE0curQZpOhjIaad1gJtW4ucqJrDV0EwCkBlYzQ5gaS6+2ObO1oH+ParGtDW2JfupRlqu/zezJam0svTg8ksWs4WeqBzNKKJKGGlceLlRwcqk8goldoo9O+/Oi77/D966+9wld4T/q9CAC4tAVOrsrOBrIwI+jxeCrjkT4rE1MBT2eJTM3/j+JAmkTPZGIgezCdy9Cen7sng3OLg87tiesj8vzti1/84so9/5xxcbsObN3DqkWfP8/FcyAGhSYGRq6uPD/NWKH56IhM1E9+8QvS7bRkcNqTr/7u7zAc2Gk15cKlyyoaWKidzKKvvnM0BbbVJFg/lAlDc5DHPDfYsJh3IQZcB584fj9eAAL8P4QkAJBg3zAQI/G3TF9C5PxVpBZlMjw9kenolMaeAIAwWF5kappKcJepgz4mhGary5AvwBgqEAD+oEUNFWng+7SAsJw8hjcjzf3DoA/FLUUcmZop8zfMZwlJooANTOADyPLIS0kyze2r7eyyhjD8AiWqS7neJFuI30xmqMqSSaveIOCFwS76oV7FCnMqo9OBxMOJHB8+lvv378ut2x8x728CO55Wg8cynk1leqKJ6zhWDHJ4j0kO1RUA4nCfeI4gJzpUPAGYbzXkZ3/2Z3nt6hWIfjrqiRgFOUvCyQGqXgN0fg8V72QP2buII0Mo18LBBISLWPswDPOKJTAB/+ijjygE+fD+QO7cuycxAF8gMo7nkgXoV+RbYk/G0hRc/Z//STp/IeANAFSQsQGAGwC4AYAvYgR99m1sAOCz99kTv/iJn/gJToM+IbtiEwACky1CtC7scFCA7xYnZFp0YFqFOMKYHTCADH/EA7J2n//Rd2U8GrG4N6j3S5cuEKQgdDoYj2RwOpLRZCzh+CAXE4B1AuC4fFnVotivh6sBQHB8pYKJtR+TVy/x/6fvn+UKglVACBOWM81qmVY08CIM07lMRqeymI6eAIDzVJWBZDkY5kXuWlWqCMOWKxSLcEXsoR+Ggw0wWvUPF5E4AMT2AAAJBg00Q6FH2xf2ZMCQzCIBS8a6HwouK1WptLtMTqcFVYRE+CaZw2UWynQGCx6tkxwv1jl7i8ljmQL0jkeyGCkAPHj0UFm8NKYHYL1dJ/g7HQyk/2ic271AaYvjxLWEchjbRgOYRp+gr5NSlbl9169dka985StqiWPAnOEgMK0G2HHusOzxeylfRFhOJ/ZFkGeAj6zfSlXOniuJyhP4f4QYcX+AmQQoHI+HcnR0JL/39Zvy7e+9pyHgACv4JZlVsIEEztZcuPCcj9B6exb2+7jt/bPGAP7tn/8XebtOZloHXBdoJdoKoeE5Q8Pf4POINhsrk5OlqUyGKjrAe/hCopWMpcL1BbuPdvr4iAs4NGeBwao48HJFLlIf/P5Eri+q4vj+8Yoc1aqxerCd8m25T2ALzLpX+AhQS9pDmlY2LkQurx6Th31x/3n97nV6AeOT/B5TR6yMI/4frgI8D6/+EdB4gG1hIUEItJDSwf6oVOlxiXbl6nW+7l1ACUv9zXAyybfVhNrUwsI7XQ2TgulHwyUpV/XZRdGL+cJSKkSvSyol+c53Vd07nC/km999j++//b3v8TUsVyQ2NvGkr9etu70lg5n2McZ9Z0rz0nx45oz5RaWmmnnh/fBnPq3HGa1kB6VAsf1MhR+7zYrs7eh5DHvHMrGSlkFD+0AtsPSY0TA/FV8xLmMsQkMKigtkXACD73tY2CurcE1qqu4gm+RCIq/Hzv2aEEfHWt13Yszco8MTaRlhsb1zgX+jQt0Y6qWN4/jc2dol0nbcWzeJ83u1d3LE35+e9PJa687czhZLATPIv49iGVq4+OZwdm5x0Lk98fwJeM43AICe7+fAhcAKZdPM76/I1vAmNgCYh/FSFVgE2bpEHBAKBsnrO3VW3cBg3Ts5Jvt29fIl85ULZcgaswO92VeBXO2ocMO94xBSxOCPhxYPP4Cc5+LgOBo1Vb4W1ceYaAEucXz4PkPFVtEEGjjkjIEB3O22CQBXyUKWs6EsZmNZLqYUgVQg0ghFZlYDEvtG6SGIPZjvV0LpNwWAqO2rQCWUFYUeCgDZb6KqX/aPlamiQXRJS+plloekIFPDv2hrAJipGtgGP2k0c/VvABEK9h2UmD8J+4YSmEaBijBjPwKozcZHsoBZd5ywzm//pCejwakkWSKLJJagFEi5ViYAxPVZDDIqa9FPrvZG/+IzbNOvgyt/qzsX5Pr16/LmG68x7AvWsRJFmmuJvEK7PzyvEADQgV4RAOaM3/cBQADhdW1f1BdlagBAQqWkaueR5pRin99+74H8P//4t6kCxKQ1T1cSVNC3YT4Arx+brCAGeb6H6byFgDcAUNXGGwC4AYAbAPh8Y+cn/fUGAH7SnrPfffnLX17pCl2FC5ikMfEX87J8pQJQ6GpQfAZQRuNnMGhhKLOx+ilhO61mgy7wnUjrwAKUYLDEJP/o6HFu9TIZjsgUIDz3yitX5cZWRkB448YNhn2xLfy/M38ANEX1LJits6pKHCeAI44R7CO+D8CA7w0GmriLsCQYQKiAs3guk9MjVgMJV0vaE5Tp1wfg4LYuJWlw35psjFwUrHgJLLHSZbg2kxoUuwhPRpFUUFUkUYU03evNLw/HgRU+QWNF8+4UALoPWUhFrppLw+lfWQeeBzwKAW4lIOhD9QO8DsYT2d6+SIYLCll4CSLvDUAQKlok2jPnDsezQq4mWDYNpSJPcZHAB1BrDx8/6LPPWWvZKr3gPcAV/uG4AMpxHDj/C69+ijl+qOfsDAoS/P37YAA9ZEx2bz7L8/9cTITzYxqBJW75ooM5k9NZXsOV+alQHFJ8hAXHTFfv6ZIKYLCUUaUr3/zOd+WjO3fk8clApglAYEq7HfQb/QQJqPUhCAsMzXM+Tvz5WabvB9nmy6gC/ps/98+RRnKvR71JNW0EzdkZVfPrPYyqIGjlUkmmI2UIkZ5Qtvw7zxHENpHewb8PhrntiQs2igwg7l9viBTos4JcX62k4Ncb5QdrNRUbFBlArxUcLtWUnfdEhIWu1x9Wug2knp+HuxEwUmKzEA3e7V7yxV4EX8/QrFZwPlZ5w8dUZKVmxqy5RQiYfy8hWa7C71AZsXpDX5Fv59WFYDHilTGQY8xzW62kWlKGb2w2Liuw9WX9/WK+lNlcz206s8oUk4XcvP2Qn/3+P/2WhLboPOop2/f+7du5BU9mBoq8vnVjEDHm2eK1ZiwnbLRg8s7+XMH3T4/pxz6n+XIST+Xilvomtqraic3ySqJM759R/4Q52jzmUJlG9HtuKh+o3yf/bvccFtouFNrf38+tgPx6QBjieZx+DTxnXPtmkDNzHi1Ayg19WJkzuRIwcWhIW0IbjmZSs8hId0v9CDtbO1yco+E2mloNYD/OCPnaljeLhfnUqpJ4zuOgdyK9nuY/jkbKco7h0mC3+nSRiRHD8r3+RgSiN9SmPXMPIAfQQ3kEJkiaj2HdYkyU1W/FhpkYbWEZGgAvkaidUOFHVnAx5wTO0mEVWK50JIohGNBwJAZX5LNR0IAKEstE+r0eQQke3EuXL8h+ZcwcMoR9i2FDCgsaDYoKigCQfmJ23Dh2vMcg4SpibMuPE38bDhXcAgAiJLHKYjKAs+FJDgBRngg51AC2qxIEHlo6DSV9MMgTBJerPD4awUalXJhS66jPoLN+MP78PgAo0Zo1MACoimXk9ml4CH2mdjwaKlbvrkBWDFurRx9Ap05EIcNE7c4ev4fQBPICMYBxwgwsXoSLiHC9sWkJAOBK7XYQCnY27vRwQFDuDB6uFwZaLAzQ0LcA1gpQS3L5jXeY0wkfR79PaNg8tRJLK7Xz8fzHdDF/KgD0MAwP0wRGZHfni/zYMJk7AETsDAMnwvoAuPAMA3C9fedQHh33ZTSeUeRy91FPVqWSzOOlpLSD0f5QAIge0+N+Ea3IAv5RjGBxfy8jAPyVv/AVzs5aBlEBXoy60jNVk/rkjGvp5dYa5tnXajbzcPDx0WGekO8ggh6AHreLVUmPhpxVv8ccjHkoF04C+/saKlbHAgUSeNbRWi0AQPMMhFjE1Mp+bMvpPN9PqbxOFchd/2gmr8fh7ghg8tfXOczNliMvhwe7Iwsf4hxSM1Z2tbLe5wpyAC7QIP5irXGAvUZTtncVVHhYGc+7A8AyxlozhXbwCSunJNaQqm+7WmlKaJ5/MBsej7RvHh0rwLt795H8w3/0f/F9fziV7u6+HpMtPmfJkiUc0SYz3TaM7+fm21kEUfAcRWtivDbBBjUp5gX56Tde5d+3WzV5y0qnQX3L412MZD7SsPXjh/cZPUCL2vp3EAAe5udi0FXjudhFF7rad3WpVTW1IO8jLr7NF9Ji7z6X4XvxYpz/3reDqAxyiNEgxHMA6CF7RGsAsNE0H1yk1dnJvQlxr8DLEi1/Jmoajuc2F3OZzxTkYVGOhtA50m/QHAgenfRlEZw5KNUAACAASURBVOs9AgAPEIj27aPRuSXCzu2J53fPc74BAPTwqIf7fGL3EG8xpw3f9Yfdc7UQTiX4yjTkSsGDiUAaAkNMKDgDmS0WAusAVRiHDEsOBz2uEmHi3O225VJzLleuXCHIwMPi1UDcSgUPv+fk0dvPJgZ/WPE9zw0C+MOA77WK8TuwAgRupTC3gQnSRJLpgKbQkkLMEucAUMptFV/UFADiPACQ8aB7P0Gp65NQpbWlfYGSaKzhaxYORQaQAFBFFpDB+fkwbEzDVjBxzgoCxK0VsEFdVckeQsWgD5AIxqDSaOXikZCG0ZFABbgKtcwaQWZuYQtxiQJ3soEGCnE7jcGameUPztXLvyEEjOsBEI6B2M/52lufFay2MdH6uQMAUtQDe6AModp1GcEsVkCHf84AOjjE/s+Gh7FCdnDKey7GPbQkQzsaDUyABBf9Idnmr3/tO3Lzzj0Jy3VZxKm8d+chFaMLKFT9/ANcIwOCfwwA8FnAn00ML91YtgGAWqN2AwA1BOzCuw0A3ADA54QlP/DPX7pB8wc+s/+fvvhTP6VWDj7pej4gVi1uwcIyZ6ZqxYQOkIWJ2AuVc02FpH9Z5aGaZaJhunSurwFUulnAFTzDkQy3rmQ5H0kkqbSbDfn0m2/ID396n2E8gAcADYSN8QqwBRCB/bggAPtHmMjBg7NuAH74ByDoPlvOIIAVoKk02L1kwRAD7GAcAMIIejEdEMwCJLa2lYlEH2BVD2CGc2+0tMoHwzsQZdhqMivVbELQvyEJGWEghGnAyKGXkBjOsNEqlKSkfUcRSAHYeQgI1yay1SeTgWu1/PxdTQufskajKalUNIcwKEsKk2h6CpZkWVb21nPw9Hp7NZG1h6LfBzJfV9EAAHQGEIpqhlhMIOSekHtXX1ORTVlD7QTjKdztNYSM+8MNufG3xURX2WcBoIdm/Nb3iTVN9LsMVy9jSRYIIacElgD0BLLLlOwuw1JZJL/xf/ym3Lt3KPNlJstyS2bwDZzOJQm07Bz+Qw1oEN2l1Tqp/HkeOw/lnz1+vzfObrsIEmezly+R+5f/PR07sBjwkOh0PqcVDxquy9m+uHhRmaWd7pZMh/q9u7fvUJSFhrEBDVVrHFCAd/IFnm8PTJz3nzPHzWadqR9oqASUL8os/NxsNtZqdGO+uU+LdkQFphEMoH++stAlSB4fR5A3mz8vripHKocxZi5UwPNSsfJvZACNHfNjBkNXrCrC46GQS0OjjVY7DwG7BQ4WfEZe6nNhneLpExhLPPzuVUwwRrhoYTiYS6+vjNOHN+/y9Vvf/VDu3H3A982tPRkay5dkymylGJssTA/xBxpKNB6NlUEEY4vFPZqH+eEBuGvl38rw4TRRzvVLeo0+89Zr8s4bKmwZHGv4edw/khqMSEXk5OhAhn1lA7evaX94Tjf7vqDo9+uCfp3M9DjcrQDvcx/JqtZtR/P+8rGIx54muQgkDy/Hy1z4AZLWrXXcSxFk9dQ9L82mBdVpOmbVA8/GirG0vs/JCvZoSg5gPzMLAbtnZa2ifrXsm1N9NobDsYysVNxJfyz4h/bV+6fnFged2xPnlX8B7Stf+crKaXQ8RA6wHFRp+GatasVN6eEPzwEEUEIjaCJIWgkAILeXqh0Kc6/CgPlpqMKB72ICX82HUitHsr+7LT/y2XckW2iNWQzkHu5Fvpnv14GqP+B0cTMmCZ/h4caEhPxDNzB2UIvvYRDnALBKBcxftaJM4GLcJwOYxjOZjno8PgCa7t41C8UiPKtAD8waFHcaooWpqtq18LzDSg60MFC7WpgloliD0wCgTRpzy3EhQCvYkniZN8w9btPDa1Kuag7fMmXYDEpJqp6jimRhRTJsP6rKEvsLNDSXVPW6EmBa+TgdAPW6lkNlIXluOIZEy7ihYRJ2oI+QhOY2Kpun/RlKe+cCwzIwgnbWGOAek9DTACB84Z4GAB1Q+vXiPYWQzRKPuSqDAeDBACIsh/sI/w+ggZDJ6WmPDGC6SOXDW/flex9+JPceHqmHV1RhODgGH/3HBAB9cPfjzo/fQ5lnntfi96fT6Us3lhUBYImpCBp6dfUvKrGgMWXDmPq3336bn3WaDdbwRrv9wU0ZDhRIuJk8LIzyvK6C+tfNjqk2NiNcD/Xib01TlWo+qXa4K3+xICxXNITrCwru0xZvtRXSMPQ3vDb2QLpwHJNznqPqfyN4tB9R+a5h0pLljCEK4OMl/ubehamXvrPxJN8nlb81aXXUBqvd7uYhS982gaCbWC9R5UgBE3J4/XxiMzH2442iCs2F0fq9NXj4g+99yM9+/xvfkVJVQVZUqcnhiaZ7dPY0pH5wdCyvv/0pvv9z//a/xdevfu1r8mu/8Q/5HikrU1N46/Mp0m22ZKejlZRCCATHus2r+6rSffvGNXntui4ITh5oTeHhyYG06grQ0sVUViZ3bl/WfDr0h98D3K5dMAd1Saq56XpMcW4Q7SFg3AO5cbf5R+qYrI/fEilNZra8sPsL54bQL1qCCISFkB2Ez+ZxDgCnMwVtsO3C2M9j7nak01bQXKmbiTVqvedVj+aysHxVB4Uct+04/HwCgWhS+/akN5CjY+3PX//GnZdu7OCBv4B2bk/8BfQdN/GTP/mTVAGTzSoAQAcAeUjPJmMMyv7QOUNIMAWAYZ52mqC/5INar3X4ICJhFt9HDUPkCnJFuJhII0plb7srF3a6st1uysnj98gwQVQAAIj3eGixDReheI6dAhYNj/rxOgD0HDVsA8DBa9O228rcoXwdgF+zUSEQRN4JRCBQAY8HxzwXAJr2zpUc6ME24CwAxP4AAJ1pXIYaGkZ/YPWNxG2UuVOmEJnlmuvnIpAFsKj7QDCH3hk5E4mY/x+BEAYfVDCA0AMq2MWcfYwEeoSJYQsDhgEF5xOwgaghXKnKsqbHA9qTPC2fmoDvS6Gyu5Elr/P80nUeDO1WYmVjkF/nljbOYPD/a22CQgDmnE0xMMBJ+kwO4MqEMU8LATswLDI+UQBwYebPTwGAi3jGWp8AHgxXjydyeDSQewdHcvveI7nz6FTCck2GUAUXAOBK3Jz4xTCA/lx4H/jrWfbKn90NANwAQIwdbgCdg5kNANwAwA0A/IEgzgYA/kDd9PFf+uIXv7xi+NbAH76JCcsVmb569c+SlfqxLeN1eS64+HtYFu8Z9rAybUmkoWSwQVjdQzAyHfYFC3Eobt+6dkHq5VDi6UhWy4XcuLpFNgk5ZV7QXT2mrGSRMU8u7JBIBSSlqE5AU602pdnoMFQAJrDeqLCcEHLFKtWSdJrbXAECLGzvdAX54ePhQCqoN7taymRwIum0T3DIyhYXXpcMNYMBalcqjolKIX0JtbQYBCU1oXcXGLHuPhOvAaSwAqQgplqXchVWMRq2QIhGmUyRZVBMaoeiWM8TgA5KR2wT+YZ5eFhC9vVyqUpjlIEC+4fJA3l8eTUBMATmTVhqbjEfkewuCqiXwRhW6XjP0DOufaTqSO6b3oQI08PCBXl8c5aX0wR9gMhQSqHazWCb8LkniGX4LiMgjUrw+4NCV1MAQgIv7ZflfG3sjP3550V2l+IigFxTVBfVwclykf8GoWCKWOJYjo4OyVZuZWO5fe+B3Ds8kdPhXL5164Hce3Qsq6gsceoAeJ32kFeMeMZn6SzQ+6N+fvb7ReD/MoaAf/Uv/Aw5a3haRmZxhAUi/DzRnMEAW+eszbuf+xz/hkXM48MDvr93+47MJ6rYdd+42WScM3wC0ZUxiHiuuc8oINur94+y1Y1mjV6k3D5EZxb6deFHrV7Jw3/FRSP8IdHKJsLQ66jPAJpXD+E9aNXa/FqSeTImB2kbzkQ5Awhz99w5ADm+FgJ+YoFjz7yWmlSla7Ot5wnGC6yW9qcFe4NA6lYSr1JVY3a0ifUhrkG1oSwbxiW0eIHSicoe9QcTOR1of9/86D5fv/mt96S9rWzfpauvyNe+rRVA4J+J1huOpNZW4cK/9LN/iq/f+NY35c6BXkM8d/OpVevQX0q7XpOOiW5Qbx1WW2i7xtLud5vyzptq8F+1sO+4dyCTUy3/Fk/Hsrur59G4qMyZ11nHe/Q1FrloeboIchHNh3I+X89RHiKu1tcMYHHB5u/RT3lqhimYca8kVjIFQrKpiYtctY1xPraIydTFHguEkk09juiOhZ09JN/o7q4XyzDKt3u1ZEpuTA6uYncmHGk7c9s+2NzBUPv7b/2jr51bHHRuT9yesed+cQBYnGCdhXFg6BMzw4E++cJWw5gr5Kh5kj4mf1cFQqCxCNTvDrV/CdriuSTTIUEfBoW9Tk0aJTB5mVy7fIE1HwHcALCclVSFrDJirtjypONG24xZKy2CHDxgjXpH9vb2Cb6S5Zy5YQAi9UZVGtU2t4U8pd29bSpiJ6Oh1EsrWWXwyTsmAAwzFRls797QkCHOV9RKBgAQx7jkQ4/8vQoHZ4ZxCQABduQpABCVKDTfDw0gL7WBTxlDTCZrKxgHgFAc45gJvDMPX2lonjmGFsKF2MbDUTCLdlUgASAA9AogEYORgkaEjHks6N+gkiuTsZ01AFxIHM/Utgd5k5QpBwSAvt9VqOAOADBbJiQ6ebxkDlXwEazW94sDQAd+6Au/59jPxugyh9QAYJ6PxcFYt6l/XxtEA+QTdPTuy9HJUA56fTk6Gcnvv3dLjk7HskhXMk+gqF7nb2FfrgJ91odpAwA3AHADADcAcAMAn3XkfHHf3wDA5+zLH//xL5EBdIDlYO9sgqxP0ACAaEWTBCyUHQwCALp9C74zTxUcUBAA8AfLmGQhe1tt+u9VVzMpSSrVUijvvP2G7G5rXWIAFp/8wdg5AALT4+FWHFNnu8aqF41GW6tylCrS7ezKhQsXCJAOHx9IHMObsELQhpAnVlQIFV68tE8JPipktGsQqSQy6h9JMj4hAwgA2O5eztkmiAbABjBvDrmO5vQvK9jAqDVE0Nmz7wsTf8H+sTZwTT24GHqF4bODnHC94tQ+D8ko4DxyBhA2ElbLNl46k2b7s7AutuxJ0QwXQwtidEW5sUWgSIPoTOsLq0ClodYSrOUKZbKFnZnflEkG0JbF7L/5fEbFNe+DdKUAELmhrGCivCCAMpL3YdUCthA2Pwi1FwEgQXyszJ6zIA4EVeShgM7/aZhfV/j+PWcAlflbW8RgxcztHt+Vx/2RHJ8O5eGjHgHgLE5ZS3O0gO+hVUEwRtJ94J71UTrvAPBv/Uc/m/sA+vMPFno2U3bJmQuwf1D4o/3Qp7UKBMy8H9xT9uno8EAyY0uQg4WGMD6tYJgLNpeKWZB4iUjcV/2+1mRt1pW9xj7mC83/whhUNVsiZx/LNbVu4lNoC0q8z+/DmTLLfJaY1qLvc2/AckRmG83HR7CH/h6WUC7+KDI+LujiGJszgHq3cXFbyEXT/ZWl3tT8MYhBnEnyVNKoBEZV2Tj83v3ovL9xPu3uNf7drUSGw6lMTUAwnsZ5ndlHj1RkcfPWA/ng1h2+f/Ptd+S927f4fmqed52dbRnArJ+koC1gZSVzOyjkbLr4o25VX1q1qiArmQ1534lemyu7mt/YqUfy2bdu8P1WU9lPiEAOLR9wdIoKMMoAtq9qDh0W9c4CuyMEPod3IhrO3a9Xf4CFv+7fn1U6XrinnzGnFCl6Pt5ifb1LXnEEuevGDoOBg5sFT8mY2Ra8J72Os7GGLD2pZ84x3SuA+H5GUxXJoWH8Qb10nqexrFjYeu5fZtYws9lCYCuGFsepzKZ6HL/0v/zuucVB5/bE83vrOd/82I99gQDQ89awueKEjEHFB0gMNggB8/sADV76yvLU+KCZkAEPFWxe4C+H7xG4LeaSLhOphCvpNGqyWs5lpx7KdgfJwk25tL8jjabmt+HhwMCNh93Dv8UQobOT8VLLgtXrLartGo2WfOYzn5PFHD6DS3nw8B7BH4QkUA5CUQr2D79HCBihJrBWrSosWBIZ9h5LPDomA4gQcLt9kWCIjzHwWUkBINg/5PIRsIUVgrxGvSVpDvS0DBTYO81jbOXlnZgDuFIPq1k8y3MMAfIQwmVeXUUrmTB8WtIQL79vkyK2wWRmAMNUBz4MMk8NAdeV9aRdDQAbgCEMpetdLY22Qp1cA384I06cmaTwDFwlBIA0gA5hPq1iDGYN0n4GuaN+/4BFVYAKEQhrIadrC5fU3qMC/dMAoIeyCGBN2MM+SDTE7KBwmWpoR0G0/g3fcwZwL4rlw9v3ZDRbyEl/JL/3zfdkskhkNItlMI0FIJrbImhVtvOTtOcFgMV9vowikL/3n/5ZdhwWU7mHYwirJZ3YZgbGMFHv7Wh48ZVXFJgMTk/l/h1VoA57fd5baKjuwt+OVSiEhsoxnrjfaelCCqrJEyubtbutgGJ/bzsvn4V7zUO/DqZKVVTvUaABEOOTspfaygr75D3sghDzBAQIzQGkhYIxlnhYj3XKzefQy6Lhb8VcTymbObABTT4/RaNoDjT2bMP8ud7MTYTd3qrV6uSAA/t31bWHmrHQLVe0JNnDR8rQnRyjqo+BhwXCpHoCpwMNoz941KNiHu3wqC+BAe7hzIQjo6Gk1iGa+mLg086DjgwWft/q6DVqY3wy8CKLiZRW+rsfeUeFQN16JJd2dWEwH2oJtMHxI0kXGtpEjni3o3+vX9KQOO4D5HejoeSbP4MwSUbDdXNFeu+0T3GKf45XLtzdYNzUwhyn7F6bjtO8hFtOgiD2YwAQXo2JLxIMfaRByDKdaDUz7W53t2Vrx0BddytPgfDSdN/4xvfk+FhD3Um8yP0rUTULDWPczMrc+bF51Iv9NV/kAPGX/8HXzy0OOrcnzrvkBTQAQA+1+sPEUKMxMXg4dJLUPMHYXPfdpZ/soaj5MidlY/wcACa26lMwAHPXpZTDFQUfWTyTrarI/k5X9rc7BIKlsuYf4vdu5+JgAKdbDAvjeGYJ6soCjJSkXmsKJPdvvfUprnwBWpDrh1UVtoXjw0oVKytXBIIBRB4gcgA9BAwAyIFrlUqntW/AKpAwUrEMwqtY+QPgYfIoVRrSbMCypiGpqbvc4R/HiBABBm16/CEH0MQgYEsm80nuJ4jzIztXAIBkzyJV6eL93JiSswCQodOPAYBBtUamjoAtUnEIJhnWEaZ5T4kQ1+uTlht6LZcwYV0pkEbFDfg1OvuKEyGoZEjb6j7D6sdrG69UhZfifvEqJBa2hX2N318+OHt4n31QsPbh/pI1K8hB0NIQdOWuDwF+r6bQiVTnp/LoqC+L5ZK2Cb/1u79PY+g4RZ3ThIo+D6VTvW2VQZ71cXpeAJgvoLRqxks3lm0AIKo0bACgApINANwAwGcdQZ//+y/doPn8p/xit/CFL3yRDGAR/DnzVJyUMdlTms4yYsj3WlPrEH54CFmFAMpIQSiSxJM8SR+kOIyIwa51WzUEHZUBbDek26pLq1YWWwznVD+AGhgGMmGsyIGkat0f/s0SLZmGQ4LUHvYvSJwGXQ7hCY4D+YT1epWgYzQY8vjxGdSjoM/q1Yqs4kkuAgEARJgaNjXt5h5DmuyjyKxU4PvHswQog8eUyvwrqEtchQGzCjBQBg5ADW70ntRNYQaB0ool3KbJLAeABHsAs2X1DQRA1JCGrloZ8rT+fRoDqOINKwdVEIGsyspCIO+vXGnQhBrHEVUVAKo6GVdDz6rSqDP8i/2hf7AaZWK51S8m2CwUF4EMxBlkLhQQ5obgpFBdhIybM39ICLcFRhEAFu+7/H7CaniuK3T/uzOAujhZB1pccJL0Hsl4MiPrB1uG3/un35V7B4/ldDCUSQxxDdhNVK1QJtCZoGd9ss47APylf1d9AFlC0pLX8cwNzQfQQ3EXLu5T1IXmYd3BaU+GfbWxQKWXlTHbWKARUEzXIpBKGJDBRxsPVUhw2j+R7paGQbstfYX1lAtCcI94qLDVVhYJDGAejoWopJDkj7/Xs5D1sXmcWFyY1YvniELo4s+Ih4p9HOJoUIqkDIsWhvX0VSsFuVAh4j2JZu4mOfPE3xiLhDGPLJ/1rWtTfJ8UjxlTCkYqFziY1xzGyNt31GPRm4YMLbw+T2RiJeBcSDAaxfJPvvYNfh1l4FrGXrnlyVH/VOZWhcUtaIbjkXStSgkEOXB2QNu2/obIb3qqIWYUr9zfUmbw7deUBUb1j+uXlM07PXnE13HvsZQiK0836EnHrm3H7GJwTT0NgAUHXEBjK0EsAFEJBQ2+ed43zgrimjtDzfrz5he49olFipDdAzbHrcJIZsZqn45GMvcojF1jCD8mVuoNpfnYBzt70ja/RIz9fv9jfuJ5DhM5PDzk+4cH9xllQdsyBnBvb4fEBBoEeGhId3l4X70aSYTYOf/Sr20YQO2pTXvmHvjSl36CPoBP5EEUarL6Bj0Eh0pGmpdlEMgYQDxA+BxgEBMjHkQM1tWSbhsP2woM4Col3wSwt9VuSG01l0YlohVMOUBOX4tgwr3/MKHogNjig+umswxDgoGqVnLTaAwMmgdYImBBDUVsp9vd5kDL0mSzqVqnMIcvZegJApRalMliPpHZqC+9g9u0hoG/Ya0Mvz+1yEG9XEwAHExKZdq7zBaJdLr7srOzy9y+qNFQwQjECrG645erVdne2hUM5MxrpGgj1Nq7cGcxQDun75SCXDeU1add+xb/ZqnmuEBlyPq6VjqOfy8Yo7rRNH6emcWPij9q3DZAYKWC0DAUwGWGQ/1423vb3BcAVqWkrB+ug+daEZAT3GqMDAO9LyKK4S5njn2Q9bJ4gZmEe0i3eI/5veh9iL+VTUjkfQAGEH/H/QAVsFvVgKXEd7oRQloHBIFg+z64dVcePj6WhweH8qg3ZD7gEiHlFUpzrQi40XyC9dciQ1d8sD7u8497+M4CxacBx/F4/NItZjcA0HL47DnYAEB9AjYAcAMAnxmIfMIfvHSD5ic8zz+2nxUBoO+kWAv4LABEDlwRAOLvUAEDUJFNcYNTVHyYzSRcaek3lgSz8l2VUJgH2G5UpVPOCAC32k1pVkvS3lIBCECQ+88h58OBBcCgs0P43jRRgLl/YTevGIK/D05H3OelS1e4mgYQQ9Jsli5yexkYKmOV5SFgAMDpsJcDQJQ2q6MWsNUxLgLAEIXOazWZz5aCAuDdrV0rx1Y1AAjJvtrHIDEcrvBksWDXlxsvwwZGw6c4ZobJDQCCqVCRCcybFWgxzLlUJhQAkEAUbGRmlUiYR6XfLQJA7EMFGxFrBLshNRhAHgsY1Cziyhlgqr27zX1gJQxA72CryjqoWgGGoXPUUgboR64g8xfX/3AcmmenzRk/fD8y5a6zen6POSDE/vKcMvRBqvl/DsycWcRxQGjilkBuCBwuJjIYjglakSD/8PGJYOX+/gc35d6jnoxmczKAGfoYxtgA0Xny/zofcAMA//Bh51d+7l9gZ3kpSbzHM+IMiz+zYG06JgKZT1UIMB6OZDJS82cIh1I3353o35Gm4aICLMQ6llfmViOT8al0TShRqyqAZ3qJ1erFYgAeoGhNyyOjnZIl9sM+KTAxgJ9lFeWBvbbsMs5rRuf3QahlE7krY4cYkbB8uUq5mtfwDcwWB88mPTqNVUxDZQZ9P5qztrY44fE2m/lneG7d+iNfcDEfWLeJMcPFH8tkbQRdrijj6hEBMI6x5QBO56kMhsoqId8P7fhkKO/dVOEH0kxmS93+0Fiy66/dkHsHytL5M40ct1Or7gHWv2YLKbsaMhudynKmTOTl7a68du0S3++0NV+uUy/LflfPfTxUQQ9EeJJp3iEiCy2rJRztKSOKRf7aCkhFaXpM/tyu5YmYH4qCL+93VDBBm070lYtyY2njWOu6o8HMmf2xiGUw1vPoIYowU4bQ2VEsJl2EgnxANOSChmaOjhSgPG/RjLVfv/5WnruJXFY4VaB5DWqkLTUami9aNipwMOhLz/JeEU1ZxioC+eX/7ZvnFged2xPnlX8BDSpgz/nD5jzsW2Rv/HMyMO6DVTAvRg4gWDUyMQjnGFu1wmCaTjV3jWwN7EAyqYYZ2b5mrSwXO1VawtQrJek2a1Kpa91dhjvBQFUqcvnyZQ5y+FzDvQqa8Lej0yGZsBs3bgh8vjgYZBkTbDH4Xr16nUpciEJwDLVqlANAMEl4tsACRtlC4sU0B4AIAWMMb5SbFDlovqEOTOVqRUq1upQqdSYZtzrKMgJM1BrVHKzAGgbJwxiIGs2O9QtsZLSkHVlVy61ECI0D+SpkqMpDSOZExv0CqIzjJAeATGj/AQAgctwQxojAUJZqGgZjqBmhu7JErCACf8GMHloAgLkTvYFLAOiIZdTADELNPbNzSKVsxag4UeY2NlDJrdW2PmFhoC6vNLR9FgDimvvnRQC4Mo/FPARmXpS6sNByc56nyPt3PDTWcibjyUT6wxGB4M1bd+X9O/fldDhWFpBgOYSLofbvGRD4RPJ+4VnbMIDaGX/rP/7T7Di3feKzhwotFp70cCzFESa+GNhEByAYGxjEYiIxZaUDRKrJrcF+qGyAyic9LOQQRUAz/YgEq4Q1xdGgREa1HjSUU0Or1KoSmUgD/nmeuC8+aS90wYaGdIL8fvAcUb4+ea/Umo11mLFcpccmmivwdWxVQMH72/w2/XnAPeYqZQc2WOTmwA0LaQs5+vHoAmkNRP0+9T7Gs9uoXeY+XQQxHk9lZKBvMo1lMlNxhAPBwWjKajloR72B3H/8WH9vIOhP/6v/ivzWP/4dfva1r3+drwS+1vlY+OuSVaRmSulmpSSdhl6PS1tt2etqqH67pZ/tAPylCsKSuQo/JsMTWSI1B9/rQgCoE86yrWCo01GfWDRGWQqCFHyGMLr3A+aLhYlA/HskAqxSyNh8Cz3ky21KQ0p2r+Iqoo0mM44haOPZXNzrb2HXYDieSmL40z+bzuO1YK9UzkukNkwkEmaa640Gn1kvm+h+mlA/X75iZRO3FPxiPsU9jhYvZkxnQvuF/+F3zi0OOrcnziv/szLv0gAAIABJREFUAtpnPvM53ro+8Tp4K642/WHjAHSGAXQRiH8fA4F79WVI4E8tXDezPD4YBa80B7BVr8qrl3YkTBes74r/D2XKVZ4/xHjYPeyLgQ2gEA8OHm48yKi8ATXY9etXuWKnabGBTbBk8ASk394SLFhJrl7Zz8ULyK0AK4nJJUznBIAeAoZFDcQNtUDNYwnQYIETBlT21tsdAihYNLRae1Kp6aDdaKIEm6tYzV4AwCsCy6emsXj19yvLrdQQc0zQiv2VazCOtskGMhuz6hlYJRaEbtUIVWsK8xp9TAg4KEHpgJxJnEeVIWCITfAe/n8wnwYLiD7C5FJq1aVmZYyW8dqmZgkWVwDSljKfjTXfKsikauwcrWcwmZIJRHjVQC59BdeGrYEZqToA9BV3EYA548f7cbEWjRCAovSbWTc4I4P/xwqZ98cS5aAmeS3io6MjGU6mGg6+fV+O+gM5Hc/k8HigeZqWe7UBgM82oGwAIFSfGwCo4GQDANEPGwD4bGPI8357AwCfswfffvvTFIE4CMQk6CHWJ0N6VjnBa2CeYQD9d3DU8JwsiEAWCxVicAW2ymgmjCog7XqV4o9L3Rrr766SOQFgp6UrYg/1OnuAcI4zlQCH+EdWsHOB/l9bWx2KDhASxL5YCQC2JxlCmCuqYBuNply+tLsu2wY7EQOAzgDOx6cMAYMBBACsImxqIWAmQYcBLVoanS4BFLyg6q1dmlAjtNpqIr9PQxNwitdVHqxiIFwp0X+MrnkGBKWkvokObhGaVIDbEFhPE5QYq4brMkrUjBoAkNsuiD2KRtDFELADQP4OoK9UlkDKEiBBPQAQLPNzArLlSlZVZWEpPkndKiWQZD63sFgms+lIYLWBRPlKluRhaABaBYBQPBdLz6kXFo/BQhfONhfDu2fvRQeAnhuI77L0m4WJWeHOqthMJhr2z+JExoNTgkH8HopwlLE7HY3lzsGJ9EcT1tR8eHxCZtDrs54FgJsQ8B8+uPzNn1cfQFa78Rqnlv9LlsJqAeM9Kn+guWVJjIWaMYDpIqYvoDMbePUa2Po+pV0TGnJP0VDCsW2Mf2repAgd1qrKYiEdwO1fag1lAlGvGMw9j7ne/D4GMJolT4R4XR3uNkG41/2esDWXslGmIiqq8J0BdKsknkcQyliJt0IViLXli9u8wM4qX1CD5ZrrOTs76a88JxjfN9wzUJkxWuakes6xpeSMhhPp9ZQxGg4mMrUw5tx8/qbxSk6tssrexas5U5oa87pzcV/+11//Df4eNYDRUK/9pK9WJmEQSNnmEWdmL+5syWXzt+s2KlI20/vLu+rp12lWpH+kYWURPcdlPOVCHO3S/t663rPZ/xRr+TpZkZ+zXVcnDxgVMPYUYwG3b2VB8X5gYqXpVK3E0GrNHc4TbHY+p8ORDEZ6fy7STGKLbCD/G+1x71SWmd7f47l+1hsO89A9cqxZv7nQJv1xblfDtBoTgaCKFFqzVZHdHbWEabU0TP7jX/gx2TeRCKIxo1MNm/+lX/31c4uDzu2JP3E3Pcf/vPHGW7SBwT+fiPEA+QPjVh/YBR641MMhBRWwmgBbofRMaXnms+Fhi2fKLtrAXYpCVt0AAIQZdC1IWBkELNxOtyUXdhSIYGDFxIJjKZaEc8EEjgd/a25f5nejSCtEMApJXzc9p2WCY0OpnQbDB91OlcwhjhEiQISkEQIuraBYnsliMpD+ozs5ACyvAu6HDB085wIhAGx2txQALkXq7W1l0YJImg3N50P3wC9LQ7lQD2oYGSAQHoBomBwCA7MuXEGuDthGB4AMm0NXC5YyDGVizBcmk7MAEKrhp+UAEgDyAoY5AGQFEISDDQCWSzWKUgiyS+ivOvOQQkh2Urv2qOqxQgga+TOnBNzMR7TKHMxFDBWckgU1AIhjRx6jD9gIAfv9VDR+1jH3ySodBGXm6egstYtAFARadRbkSs2net/FiZycnEg8m6pwZjqW0XgqJ6cDuY/ycOOZDCdzedQbEAB6SMePyYHgxz1WmxCw9syv/ocKABuNmtQsXwn/P7UcK88FxASXqyxNLbmYz3Ofsxg5pebj5j6AEB+59x+u9/GhhiRh1YSG2uEeXkQJSbQknjJvDA2/rVoZsoqBPjxrHgIu1xv5pExVPCb/GIutdQ6oh7DXPqDrUnDFnOSin2Au8DETdmXdlf1GDm4cmA+hhf8YXTBzaP8ttu0gBq/uB4ffozFC4H6Gth2/d/GK56RW2uN3HRxiMTw2I+jeyVB6pxrSHI4sH24BGynN3hsvFnJi4cX9y1f0YpcjGc8VBH3zu9/mKxZVHqpHzhqMn3meKwVTSCyB3Rfa/lZTOhaeb1YVLFWiTB4+UC9ISx+UehU5ePr77a2OnJqKONpR9WzRrxb9lYd77f7DmOX9iLHA/QFd8YvP5rYAndk9V0w3AQB0/0hXX/dOhxwz0FASbm75ka7oPu4N888GlsMKgJ3a9YKPK9TaaJ6vWUkDqsbRIGTzELCfO9KOYDvG/hTtj8+88yl57VVVUAMIpgaU/8p/+7+fWxx0bk+cd8ELaGAAsZnipFechD08h++Q1ck9M7ygFl4N4CGnLUkE4grYwWAAjZI5f4cyXEiZwIAId/tOsyGz0VCieCLtRk3ajYrsd9sym93iQ37lyiVK4ptNs1Wx0mmrTEOZYNyuXLkqaagCASRg0xYgCGQwQngSKk+EfcsMKbe3uvxbvzeWarUitXJFsuWUljQow1gLl5LMJrKYj2Ux6lMtDBsYzCfOACJPDnVzAQA7W3tk35Dr0ep0GBZGw4DruYtk1GB7AyAK2xMeT0Tnf/yNQossZAgbLCXzKLOUNU6bbV39Abx6tQEMdmHUUIZ1uVSAZgbRS1vpI3ERQJTn78IJ82jkNaTtizJzparmVEIIQtGJiSFWKwWzlUqV3orMDUQOYBSRWUEYGKFXvCeQznRw9JAvj9sAL4Cfh6/9vkotD4oLClNMnw3/FkUjsJB4Uh2skzwG00WsuaWaD6Sm5eGyIr3+sUzncw6sh4ePZDqfCQb8m7duMx8U+Zkwx8W1GmQrQQI9bHT0ONYu/i7A0YthCeaoG/2U9ocxhsXnyxdVfg/gdy+jCngDAPV53wBArWCxAYAiGwD4AkDJM2xiAwCfobOe9tW33vrUqkilF8O+DiL8d/ib4wwWS+cfMjrAMxyIOZJARwEgVjMAgGhxpgABQAPu9rAfno9H0giWVAADALarZVkuH0qr1ZA33nyVgytWQi4OABCBYAHeWvDWu3TpsiS24q9V1f4FbTSZqhKRK8QqVWNQApJBG0NYUpZKKWToGQCwWg4IAJfzaQ4A4/mMVSwCy8kD+CkCwJ29SyrKmM6lhuM0ih/HDFCEVSRzIVcK9MhefQwAhCch/o5+oTk0LFcabSp5HQCi77nyr7TzHEuvEEKgCQ9AuCxaNZHiNc2sX54AgBCfhFWCUZaFo9egXuksKxG0AWDWay0Lt+I8EFpLLAysFjdgZ5DD6QBQQeuKAJCAyGyBPEyLz5ahimB4P5kFEX7DBYaBOfSdnwMYxiIALCboAwD6/eEAcLWIZDg6FdjqgKU8OTmWyWxKwPjhzdsyHk3pE3n0uMe+PEXeagEAEkB76TkLXW4A4PePHn/nP/nXVAWMkl+meMQ4MD5TCk7vXQXPqPCBNp/NnmQATfQR2ACDxU7NcjPB7KJcHJqRJnL14h5dA3i/LY2dAYM/1/Ahkugh1kLDgo33Pvww7T2YwMBMR/GMonVE2Tn9si5g9XmwahJkt/XPzgBi0eaKX7D9znSuXI2Pca8g2Kh1NLG/KNjwxYEzUegvZz+5qPVc4LXlZc5yFRcdHhrmglhMAGPhbzzjYysdNhhMZGLv5xiYsXjLAukN9NosViuZ2PXomv/it/7gO7J3yTzs7PpiUUWhn8UdQjM3dAawUSnJbseEH82q1Kyiilf6SOZj6fe0Aki1qmzYzu62NGpWri8I5NhCzJUdZSKLwqyz/aRfKOXhXPTDcKSpA2Ar0TC2OguHxbnuu54LcTKBF63dV8yjEZkslnk1lgk8FC1sPlto3928c59Vh9CmJq5Zhet0A9xnLjRxdnw1TXKBCy3ULLXK768Ih2BqaNSz56llibz26nW+f/uN66ymhfZf/ff/57nFQef2xHnlX0B7/fU31zGPwvbWCqW1/YYCQDOA5nf1PQAgBknYI4M74SROMUgs5eWMnyYUBAAQoEZnXZL5jCWetqqhdJp1adZKUkN+YKXH1eSNV1+xQVJFCKpKTRnKRXgUAHBra1viZcwHlso50XJp0/mCDzzOod5oUUTCupEwMl4GrGiBmp7JfCQRbBhKIvUoJQBE+SEwgACAYLpA9pB5K2lVS4YdKjW5cOkaFY9QgCG3CCFgDOQ4DhyDA0EyZGVVLgMAqoVLKQeGSRpKq9vhdnFe6DsMrDg/BYBgyRQcwVC23tjObU8wG5G5M9V1YGBLx611aTeJUG3ZfBsRTgaoYe5gKQeAGloxxR2AeqBhJpTY81Jz2KqaMOOeUINo+jEaAKTNt01WlspiuY96zg76kkBD6vjnuXzONHuY9ywA9M9VHa6sH8PyBgBVEay5gUFSlsl0xBw0/H+vd8I+BbMKAHjaH8pgMJLjoz6PFwwgch9xPRWIbgDgDzK0bAAgSrVtAKCONgAoBgYtBLwBgJpvugGAP8ho8sm+swGAn6zf8l9dv37jiUoghHVZpkbJFkb0Lz8JAB0IZhJiBW0lwLjQzyxkt4wlgjkvTY81D4ylxwBYsI8wIAAMsqWUgpSr+htXFMTBYw41fMGk4Z8re9utLQIlTtJZIOVGjatlALzFMpF4ofmHYHywIt+/cIEAEKAT4It5d2CmYCC8mDBnCJ6ElSCVZDGV5WIq8WzIusUwrV4tQ24fLEeCmrTIiqtiu5cIaAEA4RPIUGyWSauJkOmSHmSoF4x8Q/pRWXiRx1AIAccrBVqspgAAhmoDVv3DBR4xDLRt9QvFcS6IAOS1JaOCU/O0y9a5dARtvqxkUXI16kYwGHkpFKaUIlYJyVfXkYI15A1VK81cNQ0wq0wmSrNZjV9JJXKfM0+GNwZQD1qrthBE23HACtybh0OxPw8JK5hT1o9h0oKYoBjqZSg8WeSiHpSCw2eVoKb1aXmcqZyengq8v/DZnbv35OSkL8dHp3J4+JhA92i+IAO4AYDPNpj8j//Fv5EvHp19midxXtWgyGi5kGJidhpgAL3qB2pxe4UQ9/6LcM+QBkGZsakMLRes3dJJ9cqFXYlE8wEhIONrlshkrEKHCxf2cgbQ0zOKDCCU3yvL0/Pnaxsm6ZYPyBLZhVxVjotBljOZvkCGn6Df12QAva6v+wCuUKt7bR1T29IavR6twDmeTR3gItNy/CgQs+cmMUsTXxz5mODbgh+rt3iyzvvFZ1g8O+sXg7kyP0KUhuS5hWUaxqMdYYFkTO2W+dadDIfSseogj46Vtbt//75cv6LnMx4MZT5TBrFV021e2OpIp6ksVSmLxXM152Nl48ajU5aa5N+tjAgqYEDQh4bnFky+blRzGum7aH2DsSvvx9y6BYtUPXfMA577BxcANBYDMMsh7ysvNMC/Jya8I3CzcSqsyDxRcNsbTuTE8icnxgB+570PZDTR8wDRgYY663ByQFssV7kdjT8nUYKUH+0bFTQqiz2Z6/2L/8983PPyq6HIhV1ldn/s3R+SV68rK/qXf/XXzi0OOrcn7jfv875evXqdADAPXVhelj9YxRxA7gtKODWOyUPALO8GaBfgVR8gMIIZyrfN1QcwC1D/I2IOIYFEmjL0uteoSbCKBeWeXrt+WXbamrhfq1eZXM4aw7AeQVUyAqwuQ5MsmRaWBXVr8R0APAyMnIAWCRN9MTDDB7CT28qokALHz23Gc+Yvgh8rS0xjTQDA5WKsABBs5lI9Dmu1uixYNFxLSu3s7lPkgJCC+vopcAXwwwAD0MmQ83SqTJf1y1kAmGQ6yHguEUpJMWfQyroxZEoVhh57tak1jfH/fDXzZ4ZPLWcQ26Mi0cJQiRfMLQBAViIhANScQQ8nczLiISlYRx6gKxkZ/gUoRsgfyl++hxG0mU8XGECEgPX4FAAWGcAs0MUF/ikoX5f2c3BLMYeFg+OJlu/zfwgz4j0NoJfK8uEfVMD4LFhGrAuMPsfp0BImXsh8Hsvde/cJAI8en8idO/e5j36yyQH8JOPI3//L/zpHAizOfKLF84frU2x63cxfz0KLEIHAMxQNQiwY23JUcc87AH8bYTAZLgxc7O9t83sXd7f4nPJeNwAYBpnAIBoNxrtPCwFHVZ2UAQAR9uRka6XDtpASYSAIC9A1MDMwFQGA6PPq4yN9OHNHhDAXdEBZj0bHAksPYaivqp6Ea9BYkqqbU1uqhqdLeB9OTK36NBEI00us79zfjqb7sT6TZPut9NzKTFwB+gLLw43NPHq2SKU/0P4MseA1vzoXzUyThUxNPKFiMwxBgSwmCliQG1Qx0AvmDy2SpaQWLkb4slpSIDw29erg9ETapnAF/67XbYvhe7R7D+4T/KNNI+03j+Zw+zZu8JgLQpu83yaTXAXtixH6AFpZN/dSxPzhXowLq2HO8zPBDiI+05mqiFFS8v6BKp8HZiT98LAnY1NVI/SL1uzu5nnhw+lC4lifCYyzaCg7uLWtQBdipclU+/7kRMvDTWdjCS0sXDFwvEwm9MxF+/HPvys//Om3+f4v/sLfObc46NyeuN/kz/v6cQAQA0tx0sV+1rk8a/aPD+IKZseR5qoQGGD6xwo6k3A6ImharjSshnQY1GfFWMEan82KVEoBzUMv7+9Ko9wj+wfnfzBv5YoyVsypSzIJAxUs4B/q7wIAYiDAgIxQKR/wRayVBGQlN268RpEFBmKGr7OA1iUEgVCxZshdzKQSJDQgXSYLSedjCgrw/IF8AzjDADFdKCjBgIFajwCA2I+Hf7FvhKUxGeI3OGYARLdFcUEIj9VyA9EvGJzAYOL4ec7VisyRU0JBh4bOGT0HkCprLiMnEDOB1pFFvffIolkY0yewhIF5U5RBhWw2NBii1epAmVFec+wPdg0meIiiqpRgY4AcSPSf5UYhvA8PQLTSytjiMwCQ3z+TA8j7qFTLJ00PCzPEXbjncgEL8saGfbWoMUaQ+/Z606kykUUAuIohqhjmABAhY1Q5wcT44OGhnJ4O5fioJx988BHvFwBAlMHDNdH9KphG24hAPn6E2QBAfe42AHADADcA8HmRyCf7/QYAfrJ+y3915cq1J0LAZ0Hf2c1nK1X1VkplNVAGgxNmEpjqFyIQBYsrKUeRVOcL5rItsR5MIaPPZBYvZLVMpV4ry367TgBINrDTlkn/I2m1ynLx4r40mjUCKXWDV4YN4QvgTKiAX3/9TUkA3ioVhgsApMqVCgHn3Qf3pV5ryFtvvSWtTpvHjDAIwk0EZ5Uy2QKIUSrlEm1g6EAPz7FRX6sbRIHMZylFJG66DKAAkNBotxiKZhUKU7JS/QufPTB1sKGom1k1AF67lYc4URPXWbHMTZxDiC7WxerRTwR/AH4FE+VqU1fHDpwUqBgbCFbUPPEQdfK8ucTDTNgXLFrsN1pjWMUYALH+23hlzAzCxZYY73mYCtSg8VEwjBBrlKkC2oElgWfgpeDMDNpyR3m0xnLmQNaOqMhCF1XAVdjIWDoCWV5jldHfYAD9PMlKB4FMB1NJkpjMjquW4b/Y652yPvBoNJZ+fyAHD494/Q5Gczl4eEiQiP2geoKCaADB9QRvxIeEUSEbv/CAnA3l+Z/ysKKHF5/yOhqNXrqx7O/9Z3+Wqwr0IRc6YC4QOrRr7cIPLLZgCYXmlTyWZhXFD1mXb20NxHuJizXt54Nej0p+tL1t9ZCD319myfHI12VbLekzitbttPIwqgsqUOGheI08L5a5yWBlmirG4qbc1qog2MDz6cyfb6dcq+aig2Lolr6gxlK5QIbH0fYSbbrP4jPgoV587tvHcfhzUfQBLAo+/Jid5aKy3jzqittBZAQNAigXJSCNRvcXSrulfayqf70eGO/0eqzN3P14cOxI4UHzlA09Z5cHrsjEo43HI1qC8Zzt+QFBULdKIe2OsmFYnIPJ1+PUakNo80CPAwygh8fhhIAxBw2VXdCwYAMBgAaT/sjcGVJjk+dI97DHF16QaMzjNAZxt9HlHMV9GkM9ni7z8Pnjk5F8dOch/37vvrJ1j477Uq7r/r1ySndrR/Yu6LU+PD6SkflYvvbaa/xsKwjl4kUV1Zyc9uX99z/ke+QpoyUY58zmJTImEFZnmVkeXbzYlZ/+k1/id//Lv/EPXrqxgwf+Atq5PfEX0HfcBAAgXosDo4PAp+7DwEEIQ2Qyb6HUSgjhYZBPJWGYAN56yPuKpBHrMJusQtZWjJEXt0hY3zAKAmmWMqmCAayEVDUFi0NpNity8dIuWTEoglnSZ4FcL6g1dbDCAHv9+g1ZBmq2PJnMcuCFOrCHh4dSqdfk05/6IT7gmNwBGFrNBi1gcLzwhwO2hOcYhAxLmHECAE4HUolQNk0BIMK6HHRWIUEFBlz3KVQAqJYreA8AiIbBHkATlSbwOY4BLBzz2yAMCUMCPgeDBFhRxVS8xuZxS2qg7NeoVt/OwZ9LEgmOOJmsK4MUJ7LYwg68xgUQWIqqWjPYwr1ezzcLwYqqYTX/rZSJZMhFXWQY0sssBByklkdkzKIDQD2utbLX76ciUCyGu3xiwfec7eNEXAAHmieoQI33RJoUFMIWGp4tWREG1wpsIQZSsL/4DcpgjccTAsD33/uIwKUXrwgAEdrS7Wt/EoRuAODHDjX/3V/8lzl2EJSbkTNDwQaiHAjQEcAAIMq+eUMeMK91nNCQHc3ZNGd18dlwNsvrv25bXd9qpUzTYLR8mwUA2GyohyiaAzAAQA+9Inzpnpk+9oWleg62PKqA3zvoczsobtTCnXjO/VlDykTRv49PVsHTD8eRNTWXrRgC9vs+z9TAFwpA1PvkaaCvOFYX/y5mfLz+rY49vF4JhFTa3/4KoNeyknkQyuWl5vQnJo5SsLU+3khaBuaYjmE5a75PLL7mBs4hGLOUyzxFoFwusXQmmvsVIqrgYV9PA+E1tnQ8pgRZR8HOyfCroN6udmyUA0D4Hq4sj9SXbMB2ee1lKymH9CG9H0TaMMS3AddNmeHD3be8v4/uHMh7H97hdw8eWf3iWSwVM+P20nMwHEetZDSo4l0p/sYbb/CznaiU+2U+ePBADg4UTM4tPxH31NobUC8CiJa6Ae5XXrkkX/7Sj/Lzv/LX//65xUHn9sT1bn/+dvnyVQ7i+cBYyLV62tajUCdZBBUxEFQA8qpq65GlmAgmChtCBUGtpTJ2iyxQAJgsmRBbgeEnGLtM6/PC0qFZLUu30ie4QjIwBgX4AGI7WA1ysKJoAnl/Ndnd2ZfUVoZJlhIo4vP7Dx7IcAi/v6p86ofeMYA44QB47cpFtR/BgDWfCCYSMH1pMmX4l/Y0MKYGKwjD49kqZwA5EJkQwkO8+H/moK0yAsx6qaH9Uyrxd2Qtl5D862QEkIGcKU4M1SpzQ1wRyzDtSnPikGfozJ7bgWK7yAEk+0c1rzKEXrMS+wR4UeCl28J3YiYz63f1dyoWgUUOgB5C2WyWVxgiN5kbBvNmoNEmQvV4xhF5OBilX/TcisBOkwB0RX6WVS7mlXoejwNMn4yLIWCYzfo29Lfr2qoOAOn6j8RpAL14xYlHRSAZFcHI30Sfzxfo/4WMRhP5zrf/gGrgw0ksDx884rVhnzLkHqip9AYAfuwgswGAOsZtAKAuAjYAUHKxxwYAPj82+UG2sAGAP0gv/SHfuXjx8lMZwO8Tf9g2omjBsk71elXKViItCjKq+JDM7TYwLgLpLgOG01AjMc4C0vJxtpQELGAlkE69LNUok3q5JPs7bdmtT0jzAwCCQaT9C3K+TDzSaHRoTgyFKlR3sPoAkMmrBmSpHB/3WHINoOvy5asCcAi2qNloybXLWl4IoQkcb6OGcmgrKoBT2NaEASsKlEsKsGZFABgoy0cgVq0ScOK8XYQAYFevWJJ5qPYutHyBHyBq7FqS92CkogY1jV6uS81x1a6WN0hqpmLacvs85BtQqajHxpy5Qik4qItRhYMAlyFTDaUlJVWbESjm4WRQeRHDy2ThLGmd+ZtMNDbglmleoeYJargYYRrNlbcw9dIc7c8wgJqnqH8rgkAHd3j1EJiLQYrh0pwNArMMz0GwrZhoYEad10nWvD1cAw8NZ4tURuMB+wAsLtjKJF3KZDyjRyQ9/9JMTo4HXFh869ZDufXRHVrFYDsIfwEAegjYH588XBYaLXLmuTpvIeC/8fP/fF5H3AUd6M/cG85FqQUG0Eu54R6HEAwtnqEUl4btXPihgF5TESBKQCQArWssFSJ2ZOzxe2OZqOi3GDDGDoxPaGD++GpqfT4JJU154HsTfqyknLOFuphUZtsXx7z3LVTov4VdkzNrnvrh++K2WX5R94PxKGipavbpDKAtmgruC0ixcDawGAIuMvz+vvj3snkX5qzgE7dsmHsTIhyMhpAwrJD0WVX/Ub53ii3PG9ZIg59bvcAA+r7wfOo2F7Kw64rr4eHeyIQMUMFWq7Z4NOsYpAchZxcN46lXpGpsaegfR+j3BXKyXanrIg6knniljhVSXHwhaqHisLwunddorgU5iSm1IxYy8PC8HluSBvLoUIUf333vlty6/YDveyaagTK4tbXDz1D+k79ZCdN+eMyh5rCjXbl2Vf/e78utW7f4/uDR4/weyllrUwizH6YaEk+WM3ER1JuvX5Mf/eFP8/P//K/+3XOLg87tifPKv4C2v3/xqTYwPsGe3UUkMw6kGJAVAAYEUsjhgQ0BlMCYcMGw4UHtoAQwynERAK7IAqYZGJq5VGsl6dQjqnBrpVAu7HZlrzF9EgCWUX1CWTbYKXQ6OyxTpuo2qGVREUNVwF5XhN4NAAAgAElEQVSCbm5Kwkq1Ku12V3N0olBguIzyURQFzOYS8cGsMOyL/L9Vhhy+kHlKJYpaRDA+eg4g/t+NkF05xjAhbCzM8qVW1uLwGOBpZF0pE6CgL5CfiL/1TlXUQOWv5RoB1JFd9InKJq81CDRjZTGrihAh2XVOk7NvAIEl1Po1U2WAoDhSUIqGfqNmO4gEY57mcCqYVrCJpENlD88ygJy0AgV9QZASCHKAy9YiEHyHLJoBWReBkJW0MCxzlIxp1mOyPET7bTFvidtPFeCt/3muXswwdJ7raMAQABD2EcgRgtobIWMwtFCND8cTmc9gVZJIv6e1g28dDeX99z6U4Vj/H2phDzO9KBGIn+fHvb6MOYAbAIhcxA0AxD2NcXADADcA8AVAkmfaxAYAPlN3ff+XAQCLkxIn3DP+f8VflYI5QQwtWsrKHqEIOMkeBhR1IMDqPo4X0p6nDKMBACL/YkkzaVh4JEyjqVdWVADDOmB/pyOXu8iXQ/WOllW+UKNjAEZsfXt7X1AsHfkZFJmWNWRKqxVTAWPlh5VjgzWCyzwerBBRDi7MrKpEnEi5FDAUDYCxSues/FGrlFhwnjYQZwAgV2EJEG1KBpCl2wwAqjhhLtUSaugq0GOIHDkrYSCj0Uhq9TpZgF6vx3Cjswze3xTZEoBBRFJbl2bLUFfXE9PhgajsnzILCrjwd5AFzFMqa5jcgdWMVTkdaCkARMsyzS8ECwgAmDOKBdsYhNwVkAGkOYpkhpx+DkAoVQs767Ho52b9EqlH4lkA6PdZcaFRZFqeCBubq7RvwyuB4Bqnmd1vZAEVGKZzTaBGJRDk0dAg2qo9YG2AfKfZbC6PD3sEfCcLYTj4dKiMIPJJvb82APDjB5hf+Q9+Ji8j6QIEPAPOAHJh6OOJ5QBCOKb3XiawgkFbMH/QTOUtHQHXxRPit/b3mQqC1rKar9AZOAO4TFRcgLzjKgVjeA5MKV/IWcvvb/69IpEzhL7YCteRBDzbxZxUngdqhptvnrP5GAf8HkaeFxaiuv+116Vvh55+W+rdVmS6c12WP15k4Io1ifV9anmSSJ0pCj78ffG1Yv56zg7i1Y3eeS7G7HmuH6qVIB1Cm+b9avOHvmCLk/9NpBzqdXN2Hu8xtusrqvlYbeb6mnmr1pRZq7caua8i0jTQkEPqDCKsm9xeqLWtuZNcaJuYBduHCT+a5wBi7Pc8PC4+LQfQvSAhCilXlY3z8Qbn7l6QO40mBRhokV3rZRbKwwOtRQ0G8PCx5v4tV3qNv/fhLdneteOzQTJeZuIMI7wiPcfQmcCDj27J3btaBxl5yJW6MtyeC7m/v59XCjk60vzAeD6R/QvKhL7x6hX5zDtv8f1f+sWNDQw7YtOevQf2dhQArguf6/t1iK2ozssEjD0Grzbo+1pFKggHIMeNoo5QKmQA4Z+SMTk7C+cEgKnU6Lu1TJFblQgKwGPwuNCMpFFZSbMayY0re1Jq6ODh1isI72Kid9UsVtzOMjGMlMGcVc2MMTjoIAiQo8wdwBa87PYvXVRAttSwAr5XZ+1gC5MuABjVnqRmlTtUhRaZD6CaUWMf2B+AHR5mbIvsXrksw+FQmhaOxnfwNzd59rAFhSEL5KCNlAGMwjyvENt0lgvbxjbwew9xEgib9QrrIVOYAmsdTfDGIEdPP0yEqBNMsUsoYUXzBnOrGMsBnEOgwwolAQdKB2856AEjaJnbmC+ccaTbY4HBK5Vr3L+zmS7s8OvkgBXXlcexWoPTIuijf1khB9XvweVynE+Yeq/qPYbr4/2loWEFgOUAVWgUGLIg/HjM91CK58cgIsfHx5xg7p4mTBs4Oe7L45MTOTmBEg+5kYwPykqNL8k2o5ULk3PxifvYELCBnuKkj9/5ueP9cDh86Razf+3P/4k8f9jZHzzXDkT0KbQFpU2qDuAw6Y3N3w7fxzOH5mAJz9rEynhtX9jLJ8amhcYALlMLNbqZcLVcloaZEHu6QvF643o6CPIUEe7TfPhQ9rAo4vDr5aXiYBruYWF/xWLLw6VcDNdU1JADQMvp5X0DT8BtBYBPmEznZXP0bio+L0hPKYZ2eR9CiGb9uR7zFHDp35dSSswj0SvzZLZ4pbIXubG6L5yT97srgwn6cpDnQHBtMm24nr9D3jcaFfn23k2/Nb1D94OcZg/3uucfxr+wZCpf8/vzMYDbTOZrzz4mJms0PK9GBcNsA3MlK/GH0/UwLCLarg5GRSg/Du9uF8DAu9KB8n6nTXJBr6GCy3QVycEjNb9+78O7ctJTI2uYZ6N9+7vvSaOtwMzdcRHtqjcV1NVZHlTnUS8Fd3jvHucLbh+iM7tOvoC4du1a3l/3HyhQnE6G0m3r/XX50q68+7lP8f0v/Df/80s3duhd8fzt3J7483edbgEAUCfadcm3IgB0rzf9NtS9KZm7Vr0h9VpVSlhlpUuGfjEoV6AWtQoVJRiFrtTYeZ5EAtPROAGbt+CTHGSx3NhryYUdFBIvSS1KJawpmEK4liIFC2VqqLJM5s3zxvA3D7eSAbMQI9ksy+/BYAg2jWArDKQhChQwcNYqACL6O+TyIUcFx1rHis0ABiYMZ+rc6gDHR78+q5biajUAkqp933P//LtFAIjJDaCEq72SspU4BgeAnhvHCcOsK3yAgiwBx8ZJAhMXPOtYC1itccgIRlBJKwtJEFbf4kCv+Uhl41pQns/yBC3HjyIR5Ag6JXEGALJqCMO768kAdwWNZQvWJk97XwQ7UYgQ/jrsi23g/30CK7KFeA8AiOafO9jEb5x58Jwx9EVkQM0nR/S1/93fUxwCo9g4lu/d78lJfyij4YQK4aOTASeRBXyL7Ly0SkhKUPhJAGARHPr7DQBU1mcDAJ+sxrkBgNofGwCoAHMDAD8e7WwA4HMiwZ2tfRt9ngSAubINpsk2WWNlVymnBH2dZoteXHgPmw6sxoMslRCMHGxakPRbrckyXHDVNpwkMl8gNJfKdDqjhUy7UZEb+0168EWrRK5e2JJYlBnbtSLkGrpQYYTbLOSgL8uk2qhr2M+LkocQqDQZ3nGWDWBNwQVsZzQXDf9wDLCz4bmutH4vHe0rhbAzPA8rWm0EII6/Y41cDfXgc5aem0wUmCUabqblg7GTWupHE6OdAXQAGFSUKSRwcbNlC5ExZGT/HCQBALIwCHMHFZC5UhVMhqt8wUwgZE6wXNtSMAi7mwiDCqQ6oaB2sJaoQ1h+fSOt+B3SA08wgC4+AQAsghcJkAtqYNNKujlI9a0WAVC5ZDUy8/tq/Rivw+F6P+r/z/NrjH7y/mKJPQuHOdvHRUCiXpVo+Jxl4RCqzxDmGuQLAIaQ01Q+ejyWO3fu0SB6NJ7K4+MBw0hkEame1mPJxOwY3JfnzLP3hzGAZ9k/dm9eou/lZAB/8c99mWMHQq8+XmBx40DeQ8C8d43h6LTUew3M/MQ8zzSfVpkN+ImiYTtMt0DYt9uhWAvNxV5aPURDyGDJ+GzVamTx0bAIdSYq1zFYZID7iYxBL7COnbZaLPmz5j6Ba1P0iCUh0dxKhAs9o8SwyMo9Byv6DEGU5WwgF4xNFYEgNxWN49vTGECv3Q01upe6s4eUKTZmjYR+fZoIJJuoaMFZdPTldKr9pcy59hnyf9HUEcA9QtcikDwEXAj78gd6dvn2+RxaP6hvqzKeuYVORdNh+CvzCcT9n9pizcUeCP/6dQcz5+NmsjKbl8L1KpUrzLHm9bJjT9JMEH5l3wpSfPR6Na2ySaXWYMQEDfcYGnKFXdhSDZaMdKCtWcVADo/7/OzW7fu5IGRqHon3Hx7KytjAhYtA0lTKlg7QaDUpAkTD+IN2cP9BLsjThaoeMzxr0a5evZrfiw8e3ONnp/0jCaz84d5uW77w+Xf5+d/+n37z3OKgc3vivPIvoHXbO08NAfugAhWlh/IwX5UCDWtudzus1YlnuUwRCNL+MwJAaK+YD0gvGDVwHk1iWcRgAAEWl9Jq1mU5n8h2XWS7U5VuvSzbnbps7zULgHOtigML50DQj4dCirZarRRDs7CROen18sEYg5Mr9MrLeT4oYRDFOZB9gw1Nrc48MgxU2DMHCAOfADg+MGFQwz64fyp5Y+n31Tw6HmsVEPr+GajDb32Aw+88LInvZZEyXw50i2FUXF4yn8Zm8m8l/T5/k6tuI4ZsqjA0ZahXK6XkTFOlS/AH5TSNUV05HEb5NnD1fMJLRAfqswDQfdNwdYthXjez9mP1BUPx9izmNCGv0NtZZuxpADAINLTrQN9DvR4ucubXX5HD6WF+v4+xPwBBAPXcuscH5Xkqd+/cl4PHj+XocV96/SEH595guPYGtAmbuWqF4y+e48cBQCq6CyZvTwODL2MI+L/+N7/EsUPzb3WCIwC0slcOwIoGx+22AcDjk/yZ2Op281wwD4tBpOXh2GanxXQNNAcXWAVlpjC1CLu0YBtltYL1edKJ3sO+Gq92hWcpBw8OgtqNdg5oCBrzajiWV1gBI782eMbmABLyxbLl/PI4DewATPh5ABzGVQ0V+u3AZ+VJApC1tn1FxmiMAz+rCYv/X9/XdHznNv0a8DmYaM6af0Zxk5Uz04WP79RLxgX0B7QHPw9r5/etlaLUY3eQHOZ1xvFs+jjl54swvH+GcKjnt5VMFT2Zz3KA5+UDaSpu5eM0H9BKqFVUZYsxxrfvZdXwOYAfGgCY5/sit8/TWRzMMQfPnBDyPMriIqCmi1ndmY5TyXIlp0ONQjw6PMkB4OlQfSj747EsDAx6+HmKNKf/r703jbVtza6D5u77fdrbvraqXlWqYgQiwTYGWzFxHAUQIBAYFCcxwiFOMFGE4AddRCMkiKI4uBIZAkFIQQgIJBFIkRAoEuIHCFCcSlxNUvXyql5z+9Pvvkdjzjm+/Z1z731137vv7a3rM5d0dfbdzWrGWutb4xtzzjG9RR8iUgyPkwA+evgkHQeiC+22GWG/9dZb+heNBuBlq9u895H+HY17Mhmb4fpOtyE/+RO/XV//t//L/3ltedC1PXC/U1/6T7e9lwjg+iG9VgNBANfhOpFaeWGt0GBxAvVPVkoAYcVQRMs2KFbIFyugL+ZKxlqFuZKLAQyRracvtlPWPq0zubNbk3ajLM1qQQ53WnLzzq5bcdiNz3AIBs9UVOFqghIOFEv44MOQKQja6cmJ5gByEEHRitq2DC6UGDLkCAKI2Xizhs8tB6+qYVczGgbpoQEsQ4/YD1jVYGGuH5OV56OJDnT0B2Pu4lUCCCKi5NGrWHms2AbWn/uLUSmy4zS10whgrtAVtSIRXoC6zSwsu6i0NQSs7+PBxFCuWsZYiz4aToPLT4v2kHuWAqgEbbUOvVtIeE1wSAyfRXh4sS4Xl0PIfD8/ThI+fLZYWJI/yaEll1svYJJ//CUxhDoElYPhYV7X2CcMwPiM5BHvnfRGMhzN5PT0TB4+fCx/+3vf1zxVdASAhZAqLnq9riwv8BMSQKixXJ5F/vBZEEC7JoIAYi4dBBDXQhDAIIA/jOAEAfxhCP2Qzzut3WfmACbSp8a/JIEr6TQR2q3KTqer6h9CEKBQg96FVgPDz0+JoZKQgvQWlpB/0cNszgggwq2Yve+0GnJrrybL2VAqhbn8vT/yFSlXLORMlQavQd6o4IEYWQhkKfVGVWZLIx/wlGL1rYYDJxMlUb2eSe4kZZPzEyWCqsqNYc1iPnetulX1wr6GKgNJG74LokdSgu2hOwiVD4YSQCoKi2UKAVN5VC/D2Uz3kwogCSAbrJP8YN95rFS0SKo0pFyBiTX74rpf88pCcNV620yk0aYP5txOzOYFC5MjBxKNzaEEqkqIUIf7DCICkVS2qpHbqwQQqqKGz9k+znsSIweQqiyJWh4CXl8/VHQ/2W27mFtxCEP3VExzEsgiEFV+3JQ72QKNx/pbDTl5YQjOFcgGfjeYAk+0oBrJk6Nj+fVvfFsuen3FUkngyhRIpD7iWBbLNaHLb6/nKYAkgM8jf68qAfz6L/5EUgDRBQhLHrqlAodUCx47FcDT45ME3f7+vnpwYnnw4EFaDydZB3u7mpaBhSFFWC9RAcQ4gwUKYLtjoUKc31Rg5KF25MamIpBySRBCxJJUqnI9qeD6vof1qDiVq7W0/ZWrSGj3CE9JXQqFVAXM0CTychkWxt9xxZSedWVwUUPo+bJwz0u8h2PkMbNbCrpqUBXUMcKLL/JikfLUKlU5hqnPn6u0qADmpChVAS8Wev3rkqU4JLw039pCo9x34NtztZeFcfnnOga42odWfsjrxjJAtxgRTdEZT2ybXCdsq1JbweFwrXSW1wog7ydMaqnijbzzyVQLwex66O7sadtRxdFPUa1u6TlY8hA/t9+tr+9tzQEGER2NZeB+if3hSI5PrHjjxLuDoPPU0Dur0ENwBJupM/seWtPBWgoLIkVY4ALB6wvX5Ztvvq3vf+3v+RH9C7X2b3zjr+vrDz+0ziPtRl36fbtvup2G/NQ//GP6+r/5K3/tkw2o+qvfHMu1PfDP6vQ1652UA7hep1fWao9Ye9ek95J0Gxjkakr+JiNYPsxkB5YJsEgoWFs4hGQQAkZuS79Y0Zkc8qtUsZktBWM5HtKdZkV2WyXZ7aCrR1dqyM+bWYgZ1h1G/prS6RohwcMD+4GcGJKkVRlWLyUlg1qEoQavRbWhgRk1Qikgecyvm15caJ4QtoGHFfYZ42/HFT3Nc6SPHmbiKws5YNDAceDBguPHQwsLBjmSVR2MWJXsxSvMg8FAjQEYx4P1aBs4GBt7rg/WRcKHdeJ3HJTwPb6uViz/DmPceGTt8XQpoA1VTUO6+Bw5L+xdOl5af2QjMTCZtvBwtdmyKsAiPAERYrUHA3wDLZRc0EEK64PyRQKI5x2VSuxXqWzqLIkqiSQePiSCeY4g822uXsNKrjK/Pz0sXIPuPZjjzXAwC3OAHV/jAcIiHJwTVP8Cc6pLOH/M6cRvjo5P5L0ffKTkoFqry0f3H8vjx0cyGk8EVhSWJ7mShVbHY6fsAXKV0D2PADLs+HHffxV9AIMAigQBtEhNEECrhg4C+FkxkxdbTxDAF8Ppud96HgEk6WMIGDc4ErU7de+dKwX14cLMv1WrymqJ4hCRJnzoCuYZhVKDs2VVRsOhVlgqwVnOVSWsg5QVl7LXLsvBbkt2uk0prOZSQjeRYlEJIEgD/L/anVby3UMO1mxus3tV5aptfY2CE3i/adEEwpLuCydLKHoVVSWRZ7KcjFQBVFVujPUYuW1rX0grOKm52qAKEwirW76YSbDlJuUEkDl5OQFU0uSVvdgWiQ0UQBSAYB1KHLXy1i7jPJeNBJAqFwmgindu9QJFVfvXLk2hXRXMABqJ58i5gV+iEqGC5SPqjFd/i0rfsnlnFfH9shJHqgKT4tpsmtXDIIBIfFci5JYSDM/DBoYEUMmph+gZkuW1RJXweQSQv8W+qim2F+uAAJJUkvjhr04GvJBDiau/Zp4fzhfOCd6n4sd14i9tfR4fn8nJyZnO0ifTmZz3JvoXhQrjCUi6hZyDAF4eRv7U7/vtyQaGn+R+cAX3gOO54yQOf89OTjXR3d7ryN/57nf0NVQhLIf7Byn/6+bh3lMq2GQ60lxjLC33BsRYwe4fqtplBR16DZYrUvRwfBH5sMytdTWv5MboSu6ztAbOgrWiv2E5jCwGgd8mH/qYKLAYAd5vWGDrQQUQv182zS+O97xOsL0ogWoWxlX20NV86aYVtiSrruUqFZGohyl9WbL+wbOeKalUAC8ps2IRGtuPdeEHX+s94jmC67zCZz9Clt75CJ8ST3rdwf6Ex87t4XvojUsMqIyduDKGe5fYAC/+rj+2SRfG4sfHVuCixzcx4jXyHtM3btxKliqYHKOQBAu8Z7Fg37pdUyKbPunPc1hrBVT6GzZUflEs13N19NGTI3lyZCrccGzkF+byx6d23WLc0HW3kHdt+3x0ciL379/X16futYiuQywkvHX7rrzzzjv6OZsYfOtb35LjY1NxVciAnUy1IoO+RbRKpbn8kV/6l/T1v/cn/9y15UHX9sD1zH8Gy8cRQKxeuUKxqDceun/sNrx6EYMQjHehsBXxeimVgigZVGsYtYVZyZNJSZU5NotH+Bd9fxH+Rcu1G7s12d9DezcYMI+lWjQVyrz1LNcO2+3udPQhoCQORNHDSqtqV7eFGxuKZBnG0DqAW7UoSKgpeqbUwadQCWEB5MGUxLITTRwvErKhGCpZWa7Utyk3fcZAim3v7VmjbyyXFMCFqackM1ThmLeG44EipeFFhIVRrZsRQBIU5h2S8OD7JFYkWzg5XgyogxZaOSGfTwlxvZVC4stqJ+VeGuP1yr86lD49wak/sLbcK3nruCtVwE330gIBpLqH488JYK4CMmdScc0exnxQXL18qRbmKQCa7I6KTyeD/IvvEkMSZ+YEot801D4Q7fzcPHnyJOWXss2Ubmuxkr/z3ffUHBphrsF4rpXq/cFIQ0i6TbeBwUO++CkVwKs45Irhq6gAkgDqRMDjCJwM6YPLKzzz85xafy2Xsr9r9xCuk3v3rdKRmCB/F+MGljs3DpKfHEOfzyOAqerU21Tq9cmKXFTJszUhJj7ugUeFtl4sZ63P1ntNn0B4/CHPFgv6eNsOlywv1EkjSCaWkrefgwfpumihJIuaRQ4uLX4Ts7AD4XCGt1mopuv0ahH6K+I9TKjXoV8jCir3j40kkQCCKPF7eP/pSdh64qaE3QML62KTdZg6v5enbpZsESKvntU+5kagGDbWFA6fGPL+hw9ff2hFDcyhxhhGIox8XXp3NndsslBvNpJBOIor+F30+sZyeHgzhXarlVoqCCG51WiOt2Xje0wVwe8nw/N0HPi9LsWCjD3Ee97ry/GJ+YleDIzIYrw5ObMikaGHimv1lrTYaq5c1bQcLPQl/L/+v/87VQRjnIFzBRYez/HZeSK/SE/C8uTogSAChOX1127J7/ldP62v/4M//eevLQ+6tgduV+bLL41a+5khYM68UCDBcOvuble6NXsYY+BRqwU8GidTNYIG8YNBNPz/SlCkFnN5NGvoQD4dDmCoIcXVUlr1klRRuLqYyOt39qTZQr7aUmrIxxvNnFws1ZcPilm321QiiK4PIHJK8pQArmRWsrL5mtq0jLQ7yWo+17/zyVSqFSNEi7n1kd1rWtUe/+ECQrVat93RWTUGKoSR7fhBRKe6LQwcLL7Aa6gWXPJiBLyHz1WRW61SGDYngMgDwecgudWmhVuJN5VCvJfyYrI+wqOZKaR40IGQmd+hDQoo4jOSWNSBhiRSKhZCN+sXz3FBn0yQP1dr0RsV29QwbNEGcJAehMB18Ea1d8VzoNBGzo2f8T0YfDPEy1l7Tm7095k6kUxyr1y+V0leWgdMfz00TLLHwZK4Mnysn6PzjHb0GOhfKHl4wEBdwkMFuOMfquzUIqaIvs4NGQzHcnJ8oXZFFfx/MBLkaNq+o6LQPRi9OvRFQ8BMqbr6/ZwIv4pFIEEAgwAGAQwC+PIs5NOvIQjgp8dOf1mvtp5JADWZHiSkXEi+d/v7u1Ka95QQwPsPBAxhE0HlKohZsSQ7DcsHAyVBovbxqmNVl4O+KjnwCmzXQB3nUimt5O6tHWk0K1owAi4z71n1ZgVh4npdc/uwXSgHIIBQBUEAsW9o9zQudZN332w6VrVvOZ9IpVyU5WwuzUZFVT0kG+OYDtrNZLuCqmXI6yBUKGqBYqGkzfPZlFTNrOUZcwhBOK4SwDxvjTNhEhIqgPwOcgBBRPA94FJpWIELCRRzBalwcT0kTYMZnOks3w4zTH3fVQ31A1Q5AtW+wNTyCBclt9ZBErxWAJv9C6Iipl4UtSCEBHDpJFGJi5MddlHA9rAOhvVUQZu7MbWrAAz1Po8EPk8BZLFMPiPXvaNZt5POXMkgEc0JIJK2sX9Q+UD01HNuMNC/jx8/NqsSzw3E6+M+SD5C8gudwV/0J2pkhONASIZeZSSA3v3qhXMArYJ47S/HW5aKCf5/fn7+yo1lf/rnLQSMheo0rl+qGFQAeV3heyzmQFEAMcF5GY1MCer6xArYsBjg1sFOGuVYLLKYoqjK/f+8OwiKxZLahmvRlSh2V0D4F5ODNBly/xiqYW104kH7CPrz+ef0/IOHHJU/tpFDb/PUTQO+dF5YQtURRSC83pHsv6gfXBqxVfVOoXLvurTAnWwSHD6buYco87EriLBQokMfc+8AMvNwJ1rxFWYWkuS9wsIpbpyhap43m6St/WhYSJG+zxaPuX/lqigTD6NrDuAzuqCk7WvrTjumcy+e0JC43xdUANWc3cO6sHPhb9o71kEFE17m8mLcygtf8HmrY0U2WOz82+Q4haB1Ym/v8bdMFdE35+bigIXha1i4UAHEd88uDNszD+diRFbrKA332t/xBG0qbTtQKnf2TPll5Ojd99+Tex4WfvTosYxcOeQZwBi9DqnbhPzJ44fy+mu39fVP/kM/JocHdqz//q/8l6/c2JFO0ku+uLYH/pK4pZ8/jwDi5sAADX883KjIVwARW45O1N4FFA7hXIR+kHOHUGsNuXSqAJpqBD+2J8uujJUAXigBVAWwirDrSuqwftmDd1dNGnUUcfRl0YdH1UyVv2q1ots/PNzXB8dyhf656PJhNy/em5R39HWtXJL5bCK1SlXmU1jSQG1EcUdd1T8MMNjng512yi9D6Bd9ZXGcuztoAWSmrCgiYSgTIRQjm1YBC3KihHEneyhl6hSLPjjAaE6iVxBjXcCRYWTNBWxa/tzVkC+2xX3ga6xzODVlEfvUaHcEYQoNN6vtDvbRlDt0AmEoel62Yg8lmpVqsn2ZaucU6LIeEvKKYBJK7QyStYLDg1IHJRBIH8yxH+jwwoc8t8n/8y9VQPylD9jVa5i5OHhY0XTbwlHrnrL4Px94WDdfE2/N7ZtYqz/mPYFwg2wjnPTee+/pX1ZuYx1PLsby4b2HilGz2ZKL/ljOem+h8M0AACAASURBVD3pdPcEoSU9Vk1NsE4gJa+mfFEFMCeA2E/+LgigDd9BANluMwhgEEAbFYMAvhjDCQL4Yjg991ulWtMSubMGj5h94uGkaljFHNzx/0qxILXSTCt8mY+CamAUdaAKGGFgZDqUVNEqaE7e6ags88VMJv2+zmahzO224MO30OKOcmUpN2/ekPlyJo8fP5S7B6/JoN9TdRDqXa1clrt3D5TAdXY6WpGJhzJsFmDjsFrWdVbVOz9DNFOgDCDHEEpBs9lQpRIPbjSeh2JY1cRfT3BxRRLHu9tta+9ikEUkXWuz+flchjCLhsHzdKo2BlrBW7b+wFQjNDdxOtPjrDd2UjEHZ53Moczz15JquDILFZAf7Y1ZLGsOC4gXiIP9xggf8vuozOo5K5a1/y8UCs0x0YRua+S+cjUO6514eBfbQfs4S3CHp4mFcmGBAnd85hYuvW0cbGOoBCB/Rwcl2Py4xyDDsbDOoZKQEz/OoPkZL8K8l2h+YTJvEu/lod7Z3Dp25GFgfAdkHMSOIXFsB+9NRhOZ+m9wDk/OjlVVwLl79ORE3n//nnz04T0ZDM1iYywVXQ/ykbANnNu5k32Q4Fwl+bjbLVc8n/W9q4QxD4W/ygrgOk9s7dWohNyNi3l+8B7yebGgiIqqD5LdmRvIxHjmbuK7O82qFpvpOZ+7rcdsmjpKNOvWWQZFaqnbhHpeWt4Vwvl6v5Ts3rInLLvirK1lWiXzAeUC2xcsVVcYUVSFCnosbIeoaRWozPLuIrgf9TduNYJ1JKIPBbC6zh229cC2yLa4LvKAmwDftC5Luv++Y5hsUwFE2gqxQY9gLHo+JqZSsW01FXse29VrGpGD/Ni5tfyaftaEZ+zFJDC+Tkqrv4dxhUbONCvA9ud+LjHhmrhqiSIsLLgW2De3DmNvLc5Dh4xb+hcFJMlKZW654Fgw4cWCqJGmrmj3j1Yav2Z+XvPoAreTjzXjfi8V+LGXLyaLI1dhsV44A2C56JlqXSjX5NxVQSqAUARPT61goz+YaOEe9w9/F5WVICcZS683SL/n+anX0T/YzieepVh2d7ryxbdf19e/62d+Wh49sLzZ//Dr//W15UHX9sB5obzs3+cRQD6cUBGbE8Bq0RQxJCJjQMK12axWtCl4tVxUFRDKGsYAFH7kBBADFwjgXhumywglLuXwxq602y0ZjpGvNZCdxo4Sx6LMpdWsSrvRkJs3d/RmaLQampSPtjrVRkPKCBP1QSBvytnJsRJAKHgggCB57VZTcw9VuUFrHhR/aEXdVQIo0m3XZT6dZASwqOpgf2k5gdj+zm7HCSB6AVsbMpBHhi415NzeTeSFZIhhYRJAnjNVFBdWBGIE0Hz88JDCgGyFBxaaAfl7ajAuWKsl5OahGpFt3jDYguBRVZzXrKpXSSTCR04A8X1Vap0AKkHEifPEbqhdVwmgdhRxaxgex8wTsKlMcj9zgpNCMPjRD2mlxocVH1II/T+LAIKUg7hpSoIWshhBHvaHMltYzqf6/I36Ws2NAffJ8Zk8eXIq7//gA3nw8EhzOUEAtTvL0HoDY10ggPjLh4nuNp+mz7nprhsB/NXf9w/okzZXYXMSj0kdFg0POiHa2zPlHESPFb9Qe3d2LKeWDz18RjJYL1r/bixsDYZUkhJsBzSNxYgevT7xGuFIXnPIb9WlUJSlx1Fx7ZOY0bOvPFmTP9yHtYaRVRLAUrmaQsgeKdYJGEigrh5Kvt87JI9oB5bIYLks/YKtc02mLFKh15cXg6C4DtETe28uNW+tlszslvPk/adh9iut5LTR3MiKEi6TNtvPfBzKyXt6/cy2b7aPuk/ZfTD386oFH2zL5mRH71kChXxxTy0h0USO7bmTKBSEcFGXAt8Ot9Wf2JiN8G9S75Fy5JEY/s2JLo594WNNKhaZTNLEg0VGuVvB8KKnzxMsaOGGBdccCaCmwHhqANpFYjk6PdPWkfZdViUvpNe3IqaL837yAZy7Z+SsMEoEUcemE/MH5DnotLupgIch6R//0d8m+wdWwfwjv+VL8ut//f/R1//5X/xfry0PurYHvr4dX+7V8whgyj+ogezYLFY7fCzHOvPWVm9mHqIEsNmo60BVhlLks9mLs3MZLJoCBWc6GKhqiEKPPYR8GzWZzkbypXfeksViLj3t0FERmSJ3ELPekbRbNTnY3ZWdHbcZqZSkh6oxdBxptTQf5PRkLHfv3pUnjx7qflVLZWnXUcSBdjldOTs9sjA11D+omhUjp3qzLebWv7hQkHYToWMQQNgu2MMDFgyDldnAYJDY7XRlOOrr/2sVNyHValQLRWJgazX3Un4ctsHcPiUTGnI1ssKH02jiuZae0wfjVAxcMCC2wUzUow+LEm+v2LU3kCdiDzKoG9VqU0OU1m1l3UZu1bSBjATQ8voK+vCygRaVsLYfuv6yva/rcv9AKoD0BtSB0EklTLevkiPdloeq1/vtJPYFCGB+VYMAMjeSf/E5yBrz+XJldDwcy3xp9i9KEidDVUWPjo7kg48eyGSykEcPH8s3/ua3TOmutfVYYCWB9ek2NFQNexzD/oeRP+L7cXfjbzYFMAggKuCDAOKaDwIYBPDlmMin+3UQwE+HW/pVsdp4ZgiYikrTwyqqJmFmOYVPk/X6RfYYJuGNSlGQmNyoVmWnVdewMX7f753LydC6YCwmQ6mWYE9Sk3atKJPpUA4O9uTwxo48evRAao2quvivxlY9POyfab/gmwcHUq2udHaPhzqICpJ7Mdvs9YeyXJTk1q1b8uDefSlXStrSDcQRIVnkLA57PfPxa1S1WASubkbKRGZe4YnQNpRJhFrw8G816hrSVgJRMI9Bfb/d0NkjtlGrVfXz5cJyAnVWu1xJFe3YnOxpbmIt6x7g/Wxzf6uRCRv6m2aj7UUd2PaMOqUGf0hEGH5VMoGOK54sDCJYbTRVOUTyNMIsStCkJPOqVTVrqLlqTd8ZArY8w1JqkK6k1b29cgJotT5QIi0v0Cwe7DzP3bOPeX68uC6pftl1in3OyRBf5yTrksoAuyHHjkUGplx6WNBDwVAH8F4RikzRlCkQuqOTJ6oAYn9/8ME9OTo6k9FwLE+OzjTkdDyY6jWCY8PvVW3CcWm7vTwxfk3En3XbfVIF8FWvAn4WAaTaBXzY3xWhWKp5XTd1B84s8sBv+D5VwYtBX1s5YqktzX8TCyr99X5RuyYLveYKID3ooN4w3EufPqRFQMXDAuJGxSpZlfSHKaSIfap66Bgqnm4TubwsIPBJTAVjgxeWaFg52cDYJEonz24ZgzF0ULCKfBawYPKZIhKuAGLiybDvajnVyaYutIvB/eDhXtjipIKRVGgkspoZIUkqqE/I7LxYOgWWHyJqp8s8v7cvhY/dg9HSWExp5X0A3FlYwuI0fP7wsVnUrPsRQ5w11U8dbPxcwyOQ+3nsvXiRN50rqiyqoAKI8ZnnXY3+XZHN821pjcMUBLaNxParxUoKO6PvOpZLIeACwiu2r/BgxfL+h/dktbL34IhgnxVl5qog2kwOh7x+Tdm9GB9L39XP7u6eqoR2/KZ01lvtZBMD4QHLz/7sz6h3rmK8mss3ft0UwL/0f/yNa8uDru2BpzvzJV8UKvVnEkAWIKA4gy3WkCe4hAKImx0hMiiCUpBmzdrDNSoVDb+iohd5LecXp3I2NvUM1VUo1KjXqlIvoZ3YTO7evS2F4lz6/QvZ2euqDUuj2NAWbZNRTwng/m5H6jXLj0PoF21G8ECB9nh6fibNxo5auMBos1avari2026qsofw3lSNn2uCnr+q0onlfUG1w3ZQWALyClUfIV+QRGwXAzQGinkRBtjWSg1Gs8P+QPNMoHayeoxVqnrj1lqXCkbwW1rIcHDEQ4GhMu/ProMmPK6MVJVkoiEvC2tqHpq3b0K+EckciRTy+jTMXLXwEgZ1+70lE89I/lDdXK1pscNVAgjfVw7cxYqFjFkhrORLw3PeE1esaIX7gSKNlA+Y5VDlBDAPzZS8FzH2L39A2b5b2Dv/PhTAZxHAfJs4VygmUFKuTeBtHTjnIIBoraTef/OV/OAHH8nRk2MpVxp6bb53/4mTPsuDwveYb0mxMn/oPY/YflICmK/nVfQB/Prv/1EdO9TP0skH7g0eFwkgxo9Wh72zTX7HvcMHMX7TaBvJytsqMvRVmY9S2I4EEFZTJAI5AUxh42ZDpt4ijQSwgFC0kzm0REQ6hD50nQXVZotkOI0xBqkVeo06aYS3H1VzemliEoYCLP0equ7ZXs5/q7/xvEHc21PPAVxPcGCp5Skpvr8aCnbzX5PzPTTtIXWEhcW/q+HfzHDbHgcIK9ujkeeCk1KeL5Iv7gfVfD5Orl7LzyKAuP+KHialys8xh+MQQ6+oomXOHcPCyDtGW0ssrIJFx6jTE8udm85nCbtKw64PkDXmBeK6K3ulN2258DmvAewTsU/h/mIlkSxea+zwhPU3KmgoYDl+DBGj8xRSQuxamQvazdn+2Xnp94bpWiIBnIwXMvDBfTicJn9ATOz1N6Nji2aJyNtvfWFdrewkGs+I+/cf6udMj/htf//fJ1UnpQ8ffCj3732gn//3//v/e2150LU9cN6oL/v3eQSQCiAIINUeDDrI22MRCBKRoZS1KkXZ392ROvLR0LYLusliKeenx3KxgO3KVDt81CtlNbIsLSeys9uVvb2O9Afn2uu33W3J2fmJdGtdVQ6X87F0223ptBpayYuHwQx2B6WizrJxQ6Ic/9bhHX34PHz4UJqthlf+Inm4oeHg2Wwijbp1sIBNQqFsxtAYjMfjoYaboRzivkL4F7YwnWZLCkUSQFMvoDighRxUCyV1JXQrmQj6doIsMgRZq3YUL/wfn8O/EP/HYMMBCceC7WOfhlPvM6tqQV3ziExRdLUNBNC7dOhgvbLPlaC7XyFm3giH46/lvTCXyggkhrNEGkEWnQDqA8t9BPEQ40MAIWALFyNk6/k4+nCemifLytREfh9FP8wroi2LPQjWt+fV1/xtTgCVdHqYnOvJiSBfM2cH36EPIF5DAVRSPp3LyJUi/AYEcDgYq4Fstd5SBfDJ4yM5PTOj6LPxQhPLSfbwQMBwr9t7RhFIEEAbdYIAmlN+EMB1ekoQQBvzggC+LDN5sd8HAXwxnJ77recRQM6YGF7ACqAAWo6aBSXR+QNEqNuoyU6rKfVaWepQXmDYjJZt44n0V00jXyNUAS/1+4c7TTk43FUChgnz4Y19zQGE0fTJgxOZjIdaMdyo1bQi9/atAyVdw9FIFSxI8IPxSJOKD/cP1dD35PRY2o2mVuqCcN65c0cJHcIrUApA4GAC3O5WNLSkob7JVIbDviqF8+lMfQaxr3VX1EAGy/Wm/h7/oGricySfg1yik4jOIjVfzEhRudRIVi/YBshePssG4VJC6VY5k4Xlt6kXn+f/meK2btXEUJWSrIV3KdEqXyNqJGuwhEGCss32LZywAKEqrX37NCd7BfKWm0VXtJKR+7lwhQ8EEJXGSniUnNmsHL+nLQ6OEUU/JHhsx5ZXFJL4MmR8VXVIISMqIR6myqvzcP1dVQdZAELySa+z89Nz6Q16yfD5on8us+lCJwm9Abp91NQj8dvf+Z7cu3dPcwBtRm8m5PoQ804tz0pX/GFK3/NutjzsTYJMIv0qGkH/mT/wY6oA0ioJrzm5wWsqgFAz2l0r8uB7vE7wnnplauFW5teWtRYrTQep+wMVQIwjDPfmCiBVQ9wHVxXAkqaCWD4slDzWJ+jEEh5tNDrXTh6IEnjxCDvn1GrWPlG7i1i3HKhAK3rhaVjZVEP4/+nxeK4sXuMun7sCyFCfTnSo9rmqhylf3vUD9la6LnoDykKL3XRZosAtq/7V+2SJO/gSnjoxzFImLlf8Pj1Z48Qvv9a5z5fUcFdu7Xq2ySInSJivjia2byj4GA3tONhR6MHDR9pzGwuLzXB+eF7hbEAF73TonTaGQ51UY8F4zn3CuG/7UEhFHMznxftrr8T1PY6oABZM+Hjfd5sdOfIWbFg/Fnjh1pp2PrF+KoQTD7NDseR5F+8uMx7N5bxnnUIGg0nyNmQ1crk2kyNvKffG22/peISF3UPanZ1UJXzLi1JQQY+IGJYPP3hPBBErEfnV/+6vXlsedG0P3O7+l1+eRwB5410lgKJ2IyB/sIJBX+Ci7CJ/r1mXRnVNABGWmI3Hcj6H+raQ5XTi3y/JjV0UcKCjh8idOzc1Pw8EEB5/Z49PNDQry5nUaxVBG5zbt27og2WEnI5aXQngcDKVQrEonXZbbxQld42mlvBjcDs4gOHqUskJiAcGCihEe7tVI3zeI3Y0GPr/Ld8Egxu8BPmbcq2piiH8CLnA8BqEDwatE+9BqRYqBYRhG7qvUKKgLnEw4+CBwREEkArgOMtvQ3VtCvkif8b7BMPiAETECGAWAnYFkIM0ciPV1NbzfUiYFgXzZcQ/mJbmRSAWDq+k3CX9XtGVQRhHe99hYK0FIV5kwoFXt+3FHqayWvVt/rAgAaQKyZynpDi6Upg/WHIFkLyQhPBq6JcFOPw9FMBHTx6pWqs9gJ0A4v/IAUQRCA6k1x/rdx6eoVIcVjiWG6U404rmGSPMZ00AcW28iiHgIIBBAItBADVkHQTw5bnIp1lDEMBPg1r2m48LAStpyUsRVktZeZszFIQgD6dWMp+udr2mzaob6AuMGe1qIdPRSM7nVat8hZ9eqSi1KhTAlqp/6ADyzpff0teTGXz6yjI47cl0PNKZLYpJmrVqIoDw/wMhA8GZoMgBRKxk1Z3DXl9nhiCAWBh6TW7us5naTtw4qOln6heH8v7RKCmCLOTAb0jQiiWvgNaZvBW/4DMUjWDWiHVgZs6q2Fq1ldaPGWjemQD7RQLIWfJ4vi5wWCuABUtkXpm6Z35mRuLmC1PbsA9wmFcygrCsqhrrJGyod1yQA8UcHhJA5gCSACJ3KRGbkhFghNtzAohZOvYRaUl63B6KRhEIFhJAkii+x+MmAdQ+0U76qIDl38VrrsP2e21dwSpgHg/JHy1fVKEtlJQAshPIoycPZdAf6bn47rvfl4uLoSZoIwcQx/nt9z5MBR9KkhFapvn050wASYJfRQL49V/8CZWhbLJkKhpSLqCY8B7EX/Xj9Mp7KjFQP5jA3+mgWt86KLDwo9vdlQcPHth6VgNV/LHw99af29Q83uO1Rl17YPN7LLJBBxC7vizFAAtwh3cdFuYSVhoHes1j0baHnseX8sdwv7nVyargHoNQAl35Qisjs2LCW/ZX73PPNdRzTeVwZkUB2B/kJ3OfbN9n2kcdi/pUeq5YUpCzMdmuV68kc4sRzc0rMwfYcwFZqOL3KSdVK89j4/2kG9UyKvtdwjDL26XtjE64yoanRj9SIYe9B3eAUd/y3Aa9YcrvhBKPBUVvtFpBn2XdHs6Vy+7w22Me3gNX03Cu2R8Y9/f+vnVWabetUAJFH7yGUHgxcQUSRV+G91qhRGEYFjwX2F0EaSIcm5lLCIWQnn1aUOi9hLkfmETyWiZeyEfm5zpuu8qcrGdqnhuvVmpFuXHzUPfljTfe0L94jsFWDAty5O0Y22vrpPEw5UL+yf/qf7i2POjaHrjdqJ/BUq49swiEa75MAFey1ArRpRSQD6hh4JXs1MrSbdVUrduBBQtCEOjTO53IxdIqaIuruRpJg9ShE0ixuJRKtSR37h7qBd5oweqlKJPeUObwwFrMdSxGUQcUQDVbxs3rfnfIc0PuzXxsxqBMDtYb0cNDuGHop4TBAjfyrYOq3jgggAgB4HcaPiitbVryIo2CrI2aUcWsSp/6fRV1HXjgoZKPRTOloq0fx6wFCT7SspAEgzgJJjCeLOw7Opj6wwdGySBaNGNFIrmFjBHGMZVQB1wPL6VesyBn/iBWYqUEztrDJdUsUwBhNWPHUxFUMyZFruyVyxkBBOkGGcS2LIfQQkpK1Fw55UCXK3UMz6brSbEyYksiezU0ShKWVEvkQzoxY94f8cV6+RnxhhE0cgD12Fcref/DHyjBwINnPEXeoEjvoi/vf3Bfcal2D3SwRgg4hcH9Afwcx5pPdOM9K/TLFfBh0+/3X7mx7M/+0k/p2IHjW3o4CukXuK+xMFkfFfOseqWfHx7Oqcq3VpfehREFPlzbzU56KJfnZ8n/j+cnJ4AkcCCANa9gx3WCdBUs65CkXQ98r+rVuSR41c7tSxMTVgyjYARLGRW9/pregphc0d+uqHZMl8PGIH/5+V95QUkKwRaWiTglBXs+V3st3SYI4NhCiTSMtmveChC0hjjrlMP7oVpmle/axihX2NcO0bSXBhGxS5D3nb72qtZnXZw6sa/ZJ3pfTiwkOXMvPERyGFpFrrQXzaZzoJEQJ+H8HqI8mmYCIpy1gruY2XGAqIGkYcHE4bXXXvPrxkLz2AYmxliQ3sE2fjSKht8gq88xKcSCbRMbpBPlogE+x/OF1xA8AulFia5CWPDM4eesLIYowe1wrNNjIhEsmcsAlnazJa+9bq3ukLqERa3HEAnT/TPympNTuHMw7P3v/sp/8cqNHXpAn8FybQ/8M8DOVlGq2iB+pRPIs2abRYT4kGeGitHFVEN/1aJIt1qQvU5bWo2KhoOhDoIATidjOV/UtHKqgFyxAmZoBakWYMpckEazJm+8id6GSylVQMAWMr7oK6Ewfz705S3Lnds3TcGCAgWlCr1oYeoKCjod6w2KGw8Pj/ZOV29GED8lgJ2Ous1rKf9oJIfdor6vFiGjqSoLsBDATW9kBfYSRvrw/3LRlDH8YzU0iCwGZhBVtobTymfNk7Oq4TzHB6/Nld4GMRJMfH+2nKjapyQZagFUCuBXqiT/P6gRqkgi/Dpf5/3pbJMusupIb6Fu3U7R/Ab13OKMPCMEPJ0tXMWrCIxrU2GHE8CrOYC2T6j+tvaASXXzbWLbefiXah3/6r4oATQFMCeA+SD5NAG0BzcJJws/sD5tHTW18D0rk2EEfXZxlnKeEAJG/tH7778vZxeDRAC/9+4P9DvN/Vs6uOI64XnzusxnelbzPL7oPZgXuhAD/pbHHQQwCGAQQNE0nyCAQQBfdGwNAviiSD3ve5+QAE6LKMJAz1yUCiB8UZCdekkO2msCCAUQ9Gw8Gkpv1dCWUCSA8DEqLaea77ez25Zbt+HzV5bpfKI9YkfnPbVF0HUoASzKndu3rdoThRGwQcEsu1hST0BY9UK9gYwPAtDstNFyWBOBkYsH+wkL91rbsN3mXEkhHvyT8UxbC0GJQAhBCQZIn1ucKAEsuQeYEkAjPmob4+bPCH+ydzAgXi6MKGJd/Ivtg3RygGdVtapoJcs5w2faX8WrTrUlHH0Da2atYUrLmgCaSugKTMEIpBFlFJFkLa1KFoZXInZFAbT1lp4igAwBYz+UpHjRifrieRUwtq3EzHP+SACTipa1b8urg0kAGUImCeL+Y715CBgTZRJAboPbZgI3MMZnqvotVnJyZpYwep5naPG3UpuY77//kcxmKxn0h/Le9y30OyuZSo2m72m7LK55xgjzWRFAVVD8vL6KBPDX/sjv0BmNqj+YEOqylJb758HXE0ulgh7VDGeZeoPJBJUW2B6hCMsWm7QglEfivBg8SmSeE1O0yqJamEK4taqgXRuvDSrqXGd+3krlctp+UhC7d5Lro6Y+uJpHhbBSrycbGUxEsYymMykxVIwCEA/nWp6tRSnSZBpRAypqrrZpYZTdxkkRAhb8DcbEpStF6/1HTsTan5Lf5RCP/5dLbltC+xK3aiI2/A1VP6rldgpNcdeXmbqYzTV9UwVZFG2c0fvIFcC5K4AcF7hO0yvX3V7UhN3Pd+r0gkk1i1UW6w4wR31TQaGsVb3Q5s0335TdXUv54fFAAaTFDdrLpRQcD9PjOZDCvR5WxvXL0C3EBOa/83uYZK7V7HUIGh6iWCAgMLRL1Q//p8LHsTddlyJyNp+l6+/m4Y2kALLARU3uB3bMvHeQEsFQ82t3b8vhoYWNf/mP/4lry4Ou7YHzZn/Zv8Xi07d1vs6r4Ss1vyyiCtZuXRDAdqWoBtDNelW68AFE0ehqKaPhQMrNG1YYMBuqeSmMTbutshzsdqRcWkmnUdN8OqiDCGvA/hgDO6vHUBVllXfMc4MaZmEWrLfVKGtoD/++8IUvyNnZiT4s3n77bSVskMnRPxQPE9yU5ZVV4VqHiLHehLs7+xp+nc+tBzKqAkvaWaOqqiQw0Ny9el0qsIxRU+yCFoacHp9Ip9PS9am1zMD+4jsM0eK3JIQsLqGaCFqLxR52RbVwMbUOFSBm0qyVvQVb37hoD1KSpnzw52DHAYeDd2VVcUsXq+RVpZN5gbp9C22nfDzPAYSimExyVblspH1haBfb0g4rTjAZhuXnVO04wCvp8RZ3PG7mBhIvPnhIjFclCzfDsofFO7AZwrpQiMNtkPCdnJu9D8jhRe9MBhc99Y3E9z68/1gGk6lM50t5dHSiHl790dgIhlY9G4kG+dbtf4IR5uqDmPfR1XuI/3/VCeCf+UMWAoa9Eq+1Wh1V9lal2fW+v5ggMeR5dPRYP8PkjHloyDerO2lkSzC9t5tW8Ti9uJ8qTPlwVi9OhnDdCw6Vt3yQM/xrD93sJDrxwnpAIrEkY+H2rTVZY/W7BknW5tEkfiSHaAGG0LCuBx6DXjFMc2glUu4TiH2D7ROWRCo9b5fjGf6uyTTG13XxGUkZqny5gMDxeiJhtr+XCSAjAPq7S+RxbW6OnD2OLWldvq3899wPbPesZ/lp+D4mxvy9vsA45qXWvH/xNnPjkNLD64I5ywyx6/d6F+m7jy+sVzDuf4ZJb964ncKxvJYs+mLoIMev17MJBw3GMcbzWoUzABY8FxiCRj4e94mkjvng+O4HH3yQ1sX9wLrpKcjfasqSE1lEF7gubnter8mNGzd0+7du3FQP2/wa0DCz53QyfQLbQdMDLG++8VoigL/wr/3xTzBKpUvnN8WLa3vgbRqR6gAAIABJREFUn9XZ+6QEcOGII6cPw4yGgBsV2es0lQDutmpSRYgUnTQmY5msrKn1dNI389LVTHbaFdnfaUuxsJBWraLVvgirYtBalY2MTDw8CdIBawB0tlBipdYn616RlZL1eH38+LG8/vrrSgD1prp1S/0FcZPByBODFW6qitjMH4NYb2CDw62bdzR8ipmjhnbRTaJo3S5yAljXrh6We4fQNAjgydHxUwSQ5I95gTkBJMEgASSeRuhKiQBiEEOoWwmgP4ywvqknXedkY60WrB8WVNxwnDkB1ER4nd3bQGedLkyl0LC32h7YgxSY0GoG31KfQSejuWIAH0ASQIaA8X+SQRK0dM0urdqaDwuSWRJArpsPHfTj0OfJYqn7jMEUBE8Hec+zxMDKWXdvONPQ8KDXVzPy48dPZIZ+x/O5nPfHMp5DFVzIWW+g9gwXg6F5OvrDThUtD8kHAXz+SBMEULQHbBDAIIBBAD8rRvLJ1hME8JPh9dS3P44AXlUu8OOlV5cWljO1damX0du3LrvthhJAVATjPVT8IkfufOTVsuOeEsCCzGV/py6dZk3b2kABrFVBqEBCVlJtWXcGKDamSpWVAMJBXWeZVRQrrJO7l/ORWsBAjkflFGaXUOkg2UOJQFWV+kGt5koA6vCA8/APOolgVvWFt78kVinoHnpKTqywA7NtkqNa1apjQQLhFQi1A9tFEi/8yUAYpyNrNcd/+C1e5zlqSsq8Q8DKCzUMa8trVAVqSVIGW5e1+fPCk66vhiHxf6ojep48rKwq04p9ey0h3TVHDXmCEKZwj18d5Yr1XgYBRBK17psTVFXJCrCOsXXp+rIwUU48lahl+YG8+JaocryScI59yFXInOBO0G7PFWAleoNhMoBGeIxqI7aHNlozKWtO33g4ktF4YB1CJnO59+C+jGfokjKX4Rj9p8eaaK4eZaOR4sF8RYbfgwC+CAHE+bTvoV0i/DyxoN+3LktTbrE8efJI/6qxu4cKcd2ympMP0l5voKkaWKbnj5NiRtUPEyjYHmFh2DdXkNEhgspfUs6yqlZMbBhCTm3CGjfXebOu4GP9VPu0c0gyRvfiCdzr3ulDO4e4AkhzaEyw0LEHi05CXdVJ6qWbxuNzquRMZeBveAau3vP8nGodq6+xHVa4PmsMx6liEck6xLuUqbdgA44YQ3X9HmnWSZEX+uRh4XNXAHVS7N6Hl1RLV8Hm03X7ORZRYJ1Tr3SdeOEHtok0HCz94SgVfPS9Chzn3Sy+bLnwFnEMnR4c3EieewgXn52Zlx/ucT2X6tVq1w33A88AKnQ4Dh4fFTxcJ/zu9773vaT2vfPOO7oePAMY+k0+ogVrJYoF6+f1z2uteXgot28j/1201eijx1YZjRA0FmzzcM/C27yPcM+w8OPG4X66P37+j/5b15YHXdsDT3fAS74oISHrY5arA4gVKJSkWimo1ShIYKMs0q5XlACCDKLSF23fQACHUxgmT2UyHnhhx0Ju7HdkMujJHnIAD3dkNh0qOdw/2BO0/MHNhLwaU+AstIKektpySluztfQzrbhaWJ7XRe9c/+Jmww2DwRK5fV/5yjvJ6BM34X53R48Wnz0+eqJWE1/76o9oX1CsF9vAgL5wtWmdpwTj5bJU1DevJLVaRRrVmpILVD2i4k1DxjPLxeM/EkBCzLCfYggDXLU/WOcL4XuqBKpdQdkqebV3LxS6kqzqa8Pmq2EZPgiwjkufLdZVt3iYMdSLHEqGO3G8qYDE+wuDAEKB1e97DqASIjWSXq+TFYVXSR2r6zS/Dv2gvVoYIWB+N1cMsS9cbypIwUA6t/y+RGr9IQr1D4QB69XCJGch41VRTk+P9Zxgu1CHUXWKqufvf3hPTs8HMhiO5aw/VCNfIIxrjgQQ+IEAsvDmRW+xnLTmv7l6D+U4vco5gGsFMAggzncQQDfBzsPWQQCDAL7oAPopvhcE8FOAlv+kXC5/LAE0QmIwq9oDGxDN91hpnt9qMZfyaiXtZlE6jbrc2u+K9Q8uC5Se/rBgdinTUarsPdxrymTQl73djtzYb8lk3NfPbqHat1Sy2VKROXQlVf0QAtYWYAIjZSOAmLUhFM1ZFgjhcDTwal2zWwEBZN4YZnE30qyqIcenJxo+/tIXv6wKYKezo4QC9hDYHr4PnyolceicAcJWhgWMEUDM0k6PjtX3DL+rV2saRs7JCwsdqAKCxPA9bRTfyDqFeChWu3IsC9qdQ5U2lNtQbausbRtI9J5FNtb5QittK0rlj96BIJZU/5B3eImIcT9cAdR9QN4nLDC8FVyuRsAGJyc//IwFFThm5ucpAXYNkmFjktWUD5QRQax3sbLiDCWQmY8bfLKo+uXXabHR1kTv6XQiKNJB31/NB+wP5N3vfyQnZ33tzXk+mCjpA3kkATSlY64EEGpAKIDPH2B+7Zf/ER07gBfy/LDsdFF5b1589P6bziay8Ny383NTOKCm83zDu4/+nWNXaqDq0+dvOT5Lah0nZPCLS/YtXvih+bX+RMC1mit/nFhRJWd3H7zP95bNW0kBRKpJUtRJaNRWyG1PPM9M8wPpA+gTNjt2T8dAO0Wf4Ok+ePEI8w45Luikw8kSj8Hu73UHD54JTpJ4zXPil4/Ts9l6zLb9KUoRs3VX9VhYQLULERLkaBMPqokr3yfcv8nShT2JtSuSqWmKtecWFpiimBWTaD6gHxiPE/vEbhrsutHr99fnED3cPUeSn2M7VEpxzxJnqmnIG2W+37vv/t108WIiq9ddrZYUQuYi0roFn/f7w3Te8zQV4oTIAnGgTyC2x3VxP9muEuvEOaaazb+D1SIVliBS8YP3v6/7x33H8bzzhS/qewcHe/oXaU28/mEDw9c/94f/jWvLg67tgacr+yVf/DACmD/Y8wEG+XtqurRcSa0o0qyLtoO7c2tfzZsR1p1PJ3J2YaFXtCuitcv+TlNKq7k0G1VBh53FfKw5gLfv3JDZykKm2nFYK2/rmvc3HI5skNFwqHXD0P1ZTPU1zTxBxDDQWUuopXz5y1/Wz2GWihv9YGc3hS8RvsANfef2a0oAd3b2zE6mgTC0kQu0sDL1ragEzyp4rSAElcyQ/0HRxpOh5RYu1gUaHHip9rFSleFTEEgQQA6geFCA9GmeoIbAK4LuICvPsVMyhChU1mOXDwH8ZehIyR597LRK1wboZOrs/n6Gs33XSI8pgko+sY2SkT5NrNfG6tVLiiSJG27CqwSQn/EvFUAdSD0H8GpIi4NmUiLTpGOpxC8nlGiFhW1C5aM6qHl8CCsVSpZGgIfaAongyPWbyen5hXz04EiOTs60D/DR2YWgIT3yCXHdoMCJDxjkAHLC86K32HVTAH/tX/kZJYDAH918sOzsdLUPt76/sKKC0XiYCCBNbTGJ4sO92+omgtfvuXHwwCZyeg8tR34/r02fmYbAh7reB2WkbNgjQdXbdOKMnOK9VHxRw2TOSJpe3/h9+/U1AYQTgJO19Ll22bHvkqRBlYeyjAV/SMZgq4RFQ4rs2rZcSq1lBTJ5ukZeLarH6+kous75XHOSdf+y1Jd0rSnB9DLidLyoPrZq6Mvjtyd/oNAsuQQkw6PUUs7GVvvuwsO+uD/geZovOiY2jewzP1df01waYyFJISaJ/mO2hMP9xtDpmRdrmNm/nXcQLDPBFxl5qFmjPRdWeIJ7fKdr5IjhfIznfTefRghYVdnMkxLpAiRZrOLFekimTi96iWDyWjEvRvPiwxiTT3DxXm4kTQKI/SRBBOljiJrX9EdPHqd1ggBikoSFn8PF4u033tT3bt2yYhF4HqYJjBcj4v1/4hd++dryoGt74JfuxJf4T7VqPoBXF854roavcKPjvXIRNi2iFb/NWkk6MIJG146be5Y/spzLaDCQ5apqPVlHRvJQMVpF7l8TJLEkheVA8wJbjars7XekWGnqgIykfdzU6BuJcJ1OMLW3rQ2EJID05IPp58XFWSJr1VpFycBv/a1fTV0rcEOiQAXrxw0JBRAzN3Wk77S1KhA3IHo9YmDHa3jlsaILgyZuTDjeIxzcajaVMELVYGUwc9m0YMNtSHAcXAdDwzgWDDDd3QNV1WxWXLSBSAkM2pUV9WHQaDTVxgQEbVFcVwDinOVq41XilM6dIJTuIdSChadXqtpZniXUQFTEUQXUY0lqihW9ICyuiiHSAcVyHKlE8Cakosf9yEOdeU4iOr2kcLCTWw6qKQfPw8U4xsVykh5kqFkH5thXKI+K58rUE7yPv2fTkXpJKj7wivTK5+FoJg+fnMlwNJWL4UR+45vfkSfHMHktm5+gG0Fjv9kKDikPuRKQqy/Pu+2u3jMf971XOQQcBBD3XxBAXN9BAI2UBgF8CTLyKX4aBPBTgJb/5HkEMH/oXdrE0kKcVwlgu1nV0O/rtw9V/VMCOBrKcGC5X5PRVGeDMEzuNKpa/AEVsSgDbQ/XadWl3alKtWFNvTGbVs89qH8jzLp8LzIFEPuB4hGsHw7u1vzbEvnNY8oUQCiBmOUp4Wo2lNCgSOTk7FRnk3X0+0UbqUbLSR8KTszKBWUrSgigCC1Xcnhj3wo4iiVtcTUZw4j6OBUwgIwoPvgtZu/zua4TxI6hDyYa42+za4qkDqKrgqqd+D0IIFRQNERHEQwJEwlgni9HUnKVAGKd+pmYgbMphDCUNvKnn3tVr+YCIsyK/DxX13IjaISAQZRIAC+FubOCjpzo8brJ1UC8N5uMTXHMOojgfSWdTlSplqo6ucAEAMUsdjwMBWNiQYWBxBHf6y9G2oZK90VD+VMl0MtCUY5OBloAMhjP5L33P5KLi54cn/ZUCWauoZJOt4H5PAlgXvRycXHxyo1lv/pL5gOIc4KKeyyHB/vp9dxVjeGwr+kgWDBJwwIFkKrITruTrDsuPGlfK/ZdgavALaB1ue0brxddlytGUKg5cbWqFL/GM+sXKkpahe9hWqp2pf23ksqGc5MUQg9z2kTI1Cm0fdNxaj7XSmAs49lUFXssVbe10XHIBy9ct/W2KYDcpqZHODZU8tQ/NPPMo1demlhkFjWIDuT3GV+Xq1ZAsJ5YoeCL5V9IQ/FwsLuAITqcChjQztMr4ufehQLdKIgtiuCwqGWWd+jQccbH6KTsQ/1LjbzXUQlu5+z0XI5OzEtvNDUFrFbHOGwKMsLDqeuHX1/AhgUZOp57TjdysbHA7J32LiokeJtKXgvAnSFfkjUtDnRLICiQUA6xMFwL7z0IDFiQM061kNcvniFUCFlMgu3wmoUAwGOm4nk+Gmr0SK8FKSQfQIayEcHa37Fn4U1vEweXC6qScM7gNfS7/4U/+MqNHemifckX1/bAXxK39PPnEcDnrb+MjBb0gIWhs1qGFKRRLQo4H/IS3rhzQwkgqswmo6H0e3ZjgwAiZwupQgc7bWkivLNCH92hdNo12dtpSq1eklpzz25azwHE+IEQC0KySqy0K4Zd/EYAy0mFwwBroUarMsW/1994TQcUDCR4/+b+nt7AeO/s4lx/C/8w9KLEIKBETfP0TGVclZirZMobbkpU/+KmxQAwmYzl5PjY8/oKSlLwOytgMeJJwskQJ29iDXE3294arqKhHjzEVD20Z8rTBNCv+KuqFAf7PKy6DhNZaEwVOn1gs+hk3dbNfLjs/cXUwhx4j22VMLaDjOdFIOnB6eH4q2Hf9DD2iyk9jOYzHRBTJxEnWwx/5DmDSuIWFtpNpNcfbFpkMvfcQIS4nSCOpacPCSWZs6UWgKAqcjZfydHZQPqDsfQGE/n+Bw9UXR7NVhrGwYM4EW0nxJ8FAXxeaDgn0a9kL+A//Dv1kQ8j3P19e1iBCK48RwwV2HbvD2WB9o4i8tirHff39uRg18J3uN4RBsOCc4UF550Toxa8RT1cy4cvSF8KzTIsq/6WxkJw3abr03sB476rekhQq4g9v4zrmbfuJpKD33JbmIBxPxnuTRW7qareJnD0syOZ07HSySKUfvTc5r2a7lm/H7m/iAAwxIx1qr8gJk4eatYog4fHQXThbYeF15m2EVtYagmCvfln+hr5287WYLbP7yFvGwsiN4NBz/fTlHT41FXLRm7XfZ/ROtEGpEvjjod9kbax9H3Tsc9Dw2yhhkI/S9URzcXF0kMOnhN6ttTE+5O+VfPmbTSxTpI5tnXLK3oxPtNXkqQRBI0hYP7FZJvYIweRpJPvoWCQ5xCfMWR/dbzC/pEIYmziNcKe83oc7rU4WszTBGhvZ1e6O1bxjnsJC/L93nztdX1NAsjPDPC10f/v+b1/6NryoGt74H7XvvSfT6IAYoCpoB0bBrXySgkgFL1moyzNelkVwBsHXTV2BtmCEfRsZG7usHyoFCs6iNQr1sINlcTt5lJazYrsdhvS6dZlWTCT5nqzrQManNtR+QsVR+0JtBfnOqcHg4qGA5FQPBnpgICBA6oDft9qN9U9HeX1uOHv3NjXGw8DyXDs/WKXBR10kO+mDwa1ezEjz2WpKoN+X99HdTEGgt1OV937MUOE+/3R0RMLPavSYHl0aotQrSa7EjO+NRUODx4ll0rIKrq/5k3oIc0ySCe6eVjLOSiT+L9608ExOzV0vxwO1pw17x6SXxiF0rqdHXLebLtQY61DiKp+ajrtlb1LJ1XFgpE+VeHQvq+mv0v9QV1ZQVj/KslhLh33I/+cZEAHfnhEZoMlB10WfSgBXJqdjOUPrsyzD51WSmbZgPAT/jI/Z1k617w+w6Kgk4/5Aq0JFzKeF2UwnstFbyjf+d4PtCfw/VPrE222OJZbCJUU6/s8CWCu4g6Hw1duLPt6EEAtzkoUKgig3u5U5YMAmuodBPClacpzV/DKDZqfHxSfbs0fRwCV1Li6Q3JAAojJIp7/IHuNekn7AMP+BUQOKh8IIFrBwdkYHmzwgaqhxyyao8NvbTbS3+12i0ogu+2atDplkSLCQegNbL15MTtD3h8IGcgXQjDgAXh4ar7eYKjvgyip3cxkpOqekYSZ5hE2mnV9wEN+R8cSeCnZLNnCs1CHYAMD1QDrQREIQq9aPbwqal4HSNpOt6uzX/y+Vq5Is1XX3Mbzc8s91Fnwylq7YZ9y0of1ktxoDqXm1IHUWWcS6w9clqIrF2sCWJVas2EhTMXFiKOSOPb99VOvie/+WT4jL8Kfy88j7V6AKYgoyB8JtQ7e2Df0HMa6tTOGqQL6rSIa7xkBzNePcF4ij1k4mGra1SsTBJDXlhZtuBqoNj/+exZ8YDvTyYURM3/SUvnD93N/QOYwLgpHSgq1Zmi5ktFwpirJcDyT2aIsk9lKzgdj+cbf+o6cnp7LyaSUCCD2Vcm5+3h9FgTweXdmfm+9iq3g/rM/9o+bArjbkb09Uy4a1UpKaB/0Ldw7GqxDwFSWup2O7HY8HCqldZK9J9vrZNN95RAZoAKT2r5pMZYpUly0BaIrUqreeZiT6mGlvFb9NATsBQa8LyeVG5eKQKgQFl3BS5W92kwjm4hl1zwNEfOCjfy+F2/fmN9zrDRPBvdoH8f7DvnGOulFhxC7AaAOYnwytlWSGYrxvOc3/mq+ccEUpRQpWK3N13E3s/0c7zeUnWG8xIKCBBTw8V7AX5je8xzwe6jspoKnkzj3vUvK/2Kpky8svXMruMPCgg2McUhBwYLuS1jQmpM4I+2EIdO2+xJie9xnjMsM145G6y4mPN/4myt/uv5+X+95LPTcY9gW7z14vPachPKHBRN9HhNEBCp7vD6Ye4zvcntQAvma45KeI06am41U8AEfWVigYWEIGOHe1+/c1ffoq5lPoi1L2Zaf/ed/8dryoGt74Onsv+SL5xFAPtCZp8SQa82VIhBA5JFQAcT/QQbbzYr28AVRgg1HYbHSYmGE4goYuZBfBuuYwkIw/u7vlqXbqUq33ZBVYSyFUtfCpzBF1vyRoownMy2EwA2NgZG9HkGczk9OlTxhfy3HDX/nrh6O9CbTQbBgypHMJ2o5obk5BVFih57AUABZXdxqtzX/CDf6eGEDBeT3G4eHug7ckM1aXUPBaj3TH2hlsHoIFi0vCPvBAQT7xVxA4Ij/kxDOFrSXgWJYl3LV+v6qR5+StJpU680UmixXjeTlOW+8BJhvdFUFRBjbzqMZUqP6DoRSiQ4IOS1mfEUVv6ssDGWhdgzGZlRtBPBSePeKf19+SaawL3OB8ADLii3wXZK9pOB56JzHMZv2VNHjNvWv+zTy/fyYp4v7mQpRkPFwquGzcrkuo2lBpkuRwXAqv/43vy3Hx6fy0dk82cBwkMaVp/v1GRSB5GQ5x4b3FPAPAuhVlkEArX9wEEAdc4IABgH8OIoTBPAlCSBtYDi7UDIgpmDBSIHhSkymNaRaM0UIXl9lnb0tpd1AezWEd4vSaaNzhNkHjEYDKU0bMpxM5XFvLJMplJi57DcLUl6MpTAdyte+cFvKFet1W2m0pN6oqOLWaFvezXKxkpYqBVbsgVAkc/VAvtDSy6xZ3Cy5JDIbT6RUspAsZqvYJtzWQdBOHjzUGR0CnwjpThdT6XTbglk+iEWz2VL1cX//UMbjqRRKdS0wwQwXBSUM4YIQgnhi3ffv3zflsF5P+YdqOVEtqX+gqhkVePtZqFLbyXk1bqlaU6KHpdZoarWtKhvFspoUg8AWyxUpoi9vsWIhcRK2TAXkfpFQUXVQMlqyTiCWu2lhU/tHexgQeU9uxwrcwgyKSlIlEA52RQbygaqXXuQCL0icGyXoXqSB1eC8UBmlWqkh5yvFH4l0pf267Bsoi6ER3qXlEaGIBBYv6q+hHWmK+v/paGx5oQIyPrHQcMEURjSYny6WMiuWZTyba4L50UVfhoOxvPv+SH7jm9/Wwg9tQVhtqOqciJvn2xRWZji9cD+1l7z1ktqE9Uyn01duLPsL//bPqSSF+6m74/YmhaX0PX+sd2GJ+ePhQP1CdTrhNQvIF4aRui7A3XOjlt47FtfOulvGWgFkTmquqKc2JHCY9BzAWsMmUlhY7KFFHK76aSGXF3RQ2RpJZ134UUWaxrq1Iq9RdgXhuvW6zn3+qAb6tnnf8fcMF/P3UNmpWlJVxP3FXEHkPGsHEq2GN7iW+Dx5E5a0YI7rV4zLJZmtbPy8VJiRDPps8q73KPv3FpEHa8oYfsPzVPG8QKpduh+ez6n51su1fQnGNCzDvuVznp+eJgJnPqqmZHLBOI8CPyxJOUMhjed7oksPLV++5GoY8KRihyIKFnJwcpj3iEY+KYsv8iIN/obefVgfr5v7jx6lbhvMucNn3A8ogNwWrxuSVD03PtFlVIPnhdcy/xYqNlZiaTWacvuO9fj94hfN+w+97G/sW8cT2I1huTSRzHIAf+c/+y++cmPHpQvhJf5zbQ/8JTC79NNPSgALCwvftdvNSwQQqlitUnohArjXEKnA2uMzIICLFcjV0wQQRShBAF2NDAKoBHC2XKlH4FUC+Hc/GMvf+o1vKQGczpdSqNSDAL7AAPMX/6NfUD6DsByqErGgXVjv3Ihf/8IIxXw20o5BWNjWCpEDEgZY9qCFHxYSo2atmapBIavz/Ty8dzU0m4fIUO1LA2b+FpZKKRycGT3z82lpN22H6iwf4GnfnHglAqfRBT6G3Jv0ink+Q9E5QShkYeWFF00499WwLiaDWCq1uvauVgLAmRmiME6StGAkI6AGYkHGc/oAGuVkJEdfazqInY984j/sm5UJjo2VvrXMC5Ht4xgCxQRwNrNiEXUI8P1kJTciJ2jViKXd7KSqWlTSYnn86EidGLAMJ+viH1QC6zrd7B+vv3TXCiIQwmXFL17zPLByGMdJtwU2AMDvSDDxl6FoEkEICSRuR2dnqRAjN6FmuFijPPSNzNJVUig9I/58L5/MMIXhot9LIeD93T1586039PjYXu7u3bvScY9FkvFUTKQXw7oI5Kf/mT9wbXnQtT1wu31jCQQCgUBgOwgEAXRVJghgEEC/BvJ8zyCAn/+4FATw88c4thAIBAKBwFMI/OX/5A+qvIT0BtqKjEcDGfSs+AOhX10Kc6l48UPTQ7BIL2FIS9v7uQqG4iosqiq6EgT/Rqofa2++tZrHYhB94HpoE2kVSRH0QgP8Ng8hc118aEv9IKlH2Dd+njqSoNOI+7NQMWIhj4oy6MrBtnCOVq5K4i1YTGFJKlIJOcH25SlbhsCEvmYhXPgJjmdu8+LYICS8Klh4GrmCqyvbRFB6tjLrGB4boyT2G61i0c+pluU5vehsxCKRHCOkVGDJFcB228K+6Lf95OEjO++exwnHh5ITI4SFqbxRTTt6ciJ9v0amniKAYpBazRRAhOsZwt2rGx5YN0Ou5t9n36UnH/Dm/sGnlftCuxiEe6n8cT+wX/zNxXCYClv8FOp+8/PcPojYpeuHP7jSdSZX7lJRTqmYQs1vvPa6vP2Ft/TXUP6wIPzM8DyVV83Z9hSHvAjkd/zTv//a8qBre+DZtRYvA4FAIBDYOAJBANedeAB+EMAggLwJNQf8is+kXiMkcEEAP5PxKgjgZwJjrCQQCAQCgU+GwF/6E/+yykjQgObezWI86qkHJ5bFzPK6yqVVUgBrrsYVIdHxYbhaK2J1zzlDThd6b+t6YPrueVfrHL51EUfKx8PTwD1VoM48rQCu+/9qcZuvkwpNsbqXTH7xoGbBSN27erCDD/bpqhWI7mjWl/eq8seHf+rBm3LFSslSxl1eZAXLqwpVMHhveq9ifw+FKAsvuICcV6AlzMqN3FFkVTUbmFw5zfMWaWbM3Ev8n5Yu9PHLf6/uBZ7jx3w6bXW5tBy+8/Oe9M8thzDP55y6Gnj0+Dh1vnj48KH95qyXDKBpoG3r9N7Kq9VaTVzYsaGIgsSKbg94nyot227yHK2LP4b6e+w7FUQWdrC1JD4fLcynFUt+Dvketk+1lOvGe7kqyt+m68qdHxQbb1H5ta/9FjV7xvLFt78gd1+7o6/ZfUSLGmmoneX76ZfU8sf8ZrGEAkhU4m8gEAgEAoHARhD4nzwErKaFleUBAAAWDUlEQVTdXhk6mQ4EvZ518Y4g6PXtkVnJCaAZp4tUSkWp+UO3VrXQJcgfyd7Se1Prd/177JiTHyjaHbKinj6W+JwhYgsBW+i0rFXA9poP6umykR76IDzcVgoBZyG4FALOqjnRYScvqsC6r1oysTMHfCa5sIiD1b6rQkUKHoNdFitSdCJccWykXFv7EHp3JKwLBXFYtPK/bgTwkrtDlquYwu8e1sX/SQBX8zW5yItuSABJoECcnhy9a3gCWw9LwxwfC0Ktp97uDIUhcDDA8u1vf1v/oooXFl+Kk18gIIBTb982maPTh11LlblXzLppPrElhjxHKDLieUOINyer9l2z0MLC8DLJMN6bwMqVLfOcpLNzFK8V/o7VyLh++B7/0uoLv7Ge9lbUw/388R//Ublx44a+9/rd12TPO+kQbyWKfm6YXnFpUpGRwp/6p37+2gph1/bAeeHH30AgEAgEtoFAEEBUqq7tPIIAGqEOAmh2MCRzQQA/v9EpCODnh22sORAIBAKB5yLwP/7Hv6gxKOu5bKrPbD5Kr1cLe2+5mMjKu1U0vC8vikDQQUZVkXJJGujc4SE+fa9kbRddNkmvcwWQiggVHXT2gW8oFvWfdFUpVwD5e7R7vFoE0hutVT+oPlc/p/8m14+/9B/le89SAK3bztpzk6/1r7Yd9BAvfQeLJZl7OHcuBanUTD0qJQWwIsuVY4MuSN7fmAqg+vOVTUnNVSO+Vo9X76ICfz4sZv3iXX9oLJgpVlVYI7mlS+6JN1880d+rCjw1NW88NG+/Qa+XLFtOjo6l17OioA8++ED/fvTRR3J6ZmHjpMrBUzSFgJfJ8688e/pRj+Oh/QsVNvi/5oUtVADXBRvmh5pvE4of3+tPZymcS7ywbhaZaPckD+PyLxRRvk49opfLtc3L/n7q8IG2pFgQAkZHKSw3Dg6l2bLzRfVRuyJ5CJg2MPoFX/IQ8E/+k7/32vKga3vg+cUQrwOBQCAQ2DQCf/lP/avKbPCQnc+8FddqKQWPwy7mlgMo86kUC+Zb1qqZqe1sMpSl5wjWKmgnae+jlRyWWtV6aeuDurQ2EIbKhkWJV2oF5+3EZgtt66gLQrhOgmhAXK6sSZ+2fXTzcz78z8frCtC85RjDeiCYIBhY8jwxeA7aPl0mH/bmuoIZD/d1/prtp3Wb8ceYkz4plaWY/Abx2tYPj0osMHZHdTAWHFsyiHbihO2cemg1+eNVmyIeokVYWdwEu1jyPMtVURpNM/OeTnGcRjC7bQ8lrxZyemz+jjRQnk/HcnDTsO/3eskAejU177/pcCRP7lthyEcf3JPTo2N9fXJiVeJ/+7vflY/umydg2at5m92OTJb2+wGMnD23tLJ0kuwtGm0/p8ksnKbNNOfH5zh2EjISOBg5sxqZ2ChhdlLXG1v+KhaSsVaznogmwr7M/WvRr7BYvJQ7it/iNzdv3tT1vPHGG4LWblhIAG8fHmSelJV0XeTk9CrRxP1wdYKBdf74P/rPXVsedG0PPF2l8SIQCAQCgS0gEATQe2cHAQwC6OpoThqDAH7+g1IQwM8f49hCIBAIBAJPIfBXfuWPJgVwNjW1D+pf0UOesrKQYFmW4pFfYQh4POzJbGwhwUpJBK3hsNT9i9VKaV0EUkJ7SRvqqQCqJ1ryv2NIDy0oLdxaLJdT68Iq1C8v/GALNYRAU5WmK2PDxSz5ytFfDr9LxQJoO8iwtauTGk71fcY+ohMKFqo3hTJ6cNv+5QpgKsJAO0dXAAte7av9ub0IRPuTuwKYWr5plbCpo/AdnM5MXWUxA9bddzUQbTMV42pTW8jpfpSgOHmrOK8sxlkrQhl05QxtJ7GMJ1Y9O+oPUnVv3dvDQW0bTa2idz6dyXhkBRvTgf0dnPXk+NFjff3g3n05PbKK4UePLGz84b178sA/n3qKQKFalimLNGYz7cWt+zyxY8w7mgDvdfGHKaJsP2nYFNZqXcuOF+FrqIBY2JYtVwD741G6BnjeoEbzetC2kl6kUveCJBC99F1PZdjb7SYF8Pbt23J4eKjbRO95LJ3G+prOvST1Q18u9Vv390IBzBFCNXQsgUAgEAgEAhtHIAigEZIggEEAgwBufPjRDQYB3A7usdVAIBC45gj8z//pH1N5BjlR0wmtXxap7y/8/7A0q2Vp1K3AoOqFGf2LUxn1rVdwubh6SgGEXWDKh8oUwCJbVGS2J+ZEaGoYVbRytZopgO6pV64KFUBV1rK+rfj9rFBMqhCUpVRc4orPfDl7qjuI+gl6lxMobzPPhXyeAshCi/WlgwN1ddMVQOQArqgKFkpJAWSRB3IA2ed4ulgXSsyYIwgl0hVK5j+WkPNXdNWwUpOKd9Yos7CkUBH6EHY6Oyn/jXl7w/5Ami3DccfzAnHsJ6fv6Xvag9ftX/qndl7PT8+lf2avjx48kqMjyyG8f/++/kUu3rF7B567dyQsYJaeZwk/RCpeozNTIrEdKnd531+qcvg+8yyhiNKyhvl+eQ4g1UOoekltq5aTSsdzhIIL5hDmPoNNV/uQ38d9oo/f4cGe7O/vG147OymHkOcfSji3qXmgrnrmqt9VtQ+fPctfMnIAr/lAHIcfCAQCgcCmEfirf/ZfV4YHPzi0gMOyWsyl7ISmVjVi1mnUpNU08lH0UN/F2bH0z40QIASMpHksDAEXC0YescwLIG4sAliHU1NI1EPBeWFHBYbBZQsr5yQoJ5Bs25YeqtW1h1ypXHiKAC6z9nCpmrhSkYKbW+MBTSKSvOSyNnl4j9tK5BMFHwwRsxq4gBppI4UrDc0aeebxrgrF5Hc4ns1TmFO8iASKZKllBR1JnSxWhX6D5UpdKg37nN6C8B4suqE0KqlT4cvUQtogLk1v0cZjGw9HsixYQQfavs2dAF6cWKh32OvLdGSpASePnggNoL/5zW+mc9v3icO5VwhPl3MpeaEQwudzhoZ9fqH7nHXYIMFjezfsG8keJiYM9/I9FHGwLRzDuuqb6CkGpVYr/T6RSlnKnTtm1Pzaa68pocPSbljYGeFd7lMK8babiUjmxRvEDgQwL/J4Vku+Z1WUEzitcne/wiCA6XKKF4FAIBAIBAKbQCAIoOecBQEMAuikNAjgJkae9TYiBLxZvGNrgUAgEAgoAv/bn/s3VaZDKG84sMR6KIDw9cNSrdjw3K5XUwh45X6BUACHPapHBWm7D9qzFMDJEoUUts68oIIhUSpkFYQ2qfrV68nmJdnAVCspRPys7KFSs7kuDMnad7G44lkKoCbwOwGEIsPvJkUJ23R1CSqPN+tIx6FFDV6EAssYW4riFnCqADLEPfMYLaKF/Bzbm/l/cuNhaVqxQdFVRaiGS994sQwF0D4vV0zFwiqgoGKBGjd3ubHdsCIS2OIwPDlxVQ8KWbVmCh+C76OhhWl7HvaFIrh0O5qjR4/V9w/Lu+9a95BSuSjo9oFlMHHLoFJRqg1Tg6H+9Ue2zum5WcPkah3wpgJIpQ9Y0xMQah89C6kA4vc8RyRr2vbPFebhct0Rheet027KV77yFd3+F7/4xaQANjzMjrDvVWW3XFqHonnNKs4e6i0s5knBy7vF5CFgKnx2TTy9hAIYOYDPuzbi/UAgEAgEPlcE/tqf/3eUAOIhO+iboS8qgBsewmPlLyLBpaJ52JEADnpnMhl6NWal+MwQcMr/mq9brK3z9krq9adEwqtkQQBZvQpvvopXyrK9HCpnU7iXnnsZQoV64xIB5AOW4TkcbN5bFz9Vc+iMAF5tI4Z+wnxPyYt/NxEGkL/0nlfp6j4ZeTbSZsc58WpfcAgSyfULGEV7JXW9Lks3h6YZNqwZF0vHq1KVqucAFlJ4uShzNxQ0H0CrAiZJwv5Oxl7V7YbRyItbzo3Eo/vHsG8eesO+nVcYR89H5g8JAvjgoeX+5WHyqZuFz9w7slKrSrlqOID8nZ1bDuHozAggwroM4YLgsR0bvfmAdWohuFwK2sHlx6HXoIdOma+Ha4r5gI97w+TVR8++N16/K1/96ld1Pejfm9rjObHPvQdTW7nVuhf11cplxcCJLa+hvCqc+3j1vavkkP//B/+xn7u2Qti1PXC9GmMJBAKBQGBLCAQBDAIYBNDsZEj8ggBudjAKArhZvGNrgUAgEAgEAoFAIBAIbB2BIIBbPwWxA4FAIBAIBAKBQCAQCGwWgSCAm8U7thYIBAKBQCAQCAQCgcDWEQgCuPVTEDsQCAQCgUAgEAgEAoHAZhEIArhZvGNrgUAgEAgEAoFAIBAIbB2BIIBbPwWxA4FAIBAIBAKBQCAQCGwWgSCAm8U7thYIBAKBQCAQCAQCgcDWEQgCuPVTEDsQCAQCgUAgEAgEAoHAZhEIArhZvGNrgUAgEAgEAoFAIBAIbB2BIIBbPwWxA4FAIBAIBAKBQCAQCGwWgSCAm8U7thYIBAKBQCAQCAQCgcDWEQgCuPVTEDsQCAQCgUAgEAgEAoHAZhEIArhZvGNrgUAgEAgEAoFAIBAIbB2BIIBbPwWxA4FAIBAIBAKBQCAQCGwWgSCAm8U7thYIBAKBQCAQCAQCgcDWEQgCuPVTEDsQCAQCgUAgEAgEAoHAZhEIArhZvGNrgUAgEAgEAoFAIBAIbB2BIIBbPwWxA4FAIBAIBAKBQCAQCGwWgSCAm8U7thYIBAKBQCAQCAQCgcDWEQgCuPVTEDsQCAQCgUAgEAgEAoHAZhEIArhZvGNrgUAgEAgEAoFAIBAIbB2BIIBbPwWxA4FAIBAIBAKBQCAQCGwWgSCAm8U7thYIBAKBQCAQCAQCgcDWEQgCuPVTEDsQCAQCgUAgEAgEAoHAZhEIArhZvGNrgUAgEAgEAoFAIBAIbB2BIIBbPwWxA4FAIBAIBAKBQCAQCGwWgSCAm8U7thYIBAKBQCAQCAQCgcDWEQgCuPVTEDsQCAQCgUAgEAgEAoHAZhEIArhZvGNrgUAgEAgEAoFAIBAIbB2BIIBbPwWxA4FAIBAIBAKBQCAQCGwWgSCAm8U7thYIBAKBQCAQCAQCgcDWEQgCuPVTEDsQCAQCgUAgEAgEAoHAZhEIArhZvGNrgUAgEAgEAoFAIBAIbB2BIIBbPwWxA4FAIBAIBAKBQCAQCGwWgSCAm8U7thYIBAKBQCAQCAQCgcDWEQgCuPVTEDsQCAQCgUAgEAgEAoHAZhEIArhZvGNrgUAgEAgEAoFAIBAIbB2BIIBbPwWxA4FAIBAIBAKBQCAQCGwWgSCAm8U7thYIBAKBQCAQCAQCgcDWEQgCuPVTEDsQCAQCgUAgEAgEAoHAZhEIArhZvGNrgUAgEAgEAoFAIBAIbB2BIIBbPwWxA4FAIBAIBAKBQCAQCGwWgSCAm8U7thYIBAKBQCAQCAQCgcDWEQgCuPVTEDsQCAQCgUAgEAgEAoHAZhEIArhZvGNrgUAgEAgEAoFAIBAIbB2BIIBbPwWxA4FAIBAIBAKBQCAQCGwWgSCAm8U7thYIBAKBQCAQCAQCgcDWEQgCuPVTEDsQCAQCgUAgEAgEAoHAZhEIArhZvGNrgUAgEAgEAoFAIBAIbB2BIIBbPwWxA4FAIBAIBAKBQCAQCGwWgSCAm8U7thYIBAKBQCAQCAQCgcDWEQgCuPVTEDsQCAQCgUAgEAgEAoHAZhEIArhZvGNrgUAgEAgEAoFAIBAIbB2BIIBbPwWxA4FAIBAIBAKBQCAQCGwWgSCAm8U7thYIBAKBQCAQCAQCgcDWEQgCuPVTEDsQCAQCgUAgEAgEAoHAZhEIArhZvGNrgUAgEAgEAoFAIBAIbB2BIIBbPwWxA4FAIBAIBAKBQCAQCGwWgSCAm8U7thYIBAKBQCAQCAQCgcDWEQgCuPVTEDsQCAQCgUAgEAgEAoHAZhEIArhZvGNrgUAgEAgEAoFAIBAIbB2BIIBbPwWxA4FAIBAIBAKBQCAQCGwWgSCAm8U7thYIBAKBQCAQCAQCgcDWEQgCuPVTEDsQCAQCgUAgEAgEAoHAZhEIArhZvGNrgUAgEAgEAoFAIBAIbB2BIIBbPwWxA4FAIBAIBAKBQCAQCGwWgSCAm8U7thYIBAKBQCAQCAQCgcDWEQgCuPVTEDsQCAQCgUAgEAgEAoHAZhEIArhZvGNrgUAgEAgEAoFAIBAIbB2BIIBbPwWxA4FAIBAIBAKBQCAQCGwWgSCAm8U7thYIBAKBQCAQCAQCgcDWEQgCuPVTEDsQCAQCgUAgEAgEAoHAZhEIArhZvGNrgUAgEAgEAoFAIBAIbB2BIIBbPwWxA4FAIBAIBAKBQCAQCGwWgSCAm8U7thYIBAKBQCAQCAQCgcDWEQgCuPVTEDsQCAQCgUAgEAgEAoHAZhEIArhZvGNrgUAgEAgEAoFAIBAIbB2BIIBbPwWxA4FAIBAIBAKBQCAQCGwWgSCAm8U7thYIBAKBQCAQCAQCgcDWEQgCuPVTEDsQCAQCgUAgEAgEAoHAZhEIArhZvGNrgUAgEAgEAoFAIBAIbB2BIIBbPwWxA4FAIBAIBAKBQCAQCGwWgSCAm8U7thYIBAKBQCAQCAQCgcDWEQgCuPVTEDsQCAQCgUAgEAgEAoHAZhEIArhZvGNrgUAgEAgEAoFAIBAIbB2BIIBbPwWxA4FAIBAIBAKBQCAQCGwWgSCAm8U7thYIBAKBQCAQCAQCgcDWEQgCuPVTEDsQCAQCgUAgEAgEAoHAZhEIArhZvGNrgUAgEAgEAoFAIBAIbB2BIIBbPwWxA4FAIBAIBAKBQCAQCGwWgSCAm8U7thYIBAKBQCAQCAQCgcDWEQgCuPVTEDsQCAQCgUAgEAgEAoHAZhEIArhZvGNrgUAgEAgEAoFAIBAIbB2BIIBbPwWxA4FAIBAIBAKBQCAQCGwWgSCAm8U7thYIBAKBQCAQCAQCgcDWEQgCuPVTEDsQCAQCgUAgEAgEAoHAZhEIArhZvGNrgUAgEAgEAoFAIBAIbB2BIIBbPwWxA4FAIBAIBAKBQCAQCGwWgSCAm8U7thYIBAKBQCAQCAQCgcDWEQgCuPVTEDsQCAQCgUAgEAgEAoHAZhEIArhZvGNrgUAgEAgEAoFAIBAIbB2BIIBbPwWxA4FAIBAIBAKBQCAQCGwWgSCAm8U7thYIBAKBQCAQCAQCgcDWEQgCuPVTEDsQCAQCgUAgEAgEAoHAZhEIArhZvGNrgUAgEAgEAoFAIBAIbB2BIIBbPwWxA4FAIBAIBAKBQCAQCGwWgSCAm8U7thYIBAKBQCAQCAQCgcDWEQgCuPVTEDsQCAQCgUAgEAgEAoHAZhEIArhZvGNrgUAgEAgEAoFAIBAIbB2BIIBbPwWxA4FAIBAIBAKBQCAQCGwWgSCAm8U7thYIBAKBQCAQCAQCgcDWEQgCuPVTEDsQCAQCgUAgEAgEAoHAZhEIArhZvGNrgUAgEAgEAoFAIBAIbB2BIIBbPwWxA4FAIBAIBAKBQCAQCGwWgSCAm8U7thYIBAKBQCAQCAQCgcDWEQgCuPVTEDsQCAQCgUAgEAgEAoHAZhEIArhZvGNrgUAgEAgEAoFAIBAIbB2BIIBbPwWxA4FAIBAIBAKBQCAQCGwWgf8f64wy2/fIN2cAAAAASUVORK5CYII=\" width=\"640\">"
      ],
      "text/plain": [
       "<IPython.core.display.HTML object>"
      ]
     },
     "metadata": {},
     "output_type": "display_data"
    }
   ],
   "source": [
    "ld.disp([img, img[ymin:ymax, xmin:xmax]])"
   ]
  },
  {
   "cell_type": "code",
   "execution_count": 154,
   "metadata": {
    "collapsed": false
   },
   "outputs": [
    {
     "data": {
      "text/plain": [
       "(333, 500, 3)"
      ]
     },
     "execution_count": 154,
     "metadata": {},
     "output_type": "execute_result"
    }
   ],
   "source": [
    "img.shape"
   ]
  },
  {
   "cell_type": "code",
   "execution_count": 155,
   "metadata": {
    "collapsed": false
   },
   "outputs": [
    {
     "data": {
      "text/plain": [
       "(333, 425, 72, 158)"
      ]
     },
     "execution_count": 155,
     "metadata": {},
     "output_type": "execute_result"
    }
   ],
   "source": [
    "xmin, xmax, ymin, ymax"
   ]
  },
  {
   "cell_type": "code",
   "execution_count": 157,
   "metadata": {
    "collapsed": false
   },
   "outputs": [
    {
     "data": {
      "application/javascript": [
       "/* Put everything inside the global mpl namespace */\n",
       "window.mpl = {};\n",
       "\n",
       "\n",
       "mpl.get_websocket_type = function() {\n",
       "    if (typeof(WebSocket) !== 'undefined') {\n",
       "        return WebSocket;\n",
       "    } else if (typeof(MozWebSocket) !== 'undefined') {\n",
       "        return MozWebSocket;\n",
       "    } else {\n",
       "        alert('Your browser does not have WebSocket support.' +\n",
       "              'Please try Chrome, Safari or Firefox ≥ 6. ' +\n",
       "              'Firefox 4 and 5 are also supported but you ' +\n",
       "              'have to enable WebSockets in about:config.');\n",
       "    };\n",
       "}\n",
       "\n",
       "mpl.figure = function(figure_id, websocket, ondownload, parent_element) {\n",
       "    this.id = figure_id;\n",
       "\n",
       "    this.ws = websocket;\n",
       "\n",
       "    this.supports_binary = (this.ws.binaryType != undefined);\n",
       "\n",
       "    if (!this.supports_binary) {\n",
       "        var warnings = document.getElementById(\"mpl-warnings\");\n",
       "        if (warnings) {\n",
       "            warnings.style.display = 'block';\n",
       "            warnings.textContent = (\n",
       "                \"This browser does not support binary websocket messages. \" +\n",
       "                    \"Performance may be slow.\");\n",
       "        }\n",
       "    }\n",
       "\n",
       "    this.imageObj = new Image();\n",
       "\n",
       "    this.context = undefined;\n",
       "    this.message = undefined;\n",
       "    this.canvas = undefined;\n",
       "    this.rubberband_canvas = undefined;\n",
       "    this.rubberband_context = undefined;\n",
       "    this.format_dropdown = undefined;\n",
       "\n",
       "    this.image_mode = 'full';\n",
       "\n",
       "    this.root = $('<div/>');\n",
       "    this._root_extra_style(this.root)\n",
       "    this.root.attr('style', 'display: inline-block');\n",
       "\n",
       "    $(parent_element).append(this.root);\n",
       "\n",
       "    this._init_header(this);\n",
       "    this._init_canvas(this);\n",
       "    this._init_toolbar(this);\n",
       "\n",
       "    var fig = this;\n",
       "\n",
       "    this.waiting = false;\n",
       "\n",
       "    this.ws.onopen =  function () {\n",
       "            fig.send_message(\"supports_binary\", {value: fig.supports_binary});\n",
       "            fig.send_message(\"send_image_mode\", {});\n",
       "            if (mpl.ratio != 1) {\n",
       "                fig.send_message(\"set_dpi_ratio\", {'dpi_ratio': mpl.ratio});\n",
       "            }\n",
       "            fig.send_message(\"refresh\", {});\n",
       "        }\n",
       "\n",
       "    this.imageObj.onload = function() {\n",
       "            if (fig.image_mode == 'full') {\n",
       "                // Full images could contain transparency (where diff images\n",
       "                // almost always do), so we need to clear the canvas so that\n",
       "                // there is no ghosting.\n",
       "                fig.context.clearRect(0, 0, fig.canvas.width, fig.canvas.height);\n",
       "            }\n",
       "            fig.context.drawImage(fig.imageObj, 0, 0);\n",
       "        };\n",
       "\n",
       "    this.imageObj.onunload = function() {\n",
       "        this.ws.close();\n",
       "    }\n",
       "\n",
       "    this.ws.onmessage = this._make_on_message_function(this);\n",
       "\n",
       "    this.ondownload = ondownload;\n",
       "}\n",
       "\n",
       "mpl.figure.prototype._init_header = function() {\n",
       "    var titlebar = $(\n",
       "        '<div class=\"ui-dialog-titlebar ui-widget-header ui-corner-all ' +\n",
       "        'ui-helper-clearfix\"/>');\n",
       "    var titletext = $(\n",
       "        '<div class=\"ui-dialog-title\" style=\"width: 100%; ' +\n",
       "        'text-align: center; padding: 3px;\"/>');\n",
       "    titlebar.append(titletext)\n",
       "    this.root.append(titlebar);\n",
       "    this.header = titletext[0];\n",
       "}\n",
       "\n",
       "\n",
       "\n",
       "mpl.figure.prototype._canvas_extra_style = function(canvas_div) {\n",
       "\n",
       "}\n",
       "\n",
       "\n",
       "mpl.figure.prototype._root_extra_style = function(canvas_div) {\n",
       "\n",
       "}\n",
       "\n",
       "mpl.figure.prototype._init_canvas = function() {\n",
       "    var fig = this;\n",
       "\n",
       "    var canvas_div = $('<div/>');\n",
       "\n",
       "    canvas_div.attr('style', 'position: relative; clear: both; outline: 0');\n",
       "\n",
       "    function canvas_keyboard_event(event) {\n",
       "        return fig.key_event(event, event['data']);\n",
       "    }\n",
       "\n",
       "    canvas_div.keydown('key_press', canvas_keyboard_event);\n",
       "    canvas_div.keyup('key_release', canvas_keyboard_event);\n",
       "    this.canvas_div = canvas_div\n",
       "    this._canvas_extra_style(canvas_div)\n",
       "    this.root.append(canvas_div);\n",
       "\n",
       "    var canvas = $('<canvas/>');\n",
       "    canvas.addClass('mpl-canvas');\n",
       "    canvas.attr('style', \"left: 0; top: 0; z-index: 0; outline: 0\")\n",
       "\n",
       "    this.canvas = canvas[0];\n",
       "    this.context = canvas[0].getContext(\"2d\");\n",
       "\n",
       "    var backingStore = this.context.backingStorePixelRatio ||\n",
       "\tthis.context.webkitBackingStorePixelRatio ||\n",
       "\tthis.context.mozBackingStorePixelRatio ||\n",
       "\tthis.context.msBackingStorePixelRatio ||\n",
       "\tthis.context.oBackingStorePixelRatio ||\n",
       "\tthis.context.backingStorePixelRatio || 1;\n",
       "\n",
       "    mpl.ratio = (window.devicePixelRatio || 1) / backingStore;\n",
       "\n",
       "    var rubberband = $('<canvas/>');\n",
       "    rubberband.attr('style', \"position: absolute; left: 0; top: 0; z-index: 1;\")\n",
       "\n",
       "    var pass_mouse_events = true;\n",
       "\n",
       "    canvas_div.resizable({\n",
       "        start: function(event, ui) {\n",
       "            pass_mouse_events = false;\n",
       "        },\n",
       "        resize: function(event, ui) {\n",
       "            fig.request_resize(ui.size.width, ui.size.height);\n",
       "        },\n",
       "        stop: function(event, ui) {\n",
       "            pass_mouse_events = true;\n",
       "            fig.request_resize(ui.size.width, ui.size.height);\n",
       "        },\n",
       "    });\n",
       "\n",
       "    function mouse_event_fn(event) {\n",
       "        if (pass_mouse_events)\n",
       "            return fig.mouse_event(event, event['data']);\n",
       "    }\n",
       "\n",
       "    rubberband.mousedown('button_press', mouse_event_fn);\n",
       "    rubberband.mouseup('button_release', mouse_event_fn);\n",
       "    // Throttle sequential mouse events to 1 every 20ms.\n",
       "    rubberband.mousemove('motion_notify', mouse_event_fn);\n",
       "\n",
       "    rubberband.mouseenter('figure_enter', mouse_event_fn);\n",
       "    rubberband.mouseleave('figure_leave', mouse_event_fn);\n",
       "\n",
       "    canvas_div.on(\"wheel\", function (event) {\n",
       "        event = event.originalEvent;\n",
       "        event['data'] = 'scroll'\n",
       "        if (event.deltaY < 0) {\n",
       "            event.step = 1;\n",
       "        } else {\n",
       "            event.step = -1;\n",
       "        }\n",
       "        mouse_event_fn(event);\n",
       "    });\n",
       "\n",
       "    canvas_div.append(canvas);\n",
       "    canvas_div.append(rubberband);\n",
       "\n",
       "    this.rubberband = rubberband;\n",
       "    this.rubberband_canvas = rubberband[0];\n",
       "    this.rubberband_context = rubberband[0].getContext(\"2d\");\n",
       "    this.rubberband_context.strokeStyle = \"#000000\";\n",
       "\n",
       "    this._resize_canvas = function(width, height) {\n",
       "        // Keep the size of the canvas, canvas container, and rubber band\n",
       "        // canvas in synch.\n",
       "        canvas_div.css('width', width)\n",
       "        canvas_div.css('height', height)\n",
       "\n",
       "        canvas.attr('width', width * mpl.ratio);\n",
       "        canvas.attr('height', height * mpl.ratio);\n",
       "        canvas.attr('style', 'width: ' + width + 'px; height: ' + height + 'px;');\n",
       "\n",
       "        rubberband.attr('width', width);\n",
       "        rubberband.attr('height', height);\n",
       "    }\n",
       "\n",
       "    // Set the figure to an initial 600x600px, this will subsequently be updated\n",
       "    // upon first draw.\n",
       "    this._resize_canvas(600, 600);\n",
       "\n",
       "    // Disable right mouse context menu.\n",
       "    $(this.rubberband_canvas).bind(\"contextmenu\",function(e){\n",
       "        return false;\n",
       "    });\n",
       "\n",
       "    function set_focus () {\n",
       "        canvas.focus();\n",
       "        canvas_div.focus();\n",
       "    }\n",
       "\n",
       "    window.setTimeout(set_focus, 100);\n",
       "}\n",
       "\n",
       "mpl.figure.prototype._init_toolbar = function() {\n",
       "    var fig = this;\n",
       "\n",
       "    var nav_element = $('<div/>')\n",
       "    nav_element.attr('style', 'width: 100%');\n",
       "    this.root.append(nav_element);\n",
       "\n",
       "    // Define a callback function for later on.\n",
       "    function toolbar_event(event) {\n",
       "        return fig.toolbar_button_onclick(event['data']);\n",
       "    }\n",
       "    function toolbar_mouse_event(event) {\n",
       "        return fig.toolbar_button_onmouseover(event['data']);\n",
       "    }\n",
       "\n",
       "    for(var toolbar_ind in mpl.toolbar_items) {\n",
       "        var name = mpl.toolbar_items[toolbar_ind][0];\n",
       "        var tooltip = mpl.toolbar_items[toolbar_ind][1];\n",
       "        var image = mpl.toolbar_items[toolbar_ind][2];\n",
       "        var method_name = mpl.toolbar_items[toolbar_ind][3];\n",
       "\n",
       "        if (!name) {\n",
       "            // put a spacer in here.\n",
       "            continue;\n",
       "        }\n",
       "        var button = $('<button/>');\n",
       "        button.addClass('ui-button ui-widget ui-state-default ui-corner-all ' +\n",
       "                        'ui-button-icon-only');\n",
       "        button.attr('role', 'button');\n",
       "        button.attr('aria-disabled', 'false');\n",
       "        button.click(method_name, toolbar_event);\n",
       "        button.mouseover(tooltip, toolbar_mouse_event);\n",
       "\n",
       "        var icon_img = $('<span/>');\n",
       "        icon_img.addClass('ui-button-icon-primary ui-icon');\n",
       "        icon_img.addClass(image);\n",
       "        icon_img.addClass('ui-corner-all');\n",
       "\n",
       "        var tooltip_span = $('<span/>');\n",
       "        tooltip_span.addClass('ui-button-text');\n",
       "        tooltip_span.html(tooltip);\n",
       "\n",
       "        button.append(icon_img);\n",
       "        button.append(tooltip_span);\n",
       "\n",
       "        nav_element.append(button);\n",
       "    }\n",
       "\n",
       "    var fmt_picker_span = $('<span/>');\n",
       "\n",
       "    var fmt_picker = $('<select/>');\n",
       "    fmt_picker.addClass('mpl-toolbar-option ui-widget ui-widget-content');\n",
       "    fmt_picker_span.append(fmt_picker);\n",
       "    nav_element.append(fmt_picker_span);\n",
       "    this.format_dropdown = fmt_picker[0];\n",
       "\n",
       "    for (var ind in mpl.extensions) {\n",
       "        var fmt = mpl.extensions[ind];\n",
       "        var option = $(\n",
       "            '<option/>', {selected: fmt === mpl.default_extension}).html(fmt);\n",
       "        fmt_picker.append(option)\n",
       "    }\n",
       "\n",
       "    // Add hover states to the ui-buttons\n",
       "    $( \".ui-button\" ).hover(\n",
       "        function() { $(this).addClass(\"ui-state-hover\");},\n",
       "        function() { $(this).removeClass(\"ui-state-hover\");}\n",
       "    );\n",
       "\n",
       "    var status_bar = $('<span class=\"mpl-message\"/>');\n",
       "    nav_element.append(status_bar);\n",
       "    this.message = status_bar[0];\n",
       "}\n",
       "\n",
       "mpl.figure.prototype.request_resize = function(x_pixels, y_pixels) {\n",
       "    // Request matplotlib to resize the figure. Matplotlib will then trigger a resize in the client,\n",
       "    // which will in turn request a refresh of the image.\n",
       "    this.send_message('resize', {'width': x_pixels, 'height': y_pixels});\n",
       "}\n",
       "\n",
       "mpl.figure.prototype.send_message = function(type, properties) {\n",
       "    properties['type'] = type;\n",
       "    properties['figure_id'] = this.id;\n",
       "    this.ws.send(JSON.stringify(properties));\n",
       "}\n",
       "\n",
       "mpl.figure.prototype.send_draw_message = function() {\n",
       "    if (!this.waiting) {\n",
       "        this.waiting = true;\n",
       "        this.ws.send(JSON.stringify({type: \"draw\", figure_id: this.id}));\n",
       "    }\n",
       "}\n",
       "\n",
       "\n",
       "mpl.figure.prototype.handle_save = function(fig, msg) {\n",
       "    var format_dropdown = fig.format_dropdown;\n",
       "    var format = format_dropdown.options[format_dropdown.selectedIndex].value;\n",
       "    fig.ondownload(fig, format);\n",
       "}\n",
       "\n",
       "\n",
       "mpl.figure.prototype.handle_resize = function(fig, msg) {\n",
       "    var size = msg['size'];\n",
       "    if (size[0] != fig.canvas.width || size[1] != fig.canvas.height) {\n",
       "        fig._resize_canvas(size[0], size[1]);\n",
       "        fig.send_message(\"refresh\", {});\n",
       "    };\n",
       "}\n",
       "\n",
       "mpl.figure.prototype.handle_rubberband = function(fig, msg) {\n",
       "    var x0 = msg['x0'] / mpl.ratio;\n",
       "    var y0 = (fig.canvas.height - msg['y0']) / mpl.ratio;\n",
       "    var x1 = msg['x1'] / mpl.ratio;\n",
       "    var y1 = (fig.canvas.height - msg['y1']) / mpl.ratio;\n",
       "    x0 = Math.floor(x0) + 0.5;\n",
       "    y0 = Math.floor(y0) + 0.5;\n",
       "    x1 = Math.floor(x1) + 0.5;\n",
       "    y1 = Math.floor(y1) + 0.5;\n",
       "    var min_x = Math.min(x0, x1);\n",
       "    var min_y = Math.min(y0, y1);\n",
       "    var width = Math.abs(x1 - x0);\n",
       "    var height = Math.abs(y1 - y0);\n",
       "\n",
       "    fig.rubberband_context.clearRect(\n",
       "        0, 0, fig.canvas.width, fig.canvas.height);\n",
       "\n",
       "    fig.rubberband_context.strokeRect(min_x, min_y, width, height);\n",
       "}\n",
       "\n",
       "mpl.figure.prototype.handle_figure_label = function(fig, msg) {\n",
       "    // Updates the figure title.\n",
       "    fig.header.textContent = msg['label'];\n",
       "}\n",
       "\n",
       "mpl.figure.prototype.handle_cursor = function(fig, msg) {\n",
       "    var cursor = msg['cursor'];\n",
       "    switch(cursor)\n",
       "    {\n",
       "    case 0:\n",
       "        cursor = 'pointer';\n",
       "        break;\n",
       "    case 1:\n",
       "        cursor = 'default';\n",
       "        break;\n",
       "    case 2:\n",
       "        cursor = 'crosshair';\n",
       "        break;\n",
       "    case 3:\n",
       "        cursor = 'move';\n",
       "        break;\n",
       "    }\n",
       "    fig.rubberband_canvas.style.cursor = cursor;\n",
       "}\n",
       "\n",
       "mpl.figure.prototype.handle_message = function(fig, msg) {\n",
       "    fig.message.textContent = msg['message'];\n",
       "}\n",
       "\n",
       "mpl.figure.prototype.handle_draw = function(fig, msg) {\n",
       "    // Request the server to send over a new figure.\n",
       "    fig.send_draw_message();\n",
       "}\n",
       "\n",
       "mpl.figure.prototype.handle_image_mode = function(fig, msg) {\n",
       "    fig.image_mode = msg['mode'];\n",
       "}\n",
       "\n",
       "mpl.figure.prototype.updated_canvas_event = function() {\n",
       "    // Called whenever the canvas gets updated.\n",
       "    this.send_message(\"ack\", {});\n",
       "}\n",
       "\n",
       "// A function to construct a web socket function for onmessage handling.\n",
       "// Called in the figure constructor.\n",
       "mpl.figure.prototype._make_on_message_function = function(fig) {\n",
       "    return function socket_on_message(evt) {\n",
       "        if (evt.data instanceof Blob) {\n",
       "            /* FIXME: We get \"Resource interpreted as Image but\n",
       "             * transferred with MIME type text/plain:\" errors on\n",
       "             * Chrome.  But how to set the MIME type?  It doesn't seem\n",
       "             * to be part of the websocket stream */\n",
       "            evt.data.type = \"image/png\";\n",
       "\n",
       "            /* Free the memory for the previous frames */\n",
       "            if (fig.imageObj.src) {\n",
       "                (window.URL || window.webkitURL).revokeObjectURL(\n",
       "                    fig.imageObj.src);\n",
       "            }\n",
       "\n",
       "            fig.imageObj.src = (window.URL || window.webkitURL).createObjectURL(\n",
       "                evt.data);\n",
       "            fig.updated_canvas_event();\n",
       "            fig.waiting = false;\n",
       "            return;\n",
       "        }\n",
       "        else if (typeof evt.data === 'string' && evt.data.slice(0, 21) == \"data:image/png;base64\") {\n",
       "            fig.imageObj.src = evt.data;\n",
       "            fig.updated_canvas_event();\n",
       "            fig.waiting = false;\n",
       "            return;\n",
       "        }\n",
       "\n",
       "        var msg = JSON.parse(evt.data);\n",
       "        var msg_type = msg['type'];\n",
       "\n",
       "        // Call the  \"handle_{type}\" callback, which takes\n",
       "        // the figure and JSON message as its only arguments.\n",
       "        try {\n",
       "            var callback = fig[\"handle_\" + msg_type];\n",
       "        } catch (e) {\n",
       "            console.log(\"No handler for the '\" + msg_type + \"' message type: \", msg);\n",
       "            return;\n",
       "        }\n",
       "\n",
       "        if (callback) {\n",
       "            try {\n",
       "                // console.log(\"Handling '\" + msg_type + \"' message: \", msg);\n",
       "                callback(fig, msg);\n",
       "            } catch (e) {\n",
       "                console.log(\"Exception inside the 'handler_\" + msg_type + \"' callback:\", e, e.stack, msg);\n",
       "            }\n",
       "        }\n",
       "    };\n",
       "}\n",
       "\n",
       "// from http://stackoverflow.com/questions/1114465/getting-mouse-location-in-canvas\n",
       "mpl.findpos = function(e) {\n",
       "    //this section is from http://www.quirksmode.org/js/events_properties.html\n",
       "    var targ;\n",
       "    if (!e)\n",
       "        e = window.event;\n",
       "    if (e.target)\n",
       "        targ = e.target;\n",
       "    else if (e.srcElement)\n",
       "        targ = e.srcElement;\n",
       "    if (targ.nodeType == 3) // defeat Safari bug\n",
       "        targ = targ.parentNode;\n",
       "\n",
       "    // jQuery normalizes the pageX and pageY\n",
       "    // pageX,Y are the mouse positions relative to the document\n",
       "    // offset() returns the position of the element relative to the document\n",
       "    var x = e.pageX - $(targ).offset().left;\n",
       "    var y = e.pageY - $(targ).offset().top;\n",
       "\n",
       "    return {\"x\": x, \"y\": y};\n",
       "};\n",
       "\n",
       "/*\n",
       " * return a copy of an object with only non-object keys\n",
       " * we need this to avoid circular references\n",
       " * http://stackoverflow.com/a/24161582/3208463\n",
       " */\n",
       "function simpleKeys (original) {\n",
       "  return Object.keys(original).reduce(function (obj, key) {\n",
       "    if (typeof original[key] !== 'object')\n",
       "        obj[key] = original[key]\n",
       "    return obj;\n",
       "  }, {});\n",
       "}\n",
       "\n",
       "mpl.figure.prototype.mouse_event = function(event, name) {\n",
       "    var canvas_pos = mpl.findpos(event)\n",
       "\n",
       "    if (name === 'button_press')\n",
       "    {\n",
       "        this.canvas.focus();\n",
       "        this.canvas_div.focus();\n",
       "    }\n",
       "\n",
       "    var x = canvas_pos.x * mpl.ratio;\n",
       "    var y = canvas_pos.y * mpl.ratio;\n",
       "\n",
       "    this.send_message(name, {x: x, y: y, button: event.button,\n",
       "                             step: event.step,\n",
       "                             guiEvent: simpleKeys(event)});\n",
       "\n",
       "    /* This prevents the web browser from automatically changing to\n",
       "     * the text insertion cursor when the button is pressed.  We want\n",
       "     * to control all of the cursor setting manually through the\n",
       "     * 'cursor' event from matplotlib */\n",
       "    event.preventDefault();\n",
       "    return false;\n",
       "}\n",
       "\n",
       "mpl.figure.prototype._key_event_extra = function(event, name) {\n",
       "    // Handle any extra behaviour associated with a key event\n",
       "}\n",
       "\n",
       "mpl.figure.prototype.key_event = function(event, name) {\n",
       "\n",
       "    // Prevent repeat events\n",
       "    if (name == 'key_press')\n",
       "    {\n",
       "        if (event.which === this._key)\n",
       "            return;\n",
       "        else\n",
       "            this._key = event.which;\n",
       "    }\n",
       "    if (name == 'key_release')\n",
       "        this._key = null;\n",
       "\n",
       "    var value = '';\n",
       "    if (event.ctrlKey && event.which != 17)\n",
       "        value += \"ctrl+\";\n",
       "    if (event.altKey && event.which != 18)\n",
       "        value += \"alt+\";\n",
       "    if (event.shiftKey && event.which != 16)\n",
       "        value += \"shift+\";\n",
       "\n",
       "    value += 'k';\n",
       "    value += event.which.toString();\n",
       "\n",
       "    this._key_event_extra(event, name);\n",
       "\n",
       "    this.send_message(name, {key: value,\n",
       "                             guiEvent: simpleKeys(event)});\n",
       "    return false;\n",
       "}\n",
       "\n",
       "mpl.figure.prototype.toolbar_button_onclick = function(name) {\n",
       "    if (name == 'download') {\n",
       "        this.handle_save(this, null);\n",
       "    } else {\n",
       "        this.send_message(\"toolbar_button\", {name: name});\n",
       "    }\n",
       "};\n",
       "\n",
       "mpl.figure.prototype.toolbar_button_onmouseover = function(tooltip) {\n",
       "    this.message.textContent = tooltip;\n",
       "};\n",
       "mpl.toolbar_items = [[\"Home\", \"Reset original view\", \"fa fa-home icon-home\", \"home\"], [\"Back\", \"Back to  previous view\", \"fa fa-arrow-left icon-arrow-left\", \"back\"], [\"Forward\", \"Forward to next view\", \"fa fa-arrow-right icon-arrow-right\", \"forward\"], [\"\", \"\", \"\", \"\"], [\"Pan\", \"Pan axes with left mouse, zoom with right\", \"fa fa-arrows icon-move\", \"pan\"], [\"Zoom\", \"Zoom to rectangle\", \"fa fa-square-o icon-check-empty\", \"zoom\"], [\"\", \"\", \"\", \"\"], [\"Download\", \"Download plot\", \"fa fa-floppy-o icon-save\", \"download\"]];\n",
       "\n",
       "mpl.extensions = [\"eps\", \"jpeg\", \"pdf\", \"png\", \"ps\", \"raw\", \"svg\", \"tif\"];\n",
       "\n",
       "mpl.default_extension = \"png\";var comm_websocket_adapter = function(comm) {\n",
       "    // Create a \"websocket\"-like object which calls the given IPython comm\n",
       "    // object with the appropriate methods. Currently this is a non binary\n",
       "    // socket, so there is still some room for performance tuning.\n",
       "    var ws = {};\n",
       "\n",
       "    ws.close = function() {\n",
       "        comm.close()\n",
       "    };\n",
       "    ws.send = function(m) {\n",
       "        //console.log('sending', m);\n",
       "        comm.send(m);\n",
       "    };\n",
       "    // Register the callback with on_msg.\n",
       "    comm.on_msg(function(msg) {\n",
       "        //console.log('receiving', msg['content']['data'], msg);\n",
       "        // Pass the mpl event to the overriden (by mpl) onmessage function.\n",
       "        ws.onmessage(msg['content']['data'])\n",
       "    });\n",
       "    return ws;\n",
       "}\n",
       "\n",
       "mpl.mpl_figure_comm = function(comm, msg) {\n",
       "    // This is the function which gets called when the mpl process\n",
       "    // starts-up an IPython Comm through the \"matplotlib\" channel.\n",
       "\n",
       "    var id = msg.content.data.id;\n",
       "    // Get hold of the div created by the display call when the Comm\n",
       "    // socket was opened in Python.\n",
       "    var element = $(\"#\" + id);\n",
       "    var ws_proxy = comm_websocket_adapter(comm)\n",
       "\n",
       "    function ondownload(figure, format) {\n",
       "        window.open(figure.imageObj.src);\n",
       "    }\n",
       "\n",
       "    var fig = new mpl.figure(id, ws_proxy,\n",
       "                           ondownload,\n",
       "                           element.get(0));\n",
       "\n",
       "    // Call onopen now - mpl needs it, as it is assuming we've passed it a real\n",
       "    // web socket which is closed, not our websocket->open comm proxy.\n",
       "    ws_proxy.onopen();\n",
       "\n",
       "    fig.parent_element = element.get(0);\n",
       "    fig.cell_info = mpl.find_output_cell(\"<div id='\" + id + \"'></div>\");\n",
       "    if (!fig.cell_info) {\n",
       "        console.error(\"Failed to find cell for figure\", id, fig);\n",
       "        return;\n",
       "    }\n",
       "\n",
       "    var output_index = fig.cell_info[2]\n",
       "    var cell = fig.cell_info[0];\n",
       "\n",
       "};\n",
       "\n",
       "mpl.figure.prototype.handle_close = function(fig, msg) {\n",
       "    var width = fig.canvas.width/mpl.ratio\n",
       "    fig.root.unbind('remove')\n",
       "\n",
       "    // Update the output cell to use the data from the current canvas.\n",
       "    fig.push_to_output();\n",
       "    var dataURL = fig.canvas.toDataURL();\n",
       "    // Re-enable the keyboard manager in IPython - without this line, in FF,\n",
       "    // the notebook keyboard shortcuts fail.\n",
       "    IPython.keyboard_manager.enable()\n",
       "    $(fig.parent_element).html('<img src=\"' + dataURL + '\" width=\"' + width + '\">');\n",
       "    fig.close_ws(fig, msg);\n",
       "}\n",
       "\n",
       "mpl.figure.prototype.close_ws = function(fig, msg){\n",
       "    fig.send_message('closing', msg);\n",
       "    // fig.ws.close()\n",
       "}\n",
       "\n",
       "mpl.figure.prototype.push_to_output = function(remove_interactive) {\n",
       "    // Turn the data on the canvas into data in the output cell.\n",
       "    var width = this.canvas.width/mpl.ratio\n",
       "    var dataURL = this.canvas.toDataURL();\n",
       "    this.cell_info[1]['text/html'] = '<img src=\"' + dataURL + '\" width=\"' + width + '\">';\n",
       "}\n",
       "\n",
       "mpl.figure.prototype.updated_canvas_event = function() {\n",
       "    // Tell IPython that the notebook contents must change.\n",
       "    IPython.notebook.set_dirty(true);\n",
       "    this.send_message(\"ack\", {});\n",
       "    var fig = this;\n",
       "    // Wait a second, then push the new image to the DOM so\n",
       "    // that it is saved nicely (might be nice to debounce this).\n",
       "    setTimeout(function () { fig.push_to_output() }, 1000);\n",
       "}\n",
       "\n",
       "mpl.figure.prototype._init_toolbar = function() {\n",
       "    var fig = this;\n",
       "\n",
       "    var nav_element = $('<div/>')\n",
       "    nav_element.attr('style', 'width: 100%');\n",
       "    this.root.append(nav_element);\n",
       "\n",
       "    // Define a callback function for later on.\n",
       "    function toolbar_event(event) {\n",
       "        return fig.toolbar_button_onclick(event['data']);\n",
       "    }\n",
       "    function toolbar_mouse_event(event) {\n",
       "        return fig.toolbar_button_onmouseover(event['data']);\n",
       "    }\n",
       "\n",
       "    for(var toolbar_ind in mpl.toolbar_items){\n",
       "        var name = mpl.toolbar_items[toolbar_ind][0];\n",
       "        var tooltip = mpl.toolbar_items[toolbar_ind][1];\n",
       "        var image = mpl.toolbar_items[toolbar_ind][2];\n",
       "        var method_name = mpl.toolbar_items[toolbar_ind][3];\n",
       "\n",
       "        if (!name) { continue; };\n",
       "\n",
       "        var button = $('<button class=\"btn btn-default\" href=\"#\" title=\"' + name + '\"><i class=\"fa ' + image + ' fa-lg\"></i></button>');\n",
       "        button.click(method_name, toolbar_event);\n",
       "        button.mouseover(tooltip, toolbar_mouse_event);\n",
       "        nav_element.append(button);\n",
       "    }\n",
       "\n",
       "    // Add the status bar.\n",
       "    var status_bar = $('<span class=\"mpl-message\" style=\"text-align:right; float: right;\"/>');\n",
       "    nav_element.append(status_bar);\n",
       "    this.message = status_bar[0];\n",
       "\n",
       "    // Add the close button to the window.\n",
       "    var buttongrp = $('<div class=\"btn-group inline pull-right\"></div>');\n",
       "    var button = $('<button class=\"btn btn-mini btn-primary\" href=\"#\" title=\"Stop Interaction\"><i class=\"fa fa-power-off icon-remove icon-large\"></i></button>');\n",
       "    button.click(function (evt) { fig.handle_close(fig, {}); } );\n",
       "    button.mouseover('Stop Interaction', toolbar_mouse_event);\n",
       "    buttongrp.append(button);\n",
       "    var titlebar = this.root.find($('.ui-dialog-titlebar'));\n",
       "    titlebar.prepend(buttongrp);\n",
       "}\n",
       "\n",
       "mpl.figure.prototype._root_extra_style = function(el){\n",
       "    var fig = this\n",
       "    el.on(\"remove\", function(){\n",
       "\tfig.close_ws(fig, {});\n",
       "    });\n",
       "}\n",
       "\n",
       "mpl.figure.prototype._canvas_extra_style = function(el){\n",
       "    // this is important to make the div 'focusable\n",
       "    el.attr('tabindex', 0)\n",
       "    // reach out to IPython and tell the keyboard manager to turn it's self\n",
       "    // off when our div gets focus\n",
       "\n",
       "    // location in version 3\n",
       "    if (IPython.notebook.keyboard_manager) {\n",
       "        IPython.notebook.keyboard_manager.register_events(el);\n",
       "    }\n",
       "    else {\n",
       "        // location in version 2\n",
       "        IPython.keyboard_manager.register_events(el);\n",
       "    }\n",
       "\n",
       "}\n",
       "\n",
       "mpl.figure.prototype._key_event_extra = function(event, name) {\n",
       "    var manager = IPython.notebook.keyboard_manager;\n",
       "    if (!manager)\n",
       "        manager = IPython.keyboard_manager;\n",
       "\n",
       "    // Check for shift+enter\n",
       "    if (event.shiftKey && event.which == 13) {\n",
       "        this.canvas_div.blur();\n",
       "        // select the cell after this one\n",
       "        var index = IPython.notebook.find_cell_index(this.cell_info[0]);\n",
       "        IPython.notebook.select(index + 1);\n",
       "    }\n",
       "}\n",
       "\n",
       "mpl.figure.prototype.handle_save = function(fig, msg) {\n",
       "    fig.ondownload(fig, null);\n",
       "}\n",
       "\n",
       "\n",
       "mpl.find_output_cell = function(html_output) {\n",
       "    // Return the cell and output element which can be found *uniquely* in the notebook.\n",
       "    // Note - this is a bit hacky, but it is done because the \"notebook_saving.Notebook\"\n",
       "    // IPython event is triggered only after the cells have been serialised, which for\n",
       "    // our purposes (turning an active figure into a static one), is too late.\n",
       "    var cells = IPython.notebook.get_cells();\n",
       "    var ncells = cells.length;\n",
       "    for (var i=0; i<ncells; i++) {\n",
       "        var cell = cells[i];\n",
       "        if (cell.cell_type === 'code'){\n",
       "            for (var j=0; j<cell.output_area.outputs.length; j++) {\n",
       "                var data = cell.output_area.outputs[j];\n",
       "                if (data.data) {\n",
       "                    // IPython >= 3 moved mimebundle to data attribute of output\n",
       "                    data = data.data;\n",
       "                }\n",
       "                if (data['text/html'] == html_output) {\n",
       "                    return [cell, data, j];\n",
       "                }\n",
       "            }\n",
       "        }\n",
       "    }\n",
       "}\n",
       "\n",
       "// Register the function which deals with the matplotlib target/channel.\n",
       "// The kernel may be null if the page has been refreshed.\n",
       "if (IPython.notebook.kernel != null) {\n",
       "    IPython.notebook.kernel.comm_manager.register_target('matplotlib', mpl.mpl_figure_comm);\n",
       "}\n"
      ],
      "text/plain": [
       "<IPython.core.display.Javascript object>"
      ]
     },
     "metadata": {},
     "output_type": "display_data"
    },
    {
     "data": {
      "text/html": [
       "<div id='67eb401c-c9a7-449d-aaf1-0dda84daf986'></div>"
      ],
      "text/plain": [
       "<IPython.core.display.HTML object>"
      ]
     },
     "metadata": {},
     "output_type": "display_data"
    },
    {
     "ename": "ValueError",
     "evalue": "zero-size array to reduction operation maximum which has no identity",
     "output_type": "error",
     "traceback": [
      "\u001b[1;31m---------------------------------------------------------------------------\u001b[0m",
      "\u001b[1;31mValueError\u001b[0m                                Traceback (most recent call last)",
      "\u001b[1;32m<ipython-input-157-8731637a880c>\u001b[0m in \u001b[0;36m<module>\u001b[1;34m()\u001b[0m\n\u001b[1;32m----> 1\u001b[1;33m \u001b[0mld\u001b[0m\u001b[1;33m.\u001b[0m\u001b[0mdisp\u001b[0m\u001b[1;33m(\u001b[0m\u001b[1;33m[\u001b[0m\u001b[0mimg\u001b[0m\u001b[1;33m]\u001b[0m\u001b[1;33m)\u001b[0m\u001b[1;33m\u001b[0m\u001b[0m\n\u001b[0m",
      "\u001b[1;32m/net/hciserver03/storage/oblum/projects/ld_gan/ld_gan/utils/utils.py\u001b[0m in \u001b[0;36mdisp\u001b[1;34m(img_list, title_list, fname, figsize)\u001b[0m\n\u001b[0;32m     45\u001b[0m         \u001b[1;32melse\u001b[0m\u001b[1;33m:\u001b[0m\u001b[1;33m\u001b[0m\u001b[0m\n\u001b[0;32m     46\u001b[0m             plt.imshow(img_show.astype(np.uint8), \n\u001b[1;32m---> 47\u001b[1;33m                        vmax = img.max(), vmin = img.min())\n\u001b[0m\u001b[0;32m     48\u001b[0m \u001b[1;33m\u001b[0m\u001b[0m\n\u001b[0;32m     49\u001b[0m         \u001b[0mplt\u001b[0m\u001b[1;33m.\u001b[0m\u001b[0maxis\u001b[0m\u001b[1;33m(\u001b[0m\u001b[1;34m\"off\"\u001b[0m\u001b[1;33m)\u001b[0m\u001b[1;33m\u001b[0m\u001b[0m\n",
      "\u001b[1;32m/net/hciserver03/storage/oblum/venvs/compvisgpu01/lib/python2.7/site-packages/numpy/core/_methods.pyc\u001b[0m in \u001b[0;36m_amax\u001b[1;34m(a, axis, out, keepdims)\u001b[0m\n\u001b[0;32m     24\u001b[0m \u001b[1;31m# small reductions\u001b[0m\u001b[1;33m\u001b[0m\u001b[1;33m\u001b[0m\u001b[0m\n\u001b[0;32m     25\u001b[0m \u001b[1;32mdef\u001b[0m \u001b[0m_amax\u001b[0m\u001b[1;33m(\u001b[0m\u001b[0ma\u001b[0m\u001b[1;33m,\u001b[0m \u001b[0maxis\u001b[0m\u001b[1;33m=\u001b[0m\u001b[0mNone\u001b[0m\u001b[1;33m,\u001b[0m \u001b[0mout\u001b[0m\u001b[1;33m=\u001b[0m\u001b[0mNone\u001b[0m\u001b[1;33m,\u001b[0m \u001b[0mkeepdims\u001b[0m\u001b[1;33m=\u001b[0m\u001b[0mFalse\u001b[0m\u001b[1;33m)\u001b[0m\u001b[1;33m:\u001b[0m\u001b[1;33m\u001b[0m\u001b[0m\n\u001b[1;32m---> 26\u001b[1;33m     \u001b[1;32mreturn\u001b[0m \u001b[0mumr_maximum\u001b[0m\u001b[1;33m(\u001b[0m\u001b[0ma\u001b[0m\u001b[1;33m,\u001b[0m \u001b[0maxis\u001b[0m\u001b[1;33m,\u001b[0m \u001b[0mNone\u001b[0m\u001b[1;33m,\u001b[0m \u001b[0mout\u001b[0m\u001b[1;33m,\u001b[0m \u001b[0mkeepdims\u001b[0m\u001b[1;33m)\u001b[0m\u001b[1;33m\u001b[0m\u001b[0m\n\u001b[0m\u001b[0;32m     27\u001b[0m \u001b[1;33m\u001b[0m\u001b[0m\n\u001b[0;32m     28\u001b[0m \u001b[1;32mdef\u001b[0m \u001b[0m_amin\u001b[0m\u001b[1;33m(\u001b[0m\u001b[0ma\u001b[0m\u001b[1;33m,\u001b[0m \u001b[0maxis\u001b[0m\u001b[1;33m=\u001b[0m\u001b[0mNone\u001b[0m\u001b[1;33m,\u001b[0m \u001b[0mout\u001b[0m\u001b[1;33m=\u001b[0m\u001b[0mNone\u001b[0m\u001b[1;33m,\u001b[0m \u001b[0mkeepdims\u001b[0m\u001b[1;33m=\u001b[0m\u001b[0mFalse\u001b[0m\u001b[1;33m)\u001b[0m\u001b[1;33m:\u001b[0m\u001b[1;33m\u001b[0m\u001b[0m\n",
      "\u001b[1;31mValueError\u001b[0m: zero-size array to reduction operation maximum which has no identity"
     ]
    }
   ],
   "source": [
    "ld.disp([img])"
   ]
  },
  {
   "cell_type": "code",
   "execution_count": null,
   "metadata": {
    "collapsed": true
   },
   "outputs": [],
   "source": []
  },
  {
   "cell_type": "code",
   "execution_count": null,
   "metadata": {
    "collapsed": true
   },
   "outputs": [],
   "source": []
  },
  {
   "cell_type": "code",
   "execution_count": null,
   "metadata": {
    "collapsed": true
   },
   "outputs": [],
   "source": []
  },
  {
   "cell_type": "markdown",
   "metadata": {},
   "source": [
    "# trian / test"
   ]
  },
  {
   "cell_type": "code",
   "execution_count": 95,
   "metadata": {
    "collapsed": false
   },
   "outputs": [],
   "source": [
    "fname_train = \"data/pets/annotations/trainval.txt\"\n",
    "with open(fname_train, \"r\") as f:\n",
    "    content = f.read()\n",
    "fnames_train = content.split(\"\\n\")\n",
    "\n",
    "fname_test = \"data/pets/annotations/test.txt\"\n",
    "with open(fname_test, \"r\") as f:\n",
    "    content = f.read()\n",
    "fnames_test = content.split(\"\\n\")"
   ]
  },
  {
   "cell_type": "code",
   "execution_count": 96,
   "metadata": {
    "collapsed": false
   },
   "outputs": [
    {
     "data": {
      "text/plain": [
       "3670"
      ]
     },
     "execution_count": 96,
     "metadata": {},
     "output_type": "execute_result"
    }
   ],
   "source": [
    "len(fnames_test)"
   ]
  },
  {
   "cell_type": "code",
   "execution_count": 97,
   "metadata": {
    "collapsed": false
   },
   "outputs": [
    {
     "data": {
      "text/plain": [
       "3681"
      ]
     },
     "execution_count": 97,
     "metadata": {},
     "output_type": "execute_result"
    }
   ],
   "source": [
    "len(fnames_train)"
   ]
  },
  {
   "cell_type": "code",
   "execution_count": 99,
   "metadata": {
    "collapsed": false
   },
   "outputs": [],
   "source": [
    "fnames_train = [f.split(\" \")[0] for f in fnames_train]"
   ]
  },
  {
   "cell_type": "code",
   "execution_count": 100,
   "metadata": {
    "collapsed": true
   },
   "outputs": [],
   "source": [
    "fnames_test = [f.split(\" \")[0] for f in fnames_test]"
   ]
  },
  {
   "cell_type": "code",
   "execution_count": 101,
   "metadata": {
    "collapsed": false
   },
   "outputs": [
    {
     "data": {
      "text/plain": [
       "False"
      ]
     },
     "execution_count": 101,
     "metadata": {},
     "output_type": "execute_result"
    }
   ],
   "source": [
    "fnames_train[0] in fnames_test"
   ]
  },
  {
   "cell_type": "code",
   "execution_count": null,
   "metadata": {
    "collapsed": true
   },
   "outputs": [],
   "source": []
  },
  {
   "cell_type": "code",
   "execution_count": null,
   "metadata": {
    "collapsed": true
   },
   "outputs": [],
   "source": []
  },
  {
   "cell_type": "code",
   "execution_count": null,
   "metadata": {
    "collapsed": true
   },
   "outputs": [],
   "source": []
  },
  {
   "cell_type": "code",
   "execution_count": null,
   "metadata": {
    "collapsed": true
   },
   "outputs": [],
   "source": []
  }
 ],
 "metadata": {
  "kernelspec": {
   "display_name": "Python 2",
   "language": "python",
   "name": "python2"
  },
  "language_info": {
   "codemirror_mode": {
    "name": "ipython",
    "version": 2
   },
   "file_extension": ".py",
   "mimetype": "text/x-python",
   "name": "python",
   "nbconvert_exporter": "python",
   "pygments_lexer": "ipython2",
   "version": "2.7.6"
  }
 },
 "nbformat": 4,
 "nbformat_minor": 0
}
