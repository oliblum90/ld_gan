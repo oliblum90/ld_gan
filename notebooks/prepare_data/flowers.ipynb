{
 "cells": [
  {
   "cell_type": "code",
   "execution_count": 1,
   "metadata": {
    "collapsed": false
   },
   "outputs": [
    {
     "name": "stdout",
     "output_type": "stream",
     "text": [
      "Populating the interactive namespace from numpy and matplotlib\n"
     ]
    }
   ],
   "source": [
    "%load_ext autoreload\n",
    "%autoreload 2\n",
    "\n",
    "import os\n",
    "os.chdir(\"../../\")\n",
    "\n",
    "%pylab inline\n",
    "pylab.rcParams['figure.figsize'] = (10, 3)"
   ]
  },
  {
   "cell_type": "code",
   "execution_count": 2,
   "metadata": {
    "collapsed": false
   },
   "outputs": [
    {
     "name": "stdout",
     "output_type": "stream",
     "text": [
      "Couldn't import dot_parser, loading of dot files will not be possible.\n"
     ]
    },
    {
     "name": "stderr",
     "output_type": "stream",
     "text": [
      "Using TensorFlow backend.\n"
     ]
    }
   ],
   "source": [
    "import numpy as np\n",
    "from keras.backend.tensorflow_backend import set_session\n",
    "import tensorflow as tf\n",
    "import ld_gan.visualize\n",
    "from tqdm import tqdm\n",
    "import scipy.misc\n",
    "from scipy.io.matlab import loadmat\n",
    "import cv2"
   ]
  },
  {
   "cell_type": "code",
   "execution_count": 3,
   "metadata": {
    "collapsed": true
   },
   "outputs": [],
   "source": [
    "def mkdir_if_not_exist(path):\n",
    "    dirs = path.split('/')[:-1]\n",
    "    d = \"\"\n",
    "    for current_dir in dirs:\n",
    "        d = os.path.join(d, current_dir)\n",
    "        try:\n",
    "            os.mkdir(d)\n",
    "        except:\n",
    "            pass"
   ]
  },
  {
   "cell_type": "code",
   "execution_count": 4,
   "metadata": {
    "collapsed": true
   },
   "outputs": [],
   "source": [
    "def ldir(path):\n",
    "    return [os.path.join(path, f) for f in os.listdir(path)]"
   ]
  },
  {
   "cell_type": "code",
   "execution_count": 5,
   "metadata": {
    "collapsed": true
   },
   "outputs": [],
   "source": [
    "IMG_BASE_PATH = \"data/flowers_102/jpg\"\n",
    "IMG_CLF_BASE_PATH = \"data/flowers_102/classes\"\n",
    "IMG_CLASSES_FNAME = \"data/flowers_102/imagelabels.mat\"\n",
    "SEG_BASE_PATH = \"data/flowers_102/segmim\"\n",
    "CROPPED_PATH = \"data/flowers_102/cropped\""
   ]
  },
  {
   "cell_type": "code",
   "execution_count": 6,
   "metadata": {
    "collapsed": true
   },
   "outputs": [],
   "source": [
    "ys = loadmat(IMG_CLASSES_FNAME)['labels'][0]"
   ]
  },
  {
   "cell_type": "code",
   "execution_count": 7,
   "metadata": {
    "collapsed": false
   },
   "outputs": [
    {
     "name": "stderr",
     "output_type": "stream",
     "text": [
      "100%|██████████| 8189/8189 [04:36<00:00, 29.66it/s]\n"
     ]
    }
   ],
   "source": [
    "for fname, y in tqdm(zip(sorted(ldir(IMG_BASE_PATH)), ys)):\n",
    "    \n",
    "    img = scipy.misc.imread(fname)\n",
    "    splits = fname.split(\"/\")\n",
    "    splits = splits[:-2] + [\"jpg_256\", str(y), splits[-1]]\n",
    "    fname = os.path.join(*splits)\n",
    "    mkdir_if_not_exist(fname)\n",
    "    \n",
    "    img = scipy.misc.imresize(img, (256, 256))\n",
    "    \n",
    "    scipy.misc.imsave(fname, img)"
   ]
  },
  {
   "cell_type": "code",
   "execution_count": null,
   "metadata": {
    "collapsed": true
   },
   "outputs": [],
   "source": []
  }
 ],
 "metadata": {
  "kernelspec": {
   "display_name": "Python 2",
   "language": "python",
   "name": "python2"
  },
  "language_info": {
   "codemirror_mode": {
    "name": "ipython",
    "version": 2
   },
   "file_extension": ".py",
   "mimetype": "text/x-python",
   "name": "python",
   "nbconvert_exporter": "python",
   "pygments_lexer": "ipython2",
   "version": "2.7.6"
  }
 },
 "nbformat": 4,
 "nbformat_minor": 0
}
