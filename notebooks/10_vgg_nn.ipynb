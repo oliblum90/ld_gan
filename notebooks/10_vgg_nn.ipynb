{
 "cells": [
  {
   "cell_type": "code",
   "execution_count": 1,
   "metadata": {
    "collapsed": false
   },
   "outputs": [],
   "source": [
    "%load_ext autoreload\n",
    "%autoreload 2\n",
    "\n",
    "import os\n",
    "os.chdir(\"../\")\n",
    "\n",
    "%matplotlib inline\n",
    "import matplotlib.pylab as plt\n",
    "# pylab.rcParams['figure.figsize'] = (10, 5)"
   ]
  },
  {
   "cell_type": "code",
   "execution_count": 2,
   "metadata": {
    "collapsed": false
   },
   "outputs": [],
   "source": [
    "import ld_gan \n",
    "import numpy as np\n",
    "import ld_gan.utils.utils as ld\n",
    "from time import time\n",
    "from tqdm import tqdm"
   ]
  },
  {
   "cell_type": "markdown",
   "metadata": {},
   "source": [
    "# load vgg"
   ]
  },
  {
   "cell_type": "code",
   "execution_count": 3,
   "metadata": {
    "collapsed": false
   },
   "outputs": [],
   "source": [
    "vgg = ld_gan.models.VGG()"
   ]
  },
  {
   "cell_type": "markdown",
   "metadata": {},
   "source": [
    "# load data"
   ]
  },
  {
   "cell_type": "code",
   "execution_count": 4,
   "metadata": {
    "collapsed": false
   },
   "outputs": [
    {
     "name": "stderr",
     "output_type": "stream",
     "text": [
      "100%|██████████| 102/102 [00:10<00:00, 13.57it/s]"
     ]
    },
    {
     "name": "stdout",
     "output_type": "stream",
     "text": [
      "load data from '/export/home/oblum/projects/ld_gan/data/flowers_102/jpg_test_256'\n"
     ]
    },
    {
     "name": "stderr",
     "output_type": "stream",
     "text": [
      "\n"
     ]
    }
   ],
   "source": [
    "X, Y = ld_gan.data_proc.data_loader.load_data(11, resize=64)\n",
    "Y = np.argmax(Y, axis = 1)\n",
    "n_classes = int(Y.max() + 1)"
   ]
  },
  {
   "cell_type": "code",
   "execution_count": 5,
   "metadata": {
    "collapsed": false
   },
   "outputs": [],
   "source": [
    "X1 = X[:50]\n",
    "X2 = X[50:]"
   ]
  },
  {
   "cell_type": "markdown",
   "metadata": {},
   "source": [
    "# compute features"
   ]
  },
  {
   "cell_type": "code",
   "execution_count": null,
   "metadata": {
    "collapsed": false
   },
   "outputs": [],
   "source": [
    "def apply_vgg(vgg, imgs, batch_size = None):\n",
    "    \n",
    "    imgs = ld_gan.data_proc.norm_img.norm(imgs)\n",
    "    \n",
    "    if batch_size is None:\n",
    "        x = ld_gan.data_proc.transformer.np_to_tensor(imgs, normalize=False)\n",
    "        C1, C2, C3, C4, C5 = vgg(x)\n",
    "        C1, C2, C3, C4, C5 = ld_gan.data_proc.transform(C1, C2, C3, C4, C5,\n",
    "                                                        normalize=False)\n",
    "        \n",
    "    else:\n",
    "        n_iters = int(imgs.shape[0] / batch_size) + 1\n",
    "        X = np.array_split(imgs, n_iters)\n",
    "        C1, C2, C3, C4, C5 = [], [], [], [], []\n",
    "        for x in tqdm(X):\n",
    "            x = ld_gan.data_proc.transformer.np_to_tensor(x, normalize=False)\n",
    "            c1, c2, c3, c4, c5 = vgg(x)\n",
    "            c1, c2, c3, c4, c5 = ld_gan.data_proc.transform(c1, c2, c3, c4, c5,\n",
    "                                                            normalize=False)\n",
    "            C1.append(c1)\n",
    "            C2.append(c2)\n",
    "            C3.append(c3)\n",
    "            C4.append(c4)\n",
    "            C5.append(c5)\n",
    "        C1 = np.concatenate(C1)\n",
    "        C2 = np.concatenate(C2)\n",
    "        C3 = np.concatenate(C3)\n",
    "        C4 = np.concatenate(C4)\n",
    "        C5 = np.concatenate(C5)\n",
    "\n",
    "    return imgs, C1, C2, C3, C4, C5\n",
    "\n",
    "def nn_vgg(vgg, imgs_all, imgs_batch, n_neighbors=1, batch_size=16):\n",
    "    \n",
    "    C0, C1, C2, C3, C4, C5 = apply_vgg(vgg, imgs_all, batch_size)\n",
    "    \n",
    "    dists = []\n",
    "    idxs = []\n",
    "    for img in tqdm(imgs_batch):\n",
    "        c0, c1, c2, c3, c4, c5 = apply_vgg(vgg, np.array([img]))\n",
    "        \n",
    "        err = np.apply_over_axes(np.mean, np.abs(C0-c0), (1,2,3)) + \\\n",
    "              np.apply_over_axes(np.mean, np.abs(C1-c1), (1,2,3)) + \\\n",
    "              np.apply_over_axes(np.mean, np.abs(C2-c2), (1,2,3)) + \\\n",
    "              np.apply_over_axes(np.mean, np.abs(C3-c3), (1,2,3)) + \\\n",
    "              np.apply_over_axes(np.mean, np.abs(C4-c4), (1,2,3)) + \\\n",
    "              np.apply_over_axes(np.mean, np.abs(C5-c5), (1,2,3))\n",
    "        err = np.squeeze(err)\n",
    "        \n",
    "        idxs_img = np.argsort(err)[:n_neighbors]\n",
    "        \n",
    "        dists.append(err[idxs_img])\n",
    "        idxs.append(idxs_img)\n",
    "        \n",
    "    return dists, idxs"
   ]
  },
  {
   "cell_type": "code",
   "execution_count": null,
   "metadata": {
    "collapsed": false
   },
   "outputs": [
    {
     "name": "stderr",
     "output_type": "stream",
     "text": [
      "100%|██████████| 61/61 [00:26<00:00,  1.82it/s]\n",
      "  0%|          | 0/50 [00:00<?, ?it/s]"
     ]
    }
   ],
   "source": [
    "dists, idxs = nn_vgg(vgg, X2, X1)"
   ]
  },
  {
   "cell_type": "code",
   "execution_count": null,
   "metadata": {
    "collapsed": true
   },
   "outputs": [],
   "source": []
  },
  {
   "cell_type": "code",
   "execution_count": null,
   "metadata": {
    "collapsed": true
   },
   "outputs": [],
   "source": []
  },
  {
   "cell_type": "code",
   "execution_count": null,
   "metadata": {
    "collapsed": true
   },
   "outputs": [],
   "source": []
  },
  {
   "cell_type": "code",
   "execution_count": null,
   "metadata": {
    "collapsed": true
   },
   "outputs": [],
   "source": []
  },
  {
   "cell_type": "code",
   "execution_count": null,
   "metadata": {
    "collapsed": true
   },
   "outputs": [],
   "source": []
  },
  {
   "cell_type": "code",
   "execution_count": null,
   "metadata": {
    "collapsed": true
   },
   "outputs": [],
   "source": []
  },
  {
   "cell_type": "code",
   "execution_count": null,
   "metadata": {
    "collapsed": true
   },
   "outputs": [],
   "source": []
  }
 ],
 "metadata": {
  "kernelspec": {
   "display_name": "Python 2",
   "language": "python",
   "name": "python2"
  },
  "language_info": {
   "codemirror_mode": {
    "name": "ipython",
    "version": 2
   },
   "file_extension": ".py",
   "mimetype": "text/x-python",
   "name": "python",
   "nbconvert_exporter": "python",
   "pygments_lexer": "ipython2",
   "version": "2.7.6"
  }
 },
 "nbformat": 4,
 "nbformat_minor": 2
}
