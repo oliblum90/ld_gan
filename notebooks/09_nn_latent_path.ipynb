{
 "cells": [
  {
   "cell_type": "code",
   "execution_count": 1,
   "metadata": {
    "collapsed": false
   },
   "outputs": [],
   "source": [
    "%load_ext autoreload\n",
    "%autoreload 2\n",
    "\n",
    "import os\n",
    "os.chdir(\"../\")\n",
    "\n",
    "%matplotlib notebook\n",
    "import matplotlib.pylab as plt\n",
    "# pylab.rcParams['figure.figsize'] = (10, 5)"
   ]
  },
  {
   "cell_type": "code",
   "execution_count": 2,
   "metadata": {
    "collapsed": false
   },
   "outputs": [],
   "source": [
    "import numpy as np\n",
    "from sklearn.metrics.pairwise import pairwise_distances\n",
    "import scipy.optimize as opt"
   ]
  },
  {
   "cell_type": "code",
   "execution_count": 3,
   "metadata": {
    "collapsed": true
   },
   "outputs": [],
   "source": [
    "N_NEIGHBORS = 5"
   ]
  },
  {
   "cell_type": "markdown",
   "metadata": {},
   "source": [
    "# get data"
   ]
  },
  {
   "cell_type": "code",
   "execution_count": 4,
   "metadata": {
    "collapsed": true
   },
   "outputs": [],
   "source": [
    "def fkt(x, y):\n",
    "    return np.sin(-x*y)"
   ]
  },
  {
   "cell_type": "code",
   "execution_count": 5,
   "metadata": {
    "collapsed": false
   },
   "outputs": [],
   "source": [
    "def generate_points(n_pts, fkt):\n",
    "    x = np.random.rand(n_pts)*2-1\n",
    "    y = np.random.rand(n_pts)*2-1\n",
    "    z = fkt(x, y)\n",
    "    return x, y, z"
   ]
  },
  {
   "cell_type": "code",
   "execution_count": 6,
   "metadata": {
    "collapsed": false
   },
   "outputs": [],
   "source": [
    "x, y, z = generate_points(2000, fkt)"
   ]
  },
  {
   "cell_type": "code",
   "execution_count": 76,
   "metadata": {
    "collapsed": false
   },
   "outputs": [],
   "source": [
    "from mpl_toolkits.mplot3d import Axes3D\n",
    "import matplotlib.pyplot as plt\n",
    "import numpy as np\n",
    "\n",
    "def visualize_manifold(pts, a, b, path = None, angle=None, vis_path=None):\n",
    "    fig = plt.figure()\n",
    "    ax = fig.add_subplot(111, projection='3d')\n",
    "    \n",
    "    if angle is not None:\n",
    "        ax.view_init(30, angle)\n",
    "\n",
    "    ax.scatter(x, y, z, alpha=0.2)\n",
    "    ax.scatter(a[0], a[1], a[2], alpha=1, c='r', s=50)\n",
    "    ax.scatter(b[0], b[1], b[2], alpha=1, c='r', s=50)\n",
    "\n",
    "    if path is not None:\n",
    "        for p in path:\n",
    "            ax.scatter(p[0], p[1], p[2], alpha=0.5, c='r', s=25)\n",
    "    \n",
    "    ax.axis('off')\n",
    "    \n",
    "    if vis_path is not None:\n",
    "        plt.savefig(vis_path)\n",
    "        print \"saved {}\".format(vis_path)\n",
    "        plt.cla()\n",
    "    else:\n",
    "        plt.show()"
   ]
  },
  {
   "cell_type": "code",
   "execution_count": 30,
   "metadata": {
    "collapsed": true
   },
   "outputs": [],
   "source": [
    "def dist(a, b):\n",
    "    return np.sqrt(np.sum((a - b)**2))\n",
    "\n",
    "def proceed(a, b, pts, delta, n_neighbors = 5):\n",
    "    \n",
    "    dists = pairwise_distances(np.array([a]), pts)[0]\n",
    "    idxs = np.argsort(dists)[:n_neighbors]\n",
    "    \n",
    "    # reached a\n",
    "    if np.all(a == b):\n",
    "        print \"finished!\"\n",
    "        return None\n",
    "    \n",
    "    # b in nearest neighbors\n",
    "    if b in pts[idxs]:\n",
    "        return b\n",
    "    \n",
    "    vectors = a - pts[idxs]\n",
    "    vectors = vectors / np.linalg.norm(vectors, axis=1).reshape(-1, 1)\n",
    "    vectors = np.nan_to_num(vectors)\n",
    "    direktion = b - a\n",
    "    direktion = direktion / np.linalg.norm(direktion)\n",
    "    \n",
    "    def objective(w, a, b):\n",
    "        a_new = a + w.dot(vectors) * delta\n",
    "        w = w / np.linalg.norm(w)\n",
    "        return dist(a_new, b)\n",
    "\n",
    "    lc = opt.minimize(objective, np.ones(n_neighbors), args=(vectors, direktion), \n",
    "                      bounds=[[0,1]] * n_neighbors)\n",
    "        \n",
    "    w = lc['x']\n",
    "    \n",
    "    # random move to overcome local min\n",
    "    if w.sum() == 0:\n",
    "        w = -np.random.rand(len(w))\n",
    "    \n",
    "    w = w / np.linalg.norm(w)\n",
    "    \n",
    "    a_new = a + w.dot(vectors) * delta\n",
    "    \n",
    "    \n",
    "    return a_new"
   ]
  },
  {
   "cell_type": "code",
   "execution_count": 84,
   "metadata": {
    "collapsed": true
   },
   "outputs": [],
   "source": [
    "def get_path(beg, end, delta, n_neighbors = 5, vis_path=None, max_len_path=1000):\n",
    "    \n",
    "    angle = 0\n",
    "    \n",
    "    a = beg.copy()\n",
    "    b = end.copy()\n",
    "    \n",
    "    path = []\n",
    "    while a is not None:\n",
    "        path.append(a)\n",
    "        a = proceed(a, b, pts, delta, n_neighbors = 5)\n",
    "        \n",
    "        if vis_path is not None:\n",
    "            fname = os.path.join(vis_path, str(len(path)) + \".png\")\n",
    "            visualize_manifold(pts, a, b, path=path, vis_path=fname, angle=angle)\n",
    "            angle += 3\n",
    "    \n",
    "        if len(path) > max_len_path:\n",
    "            print \"path did not converge\"\n",
    "            break\n",
    "    \n",
    "    print \"path contains {} steps\".format(len(path))\n",
    "    \n",
    "    return path"
   ]
  },
  {
   "cell_type": "code",
   "execution_count": 92,
   "metadata": {
    "collapsed": true
   },
   "outputs": [],
   "source": [
    "pts = np.array([x, y, z]).transpose()\n",
    "a = pts[22]\n",
    "b = pts[45]\n",
    "delta = 0.01"
   ]
  },
  {
   "cell_type": "code",
   "execution_count": 93,
   "metadata": {
    "collapsed": false
   },
   "outputs": [],
   "source": [
    "import matplotlib\n",
    "matplotlib.use('Agg')"
   ]
  },
  {
   "cell_type": "code",
   "execution_count": 94,
   "metadata": {
    "collapsed": false
   },
   "outputs": [
    {
     "name": "stdout",
     "output_type": "stream",
     "text": [
      "finished!\n",
      "path contains 268 steps\n"
     ]
    },
    {
     "name": "stderr",
     "output_type": "stream",
     "text": [
      "/usr/local/lib/python2.7/dist-packages/ipykernel/__main__.py:19: RuntimeWarning: invalid value encountered in divide\n",
      "/usr/local/lib/python2.7/dist-packages/ipykernel/__main__.py:26: RuntimeWarning: invalid value encountered in divide\n"
     ]
    }
   ],
   "source": [
    "p = \"/export/home/oblum/projects/ld_gan/visualizations/move_in_z_space/1/\"\n",
    "path = get_path(a, b, delta, vis_path=None)"
   ]
  },
  {
   "cell_type": "code",
   "execution_count": null,
   "metadata": {
    "collapsed": true
   },
   "outputs": [],
   "source": []
  },
  {
   "cell_type": "code",
   "execution_count": null,
   "metadata": {
    "collapsed": true
   },
   "outputs": [],
   "source": []
  }
 ],
 "metadata": {
  "kernelspec": {
   "display_name": "Python 2",
   "language": "python",
   "name": "python2"
  },
  "language_info": {
   "codemirror_mode": {
    "name": "ipython",
    "version": 2
   },
   "file_extension": ".py",
   "mimetype": "text/x-python",
   "name": "python",
   "nbconvert_exporter": "python",
   "pygments_lexer": "ipython2",
   "version": "2.7.6"
  }
 },
 "nbformat": 4,
 "nbformat_minor": 0
}
