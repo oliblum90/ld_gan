{
 "cells": [
  {
   "cell_type": "markdown",
   "metadata": {},
   "source": [
    "# find inception score for mean images"
   ]
  },
  {
   "cell_type": "code",
   "execution_count": 1,
   "metadata": {
    "collapsed": false
   },
   "outputs": [],
   "source": [
    "%load_ext autoreload\n",
    "%autoreload 2\n",
    "\n",
    "import os\n",
    "os.chdir(\"../\")\n",
    "\n",
    "%matplotlib notebook\n",
    "import matplotlib.pylab as plt\n",
    "# pylab.rcParams['figure.figsize'] = (10, 5)"
   ]
  },
  {
   "cell_type": "code",
   "execution_count": 2,
   "metadata": {
    "collapsed": false
   },
   "outputs": [],
   "source": [
    "import ld_gan\n",
    "import numpy as np\n",
    "from ld_gan import visualize\n",
    "BATCH_SIZE = 256"
   ]
  },
  {
   "cell_type": "markdown",
   "metadata": {},
   "source": [
    "# load data"
   ]
  },
  {
   "cell_type": "code",
   "execution_count": 3,
   "metadata": {
    "collapsed": false,
    "scrolled": true
   },
   "outputs": [
    {
     "name": "stderr",
     "output_type": "stream",
     "text": [
      "100%|██████████| 202599/202599 [08:01<00:00, 420.38it/s]\n"
     ]
    }
   ],
   "source": [
    "X, Y = ld_gan.data_proc.data_loader.load_data(2)"
   ]
  },
  {
   "cell_type": "markdown",
   "metadata": {},
   "source": [
    "# compute inception score"
   ]
  },
  {
   "cell_type": "markdown",
   "metadata": {},
   "source": [
    "### my model"
   ]
  },
  {
   "cell_type": "code",
   "execution_count": 4,
   "metadata": {
    "collapsed": false
   },
   "outputs": [
    {
     "name": "stdout",
     "output_type": "stream",
     "text": [
      "loaded model 'projects/xc_11111_s10l.py/model/e_0010.pth'\n",
      "loaded model 'projects/xc_11111_s10l.py/model/e_0010.pth'\n"
     ]
    }
   ],
   "source": [
    "project, epoch = \"xc_11111_s10l.py\", 10\n",
    "enc = ld_gan.utils.model_handler.load_model(project, epoch, \"enc\")\n",
    "z_enc = ld_gan.utils.model_handler.apply_model(enc, X, batch_size=100)\n",
    "sampler = ld_gan.sample.nn_sampler(z_enc, X, Y, 1000, n_jobs = 10)"
   ]
  },
  {
   "cell_type": "code",
   "execution_count": null,
   "metadata": {
    "collapsed": false
   },
   "outputs": [
    {
     "name": "stdout",
     "output_type": "stream",
     "text": [
      "loaded model 'projects/xc_11111_s10l.py/model/g_0010.pth'\n",
      "loaded model 'projects/xc_11111_s10l.py/model/g_0010.pth'\n",
      "0"
     ]
    }
   ],
   "source": [
    "_ = ld_gan.eval_gan.quick_score.i_score(project, epoch, X, sampler)"
   ]
  },
  {
   "cell_type": "code",
   "execution_count": null,
   "metadata": {
    "collapsed": true
   },
   "outputs": [],
   "source": []
  },
  {
   "cell_type": "code",
   "execution_count": null,
   "metadata": {
    "collapsed": true
   },
   "outputs": [],
   "source": []
  },
  {
   "cell_type": "code",
   "execution_count": null,
   "metadata": {
    "collapsed": true
   },
   "outputs": [],
   "source": []
  },
  {
   "cell_type": "code",
   "execution_count": 13,
   "metadata": {
    "collapsed": false
   },
   "outputs": [],
   "source": [
    "from time import time\n",
    "from sklearn.metrics.pairwise import pairwise_distances"
   ]
  },
  {
   "cell_type": "code",
   "execution_count": 29,
   "metadata": {
    "collapsed": false
   },
   "outputs": [
    {
     "data": {
      "text/plain": [
       "6.695772171020508"
      ]
     },
     "execution_count": 29,
     "metadata": {},
     "output_type": "execute_result"
    }
   ],
   "source": [
    "t = time()\n",
    "dists = pairwise_distances(z_enc, \n",
    "                           z_enc[range(1000,1100)], \n",
    "                           n_jobs=1, \n",
    "                           metric='cosine')\n",
    "idxs = np.argsort(dists, axis=1)[:, :5]\n",
    "time() - t"
   ]
  },
  {
   "cell_type": "code",
   "execution_count": 37,
   "metadata": {
    "collapsed": true
   },
   "outputs": [],
   "source": [
    "from multiprocessing import Pool\n",
    "def _nn_helper(ipt):\n",
    "    arr1, arr2 = ipt[0], ipt[1]\n",
    "    return pairwise_distances(arr1, arr2, metric='cosine')\n",
    "\n",
    "def nn_mp(arr1, arr2, n_jobs=10):\n",
    "    ipts = [[arr1, split] for split in np.array_split(z_batch, n_jobs)]\n",
    "    p = Pool(n_jobs)\n",
    "    nn = p.map(_nn_helper, ipts)\n",
    "    return nn"
   ]
  },
  {
   "cell_type": "code",
   "execution_count": 38,
   "metadata": {
    "collapsed": false
   },
   "outputs": [
    {
     "ename": "NameError",
     "evalue": "global name 'pool' is not defined",
     "output_type": "error",
     "traceback": [
      "\u001b[1;31m---------------------------------------------------------------------------\u001b[0m",
      "\u001b[1;31mNameError\u001b[0m                                 Traceback (most recent call last)",
      "\u001b[1;32m<ipython-input-38-cbc763465031>\u001b[0m in \u001b[0;36m<module>\u001b[1;34m()\u001b[0m\n\u001b[0;32m      1\u001b[0m \u001b[0mt\u001b[0m \u001b[1;33m=\u001b[0m \u001b[0mtime\u001b[0m\u001b[1;33m(\u001b[0m\u001b[1;33m)\u001b[0m\u001b[1;33m\u001b[0m\u001b[0m\n\u001b[1;32m----> 2\u001b[1;33m \u001b[0mdists\u001b[0m \u001b[1;33m=\u001b[0m \u001b[0mnn_mp\u001b[0m\u001b[1;33m(\u001b[0m\u001b[0mz_enc\u001b[0m\u001b[1;33m,\u001b[0m \u001b[0mz_enc\u001b[0m\u001b[1;33m[\u001b[0m\u001b[0mrange\u001b[0m\u001b[1;33m(\u001b[0m\u001b[1;36m1000\u001b[0m\u001b[1;33m,\u001b[0m\u001b[1;36m1100\u001b[0m\u001b[1;33m)\u001b[0m\u001b[1;33m]\u001b[0m\u001b[1;33m)\u001b[0m\u001b[1;33m\u001b[0m\u001b[0m\n\u001b[0m\u001b[0;32m      3\u001b[0m \u001b[0midxs\u001b[0m \u001b[1;33m=\u001b[0m \u001b[0mnp\u001b[0m\u001b[1;33m.\u001b[0m\u001b[0margsort\u001b[0m\u001b[1;33m(\u001b[0m\u001b[0mdists\u001b[0m\u001b[1;33m,\u001b[0m \u001b[0maxis\u001b[0m\u001b[1;33m=\u001b[0m\u001b[1;36m1\u001b[0m\u001b[1;33m)\u001b[0m\u001b[1;33m[\u001b[0m\u001b[1;33m:\u001b[0m\u001b[1;33m,\u001b[0m \u001b[1;33m:\u001b[0m\u001b[1;36m5\u001b[0m\u001b[1;33m]\u001b[0m\u001b[1;33m\u001b[0m\u001b[0m\n\u001b[0;32m      4\u001b[0m \u001b[0mtime\u001b[0m\u001b[1;33m(\u001b[0m\u001b[1;33m)\u001b[0m \u001b[1;33m-\u001b[0m \u001b[0mt\u001b[0m\u001b[1;33m\u001b[0m\u001b[0m\n",
      "\u001b[1;32m<ipython-input-37-9c1f4fba978f>\u001b[0m in \u001b[0;36mnn_mp\u001b[1;34m(arr1, arr2, n_jobs)\u001b[0m\n\u001b[0;32m      7\u001b[0m     \u001b[0mipts\u001b[0m \u001b[1;33m=\u001b[0m \u001b[1;33m[\u001b[0m\u001b[1;33m[\u001b[0m\u001b[0marr1\u001b[0m\u001b[1;33m,\u001b[0m \u001b[0msplit\u001b[0m\u001b[1;33m]\u001b[0m \u001b[1;32mfor\u001b[0m \u001b[0msplit\u001b[0m \u001b[1;32min\u001b[0m \u001b[0mnp\u001b[0m\u001b[1;33m.\u001b[0m\u001b[0marray_split\u001b[0m\u001b[1;33m(\u001b[0m\u001b[0mz_batch\u001b[0m\u001b[1;33m,\u001b[0m \u001b[0mn_jobs\u001b[0m\u001b[1;33m)\u001b[0m\u001b[1;33m]\u001b[0m\u001b[1;33m\u001b[0m\u001b[0m\n\u001b[0;32m      8\u001b[0m     \u001b[0mp\u001b[0m \u001b[1;33m=\u001b[0m \u001b[0mPool\u001b[0m\u001b[1;33m(\u001b[0m\u001b[0mn_jobs\u001b[0m\u001b[1;33m)\u001b[0m\u001b[1;33m\u001b[0m\u001b[0m\n\u001b[1;32m----> 9\u001b[1;33m     \u001b[0mnn\u001b[0m \u001b[1;33m=\u001b[0m \u001b[0mpool\u001b[0m\u001b[1;33m.\u001b[0m\u001b[0mmap\u001b[0m\u001b[1;33m(\u001b[0m\u001b[0m_nn_helper\u001b[0m\u001b[1;33m,\u001b[0m \u001b[0mipts\u001b[0m\u001b[1;33m)\u001b[0m\u001b[1;33m\u001b[0m\u001b[0m\n\u001b[0m\u001b[0;32m     10\u001b[0m     \u001b[1;32mreturn\u001b[0m \u001b[0mnn\u001b[0m\u001b[1;33m\u001b[0m\u001b[0m\n",
      "\u001b[1;31mNameError\u001b[0m: global name 'pool' is not defined"
     ]
    }
   ],
   "source": [
    "t = time()\n",
    "dists = nn_mp(z_enc, z_enc[range(1000,1100)])\n",
    "idxs = np.argsort(dists, axis=1)[:, :5]\n",
    "time() - t"
   ]
  },
  {
   "cell_type": "code",
   "execution_count": null,
   "metadata": {
    "collapsed": true
   },
   "outputs": [],
   "source": []
  },
  {
   "cell_type": "code",
   "execution_count": null,
   "metadata": {
    "collapsed": true
   },
   "outputs": [],
   "source": []
  },
  {
   "cell_type": "code",
   "execution_count": null,
   "metadata": {
    "collapsed": true
   },
   "outputs": [],
   "source": []
  },
  {
   "cell_type": "code",
   "execution_count": null,
   "metadata": {
    "collapsed": true
   },
   "outputs": [],
   "source": []
  },
  {
   "cell_type": "code",
   "execution_count": 30,
   "metadata": {
    "collapsed": true
   },
   "outputs": [],
   "source": [
    "z_batch = z_enc[range(1000,1100)]"
   ]
  },
  {
   "cell_type": "code",
   "execution_count": 31,
   "metadata": {
    "collapsed": false
   },
   "outputs": [
    {
     "data": {
      "text/plain": [
       "(100, 256)"
      ]
     },
     "execution_count": 31,
     "metadata": {},
     "output_type": "execute_result"
    }
   ],
   "source": [
    "z_batch.shape"
   ]
  },
  {
   "cell_type": "code",
   "execution_count": 32,
   "metadata": {
    "collapsed": true
   },
   "outputs": [],
   "source": [
    "splits = np.array_split(z_batch, 7)"
   ]
  },
  {
   "cell_type": "markdown",
   "metadata": {},
   "source": [
    "### dcgan"
   ]
  },
  {
   "cell_type": "code",
   "execution_count": 6,
   "metadata": {
    "collapsed": true
   },
   "outputs": [],
   "source": [
    "sampler = ld_gan.sample.generate_rand_noise(X, Y, 1000, 256)"
   ]
  },
  {
   "cell_type": "code",
   "execution_count": 7,
   "metadata": {
    "collapsed": false
   },
   "outputs": [
    {
     "name": "stdout",
     "output_type": "stream",
     "text": [
      "loaded model 'projects/xf_11000_score.py/model/g_0650.pth'\n",
      "compute inception score...\n",
      "score_fake: 3.11624\n",
      "compute inception score...\n",
      ">= 50000 samples needed, but only 8189 provided\n",
      "score_real: 3.56856\n",
      "score     : 0.873249\n"
     ]
    }
   ],
   "source": [
    "_ = ld_gan.eval_gan.quick_score.i_score(project, epoch, X, sampler)"
   ]
  },
  {
   "cell_type": "markdown",
   "metadata": {},
   "source": [
    "# compute mode inception score"
   ]
  },
  {
   "cell_type": "markdown",
   "metadata": {},
   "source": [
    "### best"
   ]
  },
  {
   "cell_type": "code",
   "execution_count": 8,
   "metadata": {
    "collapsed": false
   },
   "outputs": [
    {
     "name": "stdout",
     "output_type": "stream",
     "text": [
      "loaded model 'projects/xf_11111_s10l.py/model/e_0650.pth'\n"
     ]
    }
   ],
   "source": [
    "project, epoch = \"xf_11111_s10l.py\", 650\n",
    "enc = ld_gan.utils.model_handler.load_model(project, epoch, \"enc\")\n",
    "z_enc = ld_gan.utils.model_handler.apply_model(enc, X, batch_size=1000)\n",
    "sampler = ld_gan.sample.nn_sampler(z_enc, X, Y, 1000, n_jobs = 10)"
   ]
  },
  {
   "cell_type": "code",
   "execution_count": 10,
   "metadata": {
    "collapsed": false
   },
   "outputs": [
    {
     "name": "stdout",
     "output_type": "stream",
     "text": [
      "loaded model 'projects/xf_11111_s10l.py/model/g_0650.pth'\n",
      "score_fake: 3.35762\n",
      "score_real: 3.56856\n",
      "score     : 0.940888\n"
     ]
    }
   ],
   "source": [
    "_ = ld_gan.eval_gan.quick_score.im_score(project, epoch, X, sampler)"
   ]
  },
  {
   "cell_type": "markdown",
   "metadata": {},
   "source": [
    "### dc gan"
   ]
  },
  {
   "cell_type": "code",
   "execution_count": 11,
   "metadata": {
    "collapsed": true
   },
   "outputs": [],
   "source": [
    "project, epoch = \"xf_11000_score.py\", 650\n",
    "sampler = ld_gan.sample.generate_rand_noise(X, Y, 1000, 256)"
   ]
  },
  {
   "cell_type": "code",
   "execution_count": 12,
   "metadata": {
    "collapsed": false
   },
   "outputs": [
    {
     "name": "stdout",
     "output_type": "stream",
     "text": [
      "loaded model 'projects/xf_11000_score.py/model/g_0650.pth'\n",
      "score_fake: 3.13267\n",
      "score_real: 3.56856\n",
      "score     : 0.877851\n"
     ]
    }
   ],
   "source": [
    "_ = ld_gan.eval_gan.quick_score.im_score(project, epoch, X, sampler)"
   ]
  },
  {
   "cell_type": "code",
   "execution_count": null,
   "metadata": {
    "collapsed": true
   },
   "outputs": [],
   "source": []
  },
  {
   "cell_type": "code",
   "execution_count": null,
   "metadata": {
    "collapsed": true
   },
   "outputs": [],
   "source": []
  },
  {
   "cell_type": "code",
   "execution_count": null,
   "metadata": {
    "collapsed": true
   },
   "outputs": [],
   "source": []
  },
  {
   "cell_type": "code",
   "execution_count": 1,
   "metadata": {
    "collapsed": true
   },
   "outputs": [],
   "source": [
    "import numpy as np"
   ]
  },
  {
   "cell_type": "code",
   "execution_count": null,
   "metadata": {
    "collapsed": true
   },
   "outputs": [],
   "source": [
    "np.random.shuffle()"
   ]
  },
  {
   "cell_type": "code",
   "execution_count": null,
   "metadata": {
    "collapsed": true
   },
   "outputs": [],
   "source": []
  },
  {
   "cell_type": "code",
   "execution_count": null,
   "metadata": {
    "collapsed": true
   },
   "outputs": [],
   "source": []
  },
  {
   "cell_type": "code",
   "execution_count": 1,
   "metadata": {
    "collapsed": true
   },
   "outputs": [],
   "source": [
    "%load_ext autoreload\n",
    "%autoreload 2\n",
    "\n",
    "import os\n",
    "os.chdir(\"../\")\n",
    "\n",
    "%matplotlib notebook\n",
    "import matplotlib.pylab as plt\n",
    "# pylab.rcParams['figure.figsize'] = (10, 5)"
   ]
  },
  {
   "cell_type": "code",
   "execution_count": 2,
   "metadata": {
    "collapsed": true
   },
   "outputs": [],
   "source": [
    "import ld_gan\n",
    "import numpy as np\n",
    "from ld_gan import visualize"
   ]
  },
  {
   "cell_type": "code",
   "execution_count": 3,
   "metadata": {
    "collapsed": false,
    "scrolled": true
   },
   "outputs": [
    {
     "name": "stderr",
     "output_type": "stream",
     "text": [
      "100%|██████████| 102/102 [00:14<00:00,  7.98it/s]"
     ]
    },
    {
     "name": "stdout",
     "output_type": "stream",
     "text": [
      "load data from '/export/home/oblum/projects/ls_gan/data/flowers_102/jpg_128'\n"
     ]
    },
    {
     "name": "stderr",
     "output_type": "stream",
     "text": [
      "\n"
     ]
    }
   ],
   "source": [
    "X, Y = ld_gan.data_proc.data_loader.load_data(1, verbose=1, resize = 64)"
   ]
  },
  {
   "cell_type": "code",
   "execution_count": 4,
   "metadata": {
    "collapsed": false
   },
   "outputs": [
    {
     "name": "stderr",
     "output_type": "stream",
     "text": [
      "/net/hciserver03/storage/oblum/venvs/compvisgpu02/lib/python2.7/site-packages/torch/serialization.py:286: SourceChangeWarning: source code of class 'ld_gan.models.enc.Enc' has changed. you can retrieve the original source code by accessing the object's source attribute or set `torch.nn.Module.dump_patches = True` and use the patch tool to revert the changes.\n",
      "  warnings.warn(msg, SourceChangeWarning)\n",
      "/net/hciserver03/storage/oblum/venvs/compvisgpu02/lib/python2.7/site-packages/torch/serialization.py:286: SourceChangeWarning: source code of class 'ld_gan.models.gen.Gen' has changed. you can retrieve the original source code by accessing the object's source attribute or set `torch.nn.Module.dump_patches = True` and use the patch tool to revert the changes.\n",
      "  warnings.warn(msg, SourceChangeWarning)\n"
     ]
    },
    {
     "name": "stdout",
     "output_type": "stream",
     "text": [
      "loaded model 'projects/xf_11111_s10l.py/model/e_0650.pth'\n",
      "loaded model 'projects/xf_11111_s10l.py/model/g_0650.pth'\n",
      "loaded model 'projects/xf_11111_s10l.py/model/d_0650.pth'\n"
     ]
    },
    {
     "name": "stderr",
     "output_type": "stream",
     "text": [
      "/net/hciserver03/storage/oblum/venvs/compvisgpu02/lib/python2.7/site-packages/torch/serialization.py:286: SourceChangeWarning: source code of class 'ld_gan.models.dis.Dis' has changed. you can retrieve the original source code by accessing the object's source attribute or set `torch.nn.Module.dump_patches = True` and use the patch tool to revert the changes.\n",
      "  warnings.warn(msg, SourceChangeWarning)\n"
     ]
    }
   ],
   "source": [
    "enc = ld_gan.utils.model_handler.load_model(\"xf_11111_s10l.py\", 650, \"enc\")\n",
    "gen = ld_gan.utils.model_handler.load_model(\"xf_11111_s10l.py\", 650, \"gen\")\n",
    "dis = ld_gan.utils.model_handler.load_model(\"xf_11111_s10l.py\", 650, \"dis\")"
   ]
  },
  {
   "cell_type": "markdown",
   "metadata": {},
   "source": [
    "# get triplet functions"
   ]
  },
  {
   "cell_type": "code",
   "execution_count": 5,
   "metadata": {
    "collapsed": true
   },
   "outputs": [],
   "source": [
    "from ld_gan.utils.model_handler import apply_model\n",
    "from ld_gan.utils.model_handler import apply_models\n",
    "from tqdm import tqdm\n",
    "from time import time"
   ]
  },
  {
   "cell_type": "code",
   "execution_count": 7,
   "metadata": {
    "collapsed": true
   },
   "outputs": [],
   "source": [
    "def get_dis_scores(z_anchor, zs, gen, dis, mode = 'min', loss=None):\n",
    "    \"\"\"\n",
    "    get the discriminator-score for for zs in relation to \n",
    "    the anchor\n",
    "    \"\"\"\n",
    "    \n",
    "    # delete sample if sample==anchor\n",
    "    zs = zs[np.all(z_anchor != zs, axis=1)]\n",
    "    \n",
    "    # get interpolations\n",
    "    z_anchor = np.tile(z_anchor, (len(zs), 1))\n",
    "    factors = np.linspace(0, 1, 10)\n",
    "    zs = [z_anchor*f + zs*(1-f) for f in factors]\n",
    "    \n",
    "    # get dis scores for all interpolations / all zs\n",
    "    z_all_ops = np.concatenate(zs)\n",
    "    d = apply_models(z_all_ops, 10000, gen, dis)\n",
    "    dis_scores = d.reshape(len(factors), -1)\n",
    "    \n",
    "    #dis_scores = []\n",
    "    #for z in zs:\n",
    "    #    d = apply_models(z, None, gen, dis)\n",
    "    #    dis_scores.append(d)\n",
    "    \n",
    "    # compute dis-score\n",
    "    if mode is 'min':\n",
    "        d = np.min(np.array(dis_scores), axis=0)\n",
    "    if mode is 'mean':\n",
    "        d = np.mean(np.array(dis_scores), axis=0)\n",
    "    \n",
    "    if loss == 'bce':\n",
    "        d = np.log(d)\n",
    "    \n",
    "    return d"
   ]
  },
  {
   "cell_type": "code",
   "execution_count": 8,
   "metadata": {
    "collapsed": false
   },
   "outputs": [
    {
     "name": "stdout",
     "output_type": "stream",
     "text": [
      "t: 0.569533109665\n"
     ]
    }
   ],
   "source": [
    "z_enc = apply_model(enc, X)\n",
    "idxs = range(len(z_enc))\n",
    "\n",
    "t = time()\n",
    "\n",
    "N_Z_POTENTIAL = 256\n",
    "\n",
    "zs = z_enc[np.random.choice(idxs, size=N_Z_POTENTIAL, replace=False)]\n",
    "z_anchor = z_enc[np.random.randint(0, len(z_enc))]\n",
    "\n",
    "d = get_dis_scores(z_anchor, zs, gen, dis)\n",
    "\n",
    "print \"t:\", time() - t"
   ]
  },
  {
   "cell_type": "code",
   "execution_count": 9,
   "metadata": {
    "collapsed": true
   },
   "outputs": [],
   "source": [
    "def rand_img_sampler(ipt, bs):\n",
    "    while True:\n",
    "        idxs = np.random.choice(range(len(ipt)), size=bs, replace=False)\n",
    "        yield ipt[idxs]"
   ]
  },
  {
   "cell_type": "code",
   "execution_count": 10,
   "metadata": {
    "collapsed": true
   },
   "outputs": [],
   "source": [
    "def create_triplets(z_anchors, \n",
    "                    z_all, \n",
    "                    gen, dis, \n",
    "                    mode='min', \n",
    "                    choise_size=256):\n",
    "    \n",
    "    sampler = rand_img_sampler(z_all, choise_size)\n",
    "    \n",
    "    triplets = []\n",
    "    for z_anchor in tqdm(z_anchors):\n",
    "        zs = sampler.next()\n",
    "        d = get_dis_scores(z_anchor, zs, gen, dis, mode=mode)\n",
    "        sample_pos = d[np.argmax(d)]\n",
    "        sample_neg = d[np.argmin(d)]\n",
    "        triplets.append([z_anchor, sample_pos, sample_neg])\n",
    "    triplets = np.array(triplets)\n",
    "    \n",
    "    return triplets"
   ]
  },
  {
   "cell_type": "code",
   "execution_count": 15,
   "metadata": {
    "collapsed": true
   },
   "outputs": [],
   "source": [
    "def get_dis_tasks(z_anchor, zs):\n",
    "    \"\"\"\n",
    "    get the discriminator-score for for zs in relation to \n",
    "    the anchor\n",
    "    \"\"\"\n",
    "    \n",
    "    # delete sample if sample==anchor\n",
    "    zs = zs[np.all(z_anchor != zs, axis=1)]\n",
    "    \n",
    "    # get interpolations\n",
    "    z_anchor = np.tile(z_anchor, (len(zs), 1))\n",
    "    factors = np.linspace(0, 1, 10)\n",
    "    zs = [z_anchor*f + zs*(1-f) for f in factors]\n",
    "    \n",
    "    # get dis scores for all interpolations / all zs\n",
    "    z_all_ops = np.concatenate(zs)\n",
    "    \n",
    "    return z_all_ops"
   ]
  },
  {
   "cell_type": "code",
   "execution_count": 18,
   "metadata": {
    "collapsed": true
   },
   "outputs": [],
   "source": [
    "def create_triplets_2(z_anchors, \n",
    "                    z_all, \n",
    "                    gen, dis, \n",
    "                    mode='min', \n",
    "                    choise_size=256):\n",
    "    \n",
    "    sampler = rand_img_sampler(z_all, choise_size)\n",
    "    \n",
    "    triplets = []\n",
    "    \n",
    "    ops = [get_dis_tasks(z_anchor, z_all) for z_anchor in tqdm(z_anchors)]\n",
    "    \n",
    "    return ops"
   ]
  },
  {
   "cell_type": "code",
   "execution_count": 19,
   "metadata": {
    "collapsed": false
   },
   "outputs": [
    {
     "name": "stderr",
     "output_type": "stream",
     "text": [
      "100%|██████████| 256/256 [00:26<00:00,  8.72it/s]\n"
     ]
    }
   ],
   "source": [
    "ops = create_triplets_2(z_anchors, z_enc, gen, dis, choise_size=56)"
   ]
  },
  {
   "cell_type": "markdown",
   "metadata": {},
   "source": [
    "# new"
   ]
  },
  {
   "cell_type": "code",
   "execution_count": 1,
   "metadata": {
    "collapsed": false
   },
   "outputs": [],
   "source": [
    "%load_ext autoreload\n",
    "%autoreload 2\n",
    "\n",
    "import os\n",
    "os.chdir(\"../\")\n",
    "\n",
    "%matplotlib notebook\n",
    "import matplotlib.pylab as plt\n",
    "# pylab.rcParams['figure.figsize'] = (10, 5)"
   ]
  },
  {
   "cell_type": "code",
   "execution_count": 2,
   "metadata": {
    "collapsed": true
   },
   "outputs": [],
   "source": [
    "import ld_gan\n",
    "import numpy as np\n",
    "from ld_gan import visualize"
   ]
  },
  {
   "cell_type": "code",
   "execution_count": 3,
   "metadata": {
    "collapsed": false
   },
   "outputs": [
    {
     "name": "stderr",
     "output_type": "stream",
     "text": [
      "100%|██████████| 102/102 [00:13<00:00,  9.49it/s]"
     ]
    },
    {
     "name": "stdout",
     "output_type": "stream",
     "text": [
      "load data from '/export/home/oblum/projects/ls_gan/data/flowers_102/jpg_128'\n"
     ]
    },
    {
     "name": "stderr",
     "output_type": "stream",
     "text": [
      "\n"
     ]
    }
   ],
   "source": [
    "X, Y = ld_gan.data_proc.data_loader.load_data(1, verbose=1, resize = 64)"
   ]
  },
  {
   "cell_type": "code",
   "execution_count": 4,
   "metadata": {
    "collapsed": true
   },
   "outputs": [
    {
     "name": "stderr",
     "output_type": "stream",
     "text": [
      "/net/hciserver03/storage/oblum/venvs/compvisgpu02/lib/python2.7/site-packages/torch/serialization.py:286: SourceChangeWarning: source code of class 'ld_gan.models.enc.Enc' has changed. you can retrieve the original source code by accessing the object's source attribute or set `torch.nn.Module.dump_patches = True` and use the patch tool to revert the changes.\n",
      "  warnings.warn(msg, SourceChangeWarning)\n",
      "/net/hciserver03/storage/oblum/venvs/compvisgpu02/lib/python2.7/site-packages/torch/serialization.py:286: SourceChangeWarning: source code of class 'ld_gan.models.gen.Gen' has changed. you can retrieve the original source code by accessing the object's source attribute or set `torch.nn.Module.dump_patches = True` and use the patch tool to revert the changes.\n",
      "  warnings.warn(msg, SourceChangeWarning)\n"
     ]
    },
    {
     "name": "stdout",
     "output_type": "stream",
     "text": [
      "loaded model 'projects/xf_11111_s10l.py/model/e_0650.pth'\n",
      "loaded model 'projects/xf_11111_s10l.py/model/g_0650.pth'\n",
      "loaded model 'projects/xf_11111_s10l.py/model/d_0650.pth'\n"
     ]
    },
    {
     "name": "stderr",
     "output_type": "stream",
     "text": [
      "/net/hciserver03/storage/oblum/venvs/compvisgpu02/lib/python2.7/site-packages/torch/serialization.py:286: SourceChangeWarning: source code of class 'ld_gan.models.dis.Dis' has changed. you can retrieve the original source code by accessing the object's source attribute or set `torch.nn.Module.dump_patches = True` and use the patch tool to revert the changes.\n",
      "  warnings.warn(msg, SourceChangeWarning)\n"
     ]
    }
   ],
   "source": [
    "enc = ld_gan.utils.model_handler.load_model(\"xf_11111_s10l.py\", 650, \"enc\")\n",
    "gen = ld_gan.utils.model_handler.load_model(\"xf_11111_s10l.py\", 650, \"gen\")\n",
    "dis = ld_gan.utils.model_handler.load_model(\"xf_11111_s10l.py\", 650, \"dis\")"
   ]
  },
  {
   "cell_type": "code",
   "execution_count": 5,
   "metadata": {
    "collapsed": true
   },
   "outputs": [],
   "source": [
    "from ld_gan.utils.model_handler import apply_model\n",
    "from ld_gan.utils.model_handler import apply_models\n",
    "from tqdm import tqdm\n",
    "from time import time"
   ]
  },
  {
   "cell_type": "code",
   "execution_count": 6,
   "metadata": {
    "collapsed": true
   },
   "outputs": [],
   "source": [
    "N_Z_ANCHORS = 100\n",
    "N_ENC_SPACE_DIMS = 256\n",
    "N_Z_POTENTIALS_PER_A = 200\n",
    "N_INTERPOL = 8"
   ]
  },
  {
   "cell_type": "code",
   "execution_count": 29,
   "metadata": {
    "collapsed": false
   },
   "outputs": [],
   "source": [
    "def generate_triplets(gen, \n",
    "                      dis, \n",
    "                      anchors, \n",
    "                      z_all, \n",
    "                      n_interpol, \n",
    "                      n_candidates,\n",
    "                      mode = 'min'):\n",
    "    \n",
    "    #######################################\n",
    "    # 1. prepare z vectors\n",
    "    #######################################\n",
    "    \n",
    "    n_ancs     = anchors.shape[0]\n",
    "    n_features = anchors.shape[1]\n",
    "    zs_shape   = (n_interpol, n_ancs, n_candidates, n_features)\n",
    "    ds_shape   = (n_interpol, n_ancs, n_candidates)\n",
    "    \n",
    "    n_can_total = n_ancs * n_candidates\n",
    "    z_all = np.tile(z_all, (n_can_total / len(z_all) + 1, 1))[:n_can_total]\n",
    "    candidates = np.split(z_all, n_ancs)\n",
    "    \n",
    "    zs = np.zeros(zs_shape)\n",
    "    for i1 in range(n_interpol):\n",
    "        for i2 in range(n_ancs):\n",
    "            z_anc = anchors[i2]\n",
    "            z_can = candidates[i2]\n",
    "            z_anc = np.tile(z_anc, (n_candidates, 1))\n",
    "            f1 = i1/float(N_INTERPOL-1)\n",
    "            f2 = 1 - i1/float(N_INTERPOL-1)\n",
    "            zs[i1, i2] = f1*z_anc + f2*z_anc\n",
    "            \n",
    "    zs = zs.reshape(-1, n_features)\n",
    "            \n",
    "        \n",
    "    #######################################\n",
    "    # 2. get d-score for z vectors\n",
    "    #######################################\n",
    "    \n",
    "    ds = apply_models(zs, 3000, gen, dis)\n",
    "    ds = ds.reshape(ds_shape)\n",
    "\n",
    "    \n",
    "    #######################################\n",
    "    # 3. pos / neg sample for each anchor\n",
    "    #######################################\n",
    "    \n",
    "    if mode == 'min':\n",
    "        ds = np.min(ds, axis=0)\n",
    "    elif mode == 'mean':\n",
    "        ds = np.mean(ds, axis=0)\n",
    "    \n",
    "    idxs_pos = np.argmax(ds, axis=1)\n",
    "    idxs_neg = np.argmin(ds, axis=1)\n",
    "    \n",
    "    zs_pos = [c[i] for c, i in zip(candidates, idxs_pos)]\n",
    "    zs_neg = [c[i] for c, i in zip(candidates, idxs_neg)]\n",
    "    \n",
    "        \n",
    "    return anchors, zs_pos, zs_neg"
   ]
  },
  {
   "cell_type": "code",
   "execution_count": 30,
   "metadata": {
    "collapsed": false
   },
   "outputs": [],
   "source": [
    "z_enc = apply_model(enc, X)\n",
    "idxs = range(len(z_enc))\n",
    "z_anchors = z_enc[np.random.choice(idxs, size=N_Z_ANCHORS, replace=False)]"
   ]
  },
  {
   "cell_type": "code",
   "execution_count": 33,
   "metadata": {
    "collapsed": false
   },
   "outputs": [],
   "source": [
    "n_can_total = len(z_anchors) * 200\n",
    "z_enc = np.tile(z_enc, (n_can_total / len(z_enc) + 1, 1))[:n_can_total]"
   ]
  },
  {
   "cell_type": "code",
   "execution_count": 31,
   "metadata": {
    "collapsed": false
   },
   "outputs": [
    {
     "name": "stdout",
     "output_type": "stream",
     "text": [
      "36.6875340939\n"
     ]
    }
   ],
   "source": [
    "t = time()\n",
    "\n",
    "anchors, zs_pos, zs_neg = generate_triplets(gen, \n",
    "                                            dis, \n",
    "                                            z_anchors, \n",
    "                                            z_enc, \n",
    "                                            n_interpol = 8, \n",
    "                                            n_candidates = 200)\n",
    "\n",
    "print time()-t"
   ]
  },
  {
   "cell_type": "code",
   "execution_count": 76,
   "metadata": {
    "collapsed": false
   },
   "outputs": [],
   "source": [
    "ds = np.min(ds, axis=0)"
   ]
  },
  {
   "cell_type": "code",
   "execution_count": 77,
   "metadata": {
    "collapsed": false
   },
   "outputs": [
    {
     "data": {
      "text/plain": [
       "(100, 200)"
      ]
     },
     "execution_count": 77,
     "metadata": {},
     "output_type": "execute_result"
    }
   ],
   "source": [
    "ds.shape"
   ]
  },
  {
   "cell_type": "code",
   "execution_count": 78,
   "metadata": {
    "collapsed": true
   },
   "outputs": [],
   "source": [
    "idxs_pos = np.argmax(ds, axis=1)\n",
    "idxs_neg = np.argmin(ds, axis=1)"
   ]
  },
  {
   "cell_type": "code",
   "execution_count": 79,
   "metadata": {
    "collapsed": false
   },
   "outputs": [
    {
     "data": {
      "text/plain": [
       "(100,)"
      ]
     },
     "execution_count": 79,
     "metadata": {},
     "output_type": "execute_result"
    }
   ],
   "source": [
    "idxs_pos.shape"
   ]
  },
  {
   "cell_type": "code",
   "execution_count": null,
   "metadata": {
    "collapsed": true
   },
   "outputs": [],
   "source": []
  },
  {
   "cell_type": "code",
   "execution_count": null,
   "metadata": {
    "collapsed": true
   },
   "outputs": [],
   "source": []
  },
  {
   "cell_type": "code",
   "execution_count": 63,
   "metadata": {
    "collapsed": true
   },
   "outputs": [],
   "source": [
    "z_candidates = np.array(np.split(z_enc, 100))"
   ]
  },
  {
   "cell_type": "code",
   "execution_count": 64,
   "metadata": {
    "collapsed": false
   },
   "outputs": [
    {
     "data": {
      "text/plain": [
       "(100, 200, 256)"
      ]
     },
     "execution_count": 64,
     "metadata": {},
     "output_type": "execute_result"
    }
   ],
   "source": [
    "z_candidates.shape"
   ]
  },
  {
   "cell_type": "code",
   "execution_count": null,
   "metadata": {
    "collapsed": true
   },
   "outputs": [],
   "source": []
  },
  {
   "cell_type": "code",
   "execution_count": null,
   "metadata": {
    "collapsed": true
   },
   "outputs": [],
   "source": []
  },
  {
   "cell_type": "code",
   "execution_count": 61,
   "metadata": {
    "collapsed": false
   },
   "outputs": [
    {
     "data": {
      "text/plain": [
       "(8, 100, 200, 256)"
      ]
     },
     "execution_count": 61,
     "metadata": {},
     "output_type": "execute_result"
    }
   ],
   "source": [
    "zs.shape"
   ]
  },
  {
   "cell_type": "code",
   "execution_count": null,
   "metadata": {
    "collapsed": true
   },
   "outputs": [],
   "source": []
  },
  {
   "cell_type": "code",
   "execution_count": null,
   "metadata": {
    "collapsed": true
   },
   "outputs": [],
   "source": []
  },
  {
   "cell_type": "code",
   "execution_count": null,
   "metadata": {
    "collapsed": true
   },
   "outputs": [],
   "source": []
  },
  {
   "cell_type": "code",
   "execution_count": 16,
   "metadata": {
    "collapsed": false
   },
   "outputs": [
    {
     "data": {
      "text/plain": [
       "(8, 100, 200, 256)"
      ]
     },
     "execution_count": 16,
     "metadata": {},
     "output_type": "execute_result"
    }
   ],
   "source": [
    "zs.shape"
   ]
  },
  {
   "cell_type": "code",
   "execution_count": 10,
   "metadata": {
    "collapsed": false
   },
   "outputs": [
    {
     "data": {
      "text/plain": [
       "38.068382024765015"
      ]
     },
     "execution_count": 10,
     "metadata": {},
     "output_type": "execute_result"
    }
   ],
   "source": [
    "t = time()\n",
    "\n",
    "d = apply_models(zs, 5000, gen, dis)\n",
    "\n",
    "time()-t"
   ]
  },
  {
   "cell_type": "code",
   "execution_count": 11,
   "metadata": {
    "collapsed": false
   },
   "outputs": [
    {
     "data": {
      "text/plain": [
       "(160000,)"
      ]
     },
     "execution_count": 11,
     "metadata": {},
     "output_type": "execute_result"
    }
   ],
   "source": [
    "d.shape"
   ]
  },
  {
   "cell_type": "code",
   "execution_count": 12,
   "metadata": {
    "collapsed": true
   },
   "outputs": [],
   "source": [
    "d = d.reshape(N_INTERPOL, N_Z_ANCHORS, N_Z_POTENTIALS_PER_A)"
   ]
  },
  {
   "cell_type": "code",
   "execution_count": 13,
   "metadata": {
    "collapsed": false
   },
   "outputs": [
    {
     "data": {
      "text/plain": [
       "(8, 100, 200, 1)"
      ]
     },
     "execution_count": 13,
     "metadata": {},
     "output_type": "execute_result"
    }
   ],
   "source": [
    "d.shape"
   ]
  },
  {
   "cell_type": "code",
   "execution_count": null,
   "metadata": {
    "collapsed": true
   },
   "outputs": [],
   "source": []
  },
  {
   "cell_type": "code",
   "execution_count": null,
   "metadata": {
    "collapsed": true
   },
   "outputs": [],
   "source": []
  },
  {
   "cell_type": "code",
   "execution_count": null,
   "metadata": {
    "collapsed": true
   },
   "outputs": [],
   "source": []
  },
  {
   "cell_type": "code",
   "execution_count": null,
   "metadata": {
    "collapsed": true
   },
   "outputs": [],
   "source": []
  },
  {
   "cell_type": "code",
   "execution_count": 164,
   "metadata": {
    "collapsed": false
   },
   "outputs": [
    {
     "data": {
      "text/plain": [
       "0.20995306968688965"
      ]
     },
     "execution_count": 164,
     "metadata": {},
     "output_type": "execute_result"
    }
   ],
   "source": [
    "t = time()\n",
    "\n",
    "n_potentials = N_Z_POTENTIALS_PER_A * N_Z_ANCHORS\n",
    "z_pot = np.tile(z_enc, (n_potentials / len(z_enc) + 1, 1))[:n_potentials]\n",
    "z_anc = np.repeat(z_anchors, N_Z_POTENTIALS_PER_A, axis=0)\n",
    "factors = np.linspace(0, 1, N_INTERPOL)\n",
    "zs_new = np.concatenate([z_anc*f + z_pot*(1-f) for f in factors])\n",
    "\n",
    "time()-t"
   ]
  },
  {
   "cell_type": "code",
   "execution_count": 160,
   "metadata": {
    "collapsed": false
   },
   "outputs": [
    {
     "data": {
      "text/plain": [
       "True"
      ]
     },
     "execution_count": 160,
     "metadata": {},
     "output_type": "execute_result"
    }
   ],
   "source": [
    "np.all(zs_new == zs)"
   ]
  },
  {
   "cell_type": "code",
   "execution_count": 148,
   "metadata": {
    "collapsed": false
   },
   "outputs": [
    {
     "data": {
      "text/plain": [
       "(200000, 256)"
      ]
     },
     "execution_count": 148,
     "metadata": {},
     "output_type": "execute_result"
    }
   ],
   "source": [
    "zs_new.shape"
   ]
  },
  {
   "cell_type": "code",
   "execution_count": 149,
   "metadata": {
    "collapsed": false
   },
   "outputs": [
    {
     "data": {
      "text/plain": [
       "(20000000, 256)"
      ]
     },
     "execution_count": 149,
     "metadata": {},
     "output_type": "execute_result"
    }
   ],
   "source": [
    "zs.shape"
   ]
  },
  {
   "cell_type": "code",
   "execution_count": 152,
   "metadata": {
    "collapsed": false
   },
   "outputs": [
    {
     "data": {
      "text/plain": [
       "0"
      ]
     },
     "execution_count": 152,
     "metadata": {},
     "output_type": "execute_result"
    }
   ],
   "source": [
    "100*200*10 - 200000"
   ]
  },
  {
   "cell_type": "code",
   "execution_count": null,
   "metadata": {
    "collapsed": true
   },
   "outputs": [],
   "source": []
  },
  {
   "cell_type": "code",
   "execution_count": 121,
   "metadata": {
    "collapsed": false
   },
   "outputs": [],
   "source": [
    "z_pot = np.tile(z_enc, (n_potentials / len(z_enc) + 1, 1))[:n_potentials]"
   ]
  },
  {
   "cell_type": "code",
   "execution_count": 122,
   "metadata": {
    "collapsed": false
   },
   "outputs": [],
   "source": [
    "z_anc = np.repeat(z_anchors, N_Z_POTENTIALS_PER_A, axis=0)"
   ]
  },
  {
   "cell_type": "code",
   "execution_count": 125,
   "metadata": {
    "collapsed": true
   },
   "outputs": [],
   "source": [
    "factors = np.linspace(0, 1, N_INTERPOL)\n",
    "zs = np.concatenate([z_anc*f + z_pot*(1-f) for f in factors])"
   ]
  },
  {
   "cell_type": "code",
   "execution_count": 126,
   "metadata": {
    "collapsed": false
   },
   "outputs": [
    {
     "data": {
      "text/plain": [
       "(200000, 256)"
      ]
     },
     "execution_count": 126,
     "metadata": {},
     "output_type": "execute_result"
    }
   ],
   "source": [
    "zs.shape"
   ]
  },
  {
   "cell_type": "code",
   "execution_count": 118,
   "metadata": {
    "collapsed": false
   },
   "outputs": [
    {
     "data": {
      "text/plain": [
       "(20000, 256)"
      ]
     },
     "execution_count": 118,
     "metadata": {},
     "output_type": "execute_result"
    }
   ],
   "source": [
    "z_enc.shape"
   ]
  },
  {
   "cell_type": "code",
   "execution_count": 120,
   "metadata": {
    "collapsed": false
   },
   "outputs": [
    {
     "data": {
      "text/plain": [
       "(20000, 256)"
      ]
     },
     "execution_count": 120,
     "metadata": {},
     "output_type": "execute_result"
    }
   ],
   "source": [
    "z_anc.shape"
   ]
  },
  {
   "cell_type": "code",
   "execution_count": null,
   "metadata": {
    "collapsed": true
   },
   "outputs": [],
   "source": []
  },
  {
   "cell_type": "code",
   "execution_count": null,
   "metadata": {
    "collapsed": true
   },
   "outputs": [],
   "source": []
  },
  {
   "cell_type": "code",
   "execution_count": 96,
   "metadata": {
    "collapsed": true
   },
   "outputs": [],
   "source": [
    "np.repeat?"
   ]
  },
  {
   "cell_type": "code",
   "execution_count": null,
   "metadata": {
    "collapsed": true
   },
   "outputs": [],
   "source": []
  },
  {
   "cell_type": "code",
   "execution_count": 58,
   "metadata": {
    "collapsed": false
   },
   "outputs": [
    {
     "data": {
      "text/plain": [
       "2"
      ]
     },
     "execution_count": 58,
     "metadata": {},
     "output_type": "execute_result"
    }
   ],
   "source": [
    "n_potentials / len(z_enc) + 1"
   ]
  },
  {
   "cell_type": "code",
   "execution_count": 82,
   "metadata": {
    "collapsed": false
   },
   "outputs": [
    {
     "data": {
      "text/plain": [
       "array([0, 0, 1, 1, 2, 2, 3, 3, 4, 4])"
      ]
     },
     "execution_count": 82,
     "metadata": {},
     "output_type": "execute_result"
    }
   ],
   "source": [
    "np.repeat(np.arange(5), 2)"
   ]
  },
  {
   "cell_type": "markdown",
   "metadata": {},
   "source": [
    "# apply tripplet finder"
   ]
  },
  {
   "cell_type": "code",
   "execution_count": 11,
   "metadata": {
    "collapsed": true
   },
   "outputs": [],
   "source": [
    "from time import time"
   ]
  },
  {
   "cell_type": "code",
   "execution_count": 12,
   "metadata": {
    "collapsed": false
   },
   "outputs": [
    {
     "name": "stderr",
     "output_type": "stream",
     "text": [
      "100%|██████████| 256/256 [00:32<00:00,  7.88it/s]"
     ]
    },
    {
     "name": "stdout",
     "output_type": "stream",
     "text": [
      "t1: 0.971078872681\n",
      "t2: 33.0922927856\n"
     ]
    },
    {
     "name": "stderr",
     "output_type": "stream",
     "text": [
      "\n"
     ]
    }
   ],
   "source": [
    "N_Z_ANCHORS = 256\n",
    "idxs = range(len(z_enc))\n",
    "t = time()\n",
    "\n",
    "\n",
    "z_enc = apply_model(enc, X)\n",
    "print \"t1:\", time()-t\n",
    "z_anchors = z_enc[np.random.choice(idxs, size=N_Z_ANCHORS, replace=False)]\n",
    "triplets = create_triplets(z_anchors, z_enc, gen, dis, choise_size=56)\n",
    "print \"t2:\", time()-t"
   ]
  },
  {
   "cell_type": "code",
   "execution_count": 14,
   "metadata": {
    "collapsed": false
   },
   "outputs": [],
   "source": [
    "triplets_c = triplets.copy()"
   ]
  },
  {
   "cell_type": "code",
   "execution_count": null,
   "metadata": {
    "collapsed": true
   },
   "outputs": [],
   "source": []
  }
 ],
 "metadata": {
  "kernelspec": {
   "display_name": "Python 2",
   "language": "python",
   "name": "python2"
  },
  "language_info": {
   "codemirror_mode": {
    "name": "ipython",
    "version": 2
   },
   "file_extension": ".py",
   "mimetype": "text/x-python",
   "name": "python",
   "nbconvert_exporter": "python",
   "pygments_lexer": "ipython2",
   "version": "2.7.6"
  }
 },
 "nbformat": 4,
 "nbformat_minor": 0
}
