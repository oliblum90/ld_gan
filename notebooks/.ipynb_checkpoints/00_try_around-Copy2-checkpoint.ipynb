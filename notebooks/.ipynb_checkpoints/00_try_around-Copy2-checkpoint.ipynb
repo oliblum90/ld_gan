{
 "cells": [
  {
   "cell_type": "code",
   "execution_count": 1,
   "metadata": {
    "collapsed": false
   },
   "outputs": [
    {
     "name": "stdout",
     "output_type": "stream",
     "text": [
      "Populating the interactive namespace from numpy and matplotlib\n"
     ]
    }
   ],
   "source": [
    "%load_ext autoreload\n",
    "%autoreload 2\n",
    "\n",
    "import os\n",
    "os.chdir(\"../\")\n",
    "\n",
    "%pylab inline\n",
    "pylab.rcParams['figure.figsize'] = (10, 5)"
   ]
  },
  {
   "cell_type": "code",
   "execution_count": 2,
   "metadata": {
    "collapsed": false
   },
   "outputs": [],
   "source": [
    "import torch"
   ]
  },
  {
   "cell_type": "code",
   "execution_count": 13,
   "metadata": {
    "collapsed": true
   },
   "outputs": [],
   "source": [
    "import argparse\n",
    "import os\n",
    "import random\n",
    "import torch\n",
    "import torch.nn as nn\n",
    "import torch.nn.parallel\n",
    "import torch.backends.cudnn as cudnn\n",
    "import torch.optim as optim\n",
    "import torch.utils.data\n",
    "import torchvision.datasets as dset\n",
    "import torchvision.transforms as transforms\n",
    "import torchvision.utils as vutils\n",
    "from torch.autograd import Variable"
   ]
  },
  {
   "cell_type": "code",
   "execution_count": 4,
   "metadata": {
    "collapsed": false
   },
   "outputs": [],
   "source": [
    "import ld_gan"
   ]
  },
  {
   "cell_type": "markdown",
   "metadata": {},
   "source": [
    "# set parameters"
   ]
  },
  {
   "cell_type": "code",
   "execution_count": 5,
   "metadata": {
    "collapsed": true
   },
   "outputs": [],
   "source": [
    "BATCH_SIZE  = 128\n",
    "LATENT_SIZE = 100\n",
    "LEARNING_RATE = 0.0002\n",
    "RAND_SEED = 42"
   ]
  },
  {
   "cell_type": "markdown",
   "metadata": {
    "collapsed": true
   },
   "source": [
    "# load data"
   ]
  },
  {
   "cell_type": "code",
   "execution_count": 18,
   "metadata": {
    "collapsed": true
   },
   "outputs": [
    {
     "name": "stderr",
     "output_type": "stream",
     "text": [
      "\n",
      "  0%|          | 0/102 [00:00<?, ?it/s]\u001b[A\n",
      "  1%|          | 1/102 [00:00<00:36,  2.75it/s]\u001b[A\n",
      "  2%|▏         | 2/102 [00:00<00:33,  3.02it/s]\u001b[A\n",
      "  3%|▎         | 3/102 [00:00<00:28,  3.45it/s]\u001b[A\n",
      "  4%|▍         | 4/102 [00:01<00:27,  3.63it/s]\u001b[A\n",
      "  5%|▍         | 5/102 [00:01<00:24,  3.89it/s]\u001b[A\n",
      "  6%|▌         | 6/102 [00:01<00:25,  3.80it/s]\u001b[A\n",
      "  7%|▋         | 7/102 [00:01<00:24,  3.92it/s]\u001b[A\n",
      "  8%|▊         | 8/102 [00:02<00:25,  3.68it/s]\u001b[A\n",
      "  9%|▉         | 9/102 [00:02<00:20,  4.50it/s]\u001b[A\n",
      " 10%|▉         | 10/102 [00:02<00:18,  5.04it/s]\u001b[A\n",
      " 11%|█         | 11/102 [00:02<00:16,  5.41it/s]\u001b[A\n",
      " 12%|█▏        | 12/102 [00:02<00:16,  5.53it/s]\u001b[A\n",
      " 13%|█▎        | 13/102 [00:02<00:14,  6.00it/s]\u001b[A\n",
      " 14%|█▎        | 14/102 [00:02<00:15,  5.78it/s]\u001b[A\n",
      " 15%|█▍        | 15/102 [00:03<00:15,  5.57it/s]\u001b[A\n",
      " 16%|█▌        | 16/102 [00:03<00:15,  5.43it/s]\u001b[A\n",
      " 17%|█▋        | 17/102 [00:03<00:15,  5.55it/s]\u001b[A\n",
      " 18%|█▊        | 18/102 [00:03<00:14,  5.95it/s]\u001b[A\n",
      " 19%|█▊        | 19/102 [00:03<00:14,  5.81it/s]\u001b[A\n",
      " 20%|█▉        | 20/102 [00:04<00:13,  5.92it/s]\u001b[A\n",
      " 22%|██▏       | 22/102 [00:04<00:12,  6.46it/s]\u001b[A\n",
      " 24%|██▎       | 24/102 [00:04<00:11,  6.96it/s]\u001b[A\n",
      "\n",
      " 25%|██▍       | 25/102 [00:04<00:10,  7.25it/s]\u001b[A\n",
      " 25%|██▌       | 26/102 [00:04<00:10,  7.40it/s]\u001b[A\n",
      " 26%|██▋       | 27/102 [00:04<00:10,  7.28it/s]\u001b[A\n",
      " 27%|██▋       | 28/102 [00:05<00:10,  7.28it/s]\u001b[A\n",
      " 28%|██▊       | 29/102 [00:05<00:09,  7.64it/s]\u001b[A\n",
      " 29%|██▉       | 30/102 [00:05<00:09,  7.64it/s]\u001b[A\n",
      " 30%|███       | 31/102 [00:05<00:09,  7.13it/s]\u001b[A\n",
      " 31%|███▏      | 32/102 [00:05<00:09,  7.16it/s]\u001b[A\n",
      " 32%|███▏      | 33/102 [00:05<00:09,  7.66it/s]\u001b[A\n",
      " 33%|███▎      | 34/102 [00:05<00:08,  8.23it/s]\u001b[A\n",
      " 34%|███▍      | 35/102 [00:05<00:08,  8.07it/s]\u001b[A\n",
      " 35%|███▌      | 36/102 [00:06<00:07,  8.55it/s]\u001b[A\n",
      " 37%|███▋      | 38/102 [00:06<00:07,  8.59it/s]\u001b[A\n",
      " 38%|███▊      | 39/102 [00:06<00:07,  8.64it/s]\u001b[A\n",
      " 40%|████      | 41/102 [00:06<00:06,  9.02it/s]\u001b[A\n",
      " 41%|████      | 42/102 [00:06<00:06,  8.88it/s]\u001b[A\n",
      " 43%|████▎     | 44/102 [00:06<00:06,  9.26it/s]\u001b[A\n",
      " 45%|████▌     | 46/102 [00:07<00:05, 10.12it/s]\u001b[A\n",
      " 47%|████▋     | 48/102 [00:07<00:05, 10.79it/s]\u001b[A\n",
      " 49%|████▉     | 50/102 [00:07<00:04, 11.00it/s]\u001b[A\n",
      " 51%|█████     | 52/102 [00:07<00:04, 11.20it/s]\u001b[A\n",
      " 53%|█████▎    | 54/102 [00:07<00:04, 11.26it/s]\u001b[A\n",
      " 55%|█████▍    | 56/102 [00:07<00:03, 11.92it/s]\u001b[A\n",
      " 57%|█████▋    | 58/102 [00:08<00:03, 12.39it/s]\u001b[A\n",
      " 59%|█████▉    | 60/102 [00:08<00:03, 12.53it/s]\u001b[A\n",
      " 61%|██████    | 62/102 [00:08<00:03, 12.12it/s]\u001b[A\n",
      " 63%|██████▎   | 64/102 [00:08<00:03, 11.94it/s]\u001b[A\n",
      " 65%|██████▍   | 66/102 [00:08<00:02, 12.19it/s]\u001b[A\n",
      " 67%|██████▋   | 68/102 [00:08<00:02, 12.78it/s]\u001b[A\n",
      " 69%|██████▊   | 70/102 [00:09<00:02, 11.87it/s]\u001b[A\n",
      " 71%|███████   | 72/102 [00:09<00:02, 12.91it/s]\u001b[A\n",
      " 73%|███████▎  | 74/102 [00:09<00:02, 13.83it/s]\u001b[A\n",
      " 75%|███████▍  | 76/102 [00:09<00:01, 15.08it/s]\u001b[A\n",
      " 76%|███████▋  | 78/102 [00:09<00:01, 15.85it/s]\u001b[A\n",
      " 78%|███████▊  | 80/102 [00:09<00:01, 16.87it/s]\u001b[A\n",
      " 81%|████████▏ | 83/102 [00:09<00:01, 17.30it/s]\u001b[A\n",
      " 83%|████████▎ | 85/102 [00:09<00:00, 17.06it/s]\u001b[A\n",
      " 85%|████████▌ | 87/102 [00:09<00:00, 16.74it/s]\u001b[A\n",
      " 87%|████████▋ | 89/102 [00:10<00:00, 16.52it/s]\u001b[A\n",
      " 89%|████████▉ | 91/102 [00:10<00:00, 17.03it/s]\u001b[A\n",
      " 91%|█████████ | 93/102 [00:10<00:00, 14.98it/s]\u001b[A\n",
      " 93%|█████████▎| 95/102 [00:10<00:00,  9.27it/s]\u001b[A\n",
      " 95%|█████████▌| 97/102 [00:10<00:00,  9.43it/s]\u001b[A\n",
      " 97%|█████████▋| 99/102 [00:11<00:00,  9.03it/s]\u001b[A\n",
      " 99%|█████████▉| 101/102 [00:11<00:00,  9.48it/s]\u001b[A\n",
      "100%|██████████| 102/102 [00:11<00:00,  8.87it/s]"
     ]
    },
    {
     "name": "stdout",
     "output_type": "stream",
     "text": [
      "load data from '/export/home/oblum/projects/ls_gan/data/flowers_102/jpg_128'\n"
     ]
    },
    {
     "name": "stderr",
     "output_type": "stream",
     "text": [
      "\u001b[A"
     ]
    }
   ],
   "source": [
    "X, Y = ld_gan.data_proc.data_loader.load_data(1, resize = 64, verbose = 1)"
   ]
  },
  {
   "cell_type": "markdown",
   "metadata": {},
   "source": [
    "# do CUDA"
   ]
  },
  {
   "cell_type": "code",
   "execution_count": 8,
   "metadata": {
    "collapsed": true
   },
   "outputs": [],
   "source": [
    "cudnn.benchmark = True"
   ]
  },
  {
   "cell_type": "code",
   "execution_count": 9,
   "metadata": {
    "collapsed": true
   },
   "outputs": [],
   "source": [
    "torch.cuda.manual_seed_all(RAND_SEED)"
   ]
  },
  {
   "cell_type": "markdown",
   "metadata": {},
   "source": [
    "# init networks"
   ]
  },
  {
   "cell_type": "code",
   "execution_count": 10,
   "metadata": {
    "collapsed": false
   },
   "outputs": [],
   "source": [
    "gen = ld_gan.models.gen.gen_64()"
   ]
  },
  {
   "cell_type": "code",
   "execution_count": 11,
   "metadata": {
    "collapsed": false
   },
   "outputs": [],
   "source": [
    "dis = ld_gan.models.dis.dis_64()"
   ]
  },
  {
   "cell_type": "markdown",
   "metadata": {},
   "source": [
    "# init train ops"
   ]
  },
  {
   "cell_type": "code",
   "execution_count": 12,
   "metadata": {
    "collapsed": false
   },
   "outputs": [],
   "source": [
    "train_ops = [ld_gan.train_ops.GanDis(gen, dis, LEARNING_RATE),\n",
    "             ld_gan.train_ops.GanGen(gen, dis, LEARNING_RATE)]\n",
    "#train_ops = [ld_gan.train_ops.Gan(gen, dis, LEARNING_RATE)]"
   ]
  },
  {
   "cell_type": "code",
   "execution_count": 19,
   "metadata": {
    "collapsed": false,
    "scrolled": true
   },
   "outputs": [],
   "source": [
    "sampler = ld_gan.sample.generate_rand_noise(X, Y, BATCH_SIZE, LATENT_SIZE)"
   ]
  },
  {
   "cell_type": "markdown",
   "metadata": {},
   "source": [
    "# train"
   ]
  },
  {
   "cell_type": "code",
   "execution_count": 14,
   "metadata": {
    "collapsed": false
   },
   "outputs": [],
   "source": [
    "trainer = ld_gan.trainer.Trainer(gen, \n",
    "                                 dis, \n",
    "                                 None, \n",
    "                                 train_ops,\n",
    "                                 sampler,\n",
    "                                 len(X))"
   ]
  },
  {
   "cell_type": "code",
   "execution_count": 40,
   "metadata": {
    "collapsed": false
   },
   "outputs": [
    {
     "name": "stderr",
     "output_type": "stream",
     "text": [
      "  0%|          | 0/63 [00:00<?, ?it/s]\n"
     ]
    }
   ],
   "source": [
    "l = trainer.train()"
   ]
  },
  {
   "cell_type": "code",
   "execution_count": null,
   "metadata": {
    "collapsed": true
   },
   "outputs": [],
   "source": []
  },
  {
   "cell_type": "code",
   "execution_count": 15,
   "metadata": {
    "collapsed": true
   },
   "outputs": [],
   "source": [
    "fname = \"/export/home/oblum/projects/ld_gan/projects/x_test.py/model/dis.pth\""
   ]
  },
  {
   "cell_type": "code",
   "execution_count": 17,
   "metadata": {
    "collapsed": false
   },
   "outputs": [],
   "source": [
    "the_model = torch.load(fname)"
   ]
  },
  {
   "cell_type": "code",
   "execution_count": 21,
   "metadata": {
    "collapsed": false
   },
   "outputs": [],
   "source": [
    "Z, _, X, _ = sampler.next()"
   ]
  },
  {
   "cell_type": "code",
   "execution_count": 22,
   "metadata": {
    "collapsed": true
   },
   "outputs": [],
   "source": [
    "Z, X = ld_gan.data_proc.transformer.np_to_tensor(Z, X)"
   ]
  },
  {
   "cell_type": "code",
   "execution_count": 23,
   "metadata": {
    "collapsed": true
   },
   "outputs": [
    {
     "data": {
      "text/plain": [
       "Variable containing:\n",
       "( 0 , 0 ,.,.) = \n",
       "  0.0863\n",
       "\n",
       "( 1 , 0 ,.,.) = \n",
       "  0.4751\n",
       "\n",
       "( 2 , 0 ,.,.) = \n",
       "  0.6565\n",
       "\n",
       "( 3 , 0 ,.,.) = \n",
       "  0.5530\n",
       "\n",
       "( 4 , 0 ,.,.) = \n",
       "  0.7951\n",
       "\n",
       "( 5 , 0 ,.,.) = \n",
       "  0.2317\n",
       "\n",
       "( 6 , 0 ,.,.) = \n",
       "  0.7112\n",
       "\n",
       "( 7 , 0 ,.,.) = \n",
       "  0.3938\n",
       "\n",
       "( 8 , 0 ,.,.) = \n",
       "  0.1405\n",
       "\n",
       "( 9 , 0 ,.,.) = \n",
       "  0.6345\n",
       "\n",
       "(10 , 0 ,.,.) = \n",
       "  0.2769\n",
       "\n",
       "(11 , 0 ,.,.) = \n",
       "  0.9387\n",
       "\n",
       "(12 , 0 ,.,.) = \n",
       "  0.1738\n",
       "\n",
       "(13 , 0 ,.,.) = \n",
       "  0.3526\n",
       "\n",
       "(14 , 0 ,.,.) = \n",
       "  0.7205\n",
       "\n",
       "(15 , 0 ,.,.) = \n",
       "  0.3441\n",
       "\n",
       "(16 , 0 ,.,.) = \n",
       "  0.5987\n",
       "\n",
       "(17 , 0 ,.,.) = \n",
       "  0.7986\n",
       "\n",
       "(18 , 0 ,.,.) = \n",
       "  0.6992\n",
       "\n",
       "(19 , 0 ,.,.) = \n",
       "  0.3120\n",
       "\n",
       "(20 , 0 ,.,.) = \n",
       "  0.4633\n",
       "\n",
       "(21 , 0 ,.,.) = \n",
       "  0.6624\n",
       "\n",
       "(22 , 0 ,.,.) = \n",
       "  0.4633\n",
       "\n",
       "(23 , 0 ,.,.) = \n",
       "  0.4439\n",
       "\n",
       "(24 , 0 ,.,.) = \n",
       "  0.6936\n",
       "\n",
       "(25 , 0 ,.,.) = \n",
       "  0.8198\n",
       "\n",
       "(26 , 0 ,.,.) = \n",
       "  0.0851\n",
       "\n",
       "(27 , 0 ,.,.) = \n",
       "  0.3542\n",
       "\n",
       "(28 , 0 ,.,.) = \n",
       "  0.5777\n",
       "\n",
       "(29 , 0 ,.,.) = \n",
       "  0.4170\n",
       "\n",
       "(30 , 0 ,.,.) = \n",
       "  0.8648\n",
       "\n",
       "(31 , 0 ,.,.) = \n",
       "  0.3993\n",
       "\n",
       "(32 , 0 ,.,.) = \n",
       "  0.7978\n",
       "\n",
       "(33 , 0 ,.,.) = \n",
       "  0.7617\n",
       "\n",
       "(34 , 0 ,.,.) = \n",
       "  0.3905\n",
       "\n",
       "(35 , 0 ,.,.) = \n",
       "  0.2989\n",
       "\n",
       "(36 , 0 ,.,.) = \n",
       "  0.7285\n",
       "\n",
       "(37 , 0 ,.,.) = \n",
       "  0.5062\n",
       "\n",
       "(38 , 0 ,.,.) = \n",
       "  0.2322\n",
       "\n",
       "(39 , 0 ,.,.) = \n",
       "  0.5383\n",
       "\n",
       "(40 , 0 ,.,.) = \n",
       "  0.7978\n",
       "\n",
       "(41 , 0 ,.,.) = \n",
       "  0.6151\n",
       "\n",
       "(42 , 0 ,.,.) = \n",
       "  0.8050\n",
       "\n",
       "(43 , 0 ,.,.) = \n",
       "  0.3971\n",
       "\n",
       "(44 , 0 ,.,.) = \n",
       "  0.4251\n",
       "\n",
       "(45 , 0 ,.,.) = \n",
       "  0.7410\n",
       "\n",
       "(46 , 0 ,.,.) = \n",
       "  0.5870\n",
       "\n",
       "(47 , 0 ,.,.) = \n",
       "  0.8673\n",
       "\n",
       "(48 , 0 ,.,.) = \n",
       "  0.4044\n",
       "\n",
       "(49 , 0 ,.,.) = \n",
       "  0.8110\n",
       "\n",
       "(50 , 0 ,.,.) = \n",
       "  0.6641\n",
       "\n",
       "(51 , 0 ,.,.) = \n",
       "  0.8409\n",
       "\n",
       "(52 , 0 ,.,.) = \n",
       "  0.1909\n",
       "\n",
       "(53 , 0 ,.,.) = \n",
       "  0.7541\n",
       "\n",
       "(54 , 0 ,.,.) = \n",
       "  0.1865\n",
       "\n",
       "(55 , 0 ,.,.) = \n",
       "  0.7173\n",
       "\n",
       "(56 , 0 ,.,.) = \n",
       "  0.1738\n",
       "\n",
       "(57 , 0 ,.,.) = \n",
       "  0.3967\n",
       "\n",
       "(58 , 0 ,.,.) = \n",
       "  0.6937\n",
       "\n",
       "(59 , 0 ,.,.) = \n",
       "  0.4959\n",
       "\n",
       "(60 , 0 ,.,.) = \n",
       "  0.5076\n",
       "\n",
       "(61 , 0 ,.,.) = \n",
       "  0.4744\n",
       "\n",
       "(62 , 0 ,.,.) = \n",
       "  0.9669\n",
       "\n",
       "(63 , 0 ,.,.) = \n",
       "  0.3712\n",
       "\n",
       "(64 , 0 ,.,.) = \n",
       "  0.6142\n",
       "\n",
       "(65 , 0 ,.,.) = \n",
       "  0.5046\n",
       "\n",
       "(66 , 0 ,.,.) = \n",
       "  0.5374\n",
       "\n",
       "(67 , 0 ,.,.) = \n",
       "  0.6504\n",
       "\n",
       "(68 , 0 ,.,.) = \n",
       "  0.8716\n",
       "\n",
       "(69 , 0 ,.,.) = \n",
       "  0.1230\n",
       "\n",
       "(70 , 0 ,.,.) = \n",
       "  0.7064\n",
       "\n",
       "(71 , 0 ,.,.) = \n",
       "  0.6916\n",
       "\n",
       "(72 , 0 ,.,.) = \n",
       "  0.7625\n",
       "\n",
       "(73 , 0 ,.,.) = \n",
       "  0.2911\n",
       "\n",
       "(74 , 0 ,.,.) = \n",
       "  0.5986\n",
       "\n",
       "(75 , 0 ,.,.) = \n",
       "  0.7134\n",
       "\n",
       "(76 , 0 ,.,.) = \n",
       "  0.7635\n",
       "\n",
       "(77 , 0 ,.,.) = \n",
       "  0.5997\n",
       "\n",
       "(78 , 0 ,.,.) = \n",
       "  0.7568\n",
       "\n",
       "(79 , 0 ,.,.) = \n",
       "  0.4646\n",
       "\n",
       "(80 , 0 ,.,.) = \n",
       "  0.5347\n",
       "\n",
       "(81 , 0 ,.,.) = \n",
       "  0.7499\n",
       "\n",
       "(82 , 0 ,.,.) = \n",
       "  0.6406\n",
       "\n",
       "(83 , 0 ,.,.) = \n",
       "  0.4127\n",
       "\n",
       "(84 , 0 ,.,.) = \n",
       "  0.7477\n",
       "\n",
       "(85 , 0 ,.,.) = \n",
       "  0.4490\n",
       "\n",
       "(86 , 0 ,.,.) = \n",
       "  0.0828\n",
       "\n",
       "(87 , 0 ,.,.) = \n",
       "  0.3993\n",
       "\n",
       "(88 , 0 ,.,.) = \n",
       "  0.4884\n",
       "\n",
       "(89 , 0 ,.,.) = \n",
       "  0.5367\n",
       "\n",
       "(90 , 0 ,.,.) = \n",
       "  0.9249\n",
       "\n",
       "(91 , 0 ,.,.) = \n",
       "  0.7807\n",
       "\n",
       "(92 , 0 ,.,.) = \n",
       "  0.7294\n",
       "\n",
       "(93 , 0 ,.,.) = \n",
       "  0.0954\n",
       "\n",
       "(94 , 0 ,.,.) = \n",
       "  0.8195\n",
       "\n",
       "(95 , 0 ,.,.) = \n",
       "  0.4898\n",
       "\n",
       "(96 , 0 ,.,.) = \n",
       "  0.4594\n",
       "\n",
       "(97 , 0 ,.,.) = \n",
       "  0.3082\n",
       "\n",
       "(98 , 0 ,.,.) = \n",
       "  0.8709\n",
       "\n",
       "(99 , 0 ,.,.) = \n",
       "  0.4263\n",
       "\n",
       "(100, 0 ,.,.) = \n",
       "  0.4973\n",
       "\n",
       "(101, 0 ,.,.) = \n",
       "  0.2715\n",
       "\n",
       "(102, 0 ,.,.) = \n",
       "  0.4040\n",
       "\n",
       "(103, 0 ,.,.) = \n",
       "  0.4312\n",
       "\n",
       "(104, 0 ,.,.) = \n",
       "  0.7368\n",
       "\n",
       "(105, 0 ,.,.) = \n",
       "  0.3987\n",
       "\n",
       "(106, 0 ,.,.) = \n",
       "  0.1808\n",
       "\n",
       "(107, 0 ,.,.) = \n",
       "  0.9165\n",
       "\n",
       "(108, 0 ,.,.) = \n",
       "  0.1961\n",
       "\n",
       "(109, 0 ,.,.) = \n",
       "  0.3317\n",
       "\n",
       "(110, 0 ,.,.) = \n",
       "  0.4229\n",
       "\n",
       "(111, 0 ,.,.) = \n",
       "  0.5925\n",
       "\n",
       "(112, 0 ,.,.) = \n",
       "  0.8167\n",
       "\n",
       "(113, 0 ,.,.) = \n",
       "  0.5307\n",
       "\n",
       "(114, 0 ,.,.) = \n",
       "  0.6668\n",
       "\n",
       "(115, 0 ,.,.) = \n",
       "  0.5027\n",
       "\n",
       "(116, 0 ,.,.) = \n",
       "  0.6416\n",
       "\n",
       "(117, 0 ,.,.) = \n",
       "  0.9476\n",
       "\n",
       "(118, 0 ,.,.) = \n",
       "  0.7443\n",
       "\n",
       "(119, 0 ,.,.) = \n",
       "  0.2359\n",
       "\n",
       "(120, 0 ,.,.) = \n",
       "  0.2049\n",
       "\n",
       "(121, 0 ,.,.) = \n",
       "  0.2564\n",
       "\n",
       "(122, 0 ,.,.) = \n",
       "  0.4389\n",
       "\n",
       "(123, 0 ,.,.) = \n",
       "  0.5540\n",
       "\n",
       "(124, 0 ,.,.) = \n",
       "  0.3458\n",
       "\n",
       "(125, 0 ,.,.) = \n",
       "  0.5628\n",
       "\n",
       "(126, 0 ,.,.) = \n",
       "  0.5371\n",
       "\n",
       "(127, 0 ,.,.) = \n",
       "  0.6213\n",
       "[torch.cuda.FloatTensor of size 128x1x1x1 (GPU 0)]"
      ]
     },
     "execution_count": 23,
     "metadata": {},
     "output_type": "execute_result"
    }
   ],
   "source": [
    "the_model(X)"
   ]
  },
  {
   "cell_type": "code",
   "execution_count": null,
   "metadata": {
    "collapsed": true
   },
   "outputs": [],
   "source": []
  }
 ],
 "metadata": {
  "kernelspec": {
   "display_name": "Python 2",
   "language": "python",
   "name": "python2"
  },
  "language_info": {
   "codemirror_mode": {
    "name": "ipython",
    "version": 2
   },
   "file_extension": ".py",
   "mimetype": "text/x-python",
   "name": "python",
   "nbconvert_exporter": "python",
   "pygments_lexer": "ipython2",
   "version": "2.7.6"
  }
 },
 "nbformat": 4,
 "nbformat_minor": 2
}
