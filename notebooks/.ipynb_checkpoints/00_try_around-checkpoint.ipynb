{
 "cells": [
  {
   "cell_type": "code",
   "execution_count": 1,
   "metadata": {
    "collapsed": false
   },
   "outputs": [],
   "source": [
    "%load_ext autoreload\n",
    "%autoreload 2\n",
    "\n",
    "import os\n",
    "os.chdir(\"../\")\n",
    "\n",
    "%matplotlib notebook\n",
    "import matplotlib.pylab as plt\n",
    "# pylab.rcParams['figure.figsize'] = (10, 5)"
   ]
  },
  {
   "cell_type": "code",
   "execution_count": 62,
   "metadata": {
    "collapsed": false
   },
   "outputs": [],
   "source": [
    "import ld_gan\n",
    "from time import time\n",
    "import numpy as np\n",
    "from ld_gan.utils.model_handler import apply_model\n",
    "import sklearn"
   ]
  },
  {
   "cell_type": "code",
   "execution_count": 3,
   "metadata": {
    "collapsed": false,
    "scrolled": true
   },
   "outputs": [
    {
     "name": "stderr",
     "output_type": "stream",
     "text": [
      "100%|██████████| 102/102 [00:14<00:00,  9.67it/s]"
     ]
    },
    {
     "name": "stdout",
     "output_type": "stream",
     "text": [
      "load data from '/export/home/oblum/projects/ls_gan/data/flowers_102/jpg_128'\n"
     ]
    },
    {
     "name": "stderr",
     "output_type": "stream",
     "text": [
      "\n"
     ]
    }
   ],
   "source": [
    "X, Y = ld_gan.data_proc.data_loader.load_data(1, verbose=1, resize = 64)"
   ]
  },
  {
   "cell_type": "code",
   "execution_count": 4,
   "metadata": {
    "collapsed": true
   },
   "outputs": [
    {
     "name": "stderr",
     "output_type": "stream",
     "text": [
      "/net/hciserver03/storage/oblum/venvs/compvisgpu02/lib/python2.7/site-packages/torch/serialization.py:286: SourceChangeWarning: source code of class 'ld_gan.models.enc.Enc' has changed. you can retrieve the original source code by accessing the object's source attribute or set `torch.nn.Module.dump_patches = True` and use the patch tool to revert the changes.\n",
      "  warnings.warn(msg, SourceChangeWarning)\n",
      "/net/hciserver03/storage/oblum/venvs/compvisgpu02/lib/python2.7/site-packages/torch/serialization.py:286: SourceChangeWarning: source code of class 'ld_gan.models.gen.Gen' has changed. you can retrieve the original source code by accessing the object's source attribute or set `torch.nn.Module.dump_patches = True` and use the patch tool to revert the changes.\n",
      "  warnings.warn(msg, SourceChangeWarning)\n"
     ]
    },
    {
     "name": "stdout",
     "output_type": "stream",
     "text": [
      "loaded model 'projects/xf_11111_s10l.py/model/e_0650.pth'\n",
      "loaded model 'projects/xf_11111_s10l.py/model/g_0650.pth'\n",
      "loaded model 'projects/xf_11111_s10l.py/model/d_0650.pth'\n"
     ]
    },
    {
     "name": "stderr",
     "output_type": "stream",
     "text": [
      "/net/hciserver03/storage/oblum/venvs/compvisgpu02/lib/python2.7/site-packages/torch/serialization.py:286: SourceChangeWarning: source code of class 'ld_gan.models.dis.Dis' has changed. you can retrieve the original source code by accessing the object's source attribute or set `torch.nn.Module.dump_patches = True` and use the patch tool to revert the changes.\n",
      "  warnings.warn(msg, SourceChangeWarning)\n"
     ]
    }
   ],
   "source": [
    "enc = ld_gan.utils.model_handler.load_model(\"xf_11111_s10l.py\", 650, \"enc\")\n",
    "gen = ld_gan.utils.model_handler.load_model(\"xf_11111_s10l.py\", 650, \"gen\")\n",
    "dis = ld_gan.utils.model_handler.load_model(\"xf_11111_s10l.py\", 650, \"dis\")"
   ]
  },
  {
   "cell_type": "code",
   "execution_count": 58,
   "metadata": {
    "collapsed": true
   },
   "outputs": [],
   "source": [
    "z_enc = apply_model(enc, X)"
   ]
  },
  {
   "cell_type": "code",
   "execution_count": 59,
   "metadata": {
    "collapsed": true
   },
   "outputs": [],
   "source": [
    "z_anc = z_enc[:256]"
   ]
  },
  {
   "cell_type": "code",
   "execution_count": 150,
   "metadata": {
    "collapsed": true
   },
   "outputs": [],
   "source": [
    "def get_enc_space_suggestion(z_anchors, \n",
    "                             z_all, \n",
    "                             n_pos = 10,\n",
    "                             n_neg = 10,\n",
    "                             quantile_pos = 0.05, \n",
    "                             quantile_neg = 0.3):\n",
    "    \n",
    "    n_all = len(z_all)\n",
    "    n_anc = len(z_anchors)\n",
    "    n_pre_pos = int(quantile_pos * n_all)\n",
    "    n_pre_neg = int((1.-quantile_neg) * n_all)\n",
    "    \n",
    "    # get distances in encoded space\n",
    "    dists = sklearn.metrics.pairwise.pairwise_distances(z_anc, z_enc)\n",
    "    idxs_sorted = np.array([d.argsort() for d in dists])\n",
    "    \n",
    "    # get indexes fullfilling quantile constraints\n",
    "    idxs_pos = idxs_sorted[:, 1:n_pre_pos]\n",
    "    idxs_neg = idxs_sorted[:, -n_pre_neg:]\n",
    "    \n",
    "    # random selection for suggestion\n",
    "    idxs_pos = [i[np.random.randint(0, n_pre_pos-1, n_pos)] for i in idxs_pos]\n",
    "    idxs_neg = [i[np.random.randint(0, n_pre_neg-1, n_neg)] for i in idxs_neg]\n",
    "    idxs_pos = np.array(idxs_pos)\n",
    "    idxs_neg = np.array(idxs_neg)\n",
    "    \n",
    "    return idxs_pos, idxs_neg"
   ]
  },
  {
   "cell_type": "code",
   "execution_count": 151,
   "metadata": {
    "collapsed": false
   },
   "outputs": [],
   "source": [
    "idxs_pos, idxs_neg = get_enc_space_suggestion(z_anc, z_enc)"
   ]
  },
  {
   "cell_type": "code",
   "execution_count": 153,
   "metadata": {
    "collapsed": false
   },
   "outputs": [
    {
     "data": {
      "text/plain": [
       "(256, 10)"
      ]
     },
     "execution_count": 153,
     "metadata": {},
     "output_type": "execute_result"
    }
   ],
   "source": [
    "idxs_pos.shape"
   ]
  },
  {
   "cell_type": "code",
   "execution_count": 154,
   "metadata": {
    "collapsed": false
   },
   "outputs": [
    {
     "data": {
      "text/plain": [
       "(256, 10)"
      ]
     },
     "execution_count": 154,
     "metadata": {},
     "output_type": "execute_result"
    }
   ],
   "source": [
    "idxs_neg.shape"
   ]
  },
  {
   "cell_type": "code",
   "execution_count": 155,
   "metadata": {
    "collapsed": true
   },
   "outputs": [],
   "source": [
    "z_pos = z_enc[idxs_pos]\n",
    "z_neg = z_enc[idxs_neg]"
   ]
  },
  {
   "cell_type": "code",
   "execution_count": 158,
   "metadata": {
    "collapsed": false
   },
   "outputs": [
    {
     "data": {
      "text/plain": [
       "(256, 10, 256)"
      ]
     },
     "execution_count": 158,
     "metadata": {},
     "output_type": "execute_result"
    }
   ],
   "source": [
    "z_pos.shape"
   ]
  },
  {
   "cell_type": "markdown",
   "metadata": {},
   "source": [
    "# pos distances"
   ]
  },
  {
   "cell_type": "code",
   "execution_count": 160,
   "metadata": {
    "collapsed": true
   },
   "outputs": [],
   "source": [
    "from sklearn.metrics.pairwise import pairwise_distances"
   ]
  },
  {
   "cell_type": "code",
   "execution_count": 167,
   "metadata": {
    "collapsed": false
   },
   "outputs": [],
   "source": [
    "ds = [pairwise_distances(np.array([za]), z) for za, z in zip(z_anc, z_pos)]\n",
    "ds = np.squeeze(np.array(ds))"
   ]
  },
  {
   "cell_type": "code",
   "execution_count": 174,
   "metadata": {
    "collapsed": false
   },
   "outputs": [
    {
     "data": {
      "application/javascript": [
       "/* Put everything inside the global mpl namespace */\n",
       "window.mpl = {};\n",
       "\n",
       "\n",
       "mpl.get_websocket_type = function() {\n",
       "    if (typeof(WebSocket) !== 'undefined') {\n",
       "        return WebSocket;\n",
       "    } else if (typeof(MozWebSocket) !== 'undefined') {\n",
       "        return MozWebSocket;\n",
       "    } else {\n",
       "        alert('Your browser does not have WebSocket support.' +\n",
       "              'Please try Chrome, Safari or Firefox ≥ 6. ' +\n",
       "              'Firefox 4 and 5 are also supported but you ' +\n",
       "              'have to enable WebSockets in about:config.');\n",
       "    };\n",
       "}\n",
       "\n",
       "mpl.figure = function(figure_id, websocket, ondownload, parent_element) {\n",
       "    this.id = figure_id;\n",
       "\n",
       "    this.ws = websocket;\n",
       "\n",
       "    this.supports_binary = (this.ws.binaryType != undefined);\n",
       "\n",
       "    if (!this.supports_binary) {\n",
       "        var warnings = document.getElementById(\"mpl-warnings\");\n",
       "        if (warnings) {\n",
       "            warnings.style.display = 'block';\n",
       "            warnings.textContent = (\n",
       "                \"This browser does not support binary websocket messages. \" +\n",
       "                    \"Performance may be slow.\");\n",
       "        }\n",
       "    }\n",
       "\n",
       "    this.imageObj = new Image();\n",
       "\n",
       "    this.context = undefined;\n",
       "    this.message = undefined;\n",
       "    this.canvas = undefined;\n",
       "    this.rubberband_canvas = undefined;\n",
       "    this.rubberband_context = undefined;\n",
       "    this.format_dropdown = undefined;\n",
       "\n",
       "    this.image_mode = 'full';\n",
       "\n",
       "    this.root = $('<div/>');\n",
       "    this._root_extra_style(this.root)\n",
       "    this.root.attr('style', 'display: inline-block');\n",
       "\n",
       "    $(parent_element).append(this.root);\n",
       "\n",
       "    this._init_header(this);\n",
       "    this._init_canvas(this);\n",
       "    this._init_toolbar(this);\n",
       "\n",
       "    var fig = this;\n",
       "\n",
       "    this.waiting = false;\n",
       "\n",
       "    this.ws.onopen =  function () {\n",
       "            fig.send_message(\"supports_binary\", {value: fig.supports_binary});\n",
       "            fig.send_message(\"send_image_mode\", {});\n",
       "            if (mpl.ratio != 1) {\n",
       "                fig.send_message(\"set_dpi_ratio\", {'dpi_ratio': mpl.ratio});\n",
       "            }\n",
       "            fig.send_message(\"refresh\", {});\n",
       "        }\n",
       "\n",
       "    this.imageObj.onload = function() {\n",
       "            if (fig.image_mode == 'full') {\n",
       "                // Full images could contain transparency (where diff images\n",
       "                // almost always do), so we need to clear the canvas so that\n",
       "                // there is no ghosting.\n",
       "                fig.context.clearRect(0, 0, fig.canvas.width, fig.canvas.height);\n",
       "            }\n",
       "            fig.context.drawImage(fig.imageObj, 0, 0);\n",
       "        };\n",
       "\n",
       "    this.imageObj.onunload = function() {\n",
       "        this.ws.close();\n",
       "    }\n",
       "\n",
       "    this.ws.onmessage = this._make_on_message_function(this);\n",
       "\n",
       "    this.ondownload = ondownload;\n",
       "}\n",
       "\n",
       "mpl.figure.prototype._init_header = function() {\n",
       "    var titlebar = $(\n",
       "        '<div class=\"ui-dialog-titlebar ui-widget-header ui-corner-all ' +\n",
       "        'ui-helper-clearfix\"/>');\n",
       "    var titletext = $(\n",
       "        '<div class=\"ui-dialog-title\" style=\"width: 100%; ' +\n",
       "        'text-align: center; padding: 3px;\"/>');\n",
       "    titlebar.append(titletext)\n",
       "    this.root.append(titlebar);\n",
       "    this.header = titletext[0];\n",
       "}\n",
       "\n",
       "\n",
       "\n",
       "mpl.figure.prototype._canvas_extra_style = function(canvas_div) {\n",
       "\n",
       "}\n",
       "\n",
       "\n",
       "mpl.figure.prototype._root_extra_style = function(canvas_div) {\n",
       "\n",
       "}\n",
       "\n",
       "mpl.figure.prototype._init_canvas = function() {\n",
       "    var fig = this;\n",
       "\n",
       "    var canvas_div = $('<div/>');\n",
       "\n",
       "    canvas_div.attr('style', 'position: relative; clear: both; outline: 0');\n",
       "\n",
       "    function canvas_keyboard_event(event) {\n",
       "        return fig.key_event(event, event['data']);\n",
       "    }\n",
       "\n",
       "    canvas_div.keydown('key_press', canvas_keyboard_event);\n",
       "    canvas_div.keyup('key_release', canvas_keyboard_event);\n",
       "    this.canvas_div = canvas_div\n",
       "    this._canvas_extra_style(canvas_div)\n",
       "    this.root.append(canvas_div);\n",
       "\n",
       "    var canvas = $('<canvas/>');\n",
       "    canvas.addClass('mpl-canvas');\n",
       "    canvas.attr('style', \"left: 0; top: 0; z-index: 0; outline: 0\")\n",
       "\n",
       "    this.canvas = canvas[0];\n",
       "    this.context = canvas[0].getContext(\"2d\");\n",
       "\n",
       "    var backingStore = this.context.backingStorePixelRatio ||\n",
       "\tthis.context.webkitBackingStorePixelRatio ||\n",
       "\tthis.context.mozBackingStorePixelRatio ||\n",
       "\tthis.context.msBackingStorePixelRatio ||\n",
       "\tthis.context.oBackingStorePixelRatio ||\n",
       "\tthis.context.backingStorePixelRatio || 1;\n",
       "\n",
       "    mpl.ratio = (window.devicePixelRatio || 1) / backingStore;\n",
       "\n",
       "    var rubberband = $('<canvas/>');\n",
       "    rubberband.attr('style', \"position: absolute; left: 0; top: 0; z-index: 1;\")\n",
       "\n",
       "    var pass_mouse_events = true;\n",
       "\n",
       "    canvas_div.resizable({\n",
       "        start: function(event, ui) {\n",
       "            pass_mouse_events = false;\n",
       "        },\n",
       "        resize: function(event, ui) {\n",
       "            fig.request_resize(ui.size.width, ui.size.height);\n",
       "        },\n",
       "        stop: function(event, ui) {\n",
       "            pass_mouse_events = true;\n",
       "            fig.request_resize(ui.size.width, ui.size.height);\n",
       "        },\n",
       "    });\n",
       "\n",
       "    function mouse_event_fn(event) {\n",
       "        if (pass_mouse_events)\n",
       "            return fig.mouse_event(event, event['data']);\n",
       "    }\n",
       "\n",
       "    rubberband.mousedown('button_press', mouse_event_fn);\n",
       "    rubberband.mouseup('button_release', mouse_event_fn);\n",
       "    // Throttle sequential mouse events to 1 every 20ms.\n",
       "    rubberband.mousemove('motion_notify', mouse_event_fn);\n",
       "\n",
       "    rubberband.mouseenter('figure_enter', mouse_event_fn);\n",
       "    rubberband.mouseleave('figure_leave', mouse_event_fn);\n",
       "\n",
       "    canvas_div.on(\"wheel\", function (event) {\n",
       "        event = event.originalEvent;\n",
       "        event['data'] = 'scroll'\n",
       "        if (event.deltaY < 0) {\n",
       "            event.step = 1;\n",
       "        } else {\n",
       "            event.step = -1;\n",
       "        }\n",
       "        mouse_event_fn(event);\n",
       "    });\n",
       "\n",
       "    canvas_div.append(canvas);\n",
       "    canvas_div.append(rubberband);\n",
       "\n",
       "    this.rubberband = rubberband;\n",
       "    this.rubberband_canvas = rubberband[0];\n",
       "    this.rubberband_context = rubberband[0].getContext(\"2d\");\n",
       "    this.rubberband_context.strokeStyle = \"#000000\";\n",
       "\n",
       "    this._resize_canvas = function(width, height) {\n",
       "        // Keep the size of the canvas, canvas container, and rubber band\n",
       "        // canvas in synch.\n",
       "        canvas_div.css('width', width)\n",
       "        canvas_div.css('height', height)\n",
       "\n",
       "        canvas.attr('width', width * mpl.ratio);\n",
       "        canvas.attr('height', height * mpl.ratio);\n",
       "        canvas.attr('style', 'width: ' + width + 'px; height: ' + height + 'px;');\n",
       "\n",
       "        rubberband.attr('width', width);\n",
       "        rubberband.attr('height', height);\n",
       "    }\n",
       "\n",
       "    // Set the figure to an initial 600x600px, this will subsequently be updated\n",
       "    // upon first draw.\n",
       "    this._resize_canvas(600, 600);\n",
       "\n",
       "    // Disable right mouse context menu.\n",
       "    $(this.rubberband_canvas).bind(\"contextmenu\",function(e){\n",
       "        return false;\n",
       "    });\n",
       "\n",
       "    function set_focus () {\n",
       "        canvas.focus();\n",
       "        canvas_div.focus();\n",
       "    }\n",
       "\n",
       "    window.setTimeout(set_focus, 100);\n",
       "}\n",
       "\n",
       "mpl.figure.prototype._init_toolbar = function() {\n",
       "    var fig = this;\n",
       "\n",
       "    var nav_element = $('<div/>')\n",
       "    nav_element.attr('style', 'width: 100%');\n",
       "    this.root.append(nav_element);\n",
       "\n",
       "    // Define a callback function for later on.\n",
       "    function toolbar_event(event) {\n",
       "        return fig.toolbar_button_onclick(event['data']);\n",
       "    }\n",
       "    function toolbar_mouse_event(event) {\n",
       "        return fig.toolbar_button_onmouseover(event['data']);\n",
       "    }\n",
       "\n",
       "    for(var toolbar_ind in mpl.toolbar_items) {\n",
       "        var name = mpl.toolbar_items[toolbar_ind][0];\n",
       "        var tooltip = mpl.toolbar_items[toolbar_ind][1];\n",
       "        var image = mpl.toolbar_items[toolbar_ind][2];\n",
       "        var method_name = mpl.toolbar_items[toolbar_ind][3];\n",
       "\n",
       "        if (!name) {\n",
       "            // put a spacer in here.\n",
       "            continue;\n",
       "        }\n",
       "        var button = $('<button/>');\n",
       "        button.addClass('ui-button ui-widget ui-state-default ui-corner-all ' +\n",
       "                        'ui-button-icon-only');\n",
       "        button.attr('role', 'button');\n",
       "        button.attr('aria-disabled', 'false');\n",
       "        button.click(method_name, toolbar_event);\n",
       "        button.mouseover(tooltip, toolbar_mouse_event);\n",
       "\n",
       "        var icon_img = $('<span/>');\n",
       "        icon_img.addClass('ui-button-icon-primary ui-icon');\n",
       "        icon_img.addClass(image);\n",
       "        icon_img.addClass('ui-corner-all');\n",
       "\n",
       "        var tooltip_span = $('<span/>');\n",
       "        tooltip_span.addClass('ui-button-text');\n",
       "        tooltip_span.html(tooltip);\n",
       "\n",
       "        button.append(icon_img);\n",
       "        button.append(tooltip_span);\n",
       "\n",
       "        nav_element.append(button);\n",
       "    }\n",
       "\n",
       "    var fmt_picker_span = $('<span/>');\n",
       "\n",
       "    var fmt_picker = $('<select/>');\n",
       "    fmt_picker.addClass('mpl-toolbar-option ui-widget ui-widget-content');\n",
       "    fmt_picker_span.append(fmt_picker);\n",
       "    nav_element.append(fmt_picker_span);\n",
       "    this.format_dropdown = fmt_picker[0];\n",
       "\n",
       "    for (var ind in mpl.extensions) {\n",
       "        var fmt = mpl.extensions[ind];\n",
       "        var option = $(\n",
       "            '<option/>', {selected: fmt === mpl.default_extension}).html(fmt);\n",
       "        fmt_picker.append(option)\n",
       "    }\n",
       "\n",
       "    // Add hover states to the ui-buttons\n",
       "    $( \".ui-button\" ).hover(\n",
       "        function() { $(this).addClass(\"ui-state-hover\");},\n",
       "        function() { $(this).removeClass(\"ui-state-hover\");}\n",
       "    );\n",
       "\n",
       "    var status_bar = $('<span class=\"mpl-message\"/>');\n",
       "    nav_element.append(status_bar);\n",
       "    this.message = status_bar[0];\n",
       "}\n",
       "\n",
       "mpl.figure.prototype.request_resize = function(x_pixels, y_pixels) {\n",
       "    // Request matplotlib to resize the figure. Matplotlib will then trigger a resize in the client,\n",
       "    // which will in turn request a refresh of the image.\n",
       "    this.send_message('resize', {'width': x_pixels, 'height': y_pixels});\n",
       "}\n",
       "\n",
       "mpl.figure.prototype.send_message = function(type, properties) {\n",
       "    properties['type'] = type;\n",
       "    properties['figure_id'] = this.id;\n",
       "    this.ws.send(JSON.stringify(properties));\n",
       "}\n",
       "\n",
       "mpl.figure.prototype.send_draw_message = function() {\n",
       "    if (!this.waiting) {\n",
       "        this.waiting = true;\n",
       "        this.ws.send(JSON.stringify({type: \"draw\", figure_id: this.id}));\n",
       "    }\n",
       "}\n",
       "\n",
       "\n",
       "mpl.figure.prototype.handle_save = function(fig, msg) {\n",
       "    var format_dropdown = fig.format_dropdown;\n",
       "    var format = format_dropdown.options[format_dropdown.selectedIndex].value;\n",
       "    fig.ondownload(fig, format);\n",
       "}\n",
       "\n",
       "\n",
       "mpl.figure.prototype.handle_resize = function(fig, msg) {\n",
       "    var size = msg['size'];\n",
       "    if (size[0] != fig.canvas.width || size[1] != fig.canvas.height) {\n",
       "        fig._resize_canvas(size[0], size[1]);\n",
       "        fig.send_message(\"refresh\", {});\n",
       "    };\n",
       "}\n",
       "\n",
       "mpl.figure.prototype.handle_rubberband = function(fig, msg) {\n",
       "    var x0 = msg['x0'] / mpl.ratio;\n",
       "    var y0 = (fig.canvas.height - msg['y0']) / mpl.ratio;\n",
       "    var x1 = msg['x1'] / mpl.ratio;\n",
       "    var y1 = (fig.canvas.height - msg['y1']) / mpl.ratio;\n",
       "    x0 = Math.floor(x0) + 0.5;\n",
       "    y0 = Math.floor(y0) + 0.5;\n",
       "    x1 = Math.floor(x1) + 0.5;\n",
       "    y1 = Math.floor(y1) + 0.5;\n",
       "    var min_x = Math.min(x0, x1);\n",
       "    var min_y = Math.min(y0, y1);\n",
       "    var width = Math.abs(x1 - x0);\n",
       "    var height = Math.abs(y1 - y0);\n",
       "\n",
       "    fig.rubberband_context.clearRect(\n",
       "        0, 0, fig.canvas.width, fig.canvas.height);\n",
       "\n",
       "    fig.rubberband_context.strokeRect(min_x, min_y, width, height);\n",
       "}\n",
       "\n",
       "mpl.figure.prototype.handle_figure_label = function(fig, msg) {\n",
       "    // Updates the figure title.\n",
       "    fig.header.textContent = msg['label'];\n",
       "}\n",
       "\n",
       "mpl.figure.prototype.handle_cursor = function(fig, msg) {\n",
       "    var cursor = msg['cursor'];\n",
       "    switch(cursor)\n",
       "    {\n",
       "    case 0:\n",
       "        cursor = 'pointer';\n",
       "        break;\n",
       "    case 1:\n",
       "        cursor = 'default';\n",
       "        break;\n",
       "    case 2:\n",
       "        cursor = 'crosshair';\n",
       "        break;\n",
       "    case 3:\n",
       "        cursor = 'move';\n",
       "        break;\n",
       "    }\n",
       "    fig.rubberband_canvas.style.cursor = cursor;\n",
       "}\n",
       "\n",
       "mpl.figure.prototype.handle_message = function(fig, msg) {\n",
       "    fig.message.textContent = msg['message'];\n",
       "}\n",
       "\n",
       "mpl.figure.prototype.handle_draw = function(fig, msg) {\n",
       "    // Request the server to send over a new figure.\n",
       "    fig.send_draw_message();\n",
       "}\n",
       "\n",
       "mpl.figure.prototype.handle_image_mode = function(fig, msg) {\n",
       "    fig.image_mode = msg['mode'];\n",
       "}\n",
       "\n",
       "mpl.figure.prototype.updated_canvas_event = function() {\n",
       "    // Called whenever the canvas gets updated.\n",
       "    this.send_message(\"ack\", {});\n",
       "}\n",
       "\n",
       "// A function to construct a web socket function for onmessage handling.\n",
       "// Called in the figure constructor.\n",
       "mpl.figure.prototype._make_on_message_function = function(fig) {\n",
       "    return function socket_on_message(evt) {\n",
       "        if (evt.data instanceof Blob) {\n",
       "            /* FIXME: We get \"Resource interpreted as Image but\n",
       "             * transferred with MIME type text/plain:\" errors on\n",
       "             * Chrome.  But how to set the MIME type?  It doesn't seem\n",
       "             * to be part of the websocket stream */\n",
       "            evt.data.type = \"image/png\";\n",
       "\n",
       "            /* Free the memory for the previous frames */\n",
       "            if (fig.imageObj.src) {\n",
       "                (window.URL || window.webkitURL).revokeObjectURL(\n",
       "                    fig.imageObj.src);\n",
       "            }\n",
       "\n",
       "            fig.imageObj.src = (window.URL || window.webkitURL).createObjectURL(\n",
       "                evt.data);\n",
       "            fig.updated_canvas_event();\n",
       "            fig.waiting = false;\n",
       "            return;\n",
       "        }\n",
       "        else if (typeof evt.data === 'string' && evt.data.slice(0, 21) == \"data:image/png;base64\") {\n",
       "            fig.imageObj.src = evt.data;\n",
       "            fig.updated_canvas_event();\n",
       "            fig.waiting = false;\n",
       "            return;\n",
       "        }\n",
       "\n",
       "        var msg = JSON.parse(evt.data);\n",
       "        var msg_type = msg['type'];\n",
       "\n",
       "        // Call the  \"handle_{type}\" callback, which takes\n",
       "        // the figure and JSON message as its only arguments.\n",
       "        try {\n",
       "            var callback = fig[\"handle_\" + msg_type];\n",
       "        } catch (e) {\n",
       "            console.log(\"No handler for the '\" + msg_type + \"' message type: \", msg);\n",
       "            return;\n",
       "        }\n",
       "\n",
       "        if (callback) {\n",
       "            try {\n",
       "                // console.log(\"Handling '\" + msg_type + \"' message: \", msg);\n",
       "                callback(fig, msg);\n",
       "            } catch (e) {\n",
       "                console.log(\"Exception inside the 'handler_\" + msg_type + \"' callback:\", e, e.stack, msg);\n",
       "            }\n",
       "        }\n",
       "    };\n",
       "}\n",
       "\n",
       "// from http://stackoverflow.com/questions/1114465/getting-mouse-location-in-canvas\n",
       "mpl.findpos = function(e) {\n",
       "    //this section is from http://www.quirksmode.org/js/events_properties.html\n",
       "    var targ;\n",
       "    if (!e)\n",
       "        e = window.event;\n",
       "    if (e.target)\n",
       "        targ = e.target;\n",
       "    else if (e.srcElement)\n",
       "        targ = e.srcElement;\n",
       "    if (targ.nodeType == 3) // defeat Safari bug\n",
       "        targ = targ.parentNode;\n",
       "\n",
       "    // jQuery normalizes the pageX and pageY\n",
       "    // pageX,Y are the mouse positions relative to the document\n",
       "    // offset() returns the position of the element relative to the document\n",
       "    var x = e.pageX - $(targ).offset().left;\n",
       "    var y = e.pageY - $(targ).offset().top;\n",
       "\n",
       "    return {\"x\": x, \"y\": y};\n",
       "};\n",
       "\n",
       "/*\n",
       " * return a copy of an object with only non-object keys\n",
       " * we need this to avoid circular references\n",
       " * http://stackoverflow.com/a/24161582/3208463\n",
       " */\n",
       "function simpleKeys (original) {\n",
       "  return Object.keys(original).reduce(function (obj, key) {\n",
       "    if (typeof original[key] !== 'object')\n",
       "        obj[key] = original[key]\n",
       "    return obj;\n",
       "  }, {});\n",
       "}\n",
       "\n",
       "mpl.figure.prototype.mouse_event = function(event, name) {\n",
       "    var canvas_pos = mpl.findpos(event)\n",
       "\n",
       "    if (name === 'button_press')\n",
       "    {\n",
       "        this.canvas.focus();\n",
       "        this.canvas_div.focus();\n",
       "    }\n",
       "\n",
       "    var x = canvas_pos.x * mpl.ratio;\n",
       "    var y = canvas_pos.y * mpl.ratio;\n",
       "\n",
       "    this.send_message(name, {x: x, y: y, button: event.button,\n",
       "                             step: event.step,\n",
       "                             guiEvent: simpleKeys(event)});\n",
       "\n",
       "    /* This prevents the web browser from automatically changing to\n",
       "     * the text insertion cursor when the button is pressed.  We want\n",
       "     * to control all of the cursor setting manually through the\n",
       "     * 'cursor' event from matplotlib */\n",
       "    event.preventDefault();\n",
       "    return false;\n",
       "}\n",
       "\n",
       "mpl.figure.prototype._key_event_extra = function(event, name) {\n",
       "    // Handle any extra behaviour associated with a key event\n",
       "}\n",
       "\n",
       "mpl.figure.prototype.key_event = function(event, name) {\n",
       "\n",
       "    // Prevent repeat events\n",
       "    if (name == 'key_press')\n",
       "    {\n",
       "        if (event.which === this._key)\n",
       "            return;\n",
       "        else\n",
       "            this._key = event.which;\n",
       "    }\n",
       "    if (name == 'key_release')\n",
       "        this._key = null;\n",
       "\n",
       "    var value = '';\n",
       "    if (event.ctrlKey && event.which != 17)\n",
       "        value += \"ctrl+\";\n",
       "    if (event.altKey && event.which != 18)\n",
       "        value += \"alt+\";\n",
       "    if (event.shiftKey && event.which != 16)\n",
       "        value += \"shift+\";\n",
       "\n",
       "    value += 'k';\n",
       "    value += event.which.toString();\n",
       "\n",
       "    this._key_event_extra(event, name);\n",
       "\n",
       "    this.send_message(name, {key: value,\n",
       "                             guiEvent: simpleKeys(event)});\n",
       "    return false;\n",
       "}\n",
       "\n",
       "mpl.figure.prototype.toolbar_button_onclick = function(name) {\n",
       "    if (name == 'download') {\n",
       "        this.handle_save(this, null);\n",
       "    } else {\n",
       "        this.send_message(\"toolbar_button\", {name: name});\n",
       "    }\n",
       "};\n",
       "\n",
       "mpl.figure.prototype.toolbar_button_onmouseover = function(tooltip) {\n",
       "    this.message.textContent = tooltip;\n",
       "};\n",
       "mpl.toolbar_items = [[\"Home\", \"Reset original view\", \"fa fa-home icon-home\", \"home\"], [\"Back\", \"Back to  previous view\", \"fa fa-arrow-left icon-arrow-left\", \"back\"], [\"Forward\", \"Forward to next view\", \"fa fa-arrow-right icon-arrow-right\", \"forward\"], [\"\", \"\", \"\", \"\"], [\"Pan\", \"Pan axes with left mouse, zoom with right\", \"fa fa-arrows icon-move\", \"pan\"], [\"Zoom\", \"Zoom to rectangle\", \"fa fa-square-o icon-check-empty\", \"zoom\"], [\"\", \"\", \"\", \"\"], [\"Download\", \"Download plot\", \"fa fa-floppy-o icon-save\", \"download\"]];\n",
       "\n",
       "mpl.extensions = [\"eps\", \"jpeg\", \"pdf\", \"png\", \"ps\", \"raw\", \"svg\", \"tif\"];\n",
       "\n",
       "mpl.default_extension = \"png\";var comm_websocket_adapter = function(comm) {\n",
       "    // Create a \"websocket\"-like object which calls the given IPython comm\n",
       "    // object with the appropriate methods. Currently this is a non binary\n",
       "    // socket, so there is still some room for performance tuning.\n",
       "    var ws = {};\n",
       "\n",
       "    ws.close = function() {\n",
       "        comm.close()\n",
       "    };\n",
       "    ws.send = function(m) {\n",
       "        //console.log('sending', m);\n",
       "        comm.send(m);\n",
       "    };\n",
       "    // Register the callback with on_msg.\n",
       "    comm.on_msg(function(msg) {\n",
       "        //console.log('receiving', msg['content']['data'], msg);\n",
       "        // Pass the mpl event to the overriden (by mpl) onmessage function.\n",
       "        ws.onmessage(msg['content']['data'])\n",
       "    });\n",
       "    return ws;\n",
       "}\n",
       "\n",
       "mpl.mpl_figure_comm = function(comm, msg) {\n",
       "    // This is the function which gets called when the mpl process\n",
       "    // starts-up an IPython Comm through the \"matplotlib\" channel.\n",
       "\n",
       "    var id = msg.content.data.id;\n",
       "    // Get hold of the div created by the display call when the Comm\n",
       "    // socket was opened in Python.\n",
       "    var element = $(\"#\" + id);\n",
       "    var ws_proxy = comm_websocket_adapter(comm)\n",
       "\n",
       "    function ondownload(figure, format) {\n",
       "        window.open(figure.imageObj.src);\n",
       "    }\n",
       "\n",
       "    var fig = new mpl.figure(id, ws_proxy,\n",
       "                           ondownload,\n",
       "                           element.get(0));\n",
       "\n",
       "    // Call onopen now - mpl needs it, as it is assuming we've passed it a real\n",
       "    // web socket which is closed, not our websocket->open comm proxy.\n",
       "    ws_proxy.onopen();\n",
       "\n",
       "    fig.parent_element = element.get(0);\n",
       "    fig.cell_info = mpl.find_output_cell(\"<div id='\" + id + \"'></div>\");\n",
       "    if (!fig.cell_info) {\n",
       "        console.error(\"Failed to find cell for figure\", id, fig);\n",
       "        return;\n",
       "    }\n",
       "\n",
       "    var output_index = fig.cell_info[2]\n",
       "    var cell = fig.cell_info[0];\n",
       "\n",
       "};\n",
       "\n",
       "mpl.figure.prototype.handle_close = function(fig, msg) {\n",
       "    var width = fig.canvas.width/mpl.ratio\n",
       "    fig.root.unbind('remove')\n",
       "\n",
       "    // Update the output cell to use the data from the current canvas.\n",
       "    fig.push_to_output();\n",
       "    var dataURL = fig.canvas.toDataURL();\n",
       "    // Re-enable the keyboard manager in IPython - without this line, in FF,\n",
       "    // the notebook keyboard shortcuts fail.\n",
       "    IPython.keyboard_manager.enable()\n",
       "    $(fig.parent_element).html('<img src=\"' + dataURL + '\" width=\"' + width + '\">');\n",
       "    fig.close_ws(fig, msg);\n",
       "}\n",
       "\n",
       "mpl.figure.prototype.close_ws = function(fig, msg){\n",
       "    fig.send_message('closing', msg);\n",
       "    // fig.ws.close()\n",
       "}\n",
       "\n",
       "mpl.figure.prototype.push_to_output = function(remove_interactive) {\n",
       "    // Turn the data on the canvas into data in the output cell.\n",
       "    var width = this.canvas.width/mpl.ratio\n",
       "    var dataURL = this.canvas.toDataURL();\n",
       "    this.cell_info[1]['text/html'] = '<img src=\"' + dataURL + '\" width=\"' + width + '\">';\n",
       "}\n",
       "\n",
       "mpl.figure.prototype.updated_canvas_event = function() {\n",
       "    // Tell IPython that the notebook contents must change.\n",
       "    IPython.notebook.set_dirty(true);\n",
       "    this.send_message(\"ack\", {});\n",
       "    var fig = this;\n",
       "    // Wait a second, then push the new image to the DOM so\n",
       "    // that it is saved nicely (might be nice to debounce this).\n",
       "    setTimeout(function () { fig.push_to_output() }, 1000);\n",
       "}\n",
       "\n",
       "mpl.figure.prototype._init_toolbar = function() {\n",
       "    var fig = this;\n",
       "\n",
       "    var nav_element = $('<div/>')\n",
       "    nav_element.attr('style', 'width: 100%');\n",
       "    this.root.append(nav_element);\n",
       "\n",
       "    // Define a callback function for later on.\n",
       "    function toolbar_event(event) {\n",
       "        return fig.toolbar_button_onclick(event['data']);\n",
       "    }\n",
       "    function toolbar_mouse_event(event) {\n",
       "        return fig.toolbar_button_onmouseover(event['data']);\n",
       "    }\n",
       "\n",
       "    for(var toolbar_ind in mpl.toolbar_items){\n",
       "        var name = mpl.toolbar_items[toolbar_ind][0];\n",
       "        var tooltip = mpl.toolbar_items[toolbar_ind][1];\n",
       "        var image = mpl.toolbar_items[toolbar_ind][2];\n",
       "        var method_name = mpl.toolbar_items[toolbar_ind][3];\n",
       "\n",
       "        if (!name) { continue; };\n",
       "\n",
       "        var button = $('<button class=\"btn btn-default\" href=\"#\" title=\"' + name + '\"><i class=\"fa ' + image + ' fa-lg\"></i></button>');\n",
       "        button.click(method_name, toolbar_event);\n",
       "        button.mouseover(tooltip, toolbar_mouse_event);\n",
       "        nav_element.append(button);\n",
       "    }\n",
       "\n",
       "    // Add the status bar.\n",
       "    var status_bar = $('<span class=\"mpl-message\" style=\"text-align:right; float: right;\"/>');\n",
       "    nav_element.append(status_bar);\n",
       "    this.message = status_bar[0];\n",
       "\n",
       "    // Add the close button to the window.\n",
       "    var buttongrp = $('<div class=\"btn-group inline pull-right\"></div>');\n",
       "    var button = $('<button class=\"btn btn-mini btn-primary\" href=\"#\" title=\"Stop Interaction\"><i class=\"fa fa-power-off icon-remove icon-large\"></i></button>');\n",
       "    button.click(function (evt) { fig.handle_close(fig, {}); } );\n",
       "    button.mouseover('Stop Interaction', toolbar_mouse_event);\n",
       "    buttongrp.append(button);\n",
       "    var titlebar = this.root.find($('.ui-dialog-titlebar'));\n",
       "    titlebar.prepend(buttongrp);\n",
       "}\n",
       "\n",
       "mpl.figure.prototype._root_extra_style = function(el){\n",
       "    var fig = this\n",
       "    el.on(\"remove\", function(){\n",
       "\tfig.close_ws(fig, {});\n",
       "    });\n",
       "}\n",
       "\n",
       "mpl.figure.prototype._canvas_extra_style = function(el){\n",
       "    // this is important to make the div 'focusable\n",
       "    el.attr('tabindex', 0)\n",
       "    // reach out to IPython and tell the keyboard manager to turn it's self\n",
       "    // off when our div gets focus\n",
       "\n",
       "    // location in version 3\n",
       "    if (IPython.notebook.keyboard_manager) {\n",
       "        IPython.notebook.keyboard_manager.register_events(el);\n",
       "    }\n",
       "    else {\n",
       "        // location in version 2\n",
       "        IPython.keyboard_manager.register_events(el);\n",
       "    }\n",
       "\n",
       "}\n",
       "\n",
       "mpl.figure.prototype._key_event_extra = function(event, name) {\n",
       "    var manager = IPython.notebook.keyboard_manager;\n",
       "    if (!manager)\n",
       "        manager = IPython.keyboard_manager;\n",
       "\n",
       "    // Check for shift+enter\n",
       "    if (event.shiftKey && event.which == 13) {\n",
       "        this.canvas_div.blur();\n",
       "        // select the cell after this one\n",
       "        var index = IPython.notebook.find_cell_index(this.cell_info[0]);\n",
       "        IPython.notebook.select(index + 1);\n",
       "    }\n",
       "}\n",
       "\n",
       "mpl.figure.prototype.handle_save = function(fig, msg) {\n",
       "    fig.ondownload(fig, null);\n",
       "}\n",
       "\n",
       "\n",
       "mpl.find_output_cell = function(html_output) {\n",
       "    // Return the cell and output element which can be found *uniquely* in the notebook.\n",
       "    // Note - this is a bit hacky, but it is done because the \"notebook_saving.Notebook\"\n",
       "    // IPython event is triggered only after the cells have been serialised, which for\n",
       "    // our purposes (turning an active figure into a static one), is too late.\n",
       "    var cells = IPython.notebook.get_cells();\n",
       "    var ncells = cells.length;\n",
       "    for (var i=0; i<ncells; i++) {\n",
       "        var cell = cells[i];\n",
       "        if (cell.cell_type === 'code'){\n",
       "            for (var j=0; j<cell.output_area.outputs.length; j++) {\n",
       "                var data = cell.output_area.outputs[j];\n",
       "                if (data.data) {\n",
       "                    // IPython >= 3 moved mimebundle to data attribute of output\n",
       "                    data = data.data;\n",
       "                }\n",
       "                if (data['text/html'] == html_output) {\n",
       "                    return [cell, data, j];\n",
       "                }\n",
       "            }\n",
       "        }\n",
       "    }\n",
       "}\n",
       "\n",
       "// Register the function which deals with the matplotlib target/channel.\n",
       "// The kernel may be null if the page has been refreshed.\n",
       "if (IPython.notebook.kernel != null) {\n",
       "    IPython.notebook.kernel.comm_manager.register_target('matplotlib', mpl.mpl_figure_comm);\n",
       "}\n"
      ],
      "text/plain": [
       "<IPython.core.display.Javascript object>"
      ]
     },
     "metadata": {},
     "output_type": "display_data"
    },
    {
     "data": {
      "text/html": [
       "<img src=\"data:image/png;base64,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\" width=\"640\">"
      ],
      "text/plain": [
       "<IPython.core.display.HTML object>"
      ]
     },
     "metadata": {},
     "output_type": "display_data"
    },
    {
     "data": {
      "text/plain": [
       "(array([   1.,    0.,    0.,    0.,    0.,    0.,    0.,    0.,    0.,\n",
       "           0.,    0.,    0.,    0.,    0.,    0.,    0.,    0.,    0.,\n",
       "           0.,    0.,    0.,    0.,    0.,    0.,    0.,    0.,    0.,\n",
       "           0.,    0.,    0.,    0.,    0.,    0.,    0.,    0.,    0.,\n",
       "           0.,    0.,    0.,    0.,    0.,    0.,    0.,    0.,    0.,\n",
       "           0.,    0.,    0.,    0.,    0.,    0.,    0.,    0.,    0.,\n",
       "           0.,    0.,    0.,    0.,    0.,    0.,    1.,    0.,    0.,\n",
       "           0.,    0.,    0.,    0.,    0.,    0.,    0.,    0.,    3.,\n",
       "           3.,    4.,    2.,    6.,    5.,   11.,    7.,    8.,   23.,\n",
       "          34.,   43.,   60.,   95.,  147.,  209.,  257.,  320.,  288.,\n",
       "         296.,  210.,  187.,  137.,  100.,   44.,   22.,   18.,   13.,    6.]),\n",
       " array([  0.        ,   0.16416061,   0.32832123,   0.49248184,\n",
       "          0.65664246,   0.82080307,   0.98496368,   1.1491243 ,\n",
       "          1.31328491,   1.47744553,   1.64160614,   1.80576675,\n",
       "          1.96992737,   2.13408798,   2.2982486 ,   2.46240921,\n",
       "          2.62656982,   2.79073044,   2.95489105,   3.11905167,\n",
       "          3.28321228,   3.44737289,   3.61153351,   3.77569412,\n",
       "          3.93985474,   4.10401535,   4.26817596,   4.43233658,\n",
       "          4.59649719,   4.76065781,   4.92481842,   5.08897903,\n",
       "          5.25313965,   5.41730026,   5.58146088,   5.74562149,\n",
       "          5.9097821 ,   6.07394272,   6.23810333,   6.40226395,\n",
       "          6.56642456,   6.73058517,   6.89474579,   7.0589064 ,\n",
       "          7.22306702,   7.38722763,   7.55138824,   7.71554886,\n",
       "          7.87970947,   8.04387009,   8.2080307 ,   8.37219131,\n",
       "          8.53635193,   8.70051254,   8.86467316,   9.02883377,\n",
       "          9.19299438,   9.357155  ,   9.52131561,   9.68547623,\n",
       "          9.84963684,  10.01379745,  10.17795807,  10.34211868,\n",
       "         10.5062793 ,  10.67043991,  10.83460052,  10.99876114,\n",
       "         11.16292175,  11.32708237,  11.49124298,  11.65540359,\n",
       "         11.81956421,  11.98372482,  12.14788544,  12.31204605,\n",
       "         12.47620667,  12.64036728,  12.80452789,  12.96868851,\n",
       "         13.13284912,  13.29700974,  13.46117035,  13.62533096,\n",
       "         13.78949158,  13.95365219,  14.11781281,  14.28197342,\n",
       "         14.44613403,  14.61029465,  14.77445526,  14.93861588,\n",
       "         15.10277649,  15.2669371 ,  15.43109772,  15.59525833,\n",
       "         15.75941895,  15.92357956,  16.08774017,  16.25190079,  16.4160614 ]),\n",
       " <a list of 100 Patch objects>)"
      ]
     },
     "execution_count": 174,
     "metadata": {},
     "output_type": "execute_result"
    }
   ],
   "source": [
    "plt.figure()\n",
    "plt.hist(ds.flatten(), bins=100)\n",
    "plt.show()"
   ]
  },
  {
   "cell_type": "code",
   "execution_count": null,
   "metadata": {
    "collapsed": true
   },
   "outputs": [],
   "source": []
  },
  {
   "cell_type": "code",
   "execution_count": 156,
   "metadata": {
    "collapsed": false
   },
   "outputs": [
    {
     "data": {
      "text/plain": [
       "(256, 10, 256)"
      ]
     },
     "execution_count": 156,
     "metadata": {},
     "output_type": "execute_result"
    }
   ],
   "source": [
    "z_pos.shape"
   ]
  },
  {
   "cell_type": "code",
   "execution_count": 157,
   "metadata": {
    "collapsed": false,
    "scrolled": true
   },
   "outputs": [
    {
     "data": {
      "text/plain": [
       "(256, 256)"
      ]
     },
     "execution_count": 157,
     "metadata": {},
     "output_type": "execute_result"
    }
   ],
   "source": [
    "z_anc.shape"
   ]
  },
  {
   "cell_type": "code",
   "execution_count": null,
   "metadata": {
    "collapsed": true
   },
   "outputs": [],
   "source": []
  },
  {
   "cell_type": "code",
   "execution_count": null,
   "metadata": {
    "collapsed": true
   },
   "outputs": [],
   "source": []
  },
  {
   "cell_type": "code",
   "execution_count": null,
   "metadata": {
    "collapsed": true
   },
   "outputs": [],
   "source": []
  },
  {
   "cell_type": "code",
   "execution_count": null,
   "metadata": {
    "collapsed": true
   },
   "outputs": [],
   "source": []
  },
  {
   "cell_type": "code",
   "execution_count": null,
   "metadata": {
    "collapsed": true
   },
   "outputs": [],
   "source": []
  },
  {
   "cell_type": "code",
   "execution_count": null,
   "metadata": {
    "collapsed": true
   },
   "outputs": [],
   "source": []
  },
  {
   "cell_type": "code",
   "execution_count": 10,
   "metadata": {
    "collapsed": false
   },
   "outputs": [],
   "source": [
    "%matplotlib inline\n",
    "import matplotlib.pylab as plt"
   ]
  },
  {
   "cell_type": "markdown",
   "metadata": {
    "collapsed": true
   },
   "source": [
    "# sklearn stuff"
   ]
  },
  {
   "cell_type": "code",
   "execution_count": 37,
   "metadata": {
    "collapsed": true
   },
   "outputs": [],
   "source": [
    "import sklearn\n",
    "import numpy as np\n",
    "from sklearn.manifold import TSNE\n",
    "from sklearn.metrics.pairwise import manhattan_distances, cosine_distances"
   ]
  },
  {
   "cell_type": "code",
   "execution_count": 40,
   "metadata": {
    "collapsed": true
   },
   "outputs": [],
   "source": [
    "from sklearn.utils.testing import assert_array_almost_equal"
   ]
  },
  {
   "cell_type": "code",
   "execution_count": 45,
   "metadata": {
    "collapsed": true
   },
   "outputs": [],
   "source": [
    "def test_tsne_with_different_distance_metrics():\n",
    "    \"\"\"Make sure that TSNE works for manhattan distance metric\"\"\"\n",
    "    random_state = check_random_state(0)\n",
    "    n_components_original = 3\n",
    "    n_components_embedding = 2\n",
    "    X = random_state.randn(50, n_components_original).astype(np.float32)\n",
    "    \n",
    "    metrics = ['manhattan', 'cosine']\n",
    "    dist_fkts = [manhattan_distances, cosine_distances]\n",
    "    \n",
    "    for metric, dist_fkt in zip(metrics, dist_fkts):\n",
    "    \n",
    "        tsne_1 = TSNE(metric=metric, \n",
    "                  n_components=n_components_embedding, \n",
    "                  random_state=0).fit_transform(X)\n",
    "\n",
    "        tsne_2 = TSNE(metric=metric, \n",
    "                  n_components=n_components_embedding, \n",
    "                  random_state=0).fit_transform(dist_fkt(X))\n",
    "\n",
    "        t = trustworthiness(tsne_1, tsne_2, n_neighbors=1)\n",
    "        \n",
    "        assert_greater(t, 0.9)"
   ]
  },
  {
   "cell_type": "code",
   "execution_count": 46,
   "metadata": {
    "collapsed": true
   },
   "outputs": [
    {
     "ename": "AssertionError",
     "evalue": "\nArrays are not almost equal to 3 decimals\n\n(mismatch 100.0%)\n x: array([[  94.684,   21.941],\n       [ -16.952, -102.455],\n       [  25.949,  -31.307],...\n y: array([[ 14.479,  -4.414],\n       [ -4.506,  24.866],\n       [ -4.75 ,  -5.767],...",
     "output_type": "error",
     "traceback": [
      "\u001b[1;31m---------------------------------------------------------------------------\u001b[0m",
      "\u001b[1;31mAssertionError\u001b[0m                            Traceback (most recent call last)",
      "\u001b[1;32m<ipython-input-46-214324899cc4>\u001b[0m in \u001b[0;36m<module>\u001b[1;34m()\u001b[0m\n\u001b[1;32m----> 1\u001b[1;33m \u001b[0mtest_tsne_with_different_distance_metrics\u001b[0m\u001b[1;33m(\u001b[0m\u001b[1;33m)\u001b[0m\u001b[1;33m\u001b[0m\u001b[0m\n\u001b[0m",
      "\u001b[1;32m<ipython-input-45-8610c6fd6af1>\u001b[0m in \u001b[0;36mtest_tsne_with_different_distance_metrics\u001b[1;34m()\u001b[0m\n\u001b[0;32m     19\u001b[0m                   random_state=0).fit_transform(dist_fkt(X))\n\u001b[0;32m     20\u001b[0m \u001b[1;33m\u001b[0m\u001b[0m\n\u001b[1;32m---> 21\u001b[1;33m         \u001b[0massert_array_almost_equal\u001b[0m\u001b[1;33m(\u001b[0m\u001b[0mtsne_1\u001b[0m\u001b[1;33m,\u001b[0m \u001b[0mtsne_2\u001b[0m\u001b[1;33m,\u001b[0m \u001b[0mdecimal\u001b[0m\u001b[1;33m=\u001b[0m\u001b[1;36m3\u001b[0m\u001b[1;33m)\u001b[0m\u001b[1;33m\u001b[0m\u001b[0m\n\u001b[0m",
      "\u001b[1;32m/net/hciserver03/storage/oblum/venvs/compvisgpu02/lib/python2.7/site-packages/numpy/testing/utils.pyc\u001b[0m in \u001b[0;36massert_array_almost_equal\u001b[1;34m(x, y, decimal, err_msg, verbose)\u001b[0m\n\u001b[0;32m    960\u001b[0m     assert_array_compare(compare, x, y, err_msg=err_msg, verbose=verbose,\n\u001b[0;32m    961\u001b[0m              \u001b[0mheader\u001b[0m\u001b[1;33m=\u001b[0m\u001b[1;33m(\u001b[0m\u001b[1;34m'Arrays are not almost equal to %d decimals'\u001b[0m \u001b[1;33m%\u001b[0m \u001b[0mdecimal\u001b[0m\u001b[1;33m)\u001b[0m\u001b[1;33m,\u001b[0m\u001b[1;33m\u001b[0m\u001b[0m\n\u001b[1;32m--> 962\u001b[1;33m              precision=decimal)\n\u001b[0m\u001b[0;32m    963\u001b[0m \u001b[1;33m\u001b[0m\u001b[0m\n\u001b[0;32m    964\u001b[0m \u001b[1;33m\u001b[0m\u001b[0m\n",
      "\u001b[1;32m/net/hciserver03/storage/oblum/venvs/compvisgpu02/lib/python2.7/site-packages/numpy/testing/utils.pyc\u001b[0m in \u001b[0;36massert_array_compare\u001b[1;34m(comparison, x, y, err_msg, verbose, header, precision, equal_nan, equal_inf)\u001b[0m\n\u001b[0;32m    776\u001b[0m                                 names=('x', 'y'), precision=precision)\n\u001b[0;32m    777\u001b[0m             \u001b[1;32mif\u001b[0m \u001b[1;32mnot\u001b[0m \u001b[0mcond\u001b[0m\u001b[1;33m:\u001b[0m\u001b[1;33m\u001b[0m\u001b[0m\n\u001b[1;32m--> 778\u001b[1;33m                 \u001b[1;32mraise\u001b[0m \u001b[0mAssertionError\u001b[0m\u001b[1;33m(\u001b[0m\u001b[0mmsg\u001b[0m\u001b[1;33m)\u001b[0m\u001b[1;33m\u001b[0m\u001b[0m\n\u001b[0m\u001b[0;32m    779\u001b[0m     \u001b[1;32mexcept\u001b[0m \u001b[0mValueError\u001b[0m\u001b[1;33m:\u001b[0m\u001b[1;33m\u001b[0m\u001b[0m\n\u001b[0;32m    780\u001b[0m         \u001b[1;32mimport\u001b[0m \u001b[0mtraceback\u001b[0m\u001b[1;33m\u001b[0m\u001b[0m\n",
      "\u001b[1;31mAssertionError\u001b[0m: \nArrays are not almost equal to 3 decimals\n\n(mismatch 100.0%)\n x: array([[  94.684,   21.941],\n       [ -16.952, -102.455],\n       [  25.949,  -31.307],...\n y: array([[ 14.479,  -4.414],\n       [ -4.506,  24.866],\n       [ -4.75 ,  -5.767],..."
     ]
    }
   ],
   "source": [
    "test_tsne_with_different_distance_metrics()"
   ]
  },
  {
   "cell_type": "code",
   "execution_count": null,
   "metadata": {
    "collapsed": true
   },
   "outputs": [],
   "source": []
  },
  {
   "cell_type": "code",
   "execution_count": null,
   "metadata": {
    "collapsed": true
   },
   "outputs": [],
   "source": []
  }
 ],
 "metadata": {
  "kernelspec": {
   "display_name": "Python 2",
   "language": "python",
   "name": "python2"
  },
  "language_info": {
   "codemirror_mode": {
    "name": "ipython",
    "version": 2
   },
   "file_extension": ".py",
   "mimetype": "text/x-python",
   "name": "python",
   "nbconvert_exporter": "python",
   "pygments_lexer": "ipython2",
   "version": "2.7.6"
  }
 },
 "nbformat": 4,
 "nbformat_minor": 2
}
