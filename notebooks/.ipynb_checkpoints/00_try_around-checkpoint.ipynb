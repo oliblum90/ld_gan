{
 "cells": [
  {
   "cell_type": "code",
   "execution_count": 1,
   "metadata": {
    "collapsed": false
   },
   "outputs": [],
   "source": [
    "%load_ext autoreload\n",
    "%autoreload 2\n",
    "\n",
    "import os\n",
    "os.chdir(\"../\")\n",
    "\n",
    "%matplotlib notebook\n",
    "import matplotlib.pylab as plt\n",
    "# pylab.rcParams['figure.figsize'] = (10, 5)"
   ]
  },
  {
   "cell_type": "code",
   "execution_count": 6,
   "metadata": {
    "collapsed": true
   },
   "outputs": [],
   "source": [
    "import ld_gan\n",
    "from sklearn.mixture import GaussianMixture\n",
    "from time import time\n",
    "import numpy as np\n",
    "from ld_gan.utils.nearest_neighbors import nn_gpu"
   ]
  },
  {
   "cell_type": "code",
   "execution_count": null,
   "metadata": {
    "collapsed": true
   },
   "outputs": [],
   "source": []
  },
  {
   "cell_type": "code",
   "execution_count": null,
   "metadata": {
    "collapsed": true
   },
   "outputs": [],
   "source": []
  },
  {
   "cell_type": "code",
   "execution_count": 20,
   "metadata": {
    "collapsed": true
   },
   "outputs": [],
   "source": [
    "n_imgs_per_class = 10\n",
    "PROJECT = \"xf_111v1.py\"\n",
    "EPOCH = 350\n",
    "n_imgs = 7"
   ]
  },
  {
   "cell_type": "code",
   "execution_count": 11,
   "metadata": {
    "collapsed": false
   },
   "outputs": [
    {
     "name": "stdout",
     "output_type": "stream",
     "text": [
      "loaded model 'projects/xf_111v1.py/model/g_0350.pth'\n",
      "loaded model 'projects/xf_111v1.py/model/e_0350.pth'\n"
     ]
    }
   ],
   "source": [
    "gen = ld_gan.utils.model_handler.load_model(PROJECT, EPOCH, \"gen\")\n",
    "enc = ld_gan.utils.model_handler.load_model(PROJECT, EPOCH, \"enc\")"
   ]
  },
  {
   "cell_type": "code",
   "execution_count": 3,
   "metadata": {
    "collapsed": false
   },
   "outputs": [
    {
     "name": "stderr",
     "output_type": "stream",
     "text": [
      "100%|██████████| 102/102 [00:56<00:00,  2.19it/s]"
     ]
    },
    {
     "name": "stdout",
     "output_type": "stream",
     "text": [
      "load data from '/export/home/oblum/projects/ld_gan/data/flowers_102/jpg_256'\n"
     ]
    },
    {
     "name": "stderr",
     "output_type": "stream",
     "text": [
      "\n"
     ]
    }
   ],
   "source": [
    "X, Y = ld_gan.data_proc.data_loader.load_data(1, verbose=1, resize = 64)"
   ]
  },
  {
   "cell_type": "code",
   "execution_count": 12,
   "metadata": {
    "collapsed": true
   },
   "outputs": [],
   "source": [
    "Z = ld_gan.utils.model_handler.apply_model(enc, X, 100)"
   ]
  },
  {
   "cell_type": "code",
   "execution_count": 4,
   "metadata": {
    "collapsed": true
   },
   "outputs": [],
   "source": [
    "Y = np.argmax(Y, axis = 1)"
   ]
  },
  {
   "cell_type": "code",
   "execution_count": 14,
   "metadata": {
    "collapsed": true
   },
   "outputs": [],
   "source": [
    "c = 0\n",
    "xc = X[Y==c]\n",
    "zc = Z[Y==c]"
   ]
  },
  {
   "cell_type": "code",
   "execution_count": 8,
   "metadata": {
    "collapsed": true
   },
   "outputs": [],
   "source": [
    "x_batch = xc[np.random.randint(0, len(xc), n_imgs_per_class)]"
   ]
  },
  {
   "cell_type": "code",
   "execution_count": 13,
   "metadata": {
    "collapsed": false
   },
   "outputs": [],
   "source": [
    "z_batch = ld_gan.utils.model_handler.apply_model(enc, x_batch)"
   ]
  },
  {
   "cell_type": "code",
   "execution_count": 18,
   "metadata": {
    "collapsed": false
   },
   "outputs": [],
   "source": [
    "nn_idxs = nn_gpu(zc, z_batch, 2)"
   ]
  },
  {
   "cell_type": "code",
   "execution_count": null,
   "metadata": {
    "collapsed": true
   },
   "outputs": [],
   "source": [
    "for i in range(n_imgs):\n",
    "    \n",
    "    factor = i / float(n_imgs-1.)\n",
    "    \n",
    "    "
   ]
  },
  {
   "cell_type": "code",
   "execution_count": 25,
   "metadata": {
    "collapsed": false
   },
   "outputs": [
    {
     "data": {
      "text/plain": [
       "array([11, 21])"
      ]
     },
     "execution_count": 25,
     "metadata": {},
     "output_type": "execute_result"
    }
   ],
   "source": [
    "nn_idxs[0]"
   ]
  },
  {
   "cell_type": "code",
   "execution_count": 43,
   "metadata": {
    "collapsed": true
   },
   "outputs": [],
   "source": [
    "def get_interpol_imgs_(enc, gen, \n",
    "                        img1, img2, \n",
    "                        n_interpols = 7, \n",
    "                        concat = True):\n",
    "    \n",
    "    z1, z2 = ld_gan.utils.model_handler.apply_model(enc, np.array([img1, img2]))\n",
    "    zs = [z2*factor+z1*(1-factor) for factor in np.linspace(0, 1, n_interpols)]\n",
    "    zs = np.array(zs)\n",
    "    imgs = ld_gan.utils.model_handler.apply_model(gen, zs)\n",
    "    \n",
    "    if concat:\n",
    "        imgs[0] = img1\n",
    "        imgs[-1] = img2\n",
    "        img = np.concatenate(imgs, axis=1)\n",
    "        return img\n",
    "    else:\n",
    "        return imgs"
   ]
  },
  {
   "cell_type": "code",
   "execution_count": 44,
   "metadata": {
    "collapsed": false
   },
   "outputs": [],
   "source": [
    "img = get_interpol_imgs(enc, gen, xc[11], xc[21])"
   ]
  },
  {
   "cell_type": "code",
   "execution_count": 45,
   "metadata": {
    "collapsed": false
   },
   "outputs": [
    {
     "data": {
      "application/javascript": [
       "/* Put everything inside the global mpl namespace */\n",
       "window.mpl = {};\n",
       "\n",
       "\n",
       "mpl.get_websocket_type = function() {\n",
       "    if (typeof(WebSocket) !== 'undefined') {\n",
       "        return WebSocket;\n",
       "    } else if (typeof(MozWebSocket) !== 'undefined') {\n",
       "        return MozWebSocket;\n",
       "    } else {\n",
       "        alert('Your browser does not have WebSocket support.' +\n",
       "              'Please try Chrome, Safari or Firefox ≥ 6. ' +\n",
       "              'Firefox 4 and 5 are also supported but you ' +\n",
       "              'have to enable WebSockets in about:config.');\n",
       "    };\n",
       "}\n",
       "\n",
       "mpl.figure = function(figure_id, websocket, ondownload, parent_element) {\n",
       "    this.id = figure_id;\n",
       "\n",
       "    this.ws = websocket;\n",
       "\n",
       "    this.supports_binary = (this.ws.binaryType != undefined);\n",
       "\n",
       "    if (!this.supports_binary) {\n",
       "        var warnings = document.getElementById(\"mpl-warnings\");\n",
       "        if (warnings) {\n",
       "            warnings.style.display = 'block';\n",
       "            warnings.textContent = (\n",
       "                \"This browser does not support binary websocket messages. \" +\n",
       "                    \"Performance may be slow.\");\n",
       "        }\n",
       "    }\n",
       "\n",
       "    this.imageObj = new Image();\n",
       "\n",
       "    this.context = undefined;\n",
       "    this.message = undefined;\n",
       "    this.canvas = undefined;\n",
       "    this.rubberband_canvas = undefined;\n",
       "    this.rubberband_context = undefined;\n",
       "    this.format_dropdown = undefined;\n",
       "\n",
       "    this.image_mode = 'full';\n",
       "\n",
       "    this.root = $('<div/>');\n",
       "    this._root_extra_style(this.root)\n",
       "    this.root.attr('style', 'display: inline-block');\n",
       "\n",
       "    $(parent_element).append(this.root);\n",
       "\n",
       "    this._init_header(this);\n",
       "    this._init_canvas(this);\n",
       "    this._init_toolbar(this);\n",
       "\n",
       "    var fig = this;\n",
       "\n",
       "    this.waiting = false;\n",
       "\n",
       "    this.ws.onopen =  function () {\n",
       "            fig.send_message(\"supports_binary\", {value: fig.supports_binary});\n",
       "            fig.send_message(\"send_image_mode\", {});\n",
       "            if (mpl.ratio != 1) {\n",
       "                fig.send_message(\"set_dpi_ratio\", {'dpi_ratio': mpl.ratio});\n",
       "            }\n",
       "            fig.send_message(\"refresh\", {});\n",
       "        }\n",
       "\n",
       "    this.imageObj.onload = function() {\n",
       "            if (fig.image_mode == 'full') {\n",
       "                // Full images could contain transparency (where diff images\n",
       "                // almost always do), so we need to clear the canvas so that\n",
       "                // there is no ghosting.\n",
       "                fig.context.clearRect(0, 0, fig.canvas.width, fig.canvas.height);\n",
       "            }\n",
       "            fig.context.drawImage(fig.imageObj, 0, 0);\n",
       "        };\n",
       "\n",
       "    this.imageObj.onunload = function() {\n",
       "        this.ws.close();\n",
       "    }\n",
       "\n",
       "    this.ws.onmessage = this._make_on_message_function(this);\n",
       "\n",
       "    this.ondownload = ondownload;\n",
       "}\n",
       "\n",
       "mpl.figure.prototype._init_header = function() {\n",
       "    var titlebar = $(\n",
       "        '<div class=\"ui-dialog-titlebar ui-widget-header ui-corner-all ' +\n",
       "        'ui-helper-clearfix\"/>');\n",
       "    var titletext = $(\n",
       "        '<div class=\"ui-dialog-title\" style=\"width: 100%; ' +\n",
       "        'text-align: center; padding: 3px;\"/>');\n",
       "    titlebar.append(titletext)\n",
       "    this.root.append(titlebar);\n",
       "    this.header = titletext[0];\n",
       "}\n",
       "\n",
       "\n",
       "\n",
       "mpl.figure.prototype._canvas_extra_style = function(canvas_div) {\n",
       "\n",
       "}\n",
       "\n",
       "\n",
       "mpl.figure.prototype._root_extra_style = function(canvas_div) {\n",
       "\n",
       "}\n",
       "\n",
       "mpl.figure.prototype._init_canvas = function() {\n",
       "    var fig = this;\n",
       "\n",
       "    var canvas_div = $('<div/>');\n",
       "\n",
       "    canvas_div.attr('style', 'position: relative; clear: both; outline: 0');\n",
       "\n",
       "    function canvas_keyboard_event(event) {\n",
       "        return fig.key_event(event, event['data']);\n",
       "    }\n",
       "\n",
       "    canvas_div.keydown('key_press', canvas_keyboard_event);\n",
       "    canvas_div.keyup('key_release', canvas_keyboard_event);\n",
       "    this.canvas_div = canvas_div\n",
       "    this._canvas_extra_style(canvas_div)\n",
       "    this.root.append(canvas_div);\n",
       "\n",
       "    var canvas = $('<canvas/>');\n",
       "    canvas.addClass('mpl-canvas');\n",
       "    canvas.attr('style', \"left: 0; top: 0; z-index: 0; outline: 0\")\n",
       "\n",
       "    this.canvas = canvas[0];\n",
       "    this.context = canvas[0].getContext(\"2d\");\n",
       "\n",
       "    var backingStore = this.context.backingStorePixelRatio ||\n",
       "\tthis.context.webkitBackingStorePixelRatio ||\n",
       "\tthis.context.mozBackingStorePixelRatio ||\n",
       "\tthis.context.msBackingStorePixelRatio ||\n",
       "\tthis.context.oBackingStorePixelRatio ||\n",
       "\tthis.context.backingStorePixelRatio || 1;\n",
       "\n",
       "    mpl.ratio = (window.devicePixelRatio || 1) / backingStore;\n",
       "\n",
       "    var rubberband = $('<canvas/>');\n",
       "    rubberband.attr('style', \"position: absolute; left: 0; top: 0; z-index: 1;\")\n",
       "\n",
       "    var pass_mouse_events = true;\n",
       "\n",
       "    canvas_div.resizable({\n",
       "        start: function(event, ui) {\n",
       "            pass_mouse_events = false;\n",
       "        },\n",
       "        resize: function(event, ui) {\n",
       "            fig.request_resize(ui.size.width, ui.size.height);\n",
       "        },\n",
       "        stop: function(event, ui) {\n",
       "            pass_mouse_events = true;\n",
       "            fig.request_resize(ui.size.width, ui.size.height);\n",
       "        },\n",
       "    });\n",
       "\n",
       "    function mouse_event_fn(event) {\n",
       "        if (pass_mouse_events)\n",
       "            return fig.mouse_event(event, event['data']);\n",
       "    }\n",
       "\n",
       "    rubberband.mousedown('button_press', mouse_event_fn);\n",
       "    rubberband.mouseup('button_release', mouse_event_fn);\n",
       "    // Throttle sequential mouse events to 1 every 20ms.\n",
       "    rubberband.mousemove('motion_notify', mouse_event_fn);\n",
       "\n",
       "    rubberband.mouseenter('figure_enter', mouse_event_fn);\n",
       "    rubberband.mouseleave('figure_leave', mouse_event_fn);\n",
       "\n",
       "    canvas_div.on(\"wheel\", function (event) {\n",
       "        event = event.originalEvent;\n",
       "        event['data'] = 'scroll'\n",
       "        if (event.deltaY < 0) {\n",
       "            event.step = 1;\n",
       "        } else {\n",
       "            event.step = -1;\n",
       "        }\n",
       "        mouse_event_fn(event);\n",
       "    });\n",
       "\n",
       "    canvas_div.append(canvas);\n",
       "    canvas_div.append(rubberband);\n",
       "\n",
       "    this.rubberband = rubberband;\n",
       "    this.rubberband_canvas = rubberband[0];\n",
       "    this.rubberband_context = rubberband[0].getContext(\"2d\");\n",
       "    this.rubberband_context.strokeStyle = \"#000000\";\n",
       "\n",
       "    this._resize_canvas = function(width, height) {\n",
       "        // Keep the size of the canvas, canvas container, and rubber band\n",
       "        // canvas in synch.\n",
       "        canvas_div.css('width', width)\n",
       "        canvas_div.css('height', height)\n",
       "\n",
       "        canvas.attr('width', width * mpl.ratio);\n",
       "        canvas.attr('height', height * mpl.ratio);\n",
       "        canvas.attr('style', 'width: ' + width + 'px; height: ' + height + 'px;');\n",
       "\n",
       "        rubberband.attr('width', width);\n",
       "        rubberband.attr('height', height);\n",
       "    }\n",
       "\n",
       "    // Set the figure to an initial 600x600px, this will subsequently be updated\n",
       "    // upon first draw.\n",
       "    this._resize_canvas(600, 600);\n",
       "\n",
       "    // Disable right mouse context menu.\n",
       "    $(this.rubberband_canvas).bind(\"contextmenu\",function(e){\n",
       "        return false;\n",
       "    });\n",
       "\n",
       "    function set_focus () {\n",
       "        canvas.focus();\n",
       "        canvas_div.focus();\n",
       "    }\n",
       "\n",
       "    window.setTimeout(set_focus, 100);\n",
       "}\n",
       "\n",
       "mpl.figure.prototype._init_toolbar = function() {\n",
       "    var fig = this;\n",
       "\n",
       "    var nav_element = $('<div/>')\n",
       "    nav_element.attr('style', 'width: 100%');\n",
       "    this.root.append(nav_element);\n",
       "\n",
       "    // Define a callback function for later on.\n",
       "    function toolbar_event(event) {\n",
       "        return fig.toolbar_button_onclick(event['data']);\n",
       "    }\n",
       "    function toolbar_mouse_event(event) {\n",
       "        return fig.toolbar_button_onmouseover(event['data']);\n",
       "    }\n",
       "\n",
       "    for(var toolbar_ind in mpl.toolbar_items) {\n",
       "        var name = mpl.toolbar_items[toolbar_ind][0];\n",
       "        var tooltip = mpl.toolbar_items[toolbar_ind][1];\n",
       "        var image = mpl.toolbar_items[toolbar_ind][2];\n",
       "        var method_name = mpl.toolbar_items[toolbar_ind][3];\n",
       "\n",
       "        if (!name) {\n",
       "            // put a spacer in here.\n",
       "            continue;\n",
       "        }\n",
       "        var button = $('<button/>');\n",
       "        button.addClass('ui-button ui-widget ui-state-default ui-corner-all ' +\n",
       "                        'ui-button-icon-only');\n",
       "        button.attr('role', 'button');\n",
       "        button.attr('aria-disabled', 'false');\n",
       "        button.click(method_name, toolbar_event);\n",
       "        button.mouseover(tooltip, toolbar_mouse_event);\n",
       "\n",
       "        var icon_img = $('<span/>');\n",
       "        icon_img.addClass('ui-button-icon-primary ui-icon');\n",
       "        icon_img.addClass(image);\n",
       "        icon_img.addClass('ui-corner-all');\n",
       "\n",
       "        var tooltip_span = $('<span/>');\n",
       "        tooltip_span.addClass('ui-button-text');\n",
       "        tooltip_span.html(tooltip);\n",
       "\n",
       "        button.append(icon_img);\n",
       "        button.append(tooltip_span);\n",
       "\n",
       "        nav_element.append(button);\n",
       "    }\n",
       "\n",
       "    var fmt_picker_span = $('<span/>');\n",
       "\n",
       "    var fmt_picker = $('<select/>');\n",
       "    fmt_picker.addClass('mpl-toolbar-option ui-widget ui-widget-content');\n",
       "    fmt_picker_span.append(fmt_picker);\n",
       "    nav_element.append(fmt_picker_span);\n",
       "    this.format_dropdown = fmt_picker[0];\n",
       "\n",
       "    for (var ind in mpl.extensions) {\n",
       "        var fmt = mpl.extensions[ind];\n",
       "        var option = $(\n",
       "            '<option/>', {selected: fmt === mpl.default_extension}).html(fmt);\n",
       "        fmt_picker.append(option)\n",
       "    }\n",
       "\n",
       "    // Add hover states to the ui-buttons\n",
       "    $( \".ui-button\" ).hover(\n",
       "        function() { $(this).addClass(\"ui-state-hover\");},\n",
       "        function() { $(this).removeClass(\"ui-state-hover\");}\n",
       "    );\n",
       "\n",
       "    var status_bar = $('<span class=\"mpl-message\"/>');\n",
       "    nav_element.append(status_bar);\n",
       "    this.message = status_bar[0];\n",
       "}\n",
       "\n",
       "mpl.figure.prototype.request_resize = function(x_pixels, y_pixels) {\n",
       "    // Request matplotlib to resize the figure. Matplotlib will then trigger a resize in the client,\n",
       "    // which will in turn request a refresh of the image.\n",
       "    this.send_message('resize', {'width': x_pixels, 'height': y_pixels});\n",
       "}\n",
       "\n",
       "mpl.figure.prototype.send_message = function(type, properties) {\n",
       "    properties['type'] = type;\n",
       "    properties['figure_id'] = this.id;\n",
       "    this.ws.send(JSON.stringify(properties));\n",
       "}\n",
       "\n",
       "mpl.figure.prototype.send_draw_message = function() {\n",
       "    if (!this.waiting) {\n",
       "        this.waiting = true;\n",
       "        this.ws.send(JSON.stringify({type: \"draw\", figure_id: this.id}));\n",
       "    }\n",
       "}\n",
       "\n",
       "\n",
       "mpl.figure.prototype.handle_save = function(fig, msg) {\n",
       "    var format_dropdown = fig.format_dropdown;\n",
       "    var format = format_dropdown.options[format_dropdown.selectedIndex].value;\n",
       "    fig.ondownload(fig, format);\n",
       "}\n",
       "\n",
       "\n",
       "mpl.figure.prototype.handle_resize = function(fig, msg) {\n",
       "    var size = msg['size'];\n",
       "    if (size[0] != fig.canvas.width || size[1] != fig.canvas.height) {\n",
       "        fig._resize_canvas(size[0], size[1]);\n",
       "        fig.send_message(\"refresh\", {});\n",
       "    };\n",
       "}\n",
       "\n",
       "mpl.figure.prototype.handle_rubberband = function(fig, msg) {\n",
       "    var x0 = msg['x0'] / mpl.ratio;\n",
       "    var y0 = (fig.canvas.height - msg['y0']) / mpl.ratio;\n",
       "    var x1 = msg['x1'] / mpl.ratio;\n",
       "    var y1 = (fig.canvas.height - msg['y1']) / mpl.ratio;\n",
       "    x0 = Math.floor(x0) + 0.5;\n",
       "    y0 = Math.floor(y0) + 0.5;\n",
       "    x1 = Math.floor(x1) + 0.5;\n",
       "    y1 = Math.floor(y1) + 0.5;\n",
       "    var min_x = Math.min(x0, x1);\n",
       "    var min_y = Math.min(y0, y1);\n",
       "    var width = Math.abs(x1 - x0);\n",
       "    var height = Math.abs(y1 - y0);\n",
       "\n",
       "    fig.rubberband_context.clearRect(\n",
       "        0, 0, fig.canvas.width, fig.canvas.height);\n",
       "\n",
       "    fig.rubberband_context.strokeRect(min_x, min_y, width, height);\n",
       "}\n",
       "\n",
       "mpl.figure.prototype.handle_figure_label = function(fig, msg) {\n",
       "    // Updates the figure title.\n",
       "    fig.header.textContent = msg['label'];\n",
       "}\n",
       "\n",
       "mpl.figure.prototype.handle_cursor = function(fig, msg) {\n",
       "    var cursor = msg['cursor'];\n",
       "    switch(cursor)\n",
       "    {\n",
       "    case 0:\n",
       "        cursor = 'pointer';\n",
       "        break;\n",
       "    case 1:\n",
       "        cursor = 'default';\n",
       "        break;\n",
       "    case 2:\n",
       "        cursor = 'crosshair';\n",
       "        break;\n",
       "    case 3:\n",
       "        cursor = 'move';\n",
       "        break;\n",
       "    }\n",
       "    fig.rubberband_canvas.style.cursor = cursor;\n",
       "}\n",
       "\n",
       "mpl.figure.prototype.handle_message = function(fig, msg) {\n",
       "    fig.message.textContent = msg['message'];\n",
       "}\n",
       "\n",
       "mpl.figure.prototype.handle_draw = function(fig, msg) {\n",
       "    // Request the server to send over a new figure.\n",
       "    fig.send_draw_message();\n",
       "}\n",
       "\n",
       "mpl.figure.prototype.handle_image_mode = function(fig, msg) {\n",
       "    fig.image_mode = msg['mode'];\n",
       "}\n",
       "\n",
       "mpl.figure.prototype.updated_canvas_event = function() {\n",
       "    // Called whenever the canvas gets updated.\n",
       "    this.send_message(\"ack\", {});\n",
       "}\n",
       "\n",
       "// A function to construct a web socket function for onmessage handling.\n",
       "// Called in the figure constructor.\n",
       "mpl.figure.prototype._make_on_message_function = function(fig) {\n",
       "    return function socket_on_message(evt) {\n",
       "        if (evt.data instanceof Blob) {\n",
       "            /* FIXME: We get \"Resource interpreted as Image but\n",
       "             * transferred with MIME type text/plain:\" errors on\n",
       "             * Chrome.  But how to set the MIME type?  It doesn't seem\n",
       "             * to be part of the websocket stream */\n",
       "            evt.data.type = \"image/png\";\n",
       "\n",
       "            /* Free the memory for the previous frames */\n",
       "            if (fig.imageObj.src) {\n",
       "                (window.URL || window.webkitURL).revokeObjectURL(\n",
       "                    fig.imageObj.src);\n",
       "            }\n",
       "\n",
       "            fig.imageObj.src = (window.URL || window.webkitURL).createObjectURL(\n",
       "                evt.data);\n",
       "            fig.updated_canvas_event();\n",
       "            fig.waiting = false;\n",
       "            return;\n",
       "        }\n",
       "        else if (typeof evt.data === 'string' && evt.data.slice(0, 21) == \"data:image/png;base64\") {\n",
       "            fig.imageObj.src = evt.data;\n",
       "            fig.updated_canvas_event();\n",
       "            fig.waiting = false;\n",
       "            return;\n",
       "        }\n",
       "\n",
       "        var msg = JSON.parse(evt.data);\n",
       "        var msg_type = msg['type'];\n",
       "\n",
       "        // Call the  \"handle_{type}\" callback, which takes\n",
       "        // the figure and JSON message as its only arguments.\n",
       "        try {\n",
       "            var callback = fig[\"handle_\" + msg_type];\n",
       "        } catch (e) {\n",
       "            console.log(\"No handler for the '\" + msg_type + \"' message type: \", msg);\n",
       "            return;\n",
       "        }\n",
       "\n",
       "        if (callback) {\n",
       "            try {\n",
       "                // console.log(\"Handling '\" + msg_type + \"' message: \", msg);\n",
       "                callback(fig, msg);\n",
       "            } catch (e) {\n",
       "                console.log(\"Exception inside the 'handler_\" + msg_type + \"' callback:\", e, e.stack, msg);\n",
       "            }\n",
       "        }\n",
       "    };\n",
       "}\n",
       "\n",
       "// from http://stackoverflow.com/questions/1114465/getting-mouse-location-in-canvas\n",
       "mpl.findpos = function(e) {\n",
       "    //this section is from http://www.quirksmode.org/js/events_properties.html\n",
       "    var targ;\n",
       "    if (!e)\n",
       "        e = window.event;\n",
       "    if (e.target)\n",
       "        targ = e.target;\n",
       "    else if (e.srcElement)\n",
       "        targ = e.srcElement;\n",
       "    if (targ.nodeType == 3) // defeat Safari bug\n",
       "        targ = targ.parentNode;\n",
       "\n",
       "    // jQuery normalizes the pageX and pageY\n",
       "    // pageX,Y are the mouse positions relative to the document\n",
       "    // offset() returns the position of the element relative to the document\n",
       "    var x = e.pageX - $(targ).offset().left;\n",
       "    var y = e.pageY - $(targ).offset().top;\n",
       "\n",
       "    return {\"x\": x, \"y\": y};\n",
       "};\n",
       "\n",
       "/*\n",
       " * return a copy of an object with only non-object keys\n",
       " * we need this to avoid circular references\n",
       " * http://stackoverflow.com/a/24161582/3208463\n",
       " */\n",
       "function simpleKeys (original) {\n",
       "  return Object.keys(original).reduce(function (obj, key) {\n",
       "    if (typeof original[key] !== 'object')\n",
       "        obj[key] = original[key]\n",
       "    return obj;\n",
       "  }, {});\n",
       "}\n",
       "\n",
       "mpl.figure.prototype.mouse_event = function(event, name) {\n",
       "    var canvas_pos = mpl.findpos(event)\n",
       "\n",
       "    if (name === 'button_press')\n",
       "    {\n",
       "        this.canvas.focus();\n",
       "        this.canvas_div.focus();\n",
       "    }\n",
       "\n",
       "    var x = canvas_pos.x * mpl.ratio;\n",
       "    var y = canvas_pos.y * mpl.ratio;\n",
       "\n",
       "    this.send_message(name, {x: x, y: y, button: event.button,\n",
       "                             step: event.step,\n",
       "                             guiEvent: simpleKeys(event)});\n",
       "\n",
       "    /* This prevents the web browser from automatically changing to\n",
       "     * the text insertion cursor when the button is pressed.  We want\n",
       "     * to control all of the cursor setting manually through the\n",
       "     * 'cursor' event from matplotlib */\n",
       "    event.preventDefault();\n",
       "    return false;\n",
       "}\n",
       "\n",
       "mpl.figure.prototype._key_event_extra = function(event, name) {\n",
       "    // Handle any extra behaviour associated with a key event\n",
       "}\n",
       "\n",
       "mpl.figure.prototype.key_event = function(event, name) {\n",
       "\n",
       "    // Prevent repeat events\n",
       "    if (name == 'key_press')\n",
       "    {\n",
       "        if (event.which === this._key)\n",
       "            return;\n",
       "        else\n",
       "            this._key = event.which;\n",
       "    }\n",
       "    if (name == 'key_release')\n",
       "        this._key = null;\n",
       "\n",
       "    var value = '';\n",
       "    if (event.ctrlKey && event.which != 17)\n",
       "        value += \"ctrl+\";\n",
       "    if (event.altKey && event.which != 18)\n",
       "        value += \"alt+\";\n",
       "    if (event.shiftKey && event.which != 16)\n",
       "        value += \"shift+\";\n",
       "\n",
       "    value += 'k';\n",
       "    value += event.which.toString();\n",
       "\n",
       "    this._key_event_extra(event, name);\n",
       "\n",
       "    this.send_message(name, {key: value,\n",
       "                             guiEvent: simpleKeys(event)});\n",
       "    return false;\n",
       "}\n",
       "\n",
       "mpl.figure.prototype.toolbar_button_onclick = function(name) {\n",
       "    if (name == 'download') {\n",
       "        this.handle_save(this, null);\n",
       "    } else {\n",
       "        this.send_message(\"toolbar_button\", {name: name});\n",
       "    }\n",
       "};\n",
       "\n",
       "mpl.figure.prototype.toolbar_button_onmouseover = function(tooltip) {\n",
       "    this.message.textContent = tooltip;\n",
       "};\n",
       "mpl.toolbar_items = [[\"Home\", \"Reset original view\", \"fa fa-home icon-home\", \"home\"], [\"Back\", \"Back to  previous view\", \"fa fa-arrow-left icon-arrow-left\", \"back\"], [\"Forward\", \"Forward to next view\", \"fa fa-arrow-right icon-arrow-right\", \"forward\"], [\"\", \"\", \"\", \"\"], [\"Pan\", \"Pan axes with left mouse, zoom with right\", \"fa fa-arrows icon-move\", \"pan\"], [\"Zoom\", \"Zoom to rectangle\", \"fa fa-square-o icon-check-empty\", \"zoom\"], [\"\", \"\", \"\", \"\"], [\"Download\", \"Download plot\", \"fa fa-floppy-o icon-save\", \"download\"]];\n",
       "\n",
       "mpl.extensions = [\"eps\", \"jpeg\", \"pdf\", \"png\", \"ps\", \"raw\", \"svg\", \"tif\"];\n",
       "\n",
       "mpl.default_extension = \"png\";var comm_websocket_adapter = function(comm) {\n",
       "    // Create a \"websocket\"-like object which calls the given IPython comm\n",
       "    // object with the appropriate methods. Currently this is a non binary\n",
       "    // socket, so there is still some room for performance tuning.\n",
       "    var ws = {};\n",
       "\n",
       "    ws.close = function() {\n",
       "        comm.close()\n",
       "    };\n",
       "    ws.send = function(m) {\n",
       "        //console.log('sending', m);\n",
       "        comm.send(m);\n",
       "    };\n",
       "    // Register the callback with on_msg.\n",
       "    comm.on_msg(function(msg) {\n",
       "        //console.log('receiving', msg['content']['data'], msg);\n",
       "        // Pass the mpl event to the overriden (by mpl) onmessage function.\n",
       "        ws.onmessage(msg['content']['data'])\n",
       "    });\n",
       "    return ws;\n",
       "}\n",
       "\n",
       "mpl.mpl_figure_comm = function(comm, msg) {\n",
       "    // This is the function which gets called when the mpl process\n",
       "    // starts-up an IPython Comm through the \"matplotlib\" channel.\n",
       "\n",
       "    var id = msg.content.data.id;\n",
       "    // Get hold of the div created by the display call when the Comm\n",
       "    // socket was opened in Python.\n",
       "    var element = $(\"#\" + id);\n",
       "    var ws_proxy = comm_websocket_adapter(comm)\n",
       "\n",
       "    function ondownload(figure, format) {\n",
       "        window.open(figure.imageObj.src);\n",
       "    }\n",
       "\n",
       "    var fig = new mpl.figure(id, ws_proxy,\n",
       "                           ondownload,\n",
       "                           element.get(0));\n",
       "\n",
       "    // Call onopen now - mpl needs it, as it is assuming we've passed it a real\n",
       "    // web socket which is closed, not our websocket->open comm proxy.\n",
       "    ws_proxy.onopen();\n",
       "\n",
       "    fig.parent_element = element.get(0);\n",
       "    fig.cell_info = mpl.find_output_cell(\"<div id='\" + id + \"'></div>\");\n",
       "    if (!fig.cell_info) {\n",
       "        console.error(\"Failed to find cell for figure\", id, fig);\n",
       "        return;\n",
       "    }\n",
       "\n",
       "    var output_index = fig.cell_info[2]\n",
       "    var cell = fig.cell_info[0];\n",
       "\n",
       "};\n",
       "\n",
       "mpl.figure.prototype.handle_close = function(fig, msg) {\n",
       "    var width = fig.canvas.width/mpl.ratio\n",
       "    fig.root.unbind('remove')\n",
       "\n",
       "    // Update the output cell to use the data from the current canvas.\n",
       "    fig.push_to_output();\n",
       "    var dataURL = fig.canvas.toDataURL();\n",
       "    // Re-enable the keyboard manager in IPython - without this line, in FF,\n",
       "    // the notebook keyboard shortcuts fail.\n",
       "    IPython.keyboard_manager.enable()\n",
       "    $(fig.parent_element).html('<img src=\"' + dataURL + '\" width=\"' + width + '\">');\n",
       "    fig.close_ws(fig, msg);\n",
       "}\n",
       "\n",
       "mpl.figure.prototype.close_ws = function(fig, msg){\n",
       "    fig.send_message('closing', msg);\n",
       "    // fig.ws.close()\n",
       "}\n",
       "\n",
       "mpl.figure.prototype.push_to_output = function(remove_interactive) {\n",
       "    // Turn the data on the canvas into data in the output cell.\n",
       "    var width = this.canvas.width/mpl.ratio\n",
       "    var dataURL = this.canvas.toDataURL();\n",
       "    this.cell_info[1]['text/html'] = '<img src=\"' + dataURL + '\" width=\"' + width + '\">';\n",
       "}\n",
       "\n",
       "mpl.figure.prototype.updated_canvas_event = function() {\n",
       "    // Tell IPython that the notebook contents must change.\n",
       "    IPython.notebook.set_dirty(true);\n",
       "    this.send_message(\"ack\", {});\n",
       "    var fig = this;\n",
       "    // Wait a second, then push the new image to the DOM so\n",
       "    // that it is saved nicely (might be nice to debounce this).\n",
       "    setTimeout(function () { fig.push_to_output() }, 1000);\n",
       "}\n",
       "\n",
       "mpl.figure.prototype._init_toolbar = function() {\n",
       "    var fig = this;\n",
       "\n",
       "    var nav_element = $('<div/>')\n",
       "    nav_element.attr('style', 'width: 100%');\n",
       "    this.root.append(nav_element);\n",
       "\n",
       "    // Define a callback function for later on.\n",
       "    function toolbar_event(event) {\n",
       "        return fig.toolbar_button_onclick(event['data']);\n",
       "    }\n",
       "    function toolbar_mouse_event(event) {\n",
       "        return fig.toolbar_button_onmouseover(event['data']);\n",
       "    }\n",
       "\n",
       "    for(var toolbar_ind in mpl.toolbar_items){\n",
       "        var name = mpl.toolbar_items[toolbar_ind][0];\n",
       "        var tooltip = mpl.toolbar_items[toolbar_ind][1];\n",
       "        var image = mpl.toolbar_items[toolbar_ind][2];\n",
       "        var method_name = mpl.toolbar_items[toolbar_ind][3];\n",
       "\n",
       "        if (!name) { continue; };\n",
       "\n",
       "        var button = $('<button class=\"btn btn-default\" href=\"#\" title=\"' + name + '\"><i class=\"fa ' + image + ' fa-lg\"></i></button>');\n",
       "        button.click(method_name, toolbar_event);\n",
       "        button.mouseover(tooltip, toolbar_mouse_event);\n",
       "        nav_element.append(button);\n",
       "    }\n",
       "\n",
       "    // Add the status bar.\n",
       "    var status_bar = $('<span class=\"mpl-message\" style=\"text-align:right; float: right;\"/>');\n",
       "    nav_element.append(status_bar);\n",
       "    this.message = status_bar[0];\n",
       "\n",
       "    // Add the close button to the window.\n",
       "    var buttongrp = $('<div class=\"btn-group inline pull-right\"></div>');\n",
       "    var button = $('<button class=\"btn btn-mini btn-primary\" href=\"#\" title=\"Stop Interaction\"><i class=\"fa fa-power-off icon-remove icon-large\"></i></button>');\n",
       "    button.click(function (evt) { fig.handle_close(fig, {}); } );\n",
       "    button.mouseover('Stop Interaction', toolbar_mouse_event);\n",
       "    buttongrp.append(button);\n",
       "    var titlebar = this.root.find($('.ui-dialog-titlebar'));\n",
       "    titlebar.prepend(buttongrp);\n",
       "}\n",
       "\n",
       "mpl.figure.prototype._root_extra_style = function(el){\n",
       "    var fig = this\n",
       "    el.on(\"remove\", function(){\n",
       "\tfig.close_ws(fig, {});\n",
       "    });\n",
       "}\n",
       "\n",
       "mpl.figure.prototype._canvas_extra_style = function(el){\n",
       "    // this is important to make the div 'focusable\n",
       "    el.attr('tabindex', 0)\n",
       "    // reach out to IPython and tell the keyboard manager to turn it's self\n",
       "    // off when our div gets focus\n",
       "\n",
       "    // location in version 3\n",
       "    if (IPython.notebook.keyboard_manager) {\n",
       "        IPython.notebook.keyboard_manager.register_events(el);\n",
       "    }\n",
       "    else {\n",
       "        // location in version 2\n",
       "        IPython.keyboard_manager.register_events(el);\n",
       "    }\n",
       "\n",
       "}\n",
       "\n",
       "mpl.figure.prototype._key_event_extra = function(event, name) {\n",
       "    var manager = IPython.notebook.keyboard_manager;\n",
       "    if (!manager)\n",
       "        manager = IPython.keyboard_manager;\n",
       "\n",
       "    // Check for shift+enter\n",
       "    if (event.shiftKey && event.which == 13) {\n",
       "        this.canvas_div.blur();\n",
       "        // select the cell after this one\n",
       "        var index = IPython.notebook.find_cell_index(this.cell_info[0]);\n",
       "        IPython.notebook.select(index + 1);\n",
       "    }\n",
       "}\n",
       "\n",
       "mpl.figure.prototype.handle_save = function(fig, msg) {\n",
       "    fig.ondownload(fig, null);\n",
       "}\n",
       "\n",
       "\n",
       "mpl.find_output_cell = function(html_output) {\n",
       "    // Return the cell and output element which can be found *uniquely* in the notebook.\n",
       "    // Note - this is a bit hacky, but it is done because the \"notebook_saving.Notebook\"\n",
       "    // IPython event is triggered only after the cells have been serialised, which for\n",
       "    // our purposes (turning an active figure into a static one), is too late.\n",
       "    var cells = IPython.notebook.get_cells();\n",
       "    var ncells = cells.length;\n",
       "    for (var i=0; i<ncells; i++) {\n",
       "        var cell = cells[i];\n",
       "        if (cell.cell_type === 'code'){\n",
       "            for (var j=0; j<cell.output_area.outputs.length; j++) {\n",
       "                var data = cell.output_area.outputs[j];\n",
       "                if (data.data) {\n",
       "                    // IPython >= 3 moved mimebundle to data attribute of output\n",
       "                    data = data.data;\n",
       "                }\n",
       "                if (data['text/html'] == html_output) {\n",
       "                    return [cell, data, j];\n",
       "                }\n",
       "            }\n",
       "        }\n",
       "    }\n",
       "}\n",
       "\n",
       "// Register the function which deals with the matplotlib target/channel.\n",
       "// The kernel may be null if the page has been refreshed.\n",
       "if (IPython.notebook.kernel != null) {\n",
       "    IPython.notebook.kernel.comm_manager.register_target('matplotlib', mpl.mpl_figure_comm);\n",
       "}\n"
      ],
      "text/plain": [
       "<IPython.core.display.Javascript object>"
      ]
     },
     "metadata": {},
     "output_type": "display_data"
    },
    {
     "data": {
      "text/html": [
       "<img src=\"data:image/png;base64,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\" width=\"640\">"
      ],
      "text/plain": [
       "<IPython.core.display.HTML object>"
      ]
     },
     "metadata": {},
     "output_type": "display_data"
    }
   ],
   "source": [
    "ld_gan.visualize.disp(np.array([img]))"
   ]
  },
  {
   "cell_type": "code",
   "execution_count": null,
   "metadata": {
    "collapsed": true
   },
   "outputs": [],
   "source": []
  },
  {
   "cell_type": "code",
   "execution_count": null,
   "metadata": {
    "collapsed": true
   },
   "outputs": [],
   "source": []
  },
  {
   "cell_type": "code",
   "execution_count": 21,
   "metadata": {
    "collapsed": true
   },
   "outputs": [],
   "source": [
    "n_interpols = 7"
   ]
  },
  {
   "cell_type": "code",
   "execution_count": 22,
   "metadata": {
    "collapsed": false
   },
   "outputs": [
    {
     "data": {
      "text/plain": [
       "[0.0,\n",
       " 0.16666666666666666,\n",
       " 0.3333333333333333,\n",
       " 0.5,\n",
       " 0.6666666666666666,\n",
       " 0.8333333333333334,\n",
       " 1.0]"
      ]
     },
     "execution_count": 22,
     "metadata": {},
     "output_type": "execute_result"
    }
   ],
   "source": [
    "[idx / float(n_interpols-1.) for idx in range(n_interpols)]"
   ]
  },
  {
   "cell_type": "code",
   "execution_count": 23,
   "metadata": {
    "collapsed": false
   },
   "outputs": [
    {
     "data": {
      "text/plain": [
       "array([ 0.        ,  0.16666667,  0.33333333,  0.5       ,  0.66666667,\n",
       "        0.83333333,  1.        ])"
      ]
     },
     "execution_count": 23,
     "metadata": {},
     "output_type": "execute_result"
    }
   ],
   "source": [
    "np.linspace(0, 1, n_interpols)"
   ]
  },
  {
   "cell_type": "code",
   "execution_count": null,
   "metadata": {
    "collapsed": true
   },
   "outputs": [],
   "source": []
  },
  {
   "cell_type": "code",
   "execution_count": null,
   "metadata": {
    "collapsed": true
   },
   "outputs": [],
   "source": []
  },
  {
   "cell_type": "code",
   "execution_count": 19,
   "metadata": {
    "collapsed": false
   },
   "outputs": [
    {
     "data": {
      "text/plain": [
       "array([[11, 21],\n",
       "       [30, 13],\n",
       "       [23, 24],\n",
       "       [ 1, 21],\n",
       "       [10, 16],\n",
       "       [37, 29],\n",
       "       [ 9,  8],\n",
       "       [14, 29],\n",
       "       [33,  7],\n",
       "       [13, 35]])"
      ]
     },
     "execution_count": 19,
     "metadata": {},
     "output_type": "execute_result"
    }
   ],
   "source": [
    "for x in range(n_imgs_x):\n",
    "    for y in range(n_imgs_y):\n",
    "\n",
    "        x_factor = x / float(n_imgs-1.)\n",
    "        y_factor = y / float(n_imgs-1.)\n",
    "\n",
    "\n",
    "        z_00_factor = (1. - x_factor) * (1. - y_factor)\n",
    "        z_10_factor = (x_factor) * (1. - y_factor)\n",
    "        z_01_factor = (1. - x_factor) * (y_factor)\n",
    "        z_11_factor = (x_factor) * (y_factor)\n",
    "\n",
    "        z_enc = Z_enc_00 * z_00_factor + \\\n",
    "                Z_enc_10 * z_10_factor + \\\n",
    "                Z_enc_01 * z_01_factor + \\\n",
    "                Z_enc_11 * z_11_factor\n",
    "\n",
    "        z_enc = np.array([z_enc])\n",
    "\n",
    "        if sampler is not None:\n",
    "            z_enc = sampler(z_enc)\n",
    "\n",
    "        img_fake = ld_gan.utils.model_handler.apply_model(gen, z_enc)\n",
    "\n",
    "        pos_x_min = x * img_size\n",
    "        pos_x_max = (x+1) * img_size\n",
    "        pos_y_min = y * img_size\n",
    "        pos_y_max = (y+1) * img_size\n",
    "\n",
    "        arr_img[pos_x_min:pos_x_max, pos_y_min:pos_y_max] = img_fake"
   ]
  },
  {
   "cell_type": "code",
   "execution_count": null,
   "metadata": {
    "collapsed": true
   },
   "outputs": [],
   "source": []
  },
  {
   "cell_type": "code",
   "execution_count": null,
   "metadata": {
    "collapsed": true
   },
   "outputs": [],
   "source": []
  },
  {
   "cell_type": "code",
   "execution_count": null,
   "metadata": {
    "collapsed": true
   },
   "outputs": [],
   "source": []
  },
  {
   "cell_type": "code",
   "execution_count": null,
   "metadata": {
    "collapsed": true
   },
   "outputs": [],
   "source": []
  },
  {
   "cell_type": "code",
   "execution_count": null,
   "metadata": {
    "collapsed": true
   },
   "outputs": [],
   "source": []
  },
  {
   "cell_type": "code",
   "execution_count": null,
   "metadata": {
    "collapsed": true
   },
   "outputs": [],
   "source": []
  },
  {
   "cell_type": "code",
   "execution_count": 10,
   "metadata": {
    "collapsed": false
   },
   "outputs": [
    {
     "name": "stdout",
     "output_type": "stream",
     "text": [
      "loaded model 'projects/xf_111v1.py/model/e_0350.pth'\n"
     ]
    }
   ],
   "source": [
    "BATCH_SIZE  = 128\n",
    "PROJECT = \"xf_111v1.py\"\n",
    "EPOCH = 350\n",
    "enc = ld_gan.utils.model_handler.load_model(PROJECT, EPOCH, \"enc\")\n",
    "sampler = ld_gan.sample.nn_sampler_life(enc, X, Y, \n",
    "                                        BATCH_SIZE, \n",
    "                                        nn_search_radius = 10,\n",
    "                                        n_neighbors = 2)"
   ]
  },
  {
   "cell_type": "code",
   "execution_count": 11,
   "metadata": {
    "collapsed": false
   },
   "outputs": [],
   "source": [
    "_, _, Z, _, nn_idxs, _, _ = sampler.next()"
   ]
  },
  {
   "cell_type": "code",
   "execution_count": 22,
   "metadata": {
    "collapsed": false
   },
   "outputs": [],
   "source": [
    "nn_idxs = np.array(nn_idxs)"
   ]
  },
  {
   "cell_type": "code",
   "execution_count": 44,
   "metadata": {
    "collapsed": false
   },
   "outputs": [],
   "source": [
    "y = Y[nn_idxs[:, 0]] == Y[nn_idxs[:, 1]]\n",
    "y = y.astype(np.int)\n",
    "y[y==0] = -1\n",
    "y[y==1] = Y[nn_idxs[:, 0]][y==1]"
   ]
  },
  {
   "cell_type": "code",
   "execution_count": 45,
   "metadata": {
    "collapsed": false
   },
   "outputs": [
    {
     "data": {
      "text/plain": [
       "array([ -1,  98,  -1,  -1,  63,  13,  84,  49,  90,  99,  67,  44,  -1,\n",
       "        54,  45,  48,  81,   3,  -1,  74,  15,  36,  82,  73,  59, 101,\n",
       "        62,  -1,  33,  90,  48,  33,  74,  45,  -1,  -1,  -1,  -1,  45,\n",
       "        -1,  95,  97,  -1,  -1,  83,  -1,  70,  29,  -1,  -1,  19,  -1,\n",
       "        -1,  -1,  -1,  74,  -1,  63,  21,  -1,  -1,  -1,  -1,  11,  99,\n",
       "        -1,  85,  15,  47,  77,  59,  59,  -1,  -1,  -1,  -1,  -1,  59,\n",
       "        67,  -1,  97,  -1,  -1,  -1,  93,  87,  90,  -1,  -1,  -1,  -1,\n",
       "        -1,  -1,  -1,  81,  -1,  27,  -1,  71,  56,  18,  -1,  75,  -1,\n",
       "        76,  89,  -1,  -1,   3,  -1,  29,  -1,  57,  87,  52,  -1,  -1,\n",
       "        -1,  77,  -1,  49,  -1,  63,  77,  12,  56,  58,  17])"
      ]
     },
     "execution_count": 45,
     "metadata": {},
     "output_type": "execute_result"
    }
   ],
   "source": [
    "y"
   ]
  },
  {
   "cell_type": "code",
   "execution_count": null,
   "metadata": {
    "collapsed": true
   },
   "outputs": [],
   "source": []
  },
  {
   "cell_type": "code",
   "execution_count": null,
   "metadata": {
    "collapsed": true
   },
   "outputs": [],
   "source": []
  },
  {
   "cell_type": "code",
   "execution_count": 4,
   "metadata": {
    "collapsed": false
   },
   "outputs": [],
   "source": [
    "LATENT_SIZE = 512\n",
    "enc = ld_gan.models.enc.Enc(n_features = LATENT_SIZE, \n",
    "                            w_norm=True)\n",
    "enc.cuda()\n",
    "enc = enc.apply(ld_gan.models.init_weights)"
   ]
  },
  {
   "cell_type": "code",
   "execution_count": 5,
   "metadata": {
    "collapsed": false
   },
   "outputs": [
    {
     "ename": "RuntimeError",
     "evalue": "dimension out of range (expected to be in range of [-2, 1], but got 3)",
     "output_type": "error",
     "traceback": [
      "\u001b[1;31m---------------------------------------------------------------------------\u001b[0m",
      "\u001b[1;31mRuntimeError\u001b[0m                              Traceback (most recent call last)",
      "\u001b[1;32m<ipython-input-5-7083c206102f>\u001b[0m in \u001b[0;36m<module>\u001b[1;34m()\u001b[0m\n\u001b[1;32m----> 1\u001b[1;33m \u001b[0mz_enc\u001b[0m \u001b[1;33m=\u001b[0m \u001b[0mld_gan\u001b[0m\u001b[1;33m.\u001b[0m\u001b[0mutils\u001b[0m\u001b[1;33m.\u001b[0m\u001b[0mmodel_handler\u001b[0m\u001b[1;33m.\u001b[0m\u001b[0mapply_model\u001b[0m\u001b[1;33m(\u001b[0m\u001b[0menc\u001b[0m\u001b[1;33m,\u001b[0m \u001b[0mX\u001b[0m\u001b[1;33m,\u001b[0m \u001b[1;36m100\u001b[0m\u001b[1;33m)\u001b[0m\u001b[1;33m\u001b[0m\u001b[0m\n\u001b[0m",
      "\u001b[1;32m/net/hciserver03/storage/oblum/projects/ld_gan/ld_gan/utils/model_handler.pyc\u001b[0m in \u001b[0;36mapply_model\u001b[1;34m(model, data, batch_size, cpu)\u001b[0m\n\u001b[0;32m    106\u001b[0m                 \u001b[0mt_in\u001b[0m \u001b[1;33m=\u001b[0m \u001b[0mt_in\u001b[0m\u001b[1;33m.\u001b[0m\u001b[0mcpu\u001b[0m\u001b[1;33m(\u001b[0m\u001b[1;33m)\u001b[0m\u001b[1;33m\u001b[0m\u001b[0m\n\u001b[0;32m    107\u001b[0m                 \u001b[0mmodel\u001b[0m\u001b[1;33m.\u001b[0m\u001b[0mcpu\u001b[0m\u001b[1;33m(\u001b[0m\u001b[1;33m)\u001b[0m\u001b[1;33m\u001b[0m\u001b[0m\n\u001b[1;32m--> 108\u001b[1;33m             \u001b[0mt_out\u001b[0m \u001b[1;33m=\u001b[0m \u001b[0mmodel\u001b[0m\u001b[1;33m(\u001b[0m\u001b[0mt_in\u001b[0m\u001b[1;33m)\u001b[0m\u001b[1;33m\u001b[0m\u001b[0m\n\u001b[0m\u001b[0;32m    109\u001b[0m             \u001b[0marr_out\u001b[0m\u001b[1;33m.\u001b[0m\u001b[0mappend\u001b[0m\u001b[1;33m(\u001b[0m\u001b[0mtensor_to_np\u001b[0m\u001b[1;33m(\u001b[0m\u001b[0mt_out\u001b[0m\u001b[1;33m)\u001b[0m\u001b[1;33m)\u001b[0m\u001b[1;33m\u001b[0m\u001b[0m\n\u001b[0;32m    110\u001b[0m         \u001b[0marr_out\u001b[0m \u001b[1;33m=\u001b[0m \u001b[0mnp\u001b[0m\u001b[1;33m.\u001b[0m\u001b[0mconcatenate\u001b[0m\u001b[1;33m(\u001b[0m\u001b[0marr_out\u001b[0m\u001b[1;33m)\u001b[0m\u001b[1;33m\u001b[0m\u001b[0m\n",
      "\u001b[1;32m/net/hciserver03/storage/oblum/venvs/compvisgpu01/lib/python2.7/site-packages/torch/nn/modules/module.pyc\u001b[0m in \u001b[0;36m__call__\u001b[1;34m(self, *input, **kwargs)\u001b[0m\n\u001b[0;32m    222\u001b[0m         \u001b[1;32mfor\u001b[0m \u001b[0mhook\u001b[0m \u001b[1;32min\u001b[0m \u001b[0mself\u001b[0m\u001b[1;33m.\u001b[0m\u001b[0m_forward_pre_hooks\u001b[0m\u001b[1;33m.\u001b[0m\u001b[0mvalues\u001b[0m\u001b[1;33m(\u001b[0m\u001b[1;33m)\u001b[0m\u001b[1;33m:\u001b[0m\u001b[1;33m\u001b[0m\u001b[0m\n\u001b[0;32m    223\u001b[0m             \u001b[0mhook\u001b[0m\u001b[1;33m(\u001b[0m\u001b[0mself\u001b[0m\u001b[1;33m,\u001b[0m \u001b[0minput\u001b[0m\u001b[1;33m)\u001b[0m\u001b[1;33m\u001b[0m\u001b[0m\n\u001b[1;32m--> 224\u001b[1;33m         \u001b[0mresult\u001b[0m \u001b[1;33m=\u001b[0m \u001b[0mself\u001b[0m\u001b[1;33m.\u001b[0m\u001b[0mforward\u001b[0m\u001b[1;33m(\u001b[0m\u001b[1;33m*\u001b[0m\u001b[0minput\u001b[0m\u001b[1;33m,\u001b[0m \u001b[1;33m**\u001b[0m\u001b[0mkwargs\u001b[0m\u001b[1;33m)\u001b[0m\u001b[1;33m\u001b[0m\u001b[0m\n\u001b[0m\u001b[0;32m    225\u001b[0m         \u001b[1;32mfor\u001b[0m \u001b[0mhook\u001b[0m \u001b[1;32min\u001b[0m \u001b[0mself\u001b[0m\u001b[1;33m.\u001b[0m\u001b[0m_forward_hooks\u001b[0m\u001b[1;33m.\u001b[0m\u001b[0mvalues\u001b[0m\u001b[1;33m(\u001b[0m\u001b[1;33m)\u001b[0m\u001b[1;33m:\u001b[0m\u001b[1;33m\u001b[0m\u001b[0m\n\u001b[0;32m    226\u001b[0m             \u001b[0mhook_result\u001b[0m \u001b[1;33m=\u001b[0m \u001b[0mhook\u001b[0m\u001b[1;33m(\u001b[0m\u001b[0mself\u001b[0m\u001b[1;33m,\u001b[0m \u001b[0minput\u001b[0m\u001b[1;33m,\u001b[0m \u001b[0mresult\u001b[0m\u001b[1;33m)\u001b[0m\u001b[1;33m\u001b[0m\u001b[0m\n",
      "\u001b[1;32m/net/hciserver03/storage/oblum/projects/ld_gan/ld_gan/models/enc.pyc\u001b[0m in \u001b[0;36mforward\u001b[1;34m(self, x)\u001b[0m\n\u001b[0;32m     52\u001b[0m     \u001b[1;32mdef\u001b[0m \u001b[0mforward\u001b[0m\u001b[1;33m(\u001b[0m\u001b[0mself\u001b[0m\u001b[1;33m,\u001b[0m \u001b[0mx\u001b[0m\u001b[1;33m)\u001b[0m\u001b[1;33m:\u001b[0m\u001b[1;33m\u001b[0m\u001b[0m\n\u001b[0;32m     53\u001b[0m \u001b[1;33m\u001b[0m\u001b[0m\n\u001b[1;32m---> 54\u001b[1;33m         \u001b[0mx\u001b[0m \u001b[1;33m=\u001b[0m \u001b[0mself\u001b[0m\u001b[1;33m.\u001b[0m\u001b[0mmain\u001b[0m\u001b[1;33m(\u001b[0m\u001b[0mx\u001b[0m\u001b[1;33m)\u001b[0m\u001b[1;33m\u001b[0m\u001b[0m\n\u001b[0m\u001b[0;32m     55\u001b[0m \u001b[1;33m\u001b[0m\u001b[0m\n\u001b[0;32m     56\u001b[0m         \u001b[1;32mif\u001b[0m \u001b[0mself\u001b[0m\u001b[1;33m.\u001b[0m\u001b[0mactivation\u001b[0m \u001b[1;33m==\u001b[0m \u001b[1;34m\"tanh\"\u001b[0m\u001b[1;33m:\u001b[0m\u001b[1;33m\u001b[0m\u001b[0m\n",
      "\u001b[1;32m/net/hciserver03/storage/oblum/venvs/compvisgpu01/lib/python2.7/site-packages/torch/nn/modules/module.pyc\u001b[0m in \u001b[0;36m__call__\u001b[1;34m(self, *input, **kwargs)\u001b[0m\n\u001b[0;32m    222\u001b[0m         \u001b[1;32mfor\u001b[0m \u001b[0mhook\u001b[0m \u001b[1;32min\u001b[0m \u001b[0mself\u001b[0m\u001b[1;33m.\u001b[0m\u001b[0m_forward_pre_hooks\u001b[0m\u001b[1;33m.\u001b[0m\u001b[0mvalues\u001b[0m\u001b[1;33m(\u001b[0m\u001b[1;33m)\u001b[0m\u001b[1;33m:\u001b[0m\u001b[1;33m\u001b[0m\u001b[0m\n\u001b[0;32m    223\u001b[0m             \u001b[0mhook\u001b[0m\u001b[1;33m(\u001b[0m\u001b[0mself\u001b[0m\u001b[1;33m,\u001b[0m \u001b[0minput\u001b[0m\u001b[1;33m)\u001b[0m\u001b[1;33m\u001b[0m\u001b[0m\n\u001b[1;32m--> 224\u001b[1;33m         \u001b[0mresult\u001b[0m \u001b[1;33m=\u001b[0m \u001b[0mself\u001b[0m\u001b[1;33m.\u001b[0m\u001b[0mforward\u001b[0m\u001b[1;33m(\u001b[0m\u001b[1;33m*\u001b[0m\u001b[0minput\u001b[0m\u001b[1;33m,\u001b[0m \u001b[1;33m**\u001b[0m\u001b[0mkwargs\u001b[0m\u001b[1;33m)\u001b[0m\u001b[1;33m\u001b[0m\u001b[0m\n\u001b[0m\u001b[0;32m    225\u001b[0m         \u001b[1;32mfor\u001b[0m \u001b[0mhook\u001b[0m \u001b[1;32min\u001b[0m \u001b[0mself\u001b[0m\u001b[1;33m.\u001b[0m\u001b[0m_forward_hooks\u001b[0m\u001b[1;33m.\u001b[0m\u001b[0mvalues\u001b[0m\u001b[1;33m(\u001b[0m\u001b[1;33m)\u001b[0m\u001b[1;33m:\u001b[0m\u001b[1;33m\u001b[0m\u001b[0m\n\u001b[0;32m    226\u001b[0m             \u001b[0mhook_result\u001b[0m \u001b[1;33m=\u001b[0m \u001b[0mhook\u001b[0m\u001b[1;33m(\u001b[0m\u001b[0mself\u001b[0m\u001b[1;33m,\u001b[0m \u001b[0minput\u001b[0m\u001b[1;33m,\u001b[0m \u001b[0mresult\u001b[0m\u001b[1;33m)\u001b[0m\u001b[1;33m\u001b[0m\u001b[0m\n",
      "\u001b[1;32m/net/hciserver03/storage/oblum/venvs/compvisgpu01/lib/python2.7/site-packages/torch/nn/modules/container.pyc\u001b[0m in \u001b[0;36mforward\u001b[1;34m(self, input)\u001b[0m\n\u001b[0;32m     65\u001b[0m     \u001b[1;32mdef\u001b[0m \u001b[0mforward\u001b[0m\u001b[1;33m(\u001b[0m\u001b[0mself\u001b[0m\u001b[1;33m,\u001b[0m \u001b[0minput\u001b[0m\u001b[1;33m)\u001b[0m\u001b[1;33m:\u001b[0m\u001b[1;33m\u001b[0m\u001b[0m\n\u001b[0;32m     66\u001b[0m         \u001b[1;32mfor\u001b[0m \u001b[0mmodule\u001b[0m \u001b[1;32min\u001b[0m \u001b[0mself\u001b[0m\u001b[1;33m.\u001b[0m\u001b[0m_modules\u001b[0m\u001b[1;33m.\u001b[0m\u001b[0mvalues\u001b[0m\u001b[1;33m(\u001b[0m\u001b[1;33m)\u001b[0m\u001b[1;33m:\u001b[0m\u001b[1;33m\u001b[0m\u001b[0m\n\u001b[1;32m---> 67\u001b[1;33m             \u001b[0minput\u001b[0m \u001b[1;33m=\u001b[0m \u001b[0mmodule\u001b[0m\u001b[1;33m(\u001b[0m\u001b[0minput\u001b[0m\u001b[1;33m)\u001b[0m\u001b[1;33m\u001b[0m\u001b[0m\n\u001b[0m\u001b[0;32m     68\u001b[0m         \u001b[1;32mreturn\u001b[0m \u001b[0minput\u001b[0m\u001b[1;33m\u001b[0m\u001b[0m\n\u001b[0;32m     69\u001b[0m \u001b[1;33m\u001b[0m\u001b[0m\n",
      "\u001b[1;32m/net/hciserver03/storage/oblum/venvs/compvisgpu01/lib/python2.7/site-packages/torch/nn/modules/module.pyc\u001b[0m in \u001b[0;36m__call__\u001b[1;34m(self, *input, **kwargs)\u001b[0m\n\u001b[0;32m    222\u001b[0m         \u001b[1;32mfor\u001b[0m \u001b[0mhook\u001b[0m \u001b[1;32min\u001b[0m \u001b[0mself\u001b[0m\u001b[1;33m.\u001b[0m\u001b[0m_forward_pre_hooks\u001b[0m\u001b[1;33m.\u001b[0m\u001b[0mvalues\u001b[0m\u001b[1;33m(\u001b[0m\u001b[1;33m)\u001b[0m\u001b[1;33m:\u001b[0m\u001b[1;33m\u001b[0m\u001b[0m\n\u001b[0;32m    223\u001b[0m             \u001b[0mhook\u001b[0m\u001b[1;33m(\u001b[0m\u001b[0mself\u001b[0m\u001b[1;33m,\u001b[0m \u001b[0minput\u001b[0m\u001b[1;33m)\u001b[0m\u001b[1;33m\u001b[0m\u001b[0m\n\u001b[1;32m--> 224\u001b[1;33m         \u001b[0mresult\u001b[0m \u001b[1;33m=\u001b[0m \u001b[0mself\u001b[0m\u001b[1;33m.\u001b[0m\u001b[0mforward\u001b[0m\u001b[1;33m(\u001b[0m\u001b[1;33m*\u001b[0m\u001b[0minput\u001b[0m\u001b[1;33m,\u001b[0m \u001b[1;33m**\u001b[0m\u001b[0mkwargs\u001b[0m\u001b[1;33m)\u001b[0m\u001b[1;33m\u001b[0m\u001b[0m\n\u001b[0m\u001b[0;32m    225\u001b[0m         \u001b[1;32mfor\u001b[0m \u001b[0mhook\u001b[0m \u001b[1;32min\u001b[0m \u001b[0mself\u001b[0m\u001b[1;33m.\u001b[0m\u001b[0m_forward_hooks\u001b[0m\u001b[1;33m.\u001b[0m\u001b[0mvalues\u001b[0m\u001b[1;33m(\u001b[0m\u001b[1;33m)\u001b[0m\u001b[1;33m:\u001b[0m\u001b[1;33m\u001b[0m\u001b[0m\n\u001b[0;32m    226\u001b[0m             \u001b[0mhook_result\u001b[0m \u001b[1;33m=\u001b[0m \u001b[0mhook\u001b[0m\u001b[1;33m(\u001b[0m\u001b[0mself\u001b[0m\u001b[1;33m,\u001b[0m \u001b[0minput\u001b[0m\u001b[1;33m,\u001b[0m \u001b[0mresult\u001b[0m\u001b[1;33m)\u001b[0m\u001b[1;33m\u001b[0m\u001b[0m\n",
      "\u001b[1;32m/net/hciserver03/storage/oblum/projects/ld_gan/ld_gan/models/WeightNormalizedConv.pyc\u001b[0m in \u001b[0;36mforward\u001b[1;34m(self, input)\u001b[0m\n\u001b[0;32m     79\u001b[0m     \u001b[1;32mdef\u001b[0m \u001b[0mforward\u001b[0m\u001b[1;33m(\u001b[0m\u001b[0mself\u001b[0m\u001b[1;33m,\u001b[0m \u001b[0minput\u001b[0m\u001b[1;33m)\u001b[0m\u001b[1;33m:\u001b[0m\u001b[1;33m\u001b[0m\u001b[0m\n\u001b[0;32m     80\u001b[0m         return self.norm_scale_bias(F.conv2d(input, self.weight, None, self.stride,\n\u001b[1;32m---> 81\u001b[1;33m                         self.padding, self.dilation, 1))\n\u001b[0m\u001b[0;32m     82\u001b[0m \u001b[1;33m\u001b[0m\u001b[0m\n\u001b[0;32m     83\u001b[0m \u001b[1;32mclass\u001b[0m \u001b[0mWeightNormalizedConvTranspose2d\u001b[0m\u001b[1;33m(\u001b[0m\u001b[0m_ConvTransposeMixin\u001b[0m\u001b[1;33m,\u001b[0m \u001b[0m_WeightNormalizedConvNd\u001b[0m\u001b[1;33m)\u001b[0m\u001b[1;33m:\u001b[0m\u001b[1;33m\u001b[0m\u001b[0m\n",
      "\u001b[1;32m/net/hciserver03/storage/oblum/projects/ld_gan/ld_gan/models/WeightNormalizedConv.pyc\u001b[0m in \u001b[0;36mnorm_scale_bias\u001b[1;34m(self, input)\u001b[0m\n\u001b[0;32m     42\u001b[0m             \u001b[0moutput\u001b[0m \u001b[1;33m=\u001b[0m \u001b[0minput\u001b[0m\u001b[1;33m.\u001b[0m\u001b[0mdiv\u001b[0m\u001b[1;33m(\u001b[0m\u001b[0mself\u001b[0m\u001b[1;33m.\u001b[0m\u001b[0mweight_norm\u001b[0m\u001b[1;33m(\u001b[0m\u001b[1;33m)\u001b[0m\u001b[1;33m.\u001b[0m\u001b[0mexpand_as\u001b[0m\u001b[1;33m(\u001b[0m\u001b[0minput\u001b[0m\u001b[1;33m)\u001b[0m\u001b[1;33m)\u001b[0m\u001b[1;33m\u001b[0m\u001b[0m\n\u001b[0;32m     43\u001b[0m         \u001b[1;32melse\u001b[0m\u001b[1;33m:\u001b[0m\u001b[1;33m\u001b[0m\u001b[0m\n\u001b[1;32m---> 44\u001b[1;33m             \u001b[0moutput\u001b[0m \u001b[1;33m=\u001b[0m \u001b[0minput\u001b[0m\u001b[1;33m.\u001b[0m\u001b[0mdiv\u001b[0m\u001b[1;33m(\u001b[0m\u001b[0mself\u001b[0m\u001b[1;33m.\u001b[0m\u001b[0mweight_norm\u001b[0m\u001b[1;33m(\u001b[0m\u001b[1;33m)\u001b[0m\u001b[1;33m.\u001b[0m\u001b[0mtranspose\u001b[0m\u001b[1;33m(\u001b[0m\u001b[1;36m0\u001b[0m\u001b[1;33m,\u001b[0m \u001b[1;36m1\u001b[0m\u001b[1;33m)\u001b[0m\u001b[1;33m.\u001b[0m\u001b[0mexpand_as\u001b[0m\u001b[1;33m(\u001b[0m\u001b[0minput\u001b[0m\u001b[1;33m)\u001b[0m\u001b[1;33m)\u001b[0m\u001b[1;33m\u001b[0m\u001b[0m\n\u001b[0m\u001b[0;32m     45\u001b[0m         \u001b[1;32mif\u001b[0m \u001b[0mself\u001b[0m\u001b[1;33m.\u001b[0m\u001b[0mscale\u001b[0m \u001b[1;32mis\u001b[0m \u001b[1;32mnot\u001b[0m \u001b[0mNone\u001b[0m\u001b[1;33m:\u001b[0m\u001b[1;33m\u001b[0m\u001b[0m\n\u001b[0;32m     46\u001b[0m             \u001b[0moutput\u001b[0m \u001b[1;33m=\u001b[0m \u001b[0moutput\u001b[0m\u001b[1;33m.\u001b[0m\u001b[0mmul\u001b[0m\u001b[1;33m(\u001b[0m\u001b[0mself\u001b[0m\u001b[1;33m.\u001b[0m\u001b[0mscale\u001b[0m\u001b[1;33m.\u001b[0m\u001b[0mexpand_as\u001b[0m\u001b[1;33m(\u001b[0m\u001b[0minput\u001b[0m\u001b[1;33m)\u001b[0m\u001b[1;33m)\u001b[0m\u001b[1;33m\u001b[0m\u001b[0m\n",
      "\u001b[1;32m/net/hciserver03/storage/oblum/projects/ld_gan/ld_gan/models/WeightNormalizedConv.pyc\u001b[0m in \u001b[0;36mweight_norm\u001b[1;34m(self)\u001b[0m\n\u001b[0;32m     34\u001b[0m             \u001b[0mweight_norm\u001b[0m \u001b[1;33m=\u001b[0m \u001b[0mweight_norm\u001b[0m\u001b[1;33m.\u001b[0m\u001b[0msum\u001b[0m\u001b[1;33m(\u001b[0m\u001b[1;36m1\u001b[0m\u001b[1;33m)\u001b[0m\u001b[1;33m\u001b[0m\u001b[0m\n\u001b[0;32m     35\u001b[0m         \u001b[1;32mfor\u001b[0m \u001b[0mi\u001b[0m \u001b[1;32min\u001b[0m \u001b[0mrange\u001b[0m\u001b[1;33m(\u001b[0m\u001b[0mlen\u001b[0m\u001b[1;33m(\u001b[0m\u001b[0mself\u001b[0m\u001b[1;33m.\u001b[0m\u001b[0mkernel_size\u001b[0m\u001b[1;33m)\u001b[0m\u001b[1;33m)\u001b[0m\u001b[1;33m:\u001b[0m\u001b[1;33m\u001b[0m\u001b[0m\n\u001b[1;32m---> 36\u001b[1;33m             \u001b[0mweight_norm\u001b[0m \u001b[1;33m=\u001b[0m \u001b[0mweight_norm\u001b[0m\u001b[1;33m.\u001b[0m\u001b[0msum\u001b[0m\u001b[1;33m(\u001b[0m\u001b[1;36m2\u001b[0m \u001b[1;33m+\u001b[0m \u001b[0mi\u001b[0m\u001b[1;33m)\u001b[0m\u001b[1;33m\u001b[0m\u001b[0m\n\u001b[0m\u001b[0;32m     37\u001b[0m         \u001b[0mweight_norm\u001b[0m \u001b[1;33m=\u001b[0m \u001b[0mweight_norm\u001b[0m\u001b[1;33m.\u001b[0m\u001b[0mmul\u001b[0m\u001b[1;33m(\u001b[0m\u001b[0mself\u001b[0m\u001b[1;33m.\u001b[0m\u001b[0mweight_norm_factor\u001b[0m\u001b[1;33m)\u001b[0m\u001b[1;33m.\u001b[0m\u001b[0madd\u001b[0m\u001b[1;33m(\u001b[0m\u001b[1;36m1e-6\u001b[0m\u001b[1;33m)\u001b[0m\u001b[1;33m.\u001b[0m\u001b[0msqrt\u001b[0m\u001b[1;33m(\u001b[0m\u001b[1;33m)\u001b[0m\u001b[1;33m\u001b[0m\u001b[0m\n\u001b[0;32m     38\u001b[0m         \u001b[1;32mreturn\u001b[0m \u001b[0mweight_norm\u001b[0m\u001b[1;33m\u001b[0m\u001b[0m\n",
      "\u001b[1;32m/net/hciserver03/storage/oblum/venvs/compvisgpu01/lib/python2.7/site-packages/torch/autograd/variable.pyc\u001b[0m in \u001b[0;36msum\u001b[1;34m(self, dim, keepdim)\u001b[0m\n\u001b[0;32m    474\u001b[0m \u001b[1;33m\u001b[0m\u001b[0m\n\u001b[0;32m    475\u001b[0m     \u001b[1;32mdef\u001b[0m \u001b[0msum\u001b[0m\u001b[1;33m(\u001b[0m\u001b[0mself\u001b[0m\u001b[1;33m,\u001b[0m \u001b[0mdim\u001b[0m\u001b[1;33m=\u001b[0m\u001b[0mNone\u001b[0m\u001b[1;33m,\u001b[0m \u001b[0mkeepdim\u001b[0m\u001b[1;33m=\u001b[0m\u001b[0mNone\u001b[0m\u001b[1;33m)\u001b[0m\u001b[1;33m:\u001b[0m\u001b[1;33m\u001b[0m\u001b[0m\n\u001b[1;32m--> 476\u001b[1;33m         \u001b[1;32mreturn\u001b[0m \u001b[0mSum\u001b[0m\u001b[1;33m.\u001b[0m\u001b[0mapply\u001b[0m\u001b[1;33m(\u001b[0m\u001b[0mself\u001b[0m\u001b[1;33m,\u001b[0m \u001b[0mdim\u001b[0m\u001b[1;33m,\u001b[0m \u001b[0mkeepdim\u001b[0m\u001b[1;33m)\u001b[0m\u001b[1;33m\u001b[0m\u001b[0m\n\u001b[0m\u001b[0;32m    477\u001b[0m \u001b[1;33m\u001b[0m\u001b[0m\n\u001b[0;32m    478\u001b[0m     \u001b[1;32mdef\u001b[0m \u001b[0mprod\u001b[0m\u001b[1;33m(\u001b[0m\u001b[0mself\u001b[0m\u001b[1;33m,\u001b[0m \u001b[0mdim\u001b[0m\u001b[1;33m=\u001b[0m\u001b[0mNone\u001b[0m\u001b[1;33m,\u001b[0m \u001b[0mkeepdim\u001b[0m\u001b[1;33m=\u001b[0m\u001b[0mNone\u001b[0m\u001b[1;33m)\u001b[0m\u001b[1;33m:\u001b[0m\u001b[1;33m\u001b[0m\u001b[0m\n",
      "\u001b[1;32m/net/hciserver03/storage/oblum/venvs/compvisgpu01/lib/python2.7/site-packages/torch/autograd/_functions/reduce.pyc\u001b[0m in \u001b[0;36mforward\u001b[1;34m(ctx, input, dim, keepdim)\u001b[0m\n\u001b[0;32m     19\u001b[0m                 \u001b[1;32mreturn\u001b[0m \u001b[0minput\u001b[0m\u001b[1;33m.\u001b[0m\u001b[0msum\u001b[0m\u001b[1;33m(\u001b[0m\u001b[0mdim\u001b[0m\u001b[1;33m,\u001b[0m \u001b[0mkeepdim\u001b[0m\u001b[1;33m=\u001b[0m\u001b[0mkeepdim\u001b[0m\u001b[1;33m)\u001b[0m\u001b[1;33m\u001b[0m\u001b[0m\n\u001b[0;32m     20\u001b[0m             \u001b[1;32melse\u001b[0m\u001b[1;33m:\u001b[0m\u001b[1;33m\u001b[0m\u001b[0m\n\u001b[1;32m---> 21\u001b[1;33m                 \u001b[1;32mreturn\u001b[0m \u001b[0minput\u001b[0m\u001b[1;33m.\u001b[0m\u001b[0msum\u001b[0m\u001b[1;33m(\u001b[0m\u001b[0mdim\u001b[0m\u001b[1;33m)\u001b[0m\u001b[1;33m\u001b[0m\u001b[0m\n\u001b[0m\u001b[0;32m     22\u001b[0m \u001b[1;33m\u001b[0m\u001b[0m\n\u001b[0;32m     23\u001b[0m     \u001b[1;33m@\u001b[0m\u001b[0mstaticmethod\u001b[0m\u001b[1;33m\u001b[0m\u001b[0m\n",
      "\u001b[1;31mRuntimeError\u001b[0m: dimension out of range (expected to be in range of [-2, 1], but got 3)"
     ]
    }
   ],
   "source": [
    "z_enc = ld_gan.utils.model_handler.apply_model(enc, X, 100)"
   ]
  },
  {
   "cell_type": "code",
   "execution_count": null,
   "metadata": {
    "collapsed": true
   },
   "outputs": [],
   "source": []
  },
  {
   "cell_type": "code",
   "execution_count": null,
   "metadata": {
    "collapsed": true
   },
   "outputs": [],
   "source": []
  },
  {
   "cell_type": "code",
   "execution_count": null,
   "metadata": {
    "collapsed": true
   },
   "outputs": [],
   "source": []
  },
  {
   "cell_type": "code",
   "execution_count": null,
   "metadata": {
    "collapsed": true
   },
   "outputs": [],
   "source": []
  },
  {
   "cell_type": "code",
   "execution_count": null,
   "metadata": {
    "collapsed": true
   },
   "outputs": [],
   "source": []
  },
  {
   "cell_type": "code",
   "execution_count": null,
   "metadata": {
    "collapsed": true
   },
   "outputs": [],
   "source": []
  },
  {
   "cell_type": "code",
   "execution_count": null,
   "metadata": {
    "collapsed": true
   },
   "outputs": [],
   "source": []
  },
  {
   "cell_type": "code",
   "execution_count": null,
   "metadata": {
    "collapsed": true
   },
   "outputs": [],
   "source": []
  },
  {
   "cell_type": "code",
   "execution_count": null,
   "metadata": {
    "collapsed": true
   },
   "outputs": [],
   "source": []
  },
  {
   "cell_type": "code",
   "execution_count": null,
   "metadata": {
    "collapsed": true
   },
   "outputs": [],
   "source": []
  },
  {
   "cell_type": "code",
   "execution_count": null,
   "metadata": {
    "collapsed": true
   },
   "outputs": [],
   "source": []
  }
 ],
 "metadata": {
  "kernelspec": {
   "display_name": "Python 2",
   "language": "python",
   "name": "python2"
  },
  "language_info": {
   "codemirror_mode": {
    "name": "ipython",
    "version": 2
   },
   "file_extension": ".py",
   "mimetype": "text/x-python",
   "name": "python",
   "nbconvert_exporter": "python",
   "pygments_lexer": "ipython2",
   "version": "2.7.6"
  }
 },
 "nbformat": 4,
 "nbformat_minor": 2
}
