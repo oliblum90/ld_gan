{
 "cells": [
  {
   "cell_type": "code",
   "execution_count": 1,
   "metadata": {
    "collapsed": false
   },
   "outputs": [],
   "source": [
    "#%load_ext autoreload\n",
    "#%autoreload 2\n",
    "\n",
    "#import os\n",
    "#os.chdir(\"../\")\n",
    "\n",
    "#%pylab inline\n",
    "#pylab.rcParams['figure.figsize'] = (10, 5)"
   ]
  },
  {
   "cell_type": "code",
   "execution_count": 2,
   "metadata": {
    "collapsed": true
   },
   "outputs": [],
   "source": [
    "import torchvision\n",
    "from torchvision.models.inception import model_urls\n",
    "import numpy as np\n",
    "import scipy.misc\n",
    "from torchvision import models, transforms\n",
    "from PIL import Image\n",
    "import torch\n",
    "from torch.autograd import Variable\n",
    "import torch.nn.functional as F\n",
    "from tqdm import tqdm\n",
    "\n",
    "\n",
    "class InceptionScore:\n",
    "    \n",
    "    def __init__(self, gpu = True):\n",
    "        \"\"\"\n",
    "        Class for the computation of the inception score\n",
    "        \n",
    "        Parameters\n",
    "        ----------\n",
    "        gpu : bool\n",
    "            if True:  computation is executed on the gpu\n",
    "            if False: computation is executed on the cpu\n",
    "        \"\"\"\n",
    "        \n",
    "        # set global vars\n",
    "        self.gpu = gpu\n",
    "        \n",
    "        # load model\n",
    "        try:\n",
    "            self.incept = torchvision.models.inception_v3(pretrained=True)\n",
    "        except:\n",
    "            name = 'inception_v3_google'\n",
    "            model_urls[name] = model_urls[name].replace('https://', 'http://')\n",
    "            self.incept = torchvision.models.inception_v3(pretrained=True)\n",
    "        self.incept.training = False\n",
    "        self.incept.transform_input = False\n",
    "        if self.gpu:\n",
    "            self.incept = self.incept.cuda()\n",
    "        self.incept.eval()\n",
    "    \n",
    "        # init data transformer\n",
    "        normalize = transforms.Normalize(\n",
    "           mean=[0.485, 0.456, 0.406],\n",
    "           std=[0.229, 0.224, 0.225]\n",
    "        )\n",
    "        self.preprocess = transforms.Compose([\n",
    "           transforms.ToTensor(),\n",
    "           normalize\n",
    "        ])\n",
    "        \n",
    "    \n",
    "    def score(self, imgs_fake, imgs_real, batch_size=32, splits=10):\n",
    "        \"\"\"\n",
    "        Function to compute the inception score\n",
    "        \n",
    "        Parameters\n",
    "        ----------\n",
    "        imgs : numpy array\n",
    "            array of the shape (N, X, Y, C)\n",
    "        batch_size : int\n",
    "            batch size for the prediction with the inception net\n",
    "        splits : int\n",
    "            The inception score is computed for a package of images.\n",
    "            The variable 'splits' defines the number of these packages.\n",
    "            Multiple computations of the score (for each package one) are \n",
    "            needed to compute a standard diviation (error) for the final\n",
    "            score.\n",
    "        \"\"\"\n",
    "        \n",
    "        # preprocess fake images\n",
    "        if imgs_fake.shape[0] != 299 or imgs_fake.shape[1] != 299:\n",
    "            imgs_fake = [scipy.misc.imresize(img, (299, 299)) for img in imgs_fake]\n",
    "            imgs_fake = np.array(imgs_fake)\n",
    "        n_batches = 1 + (len(imgs_fake) / batch_size)\n",
    "        batches = np.array_split(imgs_fake, n_batches)\n",
    "        \n",
    "        # get prediction vectors of inception net for fake imgs\n",
    "        preds_fake = []\n",
    "        for batch in tqdm(batches):\n",
    "            imgs = [Image.fromarray(img) for img in batch]\n",
    "            imgs = torch.stack([self.preprocess(img) for img in imgs])\n",
    "            if self.gpu:\n",
    "                imgs = imgs.cuda()\n",
    "            imgs = Variable(imgs)\n",
    "            pred = self.incept(imgs)\n",
    "            pred = F.softmax(pred)\n",
    "            preds_fake.append(pred.data.cpu().numpy())    \n",
    "        preds_fake = np.concatenate(preds_fake)\n",
    "        self. preds_fake = preds_fake\n",
    "        \n",
    "        # preprocess real images\n",
    "        if imgs_real.shape[0] != 299 or imgs_real.shape[1] != 299:\n",
    "            imgs_real = [scipy.misc.imresize(img, (299, 299)) for img in imgs_real]\n",
    "            imgs_real = np.array(imgs_real)\n",
    "        n_batches = 1 + (len(imgs_real) / batch_size)\n",
    "        batches = np.array_split(imgs_real, n_batches)\n",
    "        \n",
    "        # get prediction vectors of inception net for fake imgs\n",
    "        preds_real = []\n",
    "        for batch in tqdm(batches):\n",
    "            imgs = [Image.fromarray(img) for img in batch]\n",
    "            imgs = torch.stack([self.preprocess(img) for img in imgs])\n",
    "            if self.gpu:\n",
    "                imgs = imgs.cuda()\n",
    "            imgs = Variable(imgs)\n",
    "            pred = self.incept(imgs)\n",
    "            pred = F.softmax(pred)\n",
    "            preds_real.append(pred.data.cpu().numpy())    \n",
    "        preds_real = np.concatenate(preds_real)\n",
    "        self.preds_real = preds_real\n",
    "        \n",
    "        # compute inception score\n",
    "        scores = []\n",
    "        for i in range(splits):\n",
    "            part_fake = preds_fake[(i * preds_fake.shape[0] // splits): \\\n",
    "                         ((i + 1) * preds_fake.shape[0] // splits), :]\n",
    "            part_real = preds_real[(i * preds_real.shape[0] // splits): \\\n",
    "                         ((i + 1) * preds_real.shape[0] // splits), :]\n",
    "            kl = part * (np.log(part_fake) - \\\n",
    "                         np.log(np.expand_dims(np.mean(part_real, 0), 0)))\n",
    "            kl = np.mean(np.sum(kl, 1))\n",
    "            kl = np.exp(kl)\n",
    "            kl = kl - (part * (np.log(np.expand_dims(np.mean(part_fake, 0), 0)) - \\\n",
    "                               np.log(np.expand_dims(np.mean(part_real, 0), 0))))\n",
    "\n",
    "            scores.append(kl)\n",
    "            \n",
    "        return np.mean(scores), np.std(scores)"
   ]
  },
  {
   "cell_type": "code",
   "execution_count": 3,
   "metadata": {
    "collapsed": true
   },
   "outputs": [
    {
     "name": "stderr",
     "output_type": "stream",
     "text": [
      "/net/hciserver03/storage/oblum/venvs/compvisgpu02/lib/python2.7/site-packages/torchvision/models/inception.py:65: UserWarning: src is not broadcastable to dst, but they have the same number of elements.  Falling back to deprecated pointwise behavior.\n",
      "  m.weight.data.copy_(values)\n",
      "100%|██████████| 1563/1563 [05:12<00:00,  5.13it/s]\n",
      "100%|██████████| 1563/1563 [05:14<00:00,  4.99it/s]"
     ]
    },
    {
     "name": "stdout",
     "output_type": "stream",
     "text": [
      "Downloading http://www.cs.toronto.edu/~kriz/cifar-10-python.tar.gz to /tmp/cifar-10-python.tar.gz\n"
     ]
    },
    {
     "name": "stderr",
     "output_type": "stream",
     "text": [
      "\n"
     ]
    },
    {
     "ename": "NameError",
     "evalue": "global name 'part' is not defined",
     "output_type": "error",
     "traceback": [
      "\u001b[1;31m---------------------------------------------------------------------------\u001b[0m",
      "\u001b[1;31mNameError\u001b[0m                                 Traceback (most recent call last)",
      "\u001b[1;32m<ipython-input-3-dbcce360ad82>\u001b[0m in \u001b[0;36m<module>\u001b[1;34m()\u001b[0m\n\u001b[0;32m      6\u001b[0m \u001b[1;33m\u001b[0m\u001b[0m\n\u001b[0;32m      7\u001b[0m \u001b[0mincept_score\u001b[0m \u001b[1;33m=\u001b[0m \u001b[0mInceptionScore\u001b[0m\u001b[1;33m(\u001b[0m\u001b[1;33m)\u001b[0m\u001b[1;33m\u001b[0m\u001b[0m\n\u001b[1;32m----> 8\u001b[1;33m \u001b[0mmean\u001b[0m\u001b[1;33m,\u001b[0m \u001b[0mstd\u001b[0m \u001b[1;33m=\u001b[0m \u001b[0mincept_score\u001b[0m\u001b[1;33m.\u001b[0m\u001b[0mscore\u001b[0m\u001b[1;33m(\u001b[0m\u001b[0mx_fake\u001b[0m\u001b[1;33m,\u001b[0m \u001b[0mx_real\u001b[0m\u001b[1;33m)\u001b[0m\u001b[1;33m\u001b[0m\u001b[0m\n\u001b[0m",
      "\u001b[1;32m<ipython-input-2-9f8f3f4f2b1a>\u001b[0m in \u001b[0;36mscore\u001b[1;34m(self, imgs_fake, imgs_real, batch_size, splits)\u001b[0m\n\u001b[0;32m    116\u001b[0m             \u001b[0mpart_fake\u001b[0m \u001b[1;33m=\u001b[0m \u001b[0mpreds_fake\u001b[0m\u001b[1;33m[\u001b[0m\u001b[1;33m(\u001b[0m\u001b[0mi\u001b[0m \u001b[1;33m*\u001b[0m \u001b[0mpreds_fake\u001b[0m\u001b[1;33m.\u001b[0m\u001b[0mshape\u001b[0m\u001b[1;33m[\u001b[0m\u001b[1;36m0\u001b[0m\u001b[1;33m]\u001b[0m \u001b[1;33m//\u001b[0m \u001b[0msplits\u001b[0m\u001b[1;33m)\u001b[0m\u001b[1;33m:\u001b[0m                          \u001b[1;33m(\u001b[0m\u001b[1;33m(\u001b[0m\u001b[0mi\u001b[0m \u001b[1;33m+\u001b[0m \u001b[1;36m1\u001b[0m\u001b[1;33m)\u001b[0m \u001b[1;33m*\u001b[0m \u001b[0mpreds_fake\u001b[0m\u001b[1;33m.\u001b[0m\u001b[0mshape\u001b[0m\u001b[1;33m[\u001b[0m\u001b[1;36m0\u001b[0m\u001b[1;33m]\u001b[0m \u001b[1;33m//\u001b[0m \u001b[0msplits\u001b[0m\u001b[1;33m)\u001b[0m\u001b[1;33m,\u001b[0m \u001b[1;33m:\u001b[0m\u001b[1;33m]\u001b[0m\u001b[1;33m\u001b[0m\u001b[0m\n\u001b[0;32m    117\u001b[0m             \u001b[0mpart_real\u001b[0m \u001b[1;33m=\u001b[0m \u001b[0mpreds_real\u001b[0m\u001b[1;33m[\u001b[0m\u001b[1;33m(\u001b[0m\u001b[0mi\u001b[0m \u001b[1;33m*\u001b[0m \u001b[0mpreds_real\u001b[0m\u001b[1;33m.\u001b[0m\u001b[0mshape\u001b[0m\u001b[1;33m[\u001b[0m\u001b[1;36m0\u001b[0m\u001b[1;33m]\u001b[0m \u001b[1;33m//\u001b[0m \u001b[0msplits\u001b[0m\u001b[1;33m)\u001b[0m\u001b[1;33m:\u001b[0m                          \u001b[1;33m(\u001b[0m\u001b[1;33m(\u001b[0m\u001b[0mi\u001b[0m \u001b[1;33m+\u001b[0m \u001b[1;36m1\u001b[0m\u001b[1;33m)\u001b[0m \u001b[1;33m*\u001b[0m \u001b[0mpreds_real\u001b[0m\u001b[1;33m.\u001b[0m\u001b[0mshape\u001b[0m\u001b[1;33m[\u001b[0m\u001b[1;36m0\u001b[0m\u001b[1;33m]\u001b[0m \u001b[1;33m//\u001b[0m \u001b[0msplits\u001b[0m\u001b[1;33m)\u001b[0m\u001b[1;33m,\u001b[0m \u001b[1;33m:\u001b[0m\u001b[1;33m]\u001b[0m\u001b[1;33m\u001b[0m\u001b[0m\n\u001b[1;32m--> 118\u001b[1;33m             \u001b[0mkl\u001b[0m \u001b[1;33m=\u001b[0m \u001b[0mpart\u001b[0m \u001b[1;33m*\u001b[0m \u001b[1;33m(\u001b[0m\u001b[0mnp\u001b[0m\u001b[1;33m.\u001b[0m\u001b[0mlog\u001b[0m\u001b[1;33m(\u001b[0m\u001b[0mpart_fake\u001b[0m\u001b[1;33m)\u001b[0m \u001b[1;33m-\u001b[0m                          \u001b[0mnp\u001b[0m\u001b[1;33m.\u001b[0m\u001b[0mlog\u001b[0m\u001b[1;33m(\u001b[0m\u001b[0mnp\u001b[0m\u001b[1;33m.\u001b[0m\u001b[0mexpand_dims\u001b[0m\u001b[1;33m(\u001b[0m\u001b[0mnp\u001b[0m\u001b[1;33m.\u001b[0m\u001b[0mmean\u001b[0m\u001b[1;33m(\u001b[0m\u001b[0mpart_real\u001b[0m\u001b[1;33m,\u001b[0m \u001b[1;36m0\u001b[0m\u001b[1;33m)\u001b[0m\u001b[1;33m,\u001b[0m \u001b[1;36m0\u001b[0m\u001b[1;33m)\u001b[0m\u001b[1;33m)\u001b[0m\u001b[1;33m)\u001b[0m\u001b[1;33m\u001b[0m\u001b[0m\n\u001b[0m\u001b[0;32m    119\u001b[0m             \u001b[0mkl\u001b[0m \u001b[1;33m=\u001b[0m \u001b[0mnp\u001b[0m\u001b[1;33m.\u001b[0m\u001b[0mmean\u001b[0m\u001b[1;33m(\u001b[0m\u001b[0mnp\u001b[0m\u001b[1;33m.\u001b[0m\u001b[0msum\u001b[0m\u001b[1;33m(\u001b[0m\u001b[0mkl\u001b[0m\u001b[1;33m,\u001b[0m \u001b[1;36m1\u001b[0m\u001b[1;33m)\u001b[0m\u001b[1;33m)\u001b[0m\u001b[1;33m\u001b[0m\u001b[0m\n\u001b[0;32m    120\u001b[0m             \u001b[0mkl\u001b[0m \u001b[1;33m=\u001b[0m \u001b[0mnp\u001b[0m\u001b[1;33m.\u001b[0m\u001b[0mexp\u001b[0m\u001b[1;33m(\u001b[0m\u001b[0mkl\u001b[0m\u001b[1;33m)\u001b[0m\u001b[1;33m\u001b[0m\u001b[0m\n",
      "\u001b[1;31mNameError\u001b[0m: global name 'part' is not defined"
     ]
    }
   ],
   "source": [
    "trainset = torchvision.datasets.CIFAR10(root = '/tmp', download=True)\n",
    "x_real = trainset.train_data\n",
    "n_pixels = x_real.shape[0]*x_real.shape[1]*x_real.shape[2]*x_real.shape[3]\n",
    "noise = np.random.normal(127, 3, n_pixels).reshape(x_real.shape)\n",
    "x_fake = x_real.copy() + noise\n",
    "\n",
    "incept_score = InceptionScore()\n",
    "mean, std = incept_score.score(x_fake, x_real)"
   ]
  },
  {
   "cell_type": "code",
   "execution_count": null,
   "metadata": {
    "collapsed": true
   },
   "outputs": [],
   "source": []
  },
  {
   "cell_type": "code",
   "execution_count": null,
   "metadata": {
    "collapsed": true
   },
   "outputs": [],
   "source": []
  },
  {
   "cell_type": "code",
   "execution_count": 4,
   "metadata": {
    "collapsed": true
   },
   "outputs": [],
   "source": [
    "preds_fake = incept_score.preds_fake\n",
    "preds_real = incept_score.preds_real"
   ]
  },
  {
   "cell_type": "code",
   "execution_count": 6,
   "metadata": {
    "collapsed": false
   },
   "outputs": [],
   "source": [
    "# compute inception score\n",
    "splits = 10\n",
    "\n",
    "scores = []\n",
    "for i in range(splits):\n",
    "    part_fake = preds_fake[(i * preds_fake.shape[0] // splits): \\\n",
    "                 ((i + 1) * preds_fake.shape[0] // splits), :]\n",
    "    part_real = preds_real[(i * preds_real.shape[0] // splits): \\\n",
    "                 ((i + 1) * preds_real.shape[0] // splits), :]\n",
    "    \n",
    "    p_star = np.expand_dims(np.mean(part_fake, 0), 0)\n",
    "    p      = np.expand_dims(np.mean(part_real, 0), 0)\n",
    "    \n",
    "    kl = part_fake * (np.log(part_fake) - np.log(p))\n",
    "    kl = np.mean(np.sum(kl, 1))\n",
    "    kl = kl - (p_star * (np.log(p_star) - np.log(p))\n",
    "    kl = np.exp(kl)\n",
    "\n",
    "    scores.append(kl)"
   ]
  },
  {
   "cell_type": "code",
   "execution_count": 8,
   "metadata": {
    "collapsed": false
   },
   "outputs": [
    {
     "data": {
      "text/plain": [
       "(11.251804, 0.17426911)"
      ]
     },
     "execution_count": 8,
     "metadata": {},
     "output_type": "execute_result"
    }
   ],
   "source": [
    "np.mean(scores), np.std(scores)"
   ]
  },
  {
   "cell_type": "code",
   "execution_count": null,
   "metadata": {
    "collapsed": true
   },
   "outputs": [],
   "source": []
  },
  {
   "cell_type": "code",
   "execution_count": null,
   "metadata": {
    "collapsed": true
   },
   "outputs": [],
   "source": []
  },
  {
   "cell_type": "code",
   "execution_count": null,
   "metadata": {
    "collapsed": true
   },
   "outputs": [],
   "source": []
  },
  {
   "cell_type": "code",
   "execution_count": null,
   "metadata": {
    "collapsed": true
   },
   "outputs": [],
   "source": []
  },
  {
   "cell_type": "code",
   "execution_count": null,
   "metadata": {
    "collapsed": true
   },
   "outputs": [],
   "source": []
  },
  {
   "cell_type": "code",
   "execution_count": null,
   "metadata": {
    "collapsed": true
   },
   "outputs": [],
   "source": []
  },
  {
   "cell_type": "code",
   "execution_count": null,
   "metadata": {
    "collapsed": true
   },
   "outputs": [],
   "source": []
  },
  {
   "cell_type": "code",
   "execution_count": null,
   "metadata": {
    "collapsed": true
   },
   "outputs": [],
   "source": []
  }
 ],
 "metadata": {
  "kernelspec": {
   "display_name": "Python 2",
   "language": "python",
   "name": "python2"
  },
  "language_info": {
   "codemirror_mode": {
    "name": "ipython",
    "version": 2
   },
   "file_extension": ".py",
   "mimetype": "text/x-python",
   "name": "python",
   "nbconvert_exporter": "python",
   "pygments_lexer": "ipython2",
   "version": "2.7.6"
  }
 },
 "nbformat": 4,
 "nbformat_minor": 2
}
