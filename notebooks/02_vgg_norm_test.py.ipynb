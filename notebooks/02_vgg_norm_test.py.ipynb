{
 "cells": [
  {
   "cell_type": "code",
   "execution_count": 1,
   "metadata": {
    "collapsed": true
   },
   "outputs": [],
   "source": [
    "import scipy.misc\n",
    "from torchvision.models.vgg import model_urls\n",
    "from torch import nn\n",
    "import torchvision\n",
    "import numpy as np\n",
    "import torch\n",
    "from torch.autograd import Variable"
   ]
  },
  {
   "cell_type": "markdown",
   "metadata": {},
   "source": [
    "# norm function"
   ]
  },
  {
   "cell_type": "code",
   "execution_count": 2,
   "metadata": {
    "collapsed": true
   },
   "outputs": [],
   "source": [
    "def norm_mean_std(imgs, \n",
    "                  mean=[0.485, 0.456, 0.406], \n",
    "                  std=[0.229, 0.224, 0.225]):\n",
    "    \n",
    "    imgs = imgs.astype('float32')\n",
    "    imgs = imgs / 255.\n",
    "    \n",
    "    for c in range(3):\n",
    "        imgs[:,:,c] = (imgs[:,:,c] - mean[c]) / std[c]\n",
    "        \n",
    "    return imgs"
   ]
  },
  {
   "cell_type": "markdown",
   "metadata": {},
   "source": [
    "# load data"
   ]
  },
  {
   "cell_type": "code",
   "execution_count": 3,
   "metadata": {
    "collapsed": false
   },
   "outputs": [],
   "source": [
    "img = scipy.misc.imread(\"elefant.jpg\")\n",
    "img = scipy.misc.imresize(img, (224, 224))\n",
    "imgs = np.array([img])\n",
    "imgs = imgs.astype('float32') / 127.5 - 1\n",
    "#imgs = norm_mean_std(imgs)\n",
    "imgs = imgs.transpose(0, 3, 1, 2)\n",
    "t = Variable(torch.from_numpy(imgs)).float()"
   ]
  },
  {
   "cell_type": "markdown",
   "metadata": {},
   "source": [
    "# load model"
   ]
  },
  {
   "cell_type": "code",
   "execution_count": 4,
   "metadata": {
    "collapsed": true
   },
   "outputs": [],
   "source": [
    "model_urls['vgg19_bn'] = model_urls['vgg19_bn'].replace('https://', 'http://')\n",
    "vgg = torchvision.models.vgg19_bn(pretrained=True)\n",
    "vgg = vgg.eval()"
   ]
  },
  {
   "cell_type": "code",
   "execution_count": 5,
   "metadata": {
    "collapsed": false
   },
   "outputs": [],
   "source": [
    "pred = vgg(t)"
   ]
  },
  {
   "cell_type": "code",
   "execution_count": 6,
   "metadata": {
    "collapsed": false
   },
   "outputs": [],
   "source": [
    "pred = pred.data.numpy()"
   ]
  },
  {
   "cell_type": "code",
   "execution_count": 7,
   "metadata": {
    "collapsed": false
   },
   "outputs": [
    {
     "data": {
      "text/plain": [
       "386"
      ]
     },
     "execution_count": 7,
     "metadata": {},
     "output_type": "execute_result"
    }
   ],
   "source": [
    "np.argmax(pred)"
   ]
  },
  {
   "cell_type": "code",
   "execution_count": null,
   "metadata": {
    "collapsed": true
   },
   "outputs": [],
   "source": []
  }
 ],
 "metadata": {
  "kernelspec": {
   "display_name": "Python 2",
   "language": "python",
   "name": "python2"
  },
  "language_info": {
   "codemirror_mode": {
    "name": "ipython",
    "version": 2
   },
   "file_extension": ".py",
   "mimetype": "text/x-python",
   "name": "python",
   "nbconvert_exporter": "python",
   "pygments_lexer": "ipython2",
   "version": "2.7.6"
  }
 },
 "nbformat": 4,
 "nbformat_minor": 0
}
