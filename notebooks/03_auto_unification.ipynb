{
 "cells": [
  {
   "cell_type": "code",
   "execution_count": 1,
   "metadata": {
    "collapsed": false
   },
   "outputs": [],
   "source": [
    "%load_ext autoreload\n",
    "%autoreload 2\n",
    "\n",
    "#import os\n",
    "#os.chdir(\"../\")\n",
    "\n",
    "%matplotlib inline\n",
    "import matplotlib.pylab as plt"
   ]
  },
  {
   "cell_type": "code",
   "execution_count": 2,
   "metadata": {
    "collapsed": true
   },
   "outputs": [],
   "source": [
    "import numpy as np"
   ]
  },
  {
   "cell_type": "markdown",
   "metadata": {},
   "source": [
    "# generate data"
   ]
  },
  {
   "cell_type": "code",
   "execution_count": 26,
   "metadata": {
    "collapsed": true
   },
   "outputs": [],
   "source": [
    "batch_size = 64\n",
    "latent_size = 1024"
   ]
  },
  {
   "cell_type": "code",
   "execution_count": 54,
   "metadata": {
    "collapsed": true
   },
   "outputs": [],
   "source": [
    "z = np.random.normal(size = batch_size * latent_size).reshape(batch_size, \n",
    "                                                              latent_size)"
   ]
  },
  {
   "cell_type": "code",
   "execution_count": 55,
   "metadata": {
    "collapsed": false
   },
   "outputs": [
    {
     "data": {
      "image/png": "[encoded data removed]",
      "text/plain": [
       "<matplotlib.figure.Figure at 0x7f888b03c1d0>"
      ]
     },
     "metadata": {},
     "output_type": "display_data"
    }
   ],
   "source": [
    "hist = plt.hist(z.flatten(), bins=100)"
   ]
  },
  {
   "cell_type": "code",
   "execution_count": 57,
   "metadata": {
    "collapsed": true
   },
   "outputs": [],
   "source": []
  },
  {
   "cell_type": "code",
   "execution_count": 58,
   "metadata": {
    "collapsed": false
   },
   "outputs": [
    {
     "data": {
      "text/plain": [
       "(array([   1,    0,    0,    1,    1,    1,    1,    1,    2,    3,   10,\n",
       "           6,   16,   14,   14,   28,   27,   38,   59,   82,   99,  115,\n",
       "         121,  182,  199,  229,  278,  382,  417,  473,  528,  623,  746,\n",
       "         879,  983, 1019, 1194, 1285, 1450, 1587, 1688, 1737, 1896, 1991,\n",
       "        2107, 2164, 2320, 2243, 2297, 2293, 2369, 2248, 2181, 2136, 2150,\n",
       "        1997, 1877, 1818, 1738, 1527, 1449, 1326, 1236, 1089,  952,  887,\n",
       "         746,  642,  568,  456,  432,  361,  280,  218,  185,  194,  130,\n",
       "         103,   91,   68,   54,   44,   44,   20,   23,   19,   11,   15,\n",
       "           6,    5,    2,    3,    1,    0,    0,    1,    1,    0,    0,\n",
       "           3]),\n",
       " array([-4.36793684, -4.27973911, -4.19154138, -4.10334365, -4.01514592,\n",
       "        -3.92694819, -3.83875046, -3.75055273, -3.662355  , -3.57415727,\n",
       "        -3.48595954, -3.39776181, -3.30956408, -3.22136635, -3.13316862,\n",
       "        -3.04497089, -2.95677316, -2.86857543, -2.78037771, -2.69217998,\n",
       "        -2.60398225, -2.51578452, -2.42758679, -2.33938906, -2.25119133,\n",
       "        -2.1629936 , -2.07479587, -1.98659814, -1.89840041, -1.81020268,\n",
       "        -1.72200495, -1.63380722, -1.54560949, -1.45741176, -1.36921403,\n",
       "        -1.2810163 , -1.19281857, -1.10462084, -1.01642311, -0.92822538,\n",
       "        -0.84002766, -0.75182993, -0.6636322 , -0.57543447, -0.48723674,\n",
       "        -0.39903901, -0.31084128, -0.22264355, -0.13444582, -0.04624809,\n",
       "         0.04194964,  0.13014737,  0.2183451 ,  0.30654283,  0.39474056,\n",
       "         0.48293829,  0.57113602,  0.65933375,  0.74753148,  0.83572921,\n",
       "         0.92392694,  1.01212467,  1.10032239,  1.18852012,  1.27671785,\n",
       "         1.36491558,  1.45311331,  1.54131104,  1.62950877,  1.7177065 ,\n",
       "         1.80590423,  1.89410196,  1.98229969,  2.07049742,  2.15869515,\n",
       "         2.24689288,  2.33509061,  2.42328834,  2.51148607,  2.5996838 ,\n",
       "         2.68788153,  2.77607926,  2.86427699,  2.95247472,  3.04067244,\n",
       "         3.12887017,  3.2170679 ,  3.30526563,  3.39346336,  3.48166109,\n",
       "         3.56985882,  3.65805655,  3.74625428,  3.83445201,  3.92264974,\n",
       "         4.01084747,  4.0990452 ,  4.18724293,  4.27544066,  4.36363839,\n",
       "         4.45183612]))"
      ]
     },
     "execution_count": 58,
     "metadata": {},
     "output_type": "execute_result"
    }
   ],
   "source": [
    "cums = [h + ]"
   ]
  },
  {
   "cell_type": "code",
   "execution_count": null,
   "metadata": {
    "collapsed": true
   },
   "outputs": [],
   "source": []
  },
  {
   "cell_type": "code",
   "execution_count": null,
   "metadata": {
    "collapsed": true
   },
   "outputs": [],
   "source": []
  },
  {
   "cell_type": "code",
   "execution_count": null,
   "metadata": {
    "collapsed": true
   },
   "outputs": [],
   "source": []
  },
  {
   "cell_type": "code",
   "execution_count": null,
   "metadata": {
    "collapsed": true
   },
   "outputs": [],
   "source": []
  },
  {
   "cell_type": "code",
   "execution_count": null,
   "metadata": {
    "collapsed": true
   },
   "outputs": [],
   "source": []
  },
  {
   "cell_type": "code",
   "execution_count": null,
   "metadata": {
    "collapsed": true
   },
   "outputs": [],
   "source": []
  },
  {
   "cell_type": "code",
   "execution_count": 47,
   "metadata": {
    "collapsed": false
   },
   "outputs": [],
   "source": [
    "z_uni = 0.5 + fac * np.exp(-z**2 / 2.) * (z + z**3/3)"
   ]
  },
  {
   "cell_type": "code",
   "execution_count": 48,
   "metadata": {
    "collapsed": false
   },
   "outputs": [
    {
     "data": {
      "image/png": "[encoded data removed]",
      "text/plain": [
       "<matplotlib.figure.Figure at 0x7f888b1623d0>"
      ]
     },
     "metadata": {},
     "output_type": "display_data"
    }
   ],
   "source": [
    "z_uni = np.tanh(z_uni)\n",
    "hist = plt.hist(z_uni.flatten(), bins=100)"
   ]
  },
  {
   "cell_type": "code",
   "execution_count": null,
   "metadata": {
    "collapsed": true
   },
   "outputs": [],
   "source": []
  },
  {
   "cell_type": "code",
   "execution_count": null,
   "metadata": {
    "collapsed": true
   },
   "outputs": [],
   "source": []
  },
  {
   "cell_type": "code",
   "execution_count": 49,
   "metadata": {
    "collapsed": true
   },
   "outputs": [],
   "source": [
    "z = np.arange(-5, 5, 0.1)"
   ]
  },
  {
   "cell_type": "code",
   "execution_count": 50,
   "metadata": {
    "collapsed": true
   },
   "outputs": [],
   "source": [
    "z_uni = 0.5 + fac * np.exp(-z**2 / 2.) * (z + z**3/3)"
   ]
  },
  {
   "cell_type": "code",
   "execution_count": 51,
   "metadata": {
    "collapsed": false
   },
   "outputs": [
    {
     "data": {
      "text/plain": [
       "[<matplotlib.lines.Line2D at 0x7f888c2405d0>]"
      ]
     },
     "execution_count": 51,
     "metadata": {},
     "output_type": "execute_result"
    },
    {
     "data": {
      "image/png": "[encoded data removed]",
      "text/plain": [
       "<matplotlib.figure.Figure at 0x7f888b07d750>"
      ]
     },
     "metadata": {},
     "output_type": "display_data"
    }
   ],
   "source": [
    "plt.plot(z, z_uni)"
   ]
  },
  {
   "cell_type": "code",
   "execution_count": null,
   "metadata": {
    "collapsed": true
   },
   "outputs": [],
   "source": []
  },
  {
   "cell_type": "code",
   "execution_count": null,
   "metadata": {
    "collapsed": true
   },
   "outputs": [],
   "source": []
  },
  {
   "cell_type": "code",
   "execution_count": null,
   "metadata": {
    "collapsed": true
   },
   "outputs": [],
   "source": []
  },
  {
   "cell_type": "code",
   "execution_count": 16,
   "metadata": {
    "collapsed": true
   },
   "outputs": [],
   "source": [
    "x = np.arange(-2, 2, 0.1)"
   ]
  },
  {
   "cell_type": "code",
   "execution_count": 19,
   "metadata": {
    "collapsed": true
   },
   "outputs": [],
   "source": [
    "sig = 1"
   ]
  },
  {
   "cell_type": "code",
   "execution_count": 20,
   "metadata": {
    "collapsed": true
   },
   "outputs": [],
   "source": [
    "g = (1. / (2*np.pi*sig**2)) * np.exp(- x**2 / (2 * sig**2))"
   ]
  },
  {
   "cell_type": "code",
   "execution_count": 21,
   "metadata": {
    "collapsed": false
   },
   "outputs": [
    {
     "data": {
      "text/plain": [
       "[<matplotlib.lines.Line2D at 0x7f888c0d0410>]"
      ]
     },
     "execution_count": 21,
     "metadata": {},
     "output_type": "execute_result"
    },
    {
     "data": {
      "image/png": "[encoded data removed]",
      "text/plain": [
       "<matplotlib.figure.Figure at 0x7f888c19a850>"
      ]
     },
     "metadata": {},
     "output_type": "display_data"
    }
   ],
   "source": [
    "plt.plot(x, g)"
   ]
  },
  {
   "cell_type": "code",
   "execution_count": null,
   "metadata": {
    "collapsed": true
   },
   "outputs": [],
   "source": []
  },
  {
   "cell_type": "code",
   "execution_count": 22,
   "metadata": {
    "collapsed": false
   },
   "outputs": [
    {
     "ename": "ImportError",
     "evalue": "No module named ld_gan",
     "output_type": "error",
     "traceback": [
      "\u001b[1;31m---------------------------------------------------------------------------\u001b[0m",
      "\u001b[1;31mImportError\u001b[0m                               Traceback (most recent call last)",
      "\u001b[1;32m<ipython-input-22-c84db1290cce>\u001b[0m in \u001b[0;36m<module>\u001b[1;34m()\u001b[0m\n\u001b[1;32m----> 1\u001b[1;33m \u001b[1;32mimport\u001b[0m \u001b[0mld_gan\u001b[0m\u001b[1;33m\u001b[0m\u001b[0m\n\u001b[0m",
      "\u001b[1;31mImportError\u001b[0m: No module named ld_gan"
     ]
    }
   ],
   "source": [
    "import ld_gan"
   ]
  },
  {
   "cell_type": "code",
   "execution_count": null,
   "metadata": {
    "collapsed": true
   },
   "outputs": [],
   "source": [
    "ld_gan.models.gen.Gen"
   ]
  }
 ],
 "metadata": {
  "kernelspec": {
   "display_name": "Python 2",
   "language": "python",
   "name": "python2"
  },
  "language_info": {
   "codemirror_mode": {
    "name": "ipython",
    "version": 2
   },
   "file_extension": ".py",
   "mimetype": "text/x-python",
   "name": "python",
   "nbconvert_exporter": "python",
   "pygments_lexer": "ipython2",
   "version": "2.7.6"
  }
 },
 "nbformat": 4,
 "nbformat_minor": 0
}
