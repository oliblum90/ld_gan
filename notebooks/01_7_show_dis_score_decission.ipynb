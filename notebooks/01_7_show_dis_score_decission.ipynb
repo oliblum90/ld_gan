{
 "cells": [
  {
   "cell_type": "code",
   "execution_count": 1,
   "metadata": {
    "collapsed": false
   },
   "outputs": [],
   "source": [
    "%load_ext autoreload\n",
    "%autoreload 2\n",
    "\n",
    "import os\n",
    "os.chdir(\"../\")\n",
    "\n",
    "%matplotlib inline\n",
    "import matplotlib.pylab as plt\n",
    "# pylab.rcParams['figure.figsize'] = (10, 5)"
   ]
  },
  {
   "cell_type": "code",
   "execution_count": 2,
   "metadata": {
    "collapsed": false
   },
   "outputs": [],
   "source": [
    "from ld_gan import visualize\n",
    "import numpy as np\n",
    "import ld_gan\n",
    "import sklearn"
   ]
  },
  {
   "cell_type": "markdown",
   "metadata": {},
   "source": [
    "# load data"
   ]
  },
  {
   "cell_type": "code",
   "execution_count": 3,
   "metadata": {
    "collapsed": false
   },
   "outputs": [
    {
     "name": "stderr",
     "output_type": "stream",
     "text": [
      "100%|██████████| 102/102 [00:10<00:00, 12.15it/s]"
     ]
    },
    {
     "name": "stdout",
     "output_type": "stream",
     "text": [
      "load data from '/export/home/oblum/projects/ls_gan/data/flowers_102/jpg_128'\n"
     ]
    },
    {
     "name": "stderr",
     "output_type": "stream",
     "text": [
      "\n"
     ]
    }
   ],
   "source": [
    "X, Y = ld_gan.data_proc.data_loader.load_data(1, verbose=1, resize = 64)"
   ]
  },
  {
   "cell_type": "code",
   "execution_count": 4,
   "metadata": {
    "collapsed": false
   },
   "outputs": [],
   "source": [
    "yc = np.argmax(Y, axis = 1)"
   ]
  },
  {
   "cell_type": "code",
   "execution_count": 5,
   "metadata": {
    "collapsed": true
   },
   "outputs": [],
   "source": [
    "from ld_gan.train_ops.triplet_enc import get_enc_space_suggestion, get_dis_score_from_z"
   ]
  },
  {
   "cell_type": "code",
   "execution_count": 36,
   "metadata": {
    "collapsed": false
   },
   "outputs": [
    {
     "name": "stdout",
     "output_type": "stream",
     "text": [
      "loaded model 'projects/xf_11111_s10l.py/model/e_0050.pth'\n",
      "loaded model 'projects/xf_11111_s10l.py/model/g_0050.pth'\n",
      "loaded model 'projects/xf_11111_s10l.py/model/d_0050.pth'\n"
     ]
    }
   ],
   "source": [
    "project = \"xf_11111_s10l.py\"\n",
    "epoch = 50 \n",
    "\n",
    "enc = ld_gan.utils.model_handler.load_model(project, epoch, 'enc')\n",
    "gen = ld_gan.utils.model_handler.load_model(project, epoch, 'gen')\n",
    "dis = ld_gan.utils.model_handler.load_model(project, epoch, 'dis')"
   ]
  },
  {
   "cell_type": "code",
   "execution_count": 37,
   "metadata": {
    "collapsed": false
   },
   "outputs": [],
   "source": [
    "z_all = ld_gan.utils.model_handler.apply_model(enc, X, 1000)"
   ]
  },
  {
   "cell_type": "code",
   "execution_count": 38,
   "metadata": {
    "collapsed": true
   },
   "outputs": [],
   "source": [
    "z_anc = np.array([z_all[14]])"
   ]
  },
  {
   "cell_type": "code",
   "execution_count": 39,
   "metadata": {
    "collapsed": false,
    "scrolled": false
   },
   "outputs": [],
   "source": [
    "ds = get_dis_score_from_z(z_anc, z_all[:10], gen, dis)"
   ]
  },
  {
   "cell_type": "code",
   "execution_count": 40,
   "metadata": {
    "collapsed": false
   },
   "outputs": [
    {
     "data": {
      "text/plain": [
       "<Container object of 7 artists>"
      ]
     },
     "execution_count": 40,
     "metadata": {},
     "output_type": "execute_result"
    },
    {
     "data": {
      "image/png": "[encoded data removed]",
      "text/plain": [
       "<matplotlib.figure.Figure at 0x7f137cd47d50>"
      ]
     },
     "metadata": {},
     "output_type": "display_data"
    }
   ],
   "source": [
    "plt.bar(range(len(ds)), ds)"
   ]
  },
  {
   "cell_type": "code",
   "execution_count": 34,
   "metadata": {
    "collapsed": false
   },
   "outputs": [
    {
     "ename": "IndexError",
     "evalue": "too many indices for array",
     "output_type": "error",
     "traceback": [
      "\u001b[1;31m---------------------------------------------------------------------------\u001b[0m",
      "\u001b[1;31mIndexError\u001b[0m                                Traceback (most recent call last)",
      "\u001b[1;32m<ipython-input-34-5d4e30d7931f>\u001b[0m in \u001b[0;36m<module>\u001b[1;34m()\u001b[0m\n\u001b[1;32m----> 1\u001b[1;33m \u001b[0ma\u001b[0m \u001b[1;33m=\u001b[0m \u001b[0mds\u001b[0m\u001b[1;33m[\u001b[0m\u001b[1;33m:\u001b[0m\u001b[1;33m,\u001b[0m\u001b[1;36m0\u001b[0m\u001b[1;33m]\u001b[0m\u001b[1;33m\u001b[0m\u001b[0m\n\u001b[0m",
      "\u001b[1;31mIndexError\u001b[0m: too many indices for array"
     ]
    }
   ],
   "source": [
    "a = ds[:,0]"
   ]
  },
  {
   "cell_type": "code",
   "execution_count": 35,
   "metadata": {
    "collapsed": false
   },
   "outputs": [
    {
     "data": {
      "text/plain": [
       "[<matplotlib.lines.Line2D at 0x7f137ce45710>]"
      ]
     },
     "execution_count": 35,
     "metadata": {},
     "output_type": "execute_result"
    },
    {
     "data": {
      "image/png": "[encoded data removed]",
      "text/plain": [
       "<matplotlib.figure.Figure at 0x7f137e268a90>"
      ]
     },
     "metadata": {},
     "output_type": "display_data"
    }
   ],
   "source": [
    "plt.plot(range(len(a)), a)"
   ]
  },
  {
   "cell_type": "code",
   "execution_count": 28,
   "metadata": {
    "collapsed": false
   },
   "outputs": [
    {
     "data": {
      "text/plain": [
       "array([ 0.17295268,  0.17295285,  0.17295277,  0.17295268,  0.17295276,\n",
       "        0.17295264,  0.17295276], dtype=float32)"
      ]
     },
     "execution_count": 28,
     "metadata": {},
     "output_type": "execute_result"
    }
   ],
   "source": [
    "a"
   ]
  },
  {
   "cell_type": "code",
   "execution_count": null,
   "metadata": {
    "collapsed": true
   },
   "outputs": [],
   "source": []
  },
  {
   "cell_type": "markdown",
   "metadata": {},
   "source": [
    "# show"
   ]
  },
  {
   "cell_type": "code",
   "execution_count": null,
   "metadata": {
    "collapsed": true
   },
   "outputs": [],
   "source": [
    "def show_dis_score_decission(project, \n",
    "                             epoch,\n",
    "                             imgs, \n",
    "                             anchor_img_idx=None, \n",
    "                             n_pos = 10,\n",
    "                             n_neg = 10,\n",
    "                             quantile_pos = 0.05, \n",
    "                             quantile_neg = 0.3\n",
    "                             n_neighbors=5):\n",
    "\n",
    "    from ld_gan.train_ops.triplet_enc import get_enc_space_suggestion\n",
    "    \n",
    "    enc = ld_gan.utils.model_handler.load_model(project, epoch, 'enc')\n",
    "    gen = ld_gan.utils.model_handler.load_model(project, epoch, 'gen')\n",
    "    dis = ld_gan.utils.model_handler.load_model(project, epoch, 'dis')\n",
    "    \n",
    "    z_all = ld_gan.utils.model_handler.apply_model(enc, imgs, 1000)\n",
    "    z_anc = z_all[anchor_img_idx]\n",
    "    \n",
    "    idxs_pos, idxs_neg = get_enc_space_suggestion(z_anc, \n",
    "                                                  z_all, \n",
    "                                                  n_pos = n_pos,\n",
    "                                                  n_neg = n_neg,\n",
    "                                                  quantile_pos = quantile_pos, \n",
    "                                                  quantile_neg = quantile_neg)\n",
    "    \n",
    "    \n",
    "    \n",
    "    \n",
    "    \n",
    "    path = os.path.join(\"projects\", project, \"model\")\n",
    "    epochs = sorted([int(g[2:6]) for g in os.listdir(path) if \"g_\" in g])\n",
    "    \n",
    "    if base_img_idx is None:\n",
    "        base_img_idx = np.random.randint(0, len(imgs)-1, 1)\n",
    "    else:\n",
    "        base_img_idx = [base_img_idx]\n",
    "        \n",
    "    base_img = imgs[base_img_idx]\n",
    "    disp(base_img, figsize=(6,2))\n",
    "    \n",
    "    for epoch in epochs:\n",
    "        \n",
    "        enc = ld_gan.utils.model_handler.load_model(project, epoch, 'enc')\n",
    "        z_all = ld_gan.utils.model_handler.apply_model(enc, imgs, 1000)\n",
    "        z_base = z_all[base_img_idx]\n",
    "\n",
    "        dists = sklearn.metrics.pairwise_distances(z_all, z_base)\n",
    "        dists = np.squeeze(dists)\n",
    "        idxs = np.argsort(dists)[1:n_neighbors+1]\n",
    "        \n",
    "        nn_imgs = imgs[idxs]\n",
    "        \n",
    "        disp(nn_imgs, figsize=(6,2))"
   ]
  }
 ],
 "metadata": {
  "kernelspec": {
   "display_name": "Python 2",
   "language": "python",
   "name": "python2"
  },
  "language_info": {
   "codemirror_mode": {
    "name": "ipython",
    "version": 2
   },
   "file_extension": ".py",
   "mimetype": "text/x-python",
   "name": "python",
   "nbconvert_exporter": "python",
   "pygments_lexer": "ipython2",
   "version": "2.7.6"
  }
 },
 "nbformat": 4,
 "nbformat_minor": 0
}
