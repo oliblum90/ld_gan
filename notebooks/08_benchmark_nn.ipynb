{
 "cells": [
  {
   "cell_type": "code",
   "execution_count": 1,
   "metadata": {
    "collapsed": false
   },
   "outputs": [],
   "source": [
    "%load_ext autoreload\n",
    "%autoreload 2\n",
    "\n",
    "import os\n",
    "os.chdir(\"../\")\n",
    "\n",
    "%matplotlib notebook\n",
    "import matplotlib.pylab as plt\n",
    "# pylab.rcParams['figure.figsize'] = (10, 5)"
   ]
  },
  {
   "cell_type": "code",
   "execution_count": 2,
   "metadata": {
    "collapsed": false
   },
   "outputs": [],
   "source": [
    "import ld_gan\n",
    "from ld_gan import visualize\n",
    "import numpy as np\n",
    "from time import time\n",
    "from sklearn.metrics.pairwise import pairwise_distances\n",
    "import scipy\n",
    "from sklearn.neighbors import NearestNeighbors as NN\n",
    "import torch \n",
    "from torch.autograd import Variable\n",
    "import torch.nn.functional as F"
   ]
  },
  {
   "cell_type": "code",
   "execution_count": 3,
   "metadata": {
    "collapsed": true
   },
   "outputs": [],
   "source": [
    "N_NEIGHBORS = 5\n",
    "#N_SAMPLES_ALL = 8500 \n",
    "N_SAMPLES_ALL = 202599 \n",
    "N_SAMPLES_BATCH = 256\n",
    "N_FEATURES = 256"
   ]
  },
  {
   "cell_type": "markdown",
   "metadata": {},
   "source": [
    "# get data"
   ]
  },
  {
   "cell_type": "code",
   "execution_count": 4,
   "metadata": {
    "collapsed": false
   },
   "outputs": [],
   "source": [
    "z_all = np.random.rand(N_SAMPLES_ALL, N_FEATURES)\n",
    "batch_idxs = np.random.randint(0, len(z_all), 256)\n",
    "z_batch = z_all[batch_idxs]"
   ]
  },
  {
   "cell_type": "markdown",
   "metadata": {
    "collapsed": true
   },
   "source": [
    "# sklearn: pairwise distance"
   ]
  },
  {
   "cell_type": "code",
   "execution_count": 5,
   "metadata": {
    "collapsed": false
   },
   "outputs": [
    {
     "name": "stdout",
     "output_type": "stream",
     "text": [
      "7.56544494629\n"
     ]
    }
   ],
   "source": [
    "t = time()\n",
    "dists = pairwise_distances(z_batch, z_all, metric='cosine')\n",
    "idxs0 = np.argsort(dists, axis=1)[:, :N_NEIGHBORS]\n",
    "print time() - t"
   ]
  },
  {
   "cell_type": "markdown",
   "metadata": {},
   "source": [
    "# sklearn: NearestNeighbors"
   ]
  },
  {
   "cell_type": "code",
   "execution_count": 6,
   "metadata": {
    "collapsed": false
   },
   "outputs": [
    {
     "name": "stdout",
     "output_type": "stream",
     "text": [
      "3.1026160717\n"
     ]
    }
   ],
   "source": [
    "t = time()\n",
    "dists, idxs1 = NN(n_neighbors = N_NEIGHBORS, metric='cosine').fit(z_all).kneighbors(z_batch)\n",
    "print time() - t"
   ]
  },
  {
   "cell_type": "markdown",
   "metadata": {},
   "source": [
    "# numpy: dot"
   ]
  },
  {
   "cell_type": "code",
   "execution_count": 7,
   "metadata": {
    "collapsed": false
   },
   "outputs": [
    {
     "name": "stdout",
     "output_type": "stream",
     "text": [
      "7.25593304634\n"
     ]
    }
   ],
   "source": [
    "t = time()\n",
    "z_all_n = z_all/np.linalg.norm(z_all, axis=1).reshape(-1,1)\n",
    "z_batch_n = z_batch/np.linalg.norm(z_batch, axis=1)\n",
    "dists = z_batch_n.dot(z_all_n.transpose())\n",
    "idxs2 = np.argsort(dists, axis=1)[:, -N_NEIGHBORS:][:,::-1]\n",
    "print time() - t"
   ]
  },
  {
   "cell_type": "markdown",
   "metadata": {},
   "source": [
    "# pytorch"
   ]
  },
  {
   "cell_type": "code",
   "execution_count": 37,
   "metadata": {
    "collapsed": false
   },
   "outputs": [
    {
     "name": "stdout",
     "output_type": "stream",
     "text": [
      "0.0108358860016\n"
     ]
    }
   ],
   "source": [
    "z_all_t = Variable(torch.from_numpy(z_all).cuda())\n",
    "z_batch_t = Variable(torch.from_numpy(z_batch).cuda())\n",
    "\n",
    "t = time()\n",
    "z_all_n = F.normalize(z_all_t, dim=1)\n",
    "z_batch_n = F.normalize(z_batch_t, dim=1)\n",
    "dists = torch.mm(z_batch_n, z_all_n.permute(1, 0))\n",
    "elem = dists.size(1) - N_NEIGHBORS\n",
    "_, idxs3 = torch.sort(dists, 1)\n",
    "idxs3 = idxs3[:, -N_NEIGHBORS:]\n",
    "print time() - t"
   ]
  },
  {
   "cell_type": "markdown",
   "metadata": {},
   "source": [
    "# try out function"
   ]
  },
  {
   "cell_type": "code",
   "execution_count": 45,
   "metadata": {
    "collapsed": true
   },
   "outputs": [],
   "source": [
    "z_all = np.random.rand(N_SAMPLES_ALL, N_FEATURES)\n",
    "batch_idxs = np.random.randint(0, len(z_all), 256)\n",
    "z_batch = z_all[batch_idxs]\n",
    "z_all_t = Variable(torch.from_numpy(z_all).cuda())\n",
    "z_batch_t = Variable(torch.from_numpy(z_batch).cuda())"
   ]
  },
  {
   "cell_type": "code",
   "execution_count": 43,
   "metadata": {
    "collapsed": false
   },
   "outputs": [
    {
     "data": {
      "text/plain": [
       "0.9634730815887451"
      ]
     },
     "execution_count": 43,
     "metadata": {},
     "output_type": "execute_result"
    }
   ],
   "source": [
    "# from array\n",
    "t = time()\n",
    "ld_gan.utils.nearest_neighbors.nn(z_all, z_batch)\n",
    "time() - t"
   ]
  },
  {
   "cell_type": "code",
   "execution_count": 46,
   "metadata": {
    "collapsed": false
   },
   "outputs": [
    {
     "data": {
      "text/plain": [
       "0.0019021034240722656"
      ]
     },
     "execution_count": 46,
     "metadata": {},
     "output_type": "execute_result"
    }
   ],
   "source": [
    "# from tensor\n",
    "t = time()\n",
    "ld_gan.utils.nearest_neighbors.nn(z_all_t, z_batch_t)\n",
    "time() - t"
   ]
  },
  {
   "cell_type": "code",
   "execution_count": null,
   "metadata": {
    "collapsed": true
   },
   "outputs": [],
   "source": []
  }
 ],
 "metadata": {
  "kernelspec": {
   "display_name": "Python 2",
   "language": "python",
   "name": "python2"
  },
  "language_info": {
   "codemirror_mode": {
    "name": "ipython",
    "version": 2
   },
   "file_extension": ".py",
   "mimetype": "text/x-python",
   "name": "python",
   "nbconvert_exporter": "python",
   "pygments_lexer": "ipython2",
   "version": "2.7.6"
  }
 },
 "nbformat": 4,
 "nbformat_minor": 0
}
