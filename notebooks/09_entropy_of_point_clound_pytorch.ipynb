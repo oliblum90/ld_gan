{
 "cells": [
  {
   "cell_type": "code",
   "execution_count": 1,
   "metadata": {
    "collapsed": false
   },
   "outputs": [],
   "source": [
    "%load_ext autoreload\n",
    "%autoreload 2\n",
    "\n",
    "import os\n",
    "os.chdir(\"../\")\n",
    "\n",
    "%matplotlib notebook\n",
    "import matplotlib.pylab as plt\n",
    "# pylab.rcParams['figure.figsize'] = (10, 5)"
   ]
  },
  {
   "cell_type": "code",
   "execution_count": 2,
   "metadata": {
    "collapsed": false
   },
   "outputs": [
    {
     "name": "stderr",
     "output_type": "stream",
     "text": [
      "/net/hciserver03/storage/oblum/venvs/compvisgpu02/lib/python2.7/site-packages/torch/serialization.py:286: SourceChangeWarning: source code of class 'ld_gan.models.enc.Enc' has changed. you can retrieve the original source code by accessing the object's source attribute or set `torch.nn.Module.dump_patches = True` and use the patch tool to revert the changes.\n",
      "  warnings.warn(msg, SourceChangeWarning)\n",
      "100%|██████████| 102/102 [00:47<00:00,  4.31it/s]"
     ]
    },
    {
     "name": "stdout",
     "output_type": "stream",
     "text": [
      "loaded model 'projects/xf_11111.py/model/e_0400.pth'\n",
      "loaded model 'projects/xf_11111_kde10.py/model/e_0400.pth'\n",
      "load data from '/export/home/oblum/projects/ld_gan/data/flowers_102/jpg_256'\n"
     ]
    },
    {
     "name": "stderr",
     "output_type": "stream",
     "text": [
      "\n"
     ]
    },
    {
     "ename": "NameError",
     "evalue": "name 'tourch' is not defined",
     "output_type": "error",
     "traceback": [
      "\u001b[1;31m---------------------------------------------------------------------------\u001b[0m",
      "\u001b[1;31mNameError\u001b[0m                                 Traceback (most recent call last)",
      "\u001b[1;32m<ipython-input-2-1e16a0647a57>\u001b[0m in \u001b[0;36m<module>\u001b[1;34m()\u001b[0m\n\u001b[0;32m     25\u001b[0m \u001b[0mZ1\u001b[0m\u001b[1;33m,\u001b[0m \u001b[0mZ2\u001b[0m\u001b[1;33m,\u001b[0m \u001b[0mz1\u001b[0m\u001b[1;33m,\u001b[0m \u001b[0mz2\u001b[0m \u001b[1;33m=\u001b[0m \u001b[0mld_gan\u001b[0m\u001b[1;33m.\u001b[0m\u001b[0mdata_proc\u001b[0m\u001b[1;33m.\u001b[0m\u001b[0mtransform\u001b[0m\u001b[1;33m(\u001b[0m\u001b[0mZ1\u001b[0m\u001b[1;33m,\u001b[0m \u001b[0mZ2\u001b[0m\u001b[1;33m,\u001b[0m \u001b[0mz1\u001b[0m\u001b[1;33m,\u001b[0m \u001b[0mz2\u001b[0m\u001b[1;33m)\u001b[0m\u001b[1;33m\u001b[0m\u001b[0m\n\u001b[0;32m     26\u001b[0m \u001b[1;33m\u001b[0m\u001b[0m\n\u001b[1;32m---> 27\u001b[1;33m \u001b[0mZ1\u001b[0m \u001b[1;33m=\u001b[0m \u001b[0mtourch\u001b[0m\u001b[1;33m.\u001b[0m\u001b[0msqueeze\u001b[0m\u001b[1;33m(\u001b[0m\u001b[0mZ1\u001b[0m\u001b[1;33m)\u001b[0m\u001b[1;33m\u001b[0m\u001b[0m\n\u001b[0m\u001b[0;32m     28\u001b[0m \u001b[0mZ2\u001b[0m \u001b[1;33m=\u001b[0m \u001b[0mtourch\u001b[0m\u001b[1;33m.\u001b[0m\u001b[0msqueeze\u001b[0m\u001b[1;33m(\u001b[0m\u001b[0mZ1\u001b[0m\u001b[1;33m)\u001b[0m\u001b[1;33m\u001b[0m\u001b[0m\n\u001b[0;32m     29\u001b[0m \u001b[0mz1\u001b[0m \u001b[1;33m=\u001b[0m \u001b[0mtourch\u001b[0m\u001b[1;33m.\u001b[0m\u001b[0msqueeze\u001b[0m\u001b[1;33m(\u001b[0m\u001b[0mz1\u001b[0m\u001b[1;33m)\u001b[0m\u001b[1;33m\u001b[0m\u001b[0m\n",
      "\u001b[1;31mNameError\u001b[0m: name 'tourch' is not defined"
     ]
    }
   ],
   "source": [
    "import ld_gan\n",
    "import numpy as np\n",
    "from ld_gan.train_ops.entropy_enc import entropy_loss\n",
    "import torch\n",
    "\n",
    "# set parameters\n",
    "batch_size = 256\n",
    "\n",
    "# load models\n",
    "project, epoch = \"xf_11111.py\", 400\n",
    "enc1 = ld_gan.utils.model_handler.load_model(project, epoch, \"enc\")\n",
    "project, epoch = \"xf_11111_kde10.py\", 400\n",
    "enc2 = ld_gan.utils.model_handler.load_model(project, epoch, \"enc\")\n",
    "\n",
    "# load data\n",
    "X, Y = ld_gan.data_proc.data_loader.load_data(1, verbose=1, resize = 64)\n",
    "Y = np.argmax(Y, axis = 1)\n",
    "Z1 = ld_gan.utils.model_handler.apply_model(enc1, X, batch_size=100)\n",
    "Z2 = ld_gan.utils.model_handler.apply_model(enc2, X, batch_size=100)\n",
    "\n",
    "batch_idxs = np.random.randint(0, len(Y), batch_size)\n",
    "z1 = Z1[batch_idxs]\n",
    "z2 = Z2[batch_idxs]\n",
    "\n",
    "Z1, Z2, z1, z2 = ld_gan.data_proc.transform(Z1, Z2, z1, z2)"
   ]
  },
  {
   "cell_type": "code",
   "execution_count": 5,
   "metadata": {
    "collapsed": false
   },
   "outputs": [
    {
     "name": "stdout",
     "output_type": "stream",
     "text": [
      "Variable containing:\n",
      "1.00000e-04 *\n",
      "  1.2283\n",
      "[torch.cuda.FloatTensor of size 1 (GPU 0)]\n",
      "\n",
      "Variable containing:\n",
      "1.00000e-13 *\n",
      "  7.7807\n",
      "[torch.cuda.FloatTensor of size 1 (GPU 0)]\n",
      "\n"
     ]
    }
   ],
   "source": [
    "Z1 = torch.squeeze(Z1)\n",
    "Z2 = torch.squeeze(Z1)\n",
    "z1 = torch.squeeze(z1)\n",
    "z2 = torch.squeeze(z2)\n",
    "\n",
    "l1 = entropy_loss(Z1, z1)\n",
    "l2 = entropy_loss(Z2, z2)\n",
    "\n",
    "print l1\n",
    "print l2"
   ]
  },
  {
   "cell_type": "code",
   "execution_count": 7,
   "metadata": {
    "collapsed": false
   },
   "outputs": [],
   "source": [
    "d = l1 - l2"
   ]
  },
  {
   "cell_type": "code",
   "execution_count": 10,
   "metadata": {
    "collapsed": false
   },
   "outputs": [
    {
     "data": {
      "text/plain": [
       "0.00012283128"
      ]
     },
     "execution_count": 10,
     "metadata": {},
     "output_type": "execute_result"
    }
   ],
   "source": [
    "d.data.cpu().numpy()[0]"
   ]
  },
  {
   "cell_type": "code",
   "execution_count": null,
   "metadata": {
    "collapsed": true
   },
   "outputs": [],
   "source": []
  },
  {
   "cell_type": "code",
   "execution_count": null,
   "metadata": {
    "collapsed": true
   },
   "outputs": [],
   "source": []
  }
 ],
 "metadata": {
  "kernelspec": {
   "display_name": "Python 2",
   "language": "python",
   "name": "python2"
  },
  "language_info": {
   "codemirror_mode": {
    "name": "ipython",
    "version": 2
   },
   "file_extension": ".py",
   "mimetype": "text/x-python",
   "name": "python",
   "nbconvert_exporter": "python",
   "pygments_lexer": "ipython2",
   "version": "2.7.6"
  }
 },
 "nbformat": 4,
 "nbformat_minor": 0
}
